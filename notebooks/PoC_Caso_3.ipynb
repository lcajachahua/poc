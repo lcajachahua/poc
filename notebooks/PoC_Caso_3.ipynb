{
 "cells": [
  {
   "cell_type": "markdown",
   "metadata": {
    "id": "DOGa617qS5Ly"
   },
   "source": [
    "<header style=\"padding:10px;background:#f9f9f9;border-top:3px solid #00b2b1\"><img id=\"Teradata-logo\" src=\"https://www.teradata.com/Teradata/Images/Rebrand/Teradata_logo-two_color.png\" alt=\"Teradata\" width=\"220\" align=\"right\" />\n",
    "  \n",
    "# Capacidades de Analítica Avanzada en la Base de Datos \n",
    "# (In-Database)\n",
    "\n",
    "## Caso 3: Clasificación de Textos\n",
    "    \n",
    "![Slide](images/Diapositiva4.PNG)\n",
    "\n",
    "![Slide](images/Diapositiva8.PNG)\n",
    "\n",
    "![Slide](images/Diapositiva5.PNG)\n",
    "\n",
    "![Slide](images/Diapositiva6.PNG)\n"
   ]
  },
  {
   "cell_type": "markdown",
   "metadata": {
    "id": "6pJ7A_03QMSJ"
   },
   "source": [
    "## **Instalar las librerías**"
   ]
  },
  {
   "cell_type": "code",
   "execution_count": null,
   "metadata": {
    "id": "sUu4EsJ0b9y2"
   },
   "outputs": [],
   "source": [
    "#!pip install teradataml==17.20.0.4 kds==0.1.3 lightgbm==4.0.0 nyoka==4.3.0"
   ]
  },
  {
   "cell_type": "markdown",
   "metadata": {
    "id": "2uKqxuVvS5MC"
   },
   "source": [
    "## **Carga de Modulos**"
   ]
  },
  {
   "cell_type": "code",
   "execution_count": null,
   "metadata": {},
   "outputs": [],
   "source": [
    "import pandas as pd\n",
    "import numpy as np\n",
    "import getpass as gp\n",
    "import plotly.express as px\n",
    "from sklearn.metrics import roc_auc_score, classification_report, confusion_matrix, accuracy_score\n",
    "from sklearn.model_selection import train_test_split\n",
    "import matplotlib.pyplot as plt\n",
    "from matplotlib import style\n",
    "import seaborn as sns\n",
    "import kds\n",
    "\n",
    "from teradataml import *\n",
    "from teradataml.analytics.valib import *\n",
    "configure.val_install_location = \"val\""
   ]
  },
  {
   "cell_type": "code",
   "execution_count": null,
   "metadata": {},
   "outputs": [],
   "source": [
    "con=create_context(host = \"20.172.147.24\", username=\"pocuser\", password = gp.getpass())"
   ]
  },
  {
   "cell_type": "markdown",
   "metadata": {
    "id": "UnPnopgUS5MN"
   },
   "source": [
    "![Slide](images/Diapositiva10.PNG)\n",
    "\n",
    "## **Lectura Inicial de base de datos**"
   ]
  },
  {
   "cell_type": "code",
   "execution_count": null,
   "metadata": {},
   "outputs": [],
   "source": [
    "# Leemos la data de desarrollo de modelos\n",
    "tdf = DataFrame(\"caso3_data_texto\")"
   ]
  },
  {
   "cell_type": "code",
   "execution_count": null,
   "metadata": {},
   "outputs": [],
   "source": [
    "# Primeros Registros\n",
    "tdf.head(10)"
   ]
  },
  {
   "cell_type": "code",
   "execution_count": null,
   "metadata": {},
   "outputs": [],
   "source": [
    "# Vemos la dimensionalidad\n",
    "tdf.shape"
   ]
  },
  {
   "cell_type": "markdown",
   "metadata": {
    "id": "z-xwHgOuS5M8"
   },
   "source": [
    "![Slide](images/Diapositiva6.PNG)\n",
    "\n",
    "## **Exploración de los datos**"
   ]
  },
  {
   "cell_type": "code",
   "execution_count": null,
   "metadata": {},
   "outputs": [],
   "source": [
    "# Estadísticas Descriptivas por Columna\n",
    "objcs = ColumnSummary(data=tdf,target_columns=['detalle', 'target'])\n",
    "objcs.result.head()"
   ]
  },
  {
   "cell_type": "code",
   "execution_count": null,
   "metadata": {},
   "outputs": [],
   "source": [
    "objv = valib.Values(data=tdf, columns=['detalle', 'target'])\n",
    "objv.result"
   ]
  },
  {
   "cell_type": "code",
   "execution_count": null,
   "metadata": {},
   "outputs": [],
   "source": [
    "# Agregando show_query() al final, podemos ver que efectivamente, los códigos se traducen automáticamente a lenguaje SQL antes de ejecutarse\n",
    "objcs.result.show_query()"
   ]
  },
  {
   "cell_type": "code",
   "execution_count": null,
   "metadata": {},
   "outputs": [],
   "source": [
    "## Calculando la proporción del Target\n",
    "tResp = valib.Frequency(data=tdf, columns=\"target\")\n",
    "tResp.result.head(19)"
   ]
  },
  {
   "cell_type": "code",
   "execution_count": null,
   "metadata": {},
   "outputs": [],
   "source": [
    "con.execute('CREATE VIEW caso3 AS (SELECT ROW_NUMBER() OVER (ORDER BY detalle) - 1 AS doc_id, detalle, target FROM caso3_data_texto);')"
   ]
  },
  {
   "cell_type": "code",
   "execution_count": null,
   "metadata": {},
   "outputs": [],
   "source": [
    "tdf = DataFrame(\"caso3\")"
   ]
  },
  {
   "cell_type": "markdown",
   "metadata": {
    "id": "YN5ZjryQS5P4"
   },
   "source": [
    "### Particion Muestral"
   ]
  },
  {
   "cell_type": "markdown",
   "metadata": {
    "id": "HgZ_VZxOx7KT"
   },
   "source": [
    "Seleccionamos las variables más relevantes y dividimos en muestras 70% Train / 30% Test"
   ]
  },
  {
   "cell_type": "code",
   "execution_count": null,
   "metadata": {
    "id": "_Z07-KbmQMSd"
   },
   "outputs": [],
   "source": [
    "## Seleccionamos variables más relevantes y generamos una columna que divide la tabla en muestras de entrenamiento y test\n",
    "tbl_sample = tdf[['doc_id', 'detalle', 'target']].sample(frac = [0.5, 0.5])"
   ]
  },
  {
   "cell_type": "code",
   "execution_count": null,
   "metadata": {},
   "outputs": [],
   "source": [
    "## Almacenando la Muestra de Entrenamiento en la BD y generando la referencia con un DF de TeradataML\n",
    "copy_to_sql(tbl_sample[tbl_sample.sampleid == \"1\"].drop(\"sampleid\", axis = 1), schema_name=\"pocuser\", table_name=\"TrainModel\", if_exists=\"replace\")\n",
    "tbl_train = DataFrame(\"TrainModel\")\n",
    "tbl_train.shape"
   ]
  },
  {
   "cell_type": "code",
   "execution_count": null,
   "metadata": {},
   "outputs": [],
   "source": [
    "## Almacenando la Muestra de Test en la BD y generando la referencia con un DF de TeradataML\n",
    "copy_to_sql(tbl_sample[tbl_sample.sampleid == \"2\"].drop(\"sampleid\", axis = 1), schema_name=\"pocuser\", table_name=\"TestModel\", if_exists=\"replace\")\n",
    "tbl_test = DataFrame(\"TestModel\")\n",
    "tbl_test.shape"
   ]
  },
  {
   "cell_type": "code",
   "execution_count": null,
   "metadata": {},
   "outputs": [],
   "source": [
    "## Verificando que el DF hace referencia a la tabla creada en la BD\n",
    "tbl_test.show_query()"
   ]
  },
  {
   "cell_type": "code",
   "execution_count": null,
   "metadata": {},
   "outputs": [],
   "source": [
    "stopwords = DataFrame(\"stopwords\")"
   ]
  },
  {
   "cell_type": "code",
   "execution_count": null,
   "metadata": {},
   "outputs": [],
   "source": []
  },
  {
   "cell_type": "markdown",
   "metadata": {},
   "source": [
    "### Limpieza y Tokenización de Datos"
   ]
  },
  {
   "cell_type": "code",
   "execution_count": null,
   "metadata": {},
   "outputs": [],
   "source": [
    "TextParserTrain = TextParser(data=tbl_train,\n",
    "                            text_column=\"detalle\",\n",
    "                            punctuation=\"\\\"<>!#$%&[]()*+,-./:;?@\\^_`{|}~''\",\n",
    "                            object=stopwords,\n",
    "                            remove_stopwords=True,\n",
    "                            accumulate=[\"doc_id\",\"target\"])"
   ]
  },
  {
   "cell_type": "code",
   "execution_count": null,
   "metadata": {},
   "outputs": [],
   "source": [
    "TextParserTrain.result.head()"
   ]
  },
  {
   "cell_type": "code",
   "execution_count": null,
   "metadata": {},
   "outputs": [],
   "source": [
    "TextParserTrain.result.show_query()"
   ]
  },
  {
   "cell_type": "markdown",
   "metadata": {
    "id": "aHTsaQmMS5Nb"
   },
   "source": [
    "Observamos que existen correlaciones significativas entre los grupos de variables históricas"
   ]
  },
  {
   "cell_type": "markdown",
   "metadata": {},
   "source": [
    "<font color='red'/>\n",
    "\n",
    "### Entrenamiento del Modelo "
   ]
  },
  {
   "cell_type": "code",
   "execution_count": null,
   "metadata": {},
   "outputs": [],
   "source": [
    "## Función para Entrenar el Modelo de Clasificación de Texto\n",
    "NaiveBayesTextClassifierTrainer_out = NaiveBayesTextClassifierTrainer(data=TextParserTrain.result,\n",
    "                                                                     token_column=\"token\",\n",
    "                                                                     doc_id_columns = 'doc_id',\n",
    "                                                                     doc_category_column=\"target\",\n",
    "                                                                     model_type = \"MULTINOMIAL\",\n",
    "                                                                     data_partition_column = \"target\")"
   ]
  },
  {
   "cell_type": "code",
   "execution_count": 77,
   "metadata": {},
   "outputs": [
    {
     "data": {
      "text/html": [
       "<style type=\"text/css\">\n",
       "\ttable {border:ridge 5px;}\n",
       "\ttable td {border:inset 1px;}\n",
       "\ttable tr#HeaderRow {background-color:grey; color:white;}</style>\n",
       "<html><table>\n",
       "\t<tr id=\"HeaderRow\">\n",
       "\t\t<th>token</th>\n",
       "\t\t<th>category</th>\n",
       "\t\t<th>prob</th>\n",
       "\t</tr>\n",
       "\t<tr>\n",
       "\t\t<td>0</td>\n",
       "\t\t<td>Q</td>\n",
       "\t\t<td>0.004214651311580294</td>\n",
       "\t</tr>\n",
       "\t<tr>\n",
       "\t\t<td>0</td>\n",
       "\t\t<td>N</td>\n",
       "\t\t<td>0.0002232142857142857</td>\n",
       "\t</tr>\n",
       "\t<tr>\n",
       "\t\t<td>0</td>\n",
       "\t\t<td>F</td>\n",
       "\t\t<td>1.8783222825372377e-05</td>\n",
       "\t</tr>\n",
       "\t<tr>\n",
       "\t\t<td>0</td>\n",
       "\t\t<td>G</td>\n",
       "\t\t<td>0.009859836676622175</td>\n",
       "\t</tr>\n",
       "\t<tr>\n",
       "\t\t<td>0</td>\n",
       "\t\t<td>A</td>\n",
       "\t\t<td>0.0006415426350905492</td>\n",
       "\t</tr>\n",
       "\t<tr>\n",
       "\t\t<td>0</td>\n",
       "\t\t<td>H</td>\n",
       "\t\t<td>0.0003508129709282816</td>\n",
       "\t</tr>\n",
       "\t<tr>\n",
       "\t\t<td>0</td>\n",
       "\t\t<td>J</td>\n",
       "\t\t<td>2.021304549956542e-05</td>\n",
       "\t</tr>\n",
       "\t<tr>\n",
       "\t\t<td>0</td>\n",
       "\t\t<td>E</td>\n",
       "\t\t<td>0.00023009159836963667</td>\n",
       "\t</tr>\n",
       "\t<tr>\n",
       "\t\t<td>0</td>\n",
       "\t\t<td>I</td>\n",
       "\t\t<td>4.2361393520401245e-05</td>\n",
       "\t</tr>\n",
       "\t<tr>\n",
       "\t\t<td>0</td>\n",
       "\t\t<td>C</td>\n",
       "\t\t<td>0.009018491832840916</td>\n",
       "\t</tr>\n",
       "</table></html>"
      ],
      "text/plain": [
       "      category      prob\n",
       "token                   \n",
       "0            C  0.009018\n",
       "0            O  0.000509\n",
       "0            I  0.000042\n",
       "0            A  0.000642\n",
       "0            E  0.000230\n",
       "0            N  0.000223\n",
       "0            F  0.000019\n",
       "0            Q  0.004215\n",
       "0            G  0.009860\n",
       "0            J  0.000020"
      ]
     },
     "execution_count": 77,
     "metadata": {},
     "output_type": "execute_result"
    }
   ],
   "source": [
    "## Métricas estadísticas del Modelo\n",
    "NaiveBayesTextClassifierTrainer_out.result.head()"
   ]
  },
  {
   "cell_type": "code",
   "execution_count": null,
   "metadata": {},
   "outputs": [],
   "source": [
    "NaiveBayesTextClassifierTrainer_out.model_data.head()"
   ]
  },
  {
   "cell_type": "code",
   "execution_count": null,
   "metadata": {},
   "outputs": [],
   "source": [
    "TextParserTest = TextParser(data=tbl_test,\n",
    "                            text_column=\"detalle\",\n",
    "                            punctuation=\"\\\"<>!#$%&[]()*+,-./:;?@\\^_`{|}~''\",\n",
    "                            object=stopwords,\n",
    "                            remove_stopwords=True,\n",
    "                            accumulate=[\"doc_id\",\"target\"])"
   ]
  },
  {
   "cell_type": "code",
   "execution_count": null,
   "metadata": {},
   "outputs": [],
   "source": [
    "TextParserTest.result.head()"
   ]
  },
  {
   "cell_type": "markdown",
   "metadata": {},
   "source": [
    "### Validación del Modelo"
   ]
  },
  {
   "cell_type": "code",
   "execution_count": 78,
   "metadata": {},
   "outputs": [],
   "source": [
    "nbt_predict_out = NaiveBayesTextClassifierPredict(object = NaiveBayesTextClassifierTrainer_out.model_data,\n",
    "                                                      newdata = TextParserTest.result,\n",
    "                                                      input_token_column = 'token',\n",
    "                                                      doc_id_columns = 'doc_id',\n",
    "                                                      model_type = \"MULTINOMIAL\",\n",
    "                                                      model_token_column = 'token',\n",
    "                                                      model_category_column = 'category',\n",
    "                                                      model_prob_column = 'prob',\n",
    "                                                      newdata_partition_column = 'doc_id')"
   ]
  },
  {
   "cell_type": "code",
   "execution_count": 84,
   "metadata": {},
   "outputs": [
    {
     "data": {
      "text/html": [
       "<style type=\"text/css\">\n",
       "\ttable {border:ridge 5px;}\n",
       "\ttable td {border:inset 1px;}\n",
       "\ttable tr#HeaderRow {background-color:grey; color:white;}</style>\n",
       "<html><table>\n",
       "\t<tr id=\"HeaderRow\">\n",
       "\t\t<th>doc_id</th>\n",
       "\t\t<th>prediction</th>\n",
       "\t\t<th>loglik</th>\n",
       "\t</tr>\n",
       "\t<tr>\n",
       "\t\t<td>2</td>\n",
       "\t\t<td>C</td>\n",
       "\t\t<td>-59.61465124332776</td>\n",
       "\t</tr>\n",
       "\t<tr>\n",
       "\t\t<td>2</td>\n",
       "\t\t<td>A</td>\n",
       "\t\t<td>-66.72381029406976</td>\n",
       "\t</tr>\n",
       "\t<tr>\n",
       "\t\t<td>2</td>\n",
       "\t\t<td>R</td>\n",
       "\t\t<td>-86.15669951951926</td>\n",
       "\t</tr>\n",
       "\t<tr>\n",
       "\t\t<td>2</td>\n",
       "\t\t<td>F</td>\n",
       "\t\t<td>-80.84652945883724</td>\n",
       "\t</tr>\n",
       "\t<tr>\n",
       "\t\t<td>2</td>\n",
       "\t\t<td>D</td>\n",
       "\t\t<td>-85.89399479330271</td>\n",
       "\t</tr>\n",
       "\t<tr>\n",
       "\t\t<td>2</td>\n",
       "\t\t<td>E</td>\n",
       "\t\t<td>-83.10918765373131</td>\n",
       "\t</tr>\n",
       "\t<tr>\n",
       "\t\t<td>2</td>\n",
       "\t\t<td>H</td>\n",
       "\t\t<td>-58.686598994309136</td>\n",
       "\t</tr>\n",
       "\t<tr>\n",
       "\t\t<td>2</td>\n",
       "\t\t<td>I</td>\n",
       "\t\t<td>-78.00605432143172</td>\n",
       "\t</tr>\n",
       "\t<tr>\n",
       "\t\t<td>2</td>\n",
       "\t\t<td>Q</td>\n",
       "\t\t<td>-76.12348408131227</td>\n",
       "\t</tr>\n",
       "\t<tr>\n",
       "\t\t<td>2</td>\n",
       "\t\t<td>L</td>\n",
       "\t\t<td>-86.8490762123561</td>\n",
       "\t</tr>\n",
       "</table></html>"
      ],
      "text/plain": [
       "   doc_id prediction     loglik\n",
       "0       2          S -86.589397\n",
       "1       2          P -82.413011\n",
       "2       2          R -86.156700\n",
       "3       2          M -84.452182\n",
       "4       2          H -58.686599\n",
       "5       2          F -80.846529\n",
       "6       2          I -78.006054\n",
       "7       2          L -86.849076\n",
       "8       2          N -72.433584\n",
       "9       2          C -59.614651"
      ]
     },
     "execution_count": 84,
     "metadata": {},
     "output_type": "execute_result"
    }
   ],
   "source": [
    "nbt_predict_out.result.head()"
   ]
  },
  {
   "cell_type": "code",
   "execution_count": 82,
   "metadata": {},
   "outputs": [
    {
     "data": {
      "text/plain": [
       "'select * from \"POCUSER\".\"ml__td_sqlmr_out__1697277165111646\"'"
      ]
     },
     "execution_count": 82,
     "metadata": {},
     "output_type": "execute_result"
    }
   ],
   "source": [
    "nbt_predict_out.result.show_query()"
   ]
  },
  {
   "cell_type": "code",
   "execution_count": 85,
   "metadata": {},
   "outputs": [],
   "source": [
    "copy_to_sql(nbt_predict_out.result, schema_name=\"pocuser\", table_name=\"matriz_clas\", if_exists=\"replace\")"
   ]
  },
  {
   "cell_type": "code",
   "execution_count": null,
   "metadata": {},
   "outputs": [],
   "source": []
  },
  {
   "cell_type": "code",
   "execution_count": null,
   "metadata": {},
   "outputs": [],
   "source": []
  },
  {
   "cell_type": "code",
   "execution_count": null,
   "metadata": {},
   "outputs": [],
   "source": []
  },
  {
   "cell_type": "code",
   "execution_count": null,
   "metadata": {},
   "outputs": [],
   "source": []
  },
  {
   "cell_type": "code",
   "execution_count": null,
   "metadata": {},
   "outputs": [],
   "source": []
  },
  {
   "cell_type": "markdown",
   "metadata": {},
   "source": [
    "<font color='red'/>\n",
    "\n",
    "### Scoring del Modelo In-Database utilizando VAL"
   ]
  },
  {
   "cell_type": "code",
   "execution_count": null,
   "metadata": {},
   "outputs": [],
   "source": [
    "# Leemos la data de desarrollo de modelos\n",
    "tdfs = DataFrame(in_schema(\"pocuser\",\"caso1_score\"))"
   ]
  },
  {
   "cell_type": "code",
   "execution_count": null,
   "metadata": {},
   "outputs": [],
   "source": [
    "tdfs.shape"
   ]
  },
  {
   "cell_type": "code",
   "execution_count": null,
   "metadata": {},
   "outputs": [],
   "source": [
    "onesc = OneHotEncodingTransform(data=tdfs,\n",
    "                              object=fit_one.result,\n",
    "                              is_input_dense=True)"
   ]
  },
  {
   "cell_type": "code",
   "execution_count": null,
   "metadata": {},
   "outputs": [],
   "source": [
    "## Aplicando la transformación\n",
    "inputScore = ScaleTransform(data=onesc.result, \n",
    "                     object=fit_scal.output,\n",
    "                     accumulate=['LAB_0002','VAR_0002_1','VAR_0002_2','VAR_0004'])"
   ]
  },
  {
   "cell_type": "code",
   "execution_count": null,
   "metadata": {},
   "outputs": [],
   "source": [
    "## Función de Scoring de la Regresión Logística en VAL\n",
    "Logit_Model_Score = valib.LogRegPredict(data=inputScore.result, \n",
    "                                        model=tdModel.model, \n",
    "                                        index_columns=\"LAB_0002\",\n",
    "                                        estimate_column=\"PRED_VAR_0004\",\n",
    "                                        prob_column=\"PROB\")\n",
    " \n",
    "## Mostramos los primeros 10 registros de la tabla \n",
    "Logit_Model_Score.result.head(10)"
   ]
  },
  {
   "cell_type": "code",
   "execution_count": null,
   "metadata": {},
   "outputs": [],
   "source": [
    "## Tabla temporal donde se almacenan los resultados del modelo\n",
    "tdModel.model.show_query()"
   ]
  },
  {
   "cell_type": "code",
   "execution_count": null,
   "metadata": {},
   "outputs": [],
   "source": [
    "## Almacenando el resultado en una Tabla permanente de la BD\n",
    "copy_to_sql(tdModel.model, schema_name=\"pocuser\", table_name=\"ScoreLogRes\", if_exists=\"replace\")"
   ]
  },
  {
   "cell_type": "markdown",
   "metadata": {
    "id": "AOQlbpMJlQpn"
   },
   "source": [
    "![Slide](images/Diapositiva11.PNG)\n",
    "\n",
    "![Slide](images/Diapositiva12.PNG)\n",
    "\n",
    "## **Entrenamiento de un modelo XGBoost 100% Python**"
   ]
  },
  {
   "cell_type": "code",
   "execution_count": null,
   "metadata": {},
   "outputs": [],
   "source": [
    "from sklearn2pmml.pipeline import PMMLPipeline\n",
    "from sklearn2pmml import sklearn2pmml\n",
    "from xgboost import XGBClassifier"
   ]
  },
  {
   "cell_type": "code",
   "execution_count": null,
   "metadata": {},
   "outputs": [],
   "source": [
    "## Movemos los datos a Python con to_pandas()\n",
    "pdf = scal.result[['VAR_0002_1','VAR_0002_2','VAR_0004','VAR_0006','VAR_0007','VAR_0008','VAR_0011',\n",
    "                  'VAR_0012','VAR_0013','VAR_0015','VAR_0016','VAR_0018','VAR_0019','VAR_0020']].to_pandas(all_rows=True)\n",
    "pdf.head(5)"
   ]
  },
  {
   "cell_type": "code",
   "execution_count": null,
   "metadata": {},
   "outputs": [],
   "source": [
    "pdf.shape"
   ]
  },
  {
   "cell_type": "code",
   "execution_count": null,
   "metadata": {},
   "outputs": [],
   "source": [
    "X = pdf.drop([\"VAR_0004\"],axis=1)\n",
    "y = pdf.VAR_0004"
   ]
  },
  {
   "cell_type": "code",
   "execution_count": null,
   "metadata": {},
   "outputs": [],
   "source": [
    "## Creando las muestras de Entrenamiento y Test\n",
    "X_train, X_test, y_train, y_test = train_test_split(X, y,\n",
    "                                                   test_size=0.3,\n",
    "                                                   random_state=12345) "
   ]
  },
  {
   "cell_type": "markdown",
   "metadata": {},
   "source": [
    "<font color='red'/>\n",
    "\n",
    "### Entrenando el Modelo y Exportando como PMML"
   ]
  },
  {
   "cell_type": "code",
   "execution_count": null,
   "metadata": {},
   "outputs": [],
   "source": [
    "## Se crea el Pipeline para Exportar el modelo en formato PMML\n",
    "pipeline = PMMLPipeline([(\"classifier\", XGBClassifier(eval_metric='aucpr', use_label_encoder=False, n_estimators=150, max_depth=5))])\n",
    "pipeline.fit(X_train, y_train)\n",
    "sklearn2pmml(pipeline, \"ModelXGBPy.pmml\", with_repr = True)"
   ]
  },
  {
   "cell_type": "code",
   "execution_count": null,
   "metadata": {},
   "outputs": [],
   "source": [
    "# Métricas de Evaluación\n",
    "y_pred = pipeline.predict(X_test)\n",
    "y_probs = pipeline.predict_proba(X_test)[:, 1]\n",
    "print('Area bajo la Curva ROC: ',roc_auc_score(y_test, y_probs))\n",
    "print('Matriz de Confusión: ',confusion_matrix(y_test,y_pred))\n",
    "print('Métricas de Clasificación: ', classification_report(y_test,y_pred))"
   ]
  },
  {
   "cell_type": "code",
   "execution_count": null,
   "metadata": {},
   "outputs": [],
   "source": [
    "# Reporte de Deciles y Gráficos\n",
    "kds.metrics.report(y_test, y_probs, plot_style='ggplot')"
   ]
  },
  {
   "cell_type": "markdown",
   "metadata": {},
   "source": [
    "## **Entrenamiento de un modelo LightGBM 100% Python**"
   ]
  },
  {
   "cell_type": "code",
   "execution_count": null,
   "metadata": {},
   "outputs": [],
   "source": [
    "from lightgbm import LGBMClassifier\n",
    "from sklearn.pipeline import Pipeline\n",
    "from nyoka import lgb_to_pmml\n",
    "from sklearn.model_selection import GridSearchCV "
   ]
  },
  {
   "cell_type": "code",
   "execution_count": null,
   "metadata": {},
   "outputs": [],
   "source": [
    "## Se crea el Pipeline del modelo\n",
    "pipeline_obj = Pipeline([('lgbmc',LGBMClassifier(objective = \"binary\", verbosity=-1, learning_rate=0.1, max_depth=6, num_leaves=50))])\n",
    "pipeline_obj.fit(X_train, y_train)"
   ]
  },
  {
   "cell_type": "code",
   "execution_count": null,
   "metadata": {},
   "outputs": [],
   "source": [
    "## Se exporta el modelo en formato PMML\n",
    "lgb_to_pmml(pipeline_obj,X_train.columns,\"VAR_0004\",\"ModelLGBPy.pmml\")"
   ]
  },
  {
   "cell_type": "code",
   "execution_count": null,
   "metadata": {},
   "outputs": [],
   "source": [
    "# Métricas de Evaluación\n",
    "y_pred = pipeline_obj.predict(X_test)\n",
    "y_probs = pipeline_obj.predict_proba(X_test)[:, 1]\n",
    "print('Area bajo la Curva ROC: ',roc_auc_score(y_test, y_probs))\n",
    "print('Matriz de Confusión: ',confusion_matrix(y_test,y_pred))\n",
    "print('Métricas de Clasificación: ', classification_report(y_test,y_pred))"
   ]
  },
  {
   "cell_type": "code",
   "execution_count": null,
   "metadata": {},
   "outputs": [],
   "source": [
    "# Reporte de Deciles y Gráficos\n",
    "kds.metrics.report(y_test, y_probs, plot_style='ggplot')"
   ]
  },
  {
   "cell_type": "markdown",
   "metadata": {},
   "source": [
    "Comparando los resultados, el mejor modelo es XGBoost, por eso será el que se lleve al proceso de Scoring"
   ]
  },
  {
   "cell_type": "markdown",
   "metadata": {
    "id": "sRnJ62v2QMSo"
   },
   "source": [
    "<font color='red'/>\n",
    "\n",
    "## **Scoring del Modelo XGB entrenado en Python utilizando BYOM en la BD**"
   ]
  },
  {
   "cell_type": "code",
   "execution_count": null,
   "metadata": {
    "id": "yihrR0b6S5Sb"
   },
   "outputs": [],
   "source": [
    "con.execute(\"CREATE SET TABLE pocuser.pmml_models (model_id VARCHAR(40) \\\n",
    "            CHARACTER SET LATIN NOT CASESPECIFIC, model BLOB(2097088000)) \\\n",
    "            PRIMARY INDEX ( model_id );\")"
   ]
  },
  {
   "cell_type": "code",
   "execution_count": null,
   "metadata": {},
   "outputs": [],
   "source": [
    "model_bytes = open(\"ModelLGBPy.pmml\", \"rb\").read()\n",
    "con.execute(\"insert into pocuser.pmml_models  (model_id, model) values(?,?)\", 'lgb_model', model_bytes)"
   ]
  },
  {
   "cell_type": "code",
   "execution_count": null,
   "metadata": {},
   "outputs": [],
   "source": [
    "pd.read_sql(\"select * from pocuser.pmml_models\", con)"
   ]
  },
  {
   "cell_type": "code",
   "execution_count": null,
   "metadata": {},
   "outputs": [],
   "source": [
    "copy_to_sql(inputScore.result, schema_name=\"pocuser\", table_name=\"matriz_score\", if_exists=\"replace\")"
   ]
  },
  {
   "cell_type": "code",
   "execution_count": null,
   "metadata": {},
   "outputs": [],
   "source": [
    "pd.read_sql(\"select top 10 * from pocuser.matriz_score\", con)"
   ]
  },
  {
   "cell_type": "code",
   "execution_count": null,
   "metadata": {
    "id": "UHCvxchzS5Ss"
   },
   "outputs": [],
   "source": [
    "con.execute(\"CREATE TABLE pocuser.ScoreResult AS ( \\\n",
    "SELECT * FROM mldb.PMMLPredict( \\\n",
    "    ON (SELECT * FROM pocuser.matriz_score) \\\n",
    "    ON (select * from pocuser.pmml_models where model_id='lgb_model') DIMENSION \\\n",
    "    USING \\\n",
    "        Accumulate('LAB_0002') \\\n",
    "        ModelOutputFields ('probability_0', 'probability_1') \\\n",
    ") AS dt \\\n",
    ") WITH DATA;\")"
   ]
  },
  {
   "cell_type": "code",
   "execution_count": null,
   "metadata": {
    "id": "_IGiDz8kNHmP"
   },
   "outputs": [],
   "source": [
    "con.execute('UPDATE pocuser.ScoreResult SET prediction=0 WHERE \"probability_0\" GT \"probability_1\";')"
   ]
  },
  {
   "cell_type": "code",
   "execution_count": null,
   "metadata": {
    "id": "d1MJJucmQMSp"
   },
   "outputs": [],
   "source": [
    "con.execute('UPDATE pocuser.ScoreResult SET prediction=1 WHERE \"probability_1\" GT \"probability_0\";')"
   ]
  },
  {
   "cell_type": "code",
   "execution_count": null,
   "metadata": {
    "id": "L5kcXercS5S0"
   },
   "outputs": [],
   "source": [
    "result_df = DataFrame.from_query(\"select top 10 * FROM pocuser.ScoreResult;\")\n",
    "result_df.head()"
   ]
  },
  {
   "cell_type": "markdown",
   "metadata": {},
   "source": [
    "## **Finalizando la Demo**"
   ]
  },
  {
   "cell_type": "code",
   "execution_count": null,
   "metadata": {},
   "outputs": [],
   "source": [
    "con.execute(\"DROP TABLE pocuser.TrainModel;\")"
   ]
  },
  {
   "cell_type": "code",
   "execution_count": null,
   "metadata": {},
   "outputs": [],
   "source": [
    "con.execute(\"DROP TABLE pocuser.TestModel;\")"
   ]
  },
  {
   "cell_type": "code",
   "execution_count": null,
   "metadata": {},
   "outputs": [],
   "source": [
    "con.execute(\"DROP TABLE pocuser.pmml_models;\")"
   ]
  },
  {
   "cell_type": "code",
   "execution_count": null,
   "metadata": {},
   "outputs": [],
   "source": [
    "con.execute(\"DROP TABLE pocuser.matriz_score;\")"
   ]
  },
  {
   "cell_type": "code",
   "execution_count": null,
   "metadata": {},
   "outputs": [],
   "source": [
    "con.execute(\"DROP TABLE pocuser.ScoreResult;\")"
   ]
  },
  {
   "cell_type": "code",
   "execution_count": null,
   "metadata": {
    "id": "mgDCnX0cN2TU"
   },
   "outputs": [],
   "source": [
    "## Finalizando el Notebook y Limpiando el ambiente \n",
    "remove_context()"
   ]
  },
  {
   "cell_type": "markdown",
   "metadata": {},
   "source": [
    "![Slide](images/Diapositiva13.PNG)\n",
    "\n",
    "![Slide](images/Diapositiva14.PNG)"
   ]
  },
  {
   "cell_type": "markdown",
   "metadata": {},
   "source": [
    "Copyright 2023. Elaborado por Luis Cajachahua bajo licencia MIT"
   ]
  }
 ],
 "metadata": {
  "colab": {
   "collapsed_sections": [],
   "name": "Copia de S03_Modelamiento_EntrenamientoyValidacion.ipynb",
   "provenance": []
  },
  "kernelspec": {
   "display_name": "Python 3 (ipykernel)",
   "language": "python",
   "name": "python3"
  },
  "language_info": {
   "codemirror_mode": {
    "name": "ipython",
    "version": 3
   },
   "file_extension": ".py",
   "mimetype": "text/x-python",
   "name": "python",
   "nbconvert_exporter": "python",
   "pygments_lexer": "ipython3",
   "version": "3.10.9"
  },
  "toc": {
   "base_numbering": 1,
   "nav_menu": {},
   "number_sections": true,
   "sideBar": true,
   "skip_h1_title": false,
   "title_cell": "Table of Contents",
   "title_sidebar": "Contents",
   "toc_cell": false,
   "toc_position": {
    "height": "calc(100% - 180px)",
    "left": "10px",
    "top": "150px",
    "width": "165px"
   },
   "toc_section_display": true,
   "toc_window_display": false
  },
  "varInspector": {
   "cols": {
    "lenName": 16,
    "lenType": 16,
    "lenVar": 40
   },
   "kernels_config": {
    "python": {
     "delete_cmd_postfix": "",
     "delete_cmd_prefix": "del ",
     "library": "var_list.py",
     "varRefreshCmd": "print(var_dic_list())"
    },
    "r": {
     "delete_cmd_postfix": ") ",
     "delete_cmd_prefix": "rm(",
     "library": "var_list.r",
     "varRefreshCmd": "cat(var_dic_list()) "
    }
   },
   "types_to_exclude": [
    "module",
    "function",
    "builtin_function_or_method",
    "instance",
    "_Feature"
   ],
   "window_display": false
  }
 },
 "nbformat": 4,
 "nbformat_minor": 4
}
