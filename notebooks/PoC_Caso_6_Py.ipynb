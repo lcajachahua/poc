{
 "cells": [
  {
   "cell_type": "markdown",
   "metadata": {
    "id": "DOGa617qS5Ly"
   },
   "source": [
    "<header style=\"padding:10px;background:#f9f9f9;border-top:3px solid #00b2b1\"><img id=\"Teradata-logo\" src=\"https://www.teradata.com/Teradata/Images/Rebrand/Teradata_logo-two_color.png\" alt=\"Teradata\" width=\"220\" align=\"right\" />\n",
    "  \n",
    "# Capacidades de Analítica Avanzada en la Base de Datos \n",
    "# (In-Database)\n",
    "\n",
    "## Caso 6: Detección de DAM Anómalas\n",
    "    \n",
    "![Slide](images/Diapositiva5.PNG)\n"
   ]
  },
  {
   "cell_type": "markdown",
   "metadata": {
    "id": "6pJ7A_03QMSJ"
   },
   "source": [
    "## **Instalar las librerías**"
   ]
  },
  {
   "cell_type": "code",
   "execution_count": null,
   "metadata": {
    "id": "sUu4EsJ0b9y2"
   },
   "outputs": [],
   "source": [
    "#!pip install teradataml==17.20.0.4 sklearn2pmml==0.95.1"
   ]
  },
  {
   "cell_type": "markdown",
   "metadata": {
    "id": "2uKqxuVvS5MC"
   },
   "source": [
    "## **Carga de Modulos**"
   ]
  },
  {
   "cell_type": "code",
   "execution_count": 2,
   "metadata": {},
   "outputs": [
    {
     "name": "stderr",
     "output_type": "stream",
     "text": [
      "C:\\TDAPPS\\anaconda3\\lib\\site-packages\\paramiko\\transport.py:219: CryptographyDeprecationWarning: Blowfish has been deprecated\n",
      "  \"class\": algorithms.Blowfish,\n"
     ]
    }
   ],
   "source": [
    "import pandas as pd\n",
    "import numpy as np\n",
    "import getpass as gp\n",
    "import plotly.express as px\n",
    "from sklearn.metrics import roc_auc_score, classification_report, confusion_matrix, accuracy_score\n",
    "from sklearn.model_selection import train_test_split\n",
    "from sklearn.ensemble import IsolationForest\n",
    "import matplotlib.pyplot as plt\n",
    "from matplotlib import style\n",
    "import seaborn as sns\n",
    "import kds\n",
    "\n",
    "from teradataml import *\n",
    "from teradataml.analytics.valib import *\n",
    "configure.val_install_location = \"val\""
   ]
  },
  {
   "cell_type": "code",
   "execution_count": 2,
   "metadata": {},
   "outputs": [
    {
     "name": "stdin",
     "output_type": "stream",
     "text": [
      " ········\n"
     ]
    }
   ],
   "source": [
    "con=create_context(host = \"40.121.65.25\", database=\"DW_LANDING\", username=\"pocuser\", password = gp.getpass())"
   ]
  },
  {
   "cell_type": "markdown",
   "metadata": {
    "id": "UnPnopgUS5MN"
   },
   "source": [
    "![Slide](images/Diapositiva10.PNG)\n",
    "\n",
    "## **Lectura Inicial de base de datos**"
   ]
  },
  {
   "cell_type": "code",
   "execution_count": 3,
   "metadata": {},
   "outputs": [],
   "source": [
    "# Leemos la data de desarrollo de modelos\n",
    "tdf = DataFrame(in_schema(\"DW_LANDING\",\"V_KPIS_ADUANAS_ALL\"))"
   ]
  },
  {
   "cell_type": "code",
   "execution_count": 4,
   "metadata": {},
   "outputs": [
    {
     "data": {
      "text/html": [
       "<style type=\"text/css\">\n",
       "\ttable {border:ridge 5px;}\n",
       "\ttable td {border:inset 1px;}\n",
       "\ttable tr#HeaderRow {background-color:grey; color:white;}</style>\n",
       "<html><table>\n",
       "\t<tr id=\"HeaderRow\">\n",
       "\t\t<th>DAM_RECOD</th>\n",
       "\t\t<th>SERIE</th>\n",
       "\t\t<th>IMPORTADOR</th>\n",
       "\t\t<th>TIPO_UNIDADES_FISICA</th>\n",
       "\t\t<th>AGENTE_ADUANA</th>\n",
       "\t\t<th>DEPOSITO</th>\n",
       "\t\t<th>PAIS_ORIGEN</th>\n",
       "\t\t<th>PARTIDA_ARANCELARIA</th>\n",
       "\t\t<th>CAPITULO</th>\n",
       "\t\t<th>FOB</th>\n",
       "\t\t<th>PESO_NETO</th>\n",
       "\t\t<th>VALOR_FOB_PROM</th>\n",
       "\t\t<th>CANTIDAD_UNIDAD_FISICA</th>\n",
       "\t</tr>\n",
       "\t<tr>\n",
       "\t\t<td>202200000006220</td>\n",
       "\t\t<td>1</td>\n",
       "\t\t<td>20000005799</td>\n",
       "\t\t<td>KG</td>\n",
       "\t\t<td>7053</td>\n",
       "\t\t<td>9998</td>\n",
       "\t\t<td>EC</td>\n",
       "\t\t<td>1905901000</td>\n",
       "\t\t<td>19</td>\n",
       "\t\t<td>26213.6</td>\n",
       "\t\t<td>13763.52</td>\n",
       "\t\t<td>1.9045709237171884</td>\n",
       "\t\t<td>None</td>\n",
       "\t</tr>\n",
       "\t<tr>\n",
       "\t\t<td>202200000006221</td>\n",
       "\t\t<td>2</td>\n",
       "\t\t<td>20000005799</td>\n",
       "\t\t<td>KG</td>\n",
       "\t\t<td>7053</td>\n",
       "\t\t<td>9998</td>\n",
       "\t\t<td>EC</td>\n",
       "\t\t<td>1905901000</td>\n",
       "\t\t<td>19</td>\n",
       "\t\t<td>26216.455</td>\n",
       "\t\t<td>13763.52</td>\n",
       "\t\t<td>1.9047783561182023</td>\n",
       "\t\t<td>None</td>\n",
       "\t</tr>\n",
       "\t<tr>\n",
       "\t\t<td>202200000006222</td>\n",
       "\t\t<td>1</td>\n",
       "\t\t<td>20000011001</td>\n",
       "\t\t<td>KG</td>\n",
       "\t\t<td>7774</td>\n",
       "\t\t<td>4410</td>\n",
       "\t\t<td>EC</td>\n",
       "\t\t<td>0713609000</td>\n",
       "\t\t<td>07</td>\n",
       "\t\t<td>87750.0</td>\n",
       "\t\t<td>97300.0</td>\n",
       "\t\t<td>0.9018499486125385</td>\n",
       "\t\t<td>97300</td>\n",
       "\t</tr>\n",
       "\t<tr>\n",
       "\t\t<td>202200000006223</td>\n",
       "\t\t<td>2</td>\n",
       "\t\t<td>20000005799</td>\n",
       "\t\t<td>KG</td>\n",
       "\t\t<td>7053</td>\n",
       "\t\t<td>9998</td>\n",
       "\t\t<td>EC</td>\n",
       "\t\t<td>1905310000</td>\n",
       "\t\t<td>19</td>\n",
       "\t\t<td>851.037</td>\n",
       "\t\t<td>336.57</td>\n",
       "\t\t<td>2.528558695070862</td>\n",
       "\t\t<td>None</td>\n",
       "\t</tr>\n",
       "\t<tr>\n",
       "\t\t<td>202200000006223</td>\n",
       "\t\t<td>4</td>\n",
       "\t\t<td>20000005799</td>\n",
       "\t\t<td>KG</td>\n",
       "\t\t<td>7053</td>\n",
       "\t\t<td>9998</td>\n",
       "\t\t<td>EC</td>\n",
       "\t\t<td>1905901000</td>\n",
       "\t\t<td>19</td>\n",
       "\t\t<td>11320.334</td>\n",
       "\t\t<td>5538.96</td>\n",
       "\t\t<td>2.043765255571443</td>\n",
       "\t\t<td>None</td>\n",
       "\t</tr>\n",
       "\t<tr>\n",
       "\t\t<td>202200000006223</td>\n",
       "\t\t<td>3</td>\n",
       "\t\t<td>20000005799</td>\n",
       "\t\t<td>KG</td>\n",
       "\t\t<td>7053</td>\n",
       "\t\t<td>9998</td>\n",
       "\t\t<td>EC</td>\n",
       "\t\t<td>1905901000</td>\n",
       "\t\t<td>19</td>\n",
       "\t\t<td>13483.619</td>\n",
       "\t\t<td>7080.0</td>\n",
       "\t\t<td>1.9044659604519776</td>\n",
       "\t\t<td>7080</td>\n",
       "\t</tr>\n",
       "\t<tr>\n",
       "\t\t<td>202200000006223</td>\n",
       "\t\t<td>1</td>\n",
       "\t\t<td>20000005799</td>\n",
       "\t\t<td>KG</td>\n",
       "\t\t<td>7053</td>\n",
       "\t\t<td>9998</td>\n",
       "\t\t<td>EC</td>\n",
       "\t\t<td>1905310000</td>\n",
       "\t\t<td>19</td>\n",
       "\t\t<td>615.53</td>\n",
       "\t\t<td>254.2</td>\n",
       "\t\t<td>2.4214398111723052</td>\n",
       "\t\t<td>None</td>\n",
       "\t</tr>\n",
       "\t<tr>\n",
       "\t\t<td>202200000006221</td>\n",
       "\t\t<td>1</td>\n",
       "\t\t<td>20000005799</td>\n",
       "\t\t<td>KG</td>\n",
       "\t\t<td>7053</td>\n",
       "\t\t<td>9998</td>\n",
       "\t\t<td>EC</td>\n",
       "\t\t<td>1905901000</td>\n",
       "\t\t<td>19</td>\n",
       "\t\t<td>25987.195</td>\n",
       "\t\t<td>13643.16</td>\n",
       "\t\t<td>1.9047782918326839</td>\n",
       "\t\t<td>None</td>\n",
       "\t</tr>\n",
       "\t<tr>\n",
       "\t\t<td>202200000006219</td>\n",
       "\t\t<td>1</td>\n",
       "\t\t<td>20000011174</td>\n",
       "\t\t<td>KG</td>\n",
       "\t\t<td>7774</td>\n",
       "\t\t<td>4410</td>\n",
       "\t\t<td>EC</td>\n",
       "\t\t<td>2309909000</td>\n",
       "\t\t<td>23</td>\n",
       "\t\t<td>57392.799</td>\n",
       "\t\t<td>54250.0</td>\n",
       "\t\t<td>1.0579317788018432</td>\n",
       "\t\t<td>54250</td>\n",
       "\t</tr>\n",
       "\t<tr>\n",
       "\t\t<td>202200000006219</td>\n",
       "\t\t<td>2</td>\n",
       "\t\t<td>20000011174</td>\n",
       "\t\t<td>KG</td>\n",
       "\t\t<td>7774</td>\n",
       "\t\t<td>4410</td>\n",
       "\t\t<td>EC</td>\n",
       "\t\t<td>2309909000</td>\n",
       "\t\t<td>23</td>\n",
       "\t\t<td>88649.901</td>\n",
       "\t\t<td>90000.0</td>\n",
       "\t\t<td>0.9849989</td>\n",
       "\t\t<td>90000</td>\n",
       "\t</tr>\n",
       "</table></html>"
      ],
      "text/plain": [
       "         DAM_RECOD  SERIE   IMPORTADOR TIPO_UNIDADES_FISICA AGENTE_ADUANA DEPOSITO PAIS_ORIGEN PARTIDA_ARANCELARIA CAPITULO        FOB  PESO_NETO  VALOR_FOB_PROM  CANTIDAD_UNIDAD_FISICA\n",
       "0  202200000006220      1  20000005799                   KG          7053     9998          EC          1905901000       19  26213.600   13763.52        1.904571                     NaN\n",
       "1  202200000006221      1  20000005799                   KG          7053     9998          EC          1905901000       19  25987.195   13643.16        1.904778                     NaN\n",
       "2  202200000006222      1  20000011001                   KG          7774     4410          EC          0713609000       07  87750.000   97300.00        0.901850                 97300.0\n",
       "3  202200000006223      4  20000005799                   KG          7053     9998          EC          1905901000       19  11320.334    5538.96        2.043765                     NaN\n",
       "4  202200000006223      1  20000005799                   KG          7053     9998          EC          1905310000       19    615.530     254.20        2.421440                     NaN\n",
       "5  202200000006223      3  20000005799                   KG          7053     9998          EC          1905901000       19  13483.619    7080.00        1.904466                  7080.0\n",
       "6  202200000006223      2  20000005799                   KG          7053     9998          EC          1905310000       19    851.037     336.57        2.528559                     NaN\n",
       "7  202200000006221      2  20000005799                   KG          7053     9998          EC          1905901000       19  26216.455   13763.52        1.904778                     NaN\n",
       "8  202200000006219      2  20000011174                   KG          7774     4410          EC          2309909000       23  88649.901   90000.00        0.984999                 90000.0\n",
       "9  202200000006219      1  20000011174                   KG          7774     4410          EC          2309909000       23  57392.799   54250.00        1.057932                 54250.0"
      ]
     },
     "execution_count": 4,
     "metadata": {},
     "output_type": "execute_result"
    }
   ],
   "source": [
    "# Primeros Registros\n",
    "tdf.head(10)"
   ]
  },
  {
   "cell_type": "code",
   "execution_count": 5,
   "metadata": {},
   "outputs": [
    {
     "data": {
      "text/plain": [
       "(1949962, 13)"
      ]
     },
     "execution_count": 5,
     "metadata": {},
     "output_type": "execute_result"
    }
   ],
   "source": [
    "# Vemos la dimensionalidad\n",
    "tdf.shape"
   ]
  },
  {
   "cell_type": "markdown",
   "metadata": {
    "id": "z-xwHgOuS5M8"
   },
   "source": [
    "## **Exploración de los datos**"
   ]
  },
  {
   "cell_type": "code",
   "execution_count": 6,
   "metadata": {},
   "outputs": [
    {
     "data": {
      "text/html": [
       "<style type=\"text/css\">\n",
       "\ttable {border:ridge 5px;}\n",
       "\ttable td {border:inset 1px;}\n",
       "\ttable tr#HeaderRow {background-color:grey; color:white;}</style>\n",
       "<html><table>\n",
       "\t<tr id=\"HeaderRow\">\n",
       "\t\t<th>xdb</th>\n",
       "\t\t<th>xtbl</th>\n",
       "\t\t<th>xcol</th>\n",
       "\t\t<th>xcnt</th>\n",
       "\t\t<th>xmin</th>\n",
       "\t\t<th>xmax</th>\n",
       "\t\t<th>xmean</th>\n",
       "\t\t<th>xstd</th>\n",
       "\t\t<th>xtype</th>\n",
       "\t\t<th>xnull</th>\n",
       "\t\t<th>xnique</th>\n",
       "\t\t<th>xblank</th>\n",
       "\t\t<th>xzero</th>\n",
       "\t\t<th>xpos</th>\n",
       "\t\t<th>xneg</th>\n",
       "\t\t<th>xmode</th>\n",
       "\t\t<th>xmode_cnt</th>\n",
       "\t\t<th>xmode_pct</th>\n",
       "\t\t<th>xnbrmodes</th>\n",
       "\t\t<th>xpctile0</th>\n",
       "\t\t<th>xpctile1</th>\n",
       "\t\t<th>xpctile2</th>\n",
       "\t\t<th>xpctile3</th>\n",
       "\t\t<th>xpctile4</th>\n",
       "\t\t<th>xpctile5</th>\n",
       "\t\t<th>xpctile6</th>\n",
       "\t\t<th>xpctile7</th>\n",
       "\t\t<th>xpctile8</th>\n",
       "\t\t<th>xpctile9</th>\n",
       "\t\t<th>xpctile10</th>\n",
       "\t\t<th>xpctile20</th>\n",
       "\t\t<th>xpctile25</th>\n",
       "\t\t<th>xpctile30</th>\n",
       "\t\t<th>xpctile33</th>\n",
       "\t\t<th>xpctile40</th>\n",
       "\t\t<th>xpctile50</th>\n",
       "\t\t<th>xpctile60</th>\n",
       "\t\t<th>xpctile67</th>\n",
       "\t\t<th>xpctile70</th>\n",
       "\t\t<th>xpctile75</th>\n",
       "\t\t<th>xpctile80</th>\n",
       "\t\t<th>xpctile90</th>\n",
       "\t\t<th>xpctile91</th>\n",
       "\t\t<th>xpctile92</th>\n",
       "\t\t<th>xpctile93</th>\n",
       "\t\t<th>xpctile94</th>\n",
       "\t\t<th>xpctile95</th>\n",
       "\t\t<th>xpctile96</th>\n",
       "\t\t<th>xpctile97</th>\n",
       "\t\t<th>xpctile98</th>\n",
       "\t\t<th>xpctile99</th>\n",
       "\t\t<th>xpctile100</th>\n",
       "\t\t<th>xmin_1</th>\n",
       "\t\t<th>xmin_2</th>\n",
       "\t\t<th>xmin_3</th>\n",
       "\t\t<th>xmin_4</th>\n",
       "\t\t<th>xmin_5</th>\n",
       "\t\t<th>xmincnt_1</th>\n",
       "\t\t<th>xmincnt_2</th>\n",
       "\t\t<th>xmincnt_3</th>\n",
       "\t\t<th>xmincnt_4</th>\n",
       "\t\t<th>xmincnt_5</th>\n",
       "\t\t<th>xmax_5</th>\n",
       "\t\t<th>xmax_4</th>\n",
       "\t\t<th>xmax_3</th>\n",
       "\t\t<th>xmax_2</th>\n",
       "\t\t<th>xmax_1</th>\n",
       "\t\t<th>xmaxcnt_5</th>\n",
       "\t\t<th>xmaxcnt_4</th>\n",
       "\t\t<th>xmaxcnt_3</th>\n",
       "\t\t<th>xmaxcnt_2</th>\n",
       "\t\t<th>xmaxcnt_1</th>\n",
       "\t</tr>\n",
       "\t<tr>\n",
       "\t\t<td>DW_LANDING</td>\n",
       "\t\t<td>V_KPIS_ADUANAS_ALL</td>\n",
       "\t\t<td>CANTIDAD_UNIDAD_FISICA</td>\n",
       "\t\t<td>1604946.0</td>\n",
       "\t\t<td>0.0</td>\n",
       "\t\t<td>850000000.0</td>\n",
       "\t\t<td>7379.898718710785</td>\n",
       "\t\t<td>1224920.561258553</td>\n",
       "\t\t<td>INTEGER</td>\n",
       "\t\t<td>345016.0</td>\n",
       "\t\t<td>17177.0</td>\n",
       "\t\t<td>None</td>\n",
       "\t\t<td>2821.0</td>\n",
       "\t\t<td>1602125.0</td>\n",
       "\t\t<td>0.0</td>\n",
       "\t\t<td>1.0</td>\n",
       "\t\t<td>427287.0</td>\n",
       "\t\t<td>21.912580860550104</td>\n",
       "\t\t<td>1.0</td>\n",
       "\t\t<td>0.0</td>\n",
       "\t\t<td>1.0</td>\n",
       "\t\t<td>1.0</td>\n",
       "\t\t<td>1.0</td>\n",
       "\t\t<td>1.0</td>\n",
       "\t\t<td>1.0</td>\n",
       "\t\t<td>1.0</td>\n",
       "\t\t<td>1.0</td>\n",
       "\t\t<td>1.0</td>\n",
       "\t\t<td>1.0</td>\n",
       "\t\t<td>1.0</td>\n",
       "\t\t<td>1.0</td>\n",
       "\t\t<td>1.0</td>\n",
       "\t\t<td>2.0</td>\n",
       "\t\t<td>2.0</td>\n",
       "\t\t<td>4.0</td>\n",
       "\t\t<td>8.0</td>\n",
       "\t\t<td>15.0</td>\n",
       "\t\t<td>28.0</td>\n",
       "\t\t<td>40.0</td>\n",
       "\t\t<td>62.0</td>\n",
       "\t\t<td>120.0</td>\n",
       "\t\t<td>600.0</td>\n",
       "\t\t<td>800.0</td>\n",
       "\t\t<td>1000.0</td>\n",
       "\t\t<td>1224.0</td>\n",
       "\t\t<td>1800.0</td>\n",
       "\t\t<td>2400.0</td>\n",
       "\t\t<td>3896.0</td>\n",
       "\t\t<td>7000.0</td>\n",
       "\t\t<td>15750.0</td>\n",
       "\t\t<td>35000.0</td>\n",
       "\t\t<td>850000000.0</td>\n",
       "\t\t<td>0.0</td>\n",
       "\t\t<td>1.0</td>\n",
       "\t\t<td>2.0</td>\n",
       "\t\t<td>3.0</td>\n",
       "\t\t<td>4.0</td>\n",
       "\t\t<td>2821.0</td>\n",
       "\t\t<td>427287.0</td>\n",
       "\t\t<td>132140.0</td>\n",
       "\t\t<td>61768.0</td>\n",
       "\t\t<td>58863.0</td>\n",
       "\t\t<td>496000000.0</td>\n",
       "\t\t<td>550000000.0</td>\n",
       "\t\t<td>554500000.0</td>\n",
       "\t\t<td>700000000.0</td>\n",
       "\t\t<td>850000000.0</td>\n",
       "\t\t<td>1.0</td>\n",
       "\t\t<td>1.0</td>\n",
       "\t\t<td>1.0</td>\n",
       "\t\t<td>1.0</td>\n",
       "\t\t<td>1.0</td>\n",
       "\t</tr>\n",
       "\t<tr>\n",
       "\t\t<td>DW_LANDING</td>\n",
       "\t\t<td>V_KPIS_ADUANAS_ALL</td>\n",
       "\t\t<td>FOB</td>\n",
       "\t\t<td>1949962.0</td>\n",
       "\t\t<td>0.0</td>\n",
       "\t\t<td>58359665.82</td>\n",
       "\t\t<td>4427.195965782367</td>\n",
       "\t\t<td>144417.6815011417</td>\n",
       "\t\t<td>FLOAT</td>\n",
       "\t\t<td>0.0</td>\n",
       "\t\t<td>624810.0</td>\n",
       "\t\t<td>None</td>\n",
       "\t\t<td>2821.0</td>\n",
       "\t\t<td>1947141.0</td>\n",
       "\t\t<td>0.0</td>\n",
       "\t\t<td>74.2</td>\n",
       "\t\t<td>3054.0</td>\n",
       "\t\t<td>0.15661843666697095</td>\n",
       "\t\t<td>1.0</td>\n",
       "\t\t<td>0.0</td>\n",
       "\t\t<td>1.2</td>\n",
       "\t\t<td>2.513</td>\n",
       "\t\t<td>3.74</td>\n",
       "\t\t<td>5.0</td>\n",
       "\t\t<td>6.193</td>\n",
       "\t\t<td>7.598</td>\n",
       "\t\t<td>8.98</td>\n",
       "\t\t<td>10.36</td>\n",
       "\t\t<td>12.0</td>\n",
       "\t\t<td>13.554</td>\n",
       "\t\t<td>36.82</td>\n",
       "\t\t<td>53.538</td>\n",
       "\t\t<td>72.891</td>\n",
       "\t\t<td>87.125</td>\n",
       "\t\t<td>128.1</td>\n",
       "\t\t<td>215.956</td>\n",
       "\t\t<td>375.0</td>\n",
       "\t\t<td>570.0</td>\n",
       "\t\t<td>688.93</td>\n",
       "\t\t<td>955.81</td>\n",
       "\t\t<td>1427.257</td>\n",
       "\t\t<td>4695.387</td>\n",
       "\t\t<td>5605.142</td>\n",
       "\t\t<td>6739.2</td>\n",
       "\t\t<td>8096.4</td>\n",
       "\t\t<td>9639.0</td>\n",
       "\t\t<td>11855.09</td>\n",
       "\t\t<td>15249.15</td>\n",
       "\t\t<td>20497.92</td>\n",
       "\t\t<td>28691.0</td>\n",
       "\t\t<td>51827.04</td>\n",
       "\t\t<td>58359665.82</td>\n",
       "\t\t<td>0.0</td>\n",
       "\t\t<td>0.001</td>\n",
       "\t\t<td>0.002</td>\n",
       "\t\t<td>0.003</td>\n",
       "\t\t<td>0.004</td>\n",
       "\t\t<td>2821.0</td>\n",
       "\t\t<td>3.0</td>\n",
       "\t\t<td>8.0</td>\n",
       "\t\t<td>11.0</td>\n",
       "\t\t<td>1.0</td>\n",
       "\t\t<td>40787629.0</td>\n",
       "\t\t<td>41260151.93</td>\n",
       "\t\t<td>47498746.4</td>\n",
       "\t\t<td>58205476.09</td>\n",
       "\t\t<td>58359665.82</td>\n",
       "\t\t<td>1.0</td>\n",
       "\t\t<td>1.0</td>\n",
       "\t\t<td>1.0</td>\n",
       "\t\t<td>1.0</td>\n",
       "\t\t<td>1.0</td>\n",
       "\t</tr>\n",
       "\t<tr>\n",
       "\t\t<td>DW_LANDING</td>\n",
       "\t\t<td>V_KPIS_ADUANAS_ALL</td>\n",
       "\t\t<td>IMPORTADOR</td>\n",
       "\t\t<td>1949962.0</td>\n",
       "\t\t<td>10000000022.0</td>\n",
       "\t\t<td>20000038108.0</td>\n",
       "\t\t<td>19784821632.070152</td>\n",
       "\t\t<td>1451081166.513622</td>\n",
       "\t\t<td>BIGINT</td>\n",
       "\t\t<td>0.0</td>\n",
       "\t\t<td>19052.0</td>\n",
       "\t\t<td>None</td>\n",
       "\t\t<td>0.0</td>\n",
       "\t\t<td>1949962.0</td>\n",
       "\t\t<td>0.0</td>\n",
       "\t\t<td>20000005590.0</td>\n",
       "\t\t<td>82678.0</td>\n",
       "\t\t<td>4.239980061149909</td>\n",
       "\t\t<td>1.0</td>\n",
       "\t\t<td>10000000022.0</td>\n",
       "\t\t<td>10000002217.0</td>\n",
       "\t\t<td>10000005089.0</td>\n",
       "\t\t<td>20000005590.0</td>\n",
       "\t\t<td>20000005590.0</td>\n",
       "\t\t<td>20000005590.0</td>\n",
       "\t\t<td>20000005590.0</td>\n",
       "\t\t<td>20000005590.0</td>\n",
       "\t\t<td>20000005660.0</td>\n",
       "\t\t<td>20000005685.0</td>\n",
       "\t\t<td>20000005718.0</td>\n",
       "\t\t<td>20000006392.0</td>\n",
       "\t\t<td>20000007071.0</td>\n",
       "\t\t<td>20000008050.0</td>\n",
       "\t\t<td>20000008437.0</td>\n",
       "\t\t<td>20000009641.0</td>\n",
       "\t\t<td>20000012941.0</td>\n",
       "\t\t<td>20000016545.0</td>\n",
       "\t\t<td>20000018456.0</td>\n",
       "\t\t<td>20000019036.0</td>\n",
       "\t\t<td>20000021220.0</td>\n",
       "\t\t<td>20000024171.0</td>\n",
       "\t\t<td>20000032052.0</td>\n",
       "\t\t<td>20000032933.0</td>\n",
       "\t\t<td>20000033420.0</td>\n",
       "\t\t<td>20000034491.0</td>\n",
       "\t\t<td>20000034953.0</td>\n",
       "\t\t<td>20000035337.0</td>\n",
       "\t\t<td>20000036087.0</td>\n",
       "\t\t<td>20000036382.0</td>\n",
       "\t\t<td>20000037171.0</td>\n",
       "\t\t<td>20000037905.0</td>\n",
       "\t\t<td>20000038108.0</td>\n",
       "\t\t<td>10000000022.0</td>\n",
       "\t\t<td>10000000025.0</td>\n",
       "\t\t<td>10000000028.0</td>\n",
       "\t\t<td>10000000030.0</td>\n",
       "\t\t<td>10000000033.0</td>\n",
       "\t\t<td>2.0</td>\n",
       "\t\t<td>4.0</td>\n",
       "\t\t<td>50.0</td>\n",
       "\t\t<td>160.0</td>\n",
       "\t\t<td>115.0</td>\n",
       "\t\t<td>20000038104.0</td>\n",
       "\t\t<td>20000038105.0</td>\n",
       "\t\t<td>20000038106.0</td>\n",
       "\t\t<td>20000038107.0</td>\n",
       "\t\t<td>20000038108.0</td>\n",
       "\t\t<td>1.0</td>\n",
       "\t\t<td>5.0</td>\n",
       "\t\t<td>16.0</td>\n",
       "\t\t<td>84.0</td>\n",
       "\t\t<td>1.0</td>\n",
       "\t</tr>\n",
       "\t<tr>\n",
       "\t\t<td>DW_LANDING</td>\n",
       "\t\t<td>V_KPIS_ADUANAS_ALL</td>\n",
       "\t\t<td>PESO_NETO</td>\n",
       "\t\t<td>1949962.0</td>\n",
       "\t\t<td>0.0</td>\n",
       "\t\t<td>91564440.0</td>\n",
       "\t\t<td>3159.8887761059696</td>\n",
       "\t\t<td>209620.36656498935</td>\n",
       "\t\t<td>FLOAT</td>\n",
       "\t\t<td>0.0</td>\n",
       "\t\t<td>324952.0</td>\n",
       "\t\t<td>None</td>\n",
       "\t\t<td>2821.0</td>\n",
       "\t\t<td>1947141.0</td>\n",
       "\t\t<td>0.0</td>\n",
       "\t\t<td>0.037</td>\n",
       "\t\t<td>7016.0</td>\n",
       "\t\t<td>0.35980188331875185</td>\n",
       "\t\t<td>1.0</td>\n",
       "\t\t<td>0.0</td>\n",
       "\t\t<td>0.013</td>\n",
       "\t\t<td>0.032</td>\n",
       "\t\t<td>0.047</td>\n",
       "\t\t<td>0.074</td>\n",
       "\t\t<td>0.101</td>\n",
       "\t\t<td>0.132</td>\n",
       "\t\t<td>0.157</td>\n",
       "\t\t<td>0.19</td>\n",
       "\t\t<td>0.22</td>\n",
       "\t\t<td>0.251</td>\n",
       "\t\t<td>0.696</td>\n",
       "\t\t<td>1.111</td>\n",
       "\t\t<td>1.704</td>\n",
       "\t\t<td>2.159</td>\n",
       "\t\t<td>3.849</td>\n",
       "\t\t<td>8.696</td>\n",
       "\t\t<td>20.71</td>\n",
       "\t\t<td>39.361</td>\n",
       "\t\t<td>52.73</td>\n",
       "\t\t<td>91.971</td>\n",
       "\t\t<td>137.314</td>\n",
       "\t\t<td>624.0</td>\n",
       "\t\t<td>792.0</td>\n",
       "\t\t<td>996.439</td>\n",
       "\t\t<td>1184.728</td>\n",
       "\t\t<td>1460.0</td>\n",
       "\t\t<td>1905.96</td>\n",
       "\t\t<td>2589.789</td>\n",
       "\t\t<td>4345.0</td>\n",
       "\t\t<td>8948.661</td>\n",
       "\t\t<td>22344.0</td>\n",
       "\t\t<td>91564440.0</td>\n",
       "\t\t<td>0.0</td>\n",
       "\t\t<td>0.001</td>\n",
       "\t\t<td>0.002</td>\n",
       "\t\t<td>0.003</td>\n",
       "\t\t<td>0.004</td>\n",
       "\t\t<td>2821.0</td>\n",
       "\t\t<td>1857.0</td>\n",
       "\t\t<td>1268.0</td>\n",
       "\t\t<td>1060.0</td>\n",
       "\t\t<td>1168.0</td>\n",
       "\t\t<td>44451240.0</td>\n",
       "\t\t<td>53815412.0</td>\n",
       "\t\t<td>60996604.0</td>\n",
       "\t\t<td>91317925.0</td>\n",
       "\t\t<td>91564440.0</td>\n",
       "\t\t<td>1.0</td>\n",
       "\t\t<td>1.0</td>\n",
       "\t\t<td>1.0</td>\n",
       "\t\t<td>1.0</td>\n",
       "\t\t<td>1.0</td>\n",
       "\t</tr>\n",
       "\t<tr>\n",
       "\t\t<td>DW_LANDING</td>\n",
       "\t\t<td>V_KPIS_ADUANAS_ALL</td>\n",
       "\t\t<td>SERIE</td>\n",
       "\t\t<td>1949962.0</td>\n",
       "\t\t<td>1.0</td>\n",
       "\t\t<td>7406.0</td>\n",
       "\t\t<td>235.23639999138445</td>\n",
       "\t\t<td>620.0274154415514</td>\n",
       "\t\t<td>INTEGER</td>\n",
       "\t\t<td>0.0</td>\n",
       "\t\t<td>7406.0</td>\n",
       "\t\t<td>None</td>\n",
       "\t\t<td>0.0</td>\n",
       "\t\t<td>1949962.0</td>\n",
       "\t\t<td>0.0</td>\n",
       "\t\t<td>1.0</td>\n",
       "\t\t<td>127801.0</td>\n",
       "\t\t<td>6.554025155362002</td>\n",
       "\t\t<td>1.0</td>\n",
       "\t\t<td>1.0</td>\n",
       "\t\t<td>1.0</td>\n",
       "\t\t<td>1.0</td>\n",
       "\t\t<td>1.0</td>\n",
       "\t\t<td>1.0</td>\n",
       "\t\t<td>1.0</td>\n",
       "\t\t<td>1.0</td>\n",
       "\t\t<td>2.0</td>\n",
       "\t\t<td>2.0</td>\n",
       "\t\t<td>2.0</td>\n",
       "\t\t<td>3.0</td>\n",
       "\t\t<td>7.0</td>\n",
       "\t\t<td>10.0</td>\n",
       "\t\t<td>14.0</td>\n",
       "\t\t<td>17.0</td>\n",
       "\t\t<td>25.0</td>\n",
       "\t\t<td>43.0</td>\n",
       "\t\t<td>71.0</td>\n",
       "\t\t<td>103.0</td>\n",
       "\t\t<td>121.0</td>\n",
       "\t\t<td>163.0</td>\n",
       "\t\t<td>228.0</td>\n",
       "\t\t<td>529.0</td>\n",
       "\t\t<td>594.0</td>\n",
       "\t\t<td>675.0</td>\n",
       "\t\t<td>778.0</td>\n",
       "\t\t<td>922.0</td>\n",
       "\t\t<td>1110.0</td>\n",
       "\t\t<td>1373.0</td>\n",
       "\t\t<td>1815.0</td>\n",
       "\t\t<td>2461.0</td>\n",
       "\t\t<td>3396.0</td>\n",
       "\t\t<td>7406.0</td>\n",
       "\t\t<td>1.0</td>\n",
       "\t\t<td>2.0</td>\n",
       "\t\t<td>3.0</td>\n",
       "\t\t<td>4.0</td>\n",
       "\t\t<td>5.0</td>\n",
       "\t\t<td>127801.0</td>\n",
       "\t\t<td>66504.0</td>\n",
       "\t\t<td>54093.0</td>\n",
       "\t\t<td>46811.0</td>\n",
       "\t\t<td>41445.0</td>\n",
       "\t\t<td>7402.0</td>\n",
       "\t\t<td>7403.0</td>\n",
       "\t\t<td>7404.0</td>\n",
       "\t\t<td>7405.0</td>\n",
       "\t\t<td>7406.0</td>\n",
       "\t\t<td>1.0</td>\n",
       "\t\t<td>1.0</td>\n",
       "\t\t<td>1.0</td>\n",
       "\t\t<td>1.0</td>\n",
       "\t\t<td>1.0</td>\n",
       "\t</tr>\n",
       "\t<tr>\n",
       "\t\t<td>DW_LANDING</td>\n",
       "\t\t<td>V_KPIS_ADUANAS_ALL</td>\n",
       "\t\t<td>VALOR_FOB_PROM</td>\n",
       "\t\t<td>1949962.0</td>\n",
       "\t\t<td>0.0</td>\n",
       "\t\t<td>8527317.4</td>\n",
       "\t\t<td>233.26168511190016</td>\n",
       "\t\t<td>10672.493121877276</td>\n",
       "\t\t<td>FLOAT</td>\n",
       "\t\t<td>0.0</td>\n",
       "\t\t<td>1285100.0</td>\n",
       "\t\t<td>None</td>\n",
       "\t\t<td>2821.0</td>\n",
       "\t\t<td>1947141.0</td>\n",
       "\t\t<td>0.0</td>\n",
       "\t\t<td>196.2962962962963</td>\n",
       "\t\t<td>2998.0</td>\n",
       "\t\t<td>0.15374658583090337</td>\n",
       "\t\t<td>1.0</td>\n",
       "\t\t<td>0.0</td>\n",
       "\t\t<td>0.5191887959257911</td>\n",
       "\t\t<td>0.8513157894736842</td>\n",
       "\t\t<td>1.1446504313931194</td>\n",
       "\t\t<td>1.394905388846143</td>\n",
       "\t\t<td>1.6299915038232795</td>\n",
       "\t\t<td>1.9060844940026411</td>\n",
       "\t\t<td>2.161134163208852</td>\n",
       "\t\t<td>2.4228524514952854</td>\n",
       "\t\t<td>2.656403112123824</td>\n",
       "\t\t<td>2.9047046570304587</td>\n",
       "\t\t<td>5.474528925619835</td>\n",
       "\t\t<td>7.020836477987422</td>\n",
       "\t\t<td>9.041336851363237</td>\n",
       "\t\t<td>10.411866359447004</td>\n",
       "\t\t<td>14.717662337662336</td>\n",
       "\t\t<td>20.59134524929445</td>\n",
       "\t\t<td>29.434323040380047</td>\n",
       "\t\t<td>39.862944162436555</td>\n",
       "\t\t<td>46.04435483870967</td>\n",
       "\t\t<td>59.60236465463597</td>\n",
       "\t\t<td>80.94875</td>\n",
       "\t\t<td>202.1095028319698</td>\n",
       "\t\t<td>223.67857142857142</td>\n",
       "\t\t<td>250.94029850746264</td>\n",
       "\t\t<td>283.0159574468085</td>\n",
       "\t\t<td>315.61555555555555</td>\n",
       "\t\t<td>355.1347280334728</td>\n",
       "\t\t<td>446.6666666666667</td>\n",
       "\t\t<td>591.9965202261853</td>\n",
       "\t\t<td>958.6499999999999</td>\n",
       "\t\t<td>2053.05</td>\n",
       "\t\t<td>8527317.4</td>\n",
       "\t\t<td>0.0</td>\n",
       "\t\t<td>0.00011764705882352942</td>\n",
       "\t\t<td>0.00014492753623188405</td>\n",
       "\t\t<td>0.00021746221593998044</td>\n",
       "\t\t<td>0.0002320185614849188</td>\n",
       "\t\t<td>2821.0</td>\n",
       "\t\t<td>2.0</td>\n",
       "\t\t<td>1.0</td>\n",
       "\t\t<td>1.0</td>\n",
       "\t\t<td>1.0</td>\n",
       "\t\t<td>2810623.0</td>\n",
       "\t\t<td>3129690.0</td>\n",
       "\t\t<td>3140987.9999999995</td>\n",
       "\t\t<td>4823528.0</td>\n",
       "\t\t<td>8527317.4</td>\n",
       "\t\t<td>2.0</td>\n",
       "\t\t<td>1.0</td>\n",
       "\t\t<td>1.0</td>\n",
       "\t\t<td>1.0</td>\n",
       "\t\t<td>1.0</td>\n",
       "\t</tr>\n",
       "</table></html>"
      ],
      "text/plain": [
       "          xdb                xtbl                    xcol       xcnt          xmin          xmax         xmean          xstd    xtype     xnull     xnique xblank   xzero       xpos  xneg         xmode  xmode_cnt  xmode_pct  xnbrmodes      xpctile0      xpctile1      xpctile2      xpctile3      xpctile4      xpctile5      xpctile6      xpctile7      xpctile8      xpctile9     xpctile10     xpctile20     xpctile25     xpctile30     xpctile33     xpctile40     xpctile50     xpctile60     xpctile67     xpctile70     xpctile75     xpctile80     xpctile90     xpctile91     xpctile92     xpctile93     xpctile94     xpctile95     xpctile96     xpctile97     xpctile98     xpctile99    xpctile100        xmin_1        xmin_2        xmin_3        xmin_4        xmin_5  xmincnt_1  xmincnt_2  xmincnt_3  xmincnt_4  xmincnt_5        xmax_5        xmax_4        xmax_3        xmax_2        xmax_1  xmaxcnt_5  xmaxcnt_4  xmaxcnt_3  xmaxcnt_2  xmaxcnt_1\n",
       "0  DW_LANDING  V_KPIS_ADUANAS_ALL  CANTIDAD_UNIDAD_FISICA  1604946.0  0.000000e+00  8.500000e+08  7.379899e+03  1.224921e+06  INTEGER  345016.0    17177.0   None  2821.0  1602125.0   0.0  1.000000e+00   427287.0  21.912581        1.0  0.000000e+00  1.000000e+00  1.000000e+00  1.000000e+00  1.000000e+00  1.000000e+00  1.000000e+00  1.000000e+00  1.000000e+00  1.000000e+00  1.000000e+00  1.000000e+00  1.000000e+00  2.000000e+00  2.000000e+00  4.000000e+00  8.000000e+00  1.500000e+01  2.800000e+01  4.000000e+01  6.200000e+01  1.200000e+02  6.000000e+02  8.000000e+02  1.000000e+03  1.224000e+03  1.800000e+03  2.400000e+03  3.896000e+03  7.000000e+03  1.575000e+04  3.500000e+04  8.500000e+08  0.000000e+00  1.000000e+00  2.000000e+00  3.000000e+00  4.000000e+00     2821.0   427287.0   132140.0    61768.0    58863.0  4.960000e+08  5.500000e+08  5.545000e+08  7.000000e+08  8.500000e+08        1.0        1.0        1.0        1.0        1.0\n",
       "1  DW_LANDING  V_KPIS_ADUANAS_ALL                     FOB  1949962.0  0.000000e+00  5.835967e+07  4.427196e+03  1.444177e+05    FLOAT       0.0   624810.0   None  2821.0  1947141.0   0.0  7.420000e+01     3054.0   0.156618        1.0  0.000000e+00  1.200000e+00  2.513000e+00  3.740000e+00  5.000000e+00  6.193000e+00  7.598000e+00  8.980000e+00  1.036000e+01  1.200000e+01  1.355400e+01  3.682000e+01  5.353800e+01  7.289100e+01  8.712500e+01  1.281000e+02  2.159560e+02  3.750000e+02  5.700000e+02  6.889300e+02  9.558100e+02  1.427257e+03  4.695387e+03  5.605142e+03  6.739200e+03  8.096400e+03  9.639000e+03  1.185509e+04  1.524915e+04  2.049792e+04  2.869100e+04  5.182704e+04  5.835967e+07  0.000000e+00  1.000000e-03  2.000000e-03  3.000000e-03  4.000000e-03     2821.0        3.0        8.0       11.0        1.0  4.078763e+07  4.126015e+07  4.749875e+07  5.820548e+07  5.835967e+07        1.0        1.0        1.0        1.0        1.0\n",
       "2  DW_LANDING  V_KPIS_ADUANAS_ALL              IMPORTADOR  1949962.0  1.000000e+10  2.000004e+10  1.978482e+10  1.451081e+09   BIGINT       0.0    19052.0   None     0.0  1949962.0   0.0  2.000001e+10    82678.0   4.239980        1.0  1.000000e+10  1.000000e+10  1.000001e+10  2.000001e+10  2.000001e+10  2.000001e+10  2.000001e+10  2.000001e+10  2.000001e+10  2.000001e+10  2.000001e+10  2.000001e+10  2.000001e+10  2.000001e+10  2.000001e+10  2.000001e+10  2.000001e+10  2.000002e+10  2.000002e+10  2.000002e+10  2.000002e+10  2.000002e+10  2.000003e+10  2.000003e+10  2.000003e+10  2.000003e+10  2.000003e+10  2.000004e+10  2.000004e+10  2.000004e+10  2.000004e+10  2.000004e+10  2.000004e+10  1.000000e+10  1.000000e+10  1.000000e+10  1.000000e+10  1.000000e+10        2.0        4.0       50.0      160.0      115.0  2.000004e+10  2.000004e+10  2.000004e+10  2.000004e+10  2.000004e+10        1.0        5.0       16.0       84.0        1.0\n",
       "3  DW_LANDING  V_KPIS_ADUANAS_ALL               PESO_NETO  1949962.0  0.000000e+00  9.156444e+07  3.159889e+03  2.096204e+05    FLOAT       0.0   324952.0   None  2821.0  1947141.0   0.0  3.700000e-02     7016.0   0.359802        1.0  0.000000e+00  1.300000e-02  3.200000e-02  4.700000e-02  7.400000e-02  1.010000e-01  1.320000e-01  1.570000e-01  1.900000e-01  2.200000e-01  2.510000e-01  6.960000e-01  1.111000e+00  1.704000e+00  2.159000e+00  3.849000e+00  8.696000e+00  2.071000e+01  3.936100e+01  5.273000e+01  9.197100e+01  1.373140e+02  6.240000e+02  7.920000e+02  9.964390e+02  1.184728e+03  1.460000e+03  1.905960e+03  2.589789e+03  4.345000e+03  8.948661e+03  2.234400e+04  9.156444e+07  0.000000e+00  1.000000e-03  2.000000e-03  3.000000e-03  4.000000e-03     2821.0     1857.0     1268.0     1060.0     1168.0  4.445124e+07  5.381541e+07  6.099660e+07  9.131792e+07  9.156444e+07        1.0        1.0        1.0        1.0        1.0\n",
       "4  DW_LANDING  V_KPIS_ADUANAS_ALL                   SERIE  1949962.0  1.000000e+00  7.406000e+03  2.352364e+02  6.200274e+02  INTEGER       0.0     7406.0   None     0.0  1949962.0   0.0  1.000000e+00   127801.0   6.554025        1.0  1.000000e+00  1.000000e+00  1.000000e+00  1.000000e+00  1.000000e+00  1.000000e+00  1.000000e+00  2.000000e+00  2.000000e+00  2.000000e+00  3.000000e+00  7.000000e+00  1.000000e+01  1.400000e+01  1.700000e+01  2.500000e+01  4.300000e+01  7.100000e+01  1.030000e+02  1.210000e+02  1.630000e+02  2.280000e+02  5.290000e+02  5.940000e+02  6.750000e+02  7.780000e+02  9.220000e+02  1.110000e+03  1.373000e+03  1.815000e+03  2.461000e+03  3.396000e+03  7.406000e+03  1.000000e+00  2.000000e+00  3.000000e+00  4.000000e+00  5.000000e+00   127801.0    66504.0    54093.0    46811.0    41445.0  7.402000e+03  7.403000e+03  7.404000e+03  7.405000e+03  7.406000e+03        1.0        1.0        1.0        1.0        1.0\n",
       "5  DW_LANDING  V_KPIS_ADUANAS_ALL          VALOR_FOB_PROM  1949962.0  0.000000e+00  8.527317e+06  2.332617e+02  1.067249e+04    FLOAT       0.0  1285100.0   None  2821.0  1947141.0   0.0  1.962963e+02     2998.0   0.153747        1.0  0.000000e+00  5.191888e-01  8.513158e-01  1.144650e+00  1.394905e+00  1.629992e+00  1.906084e+00  2.161134e+00  2.422852e+00  2.656403e+00  2.904705e+00  5.474529e+00  7.020836e+00  9.041337e+00  1.041187e+01  1.471766e+01  2.059135e+01  2.943432e+01  3.986294e+01  4.604435e+01  5.960236e+01  8.094875e+01  2.021095e+02  2.236786e+02  2.509403e+02  2.830160e+02  3.156156e+02  3.551347e+02  4.466667e+02  5.919965e+02  9.586500e+02  2.053050e+03  8.527317e+06  0.000000e+00  1.176471e-04  1.449275e-04  2.174622e-04  2.320186e-04     2821.0        2.0        1.0        1.0        1.0  2.810623e+06  3.129690e+06  3.140988e+06  4.823528e+06  8.527317e+06        2.0        1.0        1.0        1.0        1.0"
      ]
     },
     "execution_count": 6,
     "metadata": {},
     "output_type": "execute_result"
    }
   ],
   "source": [
    "# Estadísticas Descriptivas por Columna\n",
    "valS = valib.Statistics(data=tdf, extended_options=\"all\", columns=\"allnumeric\")\n",
    "valS.result.head(21).sort('xcol')"
   ]
  },
  {
   "cell_type": "code",
   "execution_count": 7,
   "metadata": {},
   "outputs": [
    {
     "data": {
      "text/html": [
       "<div>\n",
       "<style scoped>\n",
       "    .dataframe tbody tr th:only-of-type {\n",
       "        vertical-align: middle;\n",
       "    }\n",
       "\n",
       "    .dataframe tbody tr th {\n",
       "        vertical-align: top;\n",
       "    }\n",
       "\n",
       "    .dataframe thead th {\n",
       "        text-align: right;\n",
       "    }\n",
       "</style>\n",
       "<table border=\"1\" class=\"dataframe\">\n",
       "  <thead>\n",
       "    <tr style=\"text-align: right;\">\n",
       "      <th></th>\n",
       "      <th>DAM_RECOD</th>\n",
       "      <th>SERIE</th>\n",
       "      <th>FOB</th>\n",
       "      <th>PESO_NETO</th>\n",
       "      <th>VALOR_FOB_PROM</th>\n",
       "    </tr>\n",
       "  </thead>\n",
       "  <tbody>\n",
       "    <tr>\n",
       "      <th>0</th>\n",
       "      <td>202200000493321</td>\n",
       "      <td>1</td>\n",
       "      <td>58359665.82</td>\n",
       "      <td>91317925.0</td>\n",
       "      <td>0.639082</td>\n",
       "    </tr>\n",
       "    <tr>\n",
       "      <th>1</th>\n",
       "      <td>202200000519076</td>\n",
       "      <td>1</td>\n",
       "      <td>58205476.09</td>\n",
       "      <td>91564440.0</td>\n",
       "      <td>0.635678</td>\n",
       "    </tr>\n",
       "    <tr>\n",
       "      <th>2</th>\n",
       "      <td>202200000450531</td>\n",
       "      <td>1</td>\n",
       "      <td>47498746.40</td>\n",
       "      <td>40681696.0</td>\n",
       "      <td>1.167570</td>\n",
       "    </tr>\n",
       "    <tr>\n",
       "      <th>3</th>\n",
       "      <td>202200000525383</td>\n",
       "      <td>1</td>\n",
       "      <td>41260151.93</td>\n",
       "      <td>39704479.0</td>\n",
       "      <td>1.039181</td>\n",
       "    </tr>\n",
       "    <tr>\n",
       "      <th>4</th>\n",
       "      <td>202200000473692</td>\n",
       "      <td>1</td>\n",
       "      <td>40787629.00</td>\n",
       "      <td>60996604.0</td>\n",
       "      <td>0.668687</td>\n",
       "    </tr>\n",
       "    <tr>\n",
       "      <th>5</th>\n",
       "      <td>202200000525446</td>\n",
       "      <td>1</td>\n",
       "      <td>38872936.38</td>\n",
       "      <td>40243865.0</td>\n",
       "      <td>0.965934</td>\n",
       "    </tr>\n",
       "    <tr>\n",
       "      <th>6</th>\n",
       "      <td>202200000473904</td>\n",
       "      <td>1</td>\n",
       "      <td>37214735.80</td>\n",
       "      <td>31300801.0</td>\n",
       "      <td>1.188939</td>\n",
       "    </tr>\n",
       "    <tr>\n",
       "      <th>7</th>\n",
       "      <td>202200000446168</td>\n",
       "      <td>1</td>\n",
       "      <td>35424001.79</td>\n",
       "      <td>31119426.0</td>\n",
       "      <td>1.138324</td>\n",
       "    </tr>\n",
       "    <tr>\n",
       "      <th>8</th>\n",
       "      <td>202200000492290</td>\n",
       "      <td>1</td>\n",
       "      <td>35168296.04</td>\n",
       "      <td>39364568.0</td>\n",
       "      <td>0.893400</td>\n",
       "    </tr>\n",
       "    <tr>\n",
       "      <th>9</th>\n",
       "      <td>202200000524257</td>\n",
       "      <td>1</td>\n",
       "      <td>29616520.75</td>\n",
       "      <td>26439735.0</td>\n",
       "      <td>1.120152</td>\n",
       "    </tr>\n",
       "  </tbody>\n",
       "</table>\n",
       "</div>"
      ],
      "text/plain": [
       "         DAM_RECOD  SERIE          FOB   PESO_NETO  VALOR_FOB_PROM\n",
       "0  202200000493321      1  58359665.82  91317925.0        0.639082\n",
       "1  202200000519076      1  58205476.09  91564440.0        0.635678\n",
       "2  202200000450531      1  47498746.40  40681696.0        1.167570\n",
       "3  202200000525383      1  41260151.93  39704479.0        1.039181\n",
       "4  202200000473692      1  40787629.00  60996604.0        0.668687\n",
       "5  202200000525446      1  38872936.38  40243865.0        0.965934\n",
       "6  202200000473904      1  37214735.80  31300801.0        1.188939\n",
       "7  202200000446168      1  35424001.79  31119426.0        1.138324\n",
       "8  202200000492290      1  35168296.04  39364568.0        0.893400\n",
       "9  202200000524257      1  29616520.75  26439735.0        1.120152"
      ]
     },
     "execution_count": 7,
     "metadata": {},
     "output_type": "execute_result"
    }
   ],
   "source": [
    "pd.read_sql(\"select top 10 DAM_RECOD, SERIE, FOB, PESO_NETO, VALOR_FOB_PROM from DW_LANDING.V_KPIS_ADUANAS_ALL order by fob desc\", con)"
   ]
  },
  {
   "cell_type": "code",
   "execution_count": 8,
   "metadata": {},
   "outputs": [
    {
     "data": {
      "text/html": [
       "<div>\n",
       "<style scoped>\n",
       "    .dataframe tbody tr th:only-of-type {\n",
       "        vertical-align: middle;\n",
       "    }\n",
       "\n",
       "    .dataframe tbody tr th {\n",
       "        vertical-align: top;\n",
       "    }\n",
       "\n",
       "    .dataframe thead th {\n",
       "        text-align: right;\n",
       "    }\n",
       "</style>\n",
       "<table border=\"1\" class=\"dataframe\">\n",
       "  <thead>\n",
       "    <tr style=\"text-align: right;\">\n",
       "      <th></th>\n",
       "      <th>DAM_RECOD</th>\n",
       "      <th>SERIE</th>\n",
       "      <th>FOB</th>\n",
       "      <th>PESO_NETO</th>\n",
       "      <th>VALOR_FOB_PROM</th>\n",
       "    </tr>\n",
       "  </thead>\n",
       "  <tbody>\n",
       "    <tr>\n",
       "      <th>0</th>\n",
       "      <td>202200000519076</td>\n",
       "      <td>1</td>\n",
       "      <td>5.820548e+07</td>\n",
       "      <td>91564440.0</td>\n",
       "      <td>0.635678</td>\n",
       "    </tr>\n",
       "    <tr>\n",
       "      <th>1</th>\n",
       "      <td>202200000493321</td>\n",
       "      <td>1</td>\n",
       "      <td>5.835967e+07</td>\n",
       "      <td>91317925.0</td>\n",
       "      <td>0.639082</td>\n",
       "    </tr>\n",
       "    <tr>\n",
       "      <th>2</th>\n",
       "      <td>202200000473692</td>\n",
       "      <td>1</td>\n",
       "      <td>4.078763e+07</td>\n",
       "      <td>60996604.0</td>\n",
       "      <td>0.668687</td>\n",
       "    </tr>\n",
       "    <tr>\n",
       "      <th>3</th>\n",
       "      <td>202200000500628</td>\n",
       "      <td>1</td>\n",
       "      <td>2.946412e+07</td>\n",
       "      <td>53815412.0</td>\n",
       "      <td>0.547503</td>\n",
       "    </tr>\n",
       "    <tr>\n",
       "      <th>4</th>\n",
       "      <td>202200000436285</td>\n",
       "      <td>1</td>\n",
       "      <td>1.717507e+07</td>\n",
       "      <td>44451240.0</td>\n",
       "      <td>0.386380</td>\n",
       "    </tr>\n",
       "    <tr>\n",
       "      <th>5</th>\n",
       "      <td>202200000011182</td>\n",
       "      <td>1</td>\n",
       "      <td>2.156000e+06</td>\n",
       "      <td>44000000.0</td>\n",
       "      <td>0.049000</td>\n",
       "    </tr>\n",
       "    <tr>\n",
       "      <th>6</th>\n",
       "      <td>202200000456607</td>\n",
       "      <td>1</td>\n",
       "      <td>1.874889e+06</td>\n",
       "      <td>43602070.0</td>\n",
       "      <td>0.043000</td>\n",
       "    </tr>\n",
       "    <tr>\n",
       "      <th>7</th>\n",
       "      <td>202200000450531</td>\n",
       "      <td>1</td>\n",
       "      <td>4.749875e+07</td>\n",
       "      <td>40681696.0</td>\n",
       "      <td>1.167570</td>\n",
       "    </tr>\n",
       "    <tr>\n",
       "      <th>8</th>\n",
       "      <td>202200000525446</td>\n",
       "      <td>1</td>\n",
       "      <td>3.887294e+07</td>\n",
       "      <td>40243865.0</td>\n",
       "      <td>0.965934</td>\n",
       "    </tr>\n",
       "    <tr>\n",
       "      <th>9</th>\n",
       "      <td>202200000525383</td>\n",
       "      <td>1</td>\n",
       "      <td>4.126015e+07</td>\n",
       "      <td>39704479.0</td>\n",
       "      <td>1.039181</td>\n",
       "    </tr>\n",
       "  </tbody>\n",
       "</table>\n",
       "</div>"
      ],
      "text/plain": [
       "         DAM_RECOD  SERIE           FOB   PESO_NETO  VALOR_FOB_PROM\n",
       "0  202200000519076      1  5.820548e+07  91564440.0        0.635678\n",
       "1  202200000493321      1  5.835967e+07  91317925.0        0.639082\n",
       "2  202200000473692      1  4.078763e+07  60996604.0        0.668687\n",
       "3  202200000500628      1  2.946412e+07  53815412.0        0.547503\n",
       "4  202200000436285      1  1.717507e+07  44451240.0        0.386380\n",
       "5  202200000011182      1  2.156000e+06  44000000.0        0.049000\n",
       "6  202200000456607      1  1.874889e+06  43602070.0        0.043000\n",
       "7  202200000450531      1  4.749875e+07  40681696.0        1.167570\n",
       "8  202200000525446      1  3.887294e+07  40243865.0        0.965934\n",
       "9  202200000525383      1  4.126015e+07  39704479.0        1.039181"
      ]
     },
     "execution_count": 8,
     "metadata": {},
     "output_type": "execute_result"
    }
   ],
   "source": [
    "pd.read_sql(\"select top 10 DAM_RECOD, SERIE, FOB, PESO_NETO, VALOR_FOB_PROM from DW_LANDING.V_KPIS_ADUANAS_ALL order by PESO_NETO desc\", con)"
   ]
  },
  {
   "cell_type": "code",
   "execution_count": 9,
   "metadata": {},
   "outputs": [
    {
     "data": {
      "text/html": [
       "<div>\n",
       "<style scoped>\n",
       "    .dataframe tbody tr th:only-of-type {\n",
       "        vertical-align: middle;\n",
       "    }\n",
       "\n",
       "    .dataframe tbody tr th {\n",
       "        vertical-align: top;\n",
       "    }\n",
       "\n",
       "    .dataframe thead th {\n",
       "        text-align: right;\n",
       "    }\n",
       "</style>\n",
       "<table border=\"1\" class=\"dataframe\">\n",
       "  <thead>\n",
       "    <tr style=\"text-align: right;\">\n",
       "      <th></th>\n",
       "      <th>DAM_RECOD</th>\n",
       "      <th>SERIE</th>\n",
       "      <th>FOB</th>\n",
       "      <th>PESO_NETO</th>\n",
       "      <th>VALOR_FOB_PROM</th>\n",
       "    </tr>\n",
       "  </thead>\n",
       "  <tbody>\n",
       "    <tr>\n",
       "      <th>0</th>\n",
       "      <td>202200000444129</td>\n",
       "      <td>8</td>\n",
       "      <td>85273.174</td>\n",
       "      <td>0.010</td>\n",
       "      <td>8527317.4</td>\n",
       "    </tr>\n",
       "    <tr>\n",
       "      <th>1</th>\n",
       "      <td>202200000744982</td>\n",
       "      <td>19</td>\n",
       "      <td>4823.528</td>\n",
       "      <td>0.001</td>\n",
       "      <td>4823528.0</td>\n",
       "    </tr>\n",
       "    <tr>\n",
       "      <th>2</th>\n",
       "      <td>202200000739486</td>\n",
       "      <td>1</td>\n",
       "      <td>3140.988</td>\n",
       "      <td>0.001</td>\n",
       "      <td>3140988.0</td>\n",
       "    </tr>\n",
       "    <tr>\n",
       "      <th>3</th>\n",
       "      <td>202200000721159</td>\n",
       "      <td>1</td>\n",
       "      <td>3129.690</td>\n",
       "      <td>0.001</td>\n",
       "      <td>3129690.0</td>\n",
       "    </tr>\n",
       "    <tr>\n",
       "      <th>4</th>\n",
       "      <td>202200000738295</td>\n",
       "      <td>75</td>\n",
       "      <td>2810.623</td>\n",
       "      <td>0.001</td>\n",
       "      <td>2810623.0</td>\n",
       "    </tr>\n",
       "    <tr>\n",
       "      <th>5</th>\n",
       "      <td>202200000738295</td>\n",
       "      <td>74</td>\n",
       "      <td>2810.623</td>\n",
       "      <td>0.001</td>\n",
       "      <td>2810623.0</td>\n",
       "    </tr>\n",
       "    <tr>\n",
       "      <th>6</th>\n",
       "      <td>202200000744982</td>\n",
       "      <td>17</td>\n",
       "      <td>2800.000</td>\n",
       "      <td>0.001</td>\n",
       "      <td>2800000.0</td>\n",
       "    </tr>\n",
       "    <tr>\n",
       "      <th>7</th>\n",
       "      <td>202200000743947</td>\n",
       "      <td>29</td>\n",
       "      <td>2537.970</td>\n",
       "      <td>0.001</td>\n",
       "      <td>2537970.0</td>\n",
       "    </tr>\n",
       "    <tr>\n",
       "      <th>8</th>\n",
       "      <td>202200000719935</td>\n",
       "      <td>11</td>\n",
       "      <td>1929.737</td>\n",
       "      <td>0.001</td>\n",
       "      <td>1929737.0</td>\n",
       "    </tr>\n",
       "    <tr>\n",
       "      <th>9</th>\n",
       "      <td>202200000719935</td>\n",
       "      <td>10</td>\n",
       "      <td>1790.817</td>\n",
       "      <td>0.001</td>\n",
       "      <td>1790817.0</td>\n",
       "    </tr>\n",
       "  </tbody>\n",
       "</table>\n",
       "</div>"
      ],
      "text/plain": [
       "         DAM_RECOD  SERIE        FOB  PESO_NETO  VALOR_FOB_PROM\n",
       "0  202200000444129      8  85273.174      0.010       8527317.4\n",
       "1  202200000744982     19   4823.528      0.001       4823528.0\n",
       "2  202200000739486      1   3140.988      0.001       3140988.0\n",
       "3  202200000721159      1   3129.690      0.001       3129690.0\n",
       "4  202200000738295     75   2810.623      0.001       2810623.0\n",
       "5  202200000738295     74   2810.623      0.001       2810623.0\n",
       "6  202200000744982     17   2800.000      0.001       2800000.0\n",
       "7  202200000743947     29   2537.970      0.001       2537970.0\n",
       "8  202200000719935     11   1929.737      0.001       1929737.0\n",
       "9  202200000719935     10   1790.817      0.001       1790817.0"
      ]
     },
     "execution_count": 9,
     "metadata": {},
     "output_type": "execute_result"
    }
   ],
   "source": [
    "pd.read_sql(\"select top 10 DAM_RECOD, SERIE, FOB, PESO_NETO, VALOR_FOB_PROM from DW_LANDING.V_KPIS_ADUANAS_ALL order by VALOR_FOB_PROM desc\", con)"
   ]
  },
  {
   "cell_type": "markdown",
   "metadata": {},
   "source": [
    "### Escalado"
   ]
  },
  {
   "cell_type": "code",
   "execution_count": 6,
   "metadata": {},
   "outputs": [
    {
     "data": {
      "text/html": [
       "<style type=\"text/css\">\n",
       "\ttable {border:ridge 5px;}\n",
       "\ttable td {border:inset 1px;}\n",
       "\ttable tr#HeaderRow {background-color:grey; color:white;}</style>\n",
       "<html><table>\n",
       "\t<tr id=\"HeaderRow\">\n",
       "\t\t<th>TD_STATTYPE_SCLFIT</th>\n",
       "\t\t<th>FOB</th>\n",
       "\t\t<th>PESO_NETO</th>\n",
       "\t\t<th>VALOR_FOB_PROM</th>\n",
       "\t</tr>\n",
       "\t<tr>\n",
       "\t\t<td>null</td>\n",
       "\t\t<td>0.0</td>\n",
       "\t\t<td>0.0</td>\n",
       "\t\t<td>0.0</td>\n",
       "\t</tr>\n",
       "\t<tr>\n",
       "\t\t<td>count</td>\n",
       "\t\t<td>1949962.0</td>\n",
       "\t\t<td>1949962.0</td>\n",
       "\t\t<td>1949962.0</td>\n",
       "\t</tr>\n",
       "\t<tr>\n",
       "\t\t<td>max</td>\n",
       "\t\t<td>58359665.82</td>\n",
       "\t\t<td>91564440.0</td>\n",
       "\t\t<td>8527317.4</td>\n",
       "\t</tr>\n",
       "\t<tr>\n",
       "\t\t<td>avg</td>\n",
       "\t\t<td>4427.195965782368</td>\n",
       "\t\t<td>3159.8887761059696</td>\n",
       "\t\t<td>233.26168511190008</td>\n",
       "\t</tr>\n",
       "\t<tr>\n",
       "\t\t<td>location</td>\n",
       "\t\t<td>0.0</td>\n",
       "\t\t<td>0.0</td>\n",
       "\t\t<td>0.0</td>\n",
       "\t</tr>\n",
       "\t<tr>\n",
       "\t\t<td>missvalue_KEEP</td>\n",
       "\t\t<td>None</td>\n",
       "\t\t<td>None</td>\n",
       "\t\t<td>None</td>\n",
       "\t</tr>\n",
       "\t<tr>\n",
       "\t\t<td>scale</td>\n",
       "\t\t<td>58359665.82</td>\n",
       "\t\t<td>91564440.0</td>\n",
       "\t\t<td>8527317.4</td>\n",
       "\t</tr>\n",
       "\t<tr>\n",
       "\t\t<td>globalscale_false</td>\n",
       "\t\t<td>None</td>\n",
       "\t\t<td>None</td>\n",
       "\t\t<td>None</td>\n",
       "\t</tr>\n",
       "\t<tr>\n",
       "\t\t<td>multiplier</td>\n",
       "\t\t<td>1.0</td>\n",
       "\t\t<td>1.0</td>\n",
       "\t\t<td>1.0</td>\n",
       "\t</tr>\n",
       "\t<tr>\n",
       "\t\t<td>intercept</td>\n",
       "\t\t<td>0.0</td>\n",
       "\t\t<td>0.0</td>\n",
       "\t\t<td>0.0</td>\n",
       "\t</tr>\n",
       "</table></html>"
      ],
      "text/plain": [
       "                                                                                                      FOB     PESO_NETO  VALOR_FOB_PROM\n",
       "TD_STATTYPE_SCLFIT                                                                                                                     \n",
       "ScaleMethodNumberMapping: [0:mean,1:sum,2:ustd,3:std,4:range,5:midrange,6:maxabs,7:rescale]  4.000000e+00  4.000000e+00    4.000000e+00\n",
       "null                                                                                         0.000000e+00  0.000000e+00    0.000000e+00\n",
       "sum                                                                                          8.632864e+09  6.161663e+09    4.548514e+08\n",
       "missvalue_KEEP                                                                                        NaN           NaN             NaN\n",
       "avg                                                                                          4.427196e+03  3.159889e+03    2.332617e+02\n",
       "intercept                                                                                    0.000000e+00  0.000000e+00    0.000000e+00\n",
       "globalscale_false                                                                                     NaN           NaN             NaN\n",
       "multiplier                                                                                   1.000000e+00  1.000000e+00    1.000000e+00\n",
       "location                                                                                     0.000000e+00  0.000000e+00    0.000000e+00\n",
       "scale                                                                                        5.835967e+07  9.156444e+07    8.527317e+06"
      ]
     },
     "execution_count": 6,
     "metadata": {},
     "output_type": "execute_result"
    }
   ],
   "source": [
    "fit_scal = ScaleFit(data=tdf,\n",
    "                   target_columns=['FOB','PESO_NETO','VALOR_FOB_PROM'],\n",
    "                   scale_method=\"RANGE\",\n",
    "                   miss_value=\"KEEP\",\n",
    "                   global_scale=False)\n",
    "fit_scal.output"
   ]
  },
  {
   "cell_type": "code",
   "execution_count": 7,
   "metadata": {},
   "outputs": [],
   "source": [
    "## Aplicando la transformación\n",
    "scal = ScaleTransform(data=tdf, \n",
    "                     object=fit_scal.output,\n",
    "                     accumulate=['DAM_RECOD'])"
   ]
  },
  {
   "cell_type": "code",
   "execution_count": 12,
   "metadata": {},
   "outputs": [
    {
     "data": {
      "text/html": [
       "<style type=\"text/css\">\n",
       "\ttable {border:ridge 5px;}\n",
       "\ttable td {border:inset 1px;}\n",
       "\ttable tr#HeaderRow {background-color:grey; color:white;}</style>\n",
       "<html><table>\n",
       "\t<tr id=\"HeaderRow\">\n",
       "\t\t<th>DAM_RECOD</th>\n",
       "\t\t<th>FOB</th>\n",
       "\t\t<th>PESO_NETO</th>\n",
       "\t\t<th>VALOR_FOB_PROM</th>\n",
       "\t</tr>\n",
       "\t<tr>\n",
       "\t\t<td>202200000006220</td>\n",
       "\t\t<td>0.00044917323688677694</td>\n",
       "\t\t<td>0.00015031512233351724</td>\n",
       "\t\t<td>2.233493646802907e-07</td>\n",
       "\t</tr>\n",
       "\t<tr>\n",
       "\t\t<td>202200000006221</td>\n",
       "\t\t<td>0.0004452937595659454</td>\n",
       "\t\t<td>0.0001490006382390369</td>\n",
       "\t\t<td>2.233736827753924e-07</td>\n",
       "\t</tr>\n",
       "\t<tr>\n",
       "\t\t<td>202200000006222</td>\n",
       "\t\t<td>0.001503606964965311</td>\n",
       "\t\t<td>0.0010626396011377342</td>\n",
       "\t\t<td>1.0576010089791409e-07</td>\n",
       "\t</tr>\n",
       "\t<tr>\n",
       "\t\t<td>202200000006223</td>\n",
       "\t\t<td>1.0547181711055246e-05</td>\n",
       "\t\t<td>2.776186912735992e-06</td>\n",
       "\t\t<td>2.8396266933517745e-07</td>\n",
       "\t</tr>\n",
       "\t<tr>\n",
       "\t\t<td>202200000006223</td>\n",
       "\t\t<td>0.00023104345802095274</td>\n",
       "\t\t<td>7.732259379296155e-05</td>\n",
       "\t\t<td>2.2333705561985736e-07</td>\n",
       "\t</tr>\n",
       "\t<tr>\n",
       "\t\t<td>202200000006223</td>\n",
       "\t\t<td>1.4582622913312632e-05</td>\n",
       "\t\t<td>3.6757719481493034e-06</td>\n",
       "\t\t<td>2.9652451954830035e-07</td>\n",
       "\t</tr>\n",
       "\t<tr>\n",
       "\t\t<td>202200000006223</td>\n",
       "\t\t<td>0.00019397530539183613</td>\n",
       "\t\t<td>6.0492479394839306e-05</td>\n",
       "\t\t<td>2.3967270827416874e-07</td>\n",
       "\t</tr>\n",
       "\t<tr>\n",
       "\t\t<td>202200000006221</td>\n",
       "\t\t<td>0.00044922215766039493</td>\n",
       "\t\t<td>0.00015031512233351724</td>\n",
       "\t\t<td>2.2337369031416636e-07</td>\n",
       "\t</tr>\n",
       "\t<tr>\n",
       "\t\t<td>202200000006219</td>\n",
       "\t\t<td>0.000983432618977255</td>\n",
       "\t\t<td>0.0005924789143034129</td>\n",
       "\t\t<td>1.2406384436937263e-07</td>\n",
       "\t</tr>\n",
       "\t<tr>\n",
       "\t\t<td>202200000006219</td>\n",
       "\t\t<td>0.0015190268784853024</td>\n",
       "\t\t<td>0.0009829143278766298</td>\n",
       "\t\t<td>1.1551099294134401e-07</td>\n",
       "\t</tr>\n",
       "</table></html>"
      ],
      "text/plain": [
       "         DAM_RECOD       FOB  PESO_NETO  VALOR_FOB_PROM\n",
       "0  202200000006220  0.000449   0.000150    2.233494e-07\n",
       "1  202200000006221  0.000449   0.000150    2.233737e-07\n",
       "2  202200000006222  0.001504   0.001063    1.057601e-07\n",
       "3  202200000006223  0.000194   0.000060    2.396727e-07\n",
       "4  202200000006223  0.000015   0.000004    2.965245e-07\n",
       "5  202200000006223  0.000011   0.000003    2.839627e-07\n",
       "6  202200000006223  0.000231   0.000077    2.233371e-07\n",
       "7  202200000006221  0.000445   0.000149    2.233737e-07\n",
       "8  202200000006219  0.001519   0.000983    1.155110e-07\n",
       "9  202200000006219  0.000983   0.000592    1.240638e-07"
      ]
     },
     "execution_count": 12,
     "metadata": {},
     "output_type": "execute_result"
    }
   ],
   "source": [
    "scal.result.head()"
   ]
  },
  {
   "cell_type": "code",
   "execution_count": 13,
   "metadata": {},
   "outputs": [],
   "source": [
    "copy_to_sql(scal.result, schema_name=\"DW_LANDING\", table_name=\"caso6_scal\", primary_index=\"DAM_RECOD\", if_exists=\"replace\")"
   ]
  },
  {
   "cell_type": "markdown",
   "metadata": {},
   "source": [
    "### Matriz de correlaciones"
   ]
  },
  {
   "cell_type": "code",
   "execution_count": 14,
   "metadata": {},
   "outputs": [
    {
     "data": {
      "text/html": [
       "<style type=\"text/css\">\n",
       "\ttable {border:ridge 5px;}\n",
       "\ttable td {border:inset 1px;}\n",
       "\ttable tr#HeaderRow {background-color:grey; color:white;}</style>\n",
       "<html><table>\n",
       "\t<tr id=\"HeaderRow\">\n",
       "\t\t<th>rownum</th>\n",
       "\t\t<th>rowname</th>\n",
       "\t\t<th>FOB</th>\n",
       "\t\t<th>PESO_NETO</th>\n",
       "\t\t<th>VALOR_FOB_PROM</th>\n",
       "\t</tr>\n",
       "\t<tr>\n",
       "\t\t<td>1</td>\n",
       "\t\t<td>FOB</td>\n",
       "\t\t<td>1.0</td>\n",
       "\t\t<td>0.8662556452933109</td>\n",
       "\t\t<td>0.00039506923401489054</td>\n",
       "\t</tr>\n",
       "\t<tr>\n",
       "\t\t<td>2</td>\n",
       "\t\t<td>PESO_NETO</td>\n",
       "\t\t<td>0.8662556452933109</td>\n",
       "\t\t<td>1.0</td>\n",
       "\t\t<td>-0.00032749105155652414</td>\n",
       "\t</tr>\n",
       "\t<tr>\n",
       "\t\t<td>3</td>\n",
       "\t\t<td>VALOR_FOB_PROM</td>\n",
       "\t\t<td>0.00039506923401489054</td>\n",
       "\t\t<td>-0.00032749105155652414</td>\n",
       "\t\t<td>1.0</td>\n",
       "\t</tr>\n",
       "</table></html>"
      ],
      "text/plain": [
       "   rownum         rowname       FOB  PESO_NETO  VALOR_FOB_PROM\n",
       "0       1             FOB  1.000000   0.866256        0.000395\n",
       "1       2       PESO_NETO  0.866256   1.000000       -0.000327\n",
       "2       3  VALOR_FOB_PROM  0.000395  -0.000327        1.000000"
      ]
     },
     "execution_count": 14,
     "metadata": {},
     "output_type": "execute_result"
    }
   ],
   "source": [
    "## Función de VAL para el cálculo In-Database de la matriz de correlaciones\n",
    "Cor_Mat = valib.Matrix(data=scal.result, columns=\"allnumeric\", exclude_columns=[\"DAM_RECOD\"], type=\"COR\")\n",
    "## Imprimir los resultados\n",
    "Cor_Mat.result.sort('rownum').head(21)"
   ]
  },
  {
   "cell_type": "code",
   "execution_count": 15,
   "metadata": {},
   "outputs": [
    {
     "data": {
      "text/plain": [
       "<Axes: ylabel='rownum-rowname'>"
      ]
     },
     "execution_count": 15,
     "metadata": {},
     "output_type": "execute_result"
    },
    {
     "data": {
      "image/png": "[encoded data removed]",
      "text/plain": [
       "<Figure size 1600x1200 with 2 Axes>"
      ]
     },
     "metadata": {},
     "output_type": "display_data"
    }
   ],
   "source": [
    "## Graficando la Matriz de Correlaciones - Más claro significa correlación más alta\n",
    "sns.set(rc = {'figure.figsize':(16,12)})\n",
    "sns.heatmap(Cor_Mat.result.to_pandas().sort_values(['rownum']))"
   ]
  },
  {
   "cell_type": "markdown",
   "metadata": {},
   "source": [
    "### Particion Muestral"
   ]
  },
  {
   "cell_type": "code",
   "execution_count": 8,
   "metadata": {},
   "outputs": [],
   "source": [
    "###'SERIE', \n",
    "tbl_sample = scal.result.sample(frac = [0.2, 0.8])"
   ]
  },
  {
   "cell_type": "code",
   "execution_count": 9,
   "metadata": {},
   "outputs": [
    {
     "data": {
      "text/plain": [
       "(389992, 4)"
      ]
     },
     "execution_count": 9,
     "metadata": {},
     "output_type": "execute_result"
    }
   ],
   "source": [
    "copy_to_sql(tbl_sample[tbl_sample.sampleid == \"1\"].drop(\"sampleid\", axis = 1), schema_name=\"DW_LANDING\", table_name=\"TrainIF\", primary_index=\"DAM_RECOD\", if_exists=\"replace\")\n",
    "tbl_train = DataFrame(in_schema(\"DW_LANDING\",\"TrainIF\"))\n",
    "tbl_train.shape"
   ]
  },
  {
   "cell_type": "code",
   "execution_count": 10,
   "metadata": {},
   "outputs": [
    {
     "data": {
      "text/plain": [
       "(1559970, 4)"
      ]
     },
     "execution_count": 10,
     "metadata": {},
     "output_type": "execute_result"
    }
   ],
   "source": [
    "copy_to_sql(tbl_sample[tbl_sample.sampleid == \"2\"].drop(\"sampleid\", axis = 1), schema_name=\"DW_LANDING\", table_name=\"TestIF\", primary_index=\"DAM_RECOD\", if_exists=\"replace\")\n",
    "tbl_test = DataFrame(in_schema(\"DW_LANDING\",\"TestIF\"))\n",
    "tbl_test.shape"
   ]
  },
  {
   "cell_type": "markdown",
   "metadata": {},
   "source": [
    "### Moviendo los Datos A Python"
   ]
  },
  {
   "cell_type": "code",
   "execution_count": 19,
   "metadata": {},
   "outputs": [],
   "source": [
    "sub_sample = tbl_train.to_pandas(all_rows=True)"
   ]
  },
  {
   "cell_type": "code",
   "execution_count": 20,
   "metadata": {},
   "outputs": [
    {
     "data": {
      "text/html": [
       "<div>\n",
       "<style scoped>\n",
       "    .dataframe tbody tr th:only-of-type {\n",
       "        vertical-align: middle;\n",
       "    }\n",
       "\n",
       "    .dataframe tbody tr th {\n",
       "        vertical-align: top;\n",
       "    }\n",
       "\n",
       "    .dataframe thead th {\n",
       "        text-align: right;\n",
       "    }\n",
       "</style>\n",
       "<table border=\"1\" class=\"dataframe\">\n",
       "  <thead>\n",
       "    <tr style=\"text-align: right;\">\n",
       "      <th></th>\n",
       "      <th>FOB</th>\n",
       "      <th>PESO_NETO</th>\n",
       "      <th>VALOR_FOB_PROM</th>\n",
       "    </tr>\n",
       "    <tr>\n",
       "      <th>DAM_RECOD</th>\n",
       "      <th></th>\n",
       "      <th></th>\n",
       "      <th></th>\n",
       "    </tr>\n",
       "  </thead>\n",
       "  <tbody>\n",
       "    <tr>\n",
       "      <th>202200000500965</th>\n",
       "      <td>4.441424e-06</td>\n",
       "      <td>8.534536e-07</td>\n",
       "      <td>3.889697e-07</td>\n",
       "    </tr>\n",
       "    <tr>\n",
       "      <th>202200000522797</th>\n",
       "      <td>3.351630e-04</td>\n",
       "      <td>1.357514e-04</td>\n",
       "      <td>1.845378e-07</td>\n",
       "    </tr>\n",
       "    <tr>\n",
       "      <th>202200000493126</th>\n",
       "      <td>7.611079e-05</td>\n",
       "      <td>2.184254e-06</td>\n",
       "      <td>2.604453e-06</td>\n",
       "    </tr>\n",
       "    <tr>\n",
       "      <th>202200000479883</th>\n",
       "      <td>4.494543e-08</td>\n",
       "      <td>1.168576e-09</td>\n",
       "      <td>2.874763e-06</td>\n",
       "    </tr>\n",
       "    <tr>\n",
       "      <th>202200000522045</th>\n",
       "      <td>1.268427e-05</td>\n",
       "      <td>3.480227e-06</td>\n",
       "      <td>2.724154e-07</td>\n",
       "    </tr>\n",
       "  </tbody>\n",
       "</table>\n",
       "</div>"
      ],
      "text/plain": [
       "                          FOB     PESO_NETO  VALOR_FOB_PROM\n",
       "DAM_RECOD                                                  \n",
       "202200000500965  4.441424e-06  8.534536e-07    3.889697e-07\n",
       "202200000522797  3.351630e-04  1.357514e-04    1.845378e-07\n",
       "202200000493126  7.611079e-05  2.184254e-06    2.604453e-06\n",
       "202200000479883  4.494543e-08  1.168576e-09    2.874763e-06\n",
       "202200000522045  1.268427e-05  3.480227e-06    2.724154e-07"
      ]
     },
     "execution_count": 20,
     "metadata": {},
     "output_type": "execute_result"
    }
   ],
   "source": [
    "sub_sample.head(5)"
   ]
  },
  {
   "cell_type": "code",
   "execution_count": 22,
   "metadata": {},
   "outputs": [],
   "source": [
    "def plot_num(feature):\n",
    "    fig,axes=plt.subplots(1,2)\n",
    "    sns.boxplot(data=sub_sample,x=feature,ax=axes[0])\n",
    "    sns.distplot(a=sub_sample[feature],ax=axes[1],color='#ff4125')\n",
    "    fig.set_size_inches(15,5)"
   ]
  },
  {
   "cell_type": "code",
   "execution_count": 23,
   "metadata": {},
   "outputs": [
    {
     "name": "stderr",
     "output_type": "stream",
     "text": [
      "C:\\Users\\lc250058\\AppData\\Local\\Temp\\ipykernel_20436\\3305979841.py:4: UserWarning: \n",
      "\n",
      "`distplot` is a deprecated function and will be removed in seaborn v0.14.0.\n",
      "\n",
      "Please adapt your code to use either `displot` (a figure-level function with\n",
      "similar flexibility) or `histplot` (an axes-level function for histograms).\n",
      "\n",
      "For a guide to updating your code to use the new functions, please see\n",
      "https://gist.github.com/mwaskom/de44147ed2974457ad6372750bbe5751\n",
      "\n",
      "  sns.distplot(a=sub_sample[feature],ax=axes[1],color='#ff4125')\n"
     ]
    },
    {
     "data": {
      "image/png": "[encoded data removed]",
      "text/plain": [
       "<Figure size 1500x500 with 2 Axes>"
      ]
     },
     "metadata": {},
     "output_type": "display_data"
    }
   ],
   "source": [
    "plot_num('FOB')"
   ]
  },
  {
   "cell_type": "code",
   "execution_count": 24,
   "metadata": {},
   "outputs": [
    {
     "name": "stderr",
     "output_type": "stream",
     "text": [
      "C:\\Users\\lc250058\\AppData\\Local\\Temp\\ipykernel_20436\\3305979841.py:4: UserWarning: \n",
      "\n",
      "`distplot` is a deprecated function and will be removed in seaborn v0.14.0.\n",
      "\n",
      "Please adapt your code to use either `displot` (a figure-level function with\n",
      "similar flexibility) or `histplot` (an axes-level function for histograms).\n",
      "\n",
      "For a guide to updating your code to use the new functions, please see\n",
      "https://gist.github.com/mwaskom/de44147ed2974457ad6372750bbe5751\n",
      "\n",
      "  sns.distplot(a=sub_sample[feature],ax=axes[1],color='#ff4125')\n"
     ]
    },
    {
     "data": {
      "image/png": "[encoded data removed]",
      "text/plain": [
       "<Figure size 1500x500 with 2 Axes>"
      ]
     },
     "metadata": {},
     "output_type": "display_data"
    }
   ],
   "source": [
    "plot_num('PESO_NETO')"
   ]
  },
  {
   "cell_type": "code",
   "execution_count": 25,
   "metadata": {},
   "outputs": [
    {
     "name": "stderr",
     "output_type": "stream",
     "text": [
      "C:\\Users\\lc250058\\AppData\\Local\\Temp\\ipykernel_20436\\3305979841.py:4: UserWarning: \n",
      "\n",
      "`distplot` is a deprecated function and will be removed in seaborn v0.14.0.\n",
      "\n",
      "Please adapt your code to use either `displot` (a figure-level function with\n",
      "similar flexibility) or `histplot` (an axes-level function for histograms).\n",
      "\n",
      "For a guide to updating your code to use the new functions, please see\n",
      "https://gist.github.com/mwaskom/de44147ed2974457ad6372750bbe5751\n",
      "\n",
      "  sns.distplot(a=sub_sample[feature],ax=axes[1],color='#ff4125')\n"
     ]
    },
    {
     "data": {
      "image/png": "[encoded data removed]",
      "text/plain": [
       "<Figure size 1500x500 with 2 Axes>"
      ]
     },
     "metadata": {},
     "output_type": "display_data"
    }
   ],
   "source": [
    "plot_num('VALOR_FOB_PROM')"
   ]
  },
  {
   "cell_type": "markdown",
   "metadata": {},
   "source": [
    "## **Entrenamiento de un Modelo Isolation Forest**"
   ]
  },
  {
   "cell_type": "code",
   "execution_count": 26,
   "metadata": {},
   "outputs": [
    {
     "name": "stderr",
     "output_type": "stream",
     "text": [
      "C:\\TDAPPS\\anaconda3\\lib\\site-packages\\sklearn\\base.py:420: UserWarning: X does not have valid feature names, but IsolationForest was fitted with feature names\n",
      "  warnings.warn(\n"
     ]
    },
    {
     "data": {
      "text/html": [
       "<style>#sk-container-id-1 {color: black;background-color: white;}#sk-container-id-1 pre{padding: 0;}#sk-container-id-1 div.sk-toggleable {background-color: white;}#sk-container-id-1 label.sk-toggleable__label {cursor: pointer;display: block;width: 100%;margin-bottom: 0;padding: 0.3em;box-sizing: border-box;text-align: center;}#sk-container-id-1 label.sk-toggleable__label-arrow:before {content: \"▸\";float: left;margin-right: 0.25em;color: #696969;}#sk-container-id-1 label.sk-toggleable__label-arrow:hover:before {color: black;}#sk-container-id-1 div.sk-estimator:hover label.sk-toggleable__label-arrow:before {color: black;}#sk-container-id-1 div.sk-toggleable__content {max-height: 0;max-width: 0;overflow: hidden;text-align: left;background-color: #f0f8ff;}#sk-container-id-1 div.sk-toggleable__content pre {margin: 0.2em;color: black;border-radius: 0.25em;background-color: #f0f8ff;}#sk-container-id-1 input.sk-toggleable__control:checked~div.sk-toggleable__content {max-height: 200px;max-width: 100%;overflow: auto;}#sk-container-id-1 input.sk-toggleable__control:checked~label.sk-toggleable__label-arrow:before {content: \"▾\";}#sk-container-id-1 div.sk-estimator input.sk-toggleable__control:checked~label.sk-toggleable__label {background-color: #d4ebff;}#sk-container-id-1 div.sk-label input.sk-toggleable__control:checked~label.sk-toggleable__label {background-color: #d4ebff;}#sk-container-id-1 input.sk-hidden--visually {border: 0;clip: rect(1px 1px 1px 1px);clip: rect(1px, 1px, 1px, 1px);height: 1px;margin: -1px;overflow: hidden;padding: 0;position: absolute;width: 1px;}#sk-container-id-1 div.sk-estimator {font-family: monospace;background-color: #f0f8ff;border: 1px dotted black;border-radius: 0.25em;box-sizing: border-box;margin-bottom: 0.5em;}#sk-container-id-1 div.sk-estimator:hover {background-color: #d4ebff;}#sk-container-id-1 div.sk-parallel-item::after {content: \"\";width: 100%;border-bottom: 1px solid gray;flex-grow: 1;}#sk-container-id-1 div.sk-label:hover label.sk-toggleable__label {background-color: #d4ebff;}#sk-container-id-1 div.sk-serial::before {content: \"\";position: absolute;border-left: 1px solid gray;box-sizing: border-box;top: 0;bottom: 0;left: 50%;z-index: 0;}#sk-container-id-1 div.sk-serial {display: flex;flex-direction: column;align-items: center;background-color: white;padding-right: 0.2em;padding-left: 0.2em;position: relative;}#sk-container-id-1 div.sk-item {position: relative;z-index: 1;}#sk-container-id-1 div.sk-parallel {display: flex;align-items: stretch;justify-content: center;background-color: white;position: relative;}#sk-container-id-1 div.sk-item::before, #sk-container-id-1 div.sk-parallel-item::before {content: \"\";position: absolute;border-left: 1px solid gray;box-sizing: border-box;top: 0;bottom: 0;left: 50%;z-index: -1;}#sk-container-id-1 div.sk-parallel-item {display: flex;flex-direction: column;z-index: 1;position: relative;background-color: white;}#sk-container-id-1 div.sk-parallel-item:first-child::after {align-self: flex-end;width: 50%;}#sk-container-id-1 div.sk-parallel-item:last-child::after {align-self: flex-start;width: 50%;}#sk-container-id-1 div.sk-parallel-item:only-child::after {width: 0;}#sk-container-id-1 div.sk-dashed-wrapped {border: 1px dashed gray;margin: 0 0.4em 0.5em 0.4em;box-sizing: border-box;padding-bottom: 0.4em;background-color: white;}#sk-container-id-1 div.sk-label label {font-family: monospace;font-weight: bold;display: inline-block;line-height: 1.2em;}#sk-container-id-1 div.sk-label-container {text-align: center;}#sk-container-id-1 div.sk-container {/* jupyter's `normalize.less` sets `[hidden] { display: none; }` but bootstrap.min.css set `[hidden] { display: none !important; }` so we also need the `!important` here to be able to override the default hidden behavior on the sphinx rendered scikit-learn.org. See: https://github.com/scikit-learn/scikit-learn/issues/21755 */display: inline-block !important;position: relative;}#sk-container-id-1 div.sk-text-repr-fallback {display: none;}</style><div id=\"sk-container-id-1\" class=\"sk-top-container\"><div class=\"sk-text-repr-fallback\"><pre>IsolationForest(contamination=0.01, max_samples=100, n_jobs=-1,\n",
       "                random_state=123)</pre><b>In a Jupyter environment, please rerun this cell to show the HTML representation or trust the notebook. <br />On GitHub, the HTML representation is unable to render, please try loading this page with nbviewer.org.</b></div><div class=\"sk-container\" hidden><div class=\"sk-item\"><div class=\"sk-estimator sk-toggleable\"><input class=\"sk-toggleable__control sk-hidden--visually\" id=\"sk-estimator-id-1\" type=\"checkbox\" checked><label for=\"sk-estimator-id-1\" class=\"sk-toggleable__label sk-toggleable__label-arrow\">IsolationForest</label><div class=\"sk-toggleable__content\"><pre>IsolationForest(contamination=0.01, max_samples=100, n_jobs=-1,\n",
       "                random_state=123)</pre></div></div></div></div></div>"
      ],
      "text/plain": [
       "IsolationForest(contamination=0.01, max_samples=100, n_jobs=-1,\n",
       "                random_state=123)"
      ]
     },
     "execution_count": 26,
     "metadata": {},
     "output_type": "execute_result"
    }
   ],
   "source": [
    "clf = IsolationForest(n_estimators=100, max_samples=100, contamination=0.01,random_state=123, n_jobs=-1)\n",
    "clf.fit(sub_sample)"
   ]
  },
  {
   "cell_type": "code",
   "execution_count": 33,
   "metadata": {},
   "outputs": [],
   "source": [
    "y_sub = clf.predict(sub_sample)\n",
    "y_sub.shape"
   ]
  },
  {
   "cell_type": "code",
   "execution_count": 39,
   "metadata": {},
   "outputs": [
    {
     "data": {
      "text/plain": [
       "{-1: 3877, 1: 386115}"
      ]
     },
     "execution_count": 39,
     "metadata": {},
     "output_type": "execute_result"
    }
   ],
   "source": [
    "unique, counts = np.unique(y_sub, return_counts=True)\n",
    "dict(zip(unique, counts))"
   ]
  },
  {
   "cell_type": "code",
   "execution_count": 34,
   "metadata": {},
   "outputs": [
    {
     "data": {
      "image/png": "[encoded data removed]",
      "text/plain": [
       "<Figure size 1600x1200 with 1 Axes>"
      ]
     },
     "metadata": {},
     "output_type": "display_data"
    }
   ],
   "source": [
    "from sklearn.inspection import DecisionBoundaryDisplay\n",
    "scatter = plt.scatter(sub_sample.FOB, sub_sample.PESO_NETO, c=y_sub, s=20, edgecolor=\"k\")\n",
    "handles, labels = scatter.legend_elements()\n",
    "plt.axis(\"square\")\n",
    "plt.legend(handles=handles, labels=[\"outliers\", \"inliers\"], title=\"true class\")\n",
    "plt.title(\"Gaussian inliers with \\nuniformly distributed outliers\")\n",
    "plt.show()"
   ]
  },
  {
   "cell_type": "markdown",
   "metadata": {
    "id": "AOQlbpMJlQpn"
   },
   "source": [
    "![Slide](images/Diapositiva12.PNG)\n"
   ]
  },
  {
   "cell_type": "markdown",
   "metadata": {},
   "source": [
    "### Exportando el Modelo como PMML"
   ]
  },
  {
   "cell_type": "code",
   "execution_count": 40,
   "metadata": {},
   "outputs": [],
   "source": [
    "from sklearn2pmml.pipeline import PMMLPipeline\n",
    "from sklearn2pmml import sklearn2pmml"
   ]
  },
  {
   "cell_type": "code",
   "execution_count": 41,
   "metadata": {},
   "outputs": [
    {
     "name": "stderr",
     "output_type": "stream",
     "text": [
      "C:\\TDAPPS\\anaconda3\\lib\\site-packages\\sklearn2pmml\\pipeline\\__init__.py:75: UserWarning: y is missing target field name(s)\n",
      "  warnings.warn(\"y is missing target field name(s)\")\n",
      "C:\\TDAPPS\\anaconda3\\lib\\site-packages\\sklearn\\base.py:420: UserWarning: X does not have valid feature names, but IsolationForest was fitted with feature names\n",
      "  warnings.warn(\n"
     ]
    }
   ],
   "source": [
    "## Se crea el Pipeline para Exportar el modelo en formato PMML\n",
    "pipeline = PMMLPipeline([(\"outlier_detector\", IsolationForest(n_estimators=100, max_samples=100, contamination=0.01,random_state=123, n_jobs=-1))])\n",
    "pipeline.fit(sub_sample, y_pred)\n",
    "sklearn2pmml(pipeline, \"IsoForest.pmml\", with_repr = True)"
   ]
  },
  {
   "cell_type": "markdown",
   "metadata": {
    "id": "sRnJ62v2QMSo"
   },
   "source": [
    "## **Scoring del Modelo Isolation Forest de Python utilizando BYOM en la BD**"
   ]
  },
  {
   "cell_type": "code",
   "execution_count": 44,
   "metadata": {
    "id": "yihrR0b6S5Sb",
    "tags": []
   },
   "outputs": [
    {
     "data": {
      "text/plain": [
       "<sqlalchemy.engine.cursor.LegacyCursorResult at 0x14a8c3a7bb0>"
      ]
     },
     "execution_count": 44,
     "metadata": {},
     "output_type": "execute_result"
    }
   ],
   "source": [
    "con.execute(\"CREATE SET TABLE DW_LANDING.pmml_models (model_id VARCHAR(40) \\\n",
    "            CHARACTER SET LATIN NOT CASESPECIFIC, model BLOB(2097088000)) \\\n",
    "            PRIMARY INDEX ( model_id );\")"
   ]
  },
  {
   "cell_type": "code",
   "execution_count": 45,
   "metadata": {
    "tags": []
   },
   "outputs": [
    {
     "data": {
      "text/plain": [
       "<sqlalchemy.engine.cursor.LegacyCursorResult at 0x14a9e943d00>"
      ]
     },
     "execution_count": 45,
     "metadata": {},
     "output_type": "execute_result"
    }
   ],
   "source": [
    "model_bytes = open(\"IsoForest.pmml\", \"rb\").read()\n",
    "con.execute(\"insert into DW_LANDING.pmml_models  (model_id, model) values(?,?)\", 'if_model', model_bytes)"
   ]
  },
  {
   "cell_type": "code",
   "execution_count": 46,
   "metadata": {},
   "outputs": [
    {
     "data": {
      "text/html": [
       "<div>\n",
       "<style scoped>\n",
       "    .dataframe tbody tr th:only-of-type {\n",
       "        vertical-align: middle;\n",
       "    }\n",
       "\n",
       "    .dataframe tbody tr th {\n",
       "        vertical-align: top;\n",
       "    }\n",
       "\n",
       "    .dataframe thead th {\n",
       "        text-align: right;\n",
       "    }\n",
       "</style>\n",
       "<table border=\"1\" class=\"dataframe\">\n",
       "  <thead>\n",
       "    <tr style=\"text-align: right;\">\n",
       "      <th></th>\n",
       "      <th>model_id</th>\n",
       "      <th>model</th>\n",
       "    </tr>\n",
       "  </thead>\n",
       "  <tbody>\n",
       "    <tr>\n",
       "      <th>0</th>\n",
       "      <td>if_model</td>\n",
       "      <td>b'&lt;?xml version=\"1.0\" encoding=\"UTF-8\" standal...</td>\n",
       "    </tr>\n",
       "  </tbody>\n",
       "</table>\n",
       "</div>"
      ],
      "text/plain": [
       "   model_id                                              model\n",
       "0  if_model  b'<?xml version=\"1.0\" encoding=\"UTF-8\" standal..."
      ]
     },
     "execution_count": 46,
     "metadata": {},
     "output_type": "execute_result"
    }
   ],
   "source": [
    "pd.read_sql(\"select * from DW_LANDING.pmml_models\", con)"
   ]
  },
  {
   "cell_type": "code",
   "execution_count": 47,
   "metadata": {},
   "outputs": [
    {
     "data": {
      "text/html": [
       "<div>\n",
       "<style scoped>\n",
       "    .dataframe tbody tr th:only-of-type {\n",
       "        vertical-align: middle;\n",
       "    }\n",
       "\n",
       "    .dataframe tbody tr th {\n",
       "        vertical-align: top;\n",
       "    }\n",
       "\n",
       "    .dataframe thead th {\n",
       "        text-align: right;\n",
       "    }\n",
       "</style>\n",
       "<table border=\"1\" class=\"dataframe\">\n",
       "  <thead>\n",
       "    <tr style=\"text-align: right;\">\n",
       "      <th></th>\n",
       "      <th>DAM_RECOD</th>\n",
       "      <th>FOB</th>\n",
       "      <th>PESO_NETO</th>\n",
       "      <th>VALOR_FOB_PROM</th>\n",
       "    </tr>\n",
       "  </thead>\n",
       "  <tbody>\n",
       "    <tr>\n",
       "      <th>0</th>\n",
       "      <td>202200000435660</td>\n",
       "      <td>2.949337e-05</td>\n",
       "      <td>6.124212e-07</td>\n",
       "      <td>3.599532e-06</td>\n",
       "    </tr>\n",
       "    <tr>\n",
       "      <th>1</th>\n",
       "      <td>202200000435660</td>\n",
       "      <td>1.495454e-04</td>\n",
       "      <td>3.105267e-06</td>\n",
       "      <td>3.599532e-06</td>\n",
       "    </tr>\n",
       "    <tr>\n",
       "      <th>2</th>\n",
       "      <td>202200000435660</td>\n",
       "      <td>5.898680e-06</td>\n",
       "      <td>1.224820e-07</td>\n",
       "      <td>3.599600e-06</td>\n",
       "    </tr>\n",
       "    <tr>\n",
       "      <th>3</th>\n",
       "      <td>202200000435660</td>\n",
       "      <td>2.772041e-05</td>\n",
       "      <td>5.756165e-07</td>\n",
       "      <td>3.599468e-06</td>\n",
       "    </tr>\n",
       "    <tr>\n",
       "      <th>4</th>\n",
       "      <td>202200000435660</td>\n",
       "      <td>1.310820e-06</td>\n",
       "      <td>2.721581e-08</td>\n",
       "      <td>3.599926e-06</td>\n",
       "    </tr>\n",
       "    <tr>\n",
       "      <th>5</th>\n",
       "      <td>202200000479883</td>\n",
       "      <td>1.755493e-07</td>\n",
       "      <td>4.586934e-09</td>\n",
       "      <td>2.860541e-06</td>\n",
       "    </tr>\n",
       "    <tr>\n",
       "      <th>6</th>\n",
       "      <td>202200000435660</td>\n",
       "      <td>6.255143e-04</td>\n",
       "      <td>1.298862e-05</td>\n",
       "      <td>3.599531e-06</td>\n",
       "    </tr>\n",
       "    <tr>\n",
       "      <th>7</th>\n",
       "      <td>202200000435660</td>\n",
       "      <td>4.587860e-06</td>\n",
       "      <td>9.526624e-08</td>\n",
       "      <td>3.599507e-06</td>\n",
       "    </tr>\n",
       "    <tr>\n",
       "      <th>8</th>\n",
       "      <td>202200000434757</td>\n",
       "      <td>1.201857e-04</td>\n",
       "      <td>4.053894e-05</td>\n",
       "      <td>2.215782e-07</td>\n",
       "    </tr>\n",
       "    <tr>\n",
       "      <th>9</th>\n",
       "      <td>202200000434757</td>\n",
       "      <td>2.028798e-04</td>\n",
       "      <td>6.843186e-05</td>\n",
       "      <td>2.215782e-07</td>\n",
       "    </tr>\n",
       "  </tbody>\n",
       "</table>\n",
       "</div>"
      ],
      "text/plain": [
       "         DAM_RECOD           FOB     PESO_NETO  VALOR_FOB_PROM\n",
       "0  202200000435660  2.949337e-05  6.124212e-07    3.599532e-06\n",
       "1  202200000435660  1.495454e-04  3.105267e-06    3.599532e-06\n",
       "2  202200000435660  5.898680e-06  1.224820e-07    3.599600e-06\n",
       "3  202200000435660  2.772041e-05  5.756165e-07    3.599468e-06\n",
       "4  202200000435660  1.310820e-06  2.721581e-08    3.599926e-06\n",
       "5  202200000479883  1.755493e-07  4.586934e-09    2.860541e-06\n",
       "6  202200000435660  6.255143e-04  1.298862e-05    3.599531e-06\n",
       "7  202200000435660  4.587860e-06  9.526624e-08    3.599507e-06\n",
       "8  202200000434757  1.201857e-04  4.053894e-05    2.215782e-07\n",
       "9  202200000434757  2.028798e-04  6.843186e-05    2.215782e-07"
      ]
     },
     "execution_count": 47,
     "metadata": {},
     "output_type": "execute_result"
    }
   ],
   "source": [
    "pd.read_sql(\"select top 10 * from DW_LANDING.TestIF\", con)"
   ]
  },
  {
   "cell_type": "code",
   "execution_count": 51,
   "metadata": {
    "id": "UHCvxchzS5Ss"
   },
   "outputs": [
    {
     "data": {
      "text/plain": [
       "<sqlalchemy.engine.cursor.LegacyCursorResult at 0x14a92a45660>"
      ]
     },
     "execution_count": 51,
     "metadata": {},
     "output_type": "execute_result"
    }
   ],
   "source": [
    "con.execute(\"CREATE TABLE DW_LANDING.ScoreResult AS ( \\\n",
    "SELECT * FROM mldb.PMMLPredict( \\\n",
    "    ON (SELECT * FROM DW_LANDING.TestIF) \\\n",
    "    ON (select * from DW_LANDING.pmml_models where model_id='if_model') DIMENSION \\\n",
    "    USING \\\n",
    "        Accumulate('DAM_RECOD','FOB','PESO_NETO','VALOR_FOB_PROM') \\\n",
    ") AS dt \\\n",
    ") WITH DATA;\")"
   ]
  },
  {
   "cell_type": "code",
   "execution_count": 52,
   "metadata": {},
   "outputs": [
    {
     "data": {
      "text/html": [
       "<div>\n",
       "<style scoped>\n",
       "    .dataframe tbody tr th:only-of-type {\n",
       "        vertical-align: middle;\n",
       "    }\n",
       "\n",
       "    .dataframe tbody tr th {\n",
       "        vertical-align: top;\n",
       "    }\n",
       "\n",
       "    .dataframe thead th {\n",
       "        text-align: right;\n",
       "    }\n",
       "</style>\n",
       "<table border=\"1\" class=\"dataframe\">\n",
       "  <thead>\n",
       "    <tr style=\"text-align: right;\">\n",
       "      <th></th>\n",
       "      <th>DAM_RECOD</th>\n",
       "      <th>FOB</th>\n",
       "      <th>PESO_NETO</th>\n",
       "      <th>VALOR_FOB_PROM</th>\n",
       "      <th>prediction</th>\n",
       "      <th>json_report</th>\n",
       "    </tr>\n",
       "  </thead>\n",
       "  <tbody>\n",
       "    <tr>\n",
       "      <th>0</th>\n",
       "      <td>202200000522045</td>\n",
       "      <td>1.009910e-04</td>\n",
       "      <td>2.770920e-05</td>\n",
       "      <td>2.724157e-07</td>\n",
       "      <td>0.45344901347363936</td>\n",
       "      <td>{\"outlier\":false,\"predict(outlier)\":1,\"decisio...</td>\n",
       "    </tr>\n",
       "    <tr>\n",
       "      <th>1</th>\n",
       "      <td>202200000722632</td>\n",
       "      <td>7.615191e-07</td>\n",
       "      <td>6.279730e-09</td>\n",
       "      <td>9.063863e-06</td>\n",
       "      <td>0.45344901347363936</td>\n",
       "      <td>{\"outlier\":false,\"predict(outlier)\":1,\"decisio...</td>\n",
       "    </tr>\n",
       "    <tr>\n",
       "      <th>2</th>\n",
       "      <td>202200000722632</td>\n",
       "      <td>3.253720e-06</td>\n",
       "      <td>1.092127e-10</td>\n",
       "      <td>2.226796e-03</td>\n",
       "      <td>0.45344901347363936</td>\n",
       "      <td>{\"outlier\":false,\"predict(outlier)\":1,\"decisio...</td>\n",
       "    </tr>\n",
       "    <tr>\n",
       "      <th>3</th>\n",
       "      <td>202200000722632</td>\n",
       "      <td>1.322259e-05</td>\n",
       "      <td>1.310552e-07</td>\n",
       "      <td>7.541117e-06</td>\n",
       "      <td>0.45344901347363936</td>\n",
       "      <td>{\"outlier\":false,\"predict(outlier)\":1,\"decisio...</td>\n",
       "    </tr>\n",
       "    <tr>\n",
       "      <th>4</th>\n",
       "      <td>202200000722632</td>\n",
       "      <td>6.845293e-06</td>\n",
       "      <td>3.822445e-07</td>\n",
       "      <td>1.338518e-06</td>\n",
       "      <td>0.45344901347363936</td>\n",
       "      <td>{\"outlier\":false,\"predict(outlier)\":1,\"decisio...</td>\n",
       "    </tr>\n",
       "    <tr>\n",
       "      <th>5</th>\n",
       "      <td>202200000722632</td>\n",
       "      <td>3.807544e-06</td>\n",
       "      <td>3.139865e-08</td>\n",
       "      <td>9.063740e-06</td>\n",
       "      <td>0.45344901347363936</td>\n",
       "      <td>{\"outlier\":false,\"predict(outlier)\":1,\"decisio...</td>\n",
       "    </tr>\n",
       "    <tr>\n",
       "      <th>6</th>\n",
       "      <td>202200000722632</td>\n",
       "      <td>8.646605e-06</td>\n",
       "      <td>1.911222e-07</td>\n",
       "      <td>3.381489e-06</td>\n",
       "      <td>0.45344901347363936</td>\n",
       "      <td>{\"outlier\":false,\"predict(outlier)\":1,\"decisio...</td>\n",
       "    </tr>\n",
       "    <tr>\n",
       "      <th>7</th>\n",
       "      <td>202200000722632</td>\n",
       "      <td>1.176532e-06</td>\n",
       "      <td>1.092127e-10</td>\n",
       "      <td>8.052005e-04</td>\n",
       "      <td>0.45344901347363936</td>\n",
       "      <td>{\"outlier\":false,\"predict(outlier)\":1,\"decisio...</td>\n",
       "    </tr>\n",
       "    <tr>\n",
       "      <th>8</th>\n",
       "      <td>202200000522045</td>\n",
       "      <td>1.099304e-04</td>\n",
       "      <td>3.016193e-05</td>\n",
       "      <td>2.724157e-07</td>\n",
       "      <td>0.45344901347363936</td>\n",
       "      <td>{\"outlier\":false,\"predict(outlier)\":1,\"decisio...</td>\n",
       "    </tr>\n",
       "    <tr>\n",
       "      <th>9</th>\n",
       "      <td>202200000522045</td>\n",
       "      <td>1.268427e-05</td>\n",
       "      <td>3.480227e-06</td>\n",
       "      <td>2.724154e-07</td>\n",
       "      <td>0.45344901347363936</td>\n",
       "      <td>{\"outlier\":false,\"predict(outlier)\":1,\"decisio...</td>\n",
       "    </tr>\n",
       "  </tbody>\n",
       "</table>\n",
       "</div>"
      ],
      "text/plain": [
       "         DAM_RECOD           FOB     PESO_NETO  VALOR_FOB_PROM  \\\n",
       "0  202200000522045  1.009910e-04  2.770920e-05    2.724157e-07   \n",
       "1  202200000722632  7.615191e-07  6.279730e-09    9.063863e-06   \n",
       "2  202200000722632  3.253720e-06  1.092127e-10    2.226796e-03   \n",
       "3  202200000722632  1.322259e-05  1.310552e-07    7.541117e-06   \n",
       "4  202200000722632  6.845293e-06  3.822445e-07    1.338518e-06   \n",
       "5  202200000722632  3.807544e-06  3.139865e-08    9.063740e-06   \n",
       "6  202200000722632  8.646605e-06  1.911222e-07    3.381489e-06   \n",
       "7  202200000722632  1.176532e-06  1.092127e-10    8.052005e-04   \n",
       "8  202200000522045  1.099304e-04  3.016193e-05    2.724157e-07   \n",
       "9  202200000522045  1.268427e-05  3.480227e-06    2.724154e-07   \n",
       "\n",
       "            prediction                                        json_report  \n",
       "0  0.45344901347363936  {\"outlier\":false,\"predict(outlier)\":1,\"decisio...  \n",
       "1  0.45344901347363936  {\"outlier\":false,\"predict(outlier)\":1,\"decisio...  \n",
       "2  0.45344901347363936  {\"outlier\":false,\"predict(outlier)\":1,\"decisio...  \n",
       "3  0.45344901347363936  {\"outlier\":false,\"predict(outlier)\":1,\"decisio...  \n",
       "4  0.45344901347363936  {\"outlier\":false,\"predict(outlier)\":1,\"decisio...  \n",
       "5  0.45344901347363936  {\"outlier\":false,\"predict(outlier)\":1,\"decisio...  \n",
       "6  0.45344901347363936  {\"outlier\":false,\"predict(outlier)\":1,\"decisio...  \n",
       "7  0.45344901347363936  {\"outlier\":false,\"predict(outlier)\":1,\"decisio...  \n",
       "8  0.45344901347363936  {\"outlier\":false,\"predict(outlier)\":1,\"decisio...  \n",
       "9  0.45344901347363936  {\"outlier\":false,\"predict(outlier)\":1,\"decisio...  "
      ]
     },
     "execution_count": 52,
     "metadata": {},
     "output_type": "execute_result"
    }
   ],
   "source": [
    "pd.read_sql(\"select top 10 * from DW_LANDING.ScoreResult\", con)"
   ]
  },
  {
   "cell_type": "code",
   "execution_count": 53,
   "metadata": {},
   "outputs": [
    {
     "data": {
      "text/plain": [
       "<sqlalchemy.engine.cursor.LegacyCursorResult at 0x14a92ab4280>"
      ]
     },
     "execution_count": 53,
     "metadata": {},
     "output_type": "execute_result"
    }
   ],
   "source": [
    "con.execute(\"ALTER TABLE DW_LANDING.ScoreResult ADD flag_out SMALLINT\")"
   ]
  },
  {
   "cell_type": "code",
   "execution_count": 54,
   "metadata": {},
   "outputs": [
    {
     "data": {
      "text/plain": [
       "<sqlalchemy.engine.cursor.LegacyCursorResult at 0x14a94a238e0>"
      ]
     },
     "execution_count": 54,
     "metadata": {},
     "output_type": "execute_result"
    }
   ],
   "source": [
    "con.execute(\"UPDATE DW_LANDING.ScoreResult SET flag_out=1 WHERE prediction<0\")"
   ]
  },
  {
   "cell_type": "code",
   "execution_count": 55,
   "metadata": {},
   "outputs": [
    {
     "data": {
      "text/plain": [
       "<sqlalchemy.engine.cursor.LegacyCursorResult at 0x14a94a23640>"
      ]
     },
     "execution_count": 55,
     "metadata": {},
     "output_type": "execute_result"
    }
   ],
   "source": [
    "con.execute(\"UPDATE DW_LANDING.ScoreResult SET flag_out=0 WHERE flag_out IS NULL\")"
   ]
  },
  {
   "cell_type": "code",
   "execution_count": 57,
   "metadata": {
    "id": "L5kcXercS5S0"
   },
   "outputs": [
    {
     "data": {
      "text/html": [
       "<div>\n",
       "<style scoped>\n",
       "    .dataframe tbody tr th:only-of-type {\n",
       "        vertical-align: middle;\n",
       "    }\n",
       "\n",
       "    .dataframe tbody tr th {\n",
       "        vertical-align: top;\n",
       "    }\n",
       "\n",
       "    .dataframe thead th {\n",
       "        text-align: right;\n",
       "    }\n",
       "</style>\n",
       "<table border=\"1\" class=\"dataframe\">\n",
       "  <thead>\n",
       "    <tr style=\"text-align: right;\">\n",
       "      <th></th>\n",
       "      <th>DAM_RECOD</th>\n",
       "      <th>FOB</th>\n",
       "      <th>PESO_NETO</th>\n",
       "      <th>VALOR_FOB_PROM</th>\n",
       "      <th>prediction</th>\n",
       "      <th>flag_out</th>\n",
       "    </tr>\n",
       "  </thead>\n",
       "  <tbody>\n",
       "    <tr>\n",
       "      <th>0</th>\n",
       "      <td>202200000512925</td>\n",
       "      <td>5.664203e-06</td>\n",
       "      <td>1.052701e-07</td>\n",
       "      <td>0.000004</td>\n",
       "      <td>0.45344901347363936</td>\n",
       "      <td>0</td>\n",
       "    </tr>\n",
       "    <tr>\n",
       "      <th>1</th>\n",
       "      <td>202200000512925</td>\n",
       "      <td>5.999263e-06</td>\n",
       "      <td>1.114952e-07</td>\n",
       "      <td>0.000004</td>\n",
       "      <td>0.45344901347363936</td>\n",
       "      <td>0</td>\n",
       "    </tr>\n",
       "    <tr>\n",
       "      <th>2</th>\n",
       "      <td>202200000512925</td>\n",
       "      <td>1.231763e-05</td>\n",
       "      <td>2.289207e-07</td>\n",
       "      <td>0.000004</td>\n",
       "      <td>0.45344901347363936</td>\n",
       "      <td>0</td>\n",
       "    </tr>\n",
       "    <tr>\n",
       "      <th>3</th>\n",
       "      <td>202200000746581</td>\n",
       "      <td>1.122745e-05</td>\n",
       "      <td>3.303684e-08</td>\n",
       "      <td>0.000025</td>\n",
       "      <td>0.45344901347363936</td>\n",
       "      <td>0</td>\n",
       "    </tr>\n",
       "    <tr>\n",
       "      <th>4</th>\n",
       "      <td>202200000746581</td>\n",
       "      <td>1.098875e-07</td>\n",
       "      <td>3.276381e-10</td>\n",
       "      <td>0.000025</td>\n",
       "      <td>0.45344901347363936</td>\n",
       "      <td>0</td>\n",
       "    </tr>\n",
       "    <tr>\n",
       "      <th>5</th>\n",
       "      <td>202200000746581</td>\n",
       "      <td>9.207558e-07</td>\n",
       "      <td>2.708475e-09</td>\n",
       "      <td>0.000025</td>\n",
       "      <td>0.45344901347363936</td>\n",
       "      <td>0</td>\n",
       "    </tr>\n",
       "    <tr>\n",
       "      <th>6</th>\n",
       "      <td>202200000746581</td>\n",
       "      <td>9.615031e-07</td>\n",
       "      <td>2.828609e-09</td>\n",
       "      <td>0.000025</td>\n",
       "      <td>0.45344901347363936</td>\n",
       "      <td>0</td>\n",
       "    </tr>\n",
       "    <tr>\n",
       "      <th>7</th>\n",
       "      <td>202200000512925</td>\n",
       "      <td>6.860869e-06</td>\n",
       "      <td>1.275058e-07</td>\n",
       "      <td>0.000004</td>\n",
       "      <td>0.45344901347363936</td>\n",
       "      <td>0</td>\n",
       "    </tr>\n",
       "    <tr>\n",
       "      <th>8</th>\n",
       "      <td>202200000512925</td>\n",
       "      <td>2.233769e-05</td>\n",
       "      <td>4.151502e-07</td>\n",
       "      <td>0.000004</td>\n",
       "      <td>0.45344901347363936</td>\n",
       "      <td>0</td>\n",
       "    </tr>\n",
       "    <tr>\n",
       "      <th>9</th>\n",
       "      <td>202200000512925</td>\n",
       "      <td>2.967723e-05</td>\n",
       "      <td>5.515569e-07</td>\n",
       "      <td>0.000004</td>\n",
       "      <td>0.45344901347363936</td>\n",
       "      <td>0</td>\n",
       "    </tr>\n",
       "  </tbody>\n",
       "</table>\n",
       "</div>"
      ],
      "text/plain": [
       "         DAM_RECOD           FOB     PESO_NETO  VALOR_FOB_PROM  \\\n",
       "0  202200000512925  5.664203e-06  1.052701e-07        0.000004   \n",
       "1  202200000512925  5.999263e-06  1.114952e-07        0.000004   \n",
       "2  202200000512925  1.231763e-05  2.289207e-07        0.000004   \n",
       "3  202200000746581  1.122745e-05  3.303684e-08        0.000025   \n",
       "4  202200000746581  1.098875e-07  3.276381e-10        0.000025   \n",
       "5  202200000746581  9.207558e-07  2.708475e-09        0.000025   \n",
       "6  202200000746581  9.615031e-07  2.828609e-09        0.000025   \n",
       "7  202200000512925  6.860869e-06  1.275058e-07        0.000004   \n",
       "8  202200000512925  2.233769e-05  4.151502e-07        0.000004   \n",
       "9  202200000512925  2.967723e-05  5.515569e-07        0.000004   \n",
       "\n",
       "            prediction  flag_out  \n",
       "0  0.45344901347363936         0  \n",
       "1  0.45344901347363936         0  \n",
       "2  0.45344901347363936         0  \n",
       "3  0.45344901347363936         0  \n",
       "4  0.45344901347363936         0  \n",
       "5  0.45344901347363936         0  \n",
       "6  0.45344901347363936         0  \n",
       "7  0.45344901347363936         0  \n",
       "8  0.45344901347363936         0  \n",
       "9  0.45344901347363936         0  "
      ]
     },
     "execution_count": 57,
     "metadata": {},
     "output_type": "execute_result"
    }
   ],
   "source": [
    "pd.read_sql(\"select top 10 DAM_RECOD, FOB, PESO_NETO, VALOR_FOB_PROM, PREDICTION, FLAG_OUT from DW_LANDING.ScoreResult\", con)"
   ]
  },
  {
   "cell_type": "code",
   "execution_count": 14,
   "metadata": {},
   "outputs": [
    {
     "data": {
      "text/plain": [
       "True"
      ]
     },
     "execution_count": 14,
     "metadata": {},
     "output_type": "execute_result"
    }
   ],
   "source": [
    "remove_context()"
   ]
  },
  {
   "cell_type": "markdown",
   "metadata": {},
   "source": [
    "## **Entrenamiento de un modelo OneSVM de Vantage**"
   ]
  },
  {
   "cell_type": "code",
   "execution_count": 3,
   "metadata": {},
   "outputs": [
    {
     "name": "stdin",
     "output_type": "stream",
     "text": [
      " ········\n"
     ]
    },
    {
     "name": "stderr",
     "output_type": "stream",
     "text": [
      "C:\\TDAPPS\\anaconda3\\lib\\site-packages\\teradataml\\context\\context.py:480: TeradataMlRuntimeWarning: Warning: Password is URL encoded.\n",
      "  warnings.warn(\"Warning: Password is URL encoded.\", category=TeradataMlRuntimeWarning)\n"
     ]
    }
   ],
   "source": [
    "con=create_context(host = \"tdprd.td.teradata.com\", database=\"ADLSLSAMER_OilGas\", username=\"lc250058\", password = gp.getpass(), logmech=\"LDAP\")"
   ]
  },
  {
   "cell_type": "code",
   "execution_count": 4,
   "metadata": {},
   "outputs": [
    {
     "data": {
      "text/plain": [
       "(345064, 4)"
      ]
     },
     "execution_count": 4,
     "metadata": {},
     "output_type": "execute_result"
    }
   ],
   "source": [
    "tbl_train = DataFrame(\"TrainIF\")"
   ]
  },
  {
   "cell_type": "code",
   "execution_count": 7,
   "metadata": {},
   "outputs": [],
   "source": [
    "one_class_svm=OneClassSVM(data=tbl_train,\n",
    "                               input_columns=['FOB','PESO_NETO','VALOR_FOB_PROM'],\n",
    "                               tolerance=0.0000001,\n",
    "                               batch_size=30,\n",
    "                               learning_rate='CONSTANT',\n",
    "                               initial_eta=0.01,\n",
    "                               lambda1=0.1,\n",
    "                               alpha=0.0,\n",
    "                               momentum=0.0,\n",
    "                               iter_max=50)"
   ]
  },
  {
   "cell_type": "code",
   "execution_count": 8,
   "metadata": {},
   "outputs": [
    {
     "data": {
      "text/html": [
       "<style type=\"text/css\">\n",
       "\ttable {border:ridge 5px;}\n",
       "\ttable td {border:inset 1px;}\n",
       "\ttable tr#HeaderRow {background-color:grey; color:white;}</style>\n",
       "<html><table>\n",
       "\t<tr id=\"HeaderRow\">\n",
       "\t\t<th>attribute</th>\n",
       "\t\t<th>predictor</th>\n",
       "\t\t<th>estimate</th>\n",
       "\t\t<th>value</th>\n",
       "\t</tr>\n",
       "\t<tr>\n",
       "\t\t<td>-12</td>\n",
       "\t\t<td>Nesterov\u0000</td>\n",
       "\t\t<td>None</td>\n",
       "\t\t<td>FALSE</td>\n",
       "\t</tr>\n",
       "\t<tr>\n",
       "\t\t<td>-13</td>\n",
       "\t\t<td>LocalSGD Iterations\u0000</td>\n",
       "\t\t<td>0.0</td>\n",
       "\t\t<td>None</td>\n",
       "\t</tr>\n",
       "\t<tr>\n",
       "\t\t<td>-4</td>\n",
       "\t\t<td>AIC\u0000</td>\n",
       "\t\t<td>8.0</td>\n",
       "\t\t<td>None</td>\n",
       "\t</tr>\n",
       "\t<tr>\n",
       "\t\t<td>-1</td>\n",
       "\t\t<td>Loss Function\u0000</td>\n",
       "\t\t<td>None</td>\n",
       "\t\t<td>HINGE\u0000\u0000\u0000\u0000\u0000</td>\n",
       "\t</tr>\n",
       "\t<tr>\n",
       "\t\t<td>-5</td>\n",
       "\t\t<td>BIC\u0000</td>\n",
       "\t\t<td>51.00594074422213</td>\n",
       "\t\t<td>None</td>\n",
       "\t</tr>\n",
       "\t<tr>\n",
       "\t\t<td>-7</td>\n",
       "\t\t<td>Alpha\u0000</td>\n",
       "\t\t<td>0.0</td>\n",
       "\t\t<td>L2</td>\n",
       "\t</tr>\n",
       "\t<tr>\n",
       "\t\t<td>-16</td>\n",
       "\t\t<td>Kernel\u0000</td>\n",
       "\t\t<td>None</td>\n",
       "\t\t<td>LINEAR</td>\n",
       "\t</tr>\n",
       "\t<tr>\n",
       "\t\t<td>0</td>\n",
       "\t\t<td>(Intercept)\u0000</td>\n",
       "\t\t<td>-3.0864197531066395e-06</td>\n",
       "\t\t<td>None</td>\n",
       "\t</tr>\n",
       "\t<tr>\n",
       "\t\t<td>-8</td>\n",
       "\t\t<td>Number of Iterations\u0000</td>\n",
       "\t\t<td>50.0</td>\n",
       "\t\t<td>NOT CONVERGED</td>\n",
       "\t</tr>\n",
       "\t<tr>\n",
       "\t\t<td>-6</td>\n",
       "\t\t<td>Regularization\u0000</td>\n",
       "\t\t<td>0.1</td>\n",
       "\t\t<td>ENABLED</td>\n",
       "\t</tr>\n",
       "</table></html>"
      ],
      "text/plain": [
       "                        predictor   estimate          value\n",
       "attribute                                                  \n",
       "-8          Number of Iterations\u0000  50.000000  NOT CONVERGED\n",
       "-15            Intercept Scaling\u0000   1.000000           None\n",
       " 2                      PESO_NETO   0.000004           None\n",
       "-10        Learning Rate (Final)\u0000   0.010000           None\n",
       " 3                 VALOR_FOB_PROM   0.000002           None\n",
       "-13          LocalSGD Iterations\u0000   0.000000           None\n",
       "-6                Regularization\u0000   0.100000        ENABLED\n",
       "-7                         Alpha\u0000   0.000000             L2\n",
       "-16                       Kernel\u0000        NaN         LINEAR\n",
       " 0                   (Intercept)\u0000  -0.000003           None"
      ]
     },
     "execution_count": 8,
     "metadata": {},
     "output_type": "execute_result"
    }
   ],
   "source": [
    "one_class_svm.result"
   ]
  },
  {
   "cell_type": "code",
   "execution_count": 9,
   "metadata": {},
   "outputs": [
    {
     "data": {
      "text/plain": [
       "(1195254, 4)"
      ]
     },
     "execution_count": 9,
     "metadata": {},
     "output_type": "execute_result"
    }
   ],
   "source": [
    "tbl_test = DataFrame(\"TestIF\")\n",
    "tbl_test.shape"
   ]
  },
  {
   "cell_type": "code",
   "execution_count": 10,
   "metadata": {},
   "outputs": [],
   "source": [
    "OneClassSVMPredict_out = OneClassSVMPredict(object = one_class_svm.result,\n",
    "                                             newdata = tbl_test,\n",
    "                                             accumulate=['FOB','PESO_NETO','VALOR_FOB_PROM'],\n",
    "                                             id_column = \"DAM_RECOD\")"
   ]
  },
  {
   "cell_type": "code",
   "execution_count": 11,
   "metadata": {},
   "outputs": [
    {
     "data": {
      "text/html": [
       "<style type=\"text/css\">\n",
       "\ttable {border:ridge 5px;}\n",
       "\ttable td {border:inset 1px;}\n",
       "\ttable tr#HeaderRow {background-color:grey; color:white;}</style>\n",
       "<html><table>\n",
       "\t<tr id=\"HeaderRow\">\n",
       "\t\t<th>DAM_RECOD</th>\n",
       "\t\t<th>prediction</th>\n",
       "\t\t<th>FOB</th>\n",
       "\t\t<th>PESO_NETO</th>\n",
       "\t\t<th>VALOR_FOB_PROM</th>\n",
       "\t</tr>\n",
       "\t<tr>\n",
       "\t\t<td>202200000006220</td>\n",
       "\t\t<td>1.0</td>\n",
       "\t\t<td>0.00044917323688677694</td>\n",
       "\t\t<td>0.00015031512233351724</td>\n",
       "\t\t<td>2.233493646802907e-07</td>\n",
       "\t</tr>\n",
       "\t<tr>\n",
       "\t\t<td>202200000006222</td>\n",
       "\t\t<td>1.0</td>\n",
       "\t\t<td>0.001503606964965311</td>\n",
       "\t\t<td>0.0010626396011377342</td>\n",
       "\t\t<td>1.0576010089791409e-07</td>\n",
       "\t</tr>\n",
       "\t<tr>\n",
       "\t\t<td>202200000006223</td>\n",
       "\t\t<td>1.0</td>\n",
       "\t\t<td>1.0547181711055246e-05</td>\n",
       "\t\t<td>2.776186912735992e-06</td>\n",
       "\t\t<td>2.8396266933517745e-07</td>\n",
       "\t</tr>\n",
       "\t<tr>\n",
       "\t\t<td>202200000006223</td>\n",
       "\t\t<td>1.0</td>\n",
       "\t\t<td>0.00023104345802095274</td>\n",
       "\t\t<td>7.732259379296155e-05</td>\n",
       "\t\t<td>2.2333705561985736e-07</td>\n",
       "\t</tr>\n",
       "\t<tr>\n",
       "\t\t<td>202200000006224</td>\n",
       "\t\t<td>1.0</td>\n",
       "\t\t<td>0.0004588924494975801</td>\n",
       "\t\t<td>0.00011742549837032805</td>\n",
       "\t\t<td>2.9209358849282813e-07</td>\n",
       "\t</tr>\n",
       "\t<tr>\n",
       "\t\t<td>202200000006225</td>\n",
       "\t\t<td>1.0</td>\n",
       "\t\t<td>3.285488312962379e-06</td>\n",
       "\t\t<td>1.033042958598338e-07</td>\n",
       "\t\t<td>2.377141692519079e-06</td>\n",
       "\t</tr>\n",
       "\t<tr>\n",
       "\t\t<td>202200000006223</td>\n",
       "\t\t<td>1.0</td>\n",
       "\t\t<td>0.00019397530539183613</td>\n",
       "\t\t<td>6.0492479394839306e-05</td>\n",
       "\t\t<td>2.3967270827416874e-07</td>\n",
       "\t</tr>\n",
       "\t<tr>\n",
       "\t\t<td>202200000006221</td>\n",
       "\t\t<td>1.0</td>\n",
       "\t\t<td>0.0004452937595659454</td>\n",
       "\t\t<td>0.0001490006382390369</td>\n",
       "\t\t<td>2.233736827753924e-07</td>\n",
       "\t</tr>\n",
       "\t<tr>\n",
       "\t\t<td>202200000006219</td>\n",
       "\t\t<td>1.0</td>\n",
       "\t\t<td>0.000983432618977255</td>\n",
       "\t\t<td>0.0005924789143034129</td>\n",
       "\t\t<td>1.2406384436937263e-07</td>\n",
       "\t</tr>\n",
       "\t<tr>\n",
       "\t\t<td>202200000006219</td>\n",
       "\t\t<td>1.0</td>\n",
       "\t\t<td>0.0015190268784853024</td>\n",
       "\t\t<td>0.0009829143278766298</td>\n",
       "\t\t<td>1.1551099294134401e-07</td>\n",
       "\t</tr>\n",
       "</table></html>"
      ],
      "text/plain": [
       "         DAM_RECOD  prediction       FOB     PESO_NETO  VALOR_FOB_PROM\n",
       "0  202200000006220         1.0  0.000449  1.503151e-04    2.233494e-07\n",
       "1  202200000006222         1.0  0.001504  1.062640e-03    1.057601e-07\n",
       "2  202200000006223         1.0  0.000231  7.732259e-05    2.233371e-07\n",
       "3  202200000006223         1.0  0.000194  6.049248e-05    2.396727e-07\n",
       "4  202200000006224         1.0  0.000459  1.174255e-04    2.920936e-07\n",
       "5  202200000006225         1.0  0.000008  2.460671e-07    2.377205e-06\n",
       "6  202200000006223         1.0  0.000011  2.776187e-06    2.839627e-07\n",
       "7  202200000006221         1.0  0.000445  1.490006e-04    2.233737e-07\n",
       "8  202200000006219         1.0  0.001519  9.829143e-04    1.155110e-07\n",
       "9  202200000006219         1.0  0.000983  5.924789e-04    1.240638e-07"
      ]
     },
     "execution_count": 11,
     "metadata": {},
     "output_type": "execute_result"
    }
   ],
   "source": [
    "OneClassSVMPredict_out.result.head(10)"
   ]
  },
  {
   "cell_type": "markdown",
   "metadata": {},
   "source": [
    "## **Entrenamiento de un modelo Bagging PCA**"
   ]
  },
  {
   "cell_type": "code",
   "execution_count": 13,
   "metadata": {},
   "outputs": [],
   "source": [
    "from tqdm import tqdm\n",
    "from sklearn.preprocessing import StandardScaler\n",
    "from sklearn.decomposition import PCA\n",
    "from sklearn.pipeline import make_pipeline"
   ]
  },
  {
   "cell_type": "code",
   "execution_count": 16,
   "metadata": {},
   "outputs": [],
   "source": [
    "def reconstruccion_pca(X, X_new=None, id_components=None):\n",
    "   \n",
    "    if X_new is None:\n",
    "        X_new = X\n",
    "    \n",
    "    # Si se especifica id_components, se calculan solo tantas como necesarias.\n",
    "    if id_components is None:\n",
    "        n_components = None\n",
    "        id_components = np.arange(min(X.shape))\n",
    "    else:\n",
    "        n_components = max(id_components)\n",
    "        id_components = np.array(id_components)\n",
    "    \n",
    "    # Entrenamiento modelo PCA con escalado de los datos\n",
    "    pca_pipeline = PCA(n_components=n_components)\n",
    "    pca_pipeline.fit(X=X)\n",
    "    \n",
    "    # Proyectar los datos\n",
    "    proyecciones = pca_pipeline.transform(X_new)\n",
    "    \n",
    "    # Reconstrucción\n",
    "    components = pca_pipeline['pca'].components_\n",
    "    \n",
    "    reconstruccion = np.dot(\n",
    "                        proyecciones[:, id_components-1],\n",
    "                        components[id_components-1, :]\n",
    "                     )\n",
    "    \n",
    "    # Se deshace el escalado\n",
    "    reconstruccion = pca_pipeline['standardscaler'].inverse_transform(reconstruccion)\n",
    "    \n",
    "    reconstruccion = pd.DataFrame(\n",
    "                        reconstruccion,\n",
    "                        columns = X_new.columns,\n",
    "                        index   = X_new.index\n",
    "                    )\n",
    "    \n",
    "    # Error cuadrático medio de reconstrucción\n",
    "    error_reconstruccion = reconstruccion - X_new\n",
    "    error_reconstruccion = error_reconstruccion**2\n",
    "    error_reconstruccion = error_reconstruccion.mean(axis=1)\n",
    "        \n",
    "    return reconstruccion, error_reconstruccion\n",
    "\n",
    "\n",
    "def bagging_reconstruccion_pca(X, X_new=None, iteraciones=500, verbose=0):\n",
    "   \n",
    "    if X_new is None:\n",
    "        X_new = X\n",
    "        \n",
    "    mat_error = np.full(shape=(X_new.shape[0], iteraciones), fill_value=np.nan)\n",
    "    \n",
    "    for i in tqdm(range(iteraciones)):\n",
    "        \n",
    "        # Resampling\n",
    "        # ----------------------------------------------------------------------        \n",
    "        resample = X.sample(frac=0.632, axis=0)\n",
    "        resample = X.sample(frac=0.8, axis=1)\n",
    "        \n",
    "        # Si debido al resampling, alguna columna es constante, se elimina\n",
    "        if any(resample.var() == 0):\n",
    "            constat_cols = resample.columns[resample.var() == 0]\n",
    "            resample = resample.drop(columns=constat_cols)\n",
    "            \n",
    "            \n",
    "        # Selección aleatoria de las componentes empleadas en la reconstrucción\n",
    "        # ----------------------------------------------------------------------\n",
    "        n_componentes = min(resample.shape)\n",
    "        id_componentes = np.random.choice(\n",
    "                            range(n_componentes),\n",
    "                            size = max(1, int(n_componentes/2)),\n",
    "                            replace = False\n",
    "                         )\n",
    "        \n",
    "        if verbose > 0:\n",
    "            print(f\"Componentes utilizadas iteración {i}: {np.sort(id_componentes)}\")\n",
    "            \n",
    "        # Error reconstrucción\n",
    "        # ----------------------------------------------------------------------            \n",
    "        _, error_reconstruccion = reconstruccion_pca(\n",
    "                                    X = resample,\n",
    "                                    X_new = X_new.loc[:, resample.columns],\n",
    "                                    id_components=id_componentes\n",
    "                                  )   \n",
    "        \n",
    "        # Almacenamiento resultados iteración\n",
    "        # ----------------------------------------------------------------------\n",
    "        mat_error[:, i] = error_reconstruccion\n",
    "        \n",
    "    # Valor promedio de todas las iteraciones (se ecalan los valores antes)\n",
    "    # ----------------------------------------------------------------------\n",
    "    mat_error = StandardScaler().fit_transform(mat_error)\n",
    "    error_promedio = np.nanmean(mat_error, axis=1)\n",
    "\n",
    "    return error_promedio"
   ]
  },
  {
   "cell_type": "code",
   "execution_count": 17,
   "metadata": {},
   "outputs": [],
   "source": [
    "tbl_train = DataFrame(\"TrainIF\")\n",
    "sub_sample = tbl_train.to_pandas(all_rows=True)"
   ]
  },
  {
   "cell_type": "code",
   "execution_count": null,
   "metadata": {},
   "outputs": [],
   "source": [
    "error_reconstruccion = bagging_reconstruccion_pca(X=sub_sample, iteraciones=500)"
   ]
  },
  {
   "cell_type": "code",
   "execution_count": null,
   "metadata": {},
   "outputs": [],
   "source": [
    "df_resultados = pd.DataFrame({\n",
    "                    'error_reconstruccion' : error_reconstruccion,\n",
    "                    'anomalia'             : y_pred\n",
    "                })\n",
    "\n",
    "df_resultados = df_resultados \\\n",
    "                .sort_values('error_reconstruccion', ascending=False) \\\n",
    "                .reset_index(drop=True)\n",
    "\n",
    "df_resultados['clasificacion'] = np.where(df_resultados.index <= 1000, 1, 0)\n",
    "\n",
    "pd.crosstab(\n",
    "    df_resultados.anomalia,\n",
    "    df_resultados.clasificacion\n",
    ")"
   ]
  },
  {
   "cell_type": "markdown",
   "metadata": {},
   "source": [
    "## **Finalizando la Demo**"
   ]
  },
  {
   "cell_type": "code",
   "execution_count": 11,
   "metadata": {},
   "outputs": [
    {
     "data": {
      "text/plain": [
       "<sqlalchemy.engine.cursor.LegacyCursorResult at 0x2723f0f4400>"
      ]
     },
     "execution_count": 11,
     "metadata": {},
     "output_type": "execute_result"
    }
   ],
   "source": [
    "con.execute(\"DROP TABLE DW_LANDING.TrainIF;\")"
   ]
  },
  {
   "cell_type": "code",
   "execution_count": 12,
   "metadata": {},
   "outputs": [
    {
     "data": {
      "text/plain": [
       "<sqlalchemy.engine.cursor.LegacyCursorResult at 0x2726fd7d990>"
      ]
     },
     "execution_count": 12,
     "metadata": {},
     "output_type": "execute_result"
    }
   ],
   "source": [
    "con.execute(\"DROP TABLE DW_LANDING.TestIF;\")"
   ]
  },
  {
   "cell_type": "code",
   "execution_count": null,
   "metadata": {},
   "outputs": [],
   "source": [
    "con.execute(\"DROP TABLE DW_LANDING.pmml_models;\")"
   ]
  },
  {
   "cell_type": "code",
   "execution_count": 61,
   "metadata": {},
   "outputs": [
    {
     "data": {
      "text/plain": [
       "<sqlalchemy.engine.cursor.LegacyCursorResult at 0x14a949e3c70>"
      ]
     },
     "execution_count": 61,
     "metadata": {},
     "output_type": "execute_result"
    }
   ],
   "source": [
    "con.execute(\"DROP TABLE DW_LANDING.ScoreResult;\")"
   ]
  },
  {
   "cell_type": "code",
   "execution_count": 27,
   "metadata": {
    "id": "mgDCnX0cN2TU"
   },
   "outputs": [
    {
     "data": {
      "text/plain": [
       "True"
      ]
     },
     "execution_count": 27,
     "metadata": {},
     "output_type": "execute_result"
    }
   ],
   "source": [
    "## Finalizando el Notebook y Limpiando el ambiente \n",
    "remove_context()"
   ]
  },
  {
   "cell_type": "markdown",
   "metadata": {},
   "source": [
    "![Slide](images/Diapositiva13.PNG)\n",
    "\n",
    "![Slide](images/Diapositiva14.PNG)"
   ]
  },
  {
   "cell_type": "markdown",
   "metadata": {},
   "source": [
    "Copyright 2023. Elaborado por Luis Cajachahua bajo licencia MIT"
   ]
  }
 ],
 "metadata": {
  "colab": {
   "collapsed_sections": [],
   "name": "Copia de S03_Modelamiento_EntrenamientoyValidacion.ipynb",
   "provenance": []
  },
  "kernelspec": {
   "display_name": "Python 3 (ipykernel)",
   "language": "python",
   "name": "python3"
  },
  "language_info": {
   "codemirror_mode": {
    "name": "ipython",
    "version": 3
   },
   "file_extension": ".py",
   "mimetype": "text/x-python",
   "name": "python",
   "nbconvert_exporter": "python",
   "pygments_lexer": "ipython3",
   "version": "3.10.9"
  },
  "toc": {
   "base_numbering": 1,
   "nav_menu": {},
   "number_sections": true,
   "sideBar": true,
   "skip_h1_title": false,
   "title_cell": "Table of Contents",
   "title_sidebar": "Contents",
   "toc_cell": false,
   "toc_position": {
    "height": "calc(100% - 180px)",
    "left": "10px",
    "top": "150px",
    "width": "165px"
   },
   "toc_section_display": true,
   "toc_window_display": false
  },
  "varInspector": {
   "cols": {
    "lenName": 16,
    "lenType": 16,
    "lenVar": 40
   },
   "kernels_config": {
    "python": {
     "delete_cmd_postfix": "",
     "delete_cmd_prefix": "del ",
     "library": "var_list.py",
     "varRefreshCmd": "print(var_dic_list())"
    },
    "r": {
     "delete_cmd_postfix": ") ",
     "delete_cmd_prefix": "rm(",
     "library": "var_list.r",
     "varRefreshCmd": "cat(var_dic_list()) "
    }
   },
   "types_to_exclude": [
    "module",
    "function",
    "builtin_function_or_method",
    "instance",
    "_Feature"
   ],
   "window_display": false
  }
 },
 "nbformat": 4,
 "nbformat_minor": 4
}
