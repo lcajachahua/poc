{
 "cells": [
  {
   "cell_type": "markdown",
   "id": "2f0df8dc",
   "metadata": {},
   "source": [
    "# **Caso 5: Expandiendo una tabla utilizando fechas de inicio y fin de cada periodo**\n",
    "## **Entendimiento del Problema y de los Datos**\n"
   ]
  },
  {
   "cell_type": "markdown",
   "id": "e8294e51",
   "metadata": {},
   "source": [
    "### Creamos la conexión con Vantage"
   ]
  },
  {
   "cell_type": "code",
   "execution_count": 1,
   "id": "9613a966",
   "metadata": {},
   "outputs": [
    {
     "name": "stdin",
     "output_type": "stream",
     "text": [
      "Password: ·······\n"
     ]
    },
    {
     "name": "stdout",
     "output_type": "stream",
     "text": [
      "Success: 'DataAnalyst' connection established and activated for user 'pocuser', with default database 'DW_LANDING'\n"
     ]
    }
   ],
   "source": [
    "%connect DataAnalyst"
   ]
  },
  {
   "cell_type": "markdown",
   "id": "8412eff5-4ab2-4d10-825a-83685d63fba3",
   "metadata": {},
   "source": [
    "### Explorando la Matriz Original"
   ]
  },
  {
   "cell_type": "code",
   "execution_count": 2,
   "id": "b300c15e-3c0f-49cd-a67e-335f9ae30eaf",
   "metadata": {},
   "outputs": [
    {
     "data": {
      "application/vnd.teradata.resultset": "\"id_usuario\",\"num_ruc\",\"rznsocial\",\"id_bien\",\"num_verreg\",\"id_estado\",\"des_estado\",\"corr_solicitud\",\"num_rg_alta\",\"cod_dependencia\",\"des_dependencia\",\"cod_ciiu\",\"des_ciiu\",\"fec_ins_ruc\",\"cod_estcontri\",\"des_estadocontri\",\"fec_alta\",\"fec_baja\",\"fec_finvigencia\",\"ind_zona\",\"des_zona\",\"fec_levantesusp\",\"fec_suspension\",\"ddp_ubigeo\",\"cod_depar\",\"cod_distr\",\"cod_provi\"\n\"894\",\"10048000894\",\"GONZALES HUAMANI EMILIANO\",\"01\",\"1\",\"01\",\"VIGENTE\",\"0\",\"3111190010802\",\"1103\",\"AREQUIPA\",\"41119883\",\"EXT DE MIN METALIFEROS NO FERROSOS\",\"2006-11-901\",\"00\",\"ACTIVO\",\"2022-12-13 05:00:00.089000\",\"2100-12-30 10:00:00.000000\",\"2024-12-13 05:00:00.089000\",\"-\",\"No incluye establecimentos en Zona\",\"0001-12-30 05:00:00.000000\",\"\",\"080701\",\"08\",\"01\",\"07\"\n\"444\",\"10048000444\",\"GONZALES HUAMANI EMILIANO\",\"01\",\"1\",\"01\",\"VIGENTE\",\"0\",\"3111190010802\",\"653\",\"AREQUIPA\",\"20405933\",\"EXT DE MIN METALIFEROS NO FERROSOS\",\"2006-11-451\",\"00\",\"ACTIVO\",\"2022-12-13 05:00:00.044000\",\"2100-12-30 10:00:00.000000\",\"2024-12-13 05:00:00.044000\",\"-\",\"No incluye establecimentos en Zona\",\"0001-12-30 05:00:00.000000\",\"\",\"080701\",\"08\",\"01\",\"07\"\n\"421\",\"10048000421\",\"PEREZ SAC\",\"01\",\"1\",\"01\",\"VIGENTE\",\"39768\",\"3111190010802\",\"630\",\"LIMA\",\"19347220\",\"EXP OTRAS MINAS Y CANTERAS NIA\",\"2006-11-428\",\"00\",\"ACTIVO\",\"2015-03-16 05:00:00.042000\",\"2100-12-30 10:00:00.000000\",\"2024-09-30 05:00:00.042000\",\"0\",\"No incluye establecimentos en Zona\",\"0001-12-30 05:00:00.000000\",\"0001-12-30 05:00:00.000000\",\"170102\",\"17\",\"02\",\"01\"\n\"665\",\"10048000665\",\"ALIMENTOS SA\",\"01\",\"1\",\"01\",\"VIGENTE\",\"4720\",\"3111190010802\",\"874\",\"LORETO\",\"30578784\",\"VTA MAY ALIMENTOS BEBIDAS Y TABACO\",\"2006-11-672\",\"00\",\"ACTIVO\",\"2013-08-27 05:00:00.066000\",\"2100-12-30 10:00:00.000000\",\"2025-09-01 05:00:00.066000\",\"0\",\"No incluye establecimentos en Zona\",\"0001-12-30 05:00:00.000000\",\"0001-12-30 05:00:00.000000\",\"040117\",\"04\",\"17\",\"01\"\n\"415\",\"10048000415\",\"ALIMENTOS SA\",\"01\",\"1\",\"01\",\"VIGENTE\",\"4720\",\"3111190010802\",\"624\",\"LORETO\",\"19071034\",\"VTA MAY ALIMENTOS BEBIDAS Y TABACO\",\"2006-11-422\",\"00\",\"ACTIVO\",\"2013-08-27 05:00:00.041000\",\"2100-12-30 10:00:00.000000\",\"2025-09-01 05:00:00.041000\",\"0\",\"No incluye establecimentos en Zona\",\"0001-12-30 05:00:00.000000\",\"0001-12-30 05:00:00.000000\",\"040117\",\"04\",\"17\",\"01\"\n\"781\",\"10048000781\",\"PEREZ SAC\",\"01\",\"1\",\"01\",\"VIGENTE\",\"39768\",\"3111190010802\",\"990\",\"LIMA\",\"35918380\",\"EXP OTRAS MINAS Y CANTERAS NIA\",\"2006-11-788\",\"00\",\"ACTIVO\",\"2015-03-16 05:00:00.078000\",\"2100-12-30 10:00:00.000000\",\"2024-09-30 05:00:00.078000\",\"0\",\"No incluye establecimentos en Zona\",\"0001-12-30 05:00:00.000000\",\"0001-12-30 05:00:00.000000\",\"170102\",\"17\",\"02\",\"01\"\n\"846\",\"10048000846\",\"INTERNATIONAL DEL PERU S.R.L.\",\"01\",\"1\",\"01\",\"VIGENTE\",\"15721\",\"3111190010802\",\"1055\",\"AREQUIPA\",\"38910395\",\"ENSAYOS Y ANALISIS TECNICOS\",\"2006-11-853\",\"00\",\"ACTIVO\",\"2013-09-27 05:00:00.084000\",\"2100-12-30 10:00:00.000000\",\"2025-10-02 05:00:00.084000\",\"0\",\"No incluye establecimentos en Zona\",\"0001-12-30 05:00:00.000000\",\"0001-12-30 05:00:00.000000\",\"150141\",\"15\",\"41\",\"01\"\n\"955\",\"10048000955\",\"ALIMENTOS SA\",\"01\",\"1\",\"01\",\"VIGENTE\",\"4720\",\"3111190010802\",\"1164\",\"LORETO\",\"43927774\",\"VTA MAY ALIMENTOS BEBIDAS Y TABACO\",\"2006-11-962\",\"00\",\"ACTIVO\",\"2013-08-27 05:00:00.095000\",\"2100-12-30 10:00:00.000000\",\"2025-09-01 05:00:00.095000\",\"0\",\"No incluye establecimentos en Zona\",\"0001-12-30 05:00:00.000000\",\"0001-12-30 05:00:00.000000\",\"040117\",\"04\",\"17\",\"01\"\n\"385\",\"10048000385\",\"ALIMENTOS SA\",\"01\",\"1\",\"01\",\"VIGENTE\",\"4720\",\"3111190010802\",\"594\",\"LORETO\",\"17690104\",\"VTA MAY ALIMENTOS BEBIDAS Y TABACO\",\"2006-11-392\",\"00\",\"ACTIVO\",\"2013-08-27 05:00:00.038000\",\"2100-12-30 10:00:00.000000\",\"2025-09-01 05:00:00.038000\",\"0\",\"No incluye establecimentos en Zona\",\"0001-12-30 05:00:00.000000\",\"0001-12-30 05:00:00.000000\",\"040117\",\"04\",\"17\",\"01\"\n\"896\",\"10048000896\",\"INTERNATIONAL DEL PERU S.R.L.\",\"01\",\"1\",\"01\",\"VIGENTE\",\"15721\",\"3111190010802\",\"1105\",\"AREQUIPA\",\"41211945\",\"ENSAYOS Y ANALISIS TECNICOS\",\"2006-11-903\",\"00\",\"ACTIVO\",\"2013-09-27 05:00:00.089000\",\"2100-12-30 10:00:00.000000\",\"2025-10-02 05:00:00.089000\",\"0\",\"No incluye establecimentos en Zona\",\"0001-12-30 05:00:00.000000\",\"0001-12-30 05:00:00.000000\",\"150141\",\"15\",\"41\",\"01\"",
      "text/html": [
       "<div class = \"td-resultset-table-div\" style = \"max-height: 100%; overflow-y: auto\">\n",
       "      <table class=\"tdhistory594032\"><style>\n",
       "      table.tdhistory594032 { display: block !important; min-height: 294px !important; overflow: auto !important; height: 294px !important; width: 100% !important; border: 1px solid rgb(207, 207, 207) !important; border-collapse: collapse !important; ; color: var(--jp-ui-font-color1) !important; }\n",
       "      th.tdhistory594032 { border: 1px solid rgb(198,198,198) !important; border-collapse: collapse !important; ; padding: 2px 5px !important; ; font-size: 13px !important; ; text-align: center !important; white-space: normal !important; color: var(--jp-ui-font-color1) !important; }\n",
       "      th.tdhistory594032:last-child { text-align: left !important; }\n",
       "      tbody.tdhistory594032 tr:nth-child(even) { background: rgba(243, 243, 243, 0.75) !important; }\n",
       "      tbody.tdhistory594032 tr:nth-child(odd) { background: var(--jp-ui-inverse-font-color1) !important; }\n",
       "      td.tdhistory594032 { border: 1px solid rgb(207, 207, 207) !important; border-collapse: collapse !important; ; padding: 2px 5px !important; ; font-size: 13px !important; ; text-align: left !important;          white-space: nowrap !important; overflow:hidden !important; text-overflow:ellipsis !important;; }\n",
       "    </style><thead><tr style= \"background: rgba(243, 243, 243, 0.75)\"><th class=\"tdhistory594032\"></th><th class=\"tdhistory594032\">id_usuario</th><th class=\"tdhistory594032\">num_ruc</th><th class=\"tdhistory594032\">rznsocial</th><th class=\"tdhistory594032\">id_bien</th><th class=\"tdhistory594032\">num_verreg</th><th class=\"tdhistory594032\">id_estado</th><th class=\"tdhistory594032\">des_estado</th><th class=\"tdhistory594032\">corr_solicitud</th><th class=\"tdhistory594032\">num_rg_alta</th><th class=\"tdhistory594032\">cod_dependencia</th><th class=\"tdhistory594032\">des_dependencia</th><th class=\"tdhistory594032\">cod_ciiu</th><th class=\"tdhistory594032\">des_ciiu</th><th class=\"tdhistory594032\">fec_ins_ruc</th><th class=\"tdhistory594032\">cod_estcontri</th><th class=\"tdhistory594032\">des_estadocontri</th><th class=\"tdhistory594032\">fec_alta</th><th class=\"tdhistory594032\">fec_baja</th><th class=\"tdhistory594032\">fec_finvigencia</th><th class=\"tdhistory594032\">ind_zona</th><th class=\"tdhistory594032\">des_zona</th><th class=\"tdhistory594032\">fec_levantesusp</th><th class=\"tdhistory594032\">fec_suspension</th><th class=\"tdhistory594032\">ddp_ubigeo</th><th class=\"tdhistory594032\">cod_depar</th><th class=\"tdhistory594032\">cod_distr</th><th class=\"tdhistory594032\">cod_provi</th></tr></thead><tbody class=\"tdhistory594032 resultset-body\"><tr><th class=\"tdhistory594032\" style= \"background: rgba(243, 243, 243, 0.75)\">1</th><td class=\"tdhistory594032\">894</td><td class=\"tdhistory594032\">10048000894</td><td class=\"tdhistory594032\">GONZALES HUAMANI EMILIANO</td><td class=\"tdhistory594032\">01</td><td class=\"tdhistory594032\">1</td><td class=\"tdhistory594032\">01</td><td class=\"tdhistory594032\">VIGENTE</td><td class=\"tdhistory594032\">0</td><td class=\"tdhistory594032\">3111190010802</td><td class=\"tdhistory594032\">1103</td><td class=\"tdhistory594032\">AREQUIPA</td><td class=\"tdhistory594032\">41119883</td><td class=\"tdhistory594032\">EXT DE MIN METALIFEROS NO FERROSOS</td><td class=\"tdhistory594032\">2006-11-901</td><td class=\"tdhistory594032\">00</td><td class=\"tdhistory594032\">ACTIVO</td><td class=\"tdhistory594032\">2022-12-13 05:00:00.089000</td><td class=\"tdhistory594032\">2100-12-30 10:00:00.000000</td><td class=\"tdhistory594032\">2024-12-13 05:00:00.089000</td><td class=\"tdhistory594032\">-</td><td class=\"tdhistory594032\">No incluye establecimentos en Zona</td><td class=\"tdhistory594032\">0001-12-30 05:00:00.000000</td><td class=\"tdhistory594032\"></td><td class=\"tdhistory594032\">080701</td><td class=\"tdhistory594032\">08</td><td class=\"tdhistory594032\">01</td><td class=\"tdhistory594032\">07</td></tr><tr><th class=\"tdhistory594032\" style= \"background: rgba(243, 243, 243, 0.75)\">2</th><td class=\"tdhistory594032\">444</td><td class=\"tdhistory594032\">10048000444</td><td class=\"tdhistory594032\">GONZALES HUAMANI EMILIANO</td><td class=\"tdhistory594032\">01</td><td class=\"tdhistory594032\">1</td><td class=\"tdhistory594032\">01</td><td class=\"tdhistory594032\">VIGENTE</td><td class=\"tdhistory594032\">0</td><td class=\"tdhistory594032\">3111190010802</td><td class=\"tdhistory594032\">653</td><td class=\"tdhistory594032\">AREQUIPA</td><td class=\"tdhistory594032\">20405933</td><td class=\"tdhistory594032\">EXT DE MIN METALIFEROS NO FERROSOS</td><td class=\"tdhistory594032\">2006-11-451</td><td class=\"tdhistory594032\">00</td><td class=\"tdhistory594032\">ACTIVO</td><td class=\"tdhistory594032\">2022-12-13 05:00:00.044000</td><td class=\"tdhistory594032\">2100-12-30 10:00:00.000000</td><td class=\"tdhistory594032\">2024-12-13 05:00:00.044000</td><td class=\"tdhistory594032\">-</td><td class=\"tdhistory594032\">No incluye establecimentos en Zona</td><td class=\"tdhistory594032\">0001-12-30 05:00:00.000000</td><td class=\"tdhistory594032\"></td><td class=\"tdhistory594032\">080701</td><td class=\"tdhistory594032\">08</td><td class=\"tdhistory594032\">01</td><td class=\"tdhistory594032\">07</td></tr><tr><th class=\"tdhistory594032\" style= \"background: rgba(243, 243, 243, 0.75)\">3</th><td class=\"tdhistory594032\">421</td><td class=\"tdhistory594032\">10048000421</td><td class=\"tdhistory594032\">PEREZ SAC</td><td class=\"tdhistory594032\">01</td><td class=\"tdhistory594032\">1</td><td class=\"tdhistory594032\">01</td><td class=\"tdhistory594032\">VIGENTE</td><td class=\"tdhistory594032\">39768</td><td class=\"tdhistory594032\">3111190010802</td><td class=\"tdhistory594032\">630</td><td class=\"tdhistory594032\">LIMA</td><td class=\"tdhistory594032\">19347220</td><td class=\"tdhistory594032\">EXP OTRAS MINAS Y CANTERAS NIA</td><td class=\"tdhistory594032\">2006-11-428</td><td class=\"tdhistory594032\">00</td><td class=\"tdhistory594032\">ACTIVO</td><td class=\"tdhistory594032\">2015-03-16 05:00:00.042000</td><td class=\"tdhistory594032\">2100-12-30 10:00:00.000000</td><td class=\"tdhistory594032\">2024-09-30 05:00:00.042000</td><td class=\"tdhistory594032\">0</td><td class=\"tdhistory594032\">No incluye establecimentos en Zona</td><td class=\"tdhistory594032\">0001-12-30 05:00:00.000000</td><td class=\"tdhistory594032\">0001-12-30 05:00:00.000000</td><td class=\"tdhistory594032\">170102</td><td class=\"tdhistory594032\">17</td><td class=\"tdhistory594032\">02</td><td class=\"tdhistory594032\">01</td></tr><tr><th class=\"tdhistory594032\" style= \"background: rgba(243, 243, 243, 0.75)\">4</th><td class=\"tdhistory594032\">665</td><td class=\"tdhistory594032\">10048000665</td><td class=\"tdhistory594032\">ALIMENTOS SA</td><td class=\"tdhistory594032\">01</td><td class=\"tdhistory594032\">1</td><td class=\"tdhistory594032\">01</td><td class=\"tdhistory594032\">VIGENTE</td><td class=\"tdhistory594032\">4720</td><td class=\"tdhistory594032\">3111190010802</td><td class=\"tdhistory594032\">874</td><td class=\"tdhistory594032\">LORETO</td><td class=\"tdhistory594032\">30578784</td><td class=\"tdhistory594032\">VTA MAY ALIMENTOS BEBIDAS Y TABACO</td><td class=\"tdhistory594032\">2006-11-672</td><td class=\"tdhistory594032\">00</td><td class=\"tdhistory594032\">ACTIVO</td><td class=\"tdhistory594032\">2013-08-27 05:00:00.066000</td><td class=\"tdhistory594032\">2100-12-30 10:00:00.000000</td><td class=\"tdhistory594032\">2025-09-01 05:00:00.066000</td><td class=\"tdhistory594032\">0</td><td class=\"tdhistory594032\">No incluye establecimentos en Zona</td><td class=\"tdhistory594032\">0001-12-30 05:00:00.000000</td><td class=\"tdhistory594032\">0001-12-30 05:00:00.000000</td><td class=\"tdhistory594032\">040117</td><td class=\"tdhistory594032\">04</td><td class=\"tdhistory594032\">17</td><td class=\"tdhistory594032\">01</td></tr><tr><th class=\"tdhistory594032\" style= \"background: rgba(243, 243, 243, 0.75)\">5</th><td class=\"tdhistory594032\">415</td><td class=\"tdhistory594032\">10048000415</td><td class=\"tdhistory594032\">ALIMENTOS SA</td><td class=\"tdhistory594032\">01</td><td class=\"tdhistory594032\">1</td><td class=\"tdhistory594032\">01</td><td class=\"tdhistory594032\">VIGENTE</td><td class=\"tdhistory594032\">4720</td><td class=\"tdhistory594032\">3111190010802</td><td class=\"tdhistory594032\">624</td><td class=\"tdhistory594032\">LORETO</td><td class=\"tdhistory594032\">19071034</td><td class=\"tdhistory594032\">VTA MAY ALIMENTOS BEBIDAS Y TABACO</td><td class=\"tdhistory594032\">2006-11-422</td><td class=\"tdhistory594032\">00</td><td class=\"tdhistory594032\">ACTIVO</td><td class=\"tdhistory594032\">2013-08-27 05:00:00.041000</td><td class=\"tdhistory594032\">2100-12-30 10:00:00.000000</td><td class=\"tdhistory594032\">2025-09-01 05:00:00.041000</td><td class=\"tdhistory594032\">0</td><td class=\"tdhistory594032\">No incluye establecimentos en Zona</td><td class=\"tdhistory594032\">0001-12-30 05:00:00.000000</td><td class=\"tdhistory594032\">0001-12-30 05:00:00.000000</td><td class=\"tdhistory594032\">040117</td><td class=\"tdhistory594032\">04</td><td class=\"tdhistory594032\">17</td><td class=\"tdhistory594032\">01</td></tr><tr><th class=\"tdhistory594032\" style= \"background: rgba(243, 243, 243, 0.75)\">6</th><td class=\"tdhistory594032\">781</td><td class=\"tdhistory594032\">10048000781</td><td class=\"tdhistory594032\">PEREZ SAC</td><td class=\"tdhistory594032\">01</td><td class=\"tdhistory594032\">1</td><td class=\"tdhistory594032\">01</td><td class=\"tdhistory594032\">VIGENTE</td><td class=\"tdhistory594032\">39768</td><td class=\"tdhistory594032\">3111190010802</td><td class=\"tdhistory594032\">990</td><td class=\"tdhistory594032\">LIMA</td><td class=\"tdhistory594032\">35918380</td><td class=\"tdhistory594032\">EXP OTRAS MINAS Y CANTERAS NIA</td><td class=\"tdhistory594032\">2006-11-788</td><td class=\"tdhistory594032\">00</td><td class=\"tdhistory594032\">ACTIVO</td><td class=\"tdhistory594032\">2015-03-16 05:00:00.078000</td><td class=\"tdhistory594032\">2100-12-30 10:00:00.000000</td><td class=\"tdhistory594032\">2024-09-30 05:00:00.078000</td><td class=\"tdhistory594032\">0</td><td class=\"tdhistory594032\">No incluye establecimentos en Zona</td><td class=\"tdhistory594032\">0001-12-30 05:00:00.000000</td><td class=\"tdhistory594032\">0001-12-30 05:00:00.000000</td><td class=\"tdhistory594032\">170102</td><td class=\"tdhistory594032\">17</td><td class=\"tdhistory594032\">02</td><td class=\"tdhistory594032\">01</td></tr><tr><th class=\"tdhistory594032\" style= \"background: rgba(243, 243, 243, 0.75)\">7</th><td class=\"tdhistory594032\">846</td><td class=\"tdhistory594032\">10048000846</td><td class=\"tdhistory594032\">INTERNATIONAL DEL PERU S.R.L.</td><td class=\"tdhistory594032\">01</td><td class=\"tdhistory594032\">1</td><td class=\"tdhistory594032\">01</td><td class=\"tdhistory594032\">VIGENTE</td><td class=\"tdhistory594032\">15721</td><td class=\"tdhistory594032\">3111190010802</td><td class=\"tdhistory594032\">1055</td><td class=\"tdhistory594032\">AREQUIPA</td><td class=\"tdhistory594032\">38910395</td><td class=\"tdhistory594032\">ENSAYOS Y ANALISIS TECNICOS</td><td class=\"tdhistory594032\">2006-11-853</td><td class=\"tdhistory594032\">00</td><td class=\"tdhistory594032\">ACTIVO</td><td class=\"tdhistory594032\">2013-09-27 05:00:00.084000</td><td class=\"tdhistory594032\">2100-12-30 10:00:00.000000</td><td class=\"tdhistory594032\">2025-10-02 05:00:00.084000</td><td class=\"tdhistory594032\">0</td><td class=\"tdhistory594032\">No incluye establecimentos en Zona</td><td class=\"tdhistory594032\">0001-12-30 05:00:00.000000</td><td class=\"tdhistory594032\">0001-12-30 05:00:00.000000</td><td class=\"tdhistory594032\">150141</td><td class=\"tdhistory594032\">15</td><td class=\"tdhistory594032\">41</td><td class=\"tdhistory594032\">01</td></tr><tr><th class=\"tdhistory594032\" style= \"background: rgba(243, 243, 243, 0.75)\">8</th><td class=\"tdhistory594032\">955</td><td class=\"tdhistory594032\">10048000955</td><td class=\"tdhistory594032\">ALIMENTOS SA</td><td class=\"tdhistory594032\">01</td><td class=\"tdhistory594032\">1</td><td class=\"tdhistory594032\">01</td><td class=\"tdhistory594032\">VIGENTE</td><td class=\"tdhistory594032\">4720</td><td class=\"tdhistory594032\">3111190010802</td><td class=\"tdhistory594032\">1164</td><td class=\"tdhistory594032\">LORETO</td><td class=\"tdhistory594032\">43927774</td><td class=\"tdhistory594032\">VTA MAY ALIMENTOS BEBIDAS Y TABACO</td><td class=\"tdhistory594032\">2006-11-962</td><td class=\"tdhistory594032\">00</td><td class=\"tdhistory594032\">ACTIVO</td><td class=\"tdhistory594032\">2013-08-27 05:00:00.095000</td><td class=\"tdhistory594032\">2100-12-30 10:00:00.000000</td><td class=\"tdhistory594032\">2025-09-01 05:00:00.095000</td><td class=\"tdhistory594032\">0</td><td class=\"tdhistory594032\">No incluye establecimentos en Zona</td><td class=\"tdhistory594032\">0001-12-30 05:00:00.000000</td><td class=\"tdhistory594032\">0001-12-30 05:00:00.000000</td><td class=\"tdhistory594032\">040117</td><td class=\"tdhistory594032\">04</td><td class=\"tdhistory594032\">17</td><td class=\"tdhistory594032\">01</td></tr><tr><th class=\"tdhistory594032\" style= \"background: rgba(243, 243, 243, 0.75)\">9</th><td class=\"tdhistory594032\">385</td><td class=\"tdhistory594032\">10048000385</td><td class=\"tdhistory594032\">ALIMENTOS SA</td><td class=\"tdhistory594032\">01</td><td class=\"tdhistory594032\">1</td><td class=\"tdhistory594032\">01</td><td class=\"tdhistory594032\">VIGENTE</td><td class=\"tdhistory594032\">4720</td><td class=\"tdhistory594032\">3111190010802</td><td class=\"tdhistory594032\">594</td><td class=\"tdhistory594032\">LORETO</td><td class=\"tdhistory594032\">17690104</td><td class=\"tdhistory594032\">VTA MAY ALIMENTOS BEBIDAS Y TABACO</td><td class=\"tdhistory594032\">2006-11-392</td><td class=\"tdhistory594032\">00</td><td class=\"tdhistory594032\">ACTIVO</td><td class=\"tdhistory594032\">2013-08-27 05:00:00.038000</td><td class=\"tdhistory594032\">2100-12-30 10:00:00.000000</td><td class=\"tdhistory594032\">2025-09-01 05:00:00.038000</td><td class=\"tdhistory594032\">0</td><td class=\"tdhistory594032\">No incluye establecimentos en Zona</td><td class=\"tdhistory594032\">0001-12-30 05:00:00.000000</td><td class=\"tdhistory594032\">0001-12-30 05:00:00.000000</td><td class=\"tdhistory594032\">040117</td><td class=\"tdhistory594032\">04</td><td class=\"tdhistory594032\">17</td><td class=\"tdhistory594032\">01</td></tr><tr><th class=\"tdhistory594032\" style= \"background: rgba(243, 243, 243, 0.75)\">10</th><td class=\"tdhistory594032\">896</td><td class=\"tdhistory594032\">10048000896</td><td class=\"tdhistory594032\">INTERNATIONAL DEL PERU S.R.L.</td><td class=\"tdhistory594032\">01</td><td class=\"tdhistory594032\">1</td><td class=\"tdhistory594032\">01</td><td class=\"tdhistory594032\">VIGENTE</td><td class=\"tdhistory594032\">15721</td><td class=\"tdhistory594032\">3111190010802</td><td class=\"tdhistory594032\">1105</td><td class=\"tdhistory594032\">AREQUIPA</td><td class=\"tdhistory594032\">41211945</td><td class=\"tdhistory594032\">ENSAYOS Y ANALISIS TECNICOS</td><td class=\"tdhistory594032\">2006-11-903</td><td class=\"tdhistory594032\">00</td><td class=\"tdhistory594032\">ACTIVO</td><td class=\"tdhistory594032\">2013-09-27 05:00:00.089000</td><td class=\"tdhistory594032\">2100-12-30 10:00:00.000000</td><td class=\"tdhistory594032\">2025-10-02 05:00:00.089000</td><td class=\"tdhistory594032\">0</td><td class=\"tdhistory594032\">No incluye establecimentos en Zona</td><td class=\"tdhistory594032\">0001-12-30 05:00:00.000000</td><td class=\"tdhistory594032\">0001-12-30 05:00:00.000000</td><td class=\"tdhistory594032\">150141</td><td class=\"tdhistory594032\">15</td><td class=\"tdhistory594032\">41</td><td class=\"tdhistory594032\">01</td></tr></tbody></table></div>"
      ]
     },
     "execution_count": 2,
     "metadata": {
      "application/vnd.teradata.resultset": "{\"resultSetID\":\"/teradata/proyecto/Teradata/Resultsets/2023.11.03_00.14.26.467_UTC\",\"historyID\":2102,\"chunkID\":\"00001\",\"sessionid\":\"\",\"portnum\":\"\",\"dockermode\":\"standalone\",\"totalRowCount\":10,\"chunkCount\":0,\"rowLimit\":0,\"columnMetadata\":[{\"columnName\":\"id_usuario\",\"columnTypeName\":\"INTEGER\"},{\"columnNumber\":1,\"columnName\":\"num_ruc\",\"columnTypeName\":\"VARCHAR\",\"length\":16,\"scale\":16},{\"columnNumber\":2,\"columnName\":\"rznsocial\",\"columnTypeName\":\"VARCHAR\",\"length\":160,\"scale\":160},{\"columnNumber\":3,\"columnName\":\"id_bien\",\"columnTypeName\":\"VARCHAR\",\"length\":3,\"scale\":3},{\"columnNumber\":4,\"columnName\":\"num_verreg\",\"columnTypeName\":\"INTEGER\"},{\"columnNumber\":5,\"columnName\":\"id_estado\",\"columnTypeName\":\"VARCHAR\",\"length\":3,\"scale\":3},{\"columnNumber\":6,\"columnName\":\"des_estado\",\"columnTypeName\":\"VARCHAR\",\"length\":16,\"scale\":16},{\"columnNumber\":7,\"columnName\":\"corr_solicitud\",\"columnTypeName\":\"INTEGER\"},{\"columnNumber\":8,\"columnName\":\"num_rg_alta\",\"columnTypeName\":\"VARCHAR\",\"length\":16,\"scale\":16},{\"columnNumber\":9,\"columnName\":\"cod_dependencia\",\"columnTypeName\":\"INTEGER\"},{\"columnNumber\":10,\"columnName\":\"des_dependencia\",\"columnTypeName\":\"VARCHAR\",\"length\":100,\"scale\":100},{\"columnNumber\":11,\"columnName\":\"cod_ciiu\",\"columnTypeName\":\"INTEGER\"},{\"columnNumber\":12,\"columnName\":\"des_ciiu\",\"columnTypeName\":\"VARCHAR\",\"length\":160,\"scale\":160},{\"columnNumber\":13,\"columnName\":\"fec_ins_ruc\",\"columnTypeName\":\"VARCHAR\",\"length\":16,\"scale\":16},{\"columnNumber\":14,\"columnName\":\"cod_estcontri\",\"columnTypeName\":\"VARCHAR\",\"length\":3,\"scale\":3},{\"columnNumber\":15,\"columnName\":\"des_estadocontri\",\"columnTypeName\":\"VARCHAR\",\"length\":16,\"scale\":16},{\"columnNumber\":16,\"columnName\":\"fec_alta\",\"columnTypeName\":\"TIMESTAMP\",\"length\":6,\"scale\":6},{\"columnNumber\":17,\"columnName\":\"fec_baja\",\"columnTypeName\":\"TIMESTAMP\",\"length\":6,\"scale\":6},{\"columnNumber\":18,\"columnName\":\"fec_finvigencia\",\"columnTypeName\":\"TIMESTAMP\",\"length\":6,\"scale\":6},{\"columnNumber\":19,\"columnName\":\"ind_zona\",\"columnTypeName\":\"VARCHAR\",\"length\":3,\"scale\":3},{\"columnNumber\":20,\"columnName\":\"des_zona\",\"columnTypeName\":\"VARCHAR\",\"length\":50,\"scale\":50},{\"columnNumber\":21,\"columnName\":\"fec_levantesusp\",\"columnTypeName\":\"TIMESTAMP\",\"length\":6,\"scale\":6},{\"columnNumber\":22,\"columnName\":\"fec_suspension\",\"columnTypeName\":\"TIMESTAMP\",\"length\":6,\"scale\":6},{\"columnNumber\":23,\"columnName\":\"ddp_ubigeo\",\"columnTypeName\":\"VARCHAR\",\"length\":8,\"scale\":8},{\"columnNumber\":24,\"columnName\":\"cod_depar\",\"columnTypeName\":\"VARCHAR\",\"length\":3,\"scale\":3},{\"columnNumber\":25,\"columnName\":\"cod_distr\",\"columnTypeName\":\"VARCHAR\",\"length\":3,\"scale\":3},{\"columnNumber\":26,\"columnName\":\"cod_provi\",\"columnTypeName\":\"VARCHAR\",\"length\":3,\"scale\":3}]}"
     },
     "output_type": "execute_result"
    }
   ],
   "source": [
    "SELECT TOP 10 * FROM c5_usuario;"
   ]
  },
  {
   "cell_type": "code",
   "execution_count": 3,
   "id": "16ae3aff-65c4-4d1e-94d8-19b0371fbca6",
   "metadata": {},
   "outputs": [
    {
     "data": {
      "application/vnd.teradata.resultset": "\"num_ruc\",\"fec_alta\",\"fec_finvigencia\"\n\"10048000709\",\"2022-12-02 05:00:00.070000\",\"2024-12-02 05:00:00.070000\"\n\"10048000810\",\"2013-08-27 05:00:00.080000\",\"2025-09-01 05:00:00.080000\"\n\"10048000095\",\"2013-08-27 05:00:00.009000\",\"2025-09-01 05:00:00.009000\"\n\"10048000196\",\"2013-09-27 05:00:00.019000\",\"2025-10-02 05:00:00.019000\"\n\"10048000049\",\"2022-12-02 05:00:00.004000\",\"2024-12-02 05:00:00.004000\"\n\"10048000171\",\"2015-03-16 05:00:00.017000\",\"2024-09-30 05:00:00.017000\"\n\"10048000459\",\"2022-12-02 05:00:00.045000\",\"2024-12-02 05:00:00.045000\"\n\"10048000484\",\"2022-12-13 05:00:00.048000\",\"2024-12-13 05:00:00.048000\"\n\"10048000446\",\"2013-09-27 05:00:00.044000\",\"2025-10-02 05:00:00.044000\"\n\"10048000305\",\"2013-08-27 05:00:00.030000\",\"2025-09-01 05:00:00.030000\"",
      "text/html": [
       "<div class = \"td-resultset-table-div\" style = \"max-height: 100%; overflow-y: auto\">\n",
       "      <table class=\"tdhistory258929\"><style>\n",
       "      table.tdhistory258929 { display: block !important; min-height: 294px !important; overflow: auto !important; height: 294px !important; width: 100% !important; border: 1px solid rgb(207, 207, 207) !important; border-collapse: collapse !important; ; color: var(--jp-ui-font-color1) !important; }\n",
       "      th.tdhistory258929 { border: 1px solid rgb(198,198,198) !important; border-collapse: collapse !important; ; padding: 2px 5px !important; ; font-size: 13px !important; ; text-align: center !important; white-space: normal !important; color: var(--jp-ui-font-color1) !important; }\n",
       "      th.tdhistory258929:last-child { text-align: left !important; }\n",
       "      tbody.tdhistory258929 tr:nth-child(even) { background: rgba(243, 243, 243, 0.75) !important; }\n",
       "      tbody.tdhistory258929 tr:nth-child(odd) { background: var(--jp-ui-inverse-font-color1) !important; }\n",
       "      td.tdhistory258929 { border: 1px solid rgb(207, 207, 207) !important; border-collapse: collapse !important; ; padding: 2px 5px !important; ; font-size: 13px !important; ; text-align: left !important;          white-space: nowrap !important; overflow:hidden !important; text-overflow:ellipsis !important;; }\n",
       "    </style><thead><tr style= \"background: rgba(243, 243, 243, 0.75)\"><th class=\"tdhistory258929\"></th><th class=\"tdhistory258929\">num_ruc</th><th class=\"tdhistory258929\">fec_alta</th><th class=\"tdhistory258929\">fec_finvigencia</th></tr></thead><tbody class=\"tdhistory258929 resultset-body\"><tr><th class=\"tdhistory258929\" style= \"background: rgba(243, 243, 243, 0.75)\">1</th><td class=\"tdhistory258929\">10048000709</td><td class=\"tdhistory258929\">2022-12-02 05:00:00.070000</td><td class=\"tdhistory258929\">2024-12-02 05:00:00.070000</td></tr><tr><th class=\"tdhistory258929\" style= \"background: rgba(243, 243, 243, 0.75)\">2</th><td class=\"tdhistory258929\">10048000810</td><td class=\"tdhistory258929\">2013-08-27 05:00:00.080000</td><td class=\"tdhistory258929\">2025-09-01 05:00:00.080000</td></tr><tr><th class=\"tdhistory258929\" style= \"background: rgba(243, 243, 243, 0.75)\">3</th><td class=\"tdhistory258929\">10048000095</td><td class=\"tdhistory258929\">2013-08-27 05:00:00.009000</td><td class=\"tdhistory258929\">2025-09-01 05:00:00.009000</td></tr><tr><th class=\"tdhistory258929\" style= \"background: rgba(243, 243, 243, 0.75)\">4</th><td class=\"tdhistory258929\">10048000196</td><td class=\"tdhistory258929\">2013-09-27 05:00:00.019000</td><td class=\"tdhistory258929\">2025-10-02 05:00:00.019000</td></tr><tr><th class=\"tdhistory258929\" style= \"background: rgba(243, 243, 243, 0.75)\">5</th><td class=\"tdhistory258929\">10048000049</td><td class=\"tdhistory258929\">2022-12-02 05:00:00.004000</td><td class=\"tdhistory258929\">2024-12-02 05:00:00.004000</td></tr><tr><th class=\"tdhistory258929\" style= \"background: rgba(243, 243, 243, 0.75)\">6</th><td class=\"tdhistory258929\">10048000171</td><td class=\"tdhistory258929\">2015-03-16 05:00:00.017000</td><td class=\"tdhistory258929\">2024-09-30 05:00:00.017000</td></tr><tr><th class=\"tdhistory258929\" style= \"background: rgba(243, 243, 243, 0.75)\">7</th><td class=\"tdhistory258929\">10048000459</td><td class=\"tdhistory258929\">2022-12-02 05:00:00.045000</td><td class=\"tdhistory258929\">2024-12-02 05:00:00.045000</td></tr><tr><th class=\"tdhistory258929\" style= \"background: rgba(243, 243, 243, 0.75)\">8</th><td class=\"tdhistory258929\">10048000484</td><td class=\"tdhistory258929\">2022-12-13 05:00:00.048000</td><td class=\"tdhistory258929\">2024-12-13 05:00:00.048000</td></tr><tr><th class=\"tdhistory258929\" style= \"background: rgba(243, 243, 243, 0.75)\">9</th><td class=\"tdhistory258929\">10048000446</td><td class=\"tdhistory258929\">2013-09-27 05:00:00.044000</td><td class=\"tdhistory258929\">2025-10-02 05:00:00.044000</td></tr><tr><th class=\"tdhistory258929\" style= \"background: rgba(243, 243, 243, 0.75)\">10</th><td class=\"tdhistory258929\">10048000305</td><td class=\"tdhistory258929\">2013-08-27 05:00:00.030000</td><td class=\"tdhistory258929\">2025-09-01 05:00:00.030000</td></tr></tbody></table></div>"
      ]
     },
     "execution_count": 3,
     "metadata": {
      "application/vnd.teradata.resultset": "{\"resultSetID\":\"/teradata/proyecto/Teradata/Resultsets/2023.11.03_00.15.24.119_UTC\",\"historyID\":2103,\"chunkID\":\"00001\",\"sessionid\":\"\",\"portnum\":\"\",\"dockermode\":\"standalone\",\"totalRowCount\":10,\"chunkCount\":0,\"rowLimit\":0,\"columnMetadata\":[{\"columnName\":\"num_ruc\",\"columnTypeName\":\"VARCHAR\",\"length\":16,\"scale\":16},{\"columnNumber\":1,\"columnName\":\"fec_alta\",\"columnTypeName\":\"TIMESTAMP\",\"length\":6,\"scale\":6},{\"columnNumber\":2,\"columnName\":\"fec_finvigencia\",\"columnTypeName\":\"TIMESTAMP\",\"length\":6,\"scale\":6}]}"
     },
     "output_type": "execute_result"
    }
   ],
   "source": [
    "SELECT TOP 10 num_ruc, fec_alta, fec_finvigencia FROM c5_usuario;"
   ]
  },
  {
   "cell_type": "markdown",
   "id": "f3fe97ed-fa37-488a-aeeb-62a0adc92ade",
   "metadata": {},
   "source": [
    "### Utilizamos una tabla auxiliar para generar las secuencias"
   ]
  },
  {
   "cell_type": "code",
   "execution_count": 4,
   "id": "60efc3c7-ae6a-416a-9b67-1b777f9db452",
   "metadata": {},
   "outputs": [
    {
     "data": {
      "application/vnd.teradata.resultset": "\"CUENTA\"\n\"1\"\n\"2\"\n\"3\"\n\"4\"\n\"5\"\n\"6\"\n\"7\"\n\"8\"\n\"9\"\n\"10\"\n\"11\"\n\"12\"\n\"13\"\n\"14\"\n\"15\"\n\"16\"\n\"17\"\n\"18\"\n\"19\"\n\"20\"",
      "text/html": [
       "<div class = \"td-resultset-table-div\" style = \"max-height: 100%; overflow-y: auto\">\n",
       "      <table class=\"tdhistory795154\"><style>\n",
       "      table.tdhistory795154 { display: block !important; min-height: 504px !important; overflow: auto !important; height: 504px !important; width: 100% !important; border: 1px solid rgb(207, 207, 207) !important; border-collapse: collapse !important; ; color: var(--jp-ui-font-color1) !important; }\n",
       "      th.tdhistory795154 { border: 1px solid rgb(198,198,198) !important; border-collapse: collapse !important; ; padding: 2px 5px !important; ; font-size: 13px !important; ; text-align: center !important; white-space: normal !important; color: var(--jp-ui-font-color1) !important; }\n",
       "      th.tdhistory795154:last-child { text-align: left !important; }\n",
       "      tbody.tdhistory795154 tr:nth-child(even) { background: rgba(243, 243, 243, 0.75) !important; }\n",
       "      tbody.tdhistory795154 tr:nth-child(odd) { background: var(--jp-ui-inverse-font-color1) !important; }\n",
       "      td.tdhistory795154 { border: 1px solid rgb(207, 207, 207) !important; border-collapse: collapse !important; ; padding: 2px 5px !important; ; font-size: 13px !important; ; text-align: left !important;          white-space: nowrap !important; overflow:hidden !important; text-overflow:ellipsis !important;; }\n",
       "    </style><thead><tr style= \"background: rgba(243, 243, 243, 0.75)\"><th class=\"tdhistory795154\"></th><th class=\"tdhistory795154\">CUENTA</th></tr></thead><tbody class=\"tdhistory795154 resultset-body\"><tr><th class=\"tdhistory795154\" style= \"background: rgba(243, 243, 243, 0.75)\">1</th><td class=\"tdhistory795154\">1</td></tr><tr><th class=\"tdhistory795154\" style= \"background: rgba(243, 243, 243, 0.75)\">2</th><td class=\"tdhistory795154\">2</td></tr><tr><th class=\"tdhistory795154\" style= \"background: rgba(243, 243, 243, 0.75)\">3</th><td class=\"tdhistory795154\">3</td></tr><tr><th class=\"tdhistory795154\" style= \"background: rgba(243, 243, 243, 0.75)\">4</th><td class=\"tdhistory795154\">4</td></tr><tr><th class=\"tdhistory795154\" style= \"background: rgba(243, 243, 243, 0.75)\">5</th><td class=\"tdhistory795154\">5</td></tr><tr><th class=\"tdhistory795154\" style= \"background: rgba(243, 243, 243, 0.75)\">6</th><td class=\"tdhistory795154\">6</td></tr><tr><th class=\"tdhistory795154\" style= \"background: rgba(243, 243, 243, 0.75)\">7</th><td class=\"tdhistory795154\">7</td></tr><tr><th class=\"tdhistory795154\" style= \"background: rgba(243, 243, 243, 0.75)\">8</th><td class=\"tdhistory795154\">8</td></tr><tr><th class=\"tdhistory795154\" style= \"background: rgba(243, 243, 243, 0.75)\">9</th><td class=\"tdhistory795154\">9</td></tr><tr><th class=\"tdhistory795154\" style= \"background: rgba(243, 243, 243, 0.75)\">10</th><td class=\"tdhistory795154\">10</td></tr><tr><th class=\"tdhistory795154\" style= \"background: rgba(243, 243, 243, 0.75)\">11</th><td class=\"tdhistory795154\">11</td></tr><tr><th class=\"tdhistory795154\" style= \"background: rgba(243, 243, 243, 0.75)\">12</th><td class=\"tdhistory795154\">12</td></tr><tr><th class=\"tdhistory795154\" style= \"background: rgba(243, 243, 243, 0.75)\">13</th><td class=\"tdhistory795154\">13</td></tr><tr><th class=\"tdhistory795154\" style= \"background: rgba(243, 243, 243, 0.75)\">14</th><td class=\"tdhistory795154\">14</td></tr><tr><th class=\"tdhistory795154\" style= \"background: rgba(243, 243, 243, 0.75)\">15</th><td class=\"tdhistory795154\">15</td></tr><tr><th class=\"tdhistory795154\" style= \"background: rgba(243, 243, 243, 0.75)\">16</th><td class=\"tdhistory795154\">16</td></tr><tr><th class=\"tdhistory795154\" style= \"background: rgba(243, 243, 243, 0.75)\">17</th><td class=\"tdhistory795154\">17</td></tr><tr><th class=\"tdhistory795154\" style= \"background: rgba(243, 243, 243, 0.75)\">18</th><td class=\"tdhistory795154\">18</td></tr><tr><th class=\"tdhistory795154\" style= \"background: rgba(243, 243, 243, 0.75)\">19</th><td class=\"tdhistory795154\">19</td></tr><tr><th class=\"tdhistory795154\" style= \"background: rgba(243, 243, 243, 0.75)\">20</th><td class=\"tdhistory795154\">20</td></tr></tbody></table></div>"
      ]
     },
     "execution_count": 4,
     "metadata": {
      "application/vnd.teradata.resultset": "{\"resultSetID\":\"/teradata/proyecto/Teradata/Resultsets/2023.11.03_00.17.13.032_UTC\",\"historyID\":2104,\"chunkID\":\"00001\",\"sessionid\":\"\",\"portnum\":\"\",\"dockermode\":\"standalone\",\"totalRowCount\":20,\"chunkCount\":0,\"rowLimit\":0,\"columnMetadata\":[{\"columnName\":\"CUENTA\",\"columnTypeName\":\"INTEGER\"}]}"
     },
     "output_type": "execute_result"
    }
   ],
   "source": [
    "SELECT * FROM c5_lista order by CUENTA;"
   ]
  },
  {
   "cell_type": "markdown",
   "id": "a682a95c-f00c-49c2-b8cd-ab9115d6a632",
   "metadata": {},
   "source": [
    "### Creamos la Tabla Final, cruzando las anteriores"
   ]
  },
  {
   "cell_type": "code",
   "execution_count": 6,
   "id": "b542c2db-f29f-425c-a896-6b44cecbab2e",
   "metadata": {},
   "outputs": [
    {
     "data": {
      "text/plain": [
       "Success: 0 rows affected"
      ]
     },
     "execution_count": 6,
     "metadata": {
      "application/vnd.teradata.resultset": ""
     },
     "output_type": "execute_result"
    }
   ],
   "source": [
    "CREATE TABLE c5_final AS (\n",
    "SELECT num_ruc, YEAR(FEC_INI) AS \"YEAR\", CAST(FEC_ALTA + (INTERVAL '365' DAY)*(CUENTA-1) AS DATE) AS FEC_INI, \n",
    "CAST(FEC_ALTA + (INTERVAL '365' DAY)*CUENTA - INTERVAL '1' DAY AS DATE) AS FEC_FIN,\n",
    "CUENTA, CAST(FEC_INI - INTERVAL '1' DAY AS DATE) AS FEC_STOCKINI\n",
    "FROM c5_usuario, c5_LISTA \n",
    "WHERE FEC_FIN < CAST(fec_finvigencia AS DATE)) WITH DATA \n",
    "PRIMARY INDEX (num_ruc);"
   ]
  },
  {
   "cell_type": "markdown",
   "id": "aea3d4fb",
   "metadata": {},
   "source": [
    "### Exploramos los Datos"
   ]
  },
  {
   "cell_type": "code",
   "execution_count": 8,
   "id": "206ed697-3fe3-4aaf-acc1-eeff9946cec6",
   "metadata": {},
   "outputs": [
    {
     "data": {
      "application/vnd.teradata.resultset": "\"num_ruc\",\"YEAR\",\"FEC_INI\",\"FEC_FIN\",\"CUENTA\",\"FEC_STOCKINI\"\n\"10048000001\",\"2015\",\"2015-03-16\",\"2016-03-14\",\"1\",\"2015-03-15\"\n\"10048000001\",\"2016\",\"2016-03-15\",\"2017-03-14\",\"2\",\"2016-03-14\"\n\"10048000001\",\"2017\",\"2017-03-15\",\"2018-03-14\",\"3\",\"2017-03-14\"\n\"10048000001\",\"2018\",\"2018-03-15\",\"2019-03-14\",\"4\",\"2018-03-14\"\n\"10048000001\",\"2019\",\"2019-03-15\",\"2020-03-13\",\"5\",\"2019-03-14\"\n\"10048000001\",\"2020\",\"2020-03-14\",\"2021-03-13\",\"6\",\"2020-03-13\"\n\"10048000001\",\"2021\",\"2021-03-14\",\"2022-03-13\",\"7\",\"2021-03-13\"\n\"10048000001\",\"2022\",\"2022-03-14\",\"2023-03-13\",\"8\",\"2022-03-13\"\n\"10048000001\",\"2023\",\"2023-03-14\",\"2024-03-12\",\"9\",\"2023-03-13\"\n\"10048000002\",\"2018\",\"2018-09-24\",\"2019-09-23\",\"1\",\"2018-09-23\"\n\"10048000002\",\"2019\",\"2019-09-24\",\"2020-09-22\",\"2\",\"2019-09-23\"\n\"10048000002\",\"2020\",\"2020-09-23\",\"2021-09-22\",\"3\",\"2020-09-22\"\n\"10048000002\",\"2021\",\"2021-09-23\",\"2022-09-22\",\"4\",\"2021-09-22\"\n\"10048000002\",\"2022\",\"2022-09-23\",\"2023-09-22\",\"5\",\"2022-09-22\"\n\"10048000002\",\"2023\",\"2023-09-23\",\"2024-09-21\",\"6\",\"2023-09-22\"\n\"10048000003\",\"2020\",\"2020-12-17\",\"2021-12-16\",\"1\",\"2020-12-16\"\n\"10048000003\",\"2021\",\"2021-12-17\",\"2022-12-16\",\"2\",\"2021-12-16\"\n\"10048000003\",\"2022\",\"2022-12-17\",\"2023-12-16\",\"3\",\"2022-12-16\"\n\"10048000003\",\"2023\",\"2023-12-17\",\"2024-12-15\",\"4\",\"2023-12-16\"\n\"10048000004\",\"2022\",\"2022-12-13\",\"2023-12-12\",\"1\",\"2022-12-12\"\n\"10048000004\",\"2023\",\"2023-12-13\",\"2024-12-11\",\"2\",\"2023-12-12\"\n\"10048000005\",\"2013\",\"2013-08-27\",\"2014-08-26\",\"1\",\"2013-08-26\"\n\"10048000005\",\"2014\",\"2014-08-27\",\"2015-08-26\",\"2\",\"2014-08-26\"\n\"10048000005\",\"2015\",\"2015-08-27\",\"2016-08-25\",\"3\",\"2015-08-26\"\n\"10048000005\",\"2016\",\"2016-08-26\",\"2017-08-25\",\"4\",\"2016-08-25\"\n\"10048000005\",\"2017\",\"2017-08-26\",\"2018-08-25\",\"5\",\"2017-08-25\"\n\"10048000005\",\"2018\",\"2018-08-26\",\"2019-08-25\",\"6\",\"2018-08-25\"\n\"10048000005\",\"2019\",\"2019-08-26\",\"2020-08-24\",\"7\",\"2019-08-25\"\n\"10048000005\",\"2020\",\"2020-08-25\",\"2021-08-24\",\"8\",\"2020-08-24\"\n\"10048000005\",\"2021\",\"2021-08-25\",\"2022-08-24\",\"9\",\"2021-08-24\"",
      "text/html": [
       "<div class = \"td-resultset-table-div\" style = \"max-height: 100%; overflow-y: auto\">\n",
       "      <table class=\"tdhistory115809\"><style>\n",
       "      table.tdhistory115809 { display: block !important; min-height: 588px !important; overflow: auto !important; height: 588px !important; width: 100% !important; border: 1px solid rgb(207, 207, 207) !important; border-collapse: collapse !important; ; color: var(--jp-ui-font-color1) !important; }\n",
       "      th.tdhistory115809 { border: 1px solid rgb(198,198,198) !important; border-collapse: collapse !important; ; padding: 2px 5px !important; ; font-size: 13px !important; ; text-align: center !important; white-space: normal !important; color: var(--jp-ui-font-color1) !important; }\n",
       "      th.tdhistory115809:last-child { text-align: left !important; }\n",
       "      tbody.tdhistory115809 tr:nth-child(even) { background: rgba(243, 243, 243, 0.75) !important; }\n",
       "      tbody.tdhistory115809 tr:nth-child(odd) { background: var(--jp-ui-inverse-font-color1) !important; }\n",
       "      td.tdhistory115809 { border: 1px solid rgb(207, 207, 207) !important; border-collapse: collapse !important; ; padding: 2px 5px !important; ; font-size: 13px !important; ; text-align: left !important;          white-space: nowrap !important; overflow:hidden !important; text-overflow:ellipsis !important;; }\n",
       "    </style><thead><tr style= \"background: rgba(243, 243, 243, 0.75)\"><th class=\"tdhistory115809\"></th><th class=\"tdhistory115809\">num_ruc</th><th class=\"tdhistory115809\">YEAR</th><th class=\"tdhistory115809\">FEC_INI</th><th class=\"tdhistory115809\">FEC_FIN</th><th class=\"tdhistory115809\">CUENTA</th><th class=\"tdhistory115809\">FEC_STOCKINI</th></tr></thead><tbody class=\"tdhistory115809 resultset-body\"><tr><th class=\"tdhistory115809\" style= \"background: rgba(243, 243, 243, 0.75)\">1</th><td class=\"tdhistory115809\">10048000001</td><td class=\"tdhistory115809\">2015</td><td class=\"tdhistory115809\">2015-03-16</td><td class=\"tdhistory115809\">2016-03-14</td><td class=\"tdhistory115809\">1</td><td class=\"tdhistory115809\">2015-03-15</td></tr><tr><th class=\"tdhistory115809\" style= \"background: rgba(243, 243, 243, 0.75)\">2</th><td class=\"tdhistory115809\">10048000001</td><td class=\"tdhistory115809\">2016</td><td class=\"tdhistory115809\">2016-03-15</td><td class=\"tdhistory115809\">2017-03-14</td><td class=\"tdhistory115809\">2</td><td class=\"tdhistory115809\">2016-03-14</td></tr><tr><th class=\"tdhistory115809\" style= \"background: rgba(243, 243, 243, 0.75)\">3</th><td class=\"tdhistory115809\">10048000001</td><td class=\"tdhistory115809\">2017</td><td class=\"tdhistory115809\">2017-03-15</td><td class=\"tdhistory115809\">2018-03-14</td><td class=\"tdhistory115809\">3</td><td class=\"tdhistory115809\">2017-03-14</td></tr><tr><th class=\"tdhistory115809\" style= \"background: rgba(243, 243, 243, 0.75)\">4</th><td class=\"tdhistory115809\">10048000001</td><td class=\"tdhistory115809\">2018</td><td class=\"tdhistory115809\">2018-03-15</td><td class=\"tdhistory115809\">2019-03-14</td><td class=\"tdhistory115809\">4</td><td class=\"tdhistory115809\">2018-03-14</td></tr><tr><th class=\"tdhistory115809\" style= \"background: rgba(243, 243, 243, 0.75)\">5</th><td class=\"tdhistory115809\">10048000001</td><td class=\"tdhistory115809\">2019</td><td class=\"tdhistory115809\">2019-03-15</td><td class=\"tdhistory115809\">2020-03-13</td><td class=\"tdhistory115809\">5</td><td class=\"tdhistory115809\">2019-03-14</td></tr><tr><th class=\"tdhistory115809\" style= \"background: rgba(243, 243, 243, 0.75)\">6</th><td class=\"tdhistory115809\">10048000001</td><td class=\"tdhistory115809\">2020</td><td class=\"tdhistory115809\">2020-03-14</td><td class=\"tdhistory115809\">2021-03-13</td><td class=\"tdhistory115809\">6</td><td class=\"tdhistory115809\">2020-03-13</td></tr><tr><th class=\"tdhistory115809\" style= \"background: rgba(243, 243, 243, 0.75)\">7</th><td class=\"tdhistory115809\">10048000001</td><td class=\"tdhistory115809\">2021</td><td class=\"tdhistory115809\">2021-03-14</td><td class=\"tdhistory115809\">2022-03-13</td><td class=\"tdhistory115809\">7</td><td class=\"tdhistory115809\">2021-03-13</td></tr><tr><th class=\"tdhistory115809\" style= \"background: rgba(243, 243, 243, 0.75)\">8</th><td class=\"tdhistory115809\">10048000001</td><td class=\"tdhistory115809\">2022</td><td class=\"tdhistory115809\">2022-03-14</td><td class=\"tdhistory115809\">2023-03-13</td><td class=\"tdhistory115809\">8</td><td class=\"tdhistory115809\">2022-03-13</td></tr><tr><th class=\"tdhistory115809\" style= \"background: rgba(243, 243, 243, 0.75)\">9</th><td class=\"tdhistory115809\">10048000001</td><td class=\"tdhistory115809\">2023</td><td class=\"tdhistory115809\">2023-03-14</td><td class=\"tdhistory115809\">2024-03-12</td><td class=\"tdhistory115809\">9</td><td class=\"tdhistory115809\">2023-03-13</td></tr><tr><th class=\"tdhistory115809\" style= \"background: rgba(243, 243, 243, 0.75)\">10</th><td class=\"tdhistory115809\">10048000002</td><td class=\"tdhistory115809\">2018</td><td class=\"tdhistory115809\">2018-09-24</td><td class=\"tdhistory115809\">2019-09-23</td><td class=\"tdhistory115809\">1</td><td class=\"tdhistory115809\">2018-09-23</td></tr><tr><th class=\"tdhistory115809\" style= \"background: rgba(243, 243, 243, 0.75)\">11</th><td class=\"tdhistory115809\">10048000002</td><td class=\"tdhistory115809\">2019</td><td class=\"tdhistory115809\">2019-09-24</td><td class=\"tdhistory115809\">2020-09-22</td><td class=\"tdhistory115809\">2</td><td class=\"tdhistory115809\">2019-09-23</td></tr><tr><th class=\"tdhistory115809\" style= \"background: rgba(243, 243, 243, 0.75)\">12</th><td class=\"tdhistory115809\">10048000002</td><td class=\"tdhistory115809\">2020</td><td class=\"tdhistory115809\">2020-09-23</td><td class=\"tdhistory115809\">2021-09-22</td><td class=\"tdhistory115809\">3</td><td class=\"tdhistory115809\">2020-09-22</td></tr><tr><th class=\"tdhistory115809\" style= \"background: rgba(243, 243, 243, 0.75)\">13</th><td class=\"tdhistory115809\">10048000002</td><td class=\"tdhistory115809\">2021</td><td class=\"tdhistory115809\">2021-09-23</td><td class=\"tdhistory115809\">2022-09-22</td><td class=\"tdhistory115809\">4</td><td class=\"tdhistory115809\">2021-09-22</td></tr><tr><th class=\"tdhistory115809\" style= \"background: rgba(243, 243, 243, 0.75)\">14</th><td class=\"tdhistory115809\">10048000002</td><td class=\"tdhistory115809\">2022</td><td class=\"tdhistory115809\">2022-09-23</td><td class=\"tdhistory115809\">2023-09-22</td><td class=\"tdhistory115809\">5</td><td class=\"tdhistory115809\">2022-09-22</td></tr><tr><th class=\"tdhistory115809\" style= \"background: rgba(243, 243, 243, 0.75)\">15</th><td class=\"tdhistory115809\">10048000002</td><td class=\"tdhistory115809\">2023</td><td class=\"tdhistory115809\">2023-09-23</td><td class=\"tdhistory115809\">2024-09-21</td><td class=\"tdhistory115809\">6</td><td class=\"tdhistory115809\">2023-09-22</td></tr><tr><th class=\"tdhistory115809\" style= \"background: rgba(243, 243, 243, 0.75)\">16</th><td class=\"tdhistory115809\">10048000003</td><td class=\"tdhistory115809\">2020</td><td class=\"tdhistory115809\">2020-12-17</td><td class=\"tdhistory115809\">2021-12-16</td><td class=\"tdhistory115809\">1</td><td class=\"tdhistory115809\">2020-12-16</td></tr><tr><th class=\"tdhistory115809\" style= \"background: rgba(243, 243, 243, 0.75)\">17</th><td class=\"tdhistory115809\">10048000003</td><td class=\"tdhistory115809\">2021</td><td class=\"tdhistory115809\">2021-12-17</td><td class=\"tdhistory115809\">2022-12-16</td><td class=\"tdhistory115809\">2</td><td class=\"tdhistory115809\">2021-12-16</td></tr><tr><th class=\"tdhistory115809\" style= \"background: rgba(243, 243, 243, 0.75)\">18</th><td class=\"tdhistory115809\">10048000003</td><td class=\"tdhistory115809\">2022</td><td class=\"tdhistory115809\">2022-12-17</td><td class=\"tdhistory115809\">2023-12-16</td><td class=\"tdhistory115809\">3</td><td class=\"tdhistory115809\">2022-12-16</td></tr><tr><th class=\"tdhistory115809\" style= \"background: rgba(243, 243, 243, 0.75)\">19</th><td class=\"tdhistory115809\">10048000003</td><td class=\"tdhistory115809\">2023</td><td class=\"tdhistory115809\">2023-12-17</td><td class=\"tdhistory115809\">2024-12-15</td><td class=\"tdhistory115809\">4</td><td class=\"tdhistory115809\">2023-12-16</td></tr><tr><th class=\"tdhistory115809\" style= \"background: rgba(243, 243, 243, 0.75)\">20</th><td class=\"tdhistory115809\">10048000004</td><td class=\"tdhistory115809\">2022</td><td class=\"tdhistory115809\">2022-12-13</td><td class=\"tdhistory115809\">2023-12-12</td><td class=\"tdhistory115809\">1</td><td class=\"tdhistory115809\">2022-12-12</td></tr><tr><th class=\"tdhistory115809\" style= \"background: rgba(243, 243, 243, 0.75)\">21</th><td class=\"tdhistory115809\">10048000004</td><td class=\"tdhistory115809\">2023</td><td class=\"tdhistory115809\">2023-12-13</td><td class=\"tdhistory115809\">2024-12-11</td><td class=\"tdhistory115809\">2</td><td class=\"tdhistory115809\">2023-12-12</td></tr><tr><th class=\"tdhistory115809\" style= \"background: rgba(243, 243, 243, 0.75)\">22</th><td class=\"tdhistory115809\">10048000005</td><td class=\"tdhistory115809\">2013</td><td class=\"tdhistory115809\">2013-08-27</td><td class=\"tdhistory115809\">2014-08-26</td><td class=\"tdhistory115809\">1</td><td class=\"tdhistory115809\">2013-08-26</td></tr><tr><th class=\"tdhistory115809\" style= \"background: rgba(243, 243, 243, 0.75)\">23</th><td class=\"tdhistory115809\">10048000005</td><td class=\"tdhistory115809\">2014</td><td class=\"tdhistory115809\">2014-08-27</td><td class=\"tdhistory115809\">2015-08-26</td><td class=\"tdhistory115809\">2</td><td class=\"tdhistory115809\">2014-08-26</td></tr><tr><th class=\"tdhistory115809\" style= \"background: rgba(243, 243, 243, 0.75)\">24</th><td class=\"tdhistory115809\">10048000005</td><td class=\"tdhistory115809\">2015</td><td class=\"tdhistory115809\">2015-08-27</td><td class=\"tdhistory115809\">2016-08-25</td><td class=\"tdhistory115809\">3</td><td class=\"tdhistory115809\">2015-08-26</td></tr><tr><th class=\"tdhistory115809\" style= \"background: rgba(243, 243, 243, 0.75)\">25</th><td class=\"tdhistory115809\">10048000005</td><td class=\"tdhistory115809\">2016</td><td class=\"tdhistory115809\">2016-08-26</td><td class=\"tdhistory115809\">2017-08-25</td><td class=\"tdhistory115809\">4</td><td class=\"tdhistory115809\">2016-08-25</td></tr><tr><th class=\"tdhistory115809\" style= \"background: rgba(243, 243, 243, 0.75)\">26</th><td class=\"tdhistory115809\">10048000005</td><td class=\"tdhistory115809\">2017</td><td class=\"tdhistory115809\">2017-08-26</td><td class=\"tdhistory115809\">2018-08-25</td><td class=\"tdhistory115809\">5</td><td class=\"tdhistory115809\">2017-08-25</td></tr><tr><th class=\"tdhistory115809\" style= \"background: rgba(243, 243, 243, 0.75)\">27</th><td class=\"tdhistory115809\">10048000005</td><td class=\"tdhistory115809\">2018</td><td class=\"tdhistory115809\">2018-08-26</td><td class=\"tdhistory115809\">2019-08-25</td><td class=\"tdhistory115809\">6</td><td class=\"tdhistory115809\">2018-08-25</td></tr><tr><th class=\"tdhistory115809\" style= \"background: rgba(243, 243, 243, 0.75)\">28</th><td class=\"tdhistory115809\">10048000005</td><td class=\"tdhistory115809\">2019</td><td class=\"tdhistory115809\">2019-08-26</td><td class=\"tdhistory115809\">2020-08-24</td><td class=\"tdhistory115809\">7</td><td class=\"tdhistory115809\">2019-08-25</td></tr><tr><th class=\"tdhistory115809\" style= \"background: rgba(243, 243, 243, 0.75)\">29</th><td class=\"tdhistory115809\">10048000005</td><td class=\"tdhistory115809\">2020</td><td class=\"tdhistory115809\">2020-08-25</td><td class=\"tdhistory115809\">2021-08-24</td><td class=\"tdhistory115809\">8</td><td class=\"tdhistory115809\">2020-08-24</td></tr><tr><th class=\"tdhistory115809\" style= \"background: rgba(243, 243, 243, 0.75)\">30</th><td class=\"tdhistory115809\">10048000005</td><td class=\"tdhistory115809\">2021</td><td class=\"tdhistory115809\">2021-08-25</td><td class=\"tdhistory115809\">2022-08-24</td><td class=\"tdhistory115809\">9</td><td class=\"tdhistory115809\">2021-08-24</td></tr></tbody></table></div>"
      ]
     },
     "execution_count": 8,
     "metadata": {
      "application/vnd.teradata.resultset": "{\"resultSetID\":\"/teradata/proyecto/Teradata/Resultsets/2023.11.03_00.22.12.705_UTC\",\"historyID\":2108,\"chunkID\":\"00001\",\"sessionid\":\"\",\"portnum\":\"\",\"dockermode\":\"standalone\",\"totalRowCount\":30,\"chunkCount\":0,\"rowLimit\":0,\"columnMetadata\":[{\"columnName\":\"num_ruc\",\"columnTypeName\":\"VARCHAR\",\"length\":16,\"scale\":16},{\"columnNumber\":1,\"columnName\":\"YEAR\",\"columnTypeName\":\"INTEGER\"},{\"columnNumber\":2,\"columnName\":\"FEC_INI\",\"columnTypeName\":\"DATE\"},{\"columnNumber\":3,\"columnName\":\"FEC_FIN\",\"columnTypeName\":\"DATE\"},{\"columnNumber\":4,\"columnName\":\"CUENTA\",\"columnTypeName\":\"INTEGER\"},{\"columnNumber\":5,\"columnName\":\"FEC_STOCKINI\",\"columnTypeName\":\"DATE\"}]}"
     },
     "output_type": "execute_result"
    }
   ],
   "source": [
    "-- Primeros registros\n",
    "SEL TOP 30 * FROM c5_final ORDER BY num_ruc, CUENTA;"
   ]
  },
  {
   "cell_type": "markdown",
   "id": "a3751fa6-5208-4505-a62d-15692218fc2a",
   "metadata": {},
   "source": [
    "### Limpiando las tablas creadas"
   ]
  },
  {
   "cell_type": "code",
   "execution_count": 9,
   "id": "c762a949-fc17-4da0-b7ff-dac864531b39",
   "metadata": {},
   "outputs": [
    {
     "data": {
      "text/plain": [
       "Success: 21 rows affected"
      ]
     },
     "execution_count": 9,
     "metadata": {
      "application/vnd.teradata.resultset": ""
     },
     "output_type": "execute_result"
    }
   ],
   "source": [
    "DROP TABLE c5_final;"
   ]
  },
  {
   "cell_type": "markdown",
   "id": "857be636",
   "metadata": {},
   "source": [
    "Copyright 2023. Elaborado por Luis Cajachahua bajo licencia MIT"
   ]
  }
 ],
 "metadata": {
  "kernelspec": {
   "display_name": "Teradata SQL",
   "language": "Teradata SQL",
   "name": "teradatasql"
  },
  "language_info": {
   "codemirror_mode": "Teradata SQL",
   "file_extension": ".tdrs",
   "mimetype": "application/vnd.teradata.resultset",
   "name": "Teradata SQL",
   "nbconvert_exporter": "",
   "pygments_lexer": "",
   "version": "16.20"
  }
 },
 "nbformat": 4,
 "nbformat_minor": 5
}
