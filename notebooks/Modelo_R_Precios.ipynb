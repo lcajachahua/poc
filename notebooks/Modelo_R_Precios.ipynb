{
 "cells": [
  {
   "cell_type": "markdown",
   "id": "2f0df8dc",
   "metadata": {},
   "source": [
    "# **Modelo de Estimación del Precio de Viviendas**\n",
    "## **Entendimiento del Problema y de los Datos**\n",
    "Este dataset contiene información recolectada de precios y características de 142 mil viviendas en Colombia. La información se encuentra disponible públicamente en el repositorio Kaggle: https://www.kaggle.com/datasets/danieleduardofajardo/colombia-house-prediction"
   ]
  },
  {
   "cell_type": "markdown",
   "id": "296a9e92",
   "metadata": {},
   "source": [
    "### Cargamos las librerías"
   ]
  },
  {
   "cell_type": "code",
   "execution_count": null,
   "id": "ebb8b31a",
   "metadata": {},
   "outputs": [],
   "source": [
    "## Rscript -e \"install.packages('tdplyr',repos=c('https://r-repo.teradata.com','https://cloud.r-project.org'))\"\n",
    "## install.packages('corrplot')"
   ]
  },
  {
   "cell_type": "code",
   "execution_count": 1,
   "id": "49d96f7f-c2c1-4089-8511-6c758a6455e7",
   "metadata": {},
   "outputs": [
    {
     "data": {
      "text/html": [
       "<dl>\n",
       "\t<dt>$platform</dt>\n",
       "\t\t<dd>'x86_64-w64-mingw32'</dd>\n",
       "\t<dt>$arch</dt>\n",
       "\t\t<dd>'x86_64'</dd>\n",
       "\t<dt>$os</dt>\n",
       "\t\t<dd>'mingw32'</dd>\n",
       "\t<dt>$system</dt>\n",
       "\t\t<dd>'x86_64, mingw32'</dd>\n",
       "\t<dt>$status</dt>\n",
       "\t\t<dd>''</dd>\n",
       "\t<dt>$major</dt>\n",
       "\t\t<dd>'4'</dd>\n",
       "\t<dt>$minor</dt>\n",
       "\t\t<dd>'1.3'</dd>\n",
       "\t<dt>$year</dt>\n",
       "\t\t<dd>'2022'</dd>\n",
       "\t<dt>$month</dt>\n",
       "\t\t<dd>'03'</dd>\n",
       "\t<dt>$day</dt>\n",
       "\t\t<dd>'10'</dd>\n",
       "\t<dt>$`svn rev`</dt>\n",
       "\t\t<dd>'81868'</dd>\n",
       "\t<dt>$language</dt>\n",
       "\t\t<dd>'R'</dd>\n",
       "\t<dt>$version.string</dt>\n",
       "\t\t<dd>'R version 4.1.3 (2022-03-10)'</dd>\n",
       "\t<dt>$nickname</dt>\n",
       "\t\t<dd>'One Push-Up'</dd>\n",
       "</dl>\n"
      ],
      "text/latex": [
       "\\begin{description}\n",
       "\\item[\\$platform] 'x86\\_64-w64-mingw32'\n",
       "\\item[\\$arch] 'x86\\_64'\n",
       "\\item[\\$os] 'mingw32'\n",
       "\\item[\\$system] 'x86\\_64, mingw32'\n",
       "\\item[\\$status] ''\n",
       "\\item[\\$major] '4'\n",
       "\\item[\\$minor] '1.3'\n",
       "\\item[\\$year] '2022'\n",
       "\\item[\\$month] '03'\n",
       "\\item[\\$day] '10'\n",
       "\\item[\\$`svn rev`] '81868'\n",
       "\\item[\\$language] 'R'\n",
       "\\item[\\$version.string] 'R version 4.1.3 (2022-03-10)'\n",
       "\\item[\\$nickname] 'One Push-Up'\n",
       "\\end{description}\n"
      ],
      "text/markdown": [
       "$platform\n",
       ":   'x86_64-w64-mingw32'\n",
       "$arch\n",
       ":   'x86_64'\n",
       "$os\n",
       ":   'mingw32'\n",
       "$system\n",
       ":   'x86_64, mingw32'\n",
       "$status\n",
       ":   ''\n",
       "$major\n",
       ":   '4'\n",
       "$minor\n",
       ":   '1.3'\n",
       "$year\n",
       ":   '2022'\n",
       "$month\n",
       ":   '03'\n",
       "$day\n",
       ":   '10'\n",
       "$`svn rev`\n",
       ":   '81868'\n",
       "$language\n",
       ":   'R'\n",
       "$version.string\n",
       ":   'R version 4.1.3 (2022-03-10)'\n",
       "$nickname\n",
       ":   'One Push-Up'\n",
       "\n",
       "\n"
      ],
      "text/plain": [
       "$platform\n",
       "[1] \"x86_64-w64-mingw32\"\n",
       "\n",
       "$arch\n",
       "[1] \"x86_64\"\n",
       "\n",
       "$os\n",
       "[1] \"mingw32\"\n",
       "\n",
       "$system\n",
       "[1] \"x86_64, mingw32\"\n",
       "\n",
       "$status\n",
       "[1] \"\"\n",
       "\n",
       "$major\n",
       "[1] \"4\"\n",
       "\n",
       "$minor\n",
       "[1] \"1.3\"\n",
       "\n",
       "$year\n",
       "[1] \"2022\"\n",
       "\n",
       "$month\n",
       "[1] \"03\"\n",
       "\n",
       "$day\n",
       "[1] \"10\"\n",
       "\n",
       "$`svn rev`\n",
       "[1] \"81868\"\n",
       "\n",
       "$language\n",
       "[1] \"R\"\n",
       "\n",
       "$version.string\n",
       "[1] \"R version 4.1.3 (2022-03-10)\"\n",
       "\n",
       "$nickname\n",
       "[1] \"One Push-Up\"\n"
      ]
     },
     "metadata": {},
     "output_type": "display_data"
    }
   ],
   "source": [
    "# Versión de R\n",
    "R.Version()"
   ]
  },
  {
   "cell_type": "code",
   "execution_count": 2,
   "id": "573b7c94-73d4-4b9c-aaa3-134b78d8f5ef",
   "metadata": {},
   "outputs": [],
   "source": [
    "## Carga de Librerías\n",
    "options(warn=-1)\n",
    "\n",
    "LoadPackages <- function()\n",
    "{library(dbplyr)\n",
    "  library(tidyverse)\n",
    "  library(lubridate)\n",
    "  library(ggplot2)\n",
    "  library(tdplyr)\n",
    "  library(teradatasql)\n",
    "  library(DBI)}\n",
    "\n",
    "suppressPackageStartupMessages(LoadPackages())\n",
    "\n",
    "options(val.install.location = \"val\")"
   ]
  },
  {
   "cell_type": "markdown",
   "id": "e8294e51",
   "metadata": {},
   "source": [
    "### Creamos la conexión con Vantage"
   ]
  },
  {
   "cell_type": "code",
   "execution_count": 3,
   "id": "9613a966",
   "metadata": {},
   "outputs": [],
   "source": [
    "con <- td_create_context(host = \"20.172.147.24\", uid=\"pocuser\", pwd=\"pocuser\", dType = \"native\")\n",
    "td_set_context(con)"
   ]
  },
  {
   "cell_type": "markdown",
   "id": "aea3d4fb",
   "metadata": {},
   "source": [
    "![Slide](images/Diapositiva10.PNG)\n",
    "\n",
    "<font color='red'/>\n",
    "\n",
    "### Creamos el DataFrame y traemos la cabecera"
   ]
  },
  {
   "cell_type": "code",
   "execution_count": 4,
   "id": "f295088b",
   "metadata": {},
   "outputs": [],
   "source": [
    "tdPrecios <- tbl(con, dplyr::sql(\"select id, area, habitaciones, antiguedad_original, \n",
    "CASE WHEN banos is null then 0 else banos end as banos, \n",
    "CASE WHEN garajes is null then 0 else garajes end as garajes, \n",
    "CASE WHEN estrato is null then 0 else estrato end as estrato, SQRT(valor) as rvalor, \n",
    "SAMPLEID as sid FROM DW_DATA.Precio_Casas_Col \n",
    "WHERE area between 20 and 2000 and valor between 50000000 and 5000000000 \n",
    "SAMPLE RANDOMIZED ALLOCATION 0.7, 0.3\"))"
   ]
  },
  {
   "cell_type": "code",
   "execution_count": 5,
   "id": "206ed697-3fe3-4aaf-acc1-eeff9946cec6",
   "metadata": {},
   "outputs": [
    {
     "data": {
      "text/plain": [
       "\u001b[90m# Source:   SQL [6 x 9]\u001b[39m\n",
       "\u001b[90m# Database: Teradata\u001b[39m\n",
       "      id  area habitaciones antiguedad_original banos garajes estrato rvalor\n",
       "   \u001b[3m\u001b[90m<int>\u001b[39m\u001b[23m \u001b[3m\u001b[90m<dbl>\u001b[39m\u001b[23m        \u001b[3m\u001b[90m<int>\u001b[39m\u001b[23m \u001b[3m\u001b[90m<chr>\u001b[39m\u001b[23m               \u001b[3m\u001b[90m<int>\u001b[39m\u001b[23m   \u001b[3m\u001b[90m<int>\u001b[39m\u001b[23m   \u001b[3m\u001b[90m<int>\u001b[39m\u001b[23m  \u001b[3m\u001b[90m<dbl>\u001b[39m\u001b[23m\n",
       "\u001b[90m1\u001b[39m \u001b[4m1\u001b[24m\u001b[4m3\u001b[24m\u001b[4m1\u001b[24m793   115            3 Entre 10 y 20 aÃ±os     3       2       0 \u001b[4m2\u001b[24m\u001b[4m5\u001b[24m100.\n",
       "\u001b[90m2\u001b[39m  \u001b[4m5\u001b[24m\u001b[4m2\u001b[24m917   300            4 Entre 0 y 5 aÃ±os       5       4       6 \u001b[4m4\u001b[24m\u001b[4m3\u001b[24m589.\n",
       "\u001b[90m3\u001b[39m \u001b[4m1\u001b[24m\u001b[4m2\u001b[24m\u001b[4m6\u001b[24m226   119            3 Entre 0 y 5 aÃ±os       4       3       4 \u001b[4m2\u001b[24m\u001b[4m4\u001b[24m900.\n",
       "\u001b[90m4\u001b[39m  \u001b[4m1\u001b[24m\u001b[4m9\u001b[24m046    65            3 Entre 0 y 5 aÃ±os       2       1       3 \u001b[4m1\u001b[24m\u001b[4m6\u001b[24m432.\n",
       "\u001b[90m5\u001b[39m \u001b[4m1\u001b[24m\u001b[4m4\u001b[24m\u001b[4m0\u001b[24m378   124            3 Entre 5 y 10 aÃ±os      3       2       5 \u001b[4m2\u001b[24m\u001b[4m4\u001b[24m860.\n",
       "\u001b[90m6\u001b[39m  \u001b[4m5\u001b[24m\u001b[4m5\u001b[24m935   285            3 Entre 0 y 5 aÃ±os       4       4       6 \u001b[4m6\u001b[24m\u001b[4m4\u001b[24m653.\n",
       "\u001b[90m# i 1 more variable: sid <int>\u001b[39m"
      ]
     },
     "metadata": {},
     "output_type": "display_data"
    }
   ],
   "source": [
    "## Primeros registros\n",
    "head(tdPrecios)"
   ]
  },
  {
   "cell_type": "code",
   "execution_count": 6,
   "id": "33a0f557-d991-4e98-8142-53b8d030076f",
   "metadata": {},
   "outputs": [
    {
     "data": {
      "text/html": [
       "<table class=\"dataframe\">\n",
       "<caption>A data.frame: 6 × 9</caption>\n",
       "<thead>\n",
       "\t<tr><th scope=col>id</th><th scope=col>area</th><th scope=col>habitaciones</th><th scope=col>antiguedad_original</th><th scope=col>banos</th><th scope=col>garajes</th><th scope=col>estrato</th><th scope=col>rvalor</th><th scope=col>sid</th></tr>\n",
       "\t<tr><th scope=col>&lt;int&gt;</th><th scope=col>&lt;dbl&gt;</th><th scope=col>&lt;int&gt;</th><th scope=col>&lt;chr&gt;</th><th scope=col>&lt;int&gt;</th><th scope=col>&lt;int&gt;</th><th scope=col>&lt;int&gt;</th><th scope=col>&lt;dbl&gt;</th><th scope=col>&lt;int&gt;</th></tr>\n",
       "</thead>\n",
       "<tbody>\n",
       "\t<tr><td> 55935</td><td>285</td><td>3</td><td>Entre 0 y 5 aÃ±os  </td><td>4</td><td>4</td><td>6</td><td>64652.92</td><td>2</td></tr>\n",
       "\t<tr><td>  3079</td><td>170</td><td>4</td><td>Entre 5 y 10 aÃ±os </td><td>5</td><td>2</td><td>5</td><td>27477.26</td><td>2</td></tr>\n",
       "\t<tr><td> 61502</td><td> 65</td><td>3</td><td>Entre 0 y 5 aÃ±os  </td><td>2</td><td>1</td><td>3</td><td>17029.39</td><td>1</td></tr>\n",
       "\t<tr><td>131793</td><td>115</td><td>3</td><td>Entre 10 y 20 aÃ±os</td><td>3</td><td>2</td><td>0</td><td>25099.80</td><td>1</td></tr>\n",
       "\t<tr><td> 67069</td><td>135</td><td>3</td><td>Entre 0 y 5 aÃ±os  </td><td>3</td><td>2</td><td>4</td><td>25884.36</td><td>2</td></tr>\n",
       "\t<tr><td>120659</td><td>120</td><td>3</td><td>Entre 10 y 20 aÃ±os</td><td>3</td><td>2</td><td>4</td><td>20493.90</td><td>1</td></tr>\n",
       "</tbody>\n",
       "</table>\n"
      ],
      "text/latex": [
       "A data.frame: 6 × 9\n",
       "\\begin{tabular}{lllllllll}\n",
       " id & area & habitaciones & antiguedad\\_original & banos & garajes & estrato & rvalor & sid\\\\\n",
       " <int> & <dbl> & <int> & <chr> & <int> & <int> & <int> & <dbl> & <int>\\\\\n",
       "\\hline\n",
       "\t  55935 & 285 & 3 & Entre 0 y 5 aÃ±os   & 4 & 4 & 6 & 64652.92 & 2\\\\\n",
       "\t   3079 & 170 & 4 & Entre 5 y 10 aÃ±os  & 5 & 2 & 5 & 27477.26 & 2\\\\\n",
       "\t  61502 &  65 & 3 & Entre 0 y 5 aÃ±os   & 2 & 1 & 3 & 17029.39 & 1\\\\\n",
       "\t 131793 & 115 & 3 & Entre 10 y 20 aÃ±os & 3 & 2 & 0 & 25099.80 & 1\\\\\n",
       "\t  67069 & 135 & 3 & Entre 0 y 5 aÃ±os   & 3 & 2 & 4 & 25884.36 & 2\\\\\n",
       "\t 120659 & 120 & 3 & Entre 10 y 20 aÃ±os & 3 & 2 & 4 & 20493.90 & 1\\\\\n",
       "\\end{tabular}\n"
      ],
      "text/markdown": [
       "\n",
       "A data.frame: 6 × 9\n",
       "\n",
       "| id &lt;int&gt; | area &lt;dbl&gt; | habitaciones &lt;int&gt; | antiguedad_original &lt;chr&gt; | banos &lt;int&gt; | garajes &lt;int&gt; | estrato &lt;int&gt; | rvalor &lt;dbl&gt; | sid &lt;int&gt; |\n",
       "|---|---|---|---|---|---|---|---|---|\n",
       "|  55935 | 285 | 3 | Entre 0 y 5 aÃ±os   | 4 | 4 | 6 | 64652.92 | 2 |\n",
       "|   3079 | 170 | 4 | Entre 5 y 10 aÃ±os  | 5 | 2 | 5 | 27477.26 | 2 |\n",
       "|  61502 |  65 | 3 | Entre 0 y 5 aÃ±os   | 2 | 1 | 3 | 17029.39 | 1 |\n",
       "| 131793 | 115 | 3 | Entre 10 y 20 aÃ±os | 3 | 2 | 0 | 25099.80 | 1 |\n",
       "|  67069 | 135 | 3 | Entre 0 y 5 aÃ±os   | 3 | 2 | 4 | 25884.36 | 2 |\n",
       "| 120659 | 120 | 3 | Entre 10 y 20 aÃ±os | 3 | 2 | 4 | 20493.90 | 1 |\n",
       "\n"
      ],
      "text/plain": [
       "  id     area habitaciones antiguedad_original banos garajes estrato rvalor  \n",
       "1  55935 285  3            Entre 0 y 5 aÃ±os   4     4       6       64652.92\n",
       "2   3079 170  4            Entre 5 y 10 aÃ±os  5     2       5       27477.26\n",
       "3  61502  65  3            Entre 0 y 5 aÃ±os   2     1       3       17029.39\n",
       "4 131793 115  3            Entre 10 y 20 aÃ±os 3     2       0       25099.80\n",
       "5  67069 135  3            Entre 0 y 5 aÃ±os   3     2       4       25884.36\n",
       "6 120659 120  3            Entre 10 y 20 aÃ±os 3     2       4       20493.90\n",
       "  sid\n",
       "1 2  \n",
       "2 2  \n",
       "3 1  \n",
       "4 1  \n",
       "5 2  \n",
       "6 1  "
      ]
     },
     "metadata": {},
     "output_type": "display_data"
    }
   ],
   "source": [
    "## Transformando el resultados anterior a un DataFrame de R\n",
    "as.data.frame(head(tdPrecios))"
   ]
  },
  {
   "cell_type": "markdown",
   "id": "c66fc503",
   "metadata": {},
   "source": [
    "### Tamaño de la tabla"
   ]
  },
  {
   "cell_type": "code",
   "execution_count": 7,
   "id": "6b47f7f8",
   "metadata": {},
   "outputs": [
    {
     "data": {
      "text/plain": [
       "integer64\n",
       "[1] 143970"
      ]
     },
     "metadata": {},
     "output_type": "display_data"
    }
   ],
   "source": [
    "## Cantidad de Registros\n",
    "td_nrow(tdPrecios)"
   ]
  },
  {
   "cell_type": "markdown",
   "id": "802777ef",
   "metadata": {},
   "source": [
    "![Slide](images/Diapositiva6.PNG)\n",
    "\n",
    "## **Explorando las Variables**"
   ]
  },
  {
   "cell_type": "code",
   "execution_count": 8,
   "id": "c554f875-1ef8-40f0-a4e6-2c7e1b6efb9f",
   "metadata": {},
   "outputs": [
    {
     "data": {
      "text/html": [
       "<table class=\"dataframe\">\n",
       "<caption>A data.frame: 5 × 80</caption>\n",
       "<thead>\n",
       "\t<tr><th scope=col>xdb</th><th scope=col>xtbl</th><th scope=col>xcol</th><th scope=col>xcnt</th><th scope=col>xmin</th><th scope=col>xmax</th><th scope=col>xmean</th><th scope=col>xstd</th><th scope=col>xskew</th><th scope=col>xkurt</th><th scope=col>...</th><th scope=col>xmax_5</th><th scope=col>xmax_4</th><th scope=col>xmax_3</th><th scope=col>xmax_2</th><th scope=col>xmax_1</th><th scope=col>xmaxcnt_5</th><th scope=col>xmaxcnt_4</th><th scope=col>xmaxcnt_3</th><th scope=col>xmaxcnt_2</th><th scope=col>xmaxcnt_1</th></tr>\n",
       "\t<tr><th scope=col>&lt;chr&gt;</th><th scope=col>&lt;chr&gt;</th><th scope=col>&lt;chr&gt;</th><th scope=col>&lt;dbl&gt;</th><th scope=col>&lt;dbl&gt;</th><th scope=col>&lt;dbl&gt;</th><th scope=col>&lt;dbl&gt;</th><th scope=col>&lt;dbl&gt;</th><th scope=col>&lt;dbl&gt;</th><th scope=col>&lt;dbl&gt;</th><th scope=col>...</th><th scope=col>&lt;dbl&gt;</th><th scope=col>&lt;dbl&gt;</th><th scope=col>&lt;dbl&gt;</th><th scope=col>&lt;dbl&gt;</th><th scope=col>&lt;dbl&gt;</th><th scope=col>&lt;dbl&gt;</th><th scope=col>&lt;dbl&gt;</th><th scope=col>&lt;dbl&gt;</th><th scope=col>&lt;dbl&gt;</th><th scope=col>&lt;dbl&gt;</th></tr>\n",
       "</thead>\n",
       "<tbody>\n",
       "\t<tr><td>POCUSER</td><td>r__t__td_val_input_1696612304006511</td><td>banos       </td><td>143970</td><td> 0</td><td>  52</td><td>  2.581149</td><td> 1.0345307</td><td> 2.0161540</td><td> 60.7685630</td><td>...</td><td>  21</td><td>  22</td><td>  25</td><td>  46</td><td>  52</td><td>    1</td><td>    1</td><td>    1</td><td>    1</td><td>1</td></tr>\n",
       "\t<tr><td>POCUSER</td><td>r__t__td_val_input_1696612304006511</td><td>area        </td><td>143970</td><td>20</td><td>1998</td><td>114.416036</td><td>73.2648492</td><td> 3.3245616</td><td> 38.5500891</td><td>...</td><td>1955</td><td>1980</td><td>1987</td><td>1993</td><td>1998</td><td>    1</td><td>    1</td><td>    2</td><td>    4</td><td>1</td></tr>\n",
       "\t<tr><td>POCUSER</td><td>r__t__td_val_input_1696612304006511</td><td>estrato     </td><td>143970</td><td> 0</td><td>   7</td><td>  4.545787</td><td> 1.5001162</td><td>-1.2238701</td><td>  1.5395359</td><td>...</td><td>   3</td><td>   4</td><td>   5</td><td>   6</td><td>   7</td><td>18250</td><td>36236</td><td>29866</td><td>49897</td><td>2</td></tr>\n",
       "\t<tr><td>POCUSER</td><td>r__t__td_val_input_1696612304006511</td><td>habitaciones</td><td>143961</td><td> 0</td><td>  86</td><td>  2.605560</td><td> 0.8642404</td><td>11.8873182</td><td>968.5076978</td><td>...</td><td>  30</td><td>  46</td><td>  56</td><td>  66</td><td>  86</td><td>    2</td><td>    1</td><td>    1</td><td>    1</td><td>1</td></tr>\n",
       "\t<tr><td>POCUSER</td><td>r__t__td_val_input_1696612304006511</td><td>garajes     </td><td>143970</td><td> 0</td><td>  10</td><td>  1.580545</td><td> 0.8915045</td><td> 0.4754337</td><td>  0.9466321</td><td>...</td><td>   5</td><td>   6</td><td>   7</td><td>   8</td><td>  10</td><td>   90</td><td>   40</td><td>    1</td><td>    2</td><td>6</td></tr>\n",
       "</tbody>\n",
       "</table>\n"
      ],
      "text/latex": [
       "A data.frame: 5 × 80\n",
       "\\begin{tabular}{lllllllllllllllllllll}\n",
       " xdb & xtbl & xcol & xcnt & xmin & xmax & xmean & xstd & xskew & xkurt & ... & xmax\\_5 & xmax\\_4 & xmax\\_3 & xmax\\_2 & xmax\\_1 & xmaxcnt\\_5 & xmaxcnt\\_4 & xmaxcnt\\_3 & xmaxcnt\\_2 & xmaxcnt\\_1\\\\\n",
       " <chr> & <chr> & <chr> & <dbl> & <dbl> & <dbl> & <dbl> & <dbl> & <dbl> & <dbl> & ... & <dbl> & <dbl> & <dbl> & <dbl> & <dbl> & <dbl> & <dbl> & <dbl> & <dbl> & <dbl>\\\\\n",
       "\\hline\n",
       "\t POCUSER & r\\_\\_t\\_\\_td\\_val\\_input\\_1696612304006511 & banos        & 143970 &  0 &   52 &   2.581149 &  1.0345307 &  2.0161540 &  60.7685630 & ... &   21 &   22 &   25 &   46 &   52 &     1 &     1 &     1 &     1 & 1\\\\\n",
       "\t POCUSER & r\\_\\_t\\_\\_td\\_val\\_input\\_1696612304006511 & area         & 143970 & 20 & 1998 & 114.416036 & 73.2648492 &  3.3245616 &  38.5500891 & ... & 1955 & 1980 & 1987 & 1993 & 1998 &     1 &     1 &     2 &     4 & 1\\\\\n",
       "\t POCUSER & r\\_\\_t\\_\\_td\\_val\\_input\\_1696612304006511 & estrato      & 143970 &  0 &    7 &   4.545787 &  1.5001162 & -1.2238701 &   1.5395359 & ... &    3 &    4 &    5 &    6 &    7 & 18250 & 36236 & 29866 & 49897 & 2\\\\\n",
       "\t POCUSER & r\\_\\_t\\_\\_td\\_val\\_input\\_1696612304006511 & habitaciones & 143961 &  0 &   86 &   2.605560 &  0.8642404 & 11.8873182 & 968.5076978 & ... &   30 &   46 &   56 &   66 &   86 &     2 &     1 &     1 &     1 & 1\\\\\n",
       "\t POCUSER & r\\_\\_t\\_\\_td\\_val\\_input\\_1696612304006511 & garajes      & 143970 &  0 &   10 &   1.580545 &  0.8915045 &  0.4754337 &   0.9466321 & ... &    5 &    6 &    7 &    8 &   10 &    90 &    40 &     1 &     2 & 6\\\\\n",
       "\\end{tabular}\n"
      ],
      "text/markdown": [
       "\n",
       "A data.frame: 5 × 80\n",
       "\n",
       "| xdb &lt;chr&gt; | xtbl &lt;chr&gt; | xcol &lt;chr&gt; | xcnt &lt;dbl&gt; | xmin &lt;dbl&gt; | xmax &lt;dbl&gt; | xmean &lt;dbl&gt; | xstd &lt;dbl&gt; | xskew &lt;dbl&gt; | xkurt &lt;dbl&gt; | ... ... | xmax_5 &lt;dbl&gt; | xmax_4 &lt;dbl&gt; | xmax_3 &lt;dbl&gt; | xmax_2 &lt;dbl&gt; | xmax_1 &lt;dbl&gt; | xmaxcnt_5 &lt;dbl&gt; | xmaxcnt_4 &lt;dbl&gt; | xmaxcnt_3 &lt;dbl&gt; | xmaxcnt_2 &lt;dbl&gt; | xmaxcnt_1 &lt;dbl&gt; |\n",
       "|---|---|---|---|---|---|---|---|---|---|---|---|---|---|---|---|---|---|---|---|---|\n",
       "| POCUSER | r__t__td_val_input_1696612304006511 | banos        | 143970 |  0 |   52 |   2.581149 |  1.0345307 |  2.0161540 |  60.7685630 | ... |   21 |   22 |   25 |   46 |   52 |     1 |     1 |     1 |     1 | 1 |\n",
       "| POCUSER | r__t__td_val_input_1696612304006511 | area         | 143970 | 20 | 1998 | 114.416036 | 73.2648492 |  3.3245616 |  38.5500891 | ... | 1955 | 1980 | 1987 | 1993 | 1998 |     1 |     1 |     2 |     4 | 1 |\n",
       "| POCUSER | r__t__td_val_input_1696612304006511 | estrato      | 143970 |  0 |    7 |   4.545787 |  1.5001162 | -1.2238701 |   1.5395359 | ... |    3 |    4 |    5 |    6 |    7 | 18250 | 36236 | 29866 | 49897 | 2 |\n",
       "| POCUSER | r__t__td_val_input_1696612304006511 | habitaciones | 143961 |  0 |   86 |   2.605560 |  0.8642404 | 11.8873182 | 968.5076978 | ... |   30 |   46 |   56 |   66 |   86 |     2 |     1 |     1 |     1 | 1 |\n",
       "| POCUSER | r__t__td_val_input_1696612304006511 | garajes      | 143970 |  0 |   10 |   1.580545 |  0.8915045 |  0.4754337 |   0.9466321 | ... |    5 |    6 |    7 |    8 |   10 |    90 |    40 |     1 |     2 | 6 |\n",
       "\n"
      ],
      "text/plain": [
       "  xdb     xtbl                                xcol         xcnt   xmin xmax\n",
       "1 POCUSER r__t__td_val_input_1696612304006511 banos        143970  0     52\n",
       "2 POCUSER r__t__td_val_input_1696612304006511 area         143970 20   1998\n",
       "3 POCUSER r__t__td_val_input_1696612304006511 estrato      143970  0      7\n",
       "4 POCUSER r__t__td_val_input_1696612304006511 habitaciones 143961  0     86\n",
       "5 POCUSER r__t__td_val_input_1696612304006511 garajes      143970  0     10\n",
       "  xmean      xstd       xskew      xkurt       ... xmax_5 xmax_4 xmax_3 xmax_2\n",
       "1   2.581149  1.0345307  2.0161540  60.7685630 ...   21     22     25     46  \n",
       "2 114.416036 73.2648492  3.3245616  38.5500891 ... 1955   1980   1987   1993  \n",
       "3   4.545787  1.5001162 -1.2238701   1.5395359 ...    3      4      5      6  \n",
       "4   2.605560  0.8642404 11.8873182 968.5076978 ...   30     46     56     66  \n",
       "5   1.580545  0.8915045  0.4754337   0.9466321 ...    5      6      7      8  \n",
       "  xmax_1 xmaxcnt_5 xmaxcnt_4 xmaxcnt_3 xmaxcnt_2 xmaxcnt_1\n",
       "1   52       1         1         1         1     1        \n",
       "2 1998       1         1         2         4     1        \n",
       "3    7   18250     36236     29866     49897     2        \n",
       "4   86       2         1         1         1     1        \n",
       "5   10      90        40         1         2     6        "
      ]
     },
     "metadata": {},
     "output_type": "display_data"
    }
   ],
   "source": [
    "# Descriptivo de variables numéricas: Nos muestra las estadísticas descriptivas de las variables numéricas en nuestra tabla de datos. \n",
    "stats <- td_statistics_valib(data=tdPrecios,\n",
    "                           columns=c(\"area\",\"habitaciones\",\"banos\",\"garajes\",\"estrato\"),\n",
    "                           stats.options=\"all\",\n",
    "                           extended.options=\"all\")\n",
    "as.data.frame(stats$result)"
   ]
  },
  {
   "cell_type": "code",
   "execution_count": 9,
   "id": "b1ca81c4-6208-49b0-9aae-2259d7980a16",
   "metadata": {},
   "outputs": [
    {
     "data": {
      "text/html": [
       "<table class=\"dataframe\">\n",
       "<caption>A data.frame: 41 × 8</caption>\n",
       "<thead>\n",
       "\t<tr><th scope=col>xdb</th><th scope=col>xtbl</th><th scope=col>xcol</th><th scope=col>xbin</th><th scope=col>xbeg</th><th scope=col>xend</th><th scope=col>xcnt</th><th scope=col>xpct</th></tr>\n",
       "\t<tr><th scope=col>&lt;chr&gt;</th><th scope=col>&lt;chr&gt;</th><th scope=col>&lt;chr&gt;</th><th scope=col>&lt;int&gt;</th><th scope=col>&lt;dbl&gt;</th><th scope=col>&lt;dbl&gt;</th><th scope=col>&lt;dbl&gt;</th><th scope=col>&lt;dbl&gt;</th></tr>\n",
       "</thead>\n",
       "<tbody>\n",
       "\t<tr><td>POCUSER</td><td>r__t__td_val_input_1696612345082662</td><td>area        </td><td> 1</td><td>  20.0</td><td> 217.8</td><td>131799</td><td>9.154616e+01</td></tr>\n",
       "\t<tr><td>POCUSER</td><td>r__t__td_val_input_1696612345082662</td><td>area        </td><td> 2</td><td> 217.8</td><td> 415.6</td><td> 11483</td><td>7.975967e+00</td></tr>\n",
       "\t<tr><td>POCUSER</td><td>r__t__td_val_input_1696612345082662</td><td>area        </td><td> 3</td><td> 415.6</td><td> 613.4</td><td>   598</td><td>4.153643e-01</td></tr>\n",
       "\t<tr><td>POCUSER</td><td>r__t__td_val_input_1696612345082662</td><td>area        </td><td> 4</td><td> 613.4</td><td> 811.2</td><td>    60</td><td>4.167535e-02</td></tr>\n",
       "\t<tr><td>POCUSER</td><td>r__t__td_val_input_1696612345082662</td><td>area        </td><td> 5</td><td> 811.2</td><td>1009.0</td><td>    11</td><td>7.640481e-03</td></tr>\n",
       "\t<tr><td>POCUSER</td><td>r__t__td_val_input_1696612345082662</td><td>area        </td><td> 6</td><td>1009.0</td><td>1206.8</td><td>     7</td><td>4.862124e-03</td></tr>\n",
       "\t<tr><td>POCUSER</td><td>r__t__td_val_input_1696612345082662</td><td>area        </td><td> 7</td><td>1206.8</td><td>1404.6</td><td>     1</td><td>6.945892e-04</td></tr>\n",
       "\t<tr><td>POCUSER</td><td>r__t__td_val_input_1696612345082662</td><td>area        </td><td> 9</td><td>1602.4</td><td>1800.2</td><td>     2</td><td>1.389178e-03</td></tr>\n",
       "\t<tr><td>POCUSER</td><td>r__t__td_val_input_1696612345082662</td><td>area        </td><td>10</td><td>1800.2</td><td>1998.0</td><td>     9</td><td>6.251302e-03</td></tr>\n",
       "\t<tr><td>POCUSER</td><td>r__t__td_val_input_1696612345082662</td><td>banos       </td><td> 1</td><td>   0.0</td><td>   5.2</td><td>143761</td><td>9.985483e+01</td></tr>\n",
       "\t<tr><td>POCUSER</td><td>r__t__td_val_input_1696612345082662</td><td>banos       </td><td> 2</td><td>   5.2</td><td>  10.4</td><td>   204</td><td>1.416962e-01</td></tr>\n",
       "\t<tr><td>POCUSER</td><td>r__t__td_val_input_1696612345082662</td><td>banos       </td><td> 5</td><td>  20.8</td><td>  26.0</td><td>     3</td><td>2.083767e-03</td></tr>\n",
       "\t<tr><td>POCUSER</td><td>r__t__td_val_input_1696612345082662</td><td>banos       </td><td> 9</td><td>  41.6</td><td>  46.8</td><td>     1</td><td>6.945892e-04</td></tr>\n",
       "\t<tr><td>POCUSER</td><td>r__t__td_val_input_1696612345082662</td><td>banos       </td><td>10</td><td>  46.8</td><td>  52.0</td><td>     1</td><td>6.945892e-04</td></tr>\n",
       "\t<tr><td>POCUSER</td><td>r__t__td_val_input_1696612345082662</td><td>estrato     </td><td> 1</td><td>   0.0</td><td>   0.7</td><td>  6633</td><td>4.607210e+00</td></tr>\n",
       "\t<tr><td>POCUSER</td><td>r__t__td_val_input_1696612345082662</td><td>estrato     </td><td> 2</td><td>   0.7</td><td>   1.4</td><td>   135</td><td>9.376954e-02</td></tr>\n",
       "\t<tr><td>POCUSER</td><td>r__t__td_val_input_1696612345082662</td><td>estrato     </td><td> 3</td><td>   1.4</td><td>   2.1</td><td>  2951</td><td>2.049733e+00</td></tr>\n",
       "\t<tr><td>POCUSER</td><td>r__t__td_val_input_1696612345082662</td><td>estrato     </td><td> 5</td><td>   2.8</td><td>   3.5</td><td> 18250</td><td>1.267625e+01</td></tr>\n",
       "\t<tr><td>POCUSER</td><td>r__t__td_val_input_1696612345082662</td><td>estrato     </td><td> 6</td><td>   3.5</td><td>   4.2</td><td> 36236</td><td>2.516913e+01</td></tr>\n",
       "\t<tr><td>POCUSER</td><td>r__t__td_val_input_1696612345082662</td><td>estrato     </td><td> 8</td><td>   4.9</td><td>   5.6</td><td> 29866</td><td>2.074460e+01</td></tr>\n",
       "\t<tr><td>POCUSER</td><td>r__t__td_val_input_1696612345082662</td><td>estrato     </td><td> 9</td><td>   5.6</td><td>   6.3</td><td> 49897</td><td>3.465791e+01</td></tr>\n",
       "\t<tr><td>POCUSER</td><td>r__t__td_val_input_1696612345082662</td><td>estrato     </td><td>10</td><td>   6.3</td><td>   7.0</td><td>     2</td><td>1.389178e-03</td></tr>\n",
       "\t<tr><td>POCUSER</td><td>r__t__td_val_input_1696612345082662</td><td>garajes     </td><td> 1</td><td>   0.0</td><td>   1.0</td><td> 13639</td><td>9.473501e+00</td></tr>\n",
       "\t<tr><td>POCUSER</td><td>r__t__td_val_input_1696612345082662</td><td>garajes     </td><td> 2</td><td>   1.0</td><td>   2.0</td><td> 53773</td><td>3.735014e+01</td></tr>\n",
       "\t<tr><td>POCUSER</td><td>r__t__td_val_input_1696612345082662</td><td>garajes     </td><td> 3</td><td>   2.0</td><td>   3.0</td><td> 60916</td><td>4.231159e+01</td></tr>\n",
       "\t<tr><td>POCUSER</td><td>r__t__td_val_input_1696612345082662</td><td>garajes     </td><td> 4</td><td>   3.0</td><td>   4.0</td><td> 10839</td><td>7.528652e+00</td></tr>\n",
       "\t<tr><td>POCUSER</td><td>r__t__td_val_input_1696612345082662</td><td>garajes     </td><td> 5</td><td>   4.0</td><td>   5.0</td><td>  4664</td><td>3.239564e+00</td></tr>\n",
       "\t<tr><td>POCUSER</td><td>r__t__td_val_input_1696612345082662</td><td>garajes     </td><td> 6</td><td>   5.0</td><td>   6.0</td><td>    90</td><td>6.251302e-02</td></tr>\n",
       "\t<tr><td>POCUSER</td><td>r__t__td_val_input_1696612345082662</td><td>garajes     </td><td> 7</td><td>   6.0</td><td>   7.0</td><td>    40</td><td>2.778357e-02</td></tr>\n",
       "\t<tr><td>POCUSER</td><td>r__t__td_val_input_1696612345082662</td><td>garajes     </td><td> 8</td><td>   7.0</td><td>   8.0</td><td>     1</td><td>6.945892e-04</td></tr>\n",
       "\t<tr><td>POCUSER</td><td>r__t__td_val_input_1696612345082662</td><td>garajes     </td><td> 9</td><td>   8.0</td><td>   9.0</td><td>     2</td><td>1.389178e-03</td></tr>\n",
       "\t<tr><td>POCUSER</td><td>r__t__td_val_input_1696612345082662</td><td>garajes     </td><td>10</td><td>   9.0</td><td>  10.0</td><td>     6</td><td>4.167535e-03</td></tr>\n",
       "\t<tr><td>POCUSER</td><td>r__t__td_val_input_1696612345082662</td><td>habitaciones</td><td> 1</td><td>   0.0</td><td>   8.6</td><td>143949</td><td>9.998541e+01</td></tr>\n",
       "\t<tr><td>POCUSER</td><td>r__t__td_val_input_1696612345082662</td><td>habitaciones</td><td> 2</td><td>   8.6</td><td>  17.2</td><td>     4</td><td>2.778357e-03</td></tr>\n",
       "\t<tr><td>POCUSER</td><td>r__t__td_val_input_1696612345082662</td><td>habitaciones</td><td> 3</td><td>  17.2</td><td>  25.8</td><td>     1</td><td>6.945892e-04</td></tr>\n",
       "\t<tr><td>POCUSER</td><td>r__t__td_val_input_1696612345082662</td><td>habitaciones</td><td> 4</td><td>  25.8</td><td>  34.4</td><td>     3</td><td>2.083767e-03</td></tr>\n",
       "\t<tr><td>POCUSER</td><td>r__t__td_val_input_1696612345082662</td><td>habitaciones</td><td> 6</td><td>  43.0</td><td>  51.6</td><td>     1</td><td>6.945892e-04</td></tr>\n",
       "\t<tr><td>POCUSER</td><td>r__t__td_val_input_1696612345082662</td><td>habitaciones</td><td> 7</td><td>  51.6</td><td>  60.2</td><td>     1</td><td>6.945892e-04</td></tr>\n",
       "\t<tr><td>POCUSER</td><td>r__t__td_val_input_1696612345082662</td><td>habitaciones</td><td> 8</td><td>  60.2</td><td>  68.8</td><td>     1</td><td>6.945892e-04</td></tr>\n",
       "\t<tr><td>POCUSER</td><td>r__t__td_val_input_1696612345082662</td><td>habitaciones</td><td>10</td><td>  77.4</td><td>  86.0</td><td>     1</td><td>6.945892e-04</td></tr>\n",
       "\t<tr><td>POCUSER</td><td>r__t__td_val_input_1696612345082662</td><td>habitaciones</td><td>NA</td><td>    NA</td><td>    NA</td><td>     9</td><td>6.251302e-03</td></tr>\n",
       "</tbody>\n",
       "</table>\n"
      ],
      "text/latex": [
       "A data.frame: 41 × 8\n",
       "\\begin{tabular}{llllllll}\n",
       " xdb & xtbl & xcol & xbin & xbeg & xend & xcnt & xpct\\\\\n",
       " <chr> & <chr> & <chr> & <int> & <dbl> & <dbl> & <dbl> & <dbl>\\\\\n",
       "\\hline\n",
       "\t POCUSER & r\\_\\_t\\_\\_td\\_val\\_input\\_1696612345082662 & area         &  1 &   20.0 &  217.8 & 131799 & 9.154616e+01\\\\\n",
       "\t POCUSER & r\\_\\_t\\_\\_td\\_val\\_input\\_1696612345082662 & area         &  2 &  217.8 &  415.6 &  11483 & 7.975967e+00\\\\\n",
       "\t POCUSER & r\\_\\_t\\_\\_td\\_val\\_input\\_1696612345082662 & area         &  3 &  415.6 &  613.4 &    598 & 4.153643e-01\\\\\n",
       "\t POCUSER & r\\_\\_t\\_\\_td\\_val\\_input\\_1696612345082662 & area         &  4 &  613.4 &  811.2 &     60 & 4.167535e-02\\\\\n",
       "\t POCUSER & r\\_\\_t\\_\\_td\\_val\\_input\\_1696612345082662 & area         &  5 &  811.2 & 1009.0 &     11 & 7.640481e-03\\\\\n",
       "\t POCUSER & r\\_\\_t\\_\\_td\\_val\\_input\\_1696612345082662 & area         &  6 & 1009.0 & 1206.8 &      7 & 4.862124e-03\\\\\n",
       "\t POCUSER & r\\_\\_t\\_\\_td\\_val\\_input\\_1696612345082662 & area         &  7 & 1206.8 & 1404.6 &      1 & 6.945892e-04\\\\\n",
       "\t POCUSER & r\\_\\_t\\_\\_td\\_val\\_input\\_1696612345082662 & area         &  9 & 1602.4 & 1800.2 &      2 & 1.389178e-03\\\\\n",
       "\t POCUSER & r\\_\\_t\\_\\_td\\_val\\_input\\_1696612345082662 & area         & 10 & 1800.2 & 1998.0 &      9 & 6.251302e-03\\\\\n",
       "\t POCUSER & r\\_\\_t\\_\\_td\\_val\\_input\\_1696612345082662 & banos        &  1 &    0.0 &    5.2 & 143761 & 9.985483e+01\\\\\n",
       "\t POCUSER & r\\_\\_t\\_\\_td\\_val\\_input\\_1696612345082662 & banos        &  2 &    5.2 &   10.4 &    204 & 1.416962e-01\\\\\n",
       "\t POCUSER & r\\_\\_t\\_\\_td\\_val\\_input\\_1696612345082662 & banos        &  5 &   20.8 &   26.0 &      3 & 2.083767e-03\\\\\n",
       "\t POCUSER & r\\_\\_t\\_\\_td\\_val\\_input\\_1696612345082662 & banos        &  9 &   41.6 &   46.8 &      1 & 6.945892e-04\\\\\n",
       "\t POCUSER & r\\_\\_t\\_\\_td\\_val\\_input\\_1696612345082662 & banos        & 10 &   46.8 &   52.0 &      1 & 6.945892e-04\\\\\n",
       "\t POCUSER & r\\_\\_t\\_\\_td\\_val\\_input\\_1696612345082662 & estrato      &  1 &    0.0 &    0.7 &   6633 & 4.607210e+00\\\\\n",
       "\t POCUSER & r\\_\\_t\\_\\_td\\_val\\_input\\_1696612345082662 & estrato      &  2 &    0.7 &    1.4 &    135 & 9.376954e-02\\\\\n",
       "\t POCUSER & r\\_\\_t\\_\\_td\\_val\\_input\\_1696612345082662 & estrato      &  3 &    1.4 &    2.1 &   2951 & 2.049733e+00\\\\\n",
       "\t POCUSER & r\\_\\_t\\_\\_td\\_val\\_input\\_1696612345082662 & estrato      &  5 &    2.8 &    3.5 &  18250 & 1.267625e+01\\\\\n",
       "\t POCUSER & r\\_\\_t\\_\\_td\\_val\\_input\\_1696612345082662 & estrato      &  6 &    3.5 &    4.2 &  36236 & 2.516913e+01\\\\\n",
       "\t POCUSER & r\\_\\_t\\_\\_td\\_val\\_input\\_1696612345082662 & estrato      &  8 &    4.9 &    5.6 &  29866 & 2.074460e+01\\\\\n",
       "\t POCUSER & r\\_\\_t\\_\\_td\\_val\\_input\\_1696612345082662 & estrato      &  9 &    5.6 &    6.3 &  49897 & 3.465791e+01\\\\\n",
       "\t POCUSER & r\\_\\_t\\_\\_td\\_val\\_input\\_1696612345082662 & estrato      & 10 &    6.3 &    7.0 &      2 & 1.389178e-03\\\\\n",
       "\t POCUSER & r\\_\\_t\\_\\_td\\_val\\_input\\_1696612345082662 & garajes      &  1 &    0.0 &    1.0 &  13639 & 9.473501e+00\\\\\n",
       "\t POCUSER & r\\_\\_t\\_\\_td\\_val\\_input\\_1696612345082662 & garajes      &  2 &    1.0 &    2.0 &  53773 & 3.735014e+01\\\\\n",
       "\t POCUSER & r\\_\\_t\\_\\_td\\_val\\_input\\_1696612345082662 & garajes      &  3 &    2.0 &    3.0 &  60916 & 4.231159e+01\\\\\n",
       "\t POCUSER & r\\_\\_t\\_\\_td\\_val\\_input\\_1696612345082662 & garajes      &  4 &    3.0 &    4.0 &  10839 & 7.528652e+00\\\\\n",
       "\t POCUSER & r\\_\\_t\\_\\_td\\_val\\_input\\_1696612345082662 & garajes      &  5 &    4.0 &    5.0 &   4664 & 3.239564e+00\\\\\n",
       "\t POCUSER & r\\_\\_t\\_\\_td\\_val\\_input\\_1696612345082662 & garajes      &  6 &    5.0 &    6.0 &     90 & 6.251302e-02\\\\\n",
       "\t POCUSER & r\\_\\_t\\_\\_td\\_val\\_input\\_1696612345082662 & garajes      &  7 &    6.0 &    7.0 &     40 & 2.778357e-02\\\\\n",
       "\t POCUSER & r\\_\\_t\\_\\_td\\_val\\_input\\_1696612345082662 & garajes      &  8 &    7.0 &    8.0 &      1 & 6.945892e-04\\\\\n",
       "\t POCUSER & r\\_\\_t\\_\\_td\\_val\\_input\\_1696612345082662 & garajes      &  9 &    8.0 &    9.0 &      2 & 1.389178e-03\\\\\n",
       "\t POCUSER & r\\_\\_t\\_\\_td\\_val\\_input\\_1696612345082662 & garajes      & 10 &    9.0 &   10.0 &      6 & 4.167535e-03\\\\\n",
       "\t POCUSER & r\\_\\_t\\_\\_td\\_val\\_input\\_1696612345082662 & habitaciones &  1 &    0.0 &    8.6 & 143949 & 9.998541e+01\\\\\n",
       "\t POCUSER & r\\_\\_t\\_\\_td\\_val\\_input\\_1696612345082662 & habitaciones &  2 &    8.6 &   17.2 &      4 & 2.778357e-03\\\\\n",
       "\t POCUSER & r\\_\\_t\\_\\_td\\_val\\_input\\_1696612345082662 & habitaciones &  3 &   17.2 &   25.8 &      1 & 6.945892e-04\\\\\n",
       "\t POCUSER & r\\_\\_t\\_\\_td\\_val\\_input\\_1696612345082662 & habitaciones &  4 &   25.8 &   34.4 &      3 & 2.083767e-03\\\\\n",
       "\t POCUSER & r\\_\\_t\\_\\_td\\_val\\_input\\_1696612345082662 & habitaciones &  6 &   43.0 &   51.6 &      1 & 6.945892e-04\\\\\n",
       "\t POCUSER & r\\_\\_t\\_\\_td\\_val\\_input\\_1696612345082662 & habitaciones &  7 &   51.6 &   60.2 &      1 & 6.945892e-04\\\\\n",
       "\t POCUSER & r\\_\\_t\\_\\_td\\_val\\_input\\_1696612345082662 & habitaciones &  8 &   60.2 &   68.8 &      1 & 6.945892e-04\\\\\n",
       "\t POCUSER & r\\_\\_t\\_\\_td\\_val\\_input\\_1696612345082662 & habitaciones & 10 &   77.4 &   86.0 &      1 & 6.945892e-04\\\\\n",
       "\t POCUSER & r\\_\\_t\\_\\_td\\_val\\_input\\_1696612345082662 & habitaciones & NA &     NA &     NA &      9 & 6.251302e-03\\\\\n",
       "\\end{tabular}\n"
      ],
      "text/markdown": [
       "\n",
       "A data.frame: 41 × 8\n",
       "\n",
       "| xdb &lt;chr&gt; | xtbl &lt;chr&gt; | xcol &lt;chr&gt; | xbin &lt;int&gt; | xbeg &lt;dbl&gt; | xend &lt;dbl&gt; | xcnt &lt;dbl&gt; | xpct &lt;dbl&gt; |\n",
       "|---|---|---|---|---|---|---|---|\n",
       "| POCUSER | r__t__td_val_input_1696612345082662 | area         |  1 |   20.0 |  217.8 | 131799 | 9.154616e+01 |\n",
       "| POCUSER | r__t__td_val_input_1696612345082662 | area         |  2 |  217.8 |  415.6 |  11483 | 7.975967e+00 |\n",
       "| POCUSER | r__t__td_val_input_1696612345082662 | area         |  3 |  415.6 |  613.4 |    598 | 4.153643e-01 |\n",
       "| POCUSER | r__t__td_val_input_1696612345082662 | area         |  4 |  613.4 |  811.2 |     60 | 4.167535e-02 |\n",
       "| POCUSER | r__t__td_val_input_1696612345082662 | area         |  5 |  811.2 | 1009.0 |     11 | 7.640481e-03 |\n",
       "| POCUSER | r__t__td_val_input_1696612345082662 | area         |  6 | 1009.0 | 1206.8 |      7 | 4.862124e-03 |\n",
       "| POCUSER | r__t__td_val_input_1696612345082662 | area         |  7 | 1206.8 | 1404.6 |      1 | 6.945892e-04 |\n",
       "| POCUSER | r__t__td_val_input_1696612345082662 | area         |  9 | 1602.4 | 1800.2 |      2 | 1.389178e-03 |\n",
       "| POCUSER | r__t__td_val_input_1696612345082662 | area         | 10 | 1800.2 | 1998.0 |      9 | 6.251302e-03 |\n",
       "| POCUSER | r__t__td_val_input_1696612345082662 | banos        |  1 |    0.0 |    5.2 | 143761 | 9.985483e+01 |\n",
       "| POCUSER | r__t__td_val_input_1696612345082662 | banos        |  2 |    5.2 |   10.4 |    204 | 1.416962e-01 |\n",
       "| POCUSER | r__t__td_val_input_1696612345082662 | banos        |  5 |   20.8 |   26.0 |      3 | 2.083767e-03 |\n",
       "| POCUSER | r__t__td_val_input_1696612345082662 | banos        |  9 |   41.6 |   46.8 |      1 | 6.945892e-04 |\n",
       "| POCUSER | r__t__td_val_input_1696612345082662 | banos        | 10 |   46.8 |   52.0 |      1 | 6.945892e-04 |\n",
       "| POCUSER | r__t__td_val_input_1696612345082662 | estrato      |  1 |    0.0 |    0.7 |   6633 | 4.607210e+00 |\n",
       "| POCUSER | r__t__td_val_input_1696612345082662 | estrato      |  2 |    0.7 |    1.4 |    135 | 9.376954e-02 |\n",
       "| POCUSER | r__t__td_val_input_1696612345082662 | estrato      |  3 |    1.4 |    2.1 |   2951 | 2.049733e+00 |\n",
       "| POCUSER | r__t__td_val_input_1696612345082662 | estrato      |  5 |    2.8 |    3.5 |  18250 | 1.267625e+01 |\n",
       "| POCUSER | r__t__td_val_input_1696612345082662 | estrato      |  6 |    3.5 |    4.2 |  36236 | 2.516913e+01 |\n",
       "| POCUSER | r__t__td_val_input_1696612345082662 | estrato      |  8 |    4.9 |    5.6 |  29866 | 2.074460e+01 |\n",
       "| POCUSER | r__t__td_val_input_1696612345082662 | estrato      |  9 |    5.6 |    6.3 |  49897 | 3.465791e+01 |\n",
       "| POCUSER | r__t__td_val_input_1696612345082662 | estrato      | 10 |    6.3 |    7.0 |      2 | 1.389178e-03 |\n",
       "| POCUSER | r__t__td_val_input_1696612345082662 | garajes      |  1 |    0.0 |    1.0 |  13639 | 9.473501e+00 |\n",
       "| POCUSER | r__t__td_val_input_1696612345082662 | garajes      |  2 |    1.0 |    2.0 |  53773 | 3.735014e+01 |\n",
       "| POCUSER | r__t__td_val_input_1696612345082662 | garajes      |  3 |    2.0 |    3.0 |  60916 | 4.231159e+01 |\n",
       "| POCUSER | r__t__td_val_input_1696612345082662 | garajes      |  4 |    3.0 |    4.0 |  10839 | 7.528652e+00 |\n",
       "| POCUSER | r__t__td_val_input_1696612345082662 | garajes      |  5 |    4.0 |    5.0 |   4664 | 3.239564e+00 |\n",
       "| POCUSER | r__t__td_val_input_1696612345082662 | garajes      |  6 |    5.0 |    6.0 |     90 | 6.251302e-02 |\n",
       "| POCUSER | r__t__td_val_input_1696612345082662 | garajes      |  7 |    6.0 |    7.0 |     40 | 2.778357e-02 |\n",
       "| POCUSER | r__t__td_val_input_1696612345082662 | garajes      |  8 |    7.0 |    8.0 |      1 | 6.945892e-04 |\n",
       "| POCUSER | r__t__td_val_input_1696612345082662 | garajes      |  9 |    8.0 |    9.0 |      2 | 1.389178e-03 |\n",
       "| POCUSER | r__t__td_val_input_1696612345082662 | garajes      | 10 |    9.0 |   10.0 |      6 | 4.167535e-03 |\n",
       "| POCUSER | r__t__td_val_input_1696612345082662 | habitaciones |  1 |    0.0 |    8.6 | 143949 | 9.998541e+01 |\n",
       "| POCUSER | r__t__td_val_input_1696612345082662 | habitaciones |  2 |    8.6 |   17.2 |      4 | 2.778357e-03 |\n",
       "| POCUSER | r__t__td_val_input_1696612345082662 | habitaciones |  3 |   17.2 |   25.8 |      1 | 6.945892e-04 |\n",
       "| POCUSER | r__t__td_val_input_1696612345082662 | habitaciones |  4 |   25.8 |   34.4 |      3 | 2.083767e-03 |\n",
       "| POCUSER | r__t__td_val_input_1696612345082662 | habitaciones |  6 |   43.0 |   51.6 |      1 | 6.945892e-04 |\n",
       "| POCUSER | r__t__td_val_input_1696612345082662 | habitaciones |  7 |   51.6 |   60.2 |      1 | 6.945892e-04 |\n",
       "| POCUSER | r__t__td_val_input_1696612345082662 | habitaciones |  8 |   60.2 |   68.8 |      1 | 6.945892e-04 |\n",
       "| POCUSER | r__t__td_val_input_1696612345082662 | habitaciones | 10 |   77.4 |   86.0 |      1 | 6.945892e-04 |\n",
       "| POCUSER | r__t__td_val_input_1696612345082662 | habitaciones | NA |     NA |     NA |      9 | 6.251302e-03 |\n",
       "\n"
      ],
      "text/plain": [
       "   xdb     xtbl                                xcol         xbin xbeg   xend  \n",
       "1  POCUSER r__t__td_val_input_1696612345082662 area          1     20.0  217.8\n",
       "2  POCUSER r__t__td_val_input_1696612345082662 area          2    217.8  415.6\n",
       "3  POCUSER r__t__td_val_input_1696612345082662 area          3    415.6  613.4\n",
       "4  POCUSER r__t__td_val_input_1696612345082662 area          4    613.4  811.2\n",
       "5  POCUSER r__t__td_val_input_1696612345082662 area          5    811.2 1009.0\n",
       "6  POCUSER r__t__td_val_input_1696612345082662 area          6   1009.0 1206.8\n",
       "7  POCUSER r__t__td_val_input_1696612345082662 area          7   1206.8 1404.6\n",
       "8  POCUSER r__t__td_val_input_1696612345082662 area          9   1602.4 1800.2\n",
       "9  POCUSER r__t__td_val_input_1696612345082662 area         10   1800.2 1998.0\n",
       "10 POCUSER r__t__td_val_input_1696612345082662 banos         1      0.0    5.2\n",
       "11 POCUSER r__t__td_val_input_1696612345082662 banos         2      5.2   10.4\n",
       "12 POCUSER r__t__td_val_input_1696612345082662 banos         5     20.8   26.0\n",
       "13 POCUSER r__t__td_val_input_1696612345082662 banos         9     41.6   46.8\n",
       "14 POCUSER r__t__td_val_input_1696612345082662 banos        10     46.8   52.0\n",
       "15 POCUSER r__t__td_val_input_1696612345082662 estrato       1      0.0    0.7\n",
       "16 POCUSER r__t__td_val_input_1696612345082662 estrato       2      0.7    1.4\n",
       "17 POCUSER r__t__td_val_input_1696612345082662 estrato       3      1.4    2.1\n",
       "18 POCUSER r__t__td_val_input_1696612345082662 estrato       5      2.8    3.5\n",
       "19 POCUSER r__t__td_val_input_1696612345082662 estrato       6      3.5    4.2\n",
       "20 POCUSER r__t__td_val_input_1696612345082662 estrato       8      4.9    5.6\n",
       "21 POCUSER r__t__td_val_input_1696612345082662 estrato       9      5.6    6.3\n",
       "22 POCUSER r__t__td_val_input_1696612345082662 estrato      10      6.3    7.0\n",
       "23 POCUSER r__t__td_val_input_1696612345082662 garajes       1      0.0    1.0\n",
       "24 POCUSER r__t__td_val_input_1696612345082662 garajes       2      1.0    2.0\n",
       "25 POCUSER r__t__td_val_input_1696612345082662 garajes       3      2.0    3.0\n",
       "26 POCUSER r__t__td_val_input_1696612345082662 garajes       4      3.0    4.0\n",
       "27 POCUSER r__t__td_val_input_1696612345082662 garajes       5      4.0    5.0\n",
       "28 POCUSER r__t__td_val_input_1696612345082662 garajes       6      5.0    6.0\n",
       "29 POCUSER r__t__td_val_input_1696612345082662 garajes       7      6.0    7.0\n",
       "30 POCUSER r__t__td_val_input_1696612345082662 garajes       8      7.0    8.0\n",
       "31 POCUSER r__t__td_val_input_1696612345082662 garajes       9      8.0    9.0\n",
       "32 POCUSER r__t__td_val_input_1696612345082662 garajes      10      9.0   10.0\n",
       "33 POCUSER r__t__td_val_input_1696612345082662 habitaciones  1      0.0    8.6\n",
       "34 POCUSER r__t__td_val_input_1696612345082662 habitaciones  2      8.6   17.2\n",
       "35 POCUSER r__t__td_val_input_1696612345082662 habitaciones  3     17.2   25.8\n",
       "36 POCUSER r__t__td_val_input_1696612345082662 habitaciones  4     25.8   34.4\n",
       "37 POCUSER r__t__td_val_input_1696612345082662 habitaciones  6     43.0   51.6\n",
       "38 POCUSER r__t__td_val_input_1696612345082662 habitaciones  7     51.6   60.2\n",
       "39 POCUSER r__t__td_val_input_1696612345082662 habitaciones  8     60.2   68.8\n",
       "40 POCUSER r__t__td_val_input_1696612345082662 habitaciones 10     77.4   86.0\n",
       "41 POCUSER r__t__td_val_input_1696612345082662 habitaciones NA       NA     NA\n",
       "   xcnt   xpct        \n",
       "1  131799 9.154616e+01\n",
       "2   11483 7.975967e+00\n",
       "3     598 4.153643e-01\n",
       "4      60 4.167535e-02\n",
       "5      11 7.640481e-03\n",
       "6       7 4.862124e-03\n",
       "7       1 6.945892e-04\n",
       "8       2 1.389178e-03\n",
       "9       9 6.251302e-03\n",
       "10 143761 9.985483e+01\n",
       "11    204 1.416962e-01\n",
       "12      3 2.083767e-03\n",
       "13      1 6.945892e-04\n",
       "14      1 6.945892e-04\n",
       "15   6633 4.607210e+00\n",
       "16    135 9.376954e-02\n",
       "17   2951 2.049733e+00\n",
       "18  18250 1.267625e+01\n",
       "19  36236 2.516913e+01\n",
       "20  29866 2.074460e+01\n",
       "21  49897 3.465791e+01\n",
       "22      2 1.389178e-03\n",
       "23  13639 9.473501e+00\n",
       "24  53773 3.735014e+01\n",
       "25  60916 4.231159e+01\n",
       "26  10839 7.528652e+00\n",
       "27   4664 3.239564e+00\n",
       "28     90 6.251302e-02\n",
       "29     40 2.778357e-02\n",
       "30      1 6.945892e-04\n",
       "31      2 1.389178e-03\n",
       "32      6 4.167535e-03\n",
       "33 143949 9.998541e+01\n",
       "34      4 2.778357e-03\n",
       "35      1 6.945892e-04\n",
       "36      3 2.083767e-03\n",
       "37      1 6.945892e-04\n",
       "38      1 6.945892e-04\n",
       "39      1 6.945892e-04\n",
       "40      1 6.945892e-04\n",
       "41      9 6.251302e-03"
      ]
     },
     "metadata": {},
     "output_type": "display_data"
    }
   ],
   "source": [
    "# Histogramas: Nos muestra los descriptivos resultantes de agrupar en intervalos las variables numéricas de nuestra tabla de datos.\n",
    "hist <- td_histogram_valib(data=tdPrecios, columns=c(\"area\",\"habitaciones\",\"banos\",\"garajes\",\"estrato\"))\n",
    "arrange(as.data.frame(hist$result),xcol,xbin)"
   ]
  },
  {
   "cell_type": "markdown",
   "id": "1ec12eb2",
   "metadata": {},
   "source": [
    "### Distribución de Frecuencias por la Antiguedad"
   ]
  },
  {
   "cell_type": "code",
   "execution_count": 10,
   "id": "b8983bd2",
   "metadata": {},
   "outputs": [
    {
     "data": {
      "text/plain": [
       "$result\n",
       "\u001b[90m# Source:   table<\"POCUSER\".\"r__t__valib_td_frequency_valib1696612368053193\"> [10 x 5]\u001b[39m\n",
       "\u001b[90m# Database: Teradata\u001b[39m\n",
       "   xtbl                                xcol                xval       xcnt  xpct\n",
       "   \u001b[3m\u001b[90m<chr>\u001b[39m\u001b[23m                               \u001b[3m\u001b[90m<chr>\u001b[39m\u001b[23m               \u001b[3m\u001b[90m<chr>\u001b[39m\u001b[23m     \u001b[3m\u001b[90m<dbl>\u001b[39m\u001b[23m \u001b[3m\u001b[90m<dbl>\u001b[39m\u001b[23m\n",
       "\u001b[90m 1\u001b[39m r__t__td_val_input_1696612367932996 antiguedad_original MÃ¡s de ~  \u001b[4m2\u001b[24m463  1.71\n",
       "\u001b[90m 2\u001b[39m r__t__td_val_input_1696612367932996 antiguedad_original 1 a 8 aÃ~ \u001b[4m1\u001b[24m\u001b[4m0\u001b[24m550  7.33\n",
       "\u001b[90m 3\u001b[39m r__t__td_val_input_1696612367932996 antiguedad_original Remodela~  \u001b[4m2\u001b[24m179  1.51\n",
       "\u001b[90m 4\u001b[39m r__t__td_val_input_1696612367932996 antiguedad_original Menos de~  \u001b[4m2\u001b[24m220  1.54\n",
       "\u001b[90m 5\u001b[39m r__t__td_val_input_1696612367932996 antiguedad_original Entre 0 ~ \u001b[4m3\u001b[24m\u001b[4m4\u001b[24m351 23.9 \n",
       "\u001b[90m 6\u001b[39m r__t__td_val_input_1696612367932996 antiguedad_original 16 a 30 ~  \u001b[4m8\u001b[24m828  6.13\n",
       "\u001b[90m 7\u001b[39m r__t__td_val_input_1696612367932996 antiguedad_original Entre 10~ \u001b[4m3\u001b[24m\u001b[4m8\u001b[24m429 26.7 \n",
       "\u001b[90m 8\u001b[39m r__t__td_val_input_1696612367932996 antiguedad_original Entre 5 ~ \u001b[4m2\u001b[24m\u001b[4m4\u001b[24m503 17.0 \n",
       "\u001b[90m 9\u001b[39m r__t__td_val_input_1696612367932996 antiguedad_original MÃ¡s de ~ \u001b[4m1\u001b[24m\u001b[4m3\u001b[24m465  9.35\n",
       "\u001b[90m10\u001b[39m r__t__td_val_input_1696612367932996 antiguedad_original 9 a 15 a~  \u001b[4m6\u001b[24m982  4.85\n"
      ]
     },
     "metadata": {},
     "output_type": "display_data"
    }
   ],
   "source": [
    "tdf <- td_frequency_valib(data=tdPrecios, columns=\"antiguedad_original\")\n",
    "head(tdf)"
   ]
  },
  {
   "cell_type": "code",
   "execution_count": 11,
   "id": "1dd2df45-7b54-4041-b561-67168a633ff7",
   "metadata": {},
   "outputs": [],
   "source": [
    "## Convirtiendo el resultado en un DataFrame de R para poder realizar un gráfico\n",
    "df <- as.data.frame(tdf$result)[c('xval','xcnt')]"
   ]
  },
  {
   "cell_type": "code",
   "execution_count": 12,
   "id": "6e340636-f5ba-4d1a-8ecb-22353786db44",
   "metadata": {},
   "outputs": [
    {
     "data": {
      "image/png": "[encoded data removed]",
      "text/plain": [
       "Plot with title \"Frecuencia por Antiguedad\""
      ]
     },
     "metadata": {
      "image/png": {
       "height": 420,
       "width": 420
      }
     },
     "output_type": "display_data"
    }
   ],
   "source": [
    "## Gráfica de Frecuencias\n",
    "barplot(height = df$xcnt, names = df$xval, main = \"Frecuencia por Antiguedad\", col = rainbow(10))"
   ]
  },
  {
   "cell_type": "markdown",
   "id": "dfd39857",
   "metadata": {},
   "source": [
    "### Matriz de Correlaciones para las variables numéricas"
   ]
  },
  {
   "cell_type": "code",
   "execution_count": 13,
   "id": "e0c0fe23",
   "metadata": {},
   "outputs": [
    {
     "data": {
      "text/plain": [
       "\u001b[90m# Source:     SQL [6 x 8]\u001b[39m\n",
       "\u001b[90m# Database:   Teradata\u001b[39m\n",
       "\u001b[90m# Ordered by: rownum\u001b[39m\n",
       "  rownum rowname       area habitaciones banos garajes  estrato rvalor\n",
       "   \u001b[3m\u001b[90m<int>\u001b[39m\u001b[23m \u001b[3m\u001b[90m<chr>\u001b[39m\u001b[23m        \u001b[3m\u001b[90m<dbl>\u001b[39m\u001b[23m        \u001b[3m\u001b[90m<dbl>\u001b[39m\u001b[23m \u001b[3m\u001b[90m<dbl>\u001b[39m\u001b[23m   \u001b[3m\u001b[90m<dbl>\u001b[39m\u001b[23m    \u001b[3m\u001b[90m<dbl>\u001b[39m\u001b[23m  \u001b[3m\u001b[90m<dbl>\u001b[39m\u001b[23m\n",
       "\u001b[90m1\u001b[39m      1 area         1          0.449   0.707   0.637  0.391    0.849\n",
       "\u001b[90m2\u001b[39m      2 habitaciones 0.449      1       0.475   0.242 -\u001b[31m0\u001b[39m\u001b[31m.\u001b[39m\u001b[31m00\u001b[39m\u001b[31m2\u001b[4m7\u001b[24m\u001b[4m4\u001b[24m\u001b[39m  0.291\n",
       "\u001b[90m3\u001b[39m      3 banos        0.707      0.475   1       0.633  0.395    0.718\n",
       "\u001b[90m4\u001b[39m      4 garajes      0.637      0.242   0.633   1      0.472    0.737\n",
       "\u001b[90m5\u001b[39m      5 estrato      0.391     -\u001b[31m0\u001b[39m\u001b[31m.\u001b[39m\u001b[31m00\u001b[39m\u001b[31m2\u001b[4m7\u001b[24m\u001b[4m4\u001b[24m\u001b[39m 0.395   0.472  1        0.522\n",
       "\u001b[90m6\u001b[39m      6 rvalor       0.849      0.291   0.718   0.737  0.522    1    "
      ]
     },
     "metadata": {},
     "output_type": "display_data"
    }
   ],
   "source": [
    "obj <- td_matrix_valib(data=tdPrecios, columns=\"allnumeric\", exclude.columns = c(\"id\", \"sid\"), type=\"COR\")\n",
    "obj$result %>% arrange(rownum)"
   ]
  },
  {
   "cell_type": "code",
   "execution_count": 14,
   "id": "09e57f72-1ff5-4707-9a80-dab51c6c9c09",
   "metadata": {},
   "outputs": [
    {
     "data": {
      "text/html": [
       "<table class=\"dataframe\">\n",
       "<caption>A matrix: 6 × 6 of type dbl</caption>\n",
       "<thead>\n",
       "\t<tr><th></th><th scope=col>area</th><th scope=col>habitaciones</th><th scope=col>banos</th><th scope=col>garajes</th><th scope=col>estrato</th><th scope=col>rvalor</th></tr>\n",
       "</thead>\n",
       "<tbody>\n",
       "\t<tr><th scope=row>1</th><td>1.0000000</td><td> 0.448921174</td><td>0.7070129</td><td>0.6365838</td><td> 0.391479335</td><td>0.8492533</td></tr>\n",
       "\t<tr><th scope=row>2</th><td>0.4489212</td><td> 1.000000000</td><td>0.4746244</td><td>0.2422131</td><td>-0.002738513</td><td>0.2906694</td></tr>\n",
       "\t<tr><th scope=row>3</th><td>0.7070129</td><td> 0.474624412</td><td>1.0000000</td><td>0.6326841</td><td> 0.395472014</td><td>0.7179217</td></tr>\n",
       "\t<tr><th scope=row>4</th><td>0.6365838</td><td> 0.242213082</td><td>0.6326841</td><td>1.0000000</td><td> 0.471567812</td><td>0.7369509</td></tr>\n",
       "\t<tr><th scope=row>5</th><td>0.3914793</td><td>-0.002738513</td><td>0.3954720</td><td>0.4715678</td><td> 1.000000000</td><td>0.5220129</td></tr>\n",
       "\t<tr><th scope=row>6</th><td>0.8492533</td><td> 0.290669387</td><td>0.7179217</td><td>0.7369509</td><td> 0.522012880</td><td>1.0000000</td></tr>\n",
       "</tbody>\n",
       "</table>\n"
      ],
      "text/latex": [
       "A matrix: 6 × 6 of type dbl\n",
       "\\begin{tabular}{r|llllll}\n",
       "  & area & habitaciones & banos & garajes & estrato & rvalor\\\\\n",
       "\\hline\n",
       "\t1 & 1.0000000 &  0.448921174 & 0.7070129 & 0.6365838 &  0.391479335 & 0.8492533\\\\\n",
       "\t2 & 0.4489212 &  1.000000000 & 0.4746244 & 0.2422131 & -0.002738513 & 0.2906694\\\\\n",
       "\t3 & 0.7070129 &  0.474624412 & 1.0000000 & 0.6326841 &  0.395472014 & 0.7179217\\\\\n",
       "\t4 & 0.6365838 &  0.242213082 & 0.6326841 & 1.0000000 &  0.471567812 & 0.7369509\\\\\n",
       "\t5 & 0.3914793 & -0.002738513 & 0.3954720 & 0.4715678 &  1.000000000 & 0.5220129\\\\\n",
       "\t6 & 0.8492533 &  0.290669387 & 0.7179217 & 0.7369509 &  0.522012880 & 1.0000000\\\\\n",
       "\\end{tabular}\n"
      ],
      "text/markdown": [
       "\n",
       "A matrix: 6 × 6 of type dbl\n",
       "\n",
       "| <!--/--> | area | habitaciones | banos | garajes | estrato | rvalor |\n",
       "|---|---|---|---|---|---|---|\n",
       "| 1 | 1.0000000 |  0.448921174 | 0.7070129 | 0.6365838 |  0.391479335 | 0.8492533 |\n",
       "| 2 | 0.4489212 |  1.000000000 | 0.4746244 | 0.2422131 | -0.002738513 | 0.2906694 |\n",
       "| 3 | 0.7070129 |  0.474624412 | 1.0000000 | 0.6326841 |  0.395472014 | 0.7179217 |\n",
       "| 4 | 0.6365838 |  0.242213082 | 0.6326841 | 1.0000000 |  0.471567812 | 0.7369509 |\n",
       "| 5 | 0.3914793 | -0.002738513 | 0.3954720 | 0.4715678 |  1.000000000 | 0.5220129 |\n",
       "| 6 | 0.8492533 |  0.290669387 | 0.7179217 | 0.7369509 |  0.522012880 | 1.0000000 |\n",
       "\n"
      ],
      "text/plain": [
       "  area      habitaciones banos     garajes   estrato      rvalor   \n",
       "1 1.0000000  0.448921174 0.7070129 0.6365838  0.391479335 0.8492533\n",
       "2 0.4489212  1.000000000 0.4746244 0.2422131 -0.002738513 0.2906694\n",
       "3 0.7070129  0.474624412 1.0000000 0.6326841  0.395472014 0.7179217\n",
       "4 0.6365838  0.242213082 0.6326841 1.0000000  0.471567812 0.7369509\n",
       "5 0.3914793 -0.002738513 0.3954720 0.4715678  1.000000000 0.5220129\n",
       "6 0.8492533  0.290669387 0.7179217 0.7369509  0.522012880 1.0000000"
      ]
     },
     "metadata": {},
     "output_type": "display_data"
    }
   ],
   "source": [
    "## Transformando el resultado en una Matriz para poder graficar\n",
    "mat <- as.matrix(as.data.frame(arrange(obj$result, rownum))[,3:8],rownames=TRUE)\n",
    "mat"
   ]
  },
  {
   "cell_type": "code",
   "execution_count": 15,
   "id": "339fee64-06ea-420e-8fb8-42d6d168af3f",
   "metadata": {},
   "outputs": [
    {
     "name": "stderr",
     "output_type": "stream",
     "text": [
      "corrplot 0.92 loaded\n",
      "\n"
     ]
    },
    {
     "data": {
      "image/png": "[encoded data removed]",
      "text/plain": [
       "Plot with title \"\""
      ]
     },
     "metadata": {
      "image/png": {
       "height": 420,
       "width": 420
      }
     },
     "output_type": "display_data"
    }
   ],
   "source": [
    "## Gráfica de la Matriz de Correlaciones, Mientras más grande y oscuro el círculo, más alta la correlación\n",
    "library('corrplot')\n",
    "corrplot(mat, method=\"circle\")"
   ]
  },
  {
   "cell_type": "markdown",
   "id": "89db7495",
   "metadata": {},
   "source": [
    "### División de Muestras Train y Test"
   ]
  },
  {
   "cell_type": "code",
   "execution_count": 16,
   "id": "4342323f",
   "metadata": {},
   "outputs": [],
   "source": [
    "# Muestra de Entrenamiento\n",
    "tbl_train <- filter(tdPrecios, sid == 1)"
   ]
  },
  {
   "cell_type": "code",
   "execution_count": 17,
   "id": "30da0e89-57d6-4dfe-875b-ac1373b4a404",
   "metadata": {},
   "outputs": [],
   "source": [
    "# Muestra de Test\n",
    "tbl_test <- filter(tdPrecios, sid == 2)"
   ]
  },
  {
   "cell_type": "code",
   "execution_count": 18,
   "id": "b2a3551a-f38b-421e-8818-f6fe1453a7ca",
   "metadata": {},
   "outputs": [
    {
     "name": "stdout",
     "output_type": "stream",
     "text": [
      "<SQL>\n",
      "\u001b[34mSELECT\u001b[39m *\n",
      "\u001b[34mFROM\u001b[39m (\n",
      "select id, area, habitaciones, antiguedad_original, \n",
      "CASE WHEN banos is null then 0 else banos end as banos, \n",
      "CASE WHEN garajes is null then 0 else garajes end as garajes, \n",
      "CASE WHEN estrato is null then 0 else estrato end as estrato, SQRT(valor) as rvalor, \n",
      "SAMPLEID as sid FROM DW_DATA.Precio_Casas_Col \n",
      "WHERE area between 20 and 2000 and valor between 50000000 and 5000000000 \n",
      "SAMPLE RANDOMIZED ALLOCATION 0.7, 0.3\n",
      ") \"q01\"\n",
      "\u001b[34mWHERE\u001b[39m (\"sid\" = 1.0)\n"
     ]
    }
   ],
   "source": [
    "# Comprobando que cada DataFrame de tdplyr está asociado a un query en la BD\n",
    "show_query(tbl_train)"
   ]
  },
  {
   "cell_type": "markdown",
   "id": "291c2112",
   "metadata": {},
   "source": [
    "<font color='red'/>\n",
    "\n",
    "## **Entrenamiento del Modelo (In-Database)**"
   ]
  },
  {
   "cell_type": "markdown",
   "id": "815a62bd-18cf-4e59-b79f-951a4920c3af",
   "metadata": {},
   "source": [
    "### Generación del Modelo de Estimación de Precios utilizando Regresión Lineal Múltiple con Selección de Variables Stepwise"
   ]
  },
  {
   "cell_type": "code",
   "execution_count": 19,
   "id": "2df58ee7",
   "metadata": {},
   "outputs": [],
   "source": [
    "tdModel <- td_lin_reg_valib(data=tbl_train,\n",
    "                            columns='all',\n",
    "                            exclude.columns=c('id','sid','antiguedad_original'),\n",
    "                            stepwise='True',\n",
    "                            response.column='rvalor')"
   ]
  },
  {
   "cell_type": "code",
   "execution_count": 20,
   "id": "19bf51b4-b37a-4f89-b5ef-c71f035d259c",
   "metadata": {},
   "outputs": [
    {
     "data": {
      "text/plain": [
       "\u001b[90m# Source:   SQL [6 x 10]\u001b[39m\n",
       "\u001b[90m# Database: Teradata\u001b[39m\n",
       "  `Column Name` `B Coefficient` `Standard Error` `T Statistic` `P-Value`   Lower\n",
       "  \u001b[3m\u001b[90m<chr>\u001b[39m\u001b[23m                   \u001b[3m\u001b[90m<dbl>\u001b[39m\u001b[23m            \u001b[3m\u001b[90m<dbl>\u001b[39m\u001b[23m         \u001b[3m\u001b[90m<dbl>\u001b[39m\u001b[23m     \u001b[3m\u001b[90m<dbl>\u001b[39m\u001b[23m   \u001b[3m\u001b[90m<dbl>\u001b[39m\u001b[23m\n",
       "\u001b[90m1\u001b[39m (Constant)             \u001b[4m7\u001b[24m450.            58.2           128.          0  \u001b[4m7\u001b[24m335. \n",
       "\u001b[90m2\u001b[39m area                     74.9            0.271         276.          0    74.3\n",
       "\u001b[90m3\u001b[39m banos                  \u001b[4m1\u001b[24m421.            19.4            73.2         0  \u001b[4m1\u001b[24m383. \n",
       "\u001b[90m4\u001b[39m estrato                 772.            10.2            76.0         0   752. \n",
       "\u001b[90m5\u001b[39m garajes                \u001b[4m2\u001b[24m524.            20.8           121.          0  \u001b[4m2\u001b[24m483. \n",
       "\u001b[90m6\u001b[39m habitaciones          -\u001b[31m\u001b[4m1\u001b[24m08\u001b[39m\u001b[31m5\u001b[39m\u001b[31m.\u001b[39m            17.2           -\u001b[31m63\u001b[39m\u001b[31m.\u001b[39m\u001b[31m0\u001b[39m         0 -\u001b[31m\u001b[4m1\u001b[24m11\u001b[39m\u001b[31m9\u001b[39m\u001b[31m.\u001b[39m \n",
       "\u001b[90m# i 4 more variables: Upper <dbl>, `Standard Coefficient` <dbl>,\u001b[39m\n",
       "\u001b[90m#   `Incremental R-Squared` <dbl>,\u001b[39m\n",
       "\u001b[90m#   `Squared Multiple Correlation Coefficient (1-Tolerance)` <dbl>\u001b[39m"
      ]
     },
     "metadata": {},
     "output_type": "display_data"
    }
   ],
   "source": [
    "## Parámetros del Modelo\n",
    "head(tdModel$model,10)"
   ]
  },
  {
   "cell_type": "code",
   "execution_count": 21,
   "id": "e7ec1fe8-d80e-4d62-8005-675f95f94a59",
   "metadata": {},
   "outputs": [
    {
     "name": "stdout",
     "output_type": "stream",
     "text": [
      "\u001b[90m# Source:   table<\"POCUSER\".\"r__t__valib_td_lin_reg_valib1696612494611627_rpt\"> [1 x 18]\u001b[39m\n",
      "\u001b[90m# Database: Teradata\u001b[39m\n",
      "    rid `Total Observations` `Total Sum of Squares` Multiple Correlation Coeff~1\n",
      "  \u001b[3m\u001b[90m<int>\u001b[39m\u001b[23m                \u001b[3m\u001b[90m<dbl>\u001b[39m\u001b[23m                  \u001b[3m\u001b[90m<dbl>\u001b[39m\u001b[23m                        \u001b[3m\u001b[90m<dbl>\u001b[39m\u001b[23m\n",
      "\u001b[90m1\u001b[39m     1               \u001b[4m1\u001b[24m\u001b[4m0\u001b[24m\u001b[4m0\u001b[24m779                9.02\u001b[90me\u001b[39m12                        0.901\n",
      "\u001b[90m# i abbreviated name: 1: `Multiple Correlation Coefficient (R):`\u001b[39m\n",
      "\u001b[90m# i 14 more variables:\u001b[39m\n",
      "\u001b[90m#   `Squared Multiple Correlation Coefficient (1-Tolerance)` <dbl>,\u001b[39m\n",
      "\u001b[90m#   `Adjusted R-Squared` <dbl>, `Standard Error of Estimate` <dbl>,\u001b[39m\n",
      "\u001b[90m#   `Regression Sum of Squares` <dbl>, `Regression Degrees of Freedom` <dbl>,\u001b[39m\n",
      "\u001b[90m#   `Regression Mean-Square` <dbl>, `Regression F Ratio` <dbl>,\u001b[39m\n",
      "\u001b[90m#   `Regression P-Value` <dbl>, `Residual Sum of Squares` <dbl>, ...\u001b[39m\n"
     ]
    }
   ],
   "source": [
    "## Estadísticas de performance\n",
    "print(tdModel$statistical.measures)"
   ]
  },
  {
   "cell_type": "code",
   "execution_count": 22,
   "id": "5e72295a-885f-4d45-b268-96457ae7b422",
   "metadata": {},
   "outputs": [],
   "source": [
    "## Almacenando los parámetros del Modelo en la BD\n",
    "copy_to(con, tdModel$model, name = \"Modelo_Precios_Casas_R\")"
   ]
  },
  {
   "cell_type": "markdown",
   "id": "549242cf",
   "metadata": {},
   "source": [
    "## **Evaluación del Modelo**\n",
    "### Calculando las métricas de diagnóstico del Modelo"
   ]
  },
  {
   "cell_type": "code",
   "execution_count": 23,
   "id": "e6b86f3e",
   "metadata": {},
   "outputs": [],
   "source": [
    "tdEval <- td_lin_reg_evaluator_valib(data=tbl_test, model=tdModel$model, index.columns='id')"
   ]
  },
  {
   "cell_type": "code",
   "execution_count": 24,
   "id": "1f24b022",
   "metadata": {},
   "outputs": [
    {
     "data": {
      "text/html": [
       "<table class=\"dataframe\">\n",
       "<caption>A data.frame: 1 × 4</caption>\n",
       "<thead>\n",
       "\t<tr><th scope=col>Minimum Absolute Error</th><th scope=col>Maxmum Absolute Error</th><th scope=col>Average Absolute Error</th><th scope=col>Standard Error of Estimate</th></tr>\n",
       "\t<tr><th scope=col>&lt;dbl&gt;</th><th scope=col>&lt;dbl&gt;</th><th scope=col>&lt;dbl&gt;</th><th scope=col>&lt;dbl&gt;</th></tr>\n",
       "</thead>\n",
       "<tbody>\n",
       "\t<tr><td>0.03557262</td><td>140134.5</td><td>2538.317</td><td>3896.365</td></tr>\n",
       "</tbody>\n",
       "</table>\n"
      ],
      "text/latex": [
       "A data.frame: 1 × 4\n",
       "\\begin{tabular}{llll}\n",
       " Minimum Absolute Error & Maxmum Absolute Error & Average Absolute Error & Standard Error of Estimate\\\\\n",
       " <dbl> & <dbl> & <dbl> & <dbl>\\\\\n",
       "\\hline\n",
       "\t 0.03557262 & 140134.5 & 2538.317 & 3896.365\\\\\n",
       "\\end{tabular}\n"
      ],
      "text/markdown": [
       "\n",
       "A data.frame: 1 × 4\n",
       "\n",
       "| Minimum Absolute Error &lt;dbl&gt; | Maxmum Absolute Error &lt;dbl&gt; | Average Absolute Error &lt;dbl&gt; | Standard Error of Estimate &lt;dbl&gt; |\n",
       "|---|---|---|---|\n",
       "| 0.03557262 | 140134.5 | 2538.317 | 3896.365 |\n",
       "\n"
      ],
      "text/plain": [
       "  Minimum Absolute Error Maxmum Absolute Error Average Absolute Error\n",
       "1 0.03557262             140134.5              2538.317              \n",
       "  Standard Error of Estimate\n",
       "1 3896.365                  "
      ]
     },
     "metadata": {},
     "output_type": "display_data"
    }
   ],
   "source": [
    "## Estadísticas de performance\n",
    "as.data.frame(tdEval$result)"
   ]
  },
  {
   "cell_type": "markdown",
   "id": "4fc141a3",
   "metadata": {},
   "source": [
    "<font color='red'/>\n",
    "\n",
    "## **Depliegue del Modelo (In-Database)**"
   ]
  },
  {
   "cell_type": "markdown",
   "id": "5378fa9a-daa7-405f-9133-a0b3aec8899e",
   "metadata": {},
   "source": [
    "### Implementando el modelo para estimar el precio de otras viviendas"
   ]
  },
  {
   "cell_type": "code",
   "execution_count": 25,
   "id": "5361a78f",
   "metadata": {},
   "outputs": [],
   "source": [
    "tdScore <- td_lin_reg_predict_valib(data=tbl_test, model=tdModel$model, response.column=\"rvalor_estim\", index.columns='id')"
   ]
  },
  {
   "cell_type": "code",
   "execution_count": 26,
   "id": "ca171196-a1e6-419a-ad0f-993c775d18d8",
   "metadata": {},
   "outputs": [
    {
     "data": {
      "text/plain": [
       "$result\n",
       "\u001b[90m# Source:   table<\"POCUSER\".\"r__t__valib_td_lin_reg_predict_valib1696612612054939\"> [?? x 3]\u001b[39m\n",
       "\u001b[90m# Database: Teradata\u001b[39m\n",
       "       id rvalor_estim Residual\n",
       "    \u001b[3m\u001b[90m<int>\u001b[39m\u001b[23m        \u001b[3m\u001b[90m<dbl>\u001b[39m\u001b[23m    \u001b[3m\u001b[90m<dbl>\u001b[39m\u001b[23m\n",
       "\u001b[90m 1\u001b[39m  \u001b[4m8\u001b[24m\u001b[4m4\u001b[24m361       \u001b[4m3\u001b[24m\u001b[4m1\u001b[24m196.    \u001b[4m4\u001b[24m860.\n",
       "\u001b[90m 2\u001b[39m  \u001b[4m7\u001b[24m\u001b[4m3\u001b[24m084       \u001b[4m1\u001b[24m\u001b[4m0\u001b[24m451.     729.\n",
       "\u001b[90m 3\u001b[39m  \u001b[4m1\u001b[24m\u001b[4m4\u001b[24m253       \u001b[4m1\u001b[24m\u001b[4m7\u001b[24m151.    \u001b[4m2\u001b[24m214.\n",
       "\u001b[90m 4\u001b[39m \u001b[4m1\u001b[24m\u001b[4m1\u001b[24m\u001b[4m2\u001b[24m848       \u001b[4m3\u001b[24m\u001b[4m0\u001b[24m759.    \u001b[4m1\u001b[24m644.\n",
       "\u001b[90m 5\u001b[39m   \u001b[4m9\u001b[24m746       \u001b[4m3\u001b[24m\u001b[4m7\u001b[24m573.    \u001b[4m7\u001b[24m036.\n",
       "\u001b[90m 6\u001b[39m \u001b[4m1\u001b[24m\u001b[4m3\u001b[24m\u001b[4m3\u001b[24m953       \u001b[4m2\u001b[24m\u001b[4m4\u001b[24m824.   -\u001b[31m\u001b[4m2\u001b[24m68\u001b[39m\u001b[31m8\u001b[39m\u001b[31m.\u001b[39m\n",
       "\u001b[90m 7\u001b[39m  \u001b[4m2\u001b[24m\u001b[4m9\u001b[24m118       \u001b[4m3\u001b[24m\u001b[4m4\u001b[24m502.   -\u001b[31m\u001b[4m4\u001b[24m50\u001b[39m\u001b[31m2\u001b[39m\u001b[31m.\u001b[39m\n",
       "\u001b[90m 8\u001b[39m  \u001b[4m4\u001b[24m\u001b[4m5\u001b[24m840       \u001b[4m6\u001b[24m\u001b[4m0\u001b[24m590.   -\u001b[31m\u001b[4m6\u001b[24m73\u001b[39m\u001b[31m9\u001b[39m\u001b[31m.\u001b[39m\n",
       "\u001b[90m 9\u001b[39m  \u001b[4m6\u001b[24m\u001b[4m5\u001b[24m845       \u001b[4m2\u001b[24m\u001b[4m0\u001b[24m888.   -\u001b[31m\u001b[4m4\u001b[24m76\u001b[39m\u001b[31m4\u001b[39m\u001b[31m.\u001b[39m\n",
       "\u001b[90m10\u001b[39m  \u001b[4m6\u001b[24m\u001b[4m4\u001b[24m173       \u001b[4m1\u001b[24m\u001b[4m9\u001b[24m008.     740.\n",
       "\u001b[90m# i more rows\u001b[39m\n"
      ]
     },
     "metadata": {},
     "output_type": "display_data"
    }
   ],
   "source": [
    "head(tdScore)"
   ]
  },
  {
   "cell_type": "code",
   "execution_count": 27,
   "id": "b4907db3",
   "metadata": {},
   "outputs": [],
   "source": [
    "## Calculamos el valor total del Precio de la Vivienda, ya que para desarrollar el modelo extrajimos la raíz como respuesta\n",
    "derive_1 <- tdDerive(formula='x*x', columns='rvalor_estim', out.column='valor_estim')"
   ]
  },
  {
   "cell_type": "code",
   "execution_count": 28,
   "id": "ec727286-348e-4263-a5f9-20b00498f8ce",
   "metadata": {},
   "outputs": [],
   "source": [
    "## Aplicando la Transformación anterior\n",
    "FinalScore <- td_transform_valib(data=tdScore$result, derive=derive_1, key.columns='id', index.columns='id')"
   ]
  },
  {
   "cell_type": "code",
   "execution_count": 29,
   "id": "11434198-cbe1-4b76-9631-dc5bffd5a767",
   "metadata": {},
   "outputs": [
    {
     "data": {
      "text/plain": [
       "\u001b[90m# Source:   SQL [6 x 2]\u001b[39m\n",
       "\u001b[90m# Database: Teradata\u001b[39m\n",
       "      id valor_estim\n",
       "   \u001b[3m\u001b[90m<int>\u001b[39m\u001b[23m       \u001b[3m\u001b[90m<dbl>\u001b[39m\u001b[23m\n",
       "\u001b[90m1\u001b[39m  \u001b[4m1\u001b[24m\u001b[4m9\u001b[24m902 \u001b[4m1\u001b[24m464\u001b[4m4\u001b[24m\u001b[4m5\u001b[24m\u001b[4m3\u001b[24m191.\n",
       "\u001b[90m2\u001b[39m  \u001b[4m3\u001b[24m\u001b[4m8\u001b[24m336  931\u001b[4m4\u001b[24m\u001b[4m9\u001b[24m\u001b[4m8\u001b[24m360.\n",
       "\u001b[90m3\u001b[39m \u001b[4m1\u001b[24m\u001b[4m2\u001b[24m\u001b[4m9\u001b[24m345  398\u001b[4m2\u001b[24m\u001b[4m7\u001b[24m\u001b[4m3\u001b[24m897.\n",
       "\u001b[90m4\u001b[39m  \u001b[4m8\u001b[24m\u001b[4m7\u001b[24m909  196\u001b[4m4\u001b[24m\u001b[4m3\u001b[24m\u001b[4m3\u001b[24m496.\n",
       "\u001b[90m5\u001b[39m  \u001b[4m7\u001b[24m\u001b[4m4\u001b[24m981  325\u001b[4m2\u001b[24m\u001b[4m6\u001b[24m\u001b[4m4\u001b[24m105.\n",
       "\u001b[90m6\u001b[39m  \u001b[4m6\u001b[24m\u001b[4m1\u001b[24m971  296\u001b[4m2\u001b[24m\u001b[4m4\u001b[24m\u001b[4m0\u001b[24m931."
      ]
     },
     "metadata": {},
     "output_type": "display_data"
    }
   ],
   "source": [
    "head(FinalScore$result)"
   ]
  },
  {
   "cell_type": "code",
   "execution_count": 30,
   "id": "8dda56c5",
   "metadata": {},
   "outputs": [],
   "source": [
    "## Llevamos la información a una Tabla de resultados llamada Precio_Score_R\n",
    "copy_to(con, FinalScore$result, name = \"Precio_Score_R\")"
   ]
  },
  {
   "cell_type": "markdown",
   "id": "a3751fa6-5208-4505-a62d-15692218fc2a",
   "metadata": {},
   "source": [
    "### Limpiando las tablas creadas"
   ]
  },
  {
   "cell_type": "code",
   "execution_count": 31,
   "id": "54241675-b561-47d5-bfa5-337f89603f96",
   "metadata": {},
   "outputs": [
    {
     "data": {
      "text/html": [
       "25"
      ],
      "text/latex": [
       "25"
      ],
      "text/markdown": [
       "25"
      ],
      "text/plain": [
       "[1] 25"
      ]
     },
     "metadata": {},
     "output_type": "display_data"
    }
   ],
   "source": [
    "try(db_drop_table(con, \"Modelo_Precios_Casas_R\"), silent = TRUE)"
   ]
  },
  {
   "cell_type": "code",
   "execution_count": 32,
   "id": "205af68a-ce38-4dd3-9e48-b0b397bec702",
   "metadata": {},
   "outputs": [
    {
     "data": {
      "text/html": [
       "17"
      ],
      "text/latex": [
       "17"
      ],
      "text/markdown": [
       "17"
      ],
      "text/plain": [
       "[1] 17"
      ]
     },
     "metadata": {},
     "output_type": "display_data"
    }
   ],
   "source": [
    "try(db_drop_table(con, \"Precio_Score_R\"), silent = TRUE)"
   ]
  },
  {
   "cell_type": "code",
   "execution_count": 33,
   "id": "513b6192",
   "metadata": {},
   "outputs": [],
   "source": [
    "# Finaliza todo y depura las tablas temporales creadas\n",
    "td_remove_context()"
   ]
  },
  {
   "cell_type": "markdown",
   "id": "857be636",
   "metadata": {},
   "source": [
    "Copyright 2023. Elaborado por Luis Cajachahua bajo licencia MIT"
   ]
  }
 ],
 "metadata": {
  "kernelspec": {
   "display_name": "R",
   "language": "R",
   "name": "ir"
  },
  "language_info": {
   "codemirror_mode": "r",
   "file_extension": ".r",
   "mimetype": "text/x-r-source",
   "name": "R",
   "pygments_lexer": "r",
   "version": "4.1.3"
  }
 },
 "nbformat": 4,
 "nbformat_minor": 5
}
