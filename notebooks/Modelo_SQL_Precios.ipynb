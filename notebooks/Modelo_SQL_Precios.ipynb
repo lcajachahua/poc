{
 "cells": [
  {
   "cell_type": "markdown",
   "id": "2f0df8dc",
   "metadata": {},
   "source": [
    "# **Modelo de Estimación del Precio de Viviendas**\n",
    "## **Entendimiento del Problema y de los Datos**\n",
    "Este dataset contiene información recolectada de precios y características de 142 mil viviendas en Colombia. La información se encuentra disponible públicamente en el repositorio Kaggle: https://www.kaggle.com/datasets/danieleduardofajardo/colombia-house-prediction"
   ]
  },
  {
   "cell_type": "markdown",
   "id": "e8294e51",
   "metadata": {},
   "source": [
    "### Creamos la conexión con Vantage"
   ]
  },
  {
   "cell_type": "code",
   "execution_count": 1,
   "id": "9613a966",
   "metadata": {},
   "outputs": [
    {
     "name": "stdin",
     "output_type": "stream",
     "text": [
      "Password: ·······\n"
     ]
    },
    {
     "name": "stdout",
     "output_type": "stream",
     "text": [
      "Success: 'DataAnalyst' connection established and activated for user 'pocuser', with default database 'DW_DATA'\n"
     ]
    }
   ],
   "source": [
    "%connect DataAnalyst"
   ]
  },
  {
   "cell_type": "markdown",
   "id": "aea3d4fb",
   "metadata": {},
   "source": [
    "### Exploramos los Datos"
   ]
  },
  {
   "cell_type": "code",
   "execution_count": 2,
   "id": "206ed697-3fe3-4aaf-acc1-eeff9946cec6",
   "metadata": {},
   "outputs": [
    {
     "data": {
      "application/vnd.teradata.resultset": "\"id\",\"antiguedad_original\",\"area\",\"areabalcon\",\"areaconstruida\",\"areaterraza\",\"balcon\",\"banos\",\"banoservicio\",\"conjuntocerrado\",\"cuarto_de_escoltas\",\"cuartodeservicio\",\"depositoocuartoutil\",\"depositos\",\"estrato\",\"estudioobiblioteca\",\"garajecubierto\",\"garajes\",\"gimnasio\",\"habitaciones\",\"halldealcobasoestar\",\"instalaciondegas\",\"jacuzzi\",\"jardin\",\"latitud\",\"longitud\",\"numeroascensores\",\"parqueaderovisitantes\",\"piscina\",\"plantaelectrica\",\"porteriaovigilancia\",\"remodelado\",\"saloncomunal\",\"sauna_yo_turco\",\"terraza\",\"tiempodeconstruido\",\"tipodegaraje\",\"valor\",\"valorventa\",\"vigilancia\",\"vista\",\"zona_de_bbq\",\"zonadelavanderia\",\"zonaninos\",\"zonasverdes\"\n\"34340\",\"1 a 8 años\",\"75\",\"\",\"75\",\"\",\"\",\"2\",\"\",\"\",\"\",\"\",\"Si\",\"\",\"4\",\"\",\"\",\"1\",\"\",\"2\",\"Si\",\"Si\",\"\",\"\",\"4.61755991\",\"-74.09346008\",\"1\",\"Si\",\"\",\"\",\"\",\"No\",\"Si\",\"\",\"\",\"Entre 0 y 5 años\",\"\",\"348000000\",\"348000000\",\"Si\",\"\",\"\",\"Si\",\"Si\",\"\"\n\"58015\",\"Entre 10 y 20 años\",\"73\",\"\",\"73\",\"\",\"\",\"2\",\"\",\"Si\",\"\",\"\",\"\",\"\",\"4\",\"\",\"Si\",\"1\",\"\",\"3\",\"\",\"Natural\",\"\",\"\",\"4.65069294\",\"-74.10889435\",\"\",\"\",\"\",\"\",\"24hrs\",\"No\",\"Si\",\"\",\"\",\"Entre 10 y 20 años\",\"\",\"369500000\",\"369500000\",\"24hrs\",\"Exterior\",\"\",\"Si\",\"Si\",\"Si\"\n\"120190\",\"Entre 0 y 5 años\",\"82\",\"2\",\"82\",\"2\",\"Balcón\",\"3\",\"\",\"\",\"\",\"\",\"1\",\"1\",\"4\",\"\",\"Si\",\"2\",\"Si\",\"3\",\"\",\"Natural\",\"\",\"\",\"4.724796772\",\"-74.03022003\",\"2\",\"\",\"\",\"\",\"24hrs\",\"No\",\"Si\",\"\",\"Balcón\",\"Entre 0 y 5 años\",\"Propio\",\"430000000\",\"430000000\",\"24hrs\",\"Exterior\",\"Si\",\"Si\",\"Si\",\"\"\n\"113481\",\"Entre 0 y 5 años\",\"69\",\"\",\"69\",\"\",\"Ninguno\",\"2\",\"\",\"\",\"\",\"\",\"\",\"\",\"5\",\"\",\"Si\",\"2\",\"\",\"2\",\"\",\"Natural\",\"\",\"\",\"4.717042446\",\"-74.03278351\",\"\",\"\",\"\",\"\",\"\",\"No\",\"\",\"\",\"Ninguno\",\"Entre 0 y 5 años\",\"Servidumbre\",\"370000000\",\"370000000\",\"\",\"Exterior\",\"\",\"Si\",\"\",\"\"\n\"26958\",\"Entre 5 y 10 años\",\"61\",\"\",\"61\",\"\",\"Balcón\",\"2\",\"\",\"\",\"\",\"\",\"\",\"\",\"4\",\"Si\",\"\",\"1\",\"Si\",\"1\",\"\",\"Natural\",\"\",\"\",\"4.722257824\",\"-74.03490622\",\"1\",\"\",\"\",\"\",\"24hrs\",\"No\",\"Si\",\"\",\"Balcón\",\"Entre 5 y 10 años\",\"Independiente\",\"295000000\",\"295000000\",\"24hrs\",\"Exterior\",\"\",\"\",\"\",\"\"\n\"93089\",\"Entre 5 y 10 años\",\"66\",\"\",\"66\",\"\",\"Ninguno\",\"2\",\"\",\"Si\",\"\",\"\",\"\",\"\",\"3\",\"\",\"\",\"\",\"\",\"3\",\"\",\"Natural\",\"\",\"\",\"4.723160137\",\"-74.1306071\",\"\",\"\",\"\",\"\",\"24hrs\",\"No\",\"\",\"\",\"Ninguno\",\"Entre 5 y 10 años\",\"\",\"185000000\",\"185000000\",\"24hrs\",\"Interior\",\"\",\"Si\",\"Si\",\"\"\n\"29507\",\"Entre 0 y 5 años\",\"72\",\"7\",\"72\",\"7\",\"Balcón\",\"2\",\"\",\"Si\",\"\",\"\",\"1\",\"1\",\"4\",\"\",\"Si\",\"1\",\"Si\",\"2\",\"\",\"Natural\",\"\",\"\",\"4.721628189\",\"-74.03083038\",\"2\",\"\",\"\",\"\",\"24hrs\",\"No\",\"Si\",\"\",\"Balcón\",\"Entre 0 y 5 años\",\"Propio\",\"390000000\",\"390000000\",\"24hrs\",\"Exterior\",\"Si\",\"Si\",\"Si\",\"\"\n\"60095\",\"Más de 20 años\",\"172\",\"\",\"172\",\"\",\"\",\"2\",\"\",\"\",\"\",\"\",\"\",\"\",\"4\",\"\",\"\",\"\",\"\",\"4\",\"\",\"\",\"\",\"\",\"4.619887451\",\"-74.06940237\",\"\",\"\",\"\",\"\",\"\",\"No\",\"\",\"\",\"\",\"Más de 20 años\",\"\",\"750000000\",\"750000000\",\"\",\"\",\"\",\"\",\"\",\"\"\n\"118314\",\"Entre 0 y 5 años\",\"72\",\"\",\"72\",\"\",\"\",\"3\",\"\",\"Si\",\"\",\"\",\"1\",\"1\",\"6\",\"\",\"\",\"1\",\"Si\",\"2\",\"\",\"\",\"\",\"\",\"4.692793846\",\"-74.04951477\",\"\",\"\",\"\",\"\",\"24hrs\",\"No\",\"Si\",\"\",\"\",\"Entre 0 y 5 años\",\"\",\"583000000\",\"583000000\",\"24hrs\",\"Exterior\",\"\",\"Si\",\"Si\",\"Si\"\n\"98595\",\"Entre 5 y 10 años\",\"268.52\",\"\",\"268.52\",\"\",\"Ninguno\",\"4\",\"\",\"Si\",\"\",\"\",\"3 o más\",\"3 o más\",\"6\",\"\",\"\",\"3\",\"\",\"3\",\"Si\",\"Natural\",\"\",\"\",\"4.717995644\",\"-74.02664185\",\"\",\"\",\"Si\",\"\",\"24hrs\",\"No\",\"\",\"Si\",\"Ninguno\",\"Entre 5 y 10 años\",\"Propio\",\"1820000000\",\"1820000000\",\"24hrs\",\"Exterior\",\"\",\"Si\",\"\",\"Si\"",
      "text/html": [
       "<div class = \"td-resultset-table-div\" style = \"max-height: 100%; overflow-y: auto\">\n",
       "      <table class=\"tdhistory970011\"><style>\n",
       "      table.tdhistory970011 { display: block !important; min-height: 294px !important; overflow: auto !important; height: 294px !important; width: 100% !important; border: 1px solid rgb(207, 207, 207) !important; border-collapse: collapse !important; ; color: var(--jp-ui-font-color1) !important; }\n",
       "      th.tdhistory970011 { border: 1px solid rgb(198,198,198) !important; border-collapse: collapse !important; ; padding: 2px 5px !important; ; font-size: 13px !important; ; text-align: center !important; white-space: normal !important; color: var(--jp-ui-font-color1) !important; }\n",
       "      th.tdhistory970011:last-child { text-align: left !important; }\n",
       "      tbody.tdhistory970011 tr:nth-child(even) { background: rgba(243, 243, 243, 0.75) !important; }\n",
       "      tbody.tdhistory970011 tr:nth-child(odd) { background: var(--jp-ui-inverse-font-color1) !important; }\n",
       "      td.tdhistory970011 { border: 1px solid rgb(207, 207, 207) !important; border-collapse: collapse !important; ; padding: 2px 5px !important; ; font-size: 13px !important; ; text-align: left !important;          white-space: nowrap !important; overflow:hidden !important; text-overflow:ellipsis !important;; }\n",
       "    </style><thead><tr style= \"background: rgba(243, 243, 243, 0.75)\"><th class=\"tdhistory970011\"></th><th class=\"tdhistory970011\">id</th><th class=\"tdhistory970011\">antiguedad_original</th><th class=\"tdhistory970011\">area</th><th class=\"tdhistory970011\">areabalcon</th><th class=\"tdhistory970011\">areaconstruida</th><th class=\"tdhistory970011\">areaterraza</th><th class=\"tdhistory970011\">balcon</th><th class=\"tdhistory970011\">banos</th><th class=\"tdhistory970011\">banoservicio</th><th class=\"tdhistory970011\">conjuntocerrado</th><th class=\"tdhistory970011\">cuarto_de_escoltas</th><th class=\"tdhistory970011\">cuartodeservicio</th><th class=\"tdhistory970011\">depositoocuartoutil</th><th class=\"tdhistory970011\">depositos</th><th class=\"tdhistory970011\">estrato</th><th class=\"tdhistory970011\">estudioobiblioteca</th><th class=\"tdhistory970011\">garajecubierto</th><th class=\"tdhistory970011\">garajes</th><th class=\"tdhistory970011\">gimnasio</th><th class=\"tdhistory970011\">habitaciones</th><th class=\"tdhistory970011\">halldealcobasoestar</th><th class=\"tdhistory970011\">instalaciondegas</th><th class=\"tdhistory970011\">jacuzzi</th><th class=\"tdhistory970011\">jardin</th><th class=\"tdhistory970011\">latitud</th><th class=\"tdhistory970011\">longitud</th><th class=\"tdhistory970011\">numeroascensores</th><th class=\"tdhistory970011\">parqueaderovisitantes</th><th class=\"tdhistory970011\">piscina</th><th class=\"tdhistory970011\">plantaelectrica</th><th class=\"tdhistory970011\">porteriaovigilancia</th><th class=\"tdhistory970011\">remodelado</th><th class=\"tdhistory970011\">saloncomunal</th><th class=\"tdhistory970011\">sauna_yo_turco</th><th class=\"tdhistory970011\">terraza</th><th class=\"tdhistory970011\">tiempodeconstruido</th><th class=\"tdhistory970011\">tipodegaraje</th><th class=\"tdhistory970011\">valor</th><th class=\"tdhistory970011\">valorventa</th><th class=\"tdhistory970011\">vigilancia</th><th class=\"tdhistory970011\">vista</th><th class=\"tdhistory970011\">zona_de_bbq</th><th class=\"tdhistory970011\">zonadelavanderia</th><th class=\"tdhistory970011\">zonaninos</th><th class=\"tdhistory970011\">zonasverdes</th></tr></thead><tbody class=\"tdhistory970011 resultset-body\"><tr><th class=\"tdhistory970011\" style= \"background: rgba(243, 243, 243, 0.75)\">1</th><td class=\"tdhistory970011\">34340</td><td class=\"tdhistory970011\">1 a 8 años</td><td class=\"tdhistory970011\">75</td><td class=\"tdhistory970011\"></td><td class=\"tdhistory970011\">75</td><td class=\"tdhistory970011\"></td><td class=\"tdhistory970011\"></td><td class=\"tdhistory970011\">2</td><td class=\"tdhistory970011\"></td><td class=\"tdhistory970011\"></td><td class=\"tdhistory970011\"></td><td class=\"tdhistory970011\"></td><td class=\"tdhistory970011\">Si</td><td class=\"tdhistory970011\"></td><td class=\"tdhistory970011\">4</td><td class=\"tdhistory970011\"></td><td class=\"tdhistory970011\"></td><td class=\"tdhistory970011\">1</td><td class=\"tdhistory970011\"></td><td class=\"tdhistory970011\">2</td><td class=\"tdhistory970011\">Si</td><td class=\"tdhistory970011\">Si</td><td class=\"tdhistory970011\"></td><td class=\"tdhistory970011\"></td><td class=\"tdhistory970011\">4.61755991</td><td class=\"tdhistory970011\">-74.09346008</td><td class=\"tdhistory970011\">1</td><td class=\"tdhistory970011\">Si</td><td class=\"tdhistory970011\"></td><td class=\"tdhistory970011\"></td><td class=\"tdhistory970011\"></td><td class=\"tdhistory970011\">No</td><td class=\"tdhistory970011\">Si</td><td class=\"tdhistory970011\"></td><td class=\"tdhistory970011\"></td><td class=\"tdhistory970011\">Entre 0 y 5 años</td><td class=\"tdhistory970011\"></td><td class=\"tdhistory970011\">348000000</td><td class=\"tdhistory970011\">348000000</td><td class=\"tdhistory970011\">Si</td><td class=\"tdhistory970011\"></td><td class=\"tdhistory970011\"></td><td class=\"tdhistory970011\">Si</td><td class=\"tdhistory970011\">Si</td><td class=\"tdhistory970011\"></td></tr><tr><th class=\"tdhistory970011\" style= \"background: rgba(243, 243, 243, 0.75)\">2</th><td class=\"tdhistory970011\">58015</td><td class=\"tdhistory970011\">Entre 10 y 20 años</td><td class=\"tdhistory970011\">73</td><td class=\"tdhistory970011\"></td><td class=\"tdhistory970011\">73</td><td class=\"tdhistory970011\"></td><td class=\"tdhistory970011\"></td><td class=\"tdhistory970011\">2</td><td class=\"tdhistory970011\"></td><td class=\"tdhistory970011\">Si</td><td class=\"tdhistory970011\"></td><td class=\"tdhistory970011\"></td><td class=\"tdhistory970011\"></td><td class=\"tdhistory970011\"></td><td class=\"tdhistory970011\">4</td><td class=\"tdhistory970011\"></td><td class=\"tdhistory970011\">Si</td><td class=\"tdhistory970011\">1</td><td class=\"tdhistory970011\"></td><td class=\"tdhistory970011\">3</td><td class=\"tdhistory970011\"></td><td class=\"tdhistory970011\">Natural</td><td class=\"tdhistory970011\"></td><td class=\"tdhistory970011\"></td><td class=\"tdhistory970011\">4.65069294</td><td class=\"tdhistory970011\">-74.10889435</td><td class=\"tdhistory970011\"></td><td class=\"tdhistory970011\"></td><td class=\"tdhistory970011\"></td><td class=\"tdhistory970011\"></td><td class=\"tdhistory970011\">24hrs</td><td class=\"tdhistory970011\">No</td><td class=\"tdhistory970011\">Si</td><td class=\"tdhistory970011\"></td><td class=\"tdhistory970011\"></td><td class=\"tdhistory970011\">Entre 10 y 20 años</td><td class=\"tdhistory970011\"></td><td class=\"tdhistory970011\">369500000</td><td class=\"tdhistory970011\">369500000</td><td class=\"tdhistory970011\">24hrs</td><td class=\"tdhistory970011\">Exterior</td><td class=\"tdhistory970011\"></td><td class=\"tdhistory970011\">Si</td><td class=\"tdhistory970011\">Si</td><td class=\"tdhistory970011\">Si</td></tr><tr><th class=\"tdhistory970011\" style= \"background: rgba(243, 243, 243, 0.75)\">3</th><td class=\"tdhistory970011\">120190</td><td class=\"tdhistory970011\">Entre 0 y 5 años</td><td class=\"tdhistory970011\">82</td><td class=\"tdhistory970011\">2</td><td class=\"tdhistory970011\">82</td><td class=\"tdhistory970011\">2</td><td class=\"tdhistory970011\">Balcón</td><td class=\"tdhistory970011\">3</td><td class=\"tdhistory970011\"></td><td class=\"tdhistory970011\"></td><td class=\"tdhistory970011\"></td><td class=\"tdhistory970011\"></td><td class=\"tdhistory970011\">1</td><td class=\"tdhistory970011\">1</td><td class=\"tdhistory970011\">4</td><td class=\"tdhistory970011\"></td><td class=\"tdhistory970011\">Si</td><td class=\"tdhistory970011\">2</td><td class=\"tdhistory970011\">Si</td><td class=\"tdhistory970011\">3</td><td class=\"tdhistory970011\"></td><td class=\"tdhistory970011\">Natural</td><td class=\"tdhistory970011\"></td><td class=\"tdhistory970011\"></td><td class=\"tdhistory970011\">4.724796772</td><td class=\"tdhistory970011\">-74.03022003</td><td class=\"tdhistory970011\">2</td><td class=\"tdhistory970011\"></td><td class=\"tdhistory970011\"></td><td class=\"tdhistory970011\"></td><td class=\"tdhistory970011\">24hrs</td><td class=\"tdhistory970011\">No</td><td class=\"tdhistory970011\">Si</td><td class=\"tdhistory970011\"></td><td class=\"tdhistory970011\">Balcón</td><td class=\"tdhistory970011\">Entre 0 y 5 años</td><td class=\"tdhistory970011\">Propio</td><td class=\"tdhistory970011\">430000000</td><td class=\"tdhistory970011\">430000000</td><td class=\"tdhistory970011\">24hrs</td><td class=\"tdhistory970011\">Exterior</td><td class=\"tdhistory970011\">Si</td><td class=\"tdhistory970011\">Si</td><td class=\"tdhistory970011\">Si</td><td class=\"tdhistory970011\"></td></tr><tr><th class=\"tdhistory970011\" style= \"background: rgba(243, 243, 243, 0.75)\">4</th><td class=\"tdhistory970011\">113481</td><td class=\"tdhistory970011\">Entre 0 y 5 años</td><td class=\"tdhistory970011\">69</td><td class=\"tdhistory970011\"></td><td class=\"tdhistory970011\">69</td><td class=\"tdhistory970011\"></td><td class=\"tdhistory970011\">Ninguno</td><td class=\"tdhistory970011\">2</td><td class=\"tdhistory970011\"></td><td class=\"tdhistory970011\"></td><td class=\"tdhistory970011\"></td><td class=\"tdhistory970011\"></td><td class=\"tdhistory970011\"></td><td class=\"tdhistory970011\"></td><td class=\"tdhistory970011\">5</td><td class=\"tdhistory970011\"></td><td class=\"tdhistory970011\">Si</td><td class=\"tdhistory970011\">2</td><td class=\"tdhistory970011\"></td><td class=\"tdhistory970011\">2</td><td class=\"tdhistory970011\"></td><td class=\"tdhistory970011\">Natural</td><td class=\"tdhistory970011\"></td><td class=\"tdhistory970011\"></td><td class=\"tdhistory970011\">4.717042446</td><td class=\"tdhistory970011\">-74.03278351</td><td class=\"tdhistory970011\"></td><td class=\"tdhistory970011\"></td><td class=\"tdhistory970011\"></td><td class=\"tdhistory970011\"></td><td class=\"tdhistory970011\"></td><td class=\"tdhistory970011\">No</td><td class=\"tdhistory970011\"></td><td class=\"tdhistory970011\"></td><td class=\"tdhistory970011\">Ninguno</td><td class=\"tdhistory970011\">Entre 0 y 5 años</td><td class=\"tdhistory970011\">Servidumbre</td><td class=\"tdhistory970011\">370000000</td><td class=\"tdhistory970011\">370000000</td><td class=\"tdhistory970011\"></td><td class=\"tdhistory970011\">Exterior</td><td class=\"tdhistory970011\"></td><td class=\"tdhistory970011\">Si</td><td class=\"tdhistory970011\"></td><td class=\"tdhistory970011\"></td></tr><tr><th class=\"tdhistory970011\" style= \"background: rgba(243, 243, 243, 0.75)\">5</th><td class=\"tdhistory970011\">26958</td><td class=\"tdhistory970011\">Entre 5 y 10 años</td><td class=\"tdhistory970011\">61</td><td class=\"tdhistory970011\"></td><td class=\"tdhistory970011\">61</td><td class=\"tdhistory970011\"></td><td class=\"tdhistory970011\">Balcón</td><td class=\"tdhistory970011\">2</td><td class=\"tdhistory970011\"></td><td class=\"tdhistory970011\"></td><td class=\"tdhistory970011\"></td><td class=\"tdhistory970011\"></td><td class=\"tdhistory970011\"></td><td class=\"tdhistory970011\"></td><td class=\"tdhistory970011\">4</td><td class=\"tdhistory970011\">Si</td><td class=\"tdhistory970011\"></td><td class=\"tdhistory970011\">1</td><td class=\"tdhistory970011\">Si</td><td class=\"tdhistory970011\">1</td><td class=\"tdhistory970011\"></td><td class=\"tdhistory970011\">Natural</td><td class=\"tdhistory970011\"></td><td class=\"tdhistory970011\"></td><td class=\"tdhistory970011\">4.722257824</td><td class=\"tdhistory970011\">-74.03490622</td><td class=\"tdhistory970011\">1</td><td class=\"tdhistory970011\"></td><td class=\"tdhistory970011\"></td><td class=\"tdhistory970011\"></td><td class=\"tdhistory970011\">24hrs</td><td class=\"tdhistory970011\">No</td><td class=\"tdhistory970011\">Si</td><td class=\"tdhistory970011\"></td><td class=\"tdhistory970011\">Balcón</td><td class=\"tdhistory970011\">Entre 5 y 10 años</td><td class=\"tdhistory970011\">Independiente</td><td class=\"tdhistory970011\">295000000</td><td class=\"tdhistory970011\">295000000</td><td class=\"tdhistory970011\">24hrs</td><td class=\"tdhistory970011\">Exterior</td><td class=\"tdhistory970011\"></td><td class=\"tdhistory970011\"></td><td class=\"tdhistory970011\"></td><td class=\"tdhistory970011\"></td></tr><tr><th class=\"tdhistory970011\" style= \"background: rgba(243, 243, 243, 0.75)\">6</th><td class=\"tdhistory970011\">93089</td><td class=\"tdhistory970011\">Entre 5 y 10 años</td><td class=\"tdhistory970011\">66</td><td class=\"tdhistory970011\"></td><td class=\"tdhistory970011\">66</td><td class=\"tdhistory970011\"></td><td class=\"tdhistory970011\">Ninguno</td><td class=\"tdhistory970011\">2</td><td class=\"tdhistory970011\"></td><td class=\"tdhistory970011\">Si</td><td class=\"tdhistory970011\"></td><td class=\"tdhistory970011\"></td><td class=\"tdhistory970011\"></td><td class=\"tdhistory970011\"></td><td class=\"tdhistory970011\">3</td><td class=\"tdhistory970011\"></td><td class=\"tdhistory970011\"></td><td class=\"tdhistory970011\"></td><td class=\"tdhistory970011\"></td><td class=\"tdhistory970011\">3</td><td class=\"tdhistory970011\"></td><td class=\"tdhistory970011\">Natural</td><td class=\"tdhistory970011\"></td><td class=\"tdhistory970011\"></td><td class=\"tdhistory970011\">4.723160137</td><td class=\"tdhistory970011\">-74.1306071</td><td class=\"tdhistory970011\"></td><td class=\"tdhistory970011\"></td><td class=\"tdhistory970011\"></td><td class=\"tdhistory970011\"></td><td class=\"tdhistory970011\">24hrs</td><td class=\"tdhistory970011\">No</td><td class=\"tdhistory970011\"></td><td class=\"tdhistory970011\"></td><td class=\"tdhistory970011\">Ninguno</td><td class=\"tdhistory970011\">Entre 5 y 10 años</td><td class=\"tdhistory970011\"></td><td class=\"tdhistory970011\">185000000</td><td class=\"tdhistory970011\">185000000</td><td class=\"tdhistory970011\">24hrs</td><td class=\"tdhistory970011\">Interior</td><td class=\"tdhistory970011\"></td><td class=\"tdhistory970011\">Si</td><td class=\"tdhistory970011\">Si</td><td class=\"tdhistory970011\"></td></tr><tr><th class=\"tdhistory970011\" style= \"background: rgba(243, 243, 243, 0.75)\">7</th><td class=\"tdhistory970011\">29507</td><td class=\"tdhistory970011\">Entre 0 y 5 años</td><td class=\"tdhistory970011\">72</td><td class=\"tdhistory970011\">7</td><td class=\"tdhistory970011\">72</td><td class=\"tdhistory970011\">7</td><td class=\"tdhistory970011\">Balcón</td><td class=\"tdhistory970011\">2</td><td class=\"tdhistory970011\"></td><td class=\"tdhistory970011\">Si</td><td class=\"tdhistory970011\"></td><td class=\"tdhistory970011\"></td><td class=\"tdhistory970011\">1</td><td class=\"tdhistory970011\">1</td><td class=\"tdhistory970011\">4</td><td class=\"tdhistory970011\"></td><td class=\"tdhistory970011\">Si</td><td class=\"tdhistory970011\">1</td><td class=\"tdhistory970011\">Si</td><td class=\"tdhistory970011\">2</td><td class=\"tdhistory970011\"></td><td class=\"tdhistory970011\">Natural</td><td class=\"tdhistory970011\"></td><td class=\"tdhistory970011\"></td><td class=\"tdhistory970011\">4.721628189</td><td class=\"tdhistory970011\">-74.03083038</td><td class=\"tdhistory970011\">2</td><td class=\"tdhistory970011\"></td><td class=\"tdhistory970011\"></td><td class=\"tdhistory970011\"></td><td class=\"tdhistory970011\">24hrs</td><td class=\"tdhistory970011\">No</td><td class=\"tdhistory970011\">Si</td><td class=\"tdhistory970011\"></td><td class=\"tdhistory970011\">Balcón</td><td class=\"tdhistory970011\">Entre 0 y 5 años</td><td class=\"tdhistory970011\">Propio</td><td class=\"tdhistory970011\">390000000</td><td class=\"tdhistory970011\">390000000</td><td class=\"tdhistory970011\">24hrs</td><td class=\"tdhistory970011\">Exterior</td><td class=\"tdhistory970011\">Si</td><td class=\"tdhistory970011\">Si</td><td class=\"tdhistory970011\">Si</td><td class=\"tdhistory970011\"></td></tr><tr><th class=\"tdhistory970011\" style= \"background: rgba(243, 243, 243, 0.75)\">8</th><td class=\"tdhistory970011\">60095</td><td class=\"tdhistory970011\">Más de 20 años</td><td class=\"tdhistory970011\">172</td><td class=\"tdhistory970011\"></td><td class=\"tdhistory970011\">172</td><td class=\"tdhistory970011\"></td><td class=\"tdhistory970011\"></td><td class=\"tdhistory970011\">2</td><td class=\"tdhistory970011\"></td><td class=\"tdhistory970011\"></td><td class=\"tdhistory970011\"></td><td class=\"tdhistory970011\"></td><td class=\"tdhistory970011\"></td><td class=\"tdhistory970011\"></td><td class=\"tdhistory970011\">4</td><td class=\"tdhistory970011\"></td><td class=\"tdhistory970011\"></td><td class=\"tdhistory970011\"></td><td class=\"tdhistory970011\"></td><td class=\"tdhistory970011\">4</td><td class=\"tdhistory970011\"></td><td class=\"tdhistory970011\"></td><td class=\"tdhistory970011\"></td><td class=\"tdhistory970011\"></td><td class=\"tdhistory970011\">4.619887451</td><td class=\"tdhistory970011\">-74.06940237</td><td class=\"tdhistory970011\"></td><td class=\"tdhistory970011\"></td><td class=\"tdhistory970011\"></td><td class=\"tdhistory970011\"></td><td class=\"tdhistory970011\"></td><td class=\"tdhistory970011\">No</td><td class=\"tdhistory970011\"></td><td class=\"tdhistory970011\"></td><td class=\"tdhistory970011\"></td><td class=\"tdhistory970011\">Más de 20 años</td><td class=\"tdhistory970011\"></td><td class=\"tdhistory970011\">750000000</td><td class=\"tdhistory970011\">750000000</td><td class=\"tdhistory970011\"></td><td class=\"tdhistory970011\"></td><td class=\"tdhistory970011\"></td><td class=\"tdhistory970011\"></td><td class=\"tdhistory970011\"></td><td class=\"tdhistory970011\"></td></tr><tr><th class=\"tdhistory970011\" style= \"background: rgba(243, 243, 243, 0.75)\">9</th><td class=\"tdhistory970011\">118314</td><td class=\"tdhistory970011\">Entre 0 y 5 años</td><td class=\"tdhistory970011\">72</td><td class=\"tdhistory970011\"></td><td class=\"tdhistory970011\">72</td><td class=\"tdhistory970011\"></td><td class=\"tdhistory970011\"></td><td class=\"tdhistory970011\">3</td><td class=\"tdhistory970011\"></td><td class=\"tdhistory970011\">Si</td><td class=\"tdhistory970011\"></td><td class=\"tdhistory970011\"></td><td class=\"tdhistory970011\">1</td><td class=\"tdhistory970011\">1</td><td class=\"tdhistory970011\">6</td><td class=\"tdhistory970011\"></td><td class=\"tdhistory970011\"></td><td class=\"tdhistory970011\">1</td><td class=\"tdhistory970011\">Si</td><td class=\"tdhistory970011\">2</td><td class=\"tdhistory970011\"></td><td class=\"tdhistory970011\"></td><td class=\"tdhistory970011\"></td><td class=\"tdhistory970011\"></td><td class=\"tdhistory970011\">4.692793846</td><td class=\"tdhistory970011\">-74.04951477</td><td class=\"tdhistory970011\"></td><td class=\"tdhistory970011\"></td><td class=\"tdhistory970011\"></td><td class=\"tdhistory970011\"></td><td class=\"tdhistory970011\">24hrs</td><td class=\"tdhistory970011\">No</td><td class=\"tdhistory970011\">Si</td><td class=\"tdhistory970011\"></td><td class=\"tdhistory970011\"></td><td class=\"tdhistory970011\">Entre 0 y 5 años</td><td class=\"tdhistory970011\"></td><td class=\"tdhistory970011\">583000000</td><td class=\"tdhistory970011\">583000000</td><td class=\"tdhistory970011\">24hrs</td><td class=\"tdhistory970011\">Exterior</td><td class=\"tdhistory970011\"></td><td class=\"tdhistory970011\">Si</td><td class=\"tdhistory970011\">Si</td><td class=\"tdhistory970011\">Si</td></tr><tr><th class=\"tdhistory970011\" style= \"background: rgba(243, 243, 243, 0.75)\">10</th><td class=\"tdhistory970011\">98595</td><td class=\"tdhistory970011\">Entre 5 y 10 años</td><td class=\"tdhistory970011\">268.52</td><td class=\"tdhistory970011\"></td><td class=\"tdhistory970011\">268.52</td><td class=\"tdhistory970011\"></td><td class=\"tdhistory970011\">Ninguno</td><td class=\"tdhistory970011\">4</td><td class=\"tdhistory970011\"></td><td class=\"tdhistory970011\">Si</td><td class=\"tdhistory970011\"></td><td class=\"tdhistory970011\"></td><td class=\"tdhistory970011\">3 o más</td><td class=\"tdhistory970011\">3 o más</td><td class=\"tdhistory970011\">6</td><td class=\"tdhistory970011\"></td><td class=\"tdhistory970011\"></td><td class=\"tdhistory970011\">3</td><td class=\"tdhistory970011\"></td><td class=\"tdhistory970011\">3</td><td class=\"tdhistory970011\">Si</td><td class=\"tdhistory970011\">Natural</td><td class=\"tdhistory970011\"></td><td class=\"tdhistory970011\"></td><td class=\"tdhistory970011\">4.717995644</td><td class=\"tdhistory970011\">-74.02664185</td><td class=\"tdhistory970011\"></td><td class=\"tdhistory970011\"></td><td class=\"tdhistory970011\">Si</td><td class=\"tdhistory970011\"></td><td class=\"tdhistory970011\">24hrs</td><td class=\"tdhistory970011\">No</td><td class=\"tdhistory970011\"></td><td class=\"tdhistory970011\">Si</td><td class=\"tdhistory970011\">Ninguno</td><td class=\"tdhistory970011\">Entre 5 y 10 años</td><td class=\"tdhistory970011\">Propio</td><td class=\"tdhistory970011\">1820000000</td><td class=\"tdhistory970011\">1820000000</td><td class=\"tdhistory970011\">24hrs</td><td class=\"tdhistory970011\">Exterior</td><td class=\"tdhistory970011\"></td><td class=\"tdhistory970011\">Si</td><td class=\"tdhistory970011\"></td><td class=\"tdhistory970011\">Si</td></tr></tbody></table></div>"
      ]
     },
     "execution_count": 2,
     "metadata": {
      "application/vnd.teradata.resultset": "{\"resultSetID\":\"/teradata/proyecto/Teradata/Resultsets/2023.10.06_18.31.29.726_UTC\",\"historyID\":1236,\"chunkID\":\"00001\",\"sessionid\":\"\",\"portnum\":\"\",\"dockermode\":\"standalone\",\"totalRowCount\":10,\"chunkCount\":0,\"rowLimit\":0,\"columnMetadata\":[{\"columnName\":\"id\",\"columnTypeName\":\"INTEGER\"},{\"columnNumber\":1,\"columnName\":\"antiguedad_original\",\"columnTypeName\":\"VARCHAR\",\"length\":20,\"scale\":20},{\"columnNumber\":2,\"columnName\":\"area\",\"columnTypeName\":\"NUMBER\",\"length\":2,\"precision\":8,\"scale\":2},{\"columnNumber\":3,\"columnName\":\"areabalcon\",\"columnTypeName\":\"NUMBER\",\"length\":2,\"precision\":8,\"scale\":2},{\"columnNumber\":4,\"columnName\":\"areaconstruida\",\"columnTypeName\":\"NUMBER\",\"length\":2,\"precision\":8,\"scale\":2},{\"columnNumber\":5,\"columnName\":\"areaterraza\",\"columnTypeName\":\"NUMBER\",\"length\":2,\"precision\":8,\"scale\":2},{\"columnNumber\":6,\"columnName\":\"balcon\",\"columnTypeName\":\"VARCHAR\",\"length\":10,\"scale\":10},{\"columnNumber\":7,\"columnName\":\"banos\",\"columnTypeName\":\"SMALLINT\"},{\"columnNumber\":8,\"columnName\":\"banoservicio\",\"columnTypeName\":\"VARCHAR\",\"length\":2,\"scale\":2},{\"columnNumber\":9,\"columnName\":\"conjuntocerrado\",\"columnTypeName\":\"VARCHAR\",\"length\":2,\"scale\":2},{\"columnNumber\":10,\"columnName\":\"cuarto_de_escoltas\",\"columnTypeName\":\"VARCHAR\",\"length\":2,\"scale\":2},{\"columnNumber\":11,\"columnName\":\"cuartodeservicio\",\"columnTypeName\":\"VARCHAR\",\"length\":2,\"scale\":2},{\"columnNumber\":12,\"columnName\":\"depositoocuartoutil\",\"columnTypeName\":\"VARCHAR\",\"length\":10,\"scale\":10},{\"columnNumber\":13,\"columnName\":\"depositos\",\"columnTypeName\":\"VARCHAR\",\"length\":10,\"scale\":10},{\"columnNumber\":14,\"columnName\":\"estrato\",\"columnTypeName\":\"SMALLINT\"},{\"columnNumber\":15,\"columnName\":\"estudioobiblioteca\",\"columnTypeName\":\"VARCHAR\",\"length\":2,\"scale\":2},{\"columnNumber\":16,\"columnName\":\"garajecubierto\",\"columnTypeName\":\"VARCHAR\",\"length\":2,\"scale\":2},{\"columnNumber\":17,\"columnName\":\"garajes\",\"columnTypeName\":\"SMALLINT\"},{\"columnNumber\":18,\"columnName\":\"gimnasio\",\"columnTypeName\":\"VARCHAR\",\"length\":2,\"scale\":2},{\"columnNumber\":19,\"columnName\":\"habitaciones\",\"columnTypeName\":\"SMALLINT\"},{\"columnNumber\":20,\"columnName\":\"halldealcobasoestar\",\"columnTypeName\":\"VARCHAR\",\"length\":2,\"scale\":2},{\"columnNumber\":21,\"columnName\":\"instalaciondegas\",\"columnTypeName\":\"VARCHAR\",\"length\":10,\"scale\":10},{\"columnNumber\":22,\"columnName\":\"jacuzzi\",\"columnTypeName\":\"VARCHAR\",\"length\":2,\"scale\":2},{\"columnNumber\":23,\"columnName\":\"jardin\",\"columnTypeName\":\"VARCHAR\",\"length\":2,\"scale\":2},{\"columnNumber\":24,\"columnName\":\"latitud\",\"columnTypeName\":\"NUMBER\",\"length\":10,\"precision\":18,\"scale\":10},{\"columnNumber\":25,\"columnName\":\"longitud\",\"columnTypeName\":\"NUMBER\",\"length\":10,\"precision\":18,\"scale\":10},{\"columnNumber\":26,\"columnName\":\"numeroascensores\",\"columnTypeName\":\"SMALLINT\"},{\"columnNumber\":27,\"columnName\":\"parqueaderovisitantes\",\"columnTypeName\":\"VARCHAR\",\"length\":2,\"scale\":2},{\"columnNumber\":28,\"columnName\":\"piscina\",\"columnTypeName\":\"VARCHAR\",\"length\":2,\"scale\":2},{\"columnNumber\":29,\"columnName\":\"plantaelectrica\",\"columnTypeName\":\"VARCHAR\",\"length\":2,\"scale\":2},{\"columnNumber\":30,\"columnName\":\"porteriaovigilancia\",\"columnTypeName\":\"VARCHAR\",\"length\":10,\"scale\":10},{\"columnNumber\":31,\"columnName\":\"remodelado\",\"columnTypeName\":\"VARCHAR\",\"length\":2,\"scale\":2},{\"columnNumber\":32,\"columnName\":\"saloncomunal\",\"columnTypeName\":\"VARCHAR\",\"length\":2,\"scale\":2},{\"columnNumber\":33,\"columnName\":\"sauna_yo_turco\",\"columnTypeName\":\"VARCHAR\",\"length\":2,\"scale\":2},{\"columnNumber\":34,\"columnName\":\"terraza\",\"columnTypeName\":\"VARCHAR\",\"length\":10,\"scale\":10},{\"columnNumber\":35,\"columnName\":\"tiempodeconstruido\",\"columnTypeName\":\"VARCHAR\",\"length\":20,\"scale\":20},{\"columnNumber\":36,\"columnName\":\"tipodegaraje\",\"columnTypeName\":\"VARCHAR\",\"length\":15,\"scale\":15},{\"columnNumber\":37,\"columnName\":\"valor\",\"columnTypeName\":\"NUMBER\",\"length\":2,\"precision\":38,\"scale\":2},{\"columnNumber\":38,\"columnName\":\"valorventa\",\"columnTypeName\":\"NUMBER\",\"length\":2,\"precision\":38,\"scale\":2},{\"columnNumber\":39,\"columnName\":\"vigilancia\",\"columnTypeName\":\"VARCHAR\",\"length\":10,\"scale\":10},{\"columnNumber\":40,\"columnName\":\"vista\",\"columnTypeName\":\"VARCHAR\",\"length\":10,\"scale\":10},{\"columnNumber\":41,\"columnName\":\"zona_de_bbq\",\"columnTypeName\":\"VARCHAR\",\"length\":2,\"scale\":2},{\"columnNumber\":42,\"columnName\":\"zonadelavanderia\",\"columnTypeName\":\"VARCHAR\",\"length\":2,\"scale\":2},{\"columnNumber\":43,\"columnName\":\"zonaninos\",\"columnTypeName\":\"VARCHAR\",\"length\":2,\"scale\":2},{\"columnNumber\":44,\"columnName\":\"zonasverdes\",\"columnTypeName\":\"VARCHAR\",\"length\":2,\"scale\":2}]}"
     },
     "output_type": "execute_result"
    }
   ],
   "source": [
    "-- Primeros registros\n",
    "select top 10 * from Precio_Casas_Col;"
   ]
  },
  {
   "cell_type": "markdown",
   "id": "c66fc503",
   "metadata": {},
   "source": [
    "### Tamaño de la tabla"
   ]
  },
  {
   "cell_type": "code",
   "execution_count": 3,
   "id": "6b47f7f8",
   "metadata": {},
   "outputs": [
    {
     "data": {
      "application/vnd.teradata.resultset": "\"n\"\n\"145552\"",
      "text/html": [
       "<div class = \"td-resultset-table-div\" style = \"max-height: 100%; overflow-y: auto\">\n",
       "      <table class=\"tdhistory460821\"><style>\n",
       "      table.tdhistory460821 { display: block !important; min-height: 105px !important; overflow: auto !important; height: 105px !important; width: 100% !important; border: 1px solid rgb(207, 207, 207) !important; border-collapse: collapse !important; ; color: var(--jp-ui-font-color1) !important; }\n",
       "      th.tdhistory460821 { border: 1px solid rgb(198,198,198) !important; border-collapse: collapse !important; ; padding: 2px 5px !important; ; font-size: 13px !important; ; text-align: center !important; white-space: normal !important; color: var(--jp-ui-font-color1) !important; }\n",
       "      th.tdhistory460821:last-child { text-align: left !important; }\n",
       "      tbody.tdhistory460821 tr:nth-child(even) { background: rgba(243, 243, 243, 0.75) !important; }\n",
       "      tbody.tdhistory460821 tr:nth-child(odd) { background: var(--jp-ui-inverse-font-color1) !important; }\n",
       "      td.tdhistory460821 { border: 1px solid rgb(207, 207, 207) !important; border-collapse: collapse !important; ; padding: 2px 5px !important; ; font-size: 13px !important; ; text-align: left !important;          white-space: nowrap !important; overflow:hidden !important; text-overflow:ellipsis !important;; }\n",
       "    </style><thead><tr style= \"background: rgba(243, 243, 243, 0.75)\"><th class=\"tdhistory460821\"></th><th class=\"tdhistory460821\">n</th></tr></thead><tbody class=\"tdhistory460821 resultset-body\"><tr><th class=\"tdhistory460821\" style= \"background: rgba(243, 243, 243, 0.75)\">1</th><td class=\"tdhistory460821\">145552</td></tr></tbody></table></div>"
      ]
     },
     "execution_count": 3,
     "metadata": {
      "application/vnd.teradata.resultset": "{\"resultSetID\":\"/teradata/proyecto/Teradata/Resultsets/2023.10.06_18.31.29.838_UTC\",\"historyID\":1237,\"chunkID\":\"00001\",\"sessionid\":\"\",\"portnum\":\"\",\"dockermode\":\"standalone\",\"totalRowCount\":1,\"chunkCount\":0,\"rowLimit\":0,\"columnMetadata\":[{\"columnName\":\"n\",\"columnTypeName\":\"INTEGER\"}]}"
     },
     "output_type": "execute_result"
    }
   ],
   "source": [
    "-- Cantidad de Registros\n",
    "select count(*) n from Precio_Casas_Col;"
   ]
  },
  {
   "cell_type": "markdown",
   "id": "802777ef",
   "metadata": {},
   "source": [
    "![Slide](images/Diapositiva6.PNG)\n",
    "\n",
    "## **Explorando las Variables**"
   ]
  },
  {
   "cell_type": "code",
   "execution_count": 4,
   "id": "c554f875-1ef8-40f0-a4e6-2c7e1b6efb9f",
   "metadata": {},
   "outputs": [
    {
     "data": {
      "text/plain": [
       "Success: 0 rows affected"
      ]
     },
     "execution_count": 4,
     "metadata": {
      "application/vnd.teradata.resultset": ""
     },
     "output_type": "execute_result"
    },
    {
     "ename": "WARNING",
     "evalue": "[Teradata Database] [Warning 3212] The stored procedure returned one or more result sets.",
     "output_type": "error",
     "traceback": [
      "[Teradata Database] [Warning 3212] The stored procedure returned one or more result sets."
     ]
    },
    {
     "data": {
      "application/vnd.teradata.resultset": "\"xdb\",\"xtbl\",\"xcol\",\"xcnt\",\"xmin\",\"xmax\",\"xmean\",\"xstd\",\"xpctile0\",\"xpctile1\",\"xpctile2\",\"xpctile3\",\"xpctile4\",\"xpctile5\",\"xpctile6\",\"xpctile7\",\"xpctile8\",\"xpctile9\",\"xpctile10\",\"xpctile20\",\"xpctile25\",\"xpctile30\",\"xpctile33\",\"xpctile40\",\"xpctile50\",\"xpctile60\",\"xpctile67\",\"xpctile70\",\"xpctile75\",\"xpctile80\",\"xpctile90\",\"xpctile91\",\"xpctile92\",\"xpctile93\",\"xpctile94\",\"xpctile95\",\"xpctile96\",\"xpctile97\",\"xpctile98\",\"xpctile99\",\"xpctile100\"\n\"DW_DATA\",\"Precio_Casas_Col\",\"area\",\"145528\",\"0\",\"570000\",\"137.03326095321864\",\"2130.737446076432\",\"0\",\"32\",\"38\",\"41\",\"44\",\"46\",\"47\",\"49\",\"50\",\"51\",\"52\",\"62\",\"66.98\",\"70\",\"74\",\"80\",\"92\",\"107.2\",\"120\",\"126\",\"138\",\"155\",\"205\",\"214\",\"225\",\"238\",\"250\",\"265\",\"280\",\"300\",\"330\",\"387\",\"570000\"\n\"DW_DATA\",\"Precio_Casas_Col\",\"banos\",\"145016\",\"0\",\"52\",\"2.593003530644894\",\"1.029156717952199\",\"0\",\"1\",\"1\",\"1\",\"1\",\"1\",\"1\",\"1\",\"1\",\"1\",\"2\",\"2\",\"2\",\"2\",\"2\",\"2\",\"2\",\"3\",\"3\",\"3\",\"3\",\"3\",\"4\",\"4\",\"4\",\"4\",\"4\",\"5\",\"5\",\"5\",\"5\",\"5\",\"52\"\n\"DW_DATA\",\"Precio_Casas_Col\",\"estrato\",\"138885\",\"1\",\"7\",\"4.768556719588148\",\"1.1460584122970092\",\"1\",\"2\",\"2\",\"3\",\"3\",\"3\",\"3\",\"3\",\"3\",\"3\",\"3\",\"4\",\"4\",\"4\",\"4\",\"4\",\"5\",\"5\",\"6\",\"6\",\"6\",\"6\",\"6\",\"6\",\"6\",\"6\",\"6\",\"6\",\"6\",\"6\",\"6\",\"6\",\"7\"\n\"DW_DATA\",\"Precio_Casas_Col\",\"garajes\",\"131688\",\"1\",\"10\",\"1.750683433570257\",\"0.7736924536537729\",\"1\",\"1\",\"1\",\"1\",\"1\",\"1\",\"1\",\"1\",\"1\",\"1\",\"1\",\"1\",\"1\",\"1\",\"1\",\"1\",\"2\",\"2\",\"2\",\"2\",\"2\",\"2\",\"3\",\"3\",\"3\",\"3\",\"3\",\"3\",\"3\",\"4\",\"4\",\"4\",\"10\"\n\"DW_DATA\",\"Precio_Casas_Col\",\"habitaciones\",\"145540\",\"0\",\"86\",\"2.6066510924831663\",\"0.8653609292520794\",\"0\",\"1\",\"1\",\"1\",\"1\",\"1\",\"1\",\"1\",\"1\",\"1\",\"1\",\"2\",\"2\",\"2\",\"2\",\"3\",\"3\",\"3\",\"3\",\"3\",\"3\",\"3\",\"3\",\"3\",\"3\",\"4\",\"4\",\"4\",\"4\",\"4\",\"4\",\"4\",\"86\"\n\"DW_DATA\",\"Precio_Casas_Col\",\"valor\",\"145552\",\"0\",\"4.1e+12\",\"1.4011524507974057e+09\",\"2.8294256856694054e+10\",\"0\",\"1.15e+08\",\"1.3e+08\",\"1.45e+08\",\"1.5e+08\",\"1.6e+08\",\"1.7e+08\",\"1.83e+08\",\"1.95e+08\",\"2.05e+08\",\"2.15e+08\",\"2.85e+08\",\"3.2e+08\",\"3.5e+08\",\"3.7e+08\",\"4.16e+08\",\"4.9e+08\",\"5.99e+08\",\"6.8e+08\",\"7.2e+08\",\"8.2e+08\",\"9.305e+08\",\"1.4e+09\",\"1.478e+09\",\"1.55e+09\",\"1.6e+09\",\"1.75e+09\",\"1.9e+09\",\"2.047e+09\",\"2.35e+09\",\"2.79e+09\",\"3.5e+09\",\"4.1e+12\"",
      "text/html": [
       "<div class = \"td-resultset-table-div\" style = \"max-height: 100%; overflow-y: auto\">\n",
       "      <table class=\"tdhistory64203\"><style>\n",
       "      table.tdhistory64203 { display: block !important; min-height: 210px !important; overflow: auto !important; height: 210px !important; width: 100% !important; border: 1px solid rgb(207, 207, 207) !important; border-collapse: collapse !important; ; color: var(--jp-ui-font-color1) !important; }\n",
       "      th.tdhistory64203 { border: 1px solid rgb(198,198,198) !important; border-collapse: collapse !important; ; padding: 2px 5px !important; ; font-size: 13px !important; ; text-align: center !important; white-space: normal !important; color: var(--jp-ui-font-color1) !important; }\n",
       "      th.tdhistory64203:last-child { text-align: left !important; }\n",
       "      tbody.tdhistory64203 tr:nth-child(even) { background: rgba(243, 243, 243, 0.75) !important; }\n",
       "      tbody.tdhistory64203 tr:nth-child(odd) { background: var(--jp-ui-inverse-font-color1) !important; }\n",
       "      td.tdhistory64203 { border: 1px solid rgb(207, 207, 207) !important; border-collapse: collapse !important; ; padding: 2px 5px !important; ; font-size: 13px !important; ; text-align: left !important;          white-space: nowrap !important; overflow:hidden !important; text-overflow:ellipsis !important;; }\n",
       "    </style><thead><tr style= \"background: rgba(243, 243, 243, 0.75)\"><th class=\"tdhistory64203\"></th><th class=\"tdhistory64203\">xdb</th><th class=\"tdhistory64203\">xtbl</th><th class=\"tdhistory64203\">xcol</th><th class=\"tdhistory64203\">xcnt</th><th class=\"tdhistory64203\">xmin</th><th class=\"tdhistory64203\">xmax</th><th class=\"tdhistory64203\">xmean</th><th class=\"tdhistory64203\">xstd</th><th class=\"tdhistory64203\">xpctile0</th><th class=\"tdhistory64203\">xpctile1</th><th class=\"tdhistory64203\">xpctile2</th><th class=\"tdhistory64203\">xpctile3</th><th class=\"tdhistory64203\">xpctile4</th><th class=\"tdhistory64203\">xpctile5</th><th class=\"tdhistory64203\">xpctile6</th><th class=\"tdhistory64203\">xpctile7</th><th class=\"tdhistory64203\">xpctile8</th><th class=\"tdhistory64203\">xpctile9</th><th class=\"tdhistory64203\">xpctile10</th><th class=\"tdhistory64203\">xpctile20</th><th class=\"tdhistory64203\">xpctile25</th><th class=\"tdhistory64203\">xpctile30</th><th class=\"tdhistory64203\">xpctile33</th><th class=\"tdhistory64203\">xpctile40</th><th class=\"tdhistory64203\">xpctile50</th><th class=\"tdhistory64203\">xpctile60</th><th class=\"tdhistory64203\">xpctile67</th><th class=\"tdhistory64203\">xpctile70</th><th class=\"tdhistory64203\">xpctile75</th><th class=\"tdhistory64203\">xpctile80</th><th class=\"tdhistory64203\">xpctile90</th><th class=\"tdhistory64203\">xpctile91</th><th class=\"tdhistory64203\">xpctile92</th><th class=\"tdhistory64203\">xpctile93</th><th class=\"tdhistory64203\">xpctile94</th><th class=\"tdhistory64203\">xpctile95</th><th class=\"tdhistory64203\">xpctile96</th><th class=\"tdhistory64203\">xpctile97</th><th class=\"tdhistory64203\">xpctile98</th><th class=\"tdhistory64203\">xpctile99</th><th class=\"tdhistory64203\">xpctile100</th></tr></thead><tbody class=\"tdhistory64203 resultset-body\"><tr><th class=\"tdhistory64203\" style= \"background: rgba(243, 243, 243, 0.75)\">1</th><td class=\"tdhistory64203\">DW_DATA</td><td class=\"tdhistory64203\">Precio_Casas_Col</td><td class=\"tdhistory64203\">area</td><td class=\"tdhistory64203\">145528</td><td class=\"tdhistory64203\">0</td><td class=\"tdhistory64203\">570000</td><td class=\"tdhistory64203\">137.03326095321864</td><td class=\"tdhistory64203\">2130.737446076432</td><td class=\"tdhistory64203\">0</td><td class=\"tdhistory64203\">32</td><td class=\"tdhistory64203\">38</td><td class=\"tdhistory64203\">41</td><td class=\"tdhistory64203\">44</td><td class=\"tdhistory64203\">46</td><td class=\"tdhistory64203\">47</td><td class=\"tdhistory64203\">49</td><td class=\"tdhistory64203\">50</td><td class=\"tdhistory64203\">51</td><td class=\"tdhistory64203\">52</td><td class=\"tdhistory64203\">62</td><td class=\"tdhistory64203\">66.98</td><td class=\"tdhistory64203\">70</td><td class=\"tdhistory64203\">74</td><td class=\"tdhistory64203\">80</td><td class=\"tdhistory64203\">92</td><td class=\"tdhistory64203\">107.2</td><td class=\"tdhistory64203\">120</td><td class=\"tdhistory64203\">126</td><td class=\"tdhistory64203\">138</td><td class=\"tdhistory64203\">155</td><td class=\"tdhistory64203\">205</td><td class=\"tdhistory64203\">214</td><td class=\"tdhistory64203\">225</td><td class=\"tdhistory64203\">238</td><td class=\"tdhistory64203\">250</td><td class=\"tdhistory64203\">265</td><td class=\"tdhistory64203\">280</td><td class=\"tdhistory64203\">300</td><td class=\"tdhistory64203\">330</td><td class=\"tdhistory64203\">387</td><td class=\"tdhistory64203\">570000</td></tr><tr><th class=\"tdhistory64203\" style= \"background: rgba(243, 243, 243, 0.75)\">2</th><td class=\"tdhistory64203\">DW_DATA</td><td class=\"tdhistory64203\">Precio_Casas_Col</td><td class=\"tdhistory64203\">banos</td><td class=\"tdhistory64203\">145016</td><td class=\"tdhistory64203\">0</td><td class=\"tdhistory64203\">52</td><td class=\"tdhistory64203\">2.593003530644894</td><td class=\"tdhistory64203\">1.029156717952199</td><td class=\"tdhistory64203\">0</td><td class=\"tdhistory64203\">1</td><td class=\"tdhistory64203\">1</td><td class=\"tdhistory64203\">1</td><td class=\"tdhistory64203\">1</td><td class=\"tdhistory64203\">1</td><td class=\"tdhistory64203\">1</td><td class=\"tdhistory64203\">1</td><td class=\"tdhistory64203\">1</td><td class=\"tdhistory64203\">1</td><td class=\"tdhistory64203\">2</td><td class=\"tdhistory64203\">2</td><td class=\"tdhistory64203\">2</td><td class=\"tdhistory64203\">2</td><td class=\"tdhistory64203\">2</td><td class=\"tdhistory64203\">2</td><td class=\"tdhistory64203\">2</td><td class=\"tdhistory64203\">3</td><td class=\"tdhistory64203\">3</td><td class=\"tdhistory64203\">3</td><td class=\"tdhistory64203\">3</td><td class=\"tdhistory64203\">3</td><td class=\"tdhistory64203\">4</td><td class=\"tdhistory64203\">4</td><td class=\"tdhistory64203\">4</td><td class=\"tdhistory64203\">4</td><td class=\"tdhistory64203\">4</td><td class=\"tdhistory64203\">5</td><td class=\"tdhistory64203\">5</td><td class=\"tdhistory64203\">5</td><td class=\"tdhistory64203\">5</td><td class=\"tdhistory64203\">5</td><td class=\"tdhistory64203\">52</td></tr><tr><th class=\"tdhistory64203\" style= \"background: rgba(243, 243, 243, 0.75)\">3</th><td class=\"tdhistory64203\">DW_DATA</td><td class=\"tdhistory64203\">Precio_Casas_Col</td><td class=\"tdhistory64203\">estrato</td><td class=\"tdhistory64203\">138885</td><td class=\"tdhistory64203\">1</td><td class=\"tdhistory64203\">7</td><td class=\"tdhistory64203\">4.768556719588148</td><td class=\"tdhistory64203\">1.1460584122970092</td><td class=\"tdhistory64203\">1</td><td class=\"tdhistory64203\">2</td><td class=\"tdhistory64203\">2</td><td class=\"tdhistory64203\">3</td><td class=\"tdhistory64203\">3</td><td class=\"tdhistory64203\">3</td><td class=\"tdhistory64203\">3</td><td class=\"tdhistory64203\">3</td><td class=\"tdhistory64203\">3</td><td class=\"tdhistory64203\">3</td><td class=\"tdhistory64203\">3</td><td class=\"tdhistory64203\">4</td><td class=\"tdhistory64203\">4</td><td class=\"tdhistory64203\">4</td><td class=\"tdhistory64203\">4</td><td class=\"tdhistory64203\">4</td><td class=\"tdhistory64203\">5</td><td class=\"tdhistory64203\">5</td><td class=\"tdhistory64203\">6</td><td class=\"tdhistory64203\">6</td><td class=\"tdhistory64203\">6</td><td class=\"tdhistory64203\">6</td><td class=\"tdhistory64203\">6</td><td class=\"tdhistory64203\">6</td><td class=\"tdhistory64203\">6</td><td class=\"tdhistory64203\">6</td><td class=\"tdhistory64203\">6</td><td class=\"tdhistory64203\">6</td><td class=\"tdhistory64203\">6</td><td class=\"tdhistory64203\">6</td><td class=\"tdhistory64203\">6</td><td class=\"tdhistory64203\">6</td><td class=\"tdhistory64203\">7</td></tr><tr><th class=\"tdhistory64203\" style= \"background: rgba(243, 243, 243, 0.75)\">4</th><td class=\"tdhistory64203\">DW_DATA</td><td class=\"tdhistory64203\">Precio_Casas_Col</td><td class=\"tdhistory64203\">garajes</td><td class=\"tdhistory64203\">131688</td><td class=\"tdhistory64203\">1</td><td class=\"tdhistory64203\">10</td><td class=\"tdhistory64203\">1.750683433570257</td><td class=\"tdhistory64203\">0.7736924536537729</td><td class=\"tdhistory64203\">1</td><td class=\"tdhistory64203\">1</td><td class=\"tdhistory64203\">1</td><td class=\"tdhistory64203\">1</td><td class=\"tdhistory64203\">1</td><td class=\"tdhistory64203\">1</td><td class=\"tdhistory64203\">1</td><td class=\"tdhistory64203\">1</td><td class=\"tdhistory64203\">1</td><td class=\"tdhistory64203\">1</td><td class=\"tdhistory64203\">1</td><td class=\"tdhistory64203\">1</td><td class=\"tdhistory64203\">1</td><td class=\"tdhistory64203\">1</td><td class=\"tdhistory64203\">1</td><td class=\"tdhistory64203\">1</td><td class=\"tdhistory64203\">2</td><td class=\"tdhistory64203\">2</td><td class=\"tdhistory64203\">2</td><td class=\"tdhistory64203\">2</td><td class=\"tdhistory64203\">2</td><td class=\"tdhistory64203\">2</td><td class=\"tdhistory64203\">3</td><td class=\"tdhistory64203\">3</td><td class=\"tdhistory64203\">3</td><td class=\"tdhistory64203\">3</td><td class=\"tdhistory64203\">3</td><td class=\"tdhistory64203\">3</td><td class=\"tdhistory64203\">3</td><td class=\"tdhistory64203\">4</td><td class=\"tdhistory64203\">4</td><td class=\"tdhistory64203\">4</td><td class=\"tdhistory64203\">10</td></tr><tr><th class=\"tdhistory64203\" style= \"background: rgba(243, 243, 243, 0.75)\">5</th><td class=\"tdhistory64203\">DW_DATA</td><td class=\"tdhistory64203\">Precio_Casas_Col</td><td class=\"tdhistory64203\">habitaciones</td><td class=\"tdhistory64203\">145540</td><td class=\"tdhistory64203\">0</td><td class=\"tdhistory64203\">86</td><td class=\"tdhistory64203\">2.6066510924831663</td><td class=\"tdhistory64203\">0.8653609292520794</td><td class=\"tdhistory64203\">0</td><td class=\"tdhistory64203\">1</td><td class=\"tdhistory64203\">1</td><td class=\"tdhistory64203\">1</td><td class=\"tdhistory64203\">1</td><td class=\"tdhistory64203\">1</td><td class=\"tdhistory64203\">1</td><td class=\"tdhistory64203\">1</td><td class=\"tdhistory64203\">1</td><td class=\"tdhistory64203\">1</td><td class=\"tdhistory64203\">1</td><td class=\"tdhistory64203\">2</td><td class=\"tdhistory64203\">2</td><td class=\"tdhistory64203\">2</td><td class=\"tdhistory64203\">2</td><td class=\"tdhistory64203\">3</td><td class=\"tdhistory64203\">3</td><td class=\"tdhistory64203\">3</td><td class=\"tdhistory64203\">3</td><td class=\"tdhistory64203\">3</td><td class=\"tdhistory64203\">3</td><td class=\"tdhistory64203\">3</td><td class=\"tdhistory64203\">3</td><td class=\"tdhistory64203\">3</td><td class=\"tdhistory64203\">3</td><td class=\"tdhistory64203\">4</td><td class=\"tdhistory64203\">4</td><td class=\"tdhistory64203\">4</td><td class=\"tdhistory64203\">4</td><td class=\"tdhistory64203\">4</td><td class=\"tdhistory64203\">4</td><td class=\"tdhistory64203\">4</td><td class=\"tdhistory64203\">86</td></tr><tr><th class=\"tdhistory64203\" style= \"background: rgba(243, 243, 243, 0.75)\">6</th><td class=\"tdhistory64203\">DW_DATA</td><td class=\"tdhistory64203\">Precio_Casas_Col</td><td class=\"tdhistory64203\">valor</td><td class=\"tdhistory64203\">145552</td><td class=\"tdhistory64203\">0</td><td class=\"tdhistory64203\">4.1e+12</td><td class=\"tdhistory64203\">1.4011524507974057e+09</td><td class=\"tdhistory64203\">2.8294256856694054e+10</td><td class=\"tdhistory64203\">0</td><td class=\"tdhistory64203\">1.15e+08</td><td class=\"tdhistory64203\">1.3e+08</td><td class=\"tdhistory64203\">1.45e+08</td><td class=\"tdhistory64203\">1.5e+08</td><td class=\"tdhistory64203\">1.6e+08</td><td class=\"tdhistory64203\">1.7e+08</td><td class=\"tdhistory64203\">1.83e+08</td><td class=\"tdhistory64203\">1.95e+08</td><td class=\"tdhistory64203\">2.05e+08</td><td class=\"tdhistory64203\">2.15e+08</td><td class=\"tdhistory64203\">2.85e+08</td><td class=\"tdhistory64203\">3.2e+08</td><td class=\"tdhistory64203\">3.5e+08</td><td class=\"tdhistory64203\">3.7e+08</td><td class=\"tdhistory64203\">4.16e+08</td><td class=\"tdhistory64203\">4.9e+08</td><td class=\"tdhistory64203\">5.99e+08</td><td class=\"tdhistory64203\">6.8e+08</td><td class=\"tdhistory64203\">7.2e+08</td><td class=\"tdhistory64203\">8.2e+08</td><td class=\"tdhistory64203\">9.305e+08</td><td class=\"tdhistory64203\">1.4e+09</td><td class=\"tdhistory64203\">1.478e+09</td><td class=\"tdhistory64203\">1.55e+09</td><td class=\"tdhistory64203\">1.6e+09</td><td class=\"tdhistory64203\">1.75e+09</td><td class=\"tdhistory64203\">1.9e+09</td><td class=\"tdhistory64203\">2.047e+09</td><td class=\"tdhistory64203\">2.35e+09</td><td class=\"tdhistory64203\">2.79e+09</td><td class=\"tdhistory64203\">3.5e+09</td><td class=\"tdhistory64203\">4.1e+12</td></tr></tbody></table></div>"
      ]
     },
     "execution_count": 4,
     "metadata": {
      "application/vnd.teradata.resultset": "{\"resultSetID\":\"/teradata/proyecto/Teradata/Resultsets/2023.10.06_18.31.32.378_UTC\",\"historyID\":1238,\"chunkID\":\"00001\",\"sessionid\":\"\",\"portnum\":\"\",\"dockermode\":\"standalone\",\"totalRowCount\":6,\"chunkCount\":0,\"rowLimit\":0,\"columnMetadata\":[{\"columnName\":\"xdb\",\"columnTypeName\":\"VARCHAR\",\"length\":128,\"scale\":128},{\"columnNumber\":1,\"columnName\":\"xtbl\",\"columnTypeName\":\"VARCHAR\",\"length\":128,\"scale\":128},{\"columnNumber\":2,\"columnName\":\"xcol\",\"columnTypeName\":\"VARCHAR\",\"length\":128,\"scale\":128},{\"columnNumber\":3,\"columnName\":\"xcnt\",\"columnTypeName\":\"FLOAT\"},{\"columnNumber\":4,\"columnName\":\"xmin\",\"columnTypeName\":\"FLOAT\"},{\"columnNumber\":5,\"columnName\":\"xmax\",\"columnTypeName\":\"FLOAT\"},{\"columnNumber\":6,\"columnName\":\"xmean\",\"columnTypeName\":\"FLOAT\"},{\"columnNumber\":7,\"columnName\":\"xstd\",\"columnTypeName\":\"FLOAT\"},{\"columnNumber\":8,\"columnName\":\"xpctile0\",\"columnTypeName\":\"FLOAT\"},{\"columnNumber\":9,\"columnName\":\"xpctile1\",\"columnTypeName\":\"FLOAT\"},{\"columnNumber\":10,\"columnName\":\"xpctile2\",\"columnTypeName\":\"FLOAT\"},{\"columnNumber\":11,\"columnName\":\"xpctile3\",\"columnTypeName\":\"FLOAT\"},{\"columnNumber\":12,\"columnName\":\"xpctile4\",\"columnTypeName\":\"FLOAT\"},{\"columnNumber\":13,\"columnName\":\"xpctile5\",\"columnTypeName\":\"FLOAT\"},{\"columnNumber\":14,\"columnName\":\"xpctile6\",\"columnTypeName\":\"FLOAT\"},{\"columnNumber\":15,\"columnName\":\"xpctile7\",\"columnTypeName\":\"FLOAT\"},{\"columnNumber\":16,\"columnName\":\"xpctile8\",\"columnTypeName\":\"FLOAT\"},{\"columnNumber\":17,\"columnName\":\"xpctile9\",\"columnTypeName\":\"FLOAT\"},{\"columnNumber\":18,\"columnName\":\"xpctile10\",\"columnTypeName\":\"FLOAT\"},{\"columnNumber\":19,\"columnName\":\"xpctile20\",\"columnTypeName\":\"FLOAT\"},{\"columnNumber\":20,\"columnName\":\"xpctile25\",\"columnTypeName\":\"FLOAT\"},{\"columnNumber\":21,\"columnName\":\"xpctile30\",\"columnTypeName\":\"FLOAT\"},{\"columnNumber\":22,\"columnName\":\"xpctile33\",\"columnTypeName\":\"FLOAT\"},{\"columnNumber\":23,\"columnName\":\"xpctile40\",\"columnTypeName\":\"FLOAT\"},{\"columnNumber\":24,\"columnName\":\"xpctile50\",\"columnTypeName\":\"FLOAT\"},{\"columnNumber\":25,\"columnName\":\"xpctile60\",\"columnTypeName\":\"FLOAT\"},{\"columnNumber\":26,\"columnName\":\"xpctile67\",\"columnTypeName\":\"FLOAT\"},{\"columnNumber\":27,\"columnName\":\"xpctile70\",\"columnTypeName\":\"FLOAT\"},{\"columnNumber\":28,\"columnName\":\"xpctile75\",\"columnTypeName\":\"FLOAT\"},{\"columnNumber\":29,\"columnName\":\"xpctile80\",\"columnTypeName\":\"FLOAT\"},{\"columnNumber\":30,\"columnName\":\"xpctile90\",\"columnTypeName\":\"FLOAT\"},{\"columnNumber\":31,\"columnName\":\"xpctile91\",\"columnTypeName\":\"FLOAT\"},{\"columnNumber\":32,\"columnName\":\"xpctile92\",\"columnTypeName\":\"FLOAT\"},{\"columnNumber\":33,\"columnName\":\"xpctile93\",\"columnTypeName\":\"FLOAT\"},{\"columnNumber\":34,\"columnName\":\"xpctile94\",\"columnTypeName\":\"FLOAT\"},{\"columnNumber\":35,\"columnName\":\"xpctile95\",\"columnTypeName\":\"FLOAT\"},{\"columnNumber\":36,\"columnName\":\"xpctile96\",\"columnTypeName\":\"FLOAT\"},{\"columnNumber\":37,\"columnName\":\"xpctile97\",\"columnTypeName\":\"FLOAT\"},{\"columnNumber\":38,\"columnName\":\"xpctile98\",\"columnTypeName\":\"FLOAT\"},{\"columnNumber\":39,\"columnName\":\"xpctile99\",\"columnTypeName\":\"FLOAT\"},{\"columnNumber\":40,\"columnName\":\"xpctile100\",\"columnTypeName\":\"FLOAT\"}]}"
     },
     "output_type": "execute_result"
    }
   ],
   "source": [
    "-- Descriptivo de variables numéricas: Nos muestra las estadísticas descriptivas de las variables numéricas en nuestra tabla de datos. \n",
    "call val.td_analyze ('statistics',\n",
    "'database = DW_DATA;\n",
    "tablename = Precio_Casas_Col;\n",
    "extendedoptions = quantiles;\n",
    "columns = area, banos, estrato, habitaciones, valor, garajes;');"
   ]
  },
  {
   "cell_type": "code",
   "execution_count": 5,
   "id": "b1ca81c4-6208-49b0-9aae-2259d7980a16",
   "metadata": {},
   "outputs": [
    {
     "data": {
      "text/plain": [
       "Success: 0 rows affected"
      ]
     },
     "execution_count": 5,
     "metadata": {
      "application/vnd.teradata.resultset": ""
     },
     "output_type": "execute_result"
    },
    {
     "ename": "WARNING",
     "evalue": "[Teradata Database] [Warning 3212] The stored procedure returned one or more result sets.",
     "output_type": "error",
     "traceback": [
      "[Teradata Database] [Warning 3212] The stored procedure returned one or more result sets."
     ]
    },
    {
     "data": {
      "application/vnd.teradata.resultset": "\"xdb\",\"xtbl\",\"xcol\",\"xbin\",\"xbeg\",\"xend\",\"xcnt\",\"xpct\"\n\"DW_DATA\",\"Precio_Casas_Col\",\"area\",\"\",\"\",\"\",\"24\",\"0.016488952401890734\"\n\"DW_DATA\",\"Precio_Casas_Col\",\"area\",\"1\",\"0\",\"57000\",\"145513\",\"99.97320545234693\"\n\"DW_DATA\",\"Precio_Casas_Col\",\"area\",\"2\",\"57000\",\"114000\",\"6\",\"0.004122238100472683\"\n\"DW_DATA\",\"Precio_Casas_Col\",\"area\",\"3\",\"114000\",\"171000\",\"5\",\"0.0034351984170605692\"\n\"DW_DATA\",\"Precio_Casas_Col\",\"area\",\"4\",\"171000\",\"228000\",\"2\",\"0.0013740793668242277\"\n\"DW_DATA\",\"Precio_Casas_Col\",\"area\",\"6\",\"285000\",\"342000\",\"1\",\"0.0006870396834121139\"\n\"DW_DATA\",\"Precio_Casas_Col\",\"area\",\"10\",\"513000\",\"570000\",\"1\",\"0.0006870396834121139\"\n\"DW_DATA\",\"Precio_Casas_Col\",\"habitaciones\",\"\",\"\",\"\",\"12\",\"0.008244476200945367\"\n\"DW_DATA\",\"Precio_Casas_Col\",\"habitaciones\",\"1\",\"0\",\"8.6\",\"145528\",\"99.98351104759811\"\n\"DW_DATA\",\"Precio_Casas_Col\",\"habitaciones\",\"2\",\"8.6\",\"17.2\",\"4\",\"0.0027481587336484555\"\n\"DW_DATA\",\"Precio_Casas_Col\",\"habitaciones\",\"3\",\"17.2\",\"25.8\",\"1\",\"0.0006870396834121139\"\n\"DW_DATA\",\"Precio_Casas_Col\",\"habitaciones\",\"4\",\"25.8\",\"34.4\",\"3\",\"0.0020611190502363417\"\n\"DW_DATA\",\"Precio_Casas_Col\",\"habitaciones\",\"6\",\"43\",\"51.6\",\"1\",\"0.0006870396834121139\"\n\"DW_DATA\",\"Precio_Casas_Col\",\"habitaciones\",\"7\",\"51.6\",\"60.2\",\"1\",\"0.0006870396834121139\"\n\"DW_DATA\",\"Precio_Casas_Col\",\"habitaciones\",\"8\",\"60.2\",\"68.8\",\"1\",\"0.0006870396834121139\"\n\"DW_DATA\",\"Precio_Casas_Col\",\"habitaciones\",\"10\",\"77.4\",\"86\",\"1\",\"0.0006870396834121139\"\n\"DW_DATA\",\"Precio_Casas_Col\",\"valor\",\"1\",\"0\",\"4.1e+11\",\"145438\",\"99.92167747609102\"\n\"DW_DATA\",\"Precio_Casas_Col\",\"valor\",\"2\",\"4.1e+11\",\"8.2e+11\",\"64\",\"0.04397053973837529\"\n\"DW_DATA\",\"Precio_Casas_Col\",\"valor\",\"3\",\"8.2e+11\",\"1.23e+12\",\"32\",\"0.021985269869187644\"\n\"DW_DATA\",\"Precio_Casas_Col\",\"valor\",\"4\",\"1.23e+12\",\"1.64e+12\",\"13\",\"0.00893151588435748\"\n\"DW_DATA\",\"Precio_Casas_Col\",\"valor\",\"5\",\"1.64e+12\",\"2.05e+12\",\"4\",\"0.0027481587336484555\"\n\"DW_DATA\",\"Precio_Casas_Col\",\"valor\",\"10\",\"3.69e+12\",\"4.1e+12\",\"1\",\"0.0006870396834121139\"",
      "text/html": [
       "<div class = \"td-resultset-table-div\" style = \"max-height: 100%; overflow-y: auto\">\n",
       "      <table class=\"tdhistory413680\"><style>\n",
       "      table.tdhistory413680 { display: block !important; min-height: 546px !important; overflow: auto !important; height: 546px !important; width: 100% !important; border: 1px solid rgb(207, 207, 207) !important; border-collapse: collapse !important; ; color: var(--jp-ui-font-color1) !important; }\n",
       "      th.tdhistory413680 { border: 1px solid rgb(198,198,198) !important; border-collapse: collapse !important; ; padding: 2px 5px !important; ; font-size: 13px !important; ; text-align: center !important; white-space: normal !important; color: var(--jp-ui-font-color1) !important; }\n",
       "      th.tdhistory413680:last-child { text-align: left !important; }\n",
       "      tbody.tdhistory413680 tr:nth-child(even) { background: rgba(243, 243, 243, 0.75) !important; }\n",
       "      tbody.tdhistory413680 tr:nth-child(odd) { background: var(--jp-ui-inverse-font-color1) !important; }\n",
       "      td.tdhistory413680 { border: 1px solid rgb(207, 207, 207) !important; border-collapse: collapse !important; ; padding: 2px 5px !important; ; font-size: 13px !important; ; text-align: left !important;          white-space: nowrap !important; overflow:hidden !important; text-overflow:ellipsis !important;; }\n",
       "    </style><thead><tr style= \"background: rgba(243, 243, 243, 0.75)\"><th class=\"tdhistory413680\"></th><th class=\"tdhistory413680\">xdb</th><th class=\"tdhistory413680\">xtbl</th><th class=\"tdhistory413680\">xcol</th><th class=\"tdhistory413680\">xbin</th><th class=\"tdhistory413680\">xbeg</th><th class=\"tdhistory413680\">xend</th><th class=\"tdhistory413680\">xcnt</th><th class=\"tdhistory413680\">xpct</th></tr></thead><tbody class=\"tdhistory413680 resultset-body\"><tr><th class=\"tdhistory413680\" style= \"background: rgba(243, 243, 243, 0.75)\">1</th><td class=\"tdhistory413680\">DW_DATA</td><td class=\"tdhistory413680\">Precio_Casas_Col</td><td class=\"tdhistory413680\">area</td><td class=\"tdhistory413680\"></td><td class=\"tdhistory413680\"></td><td class=\"tdhistory413680\"></td><td class=\"tdhistory413680\">24</td><td class=\"tdhistory413680\">0.016488952401890734</td></tr><tr><th class=\"tdhistory413680\" style= \"background: rgba(243, 243, 243, 0.75)\">2</th><td class=\"tdhistory413680\">DW_DATA</td><td class=\"tdhistory413680\">Precio_Casas_Col</td><td class=\"tdhistory413680\">area</td><td class=\"tdhistory413680\">1</td><td class=\"tdhistory413680\">0</td><td class=\"tdhistory413680\">57000</td><td class=\"tdhistory413680\">145513</td><td class=\"tdhistory413680\">99.97320545234693</td></tr><tr><th class=\"tdhistory413680\" style= \"background: rgba(243, 243, 243, 0.75)\">3</th><td class=\"tdhistory413680\">DW_DATA</td><td class=\"tdhistory413680\">Precio_Casas_Col</td><td class=\"tdhistory413680\">area</td><td class=\"tdhistory413680\">2</td><td class=\"tdhistory413680\">57000</td><td class=\"tdhistory413680\">114000</td><td class=\"tdhistory413680\">6</td><td class=\"tdhistory413680\">0.004122238100472683</td></tr><tr><th class=\"tdhistory413680\" style= \"background: rgba(243, 243, 243, 0.75)\">4</th><td class=\"tdhistory413680\">DW_DATA</td><td class=\"tdhistory413680\">Precio_Casas_Col</td><td class=\"tdhistory413680\">area</td><td class=\"tdhistory413680\">3</td><td class=\"tdhistory413680\">114000</td><td class=\"tdhistory413680\">171000</td><td class=\"tdhistory413680\">5</td><td class=\"tdhistory413680\">0.0034351984170605692</td></tr><tr><th class=\"tdhistory413680\" style= \"background: rgba(243, 243, 243, 0.75)\">5</th><td class=\"tdhistory413680\">DW_DATA</td><td class=\"tdhistory413680\">Precio_Casas_Col</td><td class=\"tdhistory413680\">area</td><td class=\"tdhistory413680\">4</td><td class=\"tdhistory413680\">171000</td><td class=\"tdhistory413680\">228000</td><td class=\"tdhistory413680\">2</td><td class=\"tdhistory413680\">0.0013740793668242277</td></tr><tr><th class=\"tdhistory413680\" style= \"background: rgba(243, 243, 243, 0.75)\">6</th><td class=\"tdhistory413680\">DW_DATA</td><td class=\"tdhistory413680\">Precio_Casas_Col</td><td class=\"tdhistory413680\">area</td><td class=\"tdhistory413680\">6</td><td class=\"tdhistory413680\">285000</td><td class=\"tdhistory413680\">342000</td><td class=\"tdhistory413680\">1</td><td class=\"tdhistory413680\">0.0006870396834121139</td></tr><tr><th class=\"tdhistory413680\" style= \"background: rgba(243, 243, 243, 0.75)\">7</th><td class=\"tdhistory413680\">DW_DATA</td><td class=\"tdhistory413680\">Precio_Casas_Col</td><td class=\"tdhistory413680\">area</td><td class=\"tdhistory413680\">10</td><td class=\"tdhistory413680\">513000</td><td class=\"tdhistory413680\">570000</td><td class=\"tdhistory413680\">1</td><td class=\"tdhistory413680\">0.0006870396834121139</td></tr><tr><th class=\"tdhistory413680\" style= \"background: rgba(243, 243, 243, 0.75)\">8</th><td class=\"tdhistory413680\">DW_DATA</td><td class=\"tdhistory413680\">Precio_Casas_Col</td><td class=\"tdhistory413680\">habitaciones</td><td class=\"tdhistory413680\"></td><td class=\"tdhistory413680\"></td><td class=\"tdhistory413680\"></td><td class=\"tdhistory413680\">12</td><td class=\"tdhistory413680\">0.008244476200945367</td></tr><tr><th class=\"tdhistory413680\" style= \"background: rgba(243, 243, 243, 0.75)\">9</th><td class=\"tdhistory413680\">DW_DATA</td><td class=\"tdhistory413680\">Precio_Casas_Col</td><td class=\"tdhistory413680\">habitaciones</td><td class=\"tdhistory413680\">1</td><td class=\"tdhistory413680\">0</td><td class=\"tdhistory413680\">8.6</td><td class=\"tdhistory413680\">145528</td><td class=\"tdhistory413680\">99.98351104759811</td></tr><tr><th class=\"tdhistory413680\" style= \"background: rgba(243, 243, 243, 0.75)\">10</th><td class=\"tdhistory413680\">DW_DATA</td><td class=\"tdhistory413680\">Precio_Casas_Col</td><td class=\"tdhistory413680\">habitaciones</td><td class=\"tdhistory413680\">2</td><td class=\"tdhistory413680\">8.6</td><td class=\"tdhistory413680\">17.2</td><td class=\"tdhistory413680\">4</td><td class=\"tdhistory413680\">0.0027481587336484555</td></tr><tr><th class=\"tdhistory413680\" style= \"background: rgba(243, 243, 243, 0.75)\">11</th><td class=\"tdhistory413680\">DW_DATA</td><td class=\"tdhistory413680\">Precio_Casas_Col</td><td class=\"tdhistory413680\">habitaciones</td><td class=\"tdhistory413680\">3</td><td class=\"tdhistory413680\">17.2</td><td class=\"tdhistory413680\">25.8</td><td class=\"tdhistory413680\">1</td><td class=\"tdhistory413680\">0.0006870396834121139</td></tr><tr><th class=\"tdhistory413680\" style= \"background: rgba(243, 243, 243, 0.75)\">12</th><td class=\"tdhistory413680\">DW_DATA</td><td class=\"tdhistory413680\">Precio_Casas_Col</td><td class=\"tdhistory413680\">habitaciones</td><td class=\"tdhistory413680\">4</td><td class=\"tdhistory413680\">25.8</td><td class=\"tdhistory413680\">34.4</td><td class=\"tdhistory413680\">3</td><td class=\"tdhistory413680\">0.0020611190502363417</td></tr><tr><th class=\"tdhistory413680\" style= \"background: rgba(243, 243, 243, 0.75)\">13</th><td class=\"tdhistory413680\">DW_DATA</td><td class=\"tdhistory413680\">Precio_Casas_Col</td><td class=\"tdhistory413680\">habitaciones</td><td class=\"tdhistory413680\">6</td><td class=\"tdhistory413680\">43</td><td class=\"tdhistory413680\">51.6</td><td class=\"tdhistory413680\">1</td><td class=\"tdhistory413680\">0.0006870396834121139</td></tr><tr><th class=\"tdhistory413680\" style= \"background: rgba(243, 243, 243, 0.75)\">14</th><td class=\"tdhistory413680\">DW_DATA</td><td class=\"tdhistory413680\">Precio_Casas_Col</td><td class=\"tdhistory413680\">habitaciones</td><td class=\"tdhistory413680\">7</td><td class=\"tdhistory413680\">51.6</td><td class=\"tdhistory413680\">60.2</td><td class=\"tdhistory413680\">1</td><td class=\"tdhistory413680\">0.0006870396834121139</td></tr><tr><th class=\"tdhistory413680\" style= \"background: rgba(243, 243, 243, 0.75)\">15</th><td class=\"tdhistory413680\">DW_DATA</td><td class=\"tdhistory413680\">Precio_Casas_Col</td><td class=\"tdhistory413680\">habitaciones</td><td class=\"tdhistory413680\">8</td><td class=\"tdhistory413680\">60.2</td><td class=\"tdhistory413680\">68.8</td><td class=\"tdhistory413680\">1</td><td class=\"tdhistory413680\">0.0006870396834121139</td></tr><tr><th class=\"tdhistory413680\" style= \"background: rgba(243, 243, 243, 0.75)\">16</th><td class=\"tdhistory413680\">DW_DATA</td><td class=\"tdhistory413680\">Precio_Casas_Col</td><td class=\"tdhistory413680\">habitaciones</td><td class=\"tdhistory413680\">10</td><td class=\"tdhistory413680\">77.4</td><td class=\"tdhistory413680\">86</td><td class=\"tdhistory413680\">1</td><td class=\"tdhistory413680\">0.0006870396834121139</td></tr><tr><th class=\"tdhistory413680\" style= \"background: rgba(243, 243, 243, 0.75)\">17</th><td class=\"tdhistory413680\">DW_DATA</td><td class=\"tdhistory413680\">Precio_Casas_Col</td><td class=\"tdhistory413680\">valor</td><td class=\"tdhistory413680\">1</td><td class=\"tdhistory413680\">0</td><td class=\"tdhistory413680\">4.1e+11</td><td class=\"tdhistory413680\">145438</td><td class=\"tdhistory413680\">99.92167747609102</td></tr><tr><th class=\"tdhistory413680\" style= \"background: rgba(243, 243, 243, 0.75)\">18</th><td class=\"tdhistory413680\">DW_DATA</td><td class=\"tdhistory413680\">Precio_Casas_Col</td><td class=\"tdhistory413680\">valor</td><td class=\"tdhistory413680\">2</td><td class=\"tdhistory413680\">4.1e+11</td><td class=\"tdhistory413680\">8.2e+11</td><td class=\"tdhistory413680\">64</td><td class=\"tdhistory413680\">0.04397053973837529</td></tr><tr><th class=\"tdhistory413680\" style= \"background: rgba(243, 243, 243, 0.75)\">19</th><td class=\"tdhistory413680\">DW_DATA</td><td class=\"tdhistory413680\">Precio_Casas_Col</td><td class=\"tdhistory413680\">valor</td><td class=\"tdhistory413680\">3</td><td class=\"tdhistory413680\">8.2e+11</td><td class=\"tdhistory413680\">1.23e+12</td><td class=\"tdhistory413680\">32</td><td class=\"tdhistory413680\">0.021985269869187644</td></tr><tr><th class=\"tdhistory413680\" style= \"background: rgba(243, 243, 243, 0.75)\">20</th><td class=\"tdhistory413680\">DW_DATA</td><td class=\"tdhistory413680\">Precio_Casas_Col</td><td class=\"tdhistory413680\">valor</td><td class=\"tdhistory413680\">4</td><td class=\"tdhistory413680\">1.23e+12</td><td class=\"tdhistory413680\">1.64e+12</td><td class=\"tdhistory413680\">13</td><td class=\"tdhistory413680\">0.00893151588435748</td></tr><tr><th class=\"tdhistory413680\" style= \"background: rgba(243, 243, 243, 0.75)\">21</th><td class=\"tdhistory413680\">DW_DATA</td><td class=\"tdhistory413680\">Precio_Casas_Col</td><td class=\"tdhistory413680\">valor</td><td class=\"tdhistory413680\">5</td><td class=\"tdhistory413680\">1.64e+12</td><td class=\"tdhistory413680\">2.05e+12</td><td class=\"tdhistory413680\">4</td><td class=\"tdhistory413680\">0.0027481587336484555</td></tr><tr><th class=\"tdhistory413680\" style= \"background: rgba(243, 243, 243, 0.75)\">22</th><td class=\"tdhistory413680\">DW_DATA</td><td class=\"tdhistory413680\">Precio_Casas_Col</td><td class=\"tdhistory413680\">valor</td><td class=\"tdhistory413680\">10</td><td class=\"tdhistory413680\">3.69e+12</td><td class=\"tdhistory413680\">4.1e+12</td><td class=\"tdhistory413680\">1</td><td class=\"tdhistory413680\">0.0006870396834121139</td></tr></tbody></table></div>"
      ]
     },
     "execution_count": 5,
     "metadata": {
      "application/vnd.teradata.resultset": "{\"resultSetID\":\"/teradata/proyecto/Teradata/Resultsets/2023.10.06_18.31.33.427_UTC\",\"historyID\":1239,\"chunkID\":\"00001\",\"sessionid\":\"\",\"portnum\":\"\",\"dockermode\":\"standalone\",\"totalRowCount\":22,\"chunkCount\":0,\"rowLimit\":0,\"columnMetadata\":[{\"columnName\":\"xdb\",\"columnTypeName\":\"VARCHAR\",\"length\":128,\"scale\":128},{\"columnNumber\":1,\"columnName\":\"xtbl\",\"columnTypeName\":\"VARCHAR\",\"length\":128,\"scale\":128},{\"columnNumber\":2,\"columnName\":\"xcol\",\"columnTypeName\":\"VARCHAR\",\"length\":128,\"scale\":128},{\"columnNumber\":3,\"columnName\":\"xbin\",\"columnTypeName\":\"INTEGER\"},{\"columnNumber\":4,\"columnName\":\"xbeg\",\"columnTypeName\":\"FLOAT\"},{\"columnNumber\":5,\"columnName\":\"xend\",\"columnTypeName\":\"FLOAT\"},{\"columnNumber\":6,\"columnName\":\"xcnt\",\"columnTypeName\":\"FLOAT\"},{\"columnNumber\":7,\"columnName\":\"xpct\",\"columnTypeName\":\"FLOAT\"}]}"
     },
     "output_type": "execute_result"
    }
   ],
   "source": [
    "-- Histogramas: Nos muestra los descriptivos resultantes de agrupar en intervalos las variables numéricas de nuestra tabla de datos.\n",
    "call val.td_analyze ('histogram',\n",
    "'database = DW_DATA;\n",
    "tablename = Precio_Casas_Col;\n",
    "columns = area, valor, habitaciones;');"
   ]
  },
  {
   "cell_type": "markdown",
   "id": "1ec12eb2",
   "metadata": {},
   "source": [
    "### Distribución de Frecuencias por la Antiguedad"
   ]
  },
  {
   "cell_type": "code",
   "execution_count": 6,
   "id": "b8983bd2",
   "metadata": {},
   "outputs": [
    {
     "data": {
      "text/plain": [
       "Success: 0 rows affected"
      ]
     },
     "execution_count": 6,
     "metadata": {
      "application/vnd.teradata.resultset": ""
     },
     "output_type": "execute_result"
    },
    {
     "ename": "WARNING",
     "evalue": "[Teradata Database] [Warning 3212] The stored procedure returned one or more result sets.",
     "output_type": "error",
     "traceback": [
      "[Teradata Database] [Warning 3212] The stored procedure returned one or more result sets."
     ]
    },
    {
     "data": {
      "application/vnd.teradata.resultset": "\"xtbl\",\"xcol\",\"xval\",\"xcnt\",\"xpct\"\n\"Precio_Casas_Col\",\"antiguedad_original\",\"Entre 10 y 20 años\",\"39060\",\"26.835770034077168\"\n\"Precio_Casas_Col\",\"antiguedad_original\",\"Entre 0 y 5 años\",\"34794\",\"23.90485874464109\"\n\"Precio_Casas_Col\",\"antiguedad_original\",\"Entre 5 y 10 años\",\"24810\",\"17.045454545454547\"\n\"Precio_Casas_Col\",\"antiguedad_original\",\"Más de 20 años\",\"13516\",\"9.286028360998131\"\n\"Precio_Casas_Col\",\"antiguedad_original\",\"1 a 8 años\",\"10605\",\"7.286055842585467\"\n\"Precio_Casas_Col\",\"antiguedad_original\",\"16 a 30 años\",\"8853\",\"6.082362317247444\"\n\"Precio_Casas_Col\",\"antiguedad_original\",\"9 a 15 años\",\"7009\",\"4.815461141035506\"\n\"Precio_Casas_Col\",\"antiguedad_original\",\"Más de 30 años\",\"2471\",\"1.6976750577113333\"\n\"Precio_Casas_Col\",\"antiguedad_original\",\"Menos de 1 año\",\"2242\",\"1.5403429702099594\"\n\"Precio_Casas_Col\",\"antiguedad_original\",\"Remodelado\",\"2192\",\"1.5059909860393537\"",
      "text/html": [
       "<div class = \"td-resultset-table-div\" style = \"max-height: 100%; overflow-y: auto\">\n",
       "      <table class=\"tdhistory846144\"><style>\n",
       "      table.tdhistory846144 { display: block !important; min-height: 294px !important; overflow: auto !important; height: 294px !important; width: 100% !important; border: 1px solid rgb(207, 207, 207) !important; border-collapse: collapse !important; ; color: var(--jp-ui-font-color1) !important; }\n",
       "      th.tdhistory846144 { border: 1px solid rgb(198,198,198) !important; border-collapse: collapse !important; ; padding: 2px 5px !important; ; font-size: 13px !important; ; text-align: center !important; white-space: normal !important; color: var(--jp-ui-font-color1) !important; }\n",
       "      th.tdhistory846144:last-child { text-align: left !important; }\n",
       "      tbody.tdhistory846144 tr:nth-child(even) { background: rgba(243, 243, 243, 0.75) !important; }\n",
       "      tbody.tdhistory846144 tr:nth-child(odd) { background: var(--jp-ui-inverse-font-color1) !important; }\n",
       "      td.tdhistory846144 { border: 1px solid rgb(207, 207, 207) !important; border-collapse: collapse !important; ; padding: 2px 5px !important; ; font-size: 13px !important; ; text-align: left !important;          white-space: nowrap !important; overflow:hidden !important; text-overflow:ellipsis !important;; }\n",
       "    </style><thead><tr style= \"background: rgba(243, 243, 243, 0.75)\"><th class=\"tdhistory846144\"></th><th class=\"tdhistory846144\">xtbl</th><th class=\"tdhistory846144\">xcol</th><th class=\"tdhistory846144\">xval</th><th class=\"tdhistory846144\">xcnt</th><th class=\"tdhistory846144\">xpct</th></tr></thead><tbody class=\"tdhistory846144 resultset-body\"><tr><th class=\"tdhistory846144\" style= \"background: rgba(243, 243, 243, 0.75)\">1</th><td class=\"tdhistory846144\">Precio_Casas_Col</td><td class=\"tdhistory846144\">antiguedad_original</td><td class=\"tdhistory846144\">Entre 10 y 20 años</td><td class=\"tdhistory846144\">39060</td><td class=\"tdhistory846144\">26.835770034077168</td></tr><tr><th class=\"tdhistory846144\" style= \"background: rgba(243, 243, 243, 0.75)\">2</th><td class=\"tdhistory846144\">Precio_Casas_Col</td><td class=\"tdhistory846144\">antiguedad_original</td><td class=\"tdhistory846144\">Entre 0 y 5 años</td><td class=\"tdhistory846144\">34794</td><td class=\"tdhistory846144\">23.90485874464109</td></tr><tr><th class=\"tdhistory846144\" style= \"background: rgba(243, 243, 243, 0.75)\">3</th><td class=\"tdhistory846144\">Precio_Casas_Col</td><td class=\"tdhistory846144\">antiguedad_original</td><td class=\"tdhistory846144\">Entre 5 y 10 años</td><td class=\"tdhistory846144\">24810</td><td class=\"tdhistory846144\">17.045454545454547</td></tr><tr><th class=\"tdhistory846144\" style= \"background: rgba(243, 243, 243, 0.75)\">4</th><td class=\"tdhistory846144\">Precio_Casas_Col</td><td class=\"tdhistory846144\">antiguedad_original</td><td class=\"tdhistory846144\">Más de 20 años</td><td class=\"tdhistory846144\">13516</td><td class=\"tdhistory846144\">9.286028360998131</td></tr><tr><th class=\"tdhistory846144\" style= \"background: rgba(243, 243, 243, 0.75)\">5</th><td class=\"tdhistory846144\">Precio_Casas_Col</td><td class=\"tdhistory846144\">antiguedad_original</td><td class=\"tdhistory846144\">1 a 8 años</td><td class=\"tdhistory846144\">10605</td><td class=\"tdhistory846144\">7.286055842585467</td></tr><tr><th class=\"tdhistory846144\" style= \"background: rgba(243, 243, 243, 0.75)\">6</th><td class=\"tdhistory846144\">Precio_Casas_Col</td><td class=\"tdhistory846144\">antiguedad_original</td><td class=\"tdhistory846144\">16 a 30 años</td><td class=\"tdhistory846144\">8853</td><td class=\"tdhistory846144\">6.082362317247444</td></tr><tr><th class=\"tdhistory846144\" style= \"background: rgba(243, 243, 243, 0.75)\">7</th><td class=\"tdhistory846144\">Precio_Casas_Col</td><td class=\"tdhistory846144\">antiguedad_original</td><td class=\"tdhistory846144\">9 a 15 años</td><td class=\"tdhistory846144\">7009</td><td class=\"tdhistory846144\">4.815461141035506</td></tr><tr><th class=\"tdhistory846144\" style= \"background: rgba(243, 243, 243, 0.75)\">8</th><td class=\"tdhistory846144\">Precio_Casas_Col</td><td class=\"tdhistory846144\">antiguedad_original</td><td class=\"tdhistory846144\">Más de 30 años</td><td class=\"tdhistory846144\">2471</td><td class=\"tdhistory846144\">1.6976750577113333</td></tr><tr><th class=\"tdhistory846144\" style= \"background: rgba(243, 243, 243, 0.75)\">9</th><td class=\"tdhistory846144\">Precio_Casas_Col</td><td class=\"tdhistory846144\">antiguedad_original</td><td class=\"tdhistory846144\">Menos de 1 año</td><td class=\"tdhistory846144\">2242</td><td class=\"tdhistory846144\">1.5403429702099594</td></tr><tr><th class=\"tdhistory846144\" style= \"background: rgba(243, 243, 243, 0.75)\">10</th><td class=\"tdhistory846144\">Precio_Casas_Col</td><td class=\"tdhistory846144\">antiguedad_original</td><td class=\"tdhistory846144\">Remodelado</td><td class=\"tdhistory846144\">2192</td><td class=\"tdhistory846144\">1.5059909860393537</td></tr></tbody></table></div>"
      ]
     },
     "execution_count": 6,
     "metadata": {
      "application/vnd.teradata.resultset": "{\"resultSetID\":\"/teradata/proyecto/Teradata/Resultsets/2023.10.06_18.31.34.074_UTC\",\"historyID\":1240,\"chunkID\":\"00001\",\"sessionid\":\"\",\"portnum\":\"\",\"dockermode\":\"standalone\",\"totalRowCount\":10,\"chunkCount\":0,\"rowLimit\":0,\"columnMetadata\":[{\"columnName\":\"xtbl\",\"columnTypeName\":\"VARCHAR\",\"length\":16,\"scale\":16},{\"columnNumber\":1,\"columnName\":\"xcol\",\"columnTypeName\":\"VARCHAR\",\"length\":19,\"scale\":19},{\"columnNumber\":2,\"columnName\":\"xval\",\"columnTypeName\":\"VARCHAR\",\"length\":20,\"scale\":20},{\"columnNumber\":3,\"columnName\":\"xcnt\",\"columnTypeName\":\"FLOAT\"},{\"columnNumber\":4,\"columnName\":\"xpct\",\"columnTypeName\":\"FLOAT\"}]}"
     },
     "output_type": "execute_result"
    }
   ],
   "source": [
    "call val.td_analyze ('frequency',\n",
    "'database = DW_DATA;\n",
    "tablename = Precio_Casas_Col;\n",
    "columns = antiguedad_original;');"
   ]
  },
  {
   "cell_type": "code",
   "execution_count": 7,
   "id": "d08f2d33-2cab-4e09-93d5-aeda85e85caf",
   "metadata": {},
   "outputs": [
    {
     "data": {
      "application/vnd.teradata.resultset": "\"garajes\",\"N\"\n\"\",\"13864\"\n\"1\",\"54226\"\n\"2\",\"61358\"\n\"3\",\"11057\"\n\"4\",\"4891\"\n\"5\",\"102\"\n\"6\",\"44\"\n\"7\",\"1\"\n\"8\",\"2\"\n\"10\",\"7\"",
      "text/html": [
       "<div class = \"td-resultset-table-div\" style = \"max-height: 100%; overflow-y: auto\">\n",
       "      <table class=\"tdhistory567587\"><style>\n",
       "      table.tdhistory567587 { display: block !important; min-height: 294px !important; overflow: auto !important; height: 294px !important; width: 100% !important; border: 1px solid rgb(207, 207, 207) !important; border-collapse: collapse !important; ; color: var(--jp-ui-font-color1) !important; }\n",
       "      th.tdhistory567587 { border: 1px solid rgb(198,198,198) !important; border-collapse: collapse !important; ; padding: 2px 5px !important; ; font-size: 13px !important; ; text-align: center !important; white-space: normal !important; color: var(--jp-ui-font-color1) !important; }\n",
       "      th.tdhistory567587:last-child { text-align: left !important; }\n",
       "      tbody.tdhistory567587 tr:nth-child(even) { background: rgba(243, 243, 243, 0.75) !important; }\n",
       "      tbody.tdhistory567587 tr:nth-child(odd) { background: var(--jp-ui-inverse-font-color1) !important; }\n",
       "      td.tdhistory567587 { border: 1px solid rgb(207, 207, 207) !important; border-collapse: collapse !important; ; padding: 2px 5px !important; ; font-size: 13px !important; ; text-align: left !important;          white-space: nowrap !important; overflow:hidden !important; text-overflow:ellipsis !important;; }\n",
       "    </style><thead><tr style= \"background: rgba(243, 243, 243, 0.75)\"><th class=\"tdhistory567587\"></th><th class=\"tdhistory567587\">garajes</th><th class=\"tdhistory567587\">N</th></tr></thead><tbody class=\"tdhistory567587 resultset-body\"><tr><th class=\"tdhistory567587\" style= \"background: rgba(243, 243, 243, 0.75)\">1</th><td class=\"tdhistory567587\"></td><td class=\"tdhistory567587\">13864</td></tr><tr><th class=\"tdhistory567587\" style= \"background: rgba(243, 243, 243, 0.75)\">2</th><td class=\"tdhistory567587\">1</td><td class=\"tdhistory567587\">54226</td></tr><tr><th class=\"tdhistory567587\" style= \"background: rgba(243, 243, 243, 0.75)\">3</th><td class=\"tdhistory567587\">2</td><td class=\"tdhistory567587\">61358</td></tr><tr><th class=\"tdhistory567587\" style= \"background: rgba(243, 243, 243, 0.75)\">4</th><td class=\"tdhistory567587\">3</td><td class=\"tdhistory567587\">11057</td></tr><tr><th class=\"tdhistory567587\" style= \"background: rgba(243, 243, 243, 0.75)\">5</th><td class=\"tdhistory567587\">4</td><td class=\"tdhistory567587\">4891</td></tr><tr><th class=\"tdhistory567587\" style= \"background: rgba(243, 243, 243, 0.75)\">6</th><td class=\"tdhistory567587\">5</td><td class=\"tdhistory567587\">102</td></tr><tr><th class=\"tdhistory567587\" style= \"background: rgba(243, 243, 243, 0.75)\">7</th><td class=\"tdhistory567587\">6</td><td class=\"tdhistory567587\">44</td></tr><tr><th class=\"tdhistory567587\" style= \"background: rgba(243, 243, 243, 0.75)\">8</th><td class=\"tdhistory567587\">7</td><td class=\"tdhistory567587\">1</td></tr><tr><th class=\"tdhistory567587\" style= \"background: rgba(243, 243, 243, 0.75)\">9</th><td class=\"tdhistory567587\">8</td><td class=\"tdhistory567587\">2</td></tr><tr><th class=\"tdhistory567587\" style= \"background: rgba(243, 243, 243, 0.75)\">10</th><td class=\"tdhistory567587\">10</td><td class=\"tdhistory567587\">7</td></tr></tbody></table></div>"
      ]
     },
     "execution_count": 7,
     "metadata": {
      "application/vnd.teradata.resultset": "{\"resultSetID\":\"/teradata/proyecto/Teradata/Resultsets/2023.10.06_18.31.34.182_UTC\",\"historyID\":1241,\"chunkID\":\"00001\",\"sessionid\":\"\",\"portnum\":\"\",\"dockermode\":\"standalone\",\"totalRowCount\":10,\"chunkCount\":0,\"rowLimit\":0,\"columnMetadata\":[{\"columnName\":\"garajes\",\"columnTypeName\":\"SMALLINT\"},{\"columnNumber\":1,\"columnName\":\"N\",\"columnTypeName\":\"INTEGER\"}]}"
     },
     "output_type": "execute_result"
    }
   ],
   "source": [
    "SELECT garajes, COUNT(1) N FROM Precio_Casas_Col GROUP BY 1 ORDER BY 1;"
   ]
  },
  {
   "cell_type": "markdown",
   "id": "d4e472df-69d1-4c26-82c2-251d97c10d68",
   "metadata": {},
   "source": [
    "### Generando la Matriz de Modelo "
   ]
  },
  {
   "cell_type": "code",
   "execution_count": 8,
   "id": "4d8b83e2-af44-405a-a3dd-872fb0e4ffe0",
   "metadata": {},
   "outputs": [
    {
     "data": {
      "text/plain": [
       "Success: 0 rows affected"
      ]
     },
     "execution_count": 8,
     "metadata": {
      "application/vnd.teradata.resultset": ""
     },
     "output_type": "execute_result"
    }
   ],
   "source": [
    "CREATE TABLE precios AS (\n",
    "select id, area, habitaciones, \n",
    "CASE WHEN antiguedad_original='Entre 0 y 5 años' THEN 1 ELSE 0 END AS ant0_5,\n",
    "CASE WHEN antiguedad_original='Entre 5 y 10 años' THEN 1 ELSE 0 END AS ant5_10,\n",
    "CASE WHEN antiguedad_original='Entre 10 y 20 años' THEN 1 ELSE 0 END AS ant10_20,\n",
    "CASE WHEN antiguedad_original='Más de 20 años' THEN 1 ELSE 0 END AS ant20_mas,\n",
    "CASE WHEN antiguedad_original='Menos de 1 año' THEN 1 ELSE 0 END AS ant1_menos,\n",
    "CASE WHEN antiguedad_original='1 a 8 años' THEN 1 ELSE 0 END AS ant1_8,\n",
    "CASE WHEN antiguedad_original='9 a 15 años' THEN 1 ELSE 0 END AS ant9_15,\n",
    "CASE WHEN antiguedad_original='16 a 30 años' THEN 1 ELSE 0 END AS ant16_30,\n",
    "CASE WHEN antiguedad_original='Más de 30 años' THEN 1 ELSE 0 END AS ant30_mas,\n",
    "CASE WHEN banos is null then 0 else banos end as banos, \n",
    "CASE WHEN garajes is null then 0 else garajes end as garajes, \n",
    "CASE WHEN estrato is null then 0 else estrato end as estrato, SQRT(valor) as rvalor, SAMPLEID as sid \n",
    "FROM Precio_Casas_Col\n",
    "WHERE area between 20 and 2000 and valor between 50000000 and 5000000000\n",
    "SAMPLE RANDOMIZED ALLOCATION 0.7, 0.3\n",
    ") WITH DATA\n",
    "PRIMARY INDEX (id);"
   ]
  },
  {
   "cell_type": "code",
   "execution_count": 9,
   "id": "1a19dd4e-8a36-4ce0-854d-71f4706b74d1",
   "metadata": {},
   "outputs": [
    {
     "data": {
      "application/vnd.teradata.resultset": "\"id\",\"area\",\"habitaciones\",\"ant0_5\",\"ant5_10\",\"ant10_20\",\"ant20_mas\",\"ant1_menos\",\"ant1_8\",\"ant9_15\",\"ant16_30\",\"ant30_mas\",\"banos\",\"garajes\",\"estrato\",\"rvalor\",\"sid\"\n\"2345\",\"62\",\"2\",\"1\",\"0\",\"0\",\"0\",\"0\",\"0\",\"0\",\"0\",\"0\",\"2\",\"1\",\"4\",\"19235.384061671346\",\"1\"\n\"42252\",\"58\",\"2\",\"0\",\"0\",\"0\",\"0\",\"0\",\"0\",\"0\",\"1\",\"0\",\"1\",\"0\",\"3\",\"13416.407864998739\",\"2\"\n\"93293\",\"110\",\"3\",\"1\",\"0\",\"0\",\"0\",\"0\",\"0\",\"0\",\"0\",\"0\",\"3\",\"2\",\"5\",\"29154.759474226503\",\"1\"\n\"57342\",\"65\",\"3\",\"0\",\"1\",\"0\",\"0\",\"0\",\"0\",\"0\",\"0\",\"0\",\"2\",\"1\",\"3\",\"14832.396974191326\",\"2\"\n\"61828\",\"60\",\"3\",\"0\",\"0\",\"0\",\"0\",\"1\",\"0\",\"0\",\"0\",\"0\",\"2\",\"1\",\"3\",\"15329.709716755891\",\"1\"\n\"76449\",\"122\",\"3\",\"0\",\"0\",\"1\",\"0\",\"0\",\"0\",\"0\",\"0\",\"0\",\"4\",\"2\",\"6\",\"26457.513110645905\",\"1\"\n\"32056\",\"131\",\"2\",\"0\",\"1\",\"0\",\"0\",\"0\",\"0\",\"0\",\"0\",\"0\",\"3\",\"2\",\"6\",\"29673.22024991558\",\"1\"\n\"47819\",\"134\",\"2\",\"0\",\"0\",\"0\",\"1\",\"0\",\"0\",\"0\",\"0\",\"0\",\"3\",\"2\",\"6\",\"30166.206257996713\",\"2\"\n\"97922\",\"31\",\"2\",\"0\",\"0\",\"0\",\"0\",\"0\",\"1\",\"0\",\"0\",\"0\",\"1\",\"0\",\"3\",\"9643.650760992956\",\"2\"\n\"23675\",\"106\",\"3\",\"0\",\"0\",\"0\",\"0\",\"0\",\"1\",\"0\",\"0\",\"0\",\"3\",\"2\",\"4\",\"23237.9000772445\",\"1\"",
      "text/html": [
       "<div class = \"td-resultset-table-div\" style = \"max-height: 100%; overflow-y: auto\">\n",
       "      <table class=\"tdhistory397943\"><style>\n",
       "      table.tdhistory397943 { display: block !important; min-height: 294px !important; overflow: auto !important; height: 294px !important; width: 100% !important; border: 1px solid rgb(207, 207, 207) !important; border-collapse: collapse !important; ; color: var(--jp-ui-font-color1) !important; }\n",
       "      th.tdhistory397943 { border: 1px solid rgb(198,198,198) !important; border-collapse: collapse !important; ; padding: 2px 5px !important; ; font-size: 13px !important; ; text-align: center !important; white-space: normal !important; color: var(--jp-ui-font-color1) !important; }\n",
       "      th.tdhistory397943:last-child { text-align: left !important; }\n",
       "      tbody.tdhistory397943 tr:nth-child(even) { background: rgba(243, 243, 243, 0.75) !important; }\n",
       "      tbody.tdhistory397943 tr:nth-child(odd) { background: var(--jp-ui-inverse-font-color1) !important; }\n",
       "      td.tdhistory397943 { border: 1px solid rgb(207, 207, 207) !important; border-collapse: collapse !important; ; padding: 2px 5px !important; ; font-size: 13px !important; ; text-align: left !important;          white-space: nowrap !important; overflow:hidden !important; text-overflow:ellipsis !important;; }\n",
       "    </style><thead><tr style= \"background: rgba(243, 243, 243, 0.75)\"><th class=\"tdhistory397943\"></th><th class=\"tdhistory397943\">id</th><th class=\"tdhistory397943\">area</th><th class=\"tdhistory397943\">habitaciones</th><th class=\"tdhistory397943\">ant0_5</th><th class=\"tdhistory397943\">ant5_10</th><th class=\"tdhistory397943\">ant10_20</th><th class=\"tdhistory397943\">ant20_mas</th><th class=\"tdhistory397943\">ant1_menos</th><th class=\"tdhistory397943\">ant1_8</th><th class=\"tdhistory397943\">ant9_15</th><th class=\"tdhistory397943\">ant16_30</th><th class=\"tdhistory397943\">ant30_mas</th><th class=\"tdhistory397943\">banos</th><th class=\"tdhistory397943\">garajes</th><th class=\"tdhistory397943\">estrato</th><th class=\"tdhistory397943\">rvalor</th><th class=\"tdhistory397943\">sid</th></tr></thead><tbody class=\"tdhistory397943 resultset-body\"><tr><th class=\"tdhistory397943\" style= \"background: rgba(243, 243, 243, 0.75)\">1</th><td class=\"tdhistory397943\">2345</td><td class=\"tdhistory397943\">62</td><td class=\"tdhistory397943\">2</td><td class=\"tdhistory397943\">1</td><td class=\"tdhistory397943\">0</td><td class=\"tdhistory397943\">0</td><td class=\"tdhistory397943\">0</td><td class=\"tdhistory397943\">0</td><td class=\"tdhistory397943\">0</td><td class=\"tdhistory397943\">0</td><td class=\"tdhistory397943\">0</td><td class=\"tdhistory397943\">0</td><td class=\"tdhistory397943\">2</td><td class=\"tdhistory397943\">1</td><td class=\"tdhistory397943\">4</td><td class=\"tdhistory397943\">19235.384061671346</td><td class=\"tdhistory397943\">1</td></tr><tr><th class=\"tdhistory397943\" style= \"background: rgba(243, 243, 243, 0.75)\">2</th><td class=\"tdhistory397943\">42252</td><td class=\"tdhistory397943\">58</td><td class=\"tdhistory397943\">2</td><td class=\"tdhistory397943\">0</td><td class=\"tdhistory397943\">0</td><td class=\"tdhistory397943\">0</td><td class=\"tdhistory397943\">0</td><td class=\"tdhistory397943\">0</td><td class=\"tdhistory397943\">0</td><td class=\"tdhistory397943\">0</td><td class=\"tdhistory397943\">1</td><td class=\"tdhistory397943\">0</td><td class=\"tdhistory397943\">1</td><td class=\"tdhistory397943\">0</td><td class=\"tdhistory397943\">3</td><td class=\"tdhistory397943\">13416.407864998739</td><td class=\"tdhistory397943\">2</td></tr><tr><th class=\"tdhistory397943\" style= \"background: rgba(243, 243, 243, 0.75)\">3</th><td class=\"tdhistory397943\">93293</td><td class=\"tdhistory397943\">110</td><td class=\"tdhistory397943\">3</td><td class=\"tdhistory397943\">1</td><td class=\"tdhistory397943\">0</td><td class=\"tdhistory397943\">0</td><td class=\"tdhistory397943\">0</td><td class=\"tdhistory397943\">0</td><td class=\"tdhistory397943\">0</td><td class=\"tdhistory397943\">0</td><td class=\"tdhistory397943\">0</td><td class=\"tdhistory397943\">0</td><td class=\"tdhistory397943\">3</td><td class=\"tdhistory397943\">2</td><td class=\"tdhistory397943\">5</td><td class=\"tdhistory397943\">29154.759474226503</td><td class=\"tdhistory397943\">1</td></tr><tr><th class=\"tdhistory397943\" style= \"background: rgba(243, 243, 243, 0.75)\">4</th><td class=\"tdhistory397943\">57342</td><td class=\"tdhistory397943\">65</td><td class=\"tdhistory397943\">3</td><td class=\"tdhistory397943\">0</td><td class=\"tdhistory397943\">1</td><td class=\"tdhistory397943\">0</td><td class=\"tdhistory397943\">0</td><td class=\"tdhistory397943\">0</td><td class=\"tdhistory397943\">0</td><td class=\"tdhistory397943\">0</td><td class=\"tdhistory397943\">0</td><td class=\"tdhistory397943\">0</td><td class=\"tdhistory397943\">2</td><td class=\"tdhistory397943\">1</td><td class=\"tdhistory397943\">3</td><td class=\"tdhistory397943\">14832.396974191326</td><td class=\"tdhistory397943\">2</td></tr><tr><th class=\"tdhistory397943\" style= \"background: rgba(243, 243, 243, 0.75)\">5</th><td class=\"tdhistory397943\">61828</td><td class=\"tdhistory397943\">60</td><td class=\"tdhistory397943\">3</td><td class=\"tdhistory397943\">0</td><td class=\"tdhistory397943\">0</td><td class=\"tdhistory397943\">0</td><td class=\"tdhistory397943\">0</td><td class=\"tdhistory397943\">1</td><td class=\"tdhistory397943\">0</td><td class=\"tdhistory397943\">0</td><td class=\"tdhistory397943\">0</td><td class=\"tdhistory397943\">0</td><td class=\"tdhistory397943\">2</td><td class=\"tdhistory397943\">1</td><td class=\"tdhistory397943\">3</td><td class=\"tdhistory397943\">15329.709716755891</td><td class=\"tdhistory397943\">1</td></tr><tr><th class=\"tdhistory397943\" style= \"background: rgba(243, 243, 243, 0.75)\">6</th><td class=\"tdhistory397943\">76449</td><td class=\"tdhistory397943\">122</td><td class=\"tdhistory397943\">3</td><td class=\"tdhistory397943\">0</td><td class=\"tdhistory397943\">0</td><td class=\"tdhistory397943\">1</td><td class=\"tdhistory397943\">0</td><td class=\"tdhistory397943\">0</td><td class=\"tdhistory397943\">0</td><td class=\"tdhistory397943\">0</td><td class=\"tdhistory397943\">0</td><td class=\"tdhistory397943\">0</td><td class=\"tdhistory397943\">4</td><td class=\"tdhistory397943\">2</td><td class=\"tdhistory397943\">6</td><td class=\"tdhistory397943\">26457.513110645905</td><td class=\"tdhistory397943\">1</td></tr><tr><th class=\"tdhistory397943\" style= \"background: rgba(243, 243, 243, 0.75)\">7</th><td class=\"tdhistory397943\">32056</td><td class=\"tdhistory397943\">131</td><td class=\"tdhistory397943\">2</td><td class=\"tdhistory397943\">0</td><td class=\"tdhistory397943\">1</td><td class=\"tdhistory397943\">0</td><td class=\"tdhistory397943\">0</td><td class=\"tdhistory397943\">0</td><td class=\"tdhistory397943\">0</td><td class=\"tdhistory397943\">0</td><td class=\"tdhistory397943\">0</td><td class=\"tdhistory397943\">0</td><td class=\"tdhistory397943\">3</td><td class=\"tdhistory397943\">2</td><td class=\"tdhistory397943\">6</td><td class=\"tdhistory397943\">29673.22024991558</td><td class=\"tdhistory397943\">1</td></tr><tr><th class=\"tdhistory397943\" style= \"background: rgba(243, 243, 243, 0.75)\">8</th><td class=\"tdhistory397943\">47819</td><td class=\"tdhistory397943\">134</td><td class=\"tdhistory397943\">2</td><td class=\"tdhistory397943\">0</td><td class=\"tdhistory397943\">0</td><td class=\"tdhistory397943\">0</td><td class=\"tdhistory397943\">1</td><td class=\"tdhistory397943\">0</td><td class=\"tdhistory397943\">0</td><td class=\"tdhistory397943\">0</td><td class=\"tdhistory397943\">0</td><td class=\"tdhistory397943\">0</td><td class=\"tdhistory397943\">3</td><td class=\"tdhistory397943\">2</td><td class=\"tdhistory397943\">6</td><td class=\"tdhistory397943\">30166.206257996713</td><td class=\"tdhistory397943\">2</td></tr><tr><th class=\"tdhistory397943\" style= \"background: rgba(243, 243, 243, 0.75)\">9</th><td class=\"tdhistory397943\">97922</td><td class=\"tdhistory397943\">31</td><td class=\"tdhistory397943\">2</td><td class=\"tdhistory397943\">0</td><td class=\"tdhistory397943\">0</td><td class=\"tdhistory397943\">0</td><td class=\"tdhistory397943\">0</td><td class=\"tdhistory397943\">0</td><td class=\"tdhistory397943\">1</td><td class=\"tdhistory397943\">0</td><td class=\"tdhistory397943\">0</td><td class=\"tdhistory397943\">0</td><td class=\"tdhistory397943\">1</td><td class=\"tdhistory397943\">0</td><td class=\"tdhistory397943\">3</td><td class=\"tdhistory397943\">9643.650760992956</td><td class=\"tdhistory397943\">2</td></tr><tr><th class=\"tdhistory397943\" style= \"background: rgba(243, 243, 243, 0.75)\">10</th><td class=\"tdhistory397943\">23675</td><td class=\"tdhistory397943\">106</td><td class=\"tdhistory397943\">3</td><td class=\"tdhistory397943\">0</td><td class=\"tdhistory397943\">0</td><td class=\"tdhistory397943\">0</td><td class=\"tdhistory397943\">0</td><td class=\"tdhistory397943\">0</td><td class=\"tdhistory397943\">1</td><td class=\"tdhistory397943\">0</td><td class=\"tdhistory397943\">0</td><td class=\"tdhistory397943\">0</td><td class=\"tdhistory397943\">3</td><td class=\"tdhistory397943\">2</td><td class=\"tdhistory397943\">4</td><td class=\"tdhistory397943\">23237.9000772445</td><td class=\"tdhistory397943\">1</td></tr></tbody></table></div>"
      ]
     },
     "execution_count": 9,
     "metadata": {
      "application/vnd.teradata.resultset": "{\"resultSetID\":\"/teradata/proyecto/Teradata/Resultsets/2023.10.06_18.31.34.590_UTC\",\"historyID\":1243,\"chunkID\":\"00001\",\"sessionid\":\"\",\"portnum\":\"\",\"dockermode\":\"standalone\",\"totalRowCount\":10,\"chunkCount\":0,\"rowLimit\":0,\"columnMetadata\":[{\"columnName\":\"id\",\"columnTypeName\":\"INTEGER\"},{\"columnNumber\":1,\"columnName\":\"area\",\"columnTypeName\":\"NUMBER\",\"length\":2,\"precision\":8,\"scale\":2},{\"columnNumber\":2,\"columnName\":\"habitaciones\",\"columnTypeName\":\"SMALLINT\"},{\"columnNumber\":3,\"columnName\":\"ant0_5\",\"columnTypeName\":\"BYTEINT\"},{\"columnNumber\":4,\"columnName\":\"ant5_10\",\"columnTypeName\":\"BYTEINT\"},{\"columnNumber\":5,\"columnName\":\"ant10_20\",\"columnTypeName\":\"BYTEINT\"},{\"columnNumber\":6,\"columnName\":\"ant20_mas\",\"columnTypeName\":\"BYTEINT\"},{\"columnNumber\":7,\"columnName\":\"ant1_menos\",\"columnTypeName\":\"BYTEINT\"},{\"columnNumber\":8,\"columnName\":\"ant1_8\",\"columnTypeName\":\"BYTEINT\"},{\"columnNumber\":9,\"columnName\":\"ant9_15\",\"columnTypeName\":\"BYTEINT\"},{\"columnNumber\":10,\"columnName\":\"ant16_30\",\"columnTypeName\":\"BYTEINT\"},{\"columnNumber\":11,\"columnName\":\"ant30_mas\",\"columnTypeName\":\"BYTEINT\"},{\"columnNumber\":12,\"columnName\":\"banos\",\"columnTypeName\":\"SMALLINT\"},{\"columnNumber\":13,\"columnName\":\"garajes\",\"columnTypeName\":\"SMALLINT\"},{\"columnNumber\":14,\"columnName\":\"estrato\",\"columnTypeName\":\"SMALLINT\"},{\"columnNumber\":15,\"columnName\":\"rvalor\",\"columnTypeName\":\"FLOAT\"},{\"columnNumber\":16,\"columnName\":\"sid\",\"columnTypeName\":\"INTEGER\"}]}"
     },
     "output_type": "execute_result"
    }
   ],
   "source": [
    "-- Primeros registros\n",
    "select top 10 * from precios;"
   ]
  },
  {
   "cell_type": "markdown",
   "id": "dfd39857",
   "metadata": {},
   "source": [
    "### Matriz de Correlaciones para las variables numéricas"
   ]
  },
  {
   "cell_type": "code",
   "execution_count": 10,
   "id": "e0c0fe23",
   "metadata": {},
   "outputs": [
    {
     "data": {
      "text/plain": [
       "Success: 0 rows affected"
      ]
     },
     "execution_count": 10,
     "metadata": {
      "application/vnd.teradata.resultset": ""
     },
     "output_type": "execute_result"
    },
    {
     "ename": "WARNING",
     "evalue": "[Teradata Database] [Warning 3212] The stored procedure returned one or more result sets.",
     "output_type": "error",
     "traceback": [
      "[Teradata Database] [Warning 3212] The stored procedure returned one or more result sets."
     ]
    },
    {
     "data": {
      "application/vnd.teradata.resultset": "\"rownum\",\"rowname\",\"area\",\"habitaciones\",\"ant0_5\",\"ant5_10\",\"ant10_20\",\"ant20_mas\",\"ant1_menos\",\"ant1_8\",\"ant9_15\",\"ant16_30\",\"ant30_mas\",\"banos\",\"garajes\",\"estrato\",\"rvalor\"\n\"1\",\"area\",\"1\",\"0.44892117431780487\",\"-0.12542343685250154\",\"-0.0009472753196727276\",\"0.1203555234131434\",\"0.054202446902840595\",\"-0.04620289753347656\",\"-0.068207523387643\",\"-0.019278946200592034\",\"0.023125517119982474\",\"0.025381461872918436\",\"0.7070129215923084\",\"0.6365838200560155\",\"0.3914793352648441\",\"0.8492532855499844\"\n\"2\",\"habitaciones\",\"0.44892117431780487\",\"1\",\"-0.20772315038172348\",\"-0.01347073649536512\",\"0.11540060644250459\",\"0.05382041292505934\",\"-0.03808172092287574\",\"-0.01855968838153162\",\"0.06063721522314542\",\"0.07259381348880888\",\"0.03791579340522573\",\"0.47462441233317626\",\"0.24221308221012067\",\"-0.0027385131704829716\",\"0.29066938651111185\"\n\"3\",\"ant0_5\",\"-0.12542343685250154\",\"-0.20772315038172348\",\"1\",\"-0.2535201162133774\",\"-0.33778916393440345\",\"-0.17981105022907962\",\"-0.0700554178361283\",\"-0.1574137031959933\",\"-0.1263791511322935\",\"-0.14307467417992095\",\"-0.07385331913345859\",\"-0.05596862123506186\",\"0.02275272443486747\",\"-0.021871554428912185\",\"0.009903839348661967\"\n\"4\",\"ant5_10\",\"-0.0009472753196727276\",\"-0.01347073649536512\",\"-0.2535201162133774\",\"1\",\"-0.27327794946187806\",\"-0.14547060812978593\",\"-0.05667618437478941\",\"-0.12735072234275546\",\"-0.10224317107718926\",\"-0.11575017127372361\",\"-0.0597487597845636\",\"0.02533569585917156\",\"0.05365289546340599\",\"0.0039743858067930425\",\"0.024151871294982655\"\n\"5\",\"ant10_20\",\"0.1203555234131434\",\"0.11540060644250459\",\"-0.33778916393440345\",\"-0.27327794946187806\",\"1\",\"-0.19382444214340716\",\"-0.07551511580579665\",\"-0.16968158057483498\",\"-0.13622838215764263\",\"-0.15422505386873114\",\"-0.07960900269057342\",\"0.05676643889280223\",\"0.0368334968947268\",\"0.06753442933874032\",\"0.04938361434080131\"\n\"6\",\"ant20_mas\",\"0.054202446902840595\",\"0.05382041292505934\",\"-0.17981105022907962\",\"-0.14547060812978593\",\"-0.19382444214340716\",\"1\",\"-0.04019801027083188\",\"-0.090324458168872\",\"-0.07251673849292269\",\"-0.08209668002600042\",\"-0.042377257502142475\",\"0.020633872757788742\",\"-0.0019007134821816235\",\"-0.01291303746063324\",\"-0.005570913301543227\"\n\"7\",\"ant1_menos\",\"-0.04620289753347656\",\"-0.03808172092287574\",\"-0.0700554178361283\",\"-0.05667618437478941\",\"-0.07551511580579665\",\"-0.04019801027083188\",\"1\",\"-0.0351909276419925\",\"-0.028252937785318396\",\"-0.031985338024849964\",\"-0.016510422898256764\",\"-0.04349139657642712\",\"-0.0446298678944041\",\"-0.03222894513005722\",\"-0.027875351732119597\"\n\"8\",\"ant1_8\",\"-0.068207523387643\",\"-0.01855968838153162\",\"-0.1574137031959933\",\"-0.12735072234275546\",\"-0.16968158057483498\",\"-0.090324458168872\",\"-0.0351909276419925\",\"1\",\"-0.0634840202274749\",\"-0.07187067984156231\",\"-0.03709872683688723\",\"-0.04300387323090864\",\"-0.0491743219265092\",\"-0.03900174663356974\",\"-0.05505590177545022\"\n\"9\",\"ant9_15\",\"-0.019278946200592034\",\"0.06063721522314542\",\"-0.1263791511322935\",\"-0.10224317107718926\",\"-0.13622838215764263\",\"-0.07251673849292269\",\"-0.028252937785318396\",\"-0.0634840202274749\",\"1\",\"-0.057701174200624955\",\"-0.029784609030492477\",\"-0.011145099764206409\",\"-0.04712761826025118\",\"-0.026656537634931306\",\"-0.04503006379254112\"\n\"10\",\"ant16_30\",\"0.023125517119982474\",\"0.07259381348880888\",\"-0.14307467417992095\",\"-0.11575017127372361\",\"-0.15422505386873114\",\"-0.08209668002600042\",\"-0.031985338024849964\",\"-0.07187067984156231\",\"-0.057701174200624955\",\"1\",\"-0.03371935318787821\",\"0.008636772089271468\",\"-0.03231423640846118\",\"0.016921706286454744\",\"-0.03057547755893047\"\n\"11\",\"ant30_mas\",\"0.025381461872918436\",\"0.03791579340522573\",\"-0.07385331913345859\",\"-0.0597487597845636\",\"-0.07960900269057342\",\"-0.042377257502142475\",\"-0.016510422898256764\",\"-0.03709872683688723\",\"-0.029784609030492477\",\"-0.03371935318787821\",\"1\",\"-0.011151155815333977\",\"-0.06494314171072366\",\"-0.0027235251194160565\",\"-0.012016701394599366\"\n\"12\",\"banos\",\"0.7070129215923084\",\"0.47462441233317626\",\"-0.05596862123506186\",\"0.02533569585917156\",\"0.05676643889280223\",\"0.020633872757788742\",\"-0.04349139657642712\",\"-0.04300387323090864\",\"-0.011145099764206409\",\"0.008636772089271468\",\"-0.011151155815333977\",\"1\",\"0.632684060698948\",\"0.39547201436008067\",\"0.7179216966437586\"\n\"13\",\"garajes\",\"0.6365838200560155\",\"0.24221308221012067\",\"0.02275272443486747\",\"0.05365289546340599\",\"0.0368334968947268\",\"-0.0019007134821816235\",\"-0.0446298678944041\",\"-0.0491743219265092\",\"-0.04712761826025118\",\"-0.03231423640846118\",\"-0.06494314171072366\",\"0.632684060698948\",\"1\",\"0.47156781154749194\",\"0.7369508834954696\"\n\"14\",\"estrato\",\"0.3914793352648441\",\"-0.0027385131704829716\",\"-0.021871554428912185\",\"0.0039743858067930425\",\"0.06753442933874032\",\"-0.01291303746063324\",\"-0.03222894513005722\",\"-0.03900174663356974\",\"-0.026656537634931306\",\"0.016921706286454744\",\"-0.0027235251194160565\",\"0.39547201436008067\",\"0.47156781154749194\",\"1\",\"0.5220128802347188\"\n\"15\",\"rvalor\",\"0.8492532855499844\",\"0.29066938651111185\",\"0.009903839348661967\",\"0.024151871294982655\",\"0.04938361434080131\",\"-0.005570913301543227\",\"-0.027875351732119597\",\"-0.05505590177545022\",\"-0.04503006379254112\",\"-0.03057547755893047\",\"-0.012016701394599366\",\"0.7179216966437586\",\"0.7369508834954696\",\"0.5220128802347188\",\"1\"",
      "text/html": [
       "<div class = \"td-resultset-table-div\" style = \"max-height: 100%; overflow-y: auto\">\n",
       "      <table class=\"tdhistory120399\"><style>\n",
       "      table.tdhistory120399 { display: block !important; min-height: 399px !important; overflow: auto !important; height: 399px !important; width: 100% !important; border: 1px solid rgb(207, 207, 207) !important; border-collapse: collapse !important; ; color: var(--jp-ui-font-color1) !important; }\n",
       "      th.tdhistory120399 { border: 1px solid rgb(198,198,198) !important; border-collapse: collapse !important; ; padding: 2px 5px !important; ; font-size: 13px !important; ; text-align: center !important; white-space: normal !important; color: var(--jp-ui-font-color1) !important; }\n",
       "      th.tdhistory120399:last-child { text-align: left !important; }\n",
       "      tbody.tdhistory120399 tr:nth-child(even) { background: rgba(243, 243, 243, 0.75) !important; }\n",
       "      tbody.tdhistory120399 tr:nth-child(odd) { background: var(--jp-ui-inverse-font-color1) !important; }\n",
       "      td.tdhistory120399 { border: 1px solid rgb(207, 207, 207) !important; border-collapse: collapse !important; ; padding: 2px 5px !important; ; font-size: 13px !important; ; text-align: left !important;          white-space: nowrap !important; overflow:hidden !important; text-overflow:ellipsis !important;; }\n",
       "    </style><thead><tr style= \"background: rgba(243, 243, 243, 0.75)\"><th class=\"tdhistory120399\"></th><th class=\"tdhistory120399\">rownum</th><th class=\"tdhistory120399\">rowname</th><th class=\"tdhistory120399\">area</th><th class=\"tdhistory120399\">habitaciones</th><th class=\"tdhistory120399\">ant0_5</th><th class=\"tdhistory120399\">ant5_10</th><th class=\"tdhistory120399\">ant10_20</th><th class=\"tdhistory120399\">ant20_mas</th><th class=\"tdhistory120399\">ant1_menos</th><th class=\"tdhistory120399\">ant1_8</th><th class=\"tdhistory120399\">ant9_15</th><th class=\"tdhistory120399\">ant16_30</th><th class=\"tdhistory120399\">ant30_mas</th><th class=\"tdhistory120399\">banos</th><th class=\"tdhistory120399\">garajes</th><th class=\"tdhistory120399\">estrato</th><th class=\"tdhistory120399\">rvalor</th></tr></thead><tbody class=\"tdhistory120399 resultset-body\"><tr><th class=\"tdhistory120399\" style= \"background: rgba(243, 243, 243, 0.75)\">1</th><td class=\"tdhistory120399\">1</td><td class=\"tdhistory120399\">area</td><td class=\"tdhistory120399\">1</td><td class=\"tdhistory120399\">0.44892117431780487</td><td class=\"tdhistory120399\">-0.12542343685250154</td><td class=\"tdhistory120399\">-0.0009472753196727276</td><td class=\"tdhistory120399\">0.1203555234131434</td><td class=\"tdhistory120399\">0.054202446902840595</td><td class=\"tdhistory120399\">-0.04620289753347656</td><td class=\"tdhistory120399\">-0.068207523387643</td><td class=\"tdhistory120399\">-0.019278946200592034</td><td class=\"tdhistory120399\">0.023125517119982474</td><td class=\"tdhistory120399\">0.025381461872918436</td><td class=\"tdhistory120399\">0.7070129215923084</td><td class=\"tdhistory120399\">0.6365838200560155</td><td class=\"tdhistory120399\">0.3914793352648441</td><td class=\"tdhistory120399\">0.8492532855499844</td></tr><tr><th class=\"tdhistory120399\" style= \"background: rgba(243, 243, 243, 0.75)\">2</th><td class=\"tdhistory120399\">2</td><td class=\"tdhistory120399\">habitaciones</td><td class=\"tdhistory120399\">0.44892117431780487</td><td class=\"tdhistory120399\">1</td><td class=\"tdhistory120399\">-0.20772315038172348</td><td class=\"tdhistory120399\">-0.01347073649536512</td><td class=\"tdhistory120399\">0.11540060644250459</td><td class=\"tdhistory120399\">0.05382041292505934</td><td class=\"tdhistory120399\">-0.03808172092287574</td><td class=\"tdhistory120399\">-0.01855968838153162</td><td class=\"tdhistory120399\">0.06063721522314542</td><td class=\"tdhistory120399\">0.07259381348880888</td><td class=\"tdhistory120399\">0.03791579340522573</td><td class=\"tdhistory120399\">0.47462441233317626</td><td class=\"tdhistory120399\">0.24221308221012067</td><td class=\"tdhistory120399\">-0.0027385131704829716</td><td class=\"tdhistory120399\">0.29066938651111185</td></tr><tr><th class=\"tdhistory120399\" style= \"background: rgba(243, 243, 243, 0.75)\">3</th><td class=\"tdhistory120399\">3</td><td class=\"tdhistory120399\">ant0_5</td><td class=\"tdhistory120399\">-0.12542343685250154</td><td class=\"tdhistory120399\">-0.20772315038172348</td><td class=\"tdhistory120399\">1</td><td class=\"tdhistory120399\">-0.2535201162133774</td><td class=\"tdhistory120399\">-0.33778916393440345</td><td class=\"tdhistory120399\">-0.17981105022907962</td><td class=\"tdhistory120399\">-0.0700554178361283</td><td class=\"tdhistory120399\">-0.1574137031959933</td><td class=\"tdhistory120399\">-0.1263791511322935</td><td class=\"tdhistory120399\">-0.14307467417992095</td><td class=\"tdhistory120399\">-0.07385331913345859</td><td class=\"tdhistory120399\">-0.05596862123506186</td><td class=\"tdhistory120399\">0.02275272443486747</td><td class=\"tdhistory120399\">-0.021871554428912185</td><td class=\"tdhistory120399\">0.009903839348661967</td></tr><tr><th class=\"tdhistory120399\" style= \"background: rgba(243, 243, 243, 0.75)\">4</th><td class=\"tdhistory120399\">4</td><td class=\"tdhistory120399\">ant5_10</td><td class=\"tdhistory120399\">-0.0009472753196727276</td><td class=\"tdhistory120399\">-0.01347073649536512</td><td class=\"tdhistory120399\">-0.2535201162133774</td><td class=\"tdhistory120399\">1</td><td class=\"tdhistory120399\">-0.27327794946187806</td><td class=\"tdhistory120399\">-0.14547060812978593</td><td class=\"tdhistory120399\">-0.05667618437478941</td><td class=\"tdhistory120399\">-0.12735072234275546</td><td class=\"tdhistory120399\">-0.10224317107718926</td><td class=\"tdhistory120399\">-0.11575017127372361</td><td class=\"tdhistory120399\">-0.0597487597845636</td><td class=\"tdhistory120399\">0.02533569585917156</td><td class=\"tdhistory120399\">0.05365289546340599</td><td class=\"tdhistory120399\">0.0039743858067930425</td><td class=\"tdhistory120399\">0.024151871294982655</td></tr><tr><th class=\"tdhistory120399\" style= \"background: rgba(243, 243, 243, 0.75)\">5</th><td class=\"tdhistory120399\">5</td><td class=\"tdhistory120399\">ant10_20</td><td class=\"tdhistory120399\">0.1203555234131434</td><td class=\"tdhistory120399\">0.11540060644250459</td><td class=\"tdhistory120399\">-0.33778916393440345</td><td class=\"tdhistory120399\">-0.27327794946187806</td><td class=\"tdhistory120399\">1</td><td class=\"tdhistory120399\">-0.19382444214340716</td><td class=\"tdhistory120399\">-0.07551511580579665</td><td class=\"tdhistory120399\">-0.16968158057483498</td><td class=\"tdhistory120399\">-0.13622838215764263</td><td class=\"tdhistory120399\">-0.15422505386873114</td><td class=\"tdhistory120399\">-0.07960900269057342</td><td class=\"tdhistory120399\">0.05676643889280223</td><td class=\"tdhistory120399\">0.0368334968947268</td><td class=\"tdhistory120399\">0.06753442933874032</td><td class=\"tdhistory120399\">0.04938361434080131</td></tr><tr><th class=\"tdhistory120399\" style= \"background: rgba(243, 243, 243, 0.75)\">6</th><td class=\"tdhistory120399\">6</td><td class=\"tdhistory120399\">ant20_mas</td><td class=\"tdhistory120399\">0.054202446902840595</td><td class=\"tdhistory120399\">0.05382041292505934</td><td class=\"tdhistory120399\">-0.17981105022907962</td><td class=\"tdhistory120399\">-0.14547060812978593</td><td class=\"tdhistory120399\">-0.19382444214340716</td><td class=\"tdhistory120399\">1</td><td class=\"tdhistory120399\">-0.04019801027083188</td><td class=\"tdhistory120399\">-0.090324458168872</td><td class=\"tdhistory120399\">-0.07251673849292269</td><td class=\"tdhistory120399\">-0.08209668002600042</td><td class=\"tdhistory120399\">-0.042377257502142475</td><td class=\"tdhistory120399\">0.020633872757788742</td><td class=\"tdhistory120399\">-0.0019007134821816235</td><td class=\"tdhistory120399\">-0.01291303746063324</td><td class=\"tdhistory120399\">-0.005570913301543227</td></tr><tr><th class=\"tdhistory120399\" style= \"background: rgba(243, 243, 243, 0.75)\">7</th><td class=\"tdhistory120399\">7</td><td class=\"tdhistory120399\">ant1_menos</td><td class=\"tdhistory120399\">-0.04620289753347656</td><td class=\"tdhistory120399\">-0.03808172092287574</td><td class=\"tdhistory120399\">-0.0700554178361283</td><td class=\"tdhistory120399\">-0.05667618437478941</td><td class=\"tdhistory120399\">-0.07551511580579665</td><td class=\"tdhistory120399\">-0.04019801027083188</td><td class=\"tdhistory120399\">1</td><td class=\"tdhistory120399\">-0.0351909276419925</td><td class=\"tdhistory120399\">-0.028252937785318396</td><td class=\"tdhistory120399\">-0.031985338024849964</td><td class=\"tdhistory120399\">-0.016510422898256764</td><td class=\"tdhistory120399\">-0.04349139657642712</td><td class=\"tdhistory120399\">-0.0446298678944041</td><td class=\"tdhistory120399\">-0.03222894513005722</td><td class=\"tdhistory120399\">-0.027875351732119597</td></tr><tr><th class=\"tdhistory120399\" style= \"background: rgba(243, 243, 243, 0.75)\">8</th><td class=\"tdhistory120399\">8</td><td class=\"tdhistory120399\">ant1_8</td><td class=\"tdhistory120399\">-0.068207523387643</td><td class=\"tdhistory120399\">-0.01855968838153162</td><td class=\"tdhistory120399\">-0.1574137031959933</td><td class=\"tdhistory120399\">-0.12735072234275546</td><td class=\"tdhistory120399\">-0.16968158057483498</td><td class=\"tdhistory120399\">-0.090324458168872</td><td class=\"tdhistory120399\">-0.0351909276419925</td><td class=\"tdhistory120399\">1</td><td class=\"tdhistory120399\">-0.0634840202274749</td><td class=\"tdhistory120399\">-0.07187067984156231</td><td class=\"tdhistory120399\">-0.03709872683688723</td><td class=\"tdhistory120399\">-0.04300387323090864</td><td class=\"tdhistory120399\">-0.0491743219265092</td><td class=\"tdhistory120399\">-0.03900174663356974</td><td class=\"tdhistory120399\">-0.05505590177545022</td></tr><tr><th class=\"tdhistory120399\" style= \"background: rgba(243, 243, 243, 0.75)\">9</th><td class=\"tdhistory120399\">9</td><td class=\"tdhistory120399\">ant9_15</td><td class=\"tdhistory120399\">-0.019278946200592034</td><td class=\"tdhistory120399\">0.06063721522314542</td><td class=\"tdhistory120399\">-0.1263791511322935</td><td class=\"tdhistory120399\">-0.10224317107718926</td><td class=\"tdhistory120399\">-0.13622838215764263</td><td class=\"tdhistory120399\">-0.07251673849292269</td><td class=\"tdhistory120399\">-0.028252937785318396</td><td class=\"tdhistory120399\">-0.0634840202274749</td><td class=\"tdhistory120399\">1</td><td class=\"tdhistory120399\">-0.057701174200624955</td><td class=\"tdhistory120399\">-0.029784609030492477</td><td class=\"tdhistory120399\">-0.011145099764206409</td><td class=\"tdhistory120399\">-0.04712761826025118</td><td class=\"tdhistory120399\">-0.026656537634931306</td><td class=\"tdhistory120399\">-0.04503006379254112</td></tr><tr><th class=\"tdhistory120399\" style= \"background: rgba(243, 243, 243, 0.75)\">10</th><td class=\"tdhistory120399\">10</td><td class=\"tdhistory120399\">ant16_30</td><td class=\"tdhistory120399\">0.023125517119982474</td><td class=\"tdhistory120399\">0.07259381348880888</td><td class=\"tdhistory120399\">-0.14307467417992095</td><td class=\"tdhistory120399\">-0.11575017127372361</td><td class=\"tdhistory120399\">-0.15422505386873114</td><td class=\"tdhistory120399\">-0.08209668002600042</td><td class=\"tdhistory120399\">-0.031985338024849964</td><td class=\"tdhistory120399\">-0.07187067984156231</td><td class=\"tdhistory120399\">-0.057701174200624955</td><td class=\"tdhistory120399\">1</td><td class=\"tdhistory120399\">-0.03371935318787821</td><td class=\"tdhistory120399\">0.008636772089271468</td><td class=\"tdhistory120399\">-0.03231423640846118</td><td class=\"tdhistory120399\">0.016921706286454744</td><td class=\"tdhistory120399\">-0.03057547755893047</td></tr><tr><th class=\"tdhistory120399\" style= \"background: rgba(243, 243, 243, 0.75)\">11</th><td class=\"tdhistory120399\">11</td><td class=\"tdhistory120399\">ant30_mas</td><td class=\"tdhistory120399\">0.025381461872918436</td><td class=\"tdhistory120399\">0.03791579340522573</td><td class=\"tdhistory120399\">-0.07385331913345859</td><td class=\"tdhistory120399\">-0.0597487597845636</td><td class=\"tdhistory120399\">-0.07960900269057342</td><td class=\"tdhistory120399\">-0.042377257502142475</td><td class=\"tdhistory120399\">-0.016510422898256764</td><td class=\"tdhistory120399\">-0.03709872683688723</td><td class=\"tdhistory120399\">-0.029784609030492477</td><td class=\"tdhistory120399\">-0.03371935318787821</td><td class=\"tdhistory120399\">1</td><td class=\"tdhistory120399\">-0.011151155815333977</td><td class=\"tdhistory120399\">-0.06494314171072366</td><td class=\"tdhistory120399\">-0.0027235251194160565</td><td class=\"tdhistory120399\">-0.012016701394599366</td></tr><tr><th class=\"tdhistory120399\" style= \"background: rgba(243, 243, 243, 0.75)\">12</th><td class=\"tdhistory120399\">12</td><td class=\"tdhistory120399\">banos</td><td class=\"tdhistory120399\">0.7070129215923084</td><td class=\"tdhistory120399\">0.47462441233317626</td><td class=\"tdhistory120399\">-0.05596862123506186</td><td class=\"tdhistory120399\">0.02533569585917156</td><td class=\"tdhistory120399\">0.05676643889280223</td><td class=\"tdhistory120399\">0.020633872757788742</td><td class=\"tdhistory120399\">-0.04349139657642712</td><td class=\"tdhistory120399\">-0.04300387323090864</td><td class=\"tdhistory120399\">-0.011145099764206409</td><td class=\"tdhistory120399\">0.008636772089271468</td><td class=\"tdhistory120399\">-0.011151155815333977</td><td class=\"tdhistory120399\">1</td><td class=\"tdhistory120399\">0.632684060698948</td><td class=\"tdhistory120399\">0.39547201436008067</td><td class=\"tdhistory120399\">0.7179216966437586</td></tr><tr><th class=\"tdhistory120399\" style= \"background: rgba(243, 243, 243, 0.75)\">13</th><td class=\"tdhistory120399\">13</td><td class=\"tdhistory120399\">garajes</td><td class=\"tdhistory120399\">0.6365838200560155</td><td class=\"tdhistory120399\">0.24221308221012067</td><td class=\"tdhistory120399\">0.02275272443486747</td><td class=\"tdhistory120399\">0.05365289546340599</td><td class=\"tdhistory120399\">0.0368334968947268</td><td class=\"tdhistory120399\">-0.0019007134821816235</td><td class=\"tdhistory120399\">-0.0446298678944041</td><td class=\"tdhistory120399\">-0.0491743219265092</td><td class=\"tdhistory120399\">-0.04712761826025118</td><td class=\"tdhistory120399\">-0.03231423640846118</td><td class=\"tdhistory120399\">-0.06494314171072366</td><td class=\"tdhistory120399\">0.632684060698948</td><td class=\"tdhistory120399\">1</td><td class=\"tdhistory120399\">0.47156781154749194</td><td class=\"tdhistory120399\">0.7369508834954696</td></tr><tr><th class=\"tdhistory120399\" style= \"background: rgba(243, 243, 243, 0.75)\">14</th><td class=\"tdhistory120399\">14</td><td class=\"tdhistory120399\">estrato</td><td class=\"tdhistory120399\">0.3914793352648441</td><td class=\"tdhistory120399\">-0.0027385131704829716</td><td class=\"tdhistory120399\">-0.021871554428912185</td><td class=\"tdhistory120399\">0.0039743858067930425</td><td class=\"tdhistory120399\">0.06753442933874032</td><td class=\"tdhistory120399\">-0.01291303746063324</td><td class=\"tdhistory120399\">-0.03222894513005722</td><td class=\"tdhistory120399\">-0.03900174663356974</td><td class=\"tdhistory120399\">-0.026656537634931306</td><td class=\"tdhistory120399\">0.016921706286454744</td><td class=\"tdhistory120399\">-0.0027235251194160565</td><td class=\"tdhistory120399\">0.39547201436008067</td><td class=\"tdhistory120399\">0.47156781154749194</td><td class=\"tdhistory120399\">1</td><td class=\"tdhistory120399\">0.5220128802347188</td></tr><tr><th class=\"tdhistory120399\" style= \"background: rgba(243, 243, 243, 0.75)\">15</th><td class=\"tdhistory120399\">15</td><td class=\"tdhistory120399\">rvalor</td><td class=\"tdhistory120399\">0.8492532855499844</td><td class=\"tdhistory120399\">0.29066938651111185</td><td class=\"tdhistory120399\">0.009903839348661967</td><td class=\"tdhistory120399\">0.024151871294982655</td><td class=\"tdhistory120399\">0.04938361434080131</td><td class=\"tdhistory120399\">-0.005570913301543227</td><td class=\"tdhistory120399\">-0.027875351732119597</td><td class=\"tdhistory120399\">-0.05505590177545022</td><td class=\"tdhistory120399\">-0.04503006379254112</td><td class=\"tdhistory120399\">-0.03057547755893047</td><td class=\"tdhistory120399\">-0.012016701394599366</td><td class=\"tdhistory120399\">0.7179216966437586</td><td class=\"tdhistory120399\">0.7369508834954696</td><td class=\"tdhistory120399\">0.5220128802347188</td><td class=\"tdhistory120399\">1</td></tr></tbody></table></div>"
      ]
     },
     "execution_count": 10,
     "metadata": {
      "application/vnd.teradata.resultset": "{\"resultSetID\":\"/teradata/proyecto/Teradata/Resultsets/2023.10.06_18.31.35.211_UTC\",\"historyID\":1244,\"chunkID\":\"00001\",\"sessionid\":\"\",\"portnum\":\"\",\"dockermode\":\"standalone\",\"totalRowCount\":15,\"chunkCount\":0,\"rowLimit\":0,\"columnMetadata\":[{\"columnName\":\"rownum\",\"columnTypeName\":\"INTEGER\"},{\"columnNumber\":1,\"columnName\":\"rowname\",\"columnTypeName\":\"VARCHAR\",\"length\":513,\"scale\":513},{\"columnNumber\":2,\"columnName\":\"area\",\"columnTypeName\":\"FLOAT\"},{\"columnNumber\":3,\"columnName\":\"habitaciones\",\"columnTypeName\":\"FLOAT\"},{\"columnNumber\":4,\"columnName\":\"ant0_5\",\"columnTypeName\":\"FLOAT\"},{\"columnNumber\":5,\"columnName\":\"ant5_10\",\"columnTypeName\":\"FLOAT\"},{\"columnNumber\":6,\"columnName\":\"ant10_20\",\"columnTypeName\":\"FLOAT\"},{\"columnNumber\":7,\"columnName\":\"ant20_mas\",\"columnTypeName\":\"FLOAT\"},{\"columnNumber\":8,\"columnName\":\"ant1_menos\",\"columnTypeName\":\"FLOAT\"},{\"columnNumber\":9,\"columnName\":\"ant1_8\",\"columnTypeName\":\"FLOAT\"},{\"columnNumber\":10,\"columnName\":\"ant9_15\",\"columnTypeName\":\"FLOAT\"},{\"columnNumber\":11,\"columnName\":\"ant16_30\",\"columnTypeName\":\"FLOAT\"},{\"columnNumber\":12,\"columnName\":\"ant30_mas\",\"columnTypeName\":\"FLOAT\"},{\"columnNumber\":13,\"columnName\":\"banos\",\"columnTypeName\":\"FLOAT\"},{\"columnNumber\":14,\"columnName\":\"garajes\",\"columnTypeName\":\"FLOAT\"},{\"columnNumber\":15,\"columnName\":\"estrato\",\"columnTypeName\":\"FLOAT\"},{\"columnNumber\":16,\"columnName\":\"rvalor\",\"columnTypeName\":\"FLOAT\"}]}"
     },
     "output_type": "execute_result"
    }
   ],
   "source": [
    "call val.td_analyze ('matrix',\n",
    "'database = DW_DATA;\n",
    "tablename = precios;\n",
    "columns = allnumeric;\n",
    "columnstoexclude = id, sid;\n",
    "matrixtype = COR;');"
   ]
  },
  {
   "cell_type": "markdown",
   "id": "7ee58ff4-c223-4ac0-b9c5-971ddb8e4e3f",
   "metadata": {},
   "source": [
    "### División en Muestras Train y Test"
   ]
  },
  {
   "cell_type": "code",
   "execution_count": 11,
   "id": "cdc8ae2b-14e5-4aba-8a3f-49f95e1760f8",
   "metadata": {},
   "outputs": [
    {
     "data": {
      "text/plain": [
       "Success: 0 rows affected"
      ]
     },
     "execution_count": 11,
     "metadata": {
      "application/vnd.teradata.resultset": ""
     },
     "output_type": "execute_result"
    }
   ],
   "source": [
    "-- Muestra de Entrenamiento\n",
    "CREATE MULTISET TABLE tch_train AS (SELECT * FROM precios WHERE SID = 1) WITH DATA\n",
    "PRIMARY INDEX (id);"
   ]
  },
  {
   "cell_type": "code",
   "execution_count": 12,
   "id": "30da0e89-57d6-4dfe-875b-ac1373b4a404",
   "metadata": {},
   "outputs": [
    {
     "data": {
      "text/plain": [
       "Success: 0 rows affected"
      ]
     },
     "execution_count": 12,
     "metadata": {
      "application/vnd.teradata.resultset": ""
     },
     "output_type": "execute_result"
    }
   ],
   "source": [
    "-- Muestra de Test\n",
    "CREATE MULTISET TABLE tch_test AS (SELECT * FROM precios WHERE SID = 2) WITH DATA\n",
    "PRIMARY INDEX (id);"
   ]
  },
  {
   "cell_type": "markdown",
   "id": "291c2112",
   "metadata": {},
   "source": [
    "<font color='red'/>\n",
    "\n",
    "## **Entrenamiento del Modelo (In-Database)**"
   ]
  },
  {
   "cell_type": "markdown",
   "id": "815a62bd-18cf-4e59-b79f-951a4920c3af",
   "metadata": {},
   "source": [
    "### Generación del Modelo de Estimación de Precios utilizando Regresión Lineal Múltiple con Selección de Variables Stepwise"
   ]
  },
  {
   "cell_type": "code",
   "execution_count": 13,
   "id": "2df58ee7",
   "metadata": {},
   "outputs": [
    {
     "data": {
      "text/plain": [
       "Success: 0 rows affected"
      ]
     },
     "execution_count": 13,
     "metadata": {
      "application/vnd.teradata.resultset": ""
     },
     "output_type": "execute_result"
    }
   ],
   "source": [
    "call val.td_analyze('linear',\n",
    "'database=DW_DATA;\n",
    "tablename=tch_train;\n",
    "columns= all;\n",
    "columnstoexclude=id,sid;\n",
    "dependent=rvalor;\n",
    "statstable=true;\n",
    "stepwise=true;\n",
    "outputdatabase=DW_DATA;\n",
    "outputtablename=linearmodel;');"
   ]
  },
  {
   "cell_type": "code",
   "execution_count": 14,
   "id": "19bf51b4-b37a-4f89-b5ef-c71f035d259c",
   "metadata": {},
   "outputs": [
    {
     "data": {
      "application/vnd.teradata.resultset": "\"Column Name\",\"B Coefficient\",\"Standard Error\",\"T Statistic\",\"P-Value\",\"Lower\",\"Upper\",\"Standard Coefficient\",\"Incremental R-Squared\",\"Squared Multiple Correlation Coefficient (1-Tolerance)\"\n\"ant1_menos\",\"702.379819946444\",\"143.10676636214\",\"4.90808253027694\",\"9.21144798216034e-07\",\"421.89234282301\",\"982.867297069879\",\"0.00913437689042379\",\"0.826014221412891\",\"0.505268132023353\"\n\"(Constant)\",\"7794.54853625224\",\"116.080447821923\",\"67.1478158682653\",\"0\",\"7567.03230637296\",\"8022.06476613152\",\"0\",\"0\",\"0\"\n\"ant9_15\",\"-1065.91839892139\",\"116.946736125879\",\"-9.11456304153763\",\"8.03844581196241e-20\",\"-1295.13254307136\",\"-836.704254771418\",\"-0.0241079579185127\",\"0.827232651155918\",\"0.755062724307928\"\n\"ant30_mas\",\"-1075.14467302397\",\"140.518463809923\",\"-7.65126976109206\",\"2.00760898309991e-14\",\"-1350.55910942852\",\"-799.730236619428\",\"-0.0145333126289335\",\"0.827332967351767\",\"0.525056637141559\"\n\"banos\",\"1348.12685401576\",\"19.2472283262078\",\"70.0426487994688\",\"0\",\"1310.4025265638\",\"1385.85118146772\",\"0.146723132869069\",\"0.818238205320555\",\"0.60949017408321\"\n\"ant20_mas\",\"-1605.73264058718\",\"109.883534449324\",\"-14.6130414227594\",\"2.59942720143665e-48\",\"-1821.10299754922\",\"-1390.36228362514\",\"-0.0495672612945957\",\"0.827108756372242\",\"0.851065466496\"\n\"ant16_30\",\"-1886.79534149785\",\"113.872387440312\",\"-16.5693842371298\",\"1.40005687048635e-61\",\"-2109.98380056994\",\"-1663.60688242576\",\"-0.0479631855187001\",\"0.826913765176133\",\"0.795496509153128\"\n\"area\",\"80.2975875637141\",\"0.269202104660625\",\"298.279939768461\",\"0\",\"79.7699547962914\",\"80.8252203311369\",\"0.619824972984509\",\"0.724001983214723\",\"0.603161335450349\"\n\"ant5_10\",\"-413.946798828158\",\"106.679251958255\",\"-3.88029341441335\",\"0.000104396852580896\",\"-623.036802074169\",\"-204.856795582147\",\"-0.0164260791333165\",\"0.825431510711935\",\"0.904376345303055\"\n\"estrato\",\"786.550746406498\",\"9.88122346620452\",\"79.600542290804\",\"0\",\"767.183671659557\",\"805.917821153439\",\"0.124322188937357\",\"0.805575058741496\",\"0.297512205468965\"\n\"ant0_5\",\"699.618572325304\",\"105.689539063155\",\"6.61956309514457\",\"3.62059271452608e-11\",\"492.468394009167\",\"906.768750641441\",\"0.031482098118153\",\"0.813141106872807\",\"0.924240806592403\"\n\"habitaciones\",\"-1025.89230714995\",\"17.8297167040193\",\"-57.5383402989622\",\"0\",\"-1060.8383295028\",\"-990.946284797098\",\"-0.0937795728819252\",\"0.824702078197409\",\"0.354936919256717\"\n\"ant1_8\",\"-352.375489073574\",\"112.266230153766\",\"-3.13874874564631\",\"0.00169719792258248\",\"-572.415899897359\",\"-132.335078249789\",\"-0.009659267736439\",\"0.826649115284667\",\"0.819062442865605\"\n\"garajes\",\"2250.00711036593\",\"20.4323848237276\",\"110.119652198066\",\"0\",\"2209.95989096109\",\"2290.05432977078\",\"0.211258646249136\",\"0.788217587408932\",\"0.534408864135112\"\n\"ant10_20\",\"-1195.1016425224\",\"105.049415322881\",\"-11.376566341175\",\"5.7067898020835e-30\",\"-1400.99718629175\",\"-989.206098753045\",\"-0.0558385963492029\",\"0.827180766901678\",\"0.928869240076405\"",
      "text/html": [
       "<div class = \"td-resultset-table-div\" style = \"max-height: 100%; overflow-y: auto\">\n",
       "      <table class=\"tdhistory488923\"><style>\n",
       "      table.tdhistory488923 { display: block !important; min-height: 399px !important; overflow: auto !important; height: 399px !important; width: 100% !important; border: 1px solid rgb(207, 207, 207) !important; border-collapse: collapse !important; ; color: var(--jp-ui-font-color1) !important; }\n",
       "      th.tdhistory488923 { border: 1px solid rgb(198,198,198) !important; border-collapse: collapse !important; ; padding: 2px 5px !important; ; font-size: 13px !important; ; text-align: center !important; white-space: normal !important; color: var(--jp-ui-font-color1) !important; }\n",
       "      th.tdhistory488923:last-child { text-align: left !important; }\n",
       "      tbody.tdhistory488923 tr:nth-child(even) { background: rgba(243, 243, 243, 0.75) !important; }\n",
       "      tbody.tdhistory488923 tr:nth-child(odd) { background: var(--jp-ui-inverse-font-color1) !important; }\n",
       "      td.tdhistory488923 { border: 1px solid rgb(207, 207, 207) !important; border-collapse: collapse !important; ; padding: 2px 5px !important; ; font-size: 13px !important; ; text-align: left !important;          white-space: nowrap !important; overflow:hidden !important; text-overflow:ellipsis !important;; }\n",
       "    </style><thead><tr style= \"background: rgba(243, 243, 243, 0.75)\"><th class=\"tdhistory488923\"></th><th class=\"tdhistory488923\">Column Name</th><th class=\"tdhistory488923\">B Coefficient</th><th class=\"tdhistory488923\">Standard Error</th><th class=\"tdhistory488923\">T Statistic</th><th class=\"tdhistory488923\">P-Value</th><th class=\"tdhistory488923\">Lower</th><th class=\"tdhistory488923\">Upper</th><th class=\"tdhistory488923\">Standard Coefficient</th><th class=\"tdhistory488923\">Incremental R-Squared</th><th class=\"tdhistory488923\">Squared Multiple Correlation Coefficient (1-Tolerance)</th></tr></thead><tbody class=\"tdhistory488923 resultset-body\"><tr><th class=\"tdhistory488923\" style= \"background: rgba(243, 243, 243, 0.75)\">1</th><td class=\"tdhistory488923\">ant1_menos</td><td class=\"tdhistory488923\">702.379819946444</td><td class=\"tdhistory488923\">143.10676636214</td><td class=\"tdhistory488923\">4.90808253027694</td><td class=\"tdhistory488923\">9.21144798216034e-07</td><td class=\"tdhistory488923\">421.89234282301</td><td class=\"tdhistory488923\">982.867297069879</td><td class=\"tdhistory488923\">0.00913437689042379</td><td class=\"tdhistory488923\">0.826014221412891</td><td class=\"tdhistory488923\">0.505268132023353</td></tr><tr><th class=\"tdhistory488923\" style= \"background: rgba(243, 243, 243, 0.75)\">2</th><td class=\"tdhistory488923\">(Constant)</td><td class=\"tdhistory488923\">7794.54853625224</td><td class=\"tdhistory488923\">116.080447821923</td><td class=\"tdhistory488923\">67.1478158682653</td><td class=\"tdhistory488923\">0</td><td class=\"tdhistory488923\">7567.03230637296</td><td class=\"tdhistory488923\">8022.06476613152</td><td class=\"tdhistory488923\">0</td><td class=\"tdhistory488923\">0</td><td class=\"tdhistory488923\">0</td></tr><tr><th class=\"tdhistory488923\" style= \"background: rgba(243, 243, 243, 0.75)\">3</th><td class=\"tdhistory488923\">ant9_15</td><td class=\"tdhistory488923\">-1065.91839892139</td><td class=\"tdhistory488923\">116.946736125879</td><td class=\"tdhistory488923\">-9.11456304153763</td><td class=\"tdhistory488923\">8.03844581196241e-20</td><td class=\"tdhistory488923\">-1295.13254307136</td><td class=\"tdhistory488923\">-836.704254771418</td><td class=\"tdhistory488923\">-0.0241079579185127</td><td class=\"tdhistory488923\">0.827232651155918</td><td class=\"tdhistory488923\">0.755062724307928</td></tr><tr><th class=\"tdhistory488923\" style= \"background: rgba(243, 243, 243, 0.75)\">4</th><td class=\"tdhistory488923\">ant30_mas</td><td class=\"tdhistory488923\">-1075.14467302397</td><td class=\"tdhistory488923\">140.518463809923</td><td class=\"tdhistory488923\">-7.65126976109206</td><td class=\"tdhistory488923\">2.00760898309991e-14</td><td class=\"tdhistory488923\">-1350.55910942852</td><td class=\"tdhistory488923\">-799.730236619428</td><td class=\"tdhistory488923\">-0.0145333126289335</td><td class=\"tdhistory488923\">0.827332967351767</td><td class=\"tdhistory488923\">0.525056637141559</td></tr><tr><th class=\"tdhistory488923\" style= \"background: rgba(243, 243, 243, 0.75)\">5</th><td class=\"tdhistory488923\">banos</td><td class=\"tdhistory488923\">1348.12685401576</td><td class=\"tdhistory488923\">19.2472283262078</td><td class=\"tdhistory488923\">70.0426487994688</td><td class=\"tdhistory488923\">0</td><td class=\"tdhistory488923\">1310.4025265638</td><td class=\"tdhistory488923\">1385.85118146772</td><td class=\"tdhistory488923\">0.146723132869069</td><td class=\"tdhistory488923\">0.818238205320555</td><td class=\"tdhistory488923\">0.60949017408321</td></tr><tr><th class=\"tdhistory488923\" style= \"background: rgba(243, 243, 243, 0.75)\">6</th><td class=\"tdhistory488923\">ant20_mas</td><td class=\"tdhistory488923\">-1605.73264058718</td><td class=\"tdhistory488923\">109.883534449324</td><td class=\"tdhistory488923\">-14.6130414227594</td><td class=\"tdhistory488923\">2.59942720143665e-48</td><td class=\"tdhistory488923\">-1821.10299754922</td><td class=\"tdhistory488923\">-1390.36228362514</td><td class=\"tdhistory488923\">-0.0495672612945957</td><td class=\"tdhistory488923\">0.827108756372242</td><td class=\"tdhistory488923\">0.851065466496</td></tr><tr><th class=\"tdhistory488923\" style= \"background: rgba(243, 243, 243, 0.75)\">7</th><td class=\"tdhistory488923\">ant16_30</td><td class=\"tdhistory488923\">-1886.79534149785</td><td class=\"tdhistory488923\">113.872387440312</td><td class=\"tdhistory488923\">-16.5693842371298</td><td class=\"tdhistory488923\">1.40005687048635e-61</td><td class=\"tdhistory488923\">-2109.98380056994</td><td class=\"tdhistory488923\">-1663.60688242576</td><td class=\"tdhistory488923\">-0.0479631855187001</td><td class=\"tdhistory488923\">0.826913765176133</td><td class=\"tdhistory488923\">0.795496509153128</td></tr><tr><th class=\"tdhistory488923\" style= \"background: rgba(243, 243, 243, 0.75)\">8</th><td class=\"tdhistory488923\">area</td><td class=\"tdhistory488923\">80.2975875637141</td><td class=\"tdhistory488923\">0.269202104660625</td><td class=\"tdhistory488923\">298.279939768461</td><td class=\"tdhistory488923\">0</td><td class=\"tdhistory488923\">79.7699547962914</td><td class=\"tdhistory488923\">80.8252203311369</td><td class=\"tdhistory488923\">0.619824972984509</td><td class=\"tdhistory488923\">0.724001983214723</td><td class=\"tdhistory488923\">0.603161335450349</td></tr><tr><th class=\"tdhistory488923\" style= \"background: rgba(243, 243, 243, 0.75)\">9</th><td class=\"tdhistory488923\">ant5_10</td><td class=\"tdhistory488923\">-413.946798828158</td><td class=\"tdhistory488923\">106.679251958255</td><td class=\"tdhistory488923\">-3.88029341441335</td><td class=\"tdhistory488923\">0.000104396852580896</td><td class=\"tdhistory488923\">-623.036802074169</td><td class=\"tdhistory488923\">-204.856795582147</td><td class=\"tdhistory488923\">-0.0164260791333165</td><td class=\"tdhistory488923\">0.825431510711935</td><td class=\"tdhistory488923\">0.904376345303055</td></tr><tr><th class=\"tdhistory488923\" style= \"background: rgba(243, 243, 243, 0.75)\">10</th><td class=\"tdhistory488923\">estrato</td><td class=\"tdhistory488923\">786.550746406498</td><td class=\"tdhistory488923\">9.88122346620452</td><td class=\"tdhistory488923\">79.600542290804</td><td class=\"tdhistory488923\">0</td><td class=\"tdhistory488923\">767.183671659557</td><td class=\"tdhistory488923\">805.917821153439</td><td class=\"tdhistory488923\">0.124322188937357</td><td class=\"tdhistory488923\">0.805575058741496</td><td class=\"tdhistory488923\">0.297512205468965</td></tr><tr><th class=\"tdhistory488923\" style= \"background: rgba(243, 243, 243, 0.75)\">11</th><td class=\"tdhistory488923\">ant0_5</td><td class=\"tdhistory488923\">699.618572325304</td><td class=\"tdhistory488923\">105.689539063155</td><td class=\"tdhistory488923\">6.61956309514457</td><td class=\"tdhistory488923\">3.62059271452608e-11</td><td class=\"tdhistory488923\">492.468394009167</td><td class=\"tdhistory488923\">906.768750641441</td><td class=\"tdhistory488923\">0.031482098118153</td><td class=\"tdhistory488923\">0.813141106872807</td><td class=\"tdhistory488923\">0.924240806592403</td></tr><tr><th class=\"tdhistory488923\" style= \"background: rgba(243, 243, 243, 0.75)\">12</th><td class=\"tdhistory488923\">habitaciones</td><td class=\"tdhistory488923\">-1025.89230714995</td><td class=\"tdhistory488923\">17.8297167040193</td><td class=\"tdhistory488923\">-57.5383402989622</td><td class=\"tdhistory488923\">0</td><td class=\"tdhistory488923\">-1060.8383295028</td><td class=\"tdhistory488923\">-990.946284797098</td><td class=\"tdhistory488923\">-0.0937795728819252</td><td class=\"tdhistory488923\">0.824702078197409</td><td class=\"tdhistory488923\">0.354936919256717</td></tr><tr><th class=\"tdhistory488923\" style= \"background: rgba(243, 243, 243, 0.75)\">13</th><td class=\"tdhistory488923\">ant1_8</td><td class=\"tdhistory488923\">-352.375489073574</td><td class=\"tdhistory488923\">112.266230153766</td><td class=\"tdhistory488923\">-3.13874874564631</td><td class=\"tdhistory488923\">0.00169719792258248</td><td class=\"tdhistory488923\">-572.415899897359</td><td class=\"tdhistory488923\">-132.335078249789</td><td class=\"tdhistory488923\">-0.009659267736439</td><td class=\"tdhistory488923\">0.826649115284667</td><td class=\"tdhistory488923\">0.819062442865605</td></tr><tr><th class=\"tdhistory488923\" style= \"background: rgba(243, 243, 243, 0.75)\">14</th><td class=\"tdhistory488923\">garajes</td><td class=\"tdhistory488923\">2250.00711036593</td><td class=\"tdhistory488923\">20.4323848237276</td><td class=\"tdhistory488923\">110.119652198066</td><td class=\"tdhistory488923\">0</td><td class=\"tdhistory488923\">2209.95989096109</td><td class=\"tdhistory488923\">2290.05432977078</td><td class=\"tdhistory488923\">0.211258646249136</td><td class=\"tdhistory488923\">0.788217587408932</td><td class=\"tdhistory488923\">0.534408864135112</td></tr><tr><th class=\"tdhistory488923\" style= \"background: rgba(243, 243, 243, 0.75)\">15</th><td class=\"tdhistory488923\">ant10_20</td><td class=\"tdhistory488923\">-1195.1016425224</td><td class=\"tdhistory488923\">105.049415322881</td><td class=\"tdhistory488923\">-11.376566341175</td><td class=\"tdhistory488923\">5.7067898020835e-30</td><td class=\"tdhistory488923\">-1400.99718629175</td><td class=\"tdhistory488923\">-989.206098753045</td><td class=\"tdhistory488923\">-0.0558385963492029</td><td class=\"tdhistory488923\">0.827180766901678</td><td class=\"tdhistory488923\">0.928869240076405</td></tr></tbody></table></div>"
      ]
     },
     "execution_count": 14,
     "metadata": {
      "application/vnd.teradata.resultset": "{\"resultSetID\":\"/teradata/proyecto/Teradata/Resultsets/2023.10.06_18.31.37.075_UTC\",\"historyID\":1248,\"chunkID\":\"00001\",\"sessionid\":\"\",\"portnum\":\"\",\"dockermode\":\"standalone\",\"totalRowCount\":15,\"chunkCount\":0,\"rowLimit\":0,\"columnMetadata\":[{\"columnName\":\"Column Name\",\"columnTypeName\":\"VARCHAR\",\"length\":128,\"scale\":128},{\"columnNumber\":1,\"columnName\":\"B Coefficient\",\"columnTypeName\":\"FLOAT\"},{\"columnNumber\":2,\"columnName\":\"Standard Error\",\"columnTypeName\":\"FLOAT\"},{\"columnNumber\":3,\"columnName\":\"T Statistic\",\"columnTypeName\":\"FLOAT\"},{\"columnNumber\":4,\"columnName\":\"P-Value\",\"columnTypeName\":\"FLOAT\"},{\"columnNumber\":5,\"columnName\":\"Lower\",\"columnTypeName\":\"FLOAT\"},{\"columnNumber\":6,\"columnName\":\"Upper\",\"columnTypeName\":\"FLOAT\"},{\"columnNumber\":7,\"columnName\":\"Standard Coefficient\",\"columnTypeName\":\"FLOAT\"},{\"columnNumber\":8,\"columnName\":\"Incremental R-Squared\",\"columnTypeName\":\"FLOAT\"},{\"columnNumber\":9,\"columnName\":\"Squared Multiple Correlation Coefficient (1-Tolerance)\",\"columnTypeName\":\"FLOAT\"}]}"
     },
     "output_type": "execute_result"
    }
   ],
   "source": [
    "-- Parámetros del Modelo\n",
    "SELECT * FROM linearmodel;"
   ]
  },
  {
   "cell_type": "code",
   "execution_count": 15,
   "id": "e7ec1fe8-d80e-4d62-8005-675f95f94a59",
   "metadata": {},
   "outputs": [
    {
     "data": {
      "application/vnd.teradata.resultset": "\"rid\",\"Total Observations\",\"Total Sum of Squares\",\"Multiple Correlation Coefficient (R):\",\"Squared Multiple Correlation Coefficient (1-Tolerance)\",\"Adjusted R-Squared\",\"Standard Error of Estimate\",\"Regression Sum of Squares\",\"Regression Degrees of Freedom\",\"Regression Mean-Square\",\"Regression F Ratio\",\"Regression P-Value\",\"Residual Sum of Squares\",\"Residual Degrees of Freedom\",\"Residual Mean-Square\",\"Output Database\",\"Output Tablename\",\"Dependent\"\n\"1\",\"100779\",\"9.04092970226179e+12\",\"0.909578455852913\",\"0.827332967351769\",\"0.827308977251564\",\"3936.03144500806\",\"7.47985919819099e+12\",\"14\",\"5.34275657013642e+11\",\"34486.4323314901\",\"0\",\"1.5610705040708e+12\",\"100764\",\"1.54923435360922e+07\",\"DW_DATA\",\"tch_train\",\"rvalor\"",
      "text/html": [
       "<div class = \"td-resultset-table-div\" style = \"max-height: 100%; overflow-y: auto\">\n",
       "      <table class=\"tdhistory520277\"><style>\n",
       "      table.tdhistory520277 { display: block !important; min-height: 105px !important; overflow: auto !important; height: 105px !important; width: 100% !important; border: 1px solid rgb(207, 207, 207) !important; border-collapse: collapse !important; ; color: var(--jp-ui-font-color1) !important; }\n",
       "      th.tdhistory520277 { border: 1px solid rgb(198,198,198) !important; border-collapse: collapse !important; ; padding: 2px 5px !important; ; font-size: 13px !important; ; text-align: center !important; white-space: normal !important; color: var(--jp-ui-font-color1) !important; }\n",
       "      th.tdhistory520277:last-child { text-align: left !important; }\n",
       "      tbody.tdhistory520277 tr:nth-child(even) { background: rgba(243, 243, 243, 0.75) !important; }\n",
       "      tbody.tdhistory520277 tr:nth-child(odd) { background: var(--jp-ui-inverse-font-color1) !important; }\n",
       "      td.tdhistory520277 { border: 1px solid rgb(207, 207, 207) !important; border-collapse: collapse !important; ; padding: 2px 5px !important; ; font-size: 13px !important; ; text-align: left !important;          white-space: nowrap !important; overflow:hidden !important; text-overflow:ellipsis !important;; }\n",
       "    </style><thead><tr style= \"background: rgba(243, 243, 243, 0.75)\"><th class=\"tdhistory520277\"></th><th class=\"tdhistory520277\">rid</th><th class=\"tdhistory520277\">Total Observations</th><th class=\"tdhistory520277\">Total Sum of Squares</th><th class=\"tdhistory520277\">Multiple Correlation Coefficient (R):</th><th class=\"tdhistory520277\">Squared Multiple Correlation Coefficient (1-Tolerance)</th><th class=\"tdhistory520277\">Adjusted R-Squared</th><th class=\"tdhistory520277\">Standard Error of Estimate</th><th class=\"tdhistory520277\">Regression Sum of Squares</th><th class=\"tdhistory520277\">Regression Degrees of Freedom</th><th class=\"tdhistory520277\">Regression Mean-Square</th><th class=\"tdhistory520277\">Regression F Ratio</th><th class=\"tdhistory520277\">Regression P-Value</th><th class=\"tdhistory520277\">Residual Sum of Squares</th><th class=\"tdhistory520277\">Residual Degrees of Freedom</th><th class=\"tdhistory520277\">Residual Mean-Square</th><th class=\"tdhistory520277\">Output Database</th><th class=\"tdhistory520277\">Output Tablename</th><th class=\"tdhistory520277\">Dependent</th></tr></thead><tbody class=\"tdhistory520277 resultset-body\"><tr><th class=\"tdhistory520277\" style= \"background: rgba(243, 243, 243, 0.75)\">1</th><td class=\"tdhistory520277\">1</td><td class=\"tdhistory520277\">100779</td><td class=\"tdhistory520277\">9.04092970226179e+12</td><td class=\"tdhistory520277\">0.909578455852913</td><td class=\"tdhistory520277\">0.827332967351769</td><td class=\"tdhistory520277\">0.827308977251564</td><td class=\"tdhistory520277\">3936.03144500806</td><td class=\"tdhistory520277\">7.47985919819099e+12</td><td class=\"tdhistory520277\">14</td><td class=\"tdhistory520277\">5.34275657013642e+11</td><td class=\"tdhistory520277\">34486.4323314901</td><td class=\"tdhistory520277\">0</td><td class=\"tdhistory520277\">1.5610705040708e+12</td><td class=\"tdhistory520277\">100764</td><td class=\"tdhistory520277\">1.54923435360922e+07</td><td class=\"tdhistory520277\">DW_DATA</td><td class=\"tdhistory520277\">tch_train</td><td class=\"tdhistory520277\">rvalor</td></tr></tbody></table></div>"
      ]
     },
     "execution_count": 15,
     "metadata": {
      "application/vnd.teradata.resultset": "{\"resultSetID\":\"/teradata/proyecto/Teradata/Resultsets/2023.10.06_18.31.37.166_UTC\",\"historyID\":1249,\"chunkID\":\"00001\",\"sessionid\":\"\",\"portnum\":\"\",\"dockermode\":\"standalone\",\"totalRowCount\":1,\"chunkCount\":0,\"rowLimit\":0,\"columnMetadata\":[{\"columnName\":\"rid\",\"columnTypeName\":\"INTEGER\"},{\"columnNumber\":1,\"columnName\":\"Total Observations\",\"columnTypeName\":\"FLOAT\"},{\"columnNumber\":2,\"columnName\":\"Total Sum of Squares\",\"columnTypeName\":\"FLOAT\"},{\"columnNumber\":3,\"columnName\":\"Multiple Correlation Coefficient (R):\",\"columnTypeName\":\"FLOAT\"},{\"columnNumber\":4,\"columnName\":\"Squared Multiple Correlation Coefficient (1-Tolerance)\",\"columnTypeName\":\"FLOAT\"},{\"columnNumber\":5,\"columnName\":\"Adjusted R-Squared\",\"columnTypeName\":\"FLOAT\"},{\"columnNumber\":6,\"columnName\":\"Standard Error of Estimate\",\"columnTypeName\":\"FLOAT\"},{\"columnNumber\":7,\"columnName\":\"Regression Sum of Squares\",\"columnTypeName\":\"FLOAT\"},{\"columnNumber\":8,\"columnName\":\"Regression Degrees of Freedom\",\"columnTypeName\":\"FLOAT\"},{\"columnNumber\":9,\"columnName\":\"Regression Mean-Square\",\"columnTypeName\":\"FLOAT\"},{\"columnNumber\":10,\"columnName\":\"Regression F Ratio\",\"columnTypeName\":\"FLOAT\"},{\"columnNumber\":11,\"columnName\":\"Regression P-Value\",\"columnTypeName\":\"FLOAT\"},{\"columnNumber\":12,\"columnName\":\"Residual Sum of Squares\",\"columnTypeName\":\"FLOAT\"},{\"columnNumber\":13,\"columnName\":\"Residual Degrees of Freedom\",\"columnTypeName\":\"FLOAT\"},{\"columnNumber\":14,\"columnName\":\"Residual Mean-Square\",\"columnTypeName\":\"FLOAT\"},{\"columnNumber\":15,\"columnName\":\"Output Database\",\"columnTypeName\":\"VARCHAR\",\"length\":128,\"scale\":128},{\"columnNumber\":16,\"columnName\":\"Output Tablename\",\"columnTypeName\":\"VARCHAR\",\"length\":128,\"scale\":128},{\"columnNumber\":17,\"columnName\":\"Dependent\",\"columnTypeName\":\"VARCHAR\",\"length\":128,\"scale\":128}]}"
     },
     "output_type": "execute_result"
    }
   ],
   "source": [
    "-- Estadísticas de performance\n",
    "SELECT * FROM linearmodel_rpt;"
   ]
  },
  {
   "cell_type": "markdown",
   "id": "549242cf",
   "metadata": {},
   "source": [
    "## **Evaluación del Modelo**\n",
    "### Calculando las métricas de diagnóstico del Modelo"
   ]
  },
  {
   "cell_type": "code",
   "execution_count": 16,
   "id": "e6b86f3e",
   "metadata": {},
   "outputs": [
    {
     "data": {
      "text/plain": [
       "Success: 0 rows affected"
      ]
     },
     "execution_count": 16,
     "metadata": {
      "application/vnd.teradata.resultset": ""
     },
     "output_type": "execute_result"
    },
    {
     "ename": "WARNING",
     "evalue": "[Teradata Database] [Warning 3212] The stored procedure returned one or more result sets.",
     "output_type": "error",
     "traceback": [
      "[Teradata Database] [Warning 3212] The stored procedure returned one or more result sets."
     ]
    },
    {
     "data": {
      "application/vnd.teradata.resultset": "\"id\",\"rvalor\",\"rvalor_estimado\",\"Residual\"\n\"23166\",\"33466.40106136302\",\"35799.06535153098\",\"-2332.664290167958\"\n\"48368\",\"30495.901363953813\",\"31239.034994966656\",\"-743.1336310128438\"\n\"126269\",\"26457.513110645905\",\"25825.630544905423\",\"631.8825657404807\"\n\"106434\",\"11401.75425099138\",\"14664.295816922484\",\"-3262.5415659311047\"\n\"5126\",\"32093.613071762426\",\"39848.8531954624\",\"-7755.240123699974\"\n\"129911\",\"28722.813232690143\",\"23516.1868824095\",\"5206.626350280645\"\n\"113674\",\"21447.610589527216\",\"20479.62902563707\",\"967.9815638901457\"\n\"93430\",\"18973.665961010276\",\"19828.66280301411\",\"-854.9968420038335\"\n\"66175\",\"13964.240043768941\",\"13275.068325672142\",\"689.1717180967992\"\n\"71308\",\"28106.938645110393\",\"27362.929759965482\",\"744.0088851449116\"",
      "text/html": [
       "<div class = \"td-resultset-table-div\" style = \"max-height: 100%; overflow-y: auto\">\n",
       "      <table class=\"tdhistory826993\"><style>\n",
       "      table.tdhistory826993 { display: block !important; min-height: 294px !important; overflow: auto !important; height: 294px !important; width: 100% !important; border: 1px solid rgb(207, 207, 207) !important; border-collapse: collapse !important; ; color: var(--jp-ui-font-color1) !important; }\n",
       "      th.tdhistory826993 { border: 1px solid rgb(198,198,198) !important; border-collapse: collapse !important; ; padding: 2px 5px !important; ; font-size: 13px !important; ; text-align: center !important; white-space: normal !important; color: var(--jp-ui-font-color1) !important; }\n",
       "      th.tdhistory826993:last-child { text-align: left !important; }\n",
       "      tbody.tdhistory826993 tr:nth-child(even) { background: rgba(243, 243, 243, 0.75) !important; }\n",
       "      tbody.tdhistory826993 tr:nth-child(odd) { background: var(--jp-ui-inverse-font-color1) !important; }\n",
       "      td.tdhistory826993 { border: 1px solid rgb(207, 207, 207) !important; border-collapse: collapse !important; ; padding: 2px 5px !important; ; font-size: 13px !important; ; text-align: left !important;          white-space: nowrap !important; overflow:hidden !important; text-overflow:ellipsis !important;; }\n",
       "    </style><thead><tr style= \"background: rgba(243, 243, 243, 0.75)\"><th class=\"tdhistory826993\"></th><th class=\"tdhistory826993\">id</th><th class=\"tdhistory826993\">rvalor</th><th class=\"tdhistory826993\">rvalor_estimado</th><th class=\"tdhistory826993\">Residual</th></tr></thead><tbody class=\"tdhistory826993 resultset-body\"><tr><th class=\"tdhistory826993\" style= \"background: rgba(243, 243, 243, 0.75)\">1</th><td class=\"tdhistory826993\">23166</td><td class=\"tdhistory826993\">33466.40106136302</td><td class=\"tdhistory826993\">35799.06535153098</td><td class=\"tdhistory826993\">-2332.664290167958</td></tr><tr><th class=\"tdhistory826993\" style= \"background: rgba(243, 243, 243, 0.75)\">2</th><td class=\"tdhistory826993\">48368</td><td class=\"tdhistory826993\">30495.901363953813</td><td class=\"tdhistory826993\">31239.034994966656</td><td class=\"tdhistory826993\">-743.1336310128438</td></tr><tr><th class=\"tdhistory826993\" style= \"background: rgba(243, 243, 243, 0.75)\">3</th><td class=\"tdhistory826993\">126269</td><td class=\"tdhistory826993\">26457.513110645905</td><td class=\"tdhistory826993\">25825.630544905423</td><td class=\"tdhistory826993\">631.8825657404807</td></tr><tr><th class=\"tdhistory826993\" style= \"background: rgba(243, 243, 243, 0.75)\">4</th><td class=\"tdhistory826993\">106434</td><td class=\"tdhistory826993\">11401.75425099138</td><td class=\"tdhistory826993\">14664.295816922484</td><td class=\"tdhistory826993\">-3262.5415659311047</td></tr><tr><th class=\"tdhistory826993\" style= \"background: rgba(243, 243, 243, 0.75)\">5</th><td class=\"tdhistory826993\">5126</td><td class=\"tdhistory826993\">32093.613071762426</td><td class=\"tdhistory826993\">39848.8531954624</td><td class=\"tdhistory826993\">-7755.240123699974</td></tr><tr><th class=\"tdhistory826993\" style= \"background: rgba(243, 243, 243, 0.75)\">6</th><td class=\"tdhistory826993\">129911</td><td class=\"tdhistory826993\">28722.813232690143</td><td class=\"tdhistory826993\">23516.1868824095</td><td class=\"tdhistory826993\">5206.626350280645</td></tr><tr><th class=\"tdhistory826993\" style= \"background: rgba(243, 243, 243, 0.75)\">7</th><td class=\"tdhistory826993\">113674</td><td class=\"tdhistory826993\">21447.610589527216</td><td class=\"tdhistory826993\">20479.62902563707</td><td class=\"tdhistory826993\">967.9815638901457</td></tr><tr><th class=\"tdhistory826993\" style= \"background: rgba(243, 243, 243, 0.75)\">8</th><td class=\"tdhistory826993\">93430</td><td class=\"tdhistory826993\">18973.665961010276</td><td class=\"tdhistory826993\">19828.66280301411</td><td class=\"tdhistory826993\">-854.9968420038335</td></tr><tr><th class=\"tdhistory826993\" style= \"background: rgba(243, 243, 243, 0.75)\">9</th><td class=\"tdhistory826993\">66175</td><td class=\"tdhistory826993\">13964.240043768941</td><td class=\"tdhistory826993\">13275.068325672142</td><td class=\"tdhistory826993\">689.1717180967992</td></tr><tr><th class=\"tdhistory826993\" style= \"background: rgba(243, 243, 243, 0.75)\">10</th><td class=\"tdhistory826993\">71308</td><td class=\"tdhistory826993\">28106.938645110393</td><td class=\"tdhistory826993\">27362.929759965482</td><td class=\"tdhistory826993\">744.0088851449116</td></tr></tbody></table></div>"
      ]
     },
     "execution_count": 16,
     "metadata": {
      "application/vnd.teradata.resultset": "{\"resultSetID\":\"/teradata/proyecto/Teradata/Resultsets/2023.10.06_18.31.38.157_UTC\",\"historyID\":1250,\"chunkID\":\"00001\",\"sessionid\":\"\",\"portnum\":\"\",\"dockermode\":\"standalone\",\"totalRowCount\":10,\"chunkCount\":0,\"rowLimit\":0,\"columnMetadata\":[{\"columnName\":\"id\",\"columnTypeName\":\"INTEGER\"},{\"columnNumber\":1,\"columnName\":\"rvalor\",\"columnTypeName\":\"FLOAT\"},{\"columnNumber\":2,\"columnName\":\"rvalor_estimado\",\"columnTypeName\":\"FLOAT\"},{\"columnNumber\":3,\"columnName\":\"Residual\",\"columnTypeName\":\"FLOAT\"}]}"
     },
     "output_type": "execute_result"
    }
   ],
   "source": [
    "call val.td_analyze('linearscore',\n",
    "'database=DW_DATA;\n",
    "tablename=tch_test;\n",
    "modeldatabase=DW_DATA;\n",
    "modeltablename=linearmodel;\n",
    "outputdatabase=DW_DATA;\n",
    "outputtablename=linearmodelval;\n",
    "predicted=rvalor_estimado;\n",
    "retain=rvalor;\n",
    "samplescoresize=10;\n",
    "scoringmethod=scoreandevaluate;');"
   ]
  },
  {
   "cell_type": "code",
   "execution_count": 17,
   "id": "1f24b022",
   "metadata": {},
   "outputs": [
    {
     "data": {
      "application/vnd.teradata.resultset": "\"Minimum Absolute Error\",\"Maxmum Absolute Error\",\"Average Absolute Error\",\"Standard Error of Estimate\"\n\"0.062045666189078474\",\"149565.9413460482\",\"2490.1415366117512\",\"4035.7770434315476\"",
      "text/html": [
       "<div class = \"td-resultset-table-div\" style = \"max-height: 100%; overflow-y: auto\">\n",
       "      <table class=\"tdhistory462519\"><style>\n",
       "      table.tdhistory462519 { display: block !important; min-height: 105px !important; overflow: auto !important; height: 105px !important; width: 100% !important; border: 1px solid rgb(207, 207, 207) !important; border-collapse: collapse !important; ; color: var(--jp-ui-font-color1) !important; }\n",
       "      th.tdhistory462519 { border: 1px solid rgb(198,198,198) !important; border-collapse: collapse !important; ; padding: 2px 5px !important; ; font-size: 13px !important; ; text-align: center !important; white-space: normal !important; color: var(--jp-ui-font-color1) !important; }\n",
       "      th.tdhistory462519:last-child { text-align: left !important; }\n",
       "      tbody.tdhistory462519 tr:nth-child(even) { background: rgba(243, 243, 243, 0.75) !important; }\n",
       "      tbody.tdhistory462519 tr:nth-child(odd) { background: var(--jp-ui-inverse-font-color1) !important; }\n",
       "      td.tdhistory462519 { border: 1px solid rgb(207, 207, 207) !important; border-collapse: collapse !important; ; padding: 2px 5px !important; ; font-size: 13px !important; ; text-align: left !important;          white-space: nowrap !important; overflow:hidden !important; text-overflow:ellipsis !important;; }\n",
       "    </style><thead><tr style= \"background: rgba(243, 243, 243, 0.75)\"><th class=\"tdhistory462519\"></th><th class=\"tdhistory462519\">Minimum Absolute Error</th><th class=\"tdhistory462519\">Maxmum Absolute Error</th><th class=\"tdhistory462519\">Average Absolute Error</th><th class=\"tdhistory462519\">Standard Error of Estimate</th></tr></thead><tbody class=\"tdhistory462519 resultset-body\"><tr><th class=\"tdhistory462519\" style= \"background: rgba(243, 243, 243, 0.75)\">1</th><td class=\"tdhistory462519\">0.062045666189078474</td><td class=\"tdhistory462519\">149565.9413460482</td><td class=\"tdhistory462519\">2490.1415366117512</td><td class=\"tdhistory462519\">4035.7770434315476</td></tr></tbody></table></div>"
      ]
     },
     "execution_count": 17,
     "metadata": {
      "application/vnd.teradata.resultset": "{\"resultSetID\":\"/teradata/proyecto/Teradata/Resultsets/2023.10.06_18.31.38.243_UTC\",\"historyID\":1251,\"chunkID\":\"00001\",\"sessionid\":\"\",\"portnum\":\"\",\"dockermode\":\"standalone\",\"totalRowCount\":1,\"chunkCount\":0,\"rowLimit\":0,\"columnMetadata\":[{\"columnName\":\"Minimum Absolute Error\",\"columnTypeName\":\"FLOAT\"},{\"columnNumber\":1,\"columnName\":\"Maxmum Absolute Error\",\"columnTypeName\":\"FLOAT\"},{\"columnNumber\":2,\"columnName\":\"Average Absolute Error\",\"columnTypeName\":\"FLOAT\"},{\"columnNumber\":3,\"columnName\":\"Standard Error of Estimate\",\"columnTypeName\":\"FLOAT\"}]}"
     },
     "output_type": "execute_result"
    }
   ],
   "source": [
    "-- Estadísticas de performance\n",
    "SELECT * FROM linearmodelval_txt;"
   ]
  },
  {
   "cell_type": "markdown",
   "id": "4fc141a3",
   "metadata": {},
   "source": [
    "<font color='red'/>\n",
    "\n",
    "## **Depliegue del Modelo (In-Database)**"
   ]
  },
  {
   "cell_type": "markdown",
   "id": "5378fa9a-daa7-405f-9133-a0b3aec8899e",
   "metadata": {},
   "source": [
    "### Implementando el modelo para estimar el precio de otras viviendas"
   ]
  },
  {
   "cell_type": "code",
   "execution_count": 18,
   "id": "5361a78f",
   "metadata": {},
   "outputs": [
    {
     "data": {
      "text/plain": [
       "Success: 0 rows affected"
      ]
     },
     "execution_count": 18,
     "metadata": {
      "application/vnd.teradata.resultset": ""
     },
     "output_type": "execute_result"
    },
    {
     "ename": "WARNING",
     "evalue": "[Teradata Database] [Warning 3212] The stored procedure returned one or more result sets.",
     "output_type": "error",
     "traceback": [
      "[Teradata Database] [Warning 3212] The stored procedure returned one or more result sets."
     ]
    },
    {
     "data": {
      "application/vnd.teradata.resultset": "\"id\",\"rvalor\",\"rvalor_estimado\"\n\"59327\",\"13416.407864998739\",\"12414.919168527536\"\n\"72612\",\"15276.648847178494\",\"19551.067431335505\"\n\"114441\",\"21189.62010041709\",\"20318.83375999121\"\n\"91485\",\"30495.901363953813\",\"27321.385338912045\"\n\"50482\",\"25690.465157330258\",\"22198.764864064986\"\n\"83941\",\"23021.728866442678\",\"24948.703773572415\"\n\"126868\",\"13228.756555322952\",\"13494.43555406688\"\n\"43459\",\"15165.7508881031\",\"15513.369909905494\"\n\"81753\",\"27928.480087537882\",\"30895.39712277235\"\n\"65216\",\"21447.610589527216\",\"25773.403137921843\"",
      "text/html": [
       "<div class = \"td-resultset-table-div\" style = \"max-height: 100%; overflow-y: auto\">\n",
       "      <table class=\"tdhistory620954\"><style>\n",
       "      table.tdhistory620954 { display: block !important; min-height: 294px !important; overflow: auto !important; height: 294px !important; width: 100% !important; border: 1px solid rgb(207, 207, 207) !important; border-collapse: collapse !important; ; color: var(--jp-ui-font-color1) !important; }\n",
       "      th.tdhistory620954 { border: 1px solid rgb(198,198,198) !important; border-collapse: collapse !important; ; padding: 2px 5px !important; ; font-size: 13px !important; ; text-align: center !important; white-space: normal !important; color: var(--jp-ui-font-color1) !important; }\n",
       "      th.tdhistory620954:last-child { text-align: left !important; }\n",
       "      tbody.tdhistory620954 tr:nth-child(even) { background: rgba(243, 243, 243, 0.75) !important; }\n",
       "      tbody.tdhistory620954 tr:nth-child(odd) { background: var(--jp-ui-inverse-font-color1) !important; }\n",
       "      td.tdhistory620954 { border: 1px solid rgb(207, 207, 207) !important; border-collapse: collapse !important; ; padding: 2px 5px !important; ; font-size: 13px !important; ; text-align: left !important;          white-space: nowrap !important; overflow:hidden !important; text-overflow:ellipsis !important;; }\n",
       "    </style><thead><tr style= \"background: rgba(243, 243, 243, 0.75)\"><th class=\"tdhistory620954\"></th><th class=\"tdhistory620954\">id</th><th class=\"tdhistory620954\">rvalor</th><th class=\"tdhistory620954\">rvalor_estimado</th></tr></thead><tbody class=\"tdhistory620954 resultset-body\"><tr><th class=\"tdhistory620954\" style= \"background: rgba(243, 243, 243, 0.75)\">1</th><td class=\"tdhistory620954\">59327</td><td class=\"tdhistory620954\">13416.407864998739</td><td class=\"tdhistory620954\">12414.919168527536</td></tr><tr><th class=\"tdhistory620954\" style= \"background: rgba(243, 243, 243, 0.75)\">2</th><td class=\"tdhistory620954\">72612</td><td class=\"tdhistory620954\">15276.648847178494</td><td class=\"tdhistory620954\">19551.067431335505</td></tr><tr><th class=\"tdhistory620954\" style= \"background: rgba(243, 243, 243, 0.75)\">3</th><td class=\"tdhistory620954\">114441</td><td class=\"tdhistory620954\">21189.62010041709</td><td class=\"tdhistory620954\">20318.83375999121</td></tr><tr><th class=\"tdhistory620954\" style= \"background: rgba(243, 243, 243, 0.75)\">4</th><td class=\"tdhistory620954\">91485</td><td class=\"tdhistory620954\">30495.901363953813</td><td class=\"tdhistory620954\">27321.385338912045</td></tr><tr><th class=\"tdhistory620954\" style= \"background: rgba(243, 243, 243, 0.75)\">5</th><td class=\"tdhistory620954\">50482</td><td class=\"tdhistory620954\">25690.465157330258</td><td class=\"tdhistory620954\">22198.764864064986</td></tr><tr><th class=\"tdhistory620954\" style= \"background: rgba(243, 243, 243, 0.75)\">6</th><td class=\"tdhistory620954\">83941</td><td class=\"tdhistory620954\">23021.728866442678</td><td class=\"tdhistory620954\">24948.703773572415</td></tr><tr><th class=\"tdhistory620954\" style= \"background: rgba(243, 243, 243, 0.75)\">7</th><td class=\"tdhistory620954\">126868</td><td class=\"tdhistory620954\">13228.756555322952</td><td class=\"tdhistory620954\">13494.43555406688</td></tr><tr><th class=\"tdhistory620954\" style= \"background: rgba(243, 243, 243, 0.75)\">8</th><td class=\"tdhistory620954\">43459</td><td class=\"tdhistory620954\">15165.7508881031</td><td class=\"tdhistory620954\">15513.369909905494</td></tr><tr><th class=\"tdhistory620954\" style= \"background: rgba(243, 243, 243, 0.75)\">9</th><td class=\"tdhistory620954\">81753</td><td class=\"tdhistory620954\">27928.480087537882</td><td class=\"tdhistory620954\">30895.39712277235</td></tr><tr><th class=\"tdhistory620954\" style= \"background: rgba(243, 243, 243, 0.75)\">10</th><td class=\"tdhistory620954\">65216</td><td class=\"tdhistory620954\">21447.610589527216</td><td class=\"tdhistory620954\">25773.403137921843</td></tr></tbody></table></div>"
      ]
     },
     "execution_count": 18,
     "metadata": {
      "application/vnd.teradata.resultset": "{\"resultSetID\":\"/teradata/proyecto/Teradata/Resultsets/2023.10.06_18.31.39.047_UTC\",\"historyID\":1252,\"chunkID\":\"00001\",\"sessionid\":\"\",\"portnum\":\"\",\"dockermode\":\"standalone\",\"totalRowCount\":10,\"chunkCount\":0,\"rowLimit\":0,\"columnMetadata\":[{\"columnName\":\"id\",\"columnTypeName\":\"INTEGER\"},{\"columnNumber\":1,\"columnName\":\"rvalor\",\"columnTypeName\":\"FLOAT\"},{\"columnNumber\":2,\"columnName\":\"rvalor_estimado\",\"columnTypeName\":\"FLOAT\"}]}"
     },
     "output_type": "execute_result"
    }
   ],
   "source": [
    "call val.td_analyze('linearscore',\n",
    "'database=DW_DATA;\n",
    "tablename=tch_test;\n",
    "modeldatabase=DW_DATA;\n",
    "modeltablename=linearmodel;\n",
    "outputdatabase=DW_DATA;\n",
    "outputtablename=linearmodelscore;\n",
    "predicted=rvalor_estimado;\n",
    "retain=rvalor;\n",
    "samplescoresize=10;\n",
    "scoringmethod=score;');"
   ]
  },
  {
   "cell_type": "code",
   "execution_count": 19,
   "id": "b4907db3",
   "metadata": {},
   "outputs": [
    {
     "data": {
      "text/plain": [
       "Success: 0 rows affected"
      ]
     },
     "execution_count": 19,
     "metadata": {
      "application/vnd.teradata.resultset": ""
     },
     "output_type": "execute_result"
    }
   ],
   "source": [
    "-- Calculamos el valor total del Precio de la Vivienda, ya que para desarrollar el modelo extrajimos la raíz como respuesta\n",
    "CREATE TABLE Precio_Score AS (\n",
    "SELECT id, rvalor_estimado*rvalor_estimado as valor_estimado FROM linearmodelscore\n",
    ") WITH DATA;"
   ]
  },
  {
   "cell_type": "code",
   "execution_count": 20,
   "id": "11434198-cbe1-4b76-9631-dc5bffd5a767",
   "metadata": {},
   "outputs": [
    {
     "data": {
      "application/vnd.teradata.resultset": "\"id\",\"valor_estimado\"\n\"34666\",\"5.741204014681928e+08\"\n\"145190\",\"5.019955038796371e+08\"\n\"124125\",\"7.826976047157791e+08\"\n\"105813\",\"5.597091920338726e+08\"\n\"57647\",\"1.3562736836534473e+08\"\n\"21614\",\"7.935936646192713e+08\"\n\"111849\",\"6.1131292360841e+08\"\n\"119843\",\"3.6106125222027785e+08\"\n\"40906\",\"6.809278093131938e+08\"\n\"121393\",\"8.121809854859433e+08\"",
      "text/html": [
       "<div class = \"td-resultset-table-div\" style = \"max-height: 100%; overflow-y: auto\">\n",
       "      <table class=\"tdhistory642832\"><style>\n",
       "      table.tdhistory642832 { display: block !important; min-height: 294px !important; overflow: auto !important; height: 294px !important; width: 100% !important; border: 1px solid rgb(207, 207, 207) !important; border-collapse: collapse !important; ; color: var(--jp-ui-font-color1) !important; }\n",
       "      th.tdhistory642832 { border: 1px solid rgb(198,198,198) !important; border-collapse: collapse !important; ; padding: 2px 5px !important; ; font-size: 13px !important; ; text-align: center !important; white-space: normal !important; color: var(--jp-ui-font-color1) !important; }\n",
       "      th.tdhistory642832:last-child { text-align: left !important; }\n",
       "      tbody.tdhistory642832 tr:nth-child(even) { background: rgba(243, 243, 243, 0.75) !important; }\n",
       "      tbody.tdhistory642832 tr:nth-child(odd) { background: var(--jp-ui-inverse-font-color1) !important; }\n",
       "      td.tdhistory642832 { border: 1px solid rgb(207, 207, 207) !important; border-collapse: collapse !important; ; padding: 2px 5px !important; ; font-size: 13px !important; ; text-align: left !important;          white-space: nowrap !important; overflow:hidden !important; text-overflow:ellipsis !important;; }\n",
       "    </style><thead><tr style= \"background: rgba(243, 243, 243, 0.75)\"><th class=\"tdhistory642832\"></th><th class=\"tdhistory642832\">id</th><th class=\"tdhistory642832\">valor_estimado</th></tr></thead><tbody class=\"tdhistory642832 resultset-body\"><tr><th class=\"tdhistory642832\" style= \"background: rgba(243, 243, 243, 0.75)\">1</th><td class=\"tdhistory642832\">34666</td><td class=\"tdhistory642832\">5.741204014681928e+08</td></tr><tr><th class=\"tdhistory642832\" style= \"background: rgba(243, 243, 243, 0.75)\">2</th><td class=\"tdhistory642832\">145190</td><td class=\"tdhistory642832\">5.019955038796371e+08</td></tr><tr><th class=\"tdhistory642832\" style= \"background: rgba(243, 243, 243, 0.75)\">3</th><td class=\"tdhistory642832\">124125</td><td class=\"tdhistory642832\">7.826976047157791e+08</td></tr><tr><th class=\"tdhistory642832\" style= \"background: rgba(243, 243, 243, 0.75)\">4</th><td class=\"tdhistory642832\">105813</td><td class=\"tdhistory642832\">5.597091920338726e+08</td></tr><tr><th class=\"tdhistory642832\" style= \"background: rgba(243, 243, 243, 0.75)\">5</th><td class=\"tdhistory642832\">57647</td><td class=\"tdhistory642832\">1.3562736836534473e+08</td></tr><tr><th class=\"tdhistory642832\" style= \"background: rgba(243, 243, 243, 0.75)\">6</th><td class=\"tdhistory642832\">21614</td><td class=\"tdhistory642832\">7.935936646192713e+08</td></tr><tr><th class=\"tdhistory642832\" style= \"background: rgba(243, 243, 243, 0.75)\">7</th><td class=\"tdhistory642832\">111849</td><td class=\"tdhistory642832\">6.1131292360841e+08</td></tr><tr><th class=\"tdhistory642832\" style= \"background: rgba(243, 243, 243, 0.75)\">8</th><td class=\"tdhistory642832\">119843</td><td class=\"tdhistory642832\">3.6106125222027785e+08</td></tr><tr><th class=\"tdhistory642832\" style= \"background: rgba(243, 243, 243, 0.75)\">9</th><td class=\"tdhistory642832\">40906</td><td class=\"tdhistory642832\">6.809278093131938e+08</td></tr><tr><th class=\"tdhistory642832\" style= \"background: rgba(243, 243, 243, 0.75)\">10</th><td class=\"tdhistory642832\">121393</td><td class=\"tdhistory642832\">8.121809854859433e+08</td></tr></tbody></table></div>"
      ]
     },
     "execution_count": 20,
     "metadata": {
      "application/vnd.teradata.resultset": "{\"resultSetID\":\"/teradata/proyecto/Teradata/Resultsets/2023.10.06_18.31.39.264_UTC\",\"historyID\":1254,\"chunkID\":\"00001\",\"sessionid\":\"\",\"portnum\":\"\",\"dockermode\":\"standalone\",\"totalRowCount\":10,\"chunkCount\":0,\"rowLimit\":0,\"columnMetadata\":[{\"columnName\":\"id\",\"columnTypeName\":\"INTEGER\"},{\"columnNumber\":1,\"columnName\":\"valor_estimado\",\"columnTypeName\":\"FLOAT\"}]}"
     },
     "output_type": "execute_result"
    }
   ],
   "source": [
    "SELECT TOP 10 * FROM Precio_Score;"
   ]
  },
  {
   "cell_type": "markdown",
   "id": "a3751fa6-5208-4505-a62d-15692218fc2a",
   "metadata": {},
   "source": [
    "### Limpiando las tablas creadas"
   ]
  },
  {
   "cell_type": "code",
   "execution_count": 21,
   "id": "54241675-b561-47d5-bfa5-337f89603f96",
   "metadata": {},
   "outputs": [
    {
     "data": {
      "text/plain": [
       "Success: 32 rows affected"
      ]
     },
     "execution_count": 21,
     "metadata": {
      "application/vnd.teradata.resultset": ""
     },
     "output_type": "execute_result"
    }
   ],
   "source": [
    "DROP TABLE precios;"
   ]
  },
  {
   "cell_type": "code",
   "execution_count": 22,
   "id": "3eab2339-b2c8-4f82-87aa-aba5af473418",
   "metadata": {},
   "outputs": [
    {
     "data": {
      "text/plain": [
       "Success: 32 rows affected"
      ]
     },
     "execution_count": 22,
     "metadata": {
      "application/vnd.teradata.resultset": ""
     },
     "output_type": "execute_result"
    }
   ],
   "source": [
    "DROP TABLE tch_train;"
   ]
  },
  {
   "cell_type": "code",
   "execution_count": 23,
   "id": "102e8210-c2f9-4d26-bdb0-a432e9bfb50f",
   "metadata": {},
   "outputs": [
    {
     "data": {
      "text/plain": [
       "Success: 32 rows affected"
      ]
     },
     "execution_count": 23,
     "metadata": {
      "application/vnd.teradata.resultset": ""
     },
     "output_type": "execute_result"
    }
   ],
   "source": [
    "DROP TABLE tch_test;"
   ]
  },
  {
   "cell_type": "code",
   "execution_count": 24,
   "id": "e579f839-0984-4503-96ce-747479591772",
   "metadata": {},
   "outputs": [
    {
     "data": {
      "text/plain": [
       "Success: 25 rows affected"
      ]
     },
     "execution_count": 24,
     "metadata": {
      "application/vnd.teradata.resultset": ""
     },
     "output_type": "execute_result"
    }
   ],
   "source": [
    "DROP TABLE linearmodel;"
   ]
  },
  {
   "cell_type": "code",
   "execution_count": 25,
   "id": "c762a949-fc17-4da0-b7ff-dac864531b39",
   "metadata": {},
   "outputs": [
    {
     "data": {
      "text/plain": [
       "Success: 33 rows affected"
      ]
     },
     "execution_count": 25,
     "metadata": {
      "application/vnd.teradata.resultset": ""
     },
     "output_type": "execute_result"
    }
   ],
   "source": [
    "DROP TABLE linearmodel_rpt;"
   ]
  },
  {
   "cell_type": "code",
   "execution_count": 26,
   "id": "f7742c15-6341-47e7-b28d-698ddb57dbd7",
   "metadata": {},
   "outputs": [
    {
     "data": {
      "text/plain": [
       "Success: 17 rows affected"
      ]
     },
     "execution_count": 26,
     "metadata": {
      "application/vnd.teradata.resultset": ""
     },
     "output_type": "execute_result"
    }
   ],
   "source": [
    "DROP TABLE linearmodel_txt;"
   ]
  },
  {
   "cell_type": "code",
   "execution_count": 27,
   "id": "48593c75-13c6-46a9-8286-97330bb4cdf4",
   "metadata": {},
   "outputs": [
    {
     "data": {
      "text/plain": [
       "Success: 19 rows affected"
      ]
     },
     "execution_count": 27,
     "metadata": {
      "application/vnd.teradata.resultset": ""
     },
     "output_type": "execute_result"
    }
   ],
   "source": [
    "DROP TABLE linearmodelval;"
   ]
  },
  {
   "cell_type": "code",
   "execution_count": 28,
   "id": "2f5683aa-7a83-46ff-bbe0-721c88db7880",
   "metadata": {},
   "outputs": [
    {
     "data": {
      "text/plain": [
       "Success: 19 rows affected"
      ]
     },
     "execution_count": 28,
     "metadata": {
      "application/vnd.teradata.resultset": ""
     },
     "output_type": "execute_result"
    }
   ],
   "source": [
    "DROP TABLE linearmodelval_txt;"
   ]
  },
  {
   "cell_type": "code",
   "execution_count": 29,
   "id": "1b619cae-cbf8-41fd-b515-310c25f216d8",
   "metadata": {},
   "outputs": [
    {
     "data": {
      "text/plain": [
       "Success: 18 rows affected"
      ]
     },
     "execution_count": 29,
     "metadata": {
      "application/vnd.teradata.resultset": ""
     },
     "output_type": "execute_result"
    }
   ],
   "source": [
    "DROP TABLE linearmodelscore;"
   ]
  },
  {
   "cell_type": "code",
   "execution_count": 30,
   "id": "205af68a-ce38-4dd3-9e48-b0b397bec702",
   "metadata": {},
   "outputs": [
    {
     "data": {
      "text/plain": [
       "Success: 17 rows affected"
      ]
     },
     "execution_count": 30,
     "metadata": {
      "application/vnd.teradata.resultset": ""
     },
     "output_type": "execute_result"
    }
   ],
   "source": [
    "DROP TABLE Precio_Score;"
   ]
  },
  {
   "cell_type": "markdown",
   "id": "857be636",
   "metadata": {},
   "source": [
    "Copyright 2023. Elaborado por Luis Cajachahua bajo licencia MIT"
   ]
  }
 ],
 "metadata": {
  "kernelspec": {
   "display_name": "Teradata SQL",
   "language": "Teradata SQL",
   "name": "teradatasql"
  },
  "language_info": {
   "codemirror_mode": "Teradata SQL",
   "file_extension": ".tdrs",
   "mimetype": "application/vnd.teradata.resultset",
   "name": "Teradata SQL",
   "nbconvert_exporter": "",
   "pygments_lexer": "",
   "version": "16.20"
  }
 },
 "nbformat": 4,
 "nbformat_minor": 5
}
