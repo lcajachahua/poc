{
 "cells": [
  {
   "cell_type": "markdown",
   "id": "2f0df8dc",
   "metadata": {},
   "source": [
    "# **Caso 2: Comparación de Direcciones**\n",
    "## **Entendimiento del Problema y de los Datos**\n"
   ]
  },
  {
   "cell_type": "markdown",
   "id": "e8294e51",
   "metadata": {},
   "source": [
    "### Creamos la conexión con Vantage"
   ]
  },
  {
   "cell_type": "code",
   "execution_count": 1,
   "id": "9613a966",
   "metadata": {},
   "outputs": [
    {
     "name": "stdin",
     "output_type": "stream",
     "text": [
      "Password: ·······\n"
     ]
    },
    {
     "name": "stdout",
     "output_type": "stream",
     "text": [
      "Success: 'DataAnalyst' connection established and activated for user 'pocuser', with default database 'DW_LANDING'\n"
     ]
    }
   ],
   "source": [
    "%connect DataAnalyst"
   ]
  },
  {
   "cell_type": "markdown",
   "id": "aea3d4fb",
   "metadata": {},
   "source": [
    "### Exploramos los Datos"
   ]
  },
  {
   "cell_type": "code",
   "execution_count": 2,
   "id": "206ed697-3fe3-4aaf-acc1-eeff9946cec6",
   "metadata": {},
   "outputs": [
    {
     "data": {
      "application/vnd.teradata.resultset": "\"COL_00\",\"COL_01\",\"COL_02\",\"COL_03\",\"COL_04\"\n\"\",\"18507577\",\"250105\",\"MANZANA JORGE IÑAPARI 202\",\"202\"\n\"\",\"13999634\",\"250107\",\"OVALO FRANCISCO C.TELLO C20\",\"C20\"\n\"\",\"3315076\",\"250101\",\"AVENIDA SALVADOR VARGAS 1-B\",\"1-B\"\n\"\",\"9491691\",\"250107\",\"OVALO AMADOR REYES 404\",\"404\"\n\"\",\"4983748\",\"250107\",\"AV ANDRES IÑAPARI 001\",\"001\"\n\"\",\"11160363\",\"250101\",\"AV SALVADOR BENAVIDES A01\",\"A01\"\n\"\",\"15668306\",\"250107\",\"OVALO AMADOR CONCEPCIÓN 8981\",\"8981\"\n\"\",\"7823019\",\"250101\",\"CARRETERA LUIS JOSÉ 2-01\",\"2-01\"\n\"\",\"1646404\",\"250102\",\"AVENIDA FRANCISCO VARGAS 9\",\"9\"\n\"\",\"12330962\",\"250101\",\"CALLE JUAN CARLOS MÜLLER 20\",\"20\"",
      "text/html": [
       "<div class = \"td-resultset-table-div\" style = \"max-height: 100%; overflow-y: auto\">\n",
       "      <table class=\"tdhistory474130\"><style>\n",
       "      table.tdhistory474130 { display: block !important; min-height: 294px !important; overflow: auto !important; height: 294px !important; width: 100% !important; border: 1px solid rgb(207, 207, 207) !important; border-collapse: collapse !important; ; color: var(--jp-ui-font-color1) !important; }\n",
       "      th.tdhistory474130 { border: 1px solid rgb(198,198,198) !important; border-collapse: collapse !important; ; padding: 2px 5px !important; ; font-size: 13px !important; ; text-align: center !important; white-space: normal !important; color: var(--jp-ui-font-color1) !important; }\n",
       "      th.tdhistory474130:last-child { text-align: left !important; }\n",
       "      tbody.tdhistory474130 tr:nth-child(even) { background: rgba(243, 243, 243, 0.75) !important; }\n",
       "      tbody.tdhistory474130 tr:nth-child(odd) { background: var(--jp-ui-inverse-font-color1) !important; }\n",
       "      td.tdhistory474130 { border: 1px solid rgb(207, 207, 207) !important; border-collapse: collapse !important; ; padding: 2px 5px !important; ; font-size: 13px !important; ; text-align: left !important;          white-space: nowrap !important; overflow:hidden !important; text-overflow:ellipsis !important;; }\n",
       "    </style><thead><tr style= \"background: rgba(243, 243, 243, 0.75)\"><th class=\"tdhistory474130\"></th><th class=\"tdhistory474130\">COL_00</th><th class=\"tdhistory474130\">COL_01</th><th class=\"tdhistory474130\">COL_02</th><th class=\"tdhistory474130\">COL_03</th><th class=\"tdhistory474130\">COL_04</th></tr></thead><tbody class=\"tdhistory474130 resultset-body\"><tr><th class=\"tdhistory474130\" style= \"background: rgba(243, 243, 243, 0.75)\">1</th><td class=\"tdhistory474130\"></td><td class=\"tdhistory474130\">18507577</td><td class=\"tdhistory474130\">250105</td><td class=\"tdhistory474130\">MANZANA JORGE IÑAPARI 202</td><td class=\"tdhistory474130\">202</td></tr><tr><th class=\"tdhistory474130\" style= \"background: rgba(243, 243, 243, 0.75)\">2</th><td class=\"tdhistory474130\"></td><td class=\"tdhistory474130\">13999634</td><td class=\"tdhistory474130\">250107</td><td class=\"tdhistory474130\">OVALO FRANCISCO C.TELLO C20</td><td class=\"tdhistory474130\">C20</td></tr><tr><th class=\"tdhistory474130\" style= \"background: rgba(243, 243, 243, 0.75)\">3</th><td class=\"tdhistory474130\"></td><td class=\"tdhistory474130\">3315076</td><td class=\"tdhistory474130\">250101</td><td class=\"tdhistory474130\">AVENIDA SALVADOR VARGAS 1-B</td><td class=\"tdhistory474130\">1-B</td></tr><tr><th class=\"tdhistory474130\" style= \"background: rgba(243, 243, 243, 0.75)\">4</th><td class=\"tdhistory474130\"></td><td class=\"tdhistory474130\">9491691</td><td class=\"tdhistory474130\">250107</td><td class=\"tdhistory474130\">OVALO AMADOR REYES 404</td><td class=\"tdhistory474130\">404</td></tr><tr><th class=\"tdhistory474130\" style= \"background: rgba(243, 243, 243, 0.75)\">5</th><td class=\"tdhistory474130\"></td><td class=\"tdhistory474130\">4983748</td><td class=\"tdhistory474130\">250107</td><td class=\"tdhistory474130\">AV ANDRES IÑAPARI 001</td><td class=\"tdhistory474130\">001</td></tr><tr><th class=\"tdhistory474130\" style= \"background: rgba(243, 243, 243, 0.75)\">6</th><td class=\"tdhistory474130\"></td><td class=\"tdhistory474130\">11160363</td><td class=\"tdhistory474130\">250101</td><td class=\"tdhistory474130\">AV SALVADOR BENAVIDES A01</td><td class=\"tdhistory474130\">A01</td></tr><tr><th class=\"tdhistory474130\" style= \"background: rgba(243, 243, 243, 0.75)\">7</th><td class=\"tdhistory474130\"></td><td class=\"tdhistory474130\">15668306</td><td class=\"tdhistory474130\">250107</td><td class=\"tdhistory474130\">OVALO AMADOR CONCEPCIÓN 8981</td><td class=\"tdhistory474130\">8981</td></tr><tr><th class=\"tdhistory474130\" style= \"background: rgba(243, 243, 243, 0.75)\">8</th><td class=\"tdhistory474130\"></td><td class=\"tdhistory474130\">7823019</td><td class=\"tdhistory474130\">250101</td><td class=\"tdhistory474130\">CARRETERA LUIS JOSÉ 2-01</td><td class=\"tdhistory474130\">2-01</td></tr><tr><th class=\"tdhistory474130\" style= \"background: rgba(243, 243, 243, 0.75)\">9</th><td class=\"tdhistory474130\"></td><td class=\"tdhistory474130\">1646404</td><td class=\"tdhistory474130\">250102</td><td class=\"tdhistory474130\">AVENIDA FRANCISCO VARGAS 9</td><td class=\"tdhistory474130\">9</td></tr><tr><th class=\"tdhistory474130\" style= \"background: rgba(243, 243, 243, 0.75)\">10</th><td class=\"tdhistory474130\"></td><td class=\"tdhistory474130\">12330962</td><td class=\"tdhistory474130\">250101</td><td class=\"tdhistory474130\">CALLE JUAN CARLOS MÜLLER 20</td><td class=\"tdhistory474130\">20</td></tr></tbody></table></div>"
      ]
     },
     "execution_count": 2,
     "metadata": {
      "application/vnd.teradata.resultset": "{\"resultSetID\":\"/teradata/proyecto/Teradata/Resultsets/2023.10.30_19.16.27.248_UTC\",\"historyID\":2059,\"chunkID\":\"00001\",\"sessionid\":\"\",\"portnum\":\"\",\"dockermode\":\"standalone\",\"totalRowCount\":10,\"chunkCount\":0,\"rowLimit\":0,\"columnMetadata\":[{\"columnName\":\"COL_00\",\"columnTypeName\":\"VARCHAR\",\"length\":10,\"scale\":10},{\"columnNumber\":1,\"columnName\":\"COL_01\",\"columnTypeName\":\"BIGINT\"},{\"columnNumber\":2,\"columnName\":\"COL_02\",\"columnTypeName\":\"VARCHAR\",\"length\":8,\"scale\":8},{\"columnNumber\":3,\"columnName\":\"COL_03\",\"columnTypeName\":\"VARCHAR\",\"length\":100,\"scale\":100},{\"columnNumber\":4,\"columnName\":\"COL_04\",\"columnTypeName\":\"VARCHAR\",\"length\":10,\"scale\":10}]}"
     },
     "output_type": "execute_result"
    }
   ],
   "source": [
    "-- Primeros registros\n",
    "SEL TOP 10 * FROM caso2;"
   ]
  },
  {
   "cell_type": "markdown",
   "id": "c66fc503",
   "metadata": {},
   "source": [
    "### Tamaño de la tabla y cantidad de direcciones distintas"
   ]
  },
  {
   "cell_type": "code",
   "execution_count": 3,
   "id": "6b47f7f8",
   "metadata": {},
   "outputs": [
    {
     "data": {
      "application/vnd.teradata.resultset": "\"N\",\"NDIR\"\n\"20000000\",\"15750\"",
      "text/html": [
       "<div class = \"td-resultset-table-div\" style = \"max-height: 100%; overflow-y: auto\">\n",
       "      <table class=\"tdhistory112944\"><style>\n",
       "      table.tdhistory112944 { display: block !important; min-height: 105px !important; overflow: auto !important; height: 105px !important; width: 100% !important; border: 1px solid rgb(207, 207, 207) !important; border-collapse: collapse !important; ; color: var(--jp-ui-font-color1) !important; }\n",
       "      th.tdhistory112944 { border: 1px solid rgb(198,198,198) !important; border-collapse: collapse !important; ; padding: 2px 5px !important; ; font-size: 13px !important; ; text-align: center !important; white-space: normal !important; color: var(--jp-ui-font-color1) !important; }\n",
       "      th.tdhistory112944:last-child { text-align: left !important; }\n",
       "      tbody.tdhistory112944 tr:nth-child(even) { background: rgba(243, 243, 243, 0.75) !important; }\n",
       "      tbody.tdhistory112944 tr:nth-child(odd) { background: var(--jp-ui-inverse-font-color1) !important; }\n",
       "      td.tdhistory112944 { border: 1px solid rgb(207, 207, 207) !important; border-collapse: collapse !important; ; padding: 2px 5px !important; ; font-size: 13px !important; ; text-align: left !important;          white-space: nowrap !important; overflow:hidden !important; text-overflow:ellipsis !important;; }\n",
       "    </style><thead><tr style= \"background: rgba(243, 243, 243, 0.75)\"><th class=\"tdhistory112944\"></th><th class=\"tdhistory112944\">N</th><th class=\"tdhistory112944\">NDIR</th></tr></thead><tbody class=\"tdhistory112944 resultset-body\"><tr><th class=\"tdhistory112944\" style= \"background: rgba(243, 243, 243, 0.75)\">1</th><td class=\"tdhistory112944\">20000000</td><td class=\"tdhistory112944\">15750</td></tr></tbody></table></div>"
      ]
     },
     "execution_count": 3,
     "metadata": {
      "application/vnd.teradata.resultset": "{\"resultSetID\":\"/teradata/proyecto/Teradata/Resultsets/2023.10.30_19.17.15.839_UTC\",\"historyID\":2060,\"chunkID\":\"00001\",\"sessionid\":\"\",\"portnum\":\"\",\"dockermode\":\"standalone\",\"totalRowCount\":1,\"chunkCount\":0,\"rowLimit\":0,\"columnMetadata\":[{\"columnName\":\"N\",\"columnTypeName\":\"INTEGER\"},{\"columnNumber\":1,\"columnName\":\"NDIR\",\"columnTypeName\":\"INTEGER\"}]}"
     },
     "output_type": "execute_result"
    }
   ],
   "source": [
    "-- Cantidad de Registros\n",
    "SEL COUNT(1) N, COUNT(DISTINCT COL_03) NDIR FROM caso2;"
   ]
  },
  {
   "cell_type": "markdown",
   "id": "7a4b24ab-309b-4409-8980-36c0fdbe803b",
   "metadata": {},
   "source": [
    "### Funciones de Reemplazo de Texto"
   ]
  },
  {
   "cell_type": "code",
   "execution_count": 4,
   "id": "af151d43-c964-4de6-b53f-e66a9c5db1f6",
   "metadata": {},
   "outputs": [
    {
     "data": {
      "application/vnd.teradata.resultset": "\"COL03\"\n\"AVENIDA JORGE JOSÉ 8981\"\n\"MANZANA JORGE BENAVIDES 100\"\n\"JIRON MANUEL ÑAÑA 333\"\n\"CALLE ANDRES CONIÓN 2-01\"\n\"AV MANUEL CONIÓN 8981\"\n\"MANZANA AMADOR MÜLLER 2-01\"\n\"AVENIDA MANUEL IÑAPARI 9\"\n\"JIRON LUIS JOSÉ 320\"\n\"CALLE FRANCISCO VARGAS 001\"\n\"JIRON RENATO MÜLLER C20\"\n\"CARRETERA ENRIQUE CONIÓN 100\"\n\"JIRON ENRIQUE REYES 100\"\n\"MANZANA ANDRES PULPA 001\"\n\"AVENIDA AMADOR JOSÉ 1001\"\n\"OVALO AMADOR ZELA 1-B\"\n\"JIRON ENRIQUE ÑAÑA 333\"\n\"OVALO JUAN CARLOS CONIÓN 20\"\n\"OVALO LUIS REYES 2A\"\n\"AVENIDA MANUEL OCTUBRE 20\"\n\"CARRETERA SALVADOR VARGAS 2A\"",
      "text/html": [
       "<div class = \"td-resultset-table-div\" style = \"max-height: 100%; overflow-y: auto\">\n",
       "      <table class=\"tdhistory863878\"><style>\n",
       "      table.tdhistory863878 { display: block !important; min-height: 504px !important; overflow: auto !important; height: 504px !important; width: 100% !important; border: 1px solid rgb(207, 207, 207) !important; border-collapse: collapse !important; ; color: var(--jp-ui-font-color1) !important; }\n",
       "      th.tdhistory863878 { border: 1px solid rgb(198,198,198) !important; border-collapse: collapse !important; ; padding: 2px 5px !important; ; font-size: 13px !important; ; text-align: center !important; white-space: normal !important; color: var(--jp-ui-font-color1) !important; }\n",
       "      th.tdhistory863878:last-child { text-align: left !important; }\n",
       "      tbody.tdhistory863878 tr:nth-child(even) { background: rgba(243, 243, 243, 0.75) !important; }\n",
       "      tbody.tdhistory863878 tr:nth-child(odd) { background: var(--jp-ui-inverse-font-color1) !important; }\n",
       "      td.tdhistory863878 { border: 1px solid rgb(207, 207, 207) !important; border-collapse: collapse !important; ; padding: 2px 5px !important; ; font-size: 13px !important; ; text-align: left !important;          white-space: nowrap !important; overflow:hidden !important; text-overflow:ellipsis !important;; }\n",
       "    </style><thead><tr style= \"background: rgba(243, 243, 243, 0.75)\"><th class=\"tdhistory863878\"></th><th class=\"tdhistory863878\">COL03</th></tr></thead><tbody class=\"tdhistory863878 resultset-body\"><tr><th class=\"tdhistory863878\" style= \"background: rgba(243, 243, 243, 0.75)\">1</th><td class=\"tdhistory863878\">AVENIDA JORGE JOSÉ 8981</td></tr><tr><th class=\"tdhistory863878\" style= \"background: rgba(243, 243, 243, 0.75)\">2</th><td class=\"tdhistory863878\">MANZANA JORGE BENAVIDES 100</td></tr><tr><th class=\"tdhistory863878\" style= \"background: rgba(243, 243, 243, 0.75)\">3</th><td class=\"tdhistory863878\">JIRON MANUEL ÑAÑA 333</td></tr><tr><th class=\"tdhistory863878\" style= \"background: rgba(243, 243, 243, 0.75)\">4</th><td class=\"tdhistory863878\">CALLE ANDRES CONIÓN 2-01</td></tr><tr><th class=\"tdhistory863878\" style= \"background: rgba(243, 243, 243, 0.75)\">5</th><td class=\"tdhistory863878\">AV MANUEL CONIÓN 8981</td></tr><tr><th class=\"tdhistory863878\" style= \"background: rgba(243, 243, 243, 0.75)\">6</th><td class=\"tdhistory863878\">MANZANA AMADOR MÜLLER 2-01</td></tr><tr><th class=\"tdhistory863878\" style= \"background: rgba(243, 243, 243, 0.75)\">7</th><td class=\"tdhistory863878\">AVENIDA MANUEL IÑAPARI 9</td></tr><tr><th class=\"tdhistory863878\" style= \"background: rgba(243, 243, 243, 0.75)\">8</th><td class=\"tdhistory863878\">JIRON LUIS JOSÉ 320</td></tr><tr><th class=\"tdhistory863878\" style= \"background: rgba(243, 243, 243, 0.75)\">9</th><td class=\"tdhistory863878\">CALLE FRANCISCO VARGAS 001</td></tr><tr><th class=\"tdhistory863878\" style= \"background: rgba(243, 243, 243, 0.75)\">10</th><td class=\"tdhistory863878\">JIRON RENATO MÜLLER C20</td></tr><tr><th class=\"tdhistory863878\" style= \"background: rgba(243, 243, 243, 0.75)\">11</th><td class=\"tdhistory863878\">CARRETERA ENRIQUE CONIÓN 100</td></tr><tr><th class=\"tdhistory863878\" style= \"background: rgba(243, 243, 243, 0.75)\">12</th><td class=\"tdhistory863878\">JIRON ENRIQUE REYES 100</td></tr><tr><th class=\"tdhistory863878\" style= \"background: rgba(243, 243, 243, 0.75)\">13</th><td class=\"tdhistory863878\">MANZANA ANDRES PULPA 001</td></tr><tr><th class=\"tdhistory863878\" style= \"background: rgba(243, 243, 243, 0.75)\">14</th><td class=\"tdhistory863878\">AVENIDA AMADOR JOSÉ 1001</td></tr><tr><th class=\"tdhistory863878\" style= \"background: rgba(243, 243, 243, 0.75)\">15</th><td class=\"tdhistory863878\">OVALO AMADOR ZELA 1-B</td></tr><tr><th class=\"tdhistory863878\" style= \"background: rgba(243, 243, 243, 0.75)\">16</th><td class=\"tdhistory863878\">JIRON ENRIQUE ÑAÑA 333</td></tr><tr><th class=\"tdhistory863878\" style= \"background: rgba(243, 243, 243, 0.75)\">17</th><td class=\"tdhistory863878\">OVALO JUAN CARLOS CONIÓN 20</td></tr><tr><th class=\"tdhistory863878\" style= \"background: rgba(243, 243, 243, 0.75)\">18</th><td class=\"tdhistory863878\">OVALO LUIS REYES 2A</td></tr><tr><th class=\"tdhistory863878\" style= \"background: rgba(243, 243, 243, 0.75)\">19</th><td class=\"tdhistory863878\">AVENIDA MANUEL OCTUBRE 20</td></tr><tr><th class=\"tdhistory863878\" style= \"background: rgba(243, 243, 243, 0.75)\">20</th><td class=\"tdhistory863878\">CARRETERA SALVADOR VARGAS 2A</td></tr></tbody></table></div>"
      ]
     },
     "execution_count": 4,
     "metadata": {
      "application/vnd.teradata.resultset": "{\"resultSetID\":\"/teradata/proyecto/Teradata/Resultsets/2023.10.30_19.18.21.465_UTC\",\"historyID\":2061,\"chunkID\":\"00001\",\"sessionid\":\"\",\"portnum\":\"\",\"dockermode\":\"standalone\",\"totalRowCount\":20,\"chunkCount\":0,\"rowLimit\":0,\"columnMetadata\":[{\"columnName\":\"COL03\",\"columnTypeName\":\"VARCHAR\",\"length\":8000,\"scale\":8000}]}"
     },
     "output_type": "execute_result"
    }
   ],
   "source": [
    "SELECT TOP 20 REGEXP_REPLACE(REGEXP_REPLACE(REGEXP_REPLACE(REGEXP_REPLACE(REGEXP_REPLACE(REGEXP_REPLACE(REGEXP_REPLACE(\n",
    "REGEXP_REPLACE(REGEXP_REPLACE(REGEXP_REPLACE(REGEXP_REPLACE(REGEXP_REPLACE(REGEXP_REPLACE(REGEXP_REPLACE(REGEXP_REPLACE(\n",
    "REGEXP_REPLACE(REGEXP_REPLACE(REGEXP_REPLACE(REGEXP_REPLACE(REGEXP_REPLACE(REGEXP_REPLACE(REGEXP_REPLACE(REGEXP_REPLACE(\n",
    "REGEXP_REPLACE(REGEXP_REPLACE(COL_03 ,'BLOCK' ,''),'ASC VIV',''),' DE VIV.',''),'VIV.',''),'A.H.',''),'AGRUP.',''),'C.P.',''),\n",
    "'AGRP.',''),'VIV ',''),'VEN ' ,''),'AMPL.',''),'HAB.',''),'ASC VIV',''),'C.HABITACIONAL',''),'AMP ',''),'AMPLC.',''),'A.H.',''),\n",
    "'PROG.',''),'SCTR ',''),'P. JOVEN ',''),'PASAJE ',''),'DPTO.',''),'APV.',''),'BL. ',''),'BK. ','') COL03 FROM CASO2;"
   ]
  },
  {
   "cell_type": "markdown",
   "id": "16d19f30-adc4-4b0e-a7de-20e57becc093",
   "metadata": {},
   "source": [
    "### Creando la tabla con direcciones únicas"
   ]
  },
  {
   "cell_type": "code",
   "execution_count": 5,
   "id": "19ef38f7-e2ee-4072-9b3c-946722e0b4b7",
   "metadata": {},
   "outputs": [
    {
     "data": {
      "text/plain": [
       "Success: 0 rows affected"
      ]
     },
     "execution_count": 5,
     "metadata": {
      "application/vnd.teradata.resultset": ""
     },
     "output_type": "execute_result"
    }
   ],
   "source": [
    "CREATE TABLE CASO2RED AS (\n",
    "    SELECT MIN(COL_01) COL_01, COL_03 FROM CASO2 GROUP BY 2) WITH DATA \n",
    "PRIMARY INDEX(COL_01);"
   ]
  },
  {
   "cell_type": "markdown",
   "id": "c9004f9e-152d-43d2-9eaa-bf06dcaedd22",
   "metadata": {},
   "source": [
    "### Primeros Registros"
   ]
  },
  {
   "cell_type": "code",
   "execution_count": 6,
   "id": "aef60874-633e-423a-890c-5ace52b67a96",
   "metadata": {},
   "outputs": [
    {
     "data": {
      "application/vnd.teradata.resultset": "\"COL_01\",\"COL_03\"\n\"4690\",\"JIRON AMADOR CONCEPCIÓN 1001\"\n\"29629\",\"CARRETERA ANDRES VARGAS 8981\"\n\"13397\",\"CALLE AMADOR BENAVIDES 1001\"\n\"183\",\"MANZANA ANDRES CONCEPCIÓN 320\"\n\"17883\",\"MANZANA SALVADOR OCTUBRE A01\"\n\"20901\",\"MANZANA ANDRES PULPA 20\"\n\"2997\",\"MANZANA LUIS JOSÉ 2A\"\n\"5485\",\"CALLE JUAN CARLOS JOSÉ 2-01\"\n\"1672\",\"CALLE LUIS MÜLLER 20\"\n\"18108\",\"CALLE FRANCISCO BOLOGNESI A01\"",
      "text/html": [
       "<div class = \"td-resultset-table-div\" style = \"max-height: 100%; overflow-y: auto\">\n",
       "      <table class=\"tdhistory250718\"><style>\n",
       "      table.tdhistory250718 { display: block !important; min-height: 294px !important; overflow: auto !important; height: 294px !important; width: 100% !important; border: 1px solid rgb(207, 207, 207) !important; border-collapse: collapse !important; ; color: var(--jp-ui-font-color1) !important; }\n",
       "      th.tdhistory250718 { border: 1px solid rgb(198,198,198) !important; border-collapse: collapse !important; ; padding: 2px 5px !important; ; font-size: 13px !important; ; text-align: center !important; white-space: normal !important; color: var(--jp-ui-font-color1) !important; }\n",
       "      th.tdhistory250718:last-child { text-align: left !important; }\n",
       "      tbody.tdhistory250718 tr:nth-child(even) { background: rgba(243, 243, 243, 0.75) !important; }\n",
       "      tbody.tdhistory250718 tr:nth-child(odd) { background: var(--jp-ui-inverse-font-color1) !important; }\n",
       "      td.tdhistory250718 { border: 1px solid rgb(207, 207, 207) !important; border-collapse: collapse !important; ; padding: 2px 5px !important; ; font-size: 13px !important; ; text-align: left !important;          white-space: nowrap !important; overflow:hidden !important; text-overflow:ellipsis !important;; }\n",
       "    </style><thead><tr style= \"background: rgba(243, 243, 243, 0.75)\"><th class=\"tdhistory250718\"></th><th class=\"tdhistory250718\">COL_01</th><th class=\"tdhistory250718\">COL_03</th></tr></thead><tbody class=\"tdhistory250718 resultset-body\"><tr><th class=\"tdhistory250718\" style= \"background: rgba(243, 243, 243, 0.75)\">1</th><td class=\"tdhistory250718\">4690</td><td class=\"tdhistory250718\">JIRON AMADOR CONCEPCIÓN 1001</td></tr><tr><th class=\"tdhistory250718\" style= \"background: rgba(243, 243, 243, 0.75)\">2</th><td class=\"tdhistory250718\">29629</td><td class=\"tdhistory250718\">CARRETERA ANDRES VARGAS 8981</td></tr><tr><th class=\"tdhistory250718\" style= \"background: rgba(243, 243, 243, 0.75)\">3</th><td class=\"tdhistory250718\">13397</td><td class=\"tdhistory250718\">CALLE AMADOR BENAVIDES 1001</td></tr><tr><th class=\"tdhistory250718\" style= \"background: rgba(243, 243, 243, 0.75)\">4</th><td class=\"tdhistory250718\">183</td><td class=\"tdhistory250718\">MANZANA ANDRES CONCEPCIÓN 320</td></tr><tr><th class=\"tdhistory250718\" style= \"background: rgba(243, 243, 243, 0.75)\">5</th><td class=\"tdhistory250718\">17883</td><td class=\"tdhistory250718\">MANZANA SALVADOR OCTUBRE A01</td></tr><tr><th class=\"tdhistory250718\" style= \"background: rgba(243, 243, 243, 0.75)\">6</th><td class=\"tdhistory250718\">20901</td><td class=\"tdhistory250718\">MANZANA ANDRES PULPA 20</td></tr><tr><th class=\"tdhistory250718\" style= \"background: rgba(243, 243, 243, 0.75)\">7</th><td class=\"tdhistory250718\">2997</td><td class=\"tdhistory250718\">MANZANA LUIS JOSÉ 2A</td></tr><tr><th class=\"tdhistory250718\" style= \"background: rgba(243, 243, 243, 0.75)\">8</th><td class=\"tdhistory250718\">5485</td><td class=\"tdhistory250718\">CALLE JUAN CARLOS JOSÉ 2-01</td></tr><tr><th class=\"tdhistory250718\" style= \"background: rgba(243, 243, 243, 0.75)\">9</th><td class=\"tdhistory250718\">1672</td><td class=\"tdhistory250718\">CALLE LUIS MÜLLER 20</td></tr><tr><th class=\"tdhistory250718\" style= \"background: rgba(243, 243, 243, 0.75)\">10</th><td class=\"tdhistory250718\">18108</td><td class=\"tdhistory250718\">CALLE FRANCISCO BOLOGNESI A01</td></tr></tbody></table></div>"
      ]
     },
     "execution_count": 6,
     "metadata": {
      "application/vnd.teradata.resultset": "{\"resultSetID\":\"/teradata/proyecto/Teradata/Resultsets/2023.10.30_19.19.51.255_UTC\",\"historyID\":2063,\"chunkID\":\"00001\",\"sessionid\":\"\",\"portnum\":\"\",\"dockermode\":\"standalone\",\"totalRowCount\":10,\"chunkCount\":0,\"rowLimit\":0,\"columnMetadata\":[{\"columnName\":\"COL_01\",\"columnTypeName\":\"BIGINT\"},{\"columnNumber\":1,\"columnName\":\"COL_03\",\"columnTypeName\":\"VARCHAR\",\"length\":100,\"scale\":100}]}"
     },
     "output_type": "execute_result"
    }
   ],
   "source": [
    "SELECT TOP 10 * FROM CASO2RED;"
   ]
  },
  {
   "cell_type": "markdown",
   "id": "062a14f7-a85f-44f7-8106-3a602fe99f0e",
   "metadata": {},
   "source": [
    "### Cantidad de Registros"
   ]
  },
  {
   "cell_type": "code",
   "execution_count": 7,
   "id": "9992bf7a-edcc-4611-ab91-a4c0726c2d6e",
   "metadata": {},
   "outputs": [
    {
     "data": {
      "application/vnd.teradata.resultset": "\"N\"\n\"15750\"",
      "text/html": [
       "<div class = \"td-resultset-table-div\" style = \"max-height: 100%; overflow-y: auto\">\n",
       "      <table class=\"tdhistory286316\"><style>\n",
       "      table.tdhistory286316 { display: block !important; min-height: 105px !important; overflow: auto !important; height: 105px !important; width: 100% !important; border: 1px solid rgb(207, 207, 207) !important; border-collapse: collapse !important; ; color: var(--jp-ui-font-color1) !important; }\n",
       "      th.tdhistory286316 { border: 1px solid rgb(198,198,198) !important; border-collapse: collapse !important; ; padding: 2px 5px !important; ; font-size: 13px !important; ; text-align: center !important; white-space: normal !important; color: var(--jp-ui-font-color1) !important; }\n",
       "      th.tdhistory286316:last-child { text-align: left !important; }\n",
       "      tbody.tdhistory286316 tr:nth-child(even) { background: rgba(243, 243, 243, 0.75) !important; }\n",
       "      tbody.tdhistory286316 tr:nth-child(odd) { background: var(--jp-ui-inverse-font-color1) !important; }\n",
       "      td.tdhistory286316 { border: 1px solid rgb(207, 207, 207) !important; border-collapse: collapse !important; ; padding: 2px 5px !important; ; font-size: 13px !important; ; text-align: left !important;          white-space: nowrap !important; overflow:hidden !important; text-overflow:ellipsis !important;; }\n",
       "    </style><thead><tr style= \"background: rgba(243, 243, 243, 0.75)\"><th class=\"tdhistory286316\"></th><th class=\"tdhistory286316\">N</th></tr></thead><tbody class=\"tdhistory286316 resultset-body\"><tr><th class=\"tdhistory286316\" style= \"background: rgba(243, 243, 243, 0.75)\">1</th><td class=\"tdhistory286316\">15750</td></tr></tbody></table></div>"
      ]
     },
     "execution_count": 7,
     "metadata": {
      "application/vnd.teradata.resultset": "{\"resultSetID\":\"/teradata/proyecto/Teradata/Resultsets/2023.10.30_19.20.05.080_UTC\",\"historyID\":2064,\"chunkID\":\"00001\",\"sessionid\":\"\",\"portnum\":\"\",\"dockermode\":\"standalone\",\"totalRowCount\":1,\"chunkCount\":0,\"rowLimit\":0,\"columnMetadata\":[{\"columnName\":\"N\",\"columnTypeName\":\"INTEGER\"}]}"
     },
     "output_type": "execute_result"
    }
   ],
   "source": [
    "SELECT COUNT(1) N FROM CASO2RED;"
   ]
  },
  {
   "cell_type": "markdown",
   "id": "802777ef",
   "metadata": {},
   "source": [
    "![Slide](images/Diapositiva5.PNG)\n",
    "\n",
    "## **Creando la Matriz para comparar todas las direcciones**"
   ]
  },
  {
   "cell_type": "code",
   "execution_count": 8,
   "id": "c554f875-1ef8-40f0-a4e6-2c7e1b6efb9f",
   "metadata": {},
   "outputs": [
    {
     "data": {
      "text/plain": [
       "Success: 0 rows affected"
      ]
     },
     "execution_count": 8,
     "metadata": {
      "application/vnd.teradata.resultset": ""
     },
     "output_type": "execute_result"
    }
   ],
   "source": [
    "CREATE TABLE CASO2CRUCE AS (\n",
    "SELECT nom1.COL_01 userid, nom2.COL_01 userid2, nom1.COL_03 name1, nom2.COL_03 name2\n",
    "FROM CASO2RED nom1, (SELECT * FROM CASO2RED WHERE COL_01<3000) nom2\n",
    "WHERE userid <> USERID2\n",
    ") WITH DATA PRIMARY INDEX(USERID);"
   ]
  },
  {
   "cell_type": "markdown",
   "id": "2bf5e00a-54fe-45d9-bf53-3dc526ca6883",
   "metadata": {},
   "source": [
    "### Cantidad de Registros"
   ]
  },
  {
   "cell_type": "code",
   "execution_count": 9,
   "id": "b1ca81c4-6208-49b0-9aae-2259d7980a16",
   "metadata": {},
   "outputs": [
    {
     "data": {
      "application/vnd.teradata.resultset": "\"N\"\n\"42443555\"",
      "text/html": [
       "<div class = \"td-resultset-table-div\" style = \"max-height: 100%; overflow-y: auto\">\n",
       "      <table class=\"tdhistory855443\"><style>\n",
       "      table.tdhistory855443 { display: block !important; min-height: 105px !important; overflow: auto !important; height: 105px !important; width: 100% !important; border: 1px solid rgb(207, 207, 207) !important; border-collapse: collapse !important; ; color: var(--jp-ui-font-color1) !important; }\n",
       "      th.tdhistory855443 { border: 1px solid rgb(198,198,198) !important; border-collapse: collapse !important; ; padding: 2px 5px !important; ; font-size: 13px !important; ; text-align: center !important; white-space: normal !important; color: var(--jp-ui-font-color1) !important; }\n",
       "      th.tdhistory855443:last-child { text-align: left !important; }\n",
       "      tbody.tdhistory855443 tr:nth-child(even) { background: rgba(243, 243, 243, 0.75) !important; }\n",
       "      tbody.tdhistory855443 tr:nth-child(odd) { background: var(--jp-ui-inverse-font-color1) !important; }\n",
       "      td.tdhistory855443 { border: 1px solid rgb(207, 207, 207) !important; border-collapse: collapse !important; ; padding: 2px 5px !important; ; font-size: 13px !important; ; text-align: left !important;          white-space: nowrap !important; overflow:hidden !important; text-overflow:ellipsis !important;; }\n",
       "    </style><thead><tr style= \"background: rgba(243, 243, 243, 0.75)\"><th class=\"tdhistory855443\"></th><th class=\"tdhistory855443\">N</th></tr></thead><tbody class=\"tdhistory855443 resultset-body\"><tr><th class=\"tdhistory855443\" style= \"background: rgba(243, 243, 243, 0.75)\">1</th><td class=\"tdhistory855443\">42443555</td></tr></tbody></table></div>"
      ]
     },
     "execution_count": 9,
     "metadata": {
      "application/vnd.teradata.resultset": "{\"resultSetID\":\"/teradata/proyecto/Teradata/Resultsets/2023.10.30_19.38.09.594_UTC\",\"historyID\":2066,\"chunkID\":\"00001\",\"sessionid\":\"\",\"portnum\":\"\",\"dockermode\":\"standalone\",\"totalRowCount\":1,\"chunkCount\":0,\"rowLimit\":0,\"columnMetadata\":[{\"columnName\":\"N\",\"columnTypeName\":\"INTEGER\"}]}"
     },
     "output_type": "execute_result"
    }
   ],
   "source": [
    "SELECT COUNT(1) N FROM CASO2CRUCE;"
   ]
  },
  {
   "cell_type": "code",
   "execution_count": 10,
   "id": "ae31a4db-d66a-47d8-8c80-318160d34ed4",
   "metadata": {},
   "outputs": [
    {
     "data": {
      "application/vnd.teradata.resultset": "\"userid\",\"userid2\",\"name1\",\"name2\"\n\"15885\",\"1846\",\"JIRON ENRIQUE OCTUBRE 2A\",\"CARRETERA JORGE JOSÉ 8981\"\n\"15885\",\"990\",\"JIRON ENRIQUE OCTUBRE 2A\",\"OVALO SALVADOR ZELA 1001\"\n\"15885\",\"2052\",\"JIRON ENRIQUE OCTUBRE 2A\",\"MANZANA MANUEL ENERO A01\"\n\"15885\",\"33\",\"JIRON ENRIQUE OCTUBRE 2A\",\"JIRON ANDRES IÑAPARI 001\"\n\"15885\",\"2113\",\"JIRON ENRIQUE OCTUBRE 2A\",\"OVALO FRANCISCO OCTUBRE 9\"\n\"15885\",\"176\",\"JIRON ENRIQUE OCTUBRE 2A\",\"JIRON MANUEL VARGAS 404\"\n\"15885\",\"1032\",\"JIRON ENRIQUE OCTUBRE 2A\",\"CALLE JUAN CARLOS ENERO 1-B\"\n\"15885\",\"235\",\"JIRON ENRIQUE OCTUBRE 2A\",\"AVENIDA RENATO IÑAPARI 9\"\n\"15885\",\"1562\",\"JIRON ENRIQUE OCTUBRE 2A\",\"MANZANA RENATO CONCEPCIÓN C20\"\n\"15885\",\"704\",\"JIRON ENRIQUE OCTUBRE 2A\",\"AVENIDA FRANCISCO DE LA CRUZ 333\"",
      "text/html": [
       "<div class = \"td-resultset-table-div\" style = \"max-height: 100%; overflow-y: auto\">\n",
       "      <table class=\"tdhistory663674\"><style>\n",
       "      table.tdhistory663674 { display: block !important; min-height: 294px !important; overflow: auto !important; height: 294px !important; width: 100% !important; border: 1px solid rgb(207, 207, 207) !important; border-collapse: collapse !important; ; color: var(--jp-ui-font-color1) !important; }\n",
       "      th.tdhistory663674 { border: 1px solid rgb(198,198,198) !important; border-collapse: collapse !important; ; padding: 2px 5px !important; ; font-size: 13px !important; ; text-align: center !important; white-space: normal !important; color: var(--jp-ui-font-color1) !important; }\n",
       "      th.tdhistory663674:last-child { text-align: left !important; }\n",
       "      tbody.tdhistory663674 tr:nth-child(even) { background: rgba(243, 243, 243, 0.75) !important; }\n",
       "      tbody.tdhistory663674 tr:nth-child(odd) { background: var(--jp-ui-inverse-font-color1) !important; }\n",
       "      td.tdhistory663674 { border: 1px solid rgb(207, 207, 207) !important; border-collapse: collapse !important; ; padding: 2px 5px !important; ; font-size: 13px !important; ; text-align: left !important;          white-space: nowrap !important; overflow:hidden !important; text-overflow:ellipsis !important;; }\n",
       "    </style><thead><tr style= \"background: rgba(243, 243, 243, 0.75)\"><th class=\"tdhistory663674\"></th><th class=\"tdhistory663674\">userid</th><th class=\"tdhistory663674\">userid2</th><th class=\"tdhistory663674\">name1</th><th class=\"tdhistory663674\">name2</th></tr></thead><tbody class=\"tdhistory663674 resultset-body\"><tr><th class=\"tdhistory663674\" style= \"background: rgba(243, 243, 243, 0.75)\">1</th><td class=\"tdhistory663674\">15885</td><td class=\"tdhistory663674\">1846</td><td class=\"tdhistory663674\">JIRON ENRIQUE OCTUBRE 2A</td><td class=\"tdhistory663674\">CARRETERA JORGE JOSÉ 8981</td></tr><tr><th class=\"tdhistory663674\" style= \"background: rgba(243, 243, 243, 0.75)\">2</th><td class=\"tdhistory663674\">15885</td><td class=\"tdhistory663674\">990</td><td class=\"tdhistory663674\">JIRON ENRIQUE OCTUBRE 2A</td><td class=\"tdhistory663674\">OVALO SALVADOR ZELA 1001</td></tr><tr><th class=\"tdhistory663674\" style= \"background: rgba(243, 243, 243, 0.75)\">3</th><td class=\"tdhistory663674\">15885</td><td class=\"tdhistory663674\">2052</td><td class=\"tdhistory663674\">JIRON ENRIQUE OCTUBRE 2A</td><td class=\"tdhistory663674\">MANZANA MANUEL ENERO A01</td></tr><tr><th class=\"tdhistory663674\" style= \"background: rgba(243, 243, 243, 0.75)\">4</th><td class=\"tdhistory663674\">15885</td><td class=\"tdhistory663674\">33</td><td class=\"tdhistory663674\">JIRON ENRIQUE OCTUBRE 2A</td><td class=\"tdhistory663674\">JIRON ANDRES IÑAPARI 001</td></tr><tr><th class=\"tdhistory663674\" style= \"background: rgba(243, 243, 243, 0.75)\">5</th><td class=\"tdhistory663674\">15885</td><td class=\"tdhistory663674\">2113</td><td class=\"tdhistory663674\">JIRON ENRIQUE OCTUBRE 2A</td><td class=\"tdhistory663674\">OVALO FRANCISCO OCTUBRE 9</td></tr><tr><th class=\"tdhistory663674\" style= \"background: rgba(243, 243, 243, 0.75)\">6</th><td class=\"tdhistory663674\">15885</td><td class=\"tdhistory663674\">176</td><td class=\"tdhistory663674\">JIRON ENRIQUE OCTUBRE 2A</td><td class=\"tdhistory663674\">JIRON MANUEL VARGAS 404</td></tr><tr><th class=\"tdhistory663674\" style= \"background: rgba(243, 243, 243, 0.75)\">7</th><td class=\"tdhistory663674\">15885</td><td class=\"tdhistory663674\">1032</td><td class=\"tdhistory663674\">JIRON ENRIQUE OCTUBRE 2A</td><td class=\"tdhistory663674\">CALLE JUAN CARLOS ENERO 1-B</td></tr><tr><th class=\"tdhistory663674\" style= \"background: rgba(243, 243, 243, 0.75)\">8</th><td class=\"tdhistory663674\">15885</td><td class=\"tdhistory663674\">235</td><td class=\"tdhistory663674\">JIRON ENRIQUE OCTUBRE 2A</td><td class=\"tdhistory663674\">AVENIDA RENATO IÑAPARI 9</td></tr><tr><th class=\"tdhistory663674\" style= \"background: rgba(243, 243, 243, 0.75)\">9</th><td class=\"tdhistory663674\">15885</td><td class=\"tdhistory663674\">1562</td><td class=\"tdhistory663674\">JIRON ENRIQUE OCTUBRE 2A</td><td class=\"tdhistory663674\">MANZANA RENATO CONCEPCIÓN C20</td></tr><tr><th class=\"tdhistory663674\" style= \"background: rgba(243, 243, 243, 0.75)\">10</th><td class=\"tdhistory663674\">15885</td><td class=\"tdhistory663674\">704</td><td class=\"tdhistory663674\">JIRON ENRIQUE OCTUBRE 2A</td><td class=\"tdhistory663674\">AVENIDA FRANCISCO DE LA CRUZ 333</td></tr></tbody></table></div>"
      ]
     },
     "execution_count": 10,
     "metadata": {
      "application/vnd.teradata.resultset": "{\"resultSetID\":\"/teradata/proyecto/Teradata/Resultsets/2023.10.30_19.42.41.913_UTC\",\"historyID\":2067,\"chunkID\":\"00001\",\"sessionid\":\"\",\"portnum\":\"\",\"dockermode\":\"standalone\",\"totalRowCount\":10,\"chunkCount\":0,\"rowLimit\":0,\"columnMetadata\":[{\"columnName\":\"userid\",\"columnTypeName\":\"BIGINT\"},{\"columnNumber\":1,\"columnName\":\"userid2\",\"columnTypeName\":\"BIGINT\"},{\"columnNumber\":2,\"columnName\":\"name1\",\"columnTypeName\":\"VARCHAR\",\"length\":100,\"scale\":100},{\"columnNumber\":3,\"columnName\":\"name2\",\"columnTypeName\":\"VARCHAR\",\"length\":100,\"scale\":100}]}"
     },
     "output_type": "execute_result"
    }
   ],
   "source": [
    "SELECT TOP 10 * FROM CASO2CRUCE;"
   ]
  },
  {
   "cell_type": "markdown",
   "id": "1ec12eb2",
   "metadata": {},
   "source": [
    "### Creando la Tabla Final de Direcciones más similares (Distancia de Levenshtein)"
   ]
  },
  {
   "cell_type": "code",
   "execution_count": 11,
   "id": "b8983bd2",
   "metadata": {},
   "outputs": [
    {
     "data": {
      "text/plain": [
       "Success: 0 rows affected"
      ]
     },
     "execution_count": 11,
     "metadata": {
      "application/vnd.teradata.resultset": ""
     },
     "output_type": "execute_result"
    }
   ],
   "source": [
    "CREATE TABLE CASO2COMPARA AS (\n",
    "SELECT * FROM (\n",
    "SELECT * FROM StringSimilarity (\n",
    " ON CASO2CRUCE PARTITION BY ANY\n",
    " USING\n",
    " ComparisonColumnPairs ('LD(name1,name2) AS similarity')\n",
    " Accumulate ('userid','userid2')\n",
    ") AS dt) as dt1\n",
    "QUALIFY ROW_NUMBER() OVER(PARTITION BY userid ORDER BY similarity DESC) = 1) WITH DATA;"
   ]
  },
  {
   "cell_type": "markdown",
   "id": "d4e472df-69d1-4c26-82c2-251d97c10d68",
   "metadata": {},
   "source": [
    "### Primeros Registros"
   ]
  },
  {
   "cell_type": "code",
   "execution_count": 12,
   "id": "27db530a-e9fb-47da-9a30-d67eca8ae233",
   "metadata": {},
   "outputs": [
    {
     "data": {
      "application/vnd.teradata.resultset": "\"userid\",\"userid2\",\"similarity\"\n\"2814\",\"821\",\"0.8333333333333334\"\n\"3079\",\"2063\",\"0.9047619047619048\"\n\"82220\",\"1871\",\"0.875\"\n\"11929\",\"2083\",\"0.7931034482758621\"\n\"60543\",\"1610\",\"0.9523809523809523\"\n\"12112\",\"2541\",\"0.9230769230769231\"\n\"12928\",\"2514\",\"0.9375\"\n\"17435\",\"2078\",\"0.9545454545454546\"\n\"50368\",\"2263\",\"0.9130434782608695\"\n\"22064\",\"102\",\"0.9565217391304348\"",
      "text/html": [
       "<div class = \"td-resultset-table-div\" style = \"max-height: 100%; overflow-y: auto\">\n",
       "      <table class=\"tdhistory504299\"><style>\n",
       "      table.tdhistory504299 { display: block !important; min-height: 294px !important; overflow: auto !important; height: 294px !important; width: 100% !important; border: 1px solid rgb(207, 207, 207) !important; border-collapse: collapse !important; ; color: var(--jp-ui-font-color1) !important; }\n",
       "      th.tdhistory504299 { border: 1px solid rgb(198,198,198) !important; border-collapse: collapse !important; ; padding: 2px 5px !important; ; font-size: 13px !important; ; text-align: center !important; white-space: normal !important; color: var(--jp-ui-font-color1) !important; }\n",
       "      th.tdhistory504299:last-child { text-align: left !important; }\n",
       "      tbody.tdhistory504299 tr:nth-child(even) { background: rgba(243, 243, 243, 0.75) !important; }\n",
       "      tbody.tdhistory504299 tr:nth-child(odd) { background: var(--jp-ui-inverse-font-color1) !important; }\n",
       "      td.tdhistory504299 { border: 1px solid rgb(207, 207, 207) !important; border-collapse: collapse !important; ; padding: 2px 5px !important; ; font-size: 13px !important; ; text-align: left !important;          white-space: nowrap !important; overflow:hidden !important; text-overflow:ellipsis !important;; }\n",
       "    </style><thead><tr style= \"background: rgba(243, 243, 243, 0.75)\"><th class=\"tdhistory504299\"></th><th class=\"tdhistory504299\">userid</th><th class=\"tdhistory504299\">userid2</th><th class=\"tdhistory504299\">similarity</th></tr></thead><tbody class=\"tdhistory504299 resultset-body\"><tr><th class=\"tdhistory504299\" style= \"background: rgba(243, 243, 243, 0.75)\">1</th><td class=\"tdhistory504299\">2814</td><td class=\"tdhistory504299\">821</td><td class=\"tdhistory504299\">0.8333333333333334</td></tr><tr><th class=\"tdhistory504299\" style= \"background: rgba(243, 243, 243, 0.75)\">2</th><td class=\"tdhistory504299\">3079</td><td class=\"tdhistory504299\">2063</td><td class=\"tdhistory504299\">0.9047619047619048</td></tr><tr><th class=\"tdhistory504299\" style= \"background: rgba(243, 243, 243, 0.75)\">3</th><td class=\"tdhistory504299\">82220</td><td class=\"tdhistory504299\">1871</td><td class=\"tdhistory504299\">0.875</td></tr><tr><th class=\"tdhistory504299\" style= \"background: rgba(243, 243, 243, 0.75)\">4</th><td class=\"tdhistory504299\">11929</td><td class=\"tdhistory504299\">2083</td><td class=\"tdhistory504299\">0.7931034482758621</td></tr><tr><th class=\"tdhistory504299\" style= \"background: rgba(243, 243, 243, 0.75)\">5</th><td class=\"tdhistory504299\">60543</td><td class=\"tdhistory504299\">1610</td><td class=\"tdhistory504299\">0.9523809523809523</td></tr><tr><th class=\"tdhistory504299\" style= \"background: rgba(243, 243, 243, 0.75)\">6</th><td class=\"tdhistory504299\">12112</td><td class=\"tdhistory504299\">2541</td><td class=\"tdhistory504299\">0.9230769230769231</td></tr><tr><th class=\"tdhistory504299\" style= \"background: rgba(243, 243, 243, 0.75)\">7</th><td class=\"tdhistory504299\">12928</td><td class=\"tdhistory504299\">2514</td><td class=\"tdhistory504299\">0.9375</td></tr><tr><th class=\"tdhistory504299\" style= \"background: rgba(243, 243, 243, 0.75)\">8</th><td class=\"tdhistory504299\">17435</td><td class=\"tdhistory504299\">2078</td><td class=\"tdhistory504299\">0.9545454545454546</td></tr><tr><th class=\"tdhistory504299\" style= \"background: rgba(243, 243, 243, 0.75)\">9</th><td class=\"tdhistory504299\">50368</td><td class=\"tdhistory504299\">2263</td><td class=\"tdhistory504299\">0.9130434782608695</td></tr><tr><th class=\"tdhistory504299\" style= \"background: rgba(243, 243, 243, 0.75)\">10</th><td class=\"tdhistory504299\">22064</td><td class=\"tdhistory504299\">102</td><td class=\"tdhistory504299\">0.9565217391304348</td></tr></tbody></table></div>"
      ]
     },
     "execution_count": 12,
     "metadata": {
      "application/vnd.teradata.resultset": "{\"resultSetID\":\"/teradata/proyecto/Teradata/Resultsets/2023.10.30_19.46.17.803_UTC\",\"historyID\":2069,\"chunkID\":\"00001\",\"sessionid\":\"\",\"portnum\":\"\",\"dockermode\":\"standalone\",\"totalRowCount\":10,\"chunkCount\":0,\"rowLimit\":0,\"columnMetadata\":[{\"columnName\":\"userid\",\"columnTypeName\":\"BIGINT\"},{\"columnNumber\":1,\"columnName\":\"userid2\",\"columnTypeName\":\"BIGINT\"},{\"columnNumber\":2,\"columnName\":\"similarity\",\"columnTypeName\":\"FLOAT\"}]}"
     },
     "output_type": "execute_result"
    }
   ],
   "source": [
    "SELECT TOP 10 * FROM CASO2COMPARA;"
   ]
  },
  {
   "cell_type": "markdown",
   "id": "dfd39857",
   "metadata": {},
   "source": [
    "### Revisando algunos ejemplos"
   ]
  },
  {
   "cell_type": "code",
   "execution_count": 13,
   "id": "e0c0fe23",
   "metadata": {},
   "outputs": [
    {
     "data": {
      "application/vnd.teradata.resultset": "\"COL_01\",\"COL_03\"\n\"2814\",\"AV AMADOR ZELA 1-B\"",
      "text/html": [
       "<div class = \"td-resultset-table-div\" style = \"max-height: 100%; overflow-y: auto\">\n",
       "      <table class=\"tdhistory991637\"><style>\n",
       "      table.tdhistory991637 { display: block !important; min-height: 105px !important; overflow: auto !important; height: 105px !important; width: 100% !important; border: 1px solid rgb(207, 207, 207) !important; border-collapse: collapse !important; ; color: var(--jp-ui-font-color1) !important; }\n",
       "      th.tdhistory991637 { border: 1px solid rgb(198,198,198) !important; border-collapse: collapse !important; ; padding: 2px 5px !important; ; font-size: 13px !important; ; text-align: center !important; white-space: normal !important; color: var(--jp-ui-font-color1) !important; }\n",
       "      th.tdhistory991637:last-child { text-align: left !important; }\n",
       "      tbody.tdhistory991637 tr:nth-child(even) { background: rgba(243, 243, 243, 0.75) !important; }\n",
       "      tbody.tdhistory991637 tr:nth-child(odd) { background: var(--jp-ui-inverse-font-color1) !important; }\n",
       "      td.tdhistory991637 { border: 1px solid rgb(207, 207, 207) !important; border-collapse: collapse !important; ; padding: 2px 5px !important; ; font-size: 13px !important; ; text-align: left !important;          white-space: nowrap !important; overflow:hidden !important; text-overflow:ellipsis !important;; }\n",
       "    </style><thead><tr style= \"background: rgba(243, 243, 243, 0.75)\"><th class=\"tdhistory991637\"></th><th class=\"tdhistory991637\">COL_01</th><th class=\"tdhistory991637\">COL_03</th></tr></thead><tbody class=\"tdhistory991637 resultset-body\"><tr><th class=\"tdhistory991637\" style= \"background: rgba(243, 243, 243, 0.75)\">1</th><td class=\"tdhistory991637\">2814</td><td class=\"tdhistory991637\">AV AMADOR ZELA 1-B</td></tr></tbody></table></div>"
      ]
     },
     "execution_count": 13,
     "metadata": {
      "application/vnd.teradata.resultset": "{\"resultSetID\":\"/teradata/proyecto/Teradata/Resultsets/2023.10.30_19.46.59.062_UTC\",\"historyID\":2070,\"chunkID\":\"00001\",\"sessionid\":\"\",\"portnum\":\"\",\"dockermode\":\"standalone\",\"totalRowCount\":1,\"chunkCount\":0,\"rowLimit\":0,\"columnMetadata\":[{\"columnName\":\"COL_01\",\"columnTypeName\":\"BIGINT\"},{\"columnNumber\":1,\"columnName\":\"COL_03\",\"columnTypeName\":\"VARCHAR\",\"length\":100,\"scale\":100}]}"
     },
     "output_type": "execute_result"
    },
    {
     "data": {
      "application/vnd.teradata.resultset": "\"COL_01\",\"COL_03\"\n\"821\",\"AV AMADOR ZELA C20\"",
      "text/html": [
       "<div class = \"td-resultset-table-div\" style = \"max-height: 100%; overflow-y: auto\">\n",
       "      <table class=\"tdhistory580800\"><style>\n",
       "      table.tdhistory580800 { display: block !important; min-height: 105px !important; overflow: auto !important; height: 105px !important; width: 100% !important; border: 1px solid rgb(207, 207, 207) !important; border-collapse: collapse !important; ; color: var(--jp-ui-font-color1) !important; }\n",
       "      th.tdhistory580800 { border: 1px solid rgb(198,198,198) !important; border-collapse: collapse !important; ; padding: 2px 5px !important; ; font-size: 13px !important; ; text-align: center !important; white-space: normal !important; color: var(--jp-ui-font-color1) !important; }\n",
       "      th.tdhistory580800:last-child { text-align: left !important; }\n",
       "      tbody.tdhistory580800 tr:nth-child(even) { background: rgba(243, 243, 243, 0.75) !important; }\n",
       "      tbody.tdhistory580800 tr:nth-child(odd) { background: var(--jp-ui-inverse-font-color1) !important; }\n",
       "      td.tdhistory580800 { border: 1px solid rgb(207, 207, 207) !important; border-collapse: collapse !important; ; padding: 2px 5px !important; ; font-size: 13px !important; ; text-align: left !important;          white-space: nowrap !important; overflow:hidden !important; text-overflow:ellipsis !important;; }\n",
       "    </style><thead><tr style= \"background: rgba(243, 243, 243, 0.75)\"><th class=\"tdhistory580800\"></th><th class=\"tdhistory580800\">COL_01</th><th class=\"tdhistory580800\">COL_03</th></tr></thead><tbody class=\"tdhistory580800 resultset-body\"><tr><th class=\"tdhistory580800\" style= \"background: rgba(243, 243, 243, 0.75)\">1</th><td class=\"tdhistory580800\">821</td><td class=\"tdhistory580800\">AV AMADOR ZELA C20</td></tr></tbody></table></div>"
      ]
     },
     "execution_count": 13,
     "metadata": {
      "application/vnd.teradata.resultset": "{\"resultSetID\":\"/teradata/proyecto/Teradata/Resultsets/2023.10.30_19.46.59.111_UTC\",\"historyID\":2071,\"chunkID\":\"00001\",\"sessionid\":\"\",\"portnum\":\"\",\"dockermode\":\"standalone\",\"totalRowCount\":1,\"chunkCount\":0,\"rowLimit\":0,\"columnMetadata\":[{\"columnName\":\"COL_01\",\"columnTypeName\":\"BIGINT\"},{\"columnNumber\":1,\"columnName\":\"COL_03\",\"columnTypeName\":\"VARCHAR\",\"length\":100,\"scale\":100}]}"
     },
     "output_type": "execute_result"
    }
   ],
   "source": [
    "SELECT * FROM CASO2RED WHERE COL_01=2814;\n",
    "SELECT * FROM CASO2RED WHERE COL_01=821;"
   ]
  },
  {
   "cell_type": "code",
   "execution_count": 14,
   "id": "a168fc6a-6880-40cd-a83c-619dc3e50998",
   "metadata": {},
   "outputs": [
    {
     "data": {
      "application/vnd.teradata.resultset": "\"COL_01\",\"COL_03\"\n\"60543\",\"AV AMADOR OCTUBRE C20\"",
      "text/html": [
       "<div class = \"td-resultset-table-div\" style = \"max-height: 100%; overflow-y: auto\">\n",
       "      <table class=\"tdhistory943033\"><style>\n",
       "      table.tdhistory943033 { display: block !important; min-height: 105px !important; overflow: auto !important; height: 105px !important; width: 100% !important; border: 1px solid rgb(207, 207, 207) !important; border-collapse: collapse !important; ; color: var(--jp-ui-font-color1) !important; }\n",
       "      th.tdhistory943033 { border: 1px solid rgb(198,198,198) !important; border-collapse: collapse !important; ; padding: 2px 5px !important; ; font-size: 13px !important; ; text-align: center !important; white-space: normal !important; color: var(--jp-ui-font-color1) !important; }\n",
       "      th.tdhistory943033:last-child { text-align: left !important; }\n",
       "      tbody.tdhistory943033 tr:nth-child(even) { background: rgba(243, 243, 243, 0.75) !important; }\n",
       "      tbody.tdhistory943033 tr:nth-child(odd) { background: var(--jp-ui-inverse-font-color1) !important; }\n",
       "      td.tdhistory943033 { border: 1px solid rgb(207, 207, 207) !important; border-collapse: collapse !important; ; padding: 2px 5px !important; ; font-size: 13px !important; ; text-align: left !important;          white-space: nowrap !important; overflow:hidden !important; text-overflow:ellipsis !important;; }\n",
       "    </style><thead><tr style= \"background: rgba(243, 243, 243, 0.75)\"><th class=\"tdhistory943033\"></th><th class=\"tdhistory943033\">COL_01</th><th class=\"tdhistory943033\">COL_03</th></tr></thead><tbody class=\"tdhistory943033 resultset-body\"><tr><th class=\"tdhistory943033\" style= \"background: rgba(243, 243, 243, 0.75)\">1</th><td class=\"tdhistory943033\">60543</td><td class=\"tdhistory943033\">AV AMADOR OCTUBRE C20</td></tr></tbody></table></div>"
      ]
     },
     "execution_count": 14,
     "metadata": {
      "application/vnd.teradata.resultset": "{\"resultSetID\":\"/teradata/proyecto/Teradata/Resultsets/2023.10.30_19.47.52.211_UTC\",\"historyID\":2072,\"chunkID\":\"00001\",\"sessionid\":\"\",\"portnum\":\"\",\"dockermode\":\"standalone\",\"totalRowCount\":1,\"chunkCount\":0,\"rowLimit\":0,\"columnMetadata\":[{\"columnName\":\"COL_01\",\"columnTypeName\":\"BIGINT\"},{\"columnNumber\":1,\"columnName\":\"COL_03\",\"columnTypeName\":\"VARCHAR\",\"length\":100,\"scale\":100}]}"
     },
     "output_type": "execute_result"
    },
    {
     "data": {
      "application/vnd.teradata.resultset": "\"COL_01\",\"COL_03\"\n\"1610\",\"AV AMADOR OCTUBRE 20\"",
      "text/html": [
       "<div class = \"td-resultset-table-div\" style = \"max-height: 100%; overflow-y: auto\">\n",
       "      <table class=\"tdhistory194199\"><style>\n",
       "      table.tdhistory194199 { display: block !important; min-height: 105px !important; overflow: auto !important; height: 105px !important; width: 100% !important; border: 1px solid rgb(207, 207, 207) !important; border-collapse: collapse !important; ; color: var(--jp-ui-font-color1) !important; }\n",
       "      th.tdhistory194199 { border: 1px solid rgb(198,198,198) !important; border-collapse: collapse !important; ; padding: 2px 5px !important; ; font-size: 13px !important; ; text-align: center !important; white-space: normal !important; color: var(--jp-ui-font-color1) !important; }\n",
       "      th.tdhistory194199:last-child { text-align: left !important; }\n",
       "      tbody.tdhistory194199 tr:nth-child(even) { background: rgba(243, 243, 243, 0.75) !important; }\n",
       "      tbody.tdhistory194199 tr:nth-child(odd) { background: var(--jp-ui-inverse-font-color1) !important; }\n",
       "      td.tdhistory194199 { border: 1px solid rgb(207, 207, 207) !important; border-collapse: collapse !important; ; padding: 2px 5px !important; ; font-size: 13px !important; ; text-align: left !important;          white-space: nowrap !important; overflow:hidden !important; text-overflow:ellipsis !important;; }\n",
       "    </style><thead><tr style= \"background: rgba(243, 243, 243, 0.75)\"><th class=\"tdhistory194199\"></th><th class=\"tdhistory194199\">COL_01</th><th class=\"tdhistory194199\">COL_03</th></tr></thead><tbody class=\"tdhistory194199 resultset-body\"><tr><th class=\"tdhistory194199\" style= \"background: rgba(243, 243, 243, 0.75)\">1</th><td class=\"tdhistory194199\">1610</td><td class=\"tdhistory194199\">AV AMADOR OCTUBRE 20</td></tr></tbody></table></div>"
      ]
     },
     "execution_count": 14,
     "metadata": {
      "application/vnd.teradata.resultset": "{\"resultSetID\":\"/teradata/proyecto/Teradata/Resultsets/2023.10.30_19.47.52.257_UTC\",\"historyID\":2073,\"chunkID\":\"00001\",\"sessionid\":\"\",\"portnum\":\"\",\"dockermode\":\"standalone\",\"totalRowCount\":1,\"chunkCount\":0,\"rowLimit\":0,\"columnMetadata\":[{\"columnName\":\"COL_01\",\"columnTypeName\":\"BIGINT\"},{\"columnNumber\":1,\"columnName\":\"COL_03\",\"columnTypeName\":\"VARCHAR\",\"length\":100,\"scale\":100}]}"
     },
     "output_type": "execute_result"
    }
   ],
   "source": [
    "SELECT * FROM CASO2RED WHERE COL_01=60543;\n",
    "SELECT * FROM CASO2RED WHERE COL_01=1610;"
   ]
  },
  {
   "cell_type": "code",
   "execution_count": 15,
   "id": "f0198009-8c18-4c2c-97bc-731a5fe9db62",
   "metadata": {},
   "outputs": [
    {
     "data": {
      "application/vnd.teradata.resultset": "\"COL_01\",\"COL_03\"\n\"22\",\"CARRETERA JUAN CARLOS DE LA CRUZ 001\"",
      "text/html": [
       "<div class = \"td-resultset-table-div\" style = \"max-height: 100%; overflow-y: auto\">\n",
       "      <table class=\"tdhistory889603\"><style>\n",
       "      table.tdhistory889603 { display: block !important; min-height: 105px !important; overflow: auto !important; height: 105px !important; width: 100% !important; border: 1px solid rgb(207, 207, 207) !important; border-collapse: collapse !important; ; color: var(--jp-ui-font-color1) !important; }\n",
       "      th.tdhistory889603 { border: 1px solid rgb(198,198,198) !important; border-collapse: collapse !important; ; padding: 2px 5px !important; ; font-size: 13px !important; ; text-align: center !important; white-space: normal !important; color: var(--jp-ui-font-color1) !important; }\n",
       "      th.tdhistory889603:last-child { text-align: left !important; }\n",
       "      tbody.tdhistory889603 tr:nth-child(even) { background: rgba(243, 243, 243, 0.75) !important; }\n",
       "      tbody.tdhistory889603 tr:nth-child(odd) { background: var(--jp-ui-inverse-font-color1) !important; }\n",
       "      td.tdhistory889603 { border: 1px solid rgb(207, 207, 207) !important; border-collapse: collapse !important; ; padding: 2px 5px !important; ; font-size: 13px !important; ; text-align: left !important;          white-space: nowrap !important; overflow:hidden !important; text-overflow:ellipsis !important;; }\n",
       "    </style><thead><tr style= \"background: rgba(243, 243, 243, 0.75)\"><th class=\"tdhistory889603\"></th><th class=\"tdhistory889603\">COL_01</th><th class=\"tdhistory889603\">COL_03</th></tr></thead><tbody class=\"tdhistory889603 resultset-body\"><tr><th class=\"tdhistory889603\" style= \"background: rgba(243, 243, 243, 0.75)\">1</th><td class=\"tdhistory889603\">22</td><td class=\"tdhistory889603\">CARRETERA JUAN CARLOS DE LA CRUZ 001</td></tr></tbody></table></div>"
      ]
     },
     "execution_count": 15,
     "metadata": {
      "application/vnd.teradata.resultset": "{\"resultSetID\":\"/teradata/proyecto/Teradata/Resultsets/2023.10.30_19.48.59.469_UTC\",\"historyID\":2074,\"chunkID\":\"00001\",\"sessionid\":\"\",\"portnum\":\"\",\"dockermode\":\"standalone\",\"totalRowCount\":1,\"chunkCount\":0,\"rowLimit\":0,\"columnMetadata\":[{\"columnName\":\"COL_01\",\"columnTypeName\":\"BIGINT\"},{\"columnNumber\":1,\"columnName\":\"COL_03\",\"columnTypeName\":\"VARCHAR\",\"length\":100,\"scale\":100}]}"
     },
     "output_type": "execute_result"
    },
    {
     "data": {
      "application/vnd.teradata.resultset": "\"COL_01\",\"COL_03\"\n\"4458\",\"CARRETERA JUAN CARLOS DE LA CRUZ A01\"",
      "text/html": [
       "<div class = \"td-resultset-table-div\" style = \"max-height: 100%; overflow-y: auto\">\n",
       "      <table class=\"tdhistory799266\"><style>\n",
       "      table.tdhistory799266 { display: block !important; min-height: 105px !important; overflow: auto !important; height: 105px !important; width: 100% !important; border: 1px solid rgb(207, 207, 207) !important; border-collapse: collapse !important; ; color: var(--jp-ui-font-color1) !important; }\n",
       "      th.tdhistory799266 { border: 1px solid rgb(198,198,198) !important; border-collapse: collapse !important; ; padding: 2px 5px !important; ; font-size: 13px !important; ; text-align: center !important; white-space: normal !important; color: var(--jp-ui-font-color1) !important; }\n",
       "      th.tdhistory799266:last-child { text-align: left !important; }\n",
       "      tbody.tdhistory799266 tr:nth-child(even) { background: rgba(243, 243, 243, 0.75) !important; }\n",
       "      tbody.tdhistory799266 tr:nth-child(odd) { background: var(--jp-ui-inverse-font-color1) !important; }\n",
       "      td.tdhistory799266 { border: 1px solid rgb(207, 207, 207) !important; border-collapse: collapse !important; ; padding: 2px 5px !important; ; font-size: 13px !important; ; text-align: left !important;          white-space: nowrap !important; overflow:hidden !important; text-overflow:ellipsis !important;; }\n",
       "    </style><thead><tr style= \"background: rgba(243, 243, 243, 0.75)\"><th class=\"tdhistory799266\"></th><th class=\"tdhistory799266\">COL_01</th><th class=\"tdhistory799266\">COL_03</th></tr></thead><tbody class=\"tdhistory799266 resultset-body\"><tr><th class=\"tdhistory799266\" style= \"background: rgba(243, 243, 243, 0.75)\">1</th><td class=\"tdhistory799266\">4458</td><td class=\"tdhistory799266\">CARRETERA JUAN CARLOS DE LA CRUZ A01</td></tr></tbody></table></div>"
      ]
     },
     "execution_count": 15,
     "metadata": {
      "application/vnd.teradata.resultset": "{\"resultSetID\":\"/teradata/proyecto/Teradata/Resultsets/2023.10.30_19.48.59.515_UTC\",\"historyID\":2075,\"chunkID\":\"00001\",\"sessionid\":\"\",\"portnum\":\"\",\"dockermode\":\"standalone\",\"totalRowCount\":1,\"chunkCount\":0,\"rowLimit\":0,\"columnMetadata\":[{\"columnName\":\"COL_01\",\"columnTypeName\":\"BIGINT\"},{\"columnNumber\":1,\"columnName\":\"COL_03\",\"columnTypeName\":\"VARCHAR\",\"length\":100,\"scale\":100}]}"
     },
     "output_type": "execute_result"
    }
   ],
   "source": [
    "SELECT * FROM CASO2RED WHERE COL_01=22;\n",
    "SELECT * FROM CASO2RED WHERE COL_01=4458;"
   ]
  },
  {
   "cell_type": "markdown",
   "id": "549242cf",
   "metadata": {},
   "source": [
    "## **Desarrollando Análisis más Enfocados en la Ubicación**\n",
    "### Distribución por Ubigeo"
   ]
  },
  {
   "cell_type": "code",
   "execution_count": 16,
   "id": "e6b86f3e",
   "metadata": {},
   "outputs": [
    {
     "data": {
      "application/vnd.teradata.resultset": "\"COL_02\",\"N\",\"NDIR\"\n\"250102\",\"3999670\",\"15750\"\n\"250101\",\"4002458\",\"15750\"\n\"250105\",\"4001648\",\"15750\"\n\"250201\",\"3997855\",\"15750\"\n\"250107\",\"3998369\",\"15750\"",
      "text/html": [
       "<div class = \"td-resultset-table-div\" style = \"max-height: 100%; overflow-y: auto\">\n",
       "      <table class=\"tdhistory916086\"><style>\n",
       "      table.tdhistory916086 { display: block !important; min-height: 189px !important; overflow: auto !important; height: 189px !important; width: 100% !important; border: 1px solid rgb(207, 207, 207) !important; border-collapse: collapse !important; ; color: var(--jp-ui-font-color1) !important; }\n",
       "      th.tdhistory916086 { border: 1px solid rgb(198,198,198) !important; border-collapse: collapse !important; ; padding: 2px 5px !important; ; font-size: 13px !important; ; text-align: center !important; white-space: normal !important; color: var(--jp-ui-font-color1) !important; }\n",
       "      th.tdhistory916086:last-child { text-align: left !important; }\n",
       "      tbody.tdhistory916086 tr:nth-child(even) { background: rgba(243, 243, 243, 0.75) !important; }\n",
       "      tbody.tdhistory916086 tr:nth-child(odd) { background: var(--jp-ui-inverse-font-color1) !important; }\n",
       "      td.tdhistory916086 { border: 1px solid rgb(207, 207, 207) !important; border-collapse: collapse !important; ; padding: 2px 5px !important; ; font-size: 13px !important; ; text-align: left !important;          white-space: nowrap !important; overflow:hidden !important; text-overflow:ellipsis !important;; }\n",
       "    </style><thead><tr style= \"background: rgba(243, 243, 243, 0.75)\"><th class=\"tdhistory916086\"></th><th class=\"tdhistory916086\">COL_02</th><th class=\"tdhistory916086\">N</th><th class=\"tdhistory916086\">NDIR</th></tr></thead><tbody class=\"tdhistory916086 resultset-body\"><tr><th class=\"tdhistory916086\" style= \"background: rgba(243, 243, 243, 0.75)\">1</th><td class=\"tdhistory916086\">250102</td><td class=\"tdhistory916086\">3999670</td><td class=\"tdhistory916086\">15750</td></tr><tr><th class=\"tdhistory916086\" style= \"background: rgba(243, 243, 243, 0.75)\">2</th><td class=\"tdhistory916086\">250101</td><td class=\"tdhistory916086\">4002458</td><td class=\"tdhistory916086\">15750</td></tr><tr><th class=\"tdhistory916086\" style= \"background: rgba(243, 243, 243, 0.75)\">3</th><td class=\"tdhistory916086\">250105</td><td class=\"tdhistory916086\">4001648</td><td class=\"tdhistory916086\">15750</td></tr><tr><th class=\"tdhistory916086\" style= \"background: rgba(243, 243, 243, 0.75)\">4</th><td class=\"tdhistory916086\">250201</td><td class=\"tdhistory916086\">3997855</td><td class=\"tdhistory916086\">15750</td></tr><tr><th class=\"tdhistory916086\" style= \"background: rgba(243, 243, 243, 0.75)\">5</th><td class=\"tdhistory916086\">250107</td><td class=\"tdhistory916086\">3998369</td><td class=\"tdhistory916086\">15750</td></tr></tbody></table></div>"
      ]
     },
     "execution_count": 16,
     "metadata": {
      "application/vnd.teradata.resultset": "{\"resultSetID\":\"/teradata/proyecto/Teradata/Resultsets/2023.10.30_19.58.31.061_UTC\",\"historyID\":2076,\"chunkID\":\"00001\",\"sessionid\":\"\",\"portnum\":\"\",\"dockermode\":\"standalone\",\"totalRowCount\":5,\"chunkCount\":0,\"rowLimit\":0,\"columnMetadata\":[{\"columnName\":\"COL_02\",\"columnTypeName\":\"VARCHAR\",\"length\":8,\"scale\":8},{\"columnNumber\":1,\"columnName\":\"N\",\"columnTypeName\":\"INTEGER\"},{\"columnNumber\":2,\"columnName\":\"NDIR\",\"columnTypeName\":\"INTEGER\"}]}"
     },
     "output_type": "execute_result"
    }
   ],
   "source": [
    "SEL COL_02, COUNT(1) N, COUNT(DISTINCT COL_03) NDIR FROM caso2 GROUP BY 1;"
   ]
  },
  {
   "cell_type": "markdown",
   "id": "a099c6a2-0715-45e7-b5f4-a5e03c4b13e9",
   "metadata": {},
   "source": [
    "### Si quisiéramos reducir el tamaño de las matrices, se podría hacer una búsqueda por UBIGEO"
   ]
  },
  {
   "cell_type": "code",
   "execution_count": 17,
   "id": "d11aa3a6-5a5a-4d12-9f29-500d0369cec8",
   "metadata": {},
   "outputs": [
    {
     "data": {
      "application/vnd.teradata.resultset": "\"COL_01\",\"COL_03\"\n\"53150\",\"JIRON RENATO MÜLLER A01\"\n\"60431\",\"AVENIDA MANUEL PULPA 8981\"\n\"55928\",\"MANZANA ENRIQUE PULPA 202\"\n\"102012\",\"JIRON FRANCISCO ENERO 404\"\n\"84405\",\"CALLE SALVADOR PULPA 1-B\"\n\"30253\",\"AV RENATO OCTUBRE 202\"\n\"208511\",\"AVENIDA JUAN CARLOS OCTUBRE A01\"\n\"147848\",\"CARRETERA RENATO ENERO 001\"\n\"118362\",\"OVALO AMADOR ZELA 202\"\n\"88616\",\"AVENIDA JUAN CARLOS JOSÉ 1001\"",
      "text/html": [
       "<div class = \"td-resultset-table-div\" style = \"max-height: 100%; overflow-y: auto\">\n",
       "      <table class=\"tdhistory817984\"><style>\n",
       "      table.tdhistory817984 { display: block !important; min-height: 294px !important; overflow: auto !important; height: 294px !important; width: 100% !important; border: 1px solid rgb(207, 207, 207) !important; border-collapse: collapse !important; ; color: var(--jp-ui-font-color1) !important; }\n",
       "      th.tdhistory817984 { border: 1px solid rgb(198,198,198) !important; border-collapse: collapse !important; ; padding: 2px 5px !important; ; font-size: 13px !important; ; text-align: center !important; white-space: normal !important; color: var(--jp-ui-font-color1) !important; }\n",
       "      th.tdhistory817984:last-child { text-align: left !important; }\n",
       "      tbody.tdhistory817984 tr:nth-child(even) { background: rgba(243, 243, 243, 0.75) !important; }\n",
       "      tbody.tdhistory817984 tr:nth-child(odd) { background: var(--jp-ui-inverse-font-color1) !important; }\n",
       "      td.tdhistory817984 { border: 1px solid rgb(207, 207, 207) !important; border-collapse: collapse !important; ; padding: 2px 5px !important; ; font-size: 13px !important; ; text-align: left !important;          white-space: nowrap !important; overflow:hidden !important; text-overflow:ellipsis !important;; }\n",
       "    </style><thead><tr style= \"background: rgba(243, 243, 243, 0.75)\"><th class=\"tdhistory817984\"></th><th class=\"tdhistory817984\">COL_01</th><th class=\"tdhistory817984\">COL_03</th></tr></thead><tbody class=\"tdhistory817984 resultset-body\"><tr><th class=\"tdhistory817984\" style= \"background: rgba(243, 243, 243, 0.75)\">1</th><td class=\"tdhistory817984\">53150</td><td class=\"tdhistory817984\">JIRON RENATO MÜLLER A01</td></tr><tr><th class=\"tdhistory817984\" style= \"background: rgba(243, 243, 243, 0.75)\">2</th><td class=\"tdhistory817984\">60431</td><td class=\"tdhistory817984\">AVENIDA MANUEL PULPA 8981</td></tr><tr><th class=\"tdhistory817984\" style= \"background: rgba(243, 243, 243, 0.75)\">3</th><td class=\"tdhistory817984\">55928</td><td class=\"tdhistory817984\">MANZANA ENRIQUE PULPA 202</td></tr><tr><th class=\"tdhistory817984\" style= \"background: rgba(243, 243, 243, 0.75)\">4</th><td class=\"tdhistory817984\">102012</td><td class=\"tdhistory817984\">JIRON FRANCISCO ENERO 404</td></tr><tr><th class=\"tdhistory817984\" style= \"background: rgba(243, 243, 243, 0.75)\">5</th><td class=\"tdhistory817984\">84405</td><td class=\"tdhistory817984\">CALLE SALVADOR PULPA 1-B</td></tr><tr><th class=\"tdhistory817984\" style= \"background: rgba(243, 243, 243, 0.75)\">6</th><td class=\"tdhistory817984\">30253</td><td class=\"tdhistory817984\">AV RENATO OCTUBRE 202</td></tr><tr><th class=\"tdhistory817984\" style= \"background: rgba(243, 243, 243, 0.75)\">7</th><td class=\"tdhistory817984\">208511</td><td class=\"tdhistory817984\">AVENIDA JUAN CARLOS OCTUBRE A01</td></tr><tr><th class=\"tdhistory817984\" style= \"background: rgba(243, 243, 243, 0.75)\">8</th><td class=\"tdhistory817984\">147848</td><td class=\"tdhistory817984\">CARRETERA RENATO ENERO 001</td></tr><tr><th class=\"tdhistory817984\" style= \"background: rgba(243, 243, 243, 0.75)\">9</th><td class=\"tdhistory817984\">118362</td><td class=\"tdhistory817984\">OVALO AMADOR ZELA 202</td></tr><tr><th class=\"tdhistory817984\" style= \"background: rgba(243, 243, 243, 0.75)\">10</th><td class=\"tdhistory817984\">88616</td><td class=\"tdhistory817984\">AVENIDA JUAN CARLOS JOSÉ 1001</td></tr></tbody></table></div>"
      ]
     },
     "execution_count": 17,
     "metadata": {
      "application/vnd.teradata.resultset": "{\"resultSetID\":\"/teradata/proyecto/Teradata/Resultsets/2023.10.30_19.59.29.502_UTC\",\"historyID\":2077,\"chunkID\":\"00001\",\"sessionid\":\"\",\"portnum\":\"\",\"dockermode\":\"standalone\",\"totalRowCount\":10,\"chunkCount\":0,\"rowLimit\":0,\"columnMetadata\":[{\"columnName\":\"COL_01\",\"columnTypeName\":\"BIGINT\"},{\"columnNumber\":1,\"columnName\":\"COL_03\",\"columnTypeName\":\"VARCHAR\",\"length\":100,\"scale\":100}]}"
     },
     "output_type": "execute_result"
    }
   ],
   "source": [
    "SELECT TOP 10 * FROM (\n",
    "SELECT MIN(COL_01) COL_01, COL_03 FROM CASO2 \n",
    "WHERE COL_02='250102'\n",
    "GROUP BY 2) as DT;"
   ]
  },
  {
   "cell_type": "markdown",
   "id": "68d9b86a-69a6-4c74-85b4-77c26c23ecd3",
   "metadata": {},
   "source": [
    "### Distancia Coseno (Se recomienda para comparar nombres en desorden)"
   ]
  },
  {
   "cell_type": "code",
   "execution_count": 18,
   "id": "f0d37b0f-36e6-4f19-96c2-00d32f82f8bd",
   "metadata": {},
   "outputs": [
    {
     "data": {
      "application/vnd.teradata.resultset": "\"userid\",\"userid2\",\"name1\",\"name2\",\"similarity\"\n\"22064\",\"1493\",\"MANZANA JORGE REYES 20\",\"JIRON MANUEL MÜLLER 202\",\"0.7416198487095663\"\n\"22064\",\"1472\",\"MANZANA JORGE REYES 20\",\"AVENIDA RENATO OCTUBRE 333\",\"0.7324220137800286\"\n\"22064\",\"1737\",\"MANZANA JORGE REYES 20\",\"CARRETERA RENATO DE LA CRUZ 8981\",\"0.7911329000851551\"\n\"22064\",\"1207\",\"MANZANA JORGE REYES 20\",\"AVENIDA ENRIQUE ÑAÑA 1001\",\"0.7458152383799166\"\n\"22064\",\"921\",\"MANZANA JORGE REYES 20\",\"OVALO ANDRES REYES 404\",\"0.8181818181818182\"\n\"22064\",\"1144\",\"MANZANA JORGE REYES 20\",\"CALLE LUIS JOSÉ 202\",\"0.5606119105813882\"\n\"22064\",\"2084\",\"MANZANA JORGE REYES 20\",\"MANZANA JORGE PULPA 1001\",\"0.7888426505157585\"\n\"22064\",\"1636\",\"MANZANA JORGE REYES 20\",\"AVENIDA JORGE BOLOGNESI 2A\",\"0.8259685381260148\"\n\"22064\",\"2431\",\"MANZANA JORGE REYES 20\",\"MANZANA MANUEL BENAVIDES 20\",\"0.829296991057688\"\n\"22064\",\"290\",\"MANZANA JORGE REYES 20\",\"CARRETERA ENRIQUE VARGAS 100\",\"0.8258948315174716\"",
      "text/html": [
       "<div class = \"td-resultset-table-div\" style = \"max-height: 100%; overflow-y: auto\">\n",
       "      <table class=\"tdhistory797722\"><style>\n",
       "      table.tdhistory797722 { display: block !important; min-height: 294px !important; overflow: auto !important; height: 294px !important; width: 100% !important; border: 1px solid rgb(207, 207, 207) !important; border-collapse: collapse !important; ; color: var(--jp-ui-font-color1) !important; }\n",
       "      th.tdhistory797722 { border: 1px solid rgb(198,198,198) !important; border-collapse: collapse !important; ; padding: 2px 5px !important; ; font-size: 13px !important; ; text-align: center !important; white-space: normal !important; color: var(--jp-ui-font-color1) !important; }\n",
       "      th.tdhistory797722:last-child { text-align: left !important; }\n",
       "      tbody.tdhistory797722 tr:nth-child(even) { background: rgba(243, 243, 243, 0.75) !important; }\n",
       "      tbody.tdhistory797722 tr:nth-child(odd) { background: var(--jp-ui-inverse-font-color1) !important; }\n",
       "      td.tdhistory797722 { border: 1px solid rgb(207, 207, 207) !important; border-collapse: collapse !important; ; padding: 2px 5px !important; ; font-size: 13px !important; ; text-align: left !important;          white-space: nowrap !important; overflow:hidden !important; text-overflow:ellipsis !important;; }\n",
       "    </style><thead><tr style= \"background: rgba(243, 243, 243, 0.75)\"><th class=\"tdhistory797722\"></th><th class=\"tdhistory797722\">userid</th><th class=\"tdhistory797722\">userid2</th><th class=\"tdhistory797722\">name1</th><th class=\"tdhistory797722\">name2</th><th class=\"tdhistory797722\">similarity</th></tr></thead><tbody class=\"tdhistory797722 resultset-body\"><tr><th class=\"tdhistory797722\" style= \"background: rgba(243, 243, 243, 0.75)\">1</th><td class=\"tdhistory797722\">22064</td><td class=\"tdhistory797722\">1493</td><td class=\"tdhistory797722\">MANZANA JORGE REYES 20</td><td class=\"tdhistory797722\">JIRON MANUEL MÜLLER 202</td><td class=\"tdhistory797722\">0.7416198487095663</td></tr><tr><th class=\"tdhistory797722\" style= \"background: rgba(243, 243, 243, 0.75)\">2</th><td class=\"tdhistory797722\">22064</td><td class=\"tdhistory797722\">1472</td><td class=\"tdhistory797722\">MANZANA JORGE REYES 20</td><td class=\"tdhistory797722\">AVENIDA RENATO OCTUBRE 333</td><td class=\"tdhistory797722\">0.7324220137800286</td></tr><tr><th class=\"tdhistory797722\" style= \"background: rgba(243, 243, 243, 0.75)\">3</th><td class=\"tdhistory797722\">22064</td><td class=\"tdhistory797722\">1737</td><td class=\"tdhistory797722\">MANZANA JORGE REYES 20</td><td class=\"tdhistory797722\">CARRETERA RENATO DE LA CRUZ 8981</td><td class=\"tdhistory797722\">0.7911329000851551</td></tr><tr><th class=\"tdhistory797722\" style= \"background: rgba(243, 243, 243, 0.75)\">4</th><td class=\"tdhistory797722\">22064</td><td class=\"tdhistory797722\">1207</td><td class=\"tdhistory797722\">MANZANA JORGE REYES 20</td><td class=\"tdhistory797722\">AVENIDA ENRIQUE ÑAÑA 1001</td><td class=\"tdhistory797722\">0.7458152383799166</td></tr><tr><th class=\"tdhistory797722\" style= \"background: rgba(243, 243, 243, 0.75)\">5</th><td class=\"tdhistory797722\">22064</td><td class=\"tdhistory797722\">921</td><td class=\"tdhistory797722\">MANZANA JORGE REYES 20</td><td class=\"tdhistory797722\">OVALO ANDRES REYES 404</td><td class=\"tdhistory797722\">0.8181818181818182</td></tr><tr><th class=\"tdhistory797722\" style= \"background: rgba(243, 243, 243, 0.75)\">6</th><td class=\"tdhistory797722\">22064</td><td class=\"tdhistory797722\">1144</td><td class=\"tdhistory797722\">MANZANA JORGE REYES 20</td><td class=\"tdhistory797722\">CALLE LUIS JOSÉ 202</td><td class=\"tdhistory797722\">0.5606119105813882</td></tr><tr><th class=\"tdhistory797722\" style= \"background: rgba(243, 243, 243, 0.75)\">7</th><td class=\"tdhistory797722\">22064</td><td class=\"tdhistory797722\">2084</td><td class=\"tdhistory797722\">MANZANA JORGE REYES 20</td><td class=\"tdhistory797722\">MANZANA JORGE PULPA 1001</td><td class=\"tdhistory797722\">0.7888426505157585</td></tr><tr><th class=\"tdhistory797722\" style= \"background: rgba(243, 243, 243, 0.75)\">8</th><td class=\"tdhistory797722\">22064</td><td class=\"tdhistory797722\">1636</td><td class=\"tdhistory797722\">MANZANA JORGE REYES 20</td><td class=\"tdhistory797722\">AVENIDA JORGE BOLOGNESI 2A</td><td class=\"tdhistory797722\">0.8259685381260148</td></tr><tr><th class=\"tdhistory797722\" style= \"background: rgba(243, 243, 243, 0.75)\">9</th><td class=\"tdhistory797722\">22064</td><td class=\"tdhistory797722\">2431</td><td class=\"tdhistory797722\">MANZANA JORGE REYES 20</td><td class=\"tdhistory797722\">MANZANA MANUEL BENAVIDES 20</td><td class=\"tdhistory797722\">0.829296991057688</td></tr><tr><th class=\"tdhistory797722\" style= \"background: rgba(243, 243, 243, 0.75)\">10</th><td class=\"tdhistory797722\">22064</td><td class=\"tdhistory797722\">290</td><td class=\"tdhistory797722\">MANZANA JORGE REYES 20</td><td class=\"tdhistory797722\">CARRETERA ENRIQUE VARGAS 100</td><td class=\"tdhistory797722\">0.8258948315174716</td></tr></tbody></table></div>"
      ]
     },
     "execution_count": 18,
     "metadata": {
      "application/vnd.teradata.resultset": "{\"resultSetID\":\"/teradata/proyecto/Teradata/Resultsets/2023.10.30_19.59.38.714_UTC\",\"historyID\":2078,\"chunkID\":\"00001\",\"sessionid\":\"\",\"portnum\":\"\",\"dockermode\":\"standalone\",\"totalRowCount\":10,\"chunkCount\":0,\"rowLimit\":0,\"columnMetadata\":[{\"columnName\":\"userid\",\"columnTypeName\":\"BIGINT\"},{\"columnNumber\":1,\"columnName\":\"userid2\",\"columnTypeName\":\"BIGINT\"},{\"columnNumber\":2,\"columnName\":\"name1\",\"columnTypeName\":\"VARCHAR\",\"length\":100,\"scale\":100},{\"columnNumber\":3,\"columnName\":\"name2\",\"columnTypeName\":\"VARCHAR\",\"length\":100,\"scale\":100},{\"columnNumber\":4,\"columnName\":\"similarity\",\"columnTypeName\":\"FLOAT\"}]}"
     },
     "output_type": "execute_result"
    }
   ],
   "source": [
    "SELECT * FROM StringSimilarity (\n",
    " ON (SELECT TOP 10 * FROM CASO2CRUCE) PARTITION BY ANY\n",
    " USING\n",
    " ComparisonColumnPairs ('cosine(name1,name2) AS similarity')\n",
    " Accumulate ('userid','userid2','name1','name2')\n",
    ") AS dt"
   ]
  },
  {
   "cell_type": "markdown",
   "id": "b1a7533e-3c12-4dc0-b969-e9428c0d8013",
   "metadata": {},
   "source": [
    "### Distancia de Jaccard (Una alternativa intetesante para las Direcciones porque considera co-ocurrencias)"
   ]
  },
  {
   "cell_type": "code",
   "execution_count": 19,
   "id": "d0622735-7074-4e35-bcc4-8d01802faa95",
   "metadata": {},
   "outputs": [
    {
     "data": {
      "application/vnd.teradata.resultset": "\"userid\",\"userid2\",\"name1\",\"name2\",\"similarity\"\n\"7239\",\"2782\",\"CALLE RENATO JOSÉ 2A\",\"AV SALVADOR BENAVIDES 333\",\"0.4444444444444444\"\n\"7239\",\"2025\",\"CALLE RENATO JOSÉ 2A\",\"CALLE ENRIQUE JOSÉ 404\",\"0.6111111111111112\"\n\"7239\",\"923\",\"CALLE RENATO JOSÉ 2A\",\"MANZANA ENRIQUE MÜLLER 202\",\"0.35\"\n\"7239\",\"1209\",\"CALLE RENATO JOSÉ 2A\",\"CALLE ANDRES REYES C20\",\"0.5625\"\n\"7239\",\"2269\",\"CALLE RENATO JOSÉ 2A\",\"OVALO JORGE JOSÉ 404\",\"0.5294117647058824\"\n\"7239\",\"1493\",\"CALLE RENATO JOSÉ 2A\",\"JIRON MANUEL MÜLLER 202\",\"0.5\"\n\"7239\",\"719\",\"CALLE RENATO JOSÉ 2A\",\"OVALO SALVADOR PULPA 8981\",\"0.3\"\n\"7239\",\"271\",\"CALLE RENATO JOSÉ 2A\",\"AVENIDA ANDRES BENAVIDES 2A\",\"0.4117647058823529\"\n\"7239\",\"88\",\"CALLE RENATO JOSÉ 2A\",\"OVALO ENRIQUE CONCEPCIÓN 9\",\"0.4\"\n\"7239\",\"519\",\"CALLE RENATO JOSÉ 2A\",\"AVENIDA JUAN CARLOS VARGAS A01\",\"0.5\"",
      "text/html": [
       "<div class = \"td-resultset-table-div\" style = \"max-height: 100%; overflow-y: auto\">\n",
       "      <table class=\"tdhistory526654\"><style>\n",
       "      table.tdhistory526654 { display: block !important; min-height: 294px !important; overflow: auto !important; height: 294px !important; width: 100% !important; border: 1px solid rgb(207, 207, 207) !important; border-collapse: collapse !important; ; color: var(--jp-ui-font-color1) !important; }\n",
       "      th.tdhistory526654 { border: 1px solid rgb(198,198,198) !important; border-collapse: collapse !important; ; padding: 2px 5px !important; ; font-size: 13px !important; ; text-align: center !important; white-space: normal !important; color: var(--jp-ui-font-color1) !important; }\n",
       "      th.tdhistory526654:last-child { text-align: left !important; }\n",
       "      tbody.tdhistory526654 tr:nth-child(even) { background: rgba(243, 243, 243, 0.75) !important; }\n",
       "      tbody.tdhistory526654 tr:nth-child(odd) { background: var(--jp-ui-inverse-font-color1) !important; }\n",
       "      td.tdhistory526654 { border: 1px solid rgb(207, 207, 207) !important; border-collapse: collapse !important; ; padding: 2px 5px !important; ; font-size: 13px !important; ; text-align: left !important;          white-space: nowrap !important; overflow:hidden !important; text-overflow:ellipsis !important;; }\n",
       "    </style><thead><tr style= \"background: rgba(243, 243, 243, 0.75)\"><th class=\"tdhistory526654\"></th><th class=\"tdhistory526654\">userid</th><th class=\"tdhistory526654\">userid2</th><th class=\"tdhistory526654\">name1</th><th class=\"tdhistory526654\">name2</th><th class=\"tdhistory526654\">similarity</th></tr></thead><tbody class=\"tdhistory526654 resultset-body\"><tr><th class=\"tdhistory526654\" style= \"background: rgba(243, 243, 243, 0.75)\">1</th><td class=\"tdhistory526654\">7239</td><td class=\"tdhistory526654\">2782</td><td class=\"tdhistory526654\">CALLE RENATO JOSÉ 2A</td><td class=\"tdhistory526654\">AV SALVADOR BENAVIDES 333</td><td class=\"tdhistory526654\">0.4444444444444444</td></tr><tr><th class=\"tdhistory526654\" style= \"background: rgba(243, 243, 243, 0.75)\">2</th><td class=\"tdhistory526654\">7239</td><td class=\"tdhistory526654\">2025</td><td class=\"tdhistory526654\">CALLE RENATO JOSÉ 2A</td><td class=\"tdhistory526654\">CALLE ENRIQUE JOSÉ 404</td><td class=\"tdhistory526654\">0.6111111111111112</td></tr><tr><th class=\"tdhistory526654\" style= \"background: rgba(243, 243, 243, 0.75)\">3</th><td class=\"tdhistory526654\">7239</td><td class=\"tdhistory526654\">923</td><td class=\"tdhistory526654\">CALLE RENATO JOSÉ 2A</td><td class=\"tdhistory526654\">MANZANA ENRIQUE MÜLLER 202</td><td class=\"tdhistory526654\">0.35</td></tr><tr><th class=\"tdhistory526654\" style= \"background: rgba(243, 243, 243, 0.75)\">4</th><td class=\"tdhistory526654\">7239</td><td class=\"tdhistory526654\">1209</td><td class=\"tdhistory526654\">CALLE RENATO JOSÉ 2A</td><td class=\"tdhistory526654\">CALLE ANDRES REYES C20</td><td class=\"tdhistory526654\">0.5625</td></tr><tr><th class=\"tdhistory526654\" style= \"background: rgba(243, 243, 243, 0.75)\">5</th><td class=\"tdhistory526654\">7239</td><td class=\"tdhistory526654\">2269</td><td class=\"tdhistory526654\">CALLE RENATO JOSÉ 2A</td><td class=\"tdhistory526654\">OVALO JORGE JOSÉ 404</td><td class=\"tdhistory526654\">0.5294117647058824</td></tr><tr><th class=\"tdhistory526654\" style= \"background: rgba(243, 243, 243, 0.75)\">6</th><td class=\"tdhistory526654\">7239</td><td class=\"tdhistory526654\">1493</td><td class=\"tdhistory526654\">CALLE RENATO JOSÉ 2A</td><td class=\"tdhistory526654\">JIRON MANUEL MÜLLER 202</td><td class=\"tdhistory526654\">0.5</td></tr><tr><th class=\"tdhistory526654\" style= \"background: rgba(243, 243, 243, 0.75)\">7</th><td class=\"tdhistory526654\">7239</td><td class=\"tdhistory526654\">719</td><td class=\"tdhistory526654\">CALLE RENATO JOSÉ 2A</td><td class=\"tdhistory526654\">OVALO SALVADOR PULPA 8981</td><td class=\"tdhistory526654\">0.3</td></tr><tr><th class=\"tdhistory526654\" style= \"background: rgba(243, 243, 243, 0.75)\">8</th><td class=\"tdhistory526654\">7239</td><td class=\"tdhistory526654\">271</td><td class=\"tdhistory526654\">CALLE RENATO JOSÉ 2A</td><td class=\"tdhistory526654\">AVENIDA ANDRES BENAVIDES 2A</td><td class=\"tdhistory526654\">0.4117647058823529</td></tr><tr><th class=\"tdhistory526654\" style= \"background: rgba(243, 243, 243, 0.75)\">9</th><td class=\"tdhistory526654\">7239</td><td class=\"tdhistory526654\">88</td><td class=\"tdhistory526654\">CALLE RENATO JOSÉ 2A</td><td class=\"tdhistory526654\">OVALO ENRIQUE CONCEPCIÓN 9</td><td class=\"tdhistory526654\">0.4</td></tr><tr><th class=\"tdhistory526654\" style= \"background: rgba(243, 243, 243, 0.75)\">10</th><td class=\"tdhistory526654\">7239</td><td class=\"tdhistory526654\">519</td><td class=\"tdhistory526654\">CALLE RENATO JOSÉ 2A</td><td class=\"tdhistory526654\">AVENIDA JUAN CARLOS VARGAS A01</td><td class=\"tdhistory526654\">0.5</td></tr></tbody></table></div>"
      ]
     },
     "execution_count": 19,
     "metadata": {
      "application/vnd.teradata.resultset": "{\"resultSetID\":\"/teradata/proyecto/Teradata/Resultsets/2023.10.30_20.02.12.451_UTC\",\"historyID\":2079,\"chunkID\":\"00001\",\"sessionid\":\"\",\"portnum\":\"\",\"dockermode\":\"standalone\",\"totalRowCount\":10,\"chunkCount\":0,\"rowLimit\":0,\"columnMetadata\":[{\"columnName\":\"userid\",\"columnTypeName\":\"BIGINT\"},{\"columnNumber\":1,\"columnName\":\"userid2\",\"columnTypeName\":\"BIGINT\"},{\"columnNumber\":2,\"columnName\":\"name1\",\"columnTypeName\":\"VARCHAR\",\"length\":100,\"scale\":100},{\"columnNumber\":3,\"columnName\":\"name2\",\"columnTypeName\":\"VARCHAR\",\"length\":100,\"scale\":100},{\"columnNumber\":4,\"columnName\":\"similarity\",\"columnTypeName\":\"FLOAT\"}]}"
     },
     "output_type": "execute_result"
    }
   ],
   "source": [
    "SELECT * FROM StringSimilarity (\n",
    " ON (SELECT TOP 10 * FROM CASO2CRUCE) PARTITION BY ANY\n",
    " USING\n",
    " ComparisonColumnPairs ('jaccard(name1,name2) AS similarity')\n",
    " Accumulate ('userid','userid2','name1','name2')\n",
    ") AS dt"
   ]
  },
  {
   "cell_type": "markdown",
   "id": "24bca710-5550-470a-a935-68985a30475b",
   "metadata": {},
   "source": [
    "### Distancia de Jaro-Winkler (Considera el inicio de cada palabra)"
   ]
  },
  {
   "cell_type": "code",
   "execution_count": 20,
   "id": "2aac7e88-a3e6-4030-aadc-e1bb194f0dba",
   "metadata": {},
   "outputs": [
    {
     "data": {
      "application/vnd.teradata.resultset": "\"userid\",\"userid2\",\"name1\",\"name2\",\"similarity\"\n\"22064\",\"1493\",\"MANZANA JORGE REYES 20\",\"JIRON MANUEL MÜLLER 202\",\"0.6891084760649978\"\n\"22064\",\"1472\",\"MANZANA JORGE REYES 20\",\"AVENIDA RENATO OCTUBRE 333\",\"0.605894105894106\"\n\"22064\",\"1737\",\"MANZANA JORGE REYES 20\",\"CARRETERA RENATO DE LA CRUZ 8981\",\"0.5375145687645687\"\n\"22064\",\"1207\",\"MANZANA JORGE REYES 20\",\"AVENIDA ENRIQUE ÑAÑA 1001\",\"0.5754312354312354\"\n\"22064\",\"921\",\"MANZANA JORGE REYES 20\",\"OVALO ANDRES REYES 404\",\"0.6767676767676768\"\n\"22064\",\"1144\",\"MANZANA JORGE REYES 20\",\"CALLE LUIS JOSÉ 202\",\"0.5602870813397128\"\n\"22064\",\"2084\",\"MANZANA JORGE REYES 20\",\"MANZANA JORGE PULPA 1001\",\"0.8787878787878788\"\n\"22064\",\"1636\",\"MANZANA JORGE REYES 20\",\"AVENIDA JORGE BOLOGNESI 2A\",\"0.6418026418026418\"\n\"22064\",\"2431\",\"MANZANA JORGE REYES 20\",\"MANZANA MANUEL BENAVIDES 20\",\"0.8639730639730641\"\n\"22064\",\"290\",\"MANZANA JORGE REYES 20\",\"CARRETERA ENRIQUE VARGAS 100\",\"0.6280663780663781\"",
      "text/html": [
       "<div class = \"td-resultset-table-div\" style = \"max-height: 100%; overflow-y: auto\">\n",
       "      <table class=\"tdhistory766519\"><style>\n",
       "      table.tdhistory766519 { display: block !important; min-height: 294px !important; overflow: auto !important; height: 294px !important; width: 100% !important; border: 1px solid rgb(207, 207, 207) !important; border-collapse: collapse !important; ; color: var(--jp-ui-font-color1) !important; }\n",
       "      th.tdhistory766519 { border: 1px solid rgb(198,198,198) !important; border-collapse: collapse !important; ; padding: 2px 5px !important; ; font-size: 13px !important; ; text-align: center !important; white-space: normal !important; color: var(--jp-ui-font-color1) !important; }\n",
       "      th.tdhistory766519:last-child { text-align: left !important; }\n",
       "      tbody.tdhistory766519 tr:nth-child(even) { background: rgba(243, 243, 243, 0.75) !important; }\n",
       "      tbody.tdhistory766519 tr:nth-child(odd) { background: var(--jp-ui-inverse-font-color1) !important; }\n",
       "      td.tdhistory766519 { border: 1px solid rgb(207, 207, 207) !important; border-collapse: collapse !important; ; padding: 2px 5px !important; ; font-size: 13px !important; ; text-align: left !important;          white-space: nowrap !important; overflow:hidden !important; text-overflow:ellipsis !important;; }\n",
       "    </style><thead><tr style= \"background: rgba(243, 243, 243, 0.75)\"><th class=\"tdhistory766519\"></th><th class=\"tdhistory766519\">userid</th><th class=\"tdhistory766519\">userid2</th><th class=\"tdhistory766519\">name1</th><th class=\"tdhistory766519\">name2</th><th class=\"tdhistory766519\">similarity</th></tr></thead><tbody class=\"tdhistory766519 resultset-body\"><tr><th class=\"tdhistory766519\" style= \"background: rgba(243, 243, 243, 0.75)\">1</th><td class=\"tdhistory766519\">22064</td><td class=\"tdhistory766519\">1493</td><td class=\"tdhistory766519\">MANZANA JORGE REYES 20</td><td class=\"tdhistory766519\">JIRON MANUEL MÜLLER 202</td><td class=\"tdhistory766519\">0.6891084760649978</td></tr><tr><th class=\"tdhistory766519\" style= \"background: rgba(243, 243, 243, 0.75)\">2</th><td class=\"tdhistory766519\">22064</td><td class=\"tdhistory766519\">1472</td><td class=\"tdhistory766519\">MANZANA JORGE REYES 20</td><td class=\"tdhistory766519\">AVENIDA RENATO OCTUBRE 333</td><td class=\"tdhistory766519\">0.605894105894106</td></tr><tr><th class=\"tdhistory766519\" style= \"background: rgba(243, 243, 243, 0.75)\">3</th><td class=\"tdhistory766519\">22064</td><td class=\"tdhistory766519\">1737</td><td class=\"tdhistory766519\">MANZANA JORGE REYES 20</td><td class=\"tdhistory766519\">CARRETERA RENATO DE LA CRUZ 8981</td><td class=\"tdhistory766519\">0.5375145687645687</td></tr><tr><th class=\"tdhistory766519\" style= \"background: rgba(243, 243, 243, 0.75)\">4</th><td class=\"tdhistory766519\">22064</td><td class=\"tdhistory766519\">1207</td><td class=\"tdhistory766519\">MANZANA JORGE REYES 20</td><td class=\"tdhistory766519\">AVENIDA ENRIQUE ÑAÑA 1001</td><td class=\"tdhistory766519\">0.5754312354312354</td></tr><tr><th class=\"tdhistory766519\" style= \"background: rgba(243, 243, 243, 0.75)\">5</th><td class=\"tdhistory766519\">22064</td><td class=\"tdhistory766519\">921</td><td class=\"tdhistory766519\">MANZANA JORGE REYES 20</td><td class=\"tdhistory766519\">OVALO ANDRES REYES 404</td><td class=\"tdhistory766519\">0.6767676767676768</td></tr><tr><th class=\"tdhistory766519\" style= \"background: rgba(243, 243, 243, 0.75)\">6</th><td class=\"tdhistory766519\">22064</td><td class=\"tdhistory766519\">1144</td><td class=\"tdhistory766519\">MANZANA JORGE REYES 20</td><td class=\"tdhistory766519\">CALLE LUIS JOSÉ 202</td><td class=\"tdhistory766519\">0.5602870813397128</td></tr><tr><th class=\"tdhistory766519\" style= \"background: rgba(243, 243, 243, 0.75)\">7</th><td class=\"tdhistory766519\">22064</td><td class=\"tdhistory766519\">2084</td><td class=\"tdhistory766519\">MANZANA JORGE REYES 20</td><td class=\"tdhistory766519\">MANZANA JORGE PULPA 1001</td><td class=\"tdhistory766519\">0.8787878787878788</td></tr><tr><th class=\"tdhistory766519\" style= \"background: rgba(243, 243, 243, 0.75)\">8</th><td class=\"tdhistory766519\">22064</td><td class=\"tdhistory766519\">1636</td><td class=\"tdhistory766519\">MANZANA JORGE REYES 20</td><td class=\"tdhistory766519\">AVENIDA JORGE BOLOGNESI 2A</td><td class=\"tdhistory766519\">0.6418026418026418</td></tr><tr><th class=\"tdhistory766519\" style= \"background: rgba(243, 243, 243, 0.75)\">9</th><td class=\"tdhistory766519\">22064</td><td class=\"tdhistory766519\">2431</td><td class=\"tdhistory766519\">MANZANA JORGE REYES 20</td><td class=\"tdhistory766519\">MANZANA MANUEL BENAVIDES 20</td><td class=\"tdhistory766519\">0.8639730639730641</td></tr><tr><th class=\"tdhistory766519\" style= \"background: rgba(243, 243, 243, 0.75)\">10</th><td class=\"tdhistory766519\">22064</td><td class=\"tdhistory766519\">290</td><td class=\"tdhistory766519\">MANZANA JORGE REYES 20</td><td class=\"tdhistory766519\">CARRETERA ENRIQUE VARGAS 100</td><td class=\"tdhistory766519\">0.6280663780663781</td></tr></tbody></table></div>"
      ]
     },
     "execution_count": 20,
     "metadata": {
      "application/vnd.teradata.resultset": "{\"resultSetID\":\"/teradata/proyecto/Teradata/Resultsets/2023.10.30_20.02.25.226_UTC\",\"historyID\":2080,\"chunkID\":\"00001\",\"sessionid\":\"\",\"portnum\":\"\",\"dockermode\":\"standalone\",\"totalRowCount\":10,\"chunkCount\":0,\"rowLimit\":0,\"columnMetadata\":[{\"columnName\":\"userid\",\"columnTypeName\":\"BIGINT\"},{\"columnNumber\":1,\"columnName\":\"userid2\",\"columnTypeName\":\"BIGINT\"},{\"columnNumber\":2,\"columnName\":\"name1\",\"columnTypeName\":\"VARCHAR\",\"length\":100,\"scale\":100},{\"columnNumber\":3,\"columnName\":\"name2\",\"columnTypeName\":\"VARCHAR\",\"length\":100,\"scale\":100},{\"columnNumber\":4,\"columnName\":\"similarity\",\"columnTypeName\":\"FLOAT\"}]}"
     },
     "output_type": "execute_result"
    }
   ],
   "source": [
    "SELECT * FROM StringSimilarity (\n",
    " ON (SELECT TOP 10 * FROM CASO2CRUCE) PARTITION BY ANY\n",
    " USING\n",
    " ComparisonColumnPairs ('jaro_winkler(name1,name2) AS similarity')\n",
    " Accumulate ('userid','userid2','name1','name2')\n",
    ") AS dt"
   ]
  },
  {
   "cell_type": "markdown",
   "id": "a3751fa6-5208-4505-a62d-15692218fc2a",
   "metadata": {},
   "source": [
    "### Limpiando las tablas creadas"
   ]
  },
  {
   "cell_type": "code",
   "execution_count": 21,
   "id": "e579f839-0984-4503-96ce-747479591772",
   "metadata": {},
   "outputs": [
    {
     "data": {
      "text/plain": [
       "Success: 23 rows affected"
      ]
     },
     "execution_count": 21,
     "metadata": {
      "application/vnd.teradata.resultset": ""
     },
     "output_type": "execute_result"
    }
   ],
   "source": [
    "DROP TABLE CASO2CRUCE;"
   ]
  },
  {
   "cell_type": "code",
   "execution_count": 22,
   "id": "c762a949-fc17-4da0-b7ff-dac864531b39",
   "metadata": {},
   "outputs": [
    {
     "data": {
      "text/plain": [
       "Success: 20 rows affected"
      ]
     },
     "execution_count": 22,
     "metadata": {
      "application/vnd.teradata.resultset": ""
     },
     "output_type": "execute_result"
    }
   ],
   "source": [
    "DROP TABLE CASO2RED;"
   ]
  },
  {
   "cell_type": "code",
   "execution_count": 23,
   "id": "f7742c15-6341-47e7-b28d-698ddb57dbd7",
   "metadata": {},
   "outputs": [
    {
     "data": {
      "text/plain": [
       "Success: 21 rows affected"
      ]
     },
     "execution_count": 23,
     "metadata": {
      "application/vnd.teradata.resultset": ""
     },
     "output_type": "execute_result"
    }
   ],
   "source": [
    "DROP TABLE CASO2COMPARA;"
   ]
  },
  {
   "cell_type": "markdown",
   "id": "857be636",
   "metadata": {},
   "source": [
    "Copyright 2023. Elaborado por Luis Cajachahua bajo licencia MIT"
   ]
  }
 ],
 "metadata": {
  "kernelspec": {
   "display_name": "Teradata SQL",
   "language": "Teradata SQL",
   "name": "teradatasql"
  },
  "language_info": {
   "codemirror_mode": "Teradata SQL",
   "file_extension": ".tdrs",
   "mimetype": "application/vnd.teradata.resultset",
   "name": "Teradata SQL",
   "nbconvert_exporter": "",
   "pygments_lexer": "",
   "version": "16.20"
  }
 },
 "nbformat": 4,
 "nbformat_minor": 5
}
