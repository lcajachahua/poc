{
 "cells": [
  {
   "cell_type": "markdown",
   "metadata": {
    "id": "DOGa617qS5Ly"
   },
   "source": [
    "<header style=\"padding:10px;background:#f9f9f9;border-top:3px solid #00b2b1\"><img id=\"Teradata-logo\" src=\"https://www.teradata.com/Teradata/Images/Rebrand/Teradata_logo-two_color.png\" alt=\"Teradata\" width=\"220\" align=\"right\" />\n",
    "  \n",
    "# Capacidades de Analítica Avanzada en la Base de Datos \n",
    "# (In-Database)\n",
    "\n",
    "## Caso 3: Clasificación de Textos\n",
    "    \n",
    "![Slide](images/Diapositiva4.PNG)\n",
    "\n",
    "![Slide](images/Diapositiva8.PNG)\n",
    "\n",
    "![Slide](images/Diapositiva5.PNG)\n",
    "\n",
    "![Slide](images/Diapositiva6.PNG)\n"
   ]
  },
  {
   "cell_type": "markdown",
   "metadata": {
    "id": "6pJ7A_03QMSJ"
   },
   "source": [
    "## **Instalar las librerías**"
   ]
  },
  {
   "cell_type": "code",
   "execution_count": null,
   "metadata": {
    "id": "sUu4EsJ0b9y2"
   },
   "outputs": [],
   "source": [
    "#!pip install teradataml==17.20.0.4 kds==0.1.3 lightgbm==4.0.0 nyoka==4.3.0"
   ]
  },
  {
   "cell_type": "markdown",
   "metadata": {
    "id": "2uKqxuVvS5MC"
   },
   "source": [
    "## **Carga de Modulos**"
   ]
  },
  {
   "cell_type": "code",
   "execution_count": 1,
   "metadata": {},
   "outputs": [],
   "source": [
    "import pandas as pd\n",
    "import numpy as np\n",
    "import getpass as gp\n",
    "import plotly.express as px\n",
    "from sklearn.metrics import roc_auc_score, classification_report, confusion_matrix, accuracy_score\n",
    "from sklearn.model_selection import train_test_split\n",
    "import matplotlib.pyplot as plt\n",
    "from matplotlib import style\n",
    "import seaborn as sns\n",
    "import kds\n",
    "\n",
    "from teradataml import *\n",
    "from teradataml.analytics.valib import *\n",
    "configure.val_install_location = \"val\""
   ]
  },
  {
   "cell_type": "code",
   "execution_count": null,
   "metadata": {},
   "outputs": [],
   "source": [
    "con=create_context(host = \"20.172.147.24\", username=\"pocuser\", password = gp.getpass())"
   ]
  },
  {
   "cell_type": "markdown",
   "metadata": {
    "id": "UnPnopgUS5MN"
   },
   "source": [
    "![Slide](images/Diapositiva10.PNG)\n",
    "\n",
    "## **Lectura Inicial de base de datos**"
   ]
  },
  {
   "cell_type": "code",
   "execution_count": 3,
   "metadata": {},
   "outputs": [],
   "source": [
    "# Leemos la data de desarrollo de modelos\n",
    "tdf = DataFrame(\"caso3_data_texto\")"
   ]
  },
  {
   "cell_type": "code",
   "execution_count": 4,
   "metadata": {},
   "outputs": [
    {
     "data": {
      "text/html": [
       "<style type=\"text/css\">\n",
       "\ttable {border:ridge 5px;}\n",
       "\ttable td {border:inset 1px;}\n",
       "\ttable tr#HeaderRow {background-color:grey; color:white;}</style>\n",
       "<html><table>\n",
       "\t<tr id=\"HeaderRow\">\n",
       "\t\t<th>detalle</th>\n",
       "\t\t<th>target</th>\n",
       "\t</tr>\n",
       "\t<tr>\n",
       "\t\t<td> 301036BARRA CONST.5/8 X 9 MTS\"</td>\n",
       "\t\t<td>G</td>\n",
       "\t</tr>\n",
       "\t<tr>\n",
       "\t\t<td>![CDATA[CARTUCHO FILTRO 2091 POLVO P100 3M]]</td>\n",
       "\t\t<td>G</td>\n",
       "\t</tr>\n",
       "\t<tr>\n",
       "\t\t<td>![CDATA[GUANTE QUIM. LATEX NEGRO Y NARANJA 12\\ C35 T.9 MASTER]]\"</td>\n",
       "\t\t<td>G</td>\n",
       "\t</tr>\n",
       "\t<tr>\n",
       "\t\t<td>![CDATA[PROTECTOR T COPA ADAPT CASCO H9P3E PELTOR OPTIME 98 3M]] ![CDATA[GUANTE BADANA BLANCO S REFUERZO GC14 T.9]] ![CDATA[GUANTE QUIM. NITRILO 18\\ 37-185 T.9 VERDE ANSELL EDMON SOLVEX]] ![CDATA[LENTE ANTIFOG TURBINE L. OSCURA STEELPRO]] ![CDATA[LENTE SIMPLE VISION L. CLARA CLUTE]] ![CDATA[TRAJE CONTRA PARTIC. Y LIQ. S110 T.XL STEELPRO]] ![CDATA[LENTE SOBRELENTE OTG L. CLARA CLUTE]] ![CDATA[MPU ACERO WERK T.38]]\"</td>\n",
       "\t\t<td>G</td>\n",
       "\t</tr>\n",
       "\t<tr>\n",
       "\t\t<td>![CDATA[RESPIRADOR DESCART. POLVO KN95 MAYFIELD X10UD]]</td>\n",
       "\t\t<td>G</td>\n",
       "\t</tr>\n",
       "\t<tr>\n",
       "\t\t<td>#TRIPTOFANO (BOLSA)</td>\n",
       "\t\t<td>G</td>\n",
       "\t</tr>\n",
       "\t<tr>\n",
       "\t\t<td>![CDATA[RESPIRADOR DESCART. POLVO KN95 MAYFIELD X10UD]]</td>\n",
       "\t\t<td>G</td>\n",
       "\t</tr>\n",
       "\t<tr>\n",
       "\t\t<td> ETIQ.AUTOAD.160MM X 70MM POLIPROPILENO IMPRESO \\\" 10KG NAZCA VALLEY\\\"\"</td>\n",
       "\t\t<td>C</td>\n",
       "\t</tr>\n",
       "\t<tr>\n",
       "\t\t<td> 301036BARRA CONST.3/8 X 9 MTS\"</td>\n",
       "\t\t<td>G</td>\n",
       "\t</tr>\n",
       "\t<tr>\n",
       "\t\t<td> 301036BARRA CONST.3/4 X 9 MTS\"</td>\n",
       "\t\t<td>G</td>\n",
       "\t</tr>\n",
       "</table></html>"
      ],
      "text/plain": [
       "                                                                                                                                                                                                                                                                                                                                                                                                                             detalle target\n",
       "0                                                                                                                                                                                                                                                                                                                                                                                                     301036BARRA CONST.5/8 X 9 MTS\"      G\n",
       "1                                                                                                                                                                                                                                                                                                                                                                                       ![CDATA[CARTUCHO FILTRO 2091 POLVO P100 3M]]      G\n",
       "2                                                                                                                                                                                                                                                                                                                                                                   ![CDATA[GUANTE QUIM. LATEX NEGRO Y NARANJA 12\\ C35 T.9 MASTER]]\"      G\n",
       "3  ![CDATA[PROTECTOR T COPA ADAPT CASCO H9P3E PELTOR OPTIME 98 3M]] ![CDATA[GUANTE BADANA BLANCO S REFUERZO GC14 T.9]] ![CDATA[GUANTE QUIM. NITRILO 18\\ 37-185 T.9 VERDE ANSELL EDMON SOLVEX]] ![CDATA[LENTE ANTIFOG TURBINE L. OSCURA STEELPRO]] ![CDATA[LENTE SIMPLE VISION L. CLARA CLUTE]] ![CDATA[TRAJE CONTRA PARTIC. Y LIQ. S110 T.XL STEELPRO]] ![CDATA[LENTE SOBRELENTE OTG L. CLARA CLUTE]] ![CDATA[MPU ACERO WERK T.38]]\"      G\n",
       "4                                                                                                                                                                                                                                                                                                                                                                            ![CDATA[RESPIRADOR DESCART. POLVO KN95 MAYFIELD X10UD]]      G\n",
       "5                                                                                                                                                                                                                                                                                                                                                                                                                #TRIPTOFANO (BOLSA)      G\n",
       "6                                                                                                                                                                                                                                                                                                                                                                            ![CDATA[RESPIRADOR DESCART. POLVO KN95 MAYFIELD X10UD]]      G\n",
       "7                                                                                                                                                                                                                                                                                                                                                             ETIQ.AUTOAD.160MM X 70MM POLIPROPILENO IMPRESO \\\" 10KG NAZCA VALLEY\\\"\"      C\n",
       "8                                                                                                                                                                                                                                                                                                                                                                                                     301036BARRA CONST.3/8 X 9 MTS\"      G\n",
       "9                                                                                                                                                                                                                                                                                                                                                                                                     301036BARRA CONST.3/4 X 9 MTS\"      G"
      ]
     },
     "execution_count": 4,
     "metadata": {},
     "output_type": "execute_result"
    }
   ],
   "source": [
    "# Primeros Registros\n",
    "tdf.head(10)"
   ]
  },
  {
   "cell_type": "code",
   "execution_count": 5,
   "metadata": {},
   "outputs": [
    {
     "data": {
      "text/plain": [
       "(192734, 2)"
      ]
     },
     "execution_count": 5,
     "metadata": {},
     "output_type": "execute_result"
    }
   ],
   "source": [
    "# Vemos la dimensionalidad\n",
    "tdf.shape"
   ]
  },
  {
   "cell_type": "markdown",
   "metadata": {
    "id": "z-xwHgOuS5M8"
   },
   "source": [
    "![Slide](images/Diapositiva6.PNG)\n",
    "\n",
    "## **Exploración de los datos**"
   ]
  },
  {
   "cell_type": "code",
   "execution_count": 6,
   "metadata": {},
   "outputs": [
    {
     "data": {
      "text/html": [
       "<style type=\"text/css\">\n",
       "\ttable {border:ridge 5px;}\n",
       "\ttable td {border:inset 1px;}\n",
       "\ttable tr#HeaderRow {background-color:grey; color:white;}</style>\n",
       "<html><table>\n",
       "\t<tr id=\"HeaderRow\">\n",
       "\t\t<th>ColumnName</th>\n",
       "\t\t<th>Datatype</th>\n",
       "\t\t<th>NonNullCount</th>\n",
       "\t\t<th>NullCount</th>\n",
       "\t\t<th>BlankCount</th>\n",
       "\t\t<th>ZeroCount</th>\n",
       "\t\t<th>PositiveCount</th>\n",
       "\t\t<th>NegativeCount</th>\n",
       "\t\t<th>NullPercentage</th>\n",
       "\t\t<th>NonNullPercentage</th>\n",
       "\t</tr>\n",
       "\t<tr>\n",
       "\t\t<td>target</td>\n",
       "\t\t<td>VARCHAR(15000) CHARACTER SET LATIN</td>\n",
       "\t\t<td>192734</td>\n",
       "\t\t<td>0</td>\n",
       "\t\t<td>0</td>\n",
       "\t\t<td>None</td>\n",
       "\t\t<td>None</td>\n",
       "\t\t<td>None</td>\n",
       "\t\t<td>0.0</td>\n",
       "\t\t<td>100.0</td>\n",
       "\t</tr>\n",
       "\t<tr>\n",
       "\t\t<td>detalle</td>\n",
       "\t\t<td>VARCHAR(15000) CHARACTER SET LATIN</td>\n",
       "\t\t<td>192734</td>\n",
       "\t\t<td>0</td>\n",
       "\t\t<td>0</td>\n",
       "\t\t<td>None</td>\n",
       "\t\t<td>None</td>\n",
       "\t\t<td>None</td>\n",
       "\t\t<td>0.0</td>\n",
       "\t\t<td>100.0</td>\n",
       "\t</tr>\n",
       "</table></html>"
      ],
      "text/plain": [
       "  ColumnName                            Datatype  NonNullCount  NullCount  BlankCount ZeroCount PositiveCount NegativeCount  NullPercentage  NonNullPercentage\n",
       "0     target  VARCHAR(15000) CHARACTER SET LATIN        192734          0           0      None          None          None             0.0              100.0\n",
       "1    detalle  VARCHAR(15000) CHARACTER SET LATIN        192734          0           0      None          None          None             0.0              100.0"
      ]
     },
     "execution_count": 6,
     "metadata": {},
     "output_type": "execute_result"
    }
   ],
   "source": [
    "# Estadísticas Descriptivas por Columna\n",
    "objcs = ColumnSummary(data=tdf,target_columns=['detalle', 'target'])\n",
    "objcs.result.head()"
   ]
  },
  {
   "cell_type": "code",
   "execution_count": 7,
   "metadata": {},
   "outputs": [
    {
     "data": {
      "text/html": [
       "<style type=\"text/css\">\n",
       "\ttable {border:ridge 5px;}\n",
       "\ttable td {border:inset 1px;}\n",
       "\ttable tr#HeaderRow {background-color:grey; color:white;}</style>\n",
       "<html><table>\n",
       "\t<tr id=\"HeaderRow\">\n",
       "\t\t<th>xdb</th>\n",
       "\t\t<th>xtbl</th>\n",
       "\t\t<th>xcol</th>\n",
       "\t\t<th>xtype</th>\n",
       "\t\t<th>xcnt</th>\n",
       "\t\t<th>xnull</th>\n",
       "\t\t<th>xunique</th>\n",
       "\t\t<th>xblank</th>\n",
       "\t\t<th>xzero</th>\n",
       "\t\t<th>xpos</th>\n",
       "\t\t<th>xneg</th>\n",
       "\t</tr>\n",
       "\t<tr>\n",
       "\t\t<td>POCUSER</td>\n",
       "\t\t<td>caso3_data_texto</td>\n",
       "\t\t<td>target</td>\n",
       "\t\t<td>VARCHAR(15000) CHARACTER SET LATIN</td>\n",
       "\t\t<td>192734.0</td>\n",
       "\t\t<td>0.0</td>\n",
       "\t\t<td>19.0</td>\n",
       "\t\t<td>0.0</td>\n",
       "\t\t<td>None</td>\n",
       "\t\t<td>None</td>\n",
       "\t\t<td>None</td>\n",
       "\t</tr>\n",
       "\t<tr>\n",
       "\t\t<td>POCUSER</td>\n",
       "\t\t<td>caso3_data_texto</td>\n",
       "\t\t<td>detalle</td>\n",
       "\t\t<td>VARCHAR(15000) CHARACTER SET LATIN</td>\n",
       "\t\t<td>192734.0</td>\n",
       "\t\t<td>0.0</td>\n",
       "\t\t<td>96506.0</td>\n",
       "\t\t<td>0.0</td>\n",
       "\t\t<td>None</td>\n",
       "\t\t<td>None</td>\n",
       "\t\t<td>None</td>\n",
       "\t</tr>\n",
       "</table></html>"
      ],
      "text/plain": [
       "       xdb              xtbl     xcol                               xtype      xcnt  xnull  xunique  xblank xzero  xpos  xneg\n",
       "0  POCUSER  caso3_data_texto   target  VARCHAR(15000) CHARACTER SET LATIN  192734.0    0.0     19.0     0.0  None  None  None\n",
       "1  POCUSER  caso3_data_texto  detalle  VARCHAR(15000) CHARACTER SET LATIN  192734.0    0.0  96506.0     0.0  None  None  None"
      ]
     },
     "execution_count": 7,
     "metadata": {},
     "output_type": "execute_result"
    }
   ],
   "source": [
    "objv = valib.Values(data=tdf, columns=['detalle', 'target'])\n",
    "objv.result"
   ]
  },
  {
   "cell_type": "code",
   "execution_count": 8,
   "metadata": {},
   "outputs": [
    {
     "data": {
      "text/plain": [
       "'select * from \"POCUSER\".\"ml__td_sqlmr_out__1697330259626198\"'"
      ]
     },
     "execution_count": 8,
     "metadata": {},
     "output_type": "execute_result"
    }
   ],
   "source": [
    "# Agregando show_query() al final, podemos ver que efectivamente, los códigos se traducen automáticamente a lenguaje SQL antes de ejecutarse\n",
    "objcs.result.show_query()"
   ]
  },
  {
   "cell_type": "code",
   "execution_count": 9,
   "metadata": {},
   "outputs": [
    {
     "data": {
      "text/html": [
       "<style type=\"text/css\">\n",
       "\ttable {border:ridge 5px;}\n",
       "\ttable td {border:inset 1px;}\n",
       "\ttable tr#HeaderRow {background-color:grey; color:white;}</style>\n",
       "<html><table>\n",
       "\t<tr id=\"HeaderRow\">\n",
       "\t\t<th>xtbl</th>\n",
       "\t\t<th>xcol</th>\n",
       "\t\t<th>xval</th>\n",
       "\t\t<th>xcnt</th>\n",
       "\t\t<th>xpct</th>\n",
       "\t</tr>\n",
       "\t<tr>\n",
       "\t\t<td>caso3_data_texto</td>\n",
       "\t\t<td>target</td>\n",
       "\t\t<td>E</td>\n",
       "\t\t<td>690.0</td>\n",
       "\t\t<td>0.3580063714757126</td>\n",
       "\t</tr>\n",
       "\t<tr>\n",
       "\t\t<td>caso3_data_texto</td>\n",
       "\t\t<td>target</td>\n",
       "\t\t<td>H</td>\n",
       "\t\t<td>26848.0</td>\n",
       "\t\t<td>13.930079799101351</td>\n",
       "\t</tr>\n",
       "\t<tr>\n",
       "\t\t<td>caso3_data_texto</td>\n",
       "\t\t<td>target</td>\n",
       "\t\t<td>N</td>\n",
       "\t\t<td>2571.0</td>\n",
       "\t\t<td>1.3339628711073293</td>\n",
       "\t</tr>\n",
       "\t<tr>\n",
       "\t\t<td>caso3_data_texto</td>\n",
       "\t\t<td>target</td>\n",
       "\t\t<td>Q</td>\n",
       "\t\t<td>8974.0</td>\n",
       "\t\t<td>4.656158228439196</td>\n",
       "\t</tr>\n",
       "\t<tr>\n",
       "\t\t<td>caso3_data_texto</td>\n",
       "\t\t<td>target</td>\n",
       "\t\t<td>M</td>\n",
       "\t\t<td>753.0</td>\n",
       "\t\t<td>0.3906939097408864</td>\n",
       "\t</tr>\n",
       "\t<tr>\n",
       "\t\t<td>caso3_data_texto</td>\n",
       "\t\t<td>target</td>\n",
       "\t\t<td>F</td>\n",
       "\t\t<td>1521.0</td>\n",
       "\t\t<td>0.7891705666877665</td>\n",
       "\t</tr>\n",
       "\t<tr>\n",
       "\t\t<td>caso3_data_texto</td>\n",
       "\t\t<td>target</td>\n",
       "\t\t<td>S</td>\n",
       "\t\t<td>985.0</td>\n",
       "\t\t<td>0.5110670665269231</td>\n",
       "\t</tr>\n",
       "\t<tr>\n",
       "\t\t<td>caso3_data_texto</td>\n",
       "\t\t<td>target</td>\n",
       "\t\t<td>G</td>\n",
       "\t\t<td>101849.0</td>\n",
       "\t\t<td>52.84433467888385</td>\n",
       "\t</tr>\n",
       "\t<tr>\n",
       "\t\t<td>caso3_data_texto</td>\n",
       "\t\t<td>target</td>\n",
       "\t\t<td>L</td>\n",
       "\t\t<td>322.0</td>\n",
       "\t\t<td>0.16706964002199923</td>\n",
       "\t</tr>\n",
       "\t<tr>\n",
       "\t\t<td>caso3_data_texto</td>\n",
       "\t\t<td>target</td>\n",
       "\t\t<td>P</td>\n",
       "\t\t<td>330.0</td>\n",
       "\t\t<td>0.17122043853186256</td>\n",
       "\t</tr>\n",
       "\t<tr>\n",
       "\t\t<td>caso3_data_texto</td>\n",
       "\t\t<td>target</td>\n",
       "\t\t<td>R</td>\n",
       "\t\t<td>3664.0</td>\n",
       "\t\t<td>1.9010657175174075</td>\n",
       "\t</tr>\n",
       "\t<tr>\n",
       "\t\t<td>caso3_data_texto</td>\n",
       "\t\t<td>target</td>\n",
       "\t\t<td>I</td>\n",
       "\t\t<td>6564.0</td>\n",
       "\t\t<td>3.4057301773428663</td>\n",
       "\t</tr>\n",
       "\t<tr>\n",
       "\t\t<td>caso3_data_texto</td>\n",
       "\t\t<td>target</td>\n",
       "\t\t<td>J</td>\n",
       "\t\t<td>1915.0</td>\n",
       "\t\t<td>0.9935973932985358</td>\n",
       "\t</tr>\n",
       "\t<tr>\n",
       "\t\t<td>caso3_data_texto</td>\n",
       "\t\t<td>target</td>\n",
       "\t\t<td>B</td>\n",
       "\t\t<td>389.0</td>\n",
       "\t\t<td>0.20183257754210465</td>\n",
       "\t</tr>\n",
       "\t<tr>\n",
       "\t\t<td>caso3_data_texto</td>\n",
       "\t\t<td>target</td>\n",
       "\t\t<td>O</td>\n",
       "\t\t<td>1023.0</td>\n",
       "\t\t<td>0.530783359448774</td>\n",
       "\t</tr>\n",
       "\t<tr>\n",
       "\t\t<td>caso3_data_texto</td>\n",
       "\t\t<td>target</td>\n",
       "\t\t<td>C</td>\n",
       "\t\t<td>30741.0</td>\n",
       "\t\t<td>15.949962123963598</td>\n",
       "\t</tr>\n",
       "\t<tr>\n",
       "\t\t<td>caso3_data_texto</td>\n",
       "\t\t<td>target</td>\n",
       "\t\t<td>A</td>\n",
       "\t\t<td>3155.0</td>\n",
       "\t\t<td>1.6369711623273526</td>\n",
       "\t</tr>\n",
       "\t<tr>\n",
       "\t\t<td>caso3_data_texto</td>\n",
       "\t\t<td>target</td>\n",
       "\t\t<td>D</td>\n",
       "\t\t<td>232.0</td>\n",
       "\t\t<td>0.12037315678603672</td>\n",
       "\t</tr>\n",
       "\t<tr>\n",
       "\t\t<td>caso3_data_texto</td>\n",
       "\t\t<td>target</td>\n",
       "\t\t<td>K</td>\n",
       "\t\t<td>208.0</td>\n",
       "\t\t<td>0.10792076125644672</td>\n",
       "\t</tr>\n",
       "</table></html>"
      ],
      "text/plain": [
       "                xtbl    xcol xval      xcnt       xpct\n",
       "0   caso3_data_texto  target    E     690.0   0.358006\n",
       "1   caso3_data_texto  target    L     322.0   0.167070\n",
       "2   caso3_data_texto  target    P     330.0   0.171220\n",
       "3   caso3_data_texto  target    G  101849.0  52.844335\n",
       "4   caso3_data_texto  target    F    1521.0   0.789171\n",
       "5   caso3_data_texto  target    Q    8974.0   4.656158\n",
       "6   caso3_data_texto  target    N    2571.0   1.333963\n",
       "7   caso3_data_texto  target    M     753.0   0.390694\n",
       "8   caso3_data_texto  target    R    3664.0   1.901066\n",
       "9   caso3_data_texto  target    C   30741.0  15.949962\n",
       "10  caso3_data_texto  target    S     985.0   0.511067\n",
       "11  caso3_data_texto  target    J    1915.0   0.993597\n",
       "12  caso3_data_texto  target    B     389.0   0.201833\n",
       "13  caso3_data_texto  target    A    3155.0   1.636971\n",
       "14  caso3_data_texto  target    K     208.0   0.107921\n",
       "15  caso3_data_texto  target    H   26848.0  13.930080\n",
       "16  caso3_data_texto  target    O    1023.0   0.530783\n",
       "17  caso3_data_texto  target    I    6564.0   3.405730\n",
       "18  caso3_data_texto  target    D     232.0   0.120373"
      ]
     },
     "execution_count": 9,
     "metadata": {},
     "output_type": "execute_result"
    }
   ],
   "source": [
    "## Calculando la proporción del Target\n",
    "tResp = valib.Frequency(data=tdf, columns=\"target\")\n",
    "tResp.result.head(19)"
   ]
  },
  {
   "cell_type": "code",
   "execution_count": 12,
   "metadata": {},
   "outputs": [
    {
     "data": {
      "text/plain": [
       "<sqlalchemy.engine.cursor.LegacyCursorResult at 0x7f2d8255c6d8>"
      ]
     },
     "execution_count": 12,
     "metadata": {},
     "output_type": "execute_result"
    }
   ],
   "source": [
    "con.execute('CREATE VIEW caso3 AS (SELECT ROW_NUMBER() OVER (ORDER BY detalle) - 1 AS doc_id, detalle, target FROM caso3_data_texto);')"
   ]
  },
  {
   "cell_type": "code",
   "execution_count": 13,
   "metadata": {},
   "outputs": [],
   "source": [
    "tdf = DataFrame(\"caso3\")"
   ]
  },
  {
   "cell_type": "markdown",
   "metadata": {
    "id": "YN5ZjryQS5P4"
   },
   "source": [
    "### Particion Muestral"
   ]
  },
  {
   "cell_type": "markdown",
   "metadata": {
    "id": "HgZ_VZxOx7KT"
   },
   "source": [
    "Seleccionamos las variables más relevantes y dividimos en muestras 70% Train / 30% Test"
   ]
  },
  {
   "cell_type": "code",
   "execution_count": 14,
   "metadata": {
    "id": "_Z07-KbmQMSd"
   },
   "outputs": [],
   "source": [
    "## Seleccionamos variables más relevantes y generamos una columna que divide la tabla en muestras de entrenamiento y test\n",
    "tbl_sample = tdf[['doc_id', 'detalle', 'target']].sample(frac = [0.5, 0.5])"
   ]
  },
  {
   "cell_type": "code",
   "execution_count": 15,
   "metadata": {},
   "outputs": [
    {
     "data": {
      "text/plain": [
       "(96367, 3)"
      ]
     },
     "execution_count": 15,
     "metadata": {},
     "output_type": "execute_result"
    }
   ],
   "source": [
    "## Almacenando la Muestra de Entrenamiento en la BD y generando la referencia con un DF de TeradataML\n",
    "copy_to_sql(tbl_sample[tbl_sample.sampleid == \"1\"].drop(\"sampleid\", axis = 1), schema_name=\"pocuser\", table_name=\"TrainModel\", if_exists=\"replace\")\n",
    "tbl_train = DataFrame(\"TrainModel\")\n",
    "tbl_train.shape"
   ]
  },
  {
   "cell_type": "code",
   "execution_count": 16,
   "metadata": {},
   "outputs": [
    {
     "data": {
      "text/plain": [
       "(96367, 3)"
      ]
     },
     "execution_count": 16,
     "metadata": {},
     "output_type": "execute_result"
    }
   ],
   "source": [
    "## Almacenando la Muestra de Test en la BD y generando la referencia con un DF de TeradataML\n",
    "copy_to_sql(tbl_sample[tbl_sample.sampleid == \"2\"].drop(\"sampleid\", axis = 1), schema_name=\"pocuser\", table_name=\"TestModel\", if_exists=\"replace\")\n",
    "tbl_test = DataFrame(\"TestModel\")\n",
    "tbl_test.shape"
   ]
  },
  {
   "cell_type": "code",
   "execution_count": 17,
   "metadata": {},
   "outputs": [
    {
     "data": {
      "text/plain": [
       "'select * from \"TestModel\"'"
      ]
     },
     "execution_count": 17,
     "metadata": {},
     "output_type": "execute_result"
    }
   ],
   "source": [
    "## Verificando que el DF hace referencia a la tabla creada en la BD\n",
    "tbl_test.show_query()"
   ]
  },
  {
   "cell_type": "code",
   "execution_count": 18,
   "metadata": {},
   "outputs": [],
   "source": [
    "stopwords = DataFrame(\"stopwords\")"
   ]
  },
  {
   "cell_type": "code",
   "execution_count": null,
   "metadata": {},
   "outputs": [],
   "source": []
  },
  {
   "cell_type": "markdown",
   "metadata": {},
   "source": [
    "### Limpieza y Tokenización de Datos"
   ]
  },
  {
   "cell_type": "code",
   "execution_count": 19,
   "metadata": {},
   "outputs": [],
   "source": [
    "TextParserTrain = TextParser(data=tbl_train,\n",
    "                            text_column=\"detalle\",\n",
    "                            punctuation=\"\\\"<>!#$%&[]()*+,-./:;?@\\^_`{|}~''\",\n",
    "                            object=stopwords,\n",
    "                            remove_stopwords=True,\n",
    "                            accumulate=[\"doc_id\",\"target\"])"
   ]
  },
  {
   "cell_type": "code",
   "execution_count": 20,
   "metadata": {},
   "outputs": [
    {
     "data": {
      "text/html": [
       "<style type=\"text/css\">\n",
       "\ttable {border:ridge 5px;}\n",
       "\ttable td {border:inset 1px;}\n",
       "\ttable tr#HeaderRow {background-color:grey; color:white;}</style>\n",
       "<html><table>\n",
       "\t<tr id=\"HeaderRow\">\n",
       "\t\t<th>doc_id</th>\n",
       "\t\t<th>target</th>\n",
       "\t\t<th>token</th>\n",
       "\t</tr>\n",
       "\t<tr>\n",
       "\t\t<td>0</td>\n",
       "\t\t<td>G</td>\n",
       "\t\t<td>mts</td>\n",
       "\t</tr>\n",
       "\t<tr>\n",
       "\t\t<td>0</td>\n",
       "\t\t<td>G</td>\n",
       "\t\t<td>4</td>\n",
       "\t</tr>\n",
       "\t<tr>\n",
       "\t\t<td>0</td>\n",
       "\t\t<td>G</td>\n",
       "\t\t<td>x</td>\n",
       "\t</tr>\n",
       "\t<tr>\n",
       "\t\t<td>0</td>\n",
       "\t\t<td>G</td>\n",
       "\t\t<td>3</td>\n",
       "\t</tr>\n",
       "\t<tr>\n",
       "\t\t<td>2</td>\n",
       "\t\t<td>G</td>\n",
       "\t\t<td>8</td>\n",
       "\t</tr>\n",
       "\t<tr>\n",
       "\t\t<td>2</td>\n",
       "\t\t<td>G</td>\n",
       "\t\t<td>x</td>\n",
       "\t</tr>\n",
       "\t<tr>\n",
       "\t\t<td>2</td>\n",
       "\t\t<td>G</td>\n",
       "\t\t<td>5</td>\n",
       "\t</tr>\n",
       "\t<tr>\n",
       "\t\t<td>0</td>\n",
       "\t\t<td>G</td>\n",
       "\t\t<td>9</td>\n",
       "\t</tr>\n",
       "\t<tr>\n",
       "\t\t<td>0</td>\n",
       "\t\t<td>G</td>\n",
       "\t\t<td>const</td>\n",
       "\t</tr>\n",
       "\t<tr>\n",
       "\t\t<td>0</td>\n",
       "\t\t<td>G</td>\n",
       "\t\t<td>301036barra</td>\n",
       "\t</tr>\n",
       "</table></html>"
      ],
      "text/plain": [
       "   doc_id target        token\n",
       "0       0      G          mts\n",
       "1       0      G            4\n",
       "2       0      G            x\n",
       "3       0      G            3\n",
       "4       2      G            8\n",
       "5       2      G            x\n",
       "6       2      G            5\n",
       "7       0      G            9\n",
       "8       0      G        const\n",
       "9       0      G  301036barra"
      ]
     },
     "execution_count": 20,
     "metadata": {},
     "output_type": "execute_result"
    }
   ],
   "source": [
    "TextParserTrain.result.head()"
   ]
  },
  {
   "cell_type": "markdown",
   "metadata": {
    "id": "aHTsaQmMS5Nb"
   },
   "source": [
    "Observamos que existen correlaciones significativas entre los grupos de variables históricas"
   ]
  },
  {
   "cell_type": "markdown",
   "metadata": {},
   "source": [
    "### Entrenamiento del Modelo "
   ]
  },
  {
   "cell_type": "code",
   "execution_count": 22,
   "metadata": {},
   "outputs": [],
   "source": [
    "## Función para Entrenar el Modelo de Clasificación de Texto\n",
    "NaiveBayesTextClassifierTrainer_out = NaiveBayesTextClassifierTrainer(data=TextParserTrain.result,\n",
    "                                                                     token_column=\"token\",\n",
    "                                                                     doc_id_columns = 'doc_id',\n",
    "                                                                     doc_category_column=\"target\",\n",
    "                                                                     model_type = \"MULTINOMIAL\",\n",
    "                                                                     data_partition_column = \"target\")"
   ]
  },
  {
   "cell_type": "code",
   "execution_count": 23,
   "metadata": {},
   "outputs": [
    {
     "data": {
      "text/html": [
       "<style type=\"text/css\">\n",
       "\ttable {border:ridge 5px;}\n",
       "\ttable td {border:inset 1px;}\n",
       "\ttable tr#HeaderRow {background-color:grey; color:white;}</style>\n",
       "<html><table>\n",
       "\t<tr id=\"HeaderRow\">\n",
       "\t\t<th>token</th>\n",
       "\t\t<th>category</th>\n",
       "\t\t<th>prob</th>\n",
       "\t</tr>\n",
       "\t<tr>\n",
       "\t\t<td>0</td>\n",
       "\t\t<td>N</td>\n",
       "\t\t<td>0.00018334105295661571</td>\n",
       "\t</tr>\n",
       "\t<tr>\n",
       "\t\t<td>0</td>\n",
       "\t\t<td>E</td>\n",
       "\t\t<td>0.0003248546275541695</td>\n",
       "\t</tr>\n",
       "\t<tr>\n",
       "\t\t<td>0</td>\n",
       "\t\t<td>H</td>\n",
       "\t\t<td>0.00033780740473831185</td>\n",
       "\t</tr>\n",
       "\t<tr>\n",
       "\t\t<td>0</td>\n",
       "\t\t<td>Q</td>\n",
       "\t\t<td>0.00445121328926606</td>\n",
       "\t</tr>\n",
       "\t<tr>\n",
       "\t\t<td>0</td>\n",
       "\t\t<td>J</td>\n",
       "\t\t<td>4.763129566650472e-05</td>\n",
       "\t</tr>\n",
       "\t<tr>\n",
       "\t\t<td>0</td>\n",
       "\t\t<td>G</td>\n",
       "\t\t<td>0.009836916607328593</td>\n",
       "\t</tr>\n",
       "\t<tr>\n",
       "\t\t<td>0</td>\n",
       "\t\t<td>A</td>\n",
       "\t\t<td>0.0006629192055866835</td>\n",
       "\t</tr>\n",
       "\t<tr>\n",
       "\t\t<td>0</td>\n",
       "\t\t<td>F</td>\n",
       "\t\t<td>1.863811307743204e-05</td>\n",
       "\t</tr>\n",
       "\t<tr>\n",
       "\t\t<td>0</td>\n",
       "\t\t<td>I</td>\n",
       "\t\t<td>4.221119103096613e-05</td>\n",
       "\t</tr>\n",
       "\t<tr>\n",
       "\t\t<td>0</td>\n",
       "\t\t<td>O</td>\n",
       "\t\t<td>0.0005592111394858985</td>\n",
       "\t</tr>\n",
       "</table></html>"
      ],
      "text/plain": [
       "      category      prob\n",
       "token                   \n",
       "0            G  0.009837\n",
       "0            O  0.000559\n",
       "0            E  0.000325\n",
       "0            I  0.000042\n",
       "0            N  0.000183\n",
       "0            Q  0.004451\n",
       "0            C  0.008884\n",
       "0            A  0.000663\n",
       "0            J  0.000048\n",
       "0            H  0.000338"
      ]
     },
     "execution_count": 23,
     "metadata": {},
     "output_type": "execute_result"
    }
   ],
   "source": [
    "## Métricas estadísticas del Modelo\n",
    "NaiveBayesTextClassifierTrainer_out.result.head()"
   ]
  },
  {
   "cell_type": "code",
   "execution_count": 24,
   "metadata": {},
   "outputs": [
    {
     "data": {
      "text/html": [
       "<style type=\"text/css\">\n",
       "\ttable {border:ridge 5px;}\n",
       "\ttable td {border:inset 1px;}\n",
       "\ttable tr#HeaderRow {background-color:grey; color:white;}</style>\n",
       "<html><table>\n",
       "\t<tr id=\"HeaderRow\">\n",
       "\t\t<th>token</th>\n",
       "\t\t<th>category</th>\n",
       "\t\t<th>prob</th>\n",
       "\t</tr>\n",
       "\t<tr>\n",
       "\t\t<td>0</td>\n",
       "\t\t<td>J</td>\n",
       "\t\t<td>4.763129566650472e-05</td>\n",
       "\t</tr>\n",
       "\t<tr>\n",
       "\t\t<td>0</td>\n",
       "\t\t<td>N</td>\n",
       "\t\t<td>0.00018334105295661571</td>\n",
       "\t</tr>\n",
       "\t<tr>\n",
       "\t\t<td>0</td>\n",
       "\t\t<td>Q</td>\n",
       "\t\t<td>0.00445121328926606</td>\n",
       "\t</tr>\n",
       "\t<tr>\n",
       "\t\t<td>0</td>\n",
       "\t\t<td>O</td>\n",
       "\t\t<td>0.0005592111394858985</td>\n",
       "\t</tr>\n",
       "\t<tr>\n",
       "\t\t<td>0</td>\n",
       "\t\t<td>A</td>\n",
       "\t\t<td>0.0006629192055866835</td>\n",
       "\t</tr>\n",
       "\t<tr>\n",
       "\t\t<td>0</td>\n",
       "\t\t<td>I</td>\n",
       "\t\t<td>4.221119103096613e-05</td>\n",
       "\t</tr>\n",
       "\t<tr>\n",
       "\t\t<td>0</td>\n",
       "\t\t<td>G</td>\n",
       "\t\t<td>0.009836916607328593</td>\n",
       "\t</tr>\n",
       "\t<tr>\n",
       "\t\t<td>0</td>\n",
       "\t\t<td>C</td>\n",
       "\t\t<td>0.008884043704288259</td>\n",
       "\t</tr>\n",
       "\t<tr>\n",
       "\t\t<td>0</td>\n",
       "\t\t<td>H</td>\n",
       "\t\t<td>0.00033780740473831185</td>\n",
       "\t</tr>\n",
       "\t<tr>\n",
       "\t\t<td>0</td>\n",
       "\t\t<td>E</td>\n",
       "\t\t<td>0.0003248546275541695</td>\n",
       "\t</tr>\n",
       "</table></html>"
      ],
      "text/plain": [
       "  token category      prob\n",
       "0     0        N  0.000183\n",
       "1     0        A  0.000663\n",
       "2     0        Q  0.004451\n",
       "3     0        I  0.000042\n",
       "4     0        H  0.000338\n",
       "5     0        O  0.000559\n",
       "6     0        G  0.009837\n",
       "7     0        F  0.000019\n",
       "8     0        C  0.008884\n",
       "9     0        E  0.000325"
      ]
     },
     "execution_count": 24,
     "metadata": {},
     "output_type": "execute_result"
    }
   ],
   "source": [
    "NaiveBayesTextClassifierTrainer_out.model_data.head()"
   ]
  },
  {
   "cell_type": "code",
   "execution_count": null,
   "metadata": {},
   "outputs": [],
   "source": []
  },
  {
   "cell_type": "code",
   "execution_count": 25,
   "metadata": {},
   "outputs": [],
   "source": [
    "TextParserTest = TextParser(data=tbl_test,\n",
    "                            text_column=\"detalle\",\n",
    "                            punctuation=\"\\\"<>!#$%&[]()*+,-./:;?@\\^_`{|}~''\",\n",
    "                            object=stopwords,\n",
    "                            remove_stopwords=True,\n",
    "                            accumulate=[\"doc_id\",\"target\"])"
   ]
  },
  {
   "cell_type": "code",
   "execution_count": 26,
   "metadata": {},
   "outputs": [
    {
     "data": {
      "text/html": [
       "<style type=\"text/css\">\n",
       "\ttable {border:ridge 5px;}\n",
       "\ttable td {border:inset 1px;}\n",
       "\ttable tr#HeaderRow {background-color:grey; color:white;}</style>\n",
       "<html><table>\n",
       "\t<tr id=\"HeaderRow\">\n",
       "\t\t<th>doc_id</th>\n",
       "\t\t<th>target</th>\n",
       "\t\t<th>token</th>\n",
       "\t</tr>\n",
       "\t<tr>\n",
       "\t\t<td>2</td>\n",
       "\t\t<td>G</td>\n",
       "\t\t<td>8</td>\n",
       "\t</tr>\n",
       "\t<tr>\n",
       "\t\t<td>2</td>\n",
       "\t\t<td>G</td>\n",
       "\t\t<td>mts</td>\n",
       "\t</tr>\n",
       "\t<tr>\n",
       "\t\t<td>2</td>\n",
       "\t\t<td>G</td>\n",
       "\t\t<td>301036barra</td>\n",
       "\t</tr>\n",
       "\t<tr>\n",
       "\t\t<td>2</td>\n",
       "\t\t<td>G</td>\n",
       "\t\t<td>const</td>\n",
       "\t</tr>\n",
       "\t<tr>\n",
       "\t\t<td>7</td>\n",
       "\t\t<td>G</td>\n",
       "\t\t<td>kn95</td>\n",
       "\t</tr>\n",
       "\t<tr>\n",
       "\t\t<td>7</td>\n",
       "\t\t<td>G</td>\n",
       "\t\t<td>mayfield</td>\n",
       "\t</tr>\n",
       "\t<tr>\n",
       "\t\t<td>7</td>\n",
       "\t\t<td>G</td>\n",
       "\t\t<td>cdata</td>\n",
       "\t</tr>\n",
       "\t<tr>\n",
       "\t\t<td>2</td>\n",
       "\t\t<td>G</td>\n",
       "\t\t<td>x</td>\n",
       "\t</tr>\n",
       "\t<tr>\n",
       "\t\t<td>2</td>\n",
       "\t\t<td>G</td>\n",
       "\t\t<td>9</td>\n",
       "\t</tr>\n",
       "\t<tr>\n",
       "\t\t<td>2</td>\n",
       "\t\t<td>G</td>\n",
       "\t\t<td>5</td>\n",
       "\t</tr>\n",
       "</table></html>"
      ],
      "text/plain": [
       "   doc_id target        token\n",
       "0       2      G            8\n",
       "1       2      G          mts\n",
       "2       2      G  301036barra\n",
       "3       2      G        const\n",
       "4       7      G         kn95\n",
       "5       7      G     mayfield\n",
       "6       7      G        cdata\n",
       "7       2      G            x\n",
       "8       2      G            9\n",
       "9       2      G            5"
      ]
     },
     "execution_count": 26,
     "metadata": {},
     "output_type": "execute_result"
    }
   ],
   "source": [
    "TextParserTest.result.head()"
   ]
  },
  {
   "cell_type": "markdown",
   "metadata": {},
   "source": [
    "### Scoring del Modelo"
   ]
  },
  {
   "cell_type": "code",
   "execution_count": 51,
   "metadata": {},
   "outputs": [],
   "source": [
    "nbt_predict_out = NaiveBayesTextClassifierPredict(object = NaiveBayesTextClassifierTrainer_out.result,\n",
    "                                                      newdata = TextParserTest.result,\n",
    "                                                      input_token_column = 'token',\n",
    "                                                      doc_id_columns = 'doc_id',\n",
    "                                                      model_type = \"MULTINOMIAL\",\n",
    "                                                      model_token_column = 'token',\n",
    "                                                      model_category_column = 'category',\n",
    "                                                      accumulate = 'target',\n",
    "                                                      responses = ['A','B','C','D','E','F','G','H','I','J','K','L','M','N','O','P','Q','R','S'],\n",
    "                                                      output_prob = True,\n",
    "                                                      model_prob_column = 'prob',\n",
    "                                                      newdata_partition_column = 'doc_id')"
   ]
  },
  {
   "cell_type": "code",
   "execution_count": 53,
   "metadata": {},
   "outputs": [
    {
     "data": {
      "text/html": [
       "<style type=\"text/css\">\n",
       "\ttable {border:ridge 5px;}\n",
       "\ttable td {border:inset 1px;}\n",
       "\ttable tr#HeaderRow {background-color:grey; color:white;}</style>\n",
       "<html><table>\n",
       "\t<tr id=\"HeaderRow\">\n",
       "\t\t<th>doc_id</th>\n",
       "\t\t<th>prediction</th>\n",
       "\t\t<th>loglik_A</th>\n",
       "\t\t<th>loglik_B</th>\n",
       "\t\t<th>loglik_C</th>\n",
       "\t\t<th>loglik_D</th>\n",
       "\t\t<th>loglik_E</th>\n",
       "\t\t<th>loglik_F</th>\n",
       "\t\t<th>loglik_G</th>\n",
       "\t\t<th>loglik_H</th>\n",
       "\t\t<th>loglik_I</th>\n",
       "\t\t<th>loglik_J</th>\n",
       "\t\t<th>loglik_K</th>\n",
       "\t\t<th>loglik_L</th>\n",
       "\t\t<th>loglik_M</th>\n",
       "\t\t<th>loglik_N</th>\n",
       "\t\t<th>loglik_O</th>\n",
       "\t\t<th>loglik_P</th>\n",
       "\t\t<th>loglik_Q</th>\n",
       "\t\t<th>loglik_R</th>\n",
       "\t\t<th>loglik_S</th>\n",
       "\t\t<th>prob_A</th>\n",
       "\t\t<th>prob_B</th>\n",
       "\t\t<th>prob_C</th>\n",
       "\t\t<th>prob_D</th>\n",
       "\t\t<th>prob_E</th>\n",
       "\t\t<th>prob_F</th>\n",
       "\t\t<th>prob_G</th>\n",
       "\t\t<th>prob_H</th>\n",
       "\t\t<th>prob_I</th>\n",
       "\t\t<th>prob_J</th>\n",
       "\t\t<th>prob_K</th>\n",
       "\t\t<th>prob_L</th>\n",
       "\t\t<th>prob_M</th>\n",
       "\t\t<th>prob_N</th>\n",
       "\t\t<th>prob_O</th>\n",
       "\t\t<th>prob_P</th>\n",
       "\t\t<th>prob_Q</th>\n",
       "\t\t<th>prob_R</th>\n",
       "\t\t<th>prob_S</th>\n",
       "\t\t<th>target</th>\n",
       "\t</tr>\n",
       "\t<tr>\n",
       "\t\t<td>8</td>\n",
       "\t\t<td>G</td>\n",
       "\t\t<td>-86.20437860899557</td>\n",
       "\t\t<td>-87.2670107149929</td>\n",
       "\t\t<td>-87.57999625026703</td>\n",
       "\t\t<td>-87.60765733060346</td>\n",
       "\t\t<td>-83.74798682379388</td>\n",
       "\t\t<td>-86.17298306978813</td>\n",
       "\t\t<td>-80.599177061873</td>\n",
       "\t\t<td>-89.52948336219275</td>\n",
       "\t\t<td>-86.37002775330112</td>\n",
       "\t\t<td>-86.16293543745284</td>\n",
       "\t\t<td>-88.87890849913725</td>\n",
       "\t\t<td>-86.90912778958126</td>\n",
       "\t\t<td>-87.14513022118244</td>\n",
       "\t\t<td>-86.16605427033318</td>\n",
       "\t\t<td>-86.17288170305046</td>\n",
       "\t\t<td>-86.7512133604433</td>\n",
       "\t\t<td>-86.60671913491979</td>\n",
       "\t\t<td>-86.22336396161107</td>\n",
       "\t\t<td>-86.70916258130586</td>\n",
       "\t\t<td>0.0033995355012297885</td>\n",
       "\t\t<td>0.0011746928380623892</td>\n",
       "\t\t<td>0.0008590064603315253</td>\n",
       "\t\t<td>0.0008355710325025623</td>\n",
       "\t\t<td>0.03964760688246285</td>\n",
       "\t\t<td>0.0035079588503534012</td>\n",
       "\t\t<td>0.9241185387707684</td>\n",
       "\t\t<td>0.00012227704498862346</td>\n",
       "\t\t<td>0.0028805742329045692</td>\n",
       "\t\t<td>0.0035433831985207795</td>\n",
       "\t\t<td>0.0002343613590968672</td>\n",
       "\t\t<td>0.0016801610037993381</td>\n",
       "\t\t<td>0.001326955463265864</td>\n",
       "\t\t<td>0.003532349194045682</td>\n",
       "\t\t<td>0.0035083144587210566</td>\n",
       "\t\t<td>0.001967579394647078</td>\n",
       "\t\t<td>0.0022734494942961217</td>\n",
       "\t\t<td>0.003335602932519289</td>\n",
       "\t\t<td>0.0020520818874837873</td>\n",
       "\t\t<td>G</td>\n",
       "\t</tr>\n",
       "\t<tr>\n",
       "\t\t<td>11</td>\n",
       "\t\t<td>G</td>\n",
       "\t\t<td>-813.3709155683786</td>\n",
       "\t\t<td>-889.0120709115386</td>\n",
       "\t\t<td>-766.1637791750784</td>\n",
       "\t\t<td>-867.942285035776</td>\n",
       "\t\t<td>-873.8933339948995</td>\n",
       "\t\t<td>-874.0808857447917</td>\n",
       "\t\t<td>-725.0667188944251</td>\n",
       "\t\t<td>-847.7876896292075</td>\n",
       "\t\t<td>-888.6135509086205</td>\n",
       "\t\t<td>-883.0648937953495</td>\n",
       "\t\t<td>-899.0027408255249</td>\n",
       "\t\t<td>-897.7429649454391</td>\n",
       "\t\t<td>-889.5573154221089</td>\n",
       "\t\t<td>-815.2539346221323</td>\n",
       "\t\t<td>-821.4463041591288</td>\n",
       "\t\t<td>-899.5192516918333</td>\n",
       "\t\t<td>-884.6419828631858</td>\n",
       "\t\t<td>-911.2837185145876</td>\n",
       "\t\t<td>-872.7752867547405</td>\n",
       "\t\t<td>4.4665752551495414e-39</td>\n",
       "\t\t<td>6.301417943424727e-72</td>\n",
       "\t\t<td>1.4183176181201245e-18</td>\n",
       "\t\t<td>8.911073503964687e-63</td>\n",
       "\t\t<td>2.319649146160424e-65</td>\n",
       "\t\t<td>1.9229571707282195e-65</td>\n",
       "\t\t<td>1.0</td>\n",
       "\t\t<td>5.046143493513181e-54</td>\n",
       "\t\t<td>9.386708331864939e-72</td>\n",
       "\t\t<td>2.411373532531345e-69</td>\n",
       "\t\t<td>2.887656104201184e-76</td>\n",
       "\t\t<td>1.0177923546884705e-75</td>\n",
       "\t\t<td>3.6529321281620847e-72</td>\n",
       "\t\t<td>6.79500641755103e-40</td>\n",
       "\t\t<td>1.3895620715266492e-42</td>\n",
       "\t\t<td>1.722771394765327e-76</td>\n",
       "\t\t<td>4.981308167721244e-70</td>\n",
       "\t\t<td>1.3396292711388142e-81</td>\n",
       "\t\t<td>7.095517057638907e-65</td>\n",
       "\t\t<td>G</td>\n",
       "\t</tr>\n",
       "\t<tr>\n",
       "\t\t<td>14</td>\n",
       "\t\t<td>C</td>\n",
       "\t\t<td>-231.9955719319169</td>\n",
       "\t\t<td>-292.9704081783676</td>\n",
       "\t\t<td>-196.21736634599907</td>\n",
       "\t\t<td>-292.49343490079565</td>\n",
       "\t\t<td>-269.9055753675675</td>\n",
       "\t\t<td>-284.4065207783412</td>\n",
       "\t\t<td>-200.55173616171479</td>\n",
       "\t\t<td>-254.11591207987527</td>\n",
       "\t\t<td>-280.8126102984064</td>\n",
       "\t\t<td>-289.70483940386623</td>\n",
       "\t\t<td>-294.2624152861088</td>\n",
       "\t\t<td>-292.8240907093784</td>\n",
       "\t\t<td>-292.21544022811895</td>\n",
       "\t\t<td>-266.76427463915326</td>\n",
       "\t\t<td>-271.57380759444766</td>\n",
       "\t\t<td>-270.1532403126463</td>\n",
       "\t\t<td>-274.34648849072227</td>\n",
       "\t\t<td>-289.848417248872</td>\n",
       "\t\t<td>-283.64581904278464</td>\n",
       "\t\t<td>2.8580253883293193e-16</td>\n",
       "\t\t<td>9.441286258826881e-43</td>\n",
       "\t\t<td>0.9870595181710963</td>\n",
       "\t\t<td>1.5211709675863315e-42</td>\n",
       "\t\t<td>9.816592909783959e-33</td>\n",
       "\t\t<td>4.9462971945716856e-39</td>\n",
       "\t\t<td>0.012940481828903576</td>\n",
       "\t\t<td>7.068453711200376e-26</td>\n",
       "\t\t<td>1.7992673407120318e-37</td>\n",
       "\t\t<td>2.4731454836505886e-41</td>\n",
       "\t\t<td>2.5936992002669714e-43</td>\n",
       "\t\t<td>1.0928889501829699e-42</td>\n",
       "\t\t<td>2.0086745654056327e-42</td>\n",
       "\t\t<td>2.2709645437656535e-31</td>\n",
       "\t\t<td>1.851214446134859e-33</td>\n",
       "\t\t<td>7.663042996444563e-33</td>\n",
       "\t\t<td>1.1569023875586224e-34</td>\n",
       "\t\t<td>2.1423705950329108e-41</td>\n",
       "\t\t<td>1.058397421636148e-38</td>\n",
       "\t\t<td>G</td>\n",
       "\t</tr>\n",
       "\t<tr>\n",
       "\t\t<td>16</td>\n",
       "\t\t<td>C</td>\n",
       "\t\t<td>-382.69478015485515</td>\n",
       "\t\t<td>-474.6514068302638</td>\n",
       "\t\t<td>-322.8003891494965</td>\n",
       "\t\t<td>-475.4404884046533</td>\n",
       "\t\t<td>-434.98308347020895</td>\n",
       "\t\t<td>-453.4546231094449</td>\n",
       "\t\t<td>-328.99296953170284</td>\n",
       "\t\t<td>-396.93437795613715</td>\n",
       "\t\t<td>-435.5292903216534</td>\n",
       "\t\t<td>-464.79468555073504</td>\n",
       "\t\t<td>-482.95761259235144</td>\n",
       "\t\t<td>-473.3162368889169</td>\n",
       "\t\t<td>-470.4821224509865</td>\n",
       "\t\t<td>-408.22224518672624</td>\n",
       "\t\t<td>-416.2040547248789</td>\n",
       "\t\t<td>-428.33484248461946</td>\n",
       "\t\t<td>-420.46289246975175</td>\n",
       "\t\t<td>-473.64555038284544</td>\n",
       "\t\t<td>-472.9378724522124</td>\n",
       "\t\t<td>9.71201761917986e-27</td>\n",
       "\t\t<td>1.124744613699261e-66</td>\n",
       "\t\t<td>0.9979596273968585</td>\n",
       "\t\t<td>5.109285233706835e-67</td>\n",
       "\t\t<td>1.9001499022791466e-49</td>\n",
       "\t\t<td>1.8059267297515358e-57</td>\n",
       "\t\t<td>0.0020403726031415067</td>\n",
       "\t\t<td>6.355221796689713e-33</td>\n",
       "\t\t<td>1.10045741760129e-49</td>\n",
       "\t\t<td>2.146711008553275e-62</td>\n",
       "\t\t<td>2.7778871193662818e-70</td>\n",
       "\t\t<td>4.274751368095293e-66</td>\n",
       "\t\t<td>7.273628595834811e-65</td>\n",
       "\t\t<td>7.959252111057628e-38</td>\n",
       "\t\t<td>2.7190451758098625e-41</td>\n",
       "\t\t<td>1.465825383616775e-46</td>\n",
       "\t\t<td>3.84438338270381e-43</td>\n",
       "\t\t<td>3.075330721735036e-66</td>\n",
       "\t\t<td>6.240687657874301e-66</td>\n",
       "\t\t<td>G</td>\n",
       "\t</tr>\n",
       "\t<tr>\n",
       "\t\t<td>21</td>\n",
       "\t\t<td>H</td>\n",
       "\t\t<td>-62.98574485257002</td>\n",
       "\t\t<td>-64.41107766350683</td>\n",
       "\t\t<td>-58.752293834606476</td>\n",
       "\t\t<td>-64.76555458051988</td>\n",
       "\t\t<td>-64.21353101957222</td>\n",
       "\t\t<td>-63.00608474150343</td>\n",
       "\t\t<td>-60.439186216035054</td>\n",
       "\t\t<td>-57.422542301587015</td>\n",
       "\t\t<td>-63.00550156488935</td>\n",
       "\t\t<td>-63.04001853102159</td>\n",
       "\t\t<td>-66.05851885614042</td>\n",
       "\t\t<td>-64.02968746515937</td>\n",
       "\t\t<td>-64.28252386701618</td>\n",
       "\t\t<td>-60.76626629449373</td>\n",
       "\t\t<td>-63.00622568491373</td>\n",
       "\t\t<td>-63.856339041249214</td>\n",
       "\t\t<td>-63.09684338607873</td>\n",
       "\t\t<td>-62.9822272136399</td>\n",
       "\t\t<td>-63.80938295339105</td>\n",
       "\t\t<td>0.0027732050102182333</td>\n",
       "\t\t<td>0.0006667573341061164</td>\n",
       "\t\t<td>0.19122575868594968</td>\n",
       "\t\t<td>0.0004677571475639521</td>\n",
       "\t\t<td>0.0008123837334891995</td>\n",
       "\t\t<td>0.002717368111495406</td>\n",
       "\t\t<td>0.03539470848972593</td>\n",
       "\t\t<td>0.7228532629298958</td>\n",
       "\t\t<td>0.002718953279201316</td>\n",
       "\t\t<td>0.0026267044937949005</td>\n",
       "\t\t<td>0.00012837876168697544</td>\n",
       "\t\t<td>0.0009763453452105122</td>\n",
       "\t\t<td>0.0007582248361532419</td>\n",
       "\t\t<td>0.025520505156561502</td>\n",
       "\t\t<td>0.0027169851433557803</td>\n",
       "\t\t<td>0.001161148389166301</td>\n",
       "\t\t<td>0.0024816040891631344</td>\n",
       "\t\t<td>0.002782977321778468</td>\n",
       "\t\t<td>0.0012169717414835196</td>\n",
       "\t\t<td>G</td>\n",
       "\t</tr>\n",
       "\t<tr>\n",
       "\t\t<td>23</td>\n",
       "\t\t<td>G</td>\n",
       "\t\t<td>-153.78733191766804</td>\n",
       "\t\t<td>-158.2755795745322</td>\n",
       "\t\t<td>-139.3383249434161</td>\n",
       "\t\t<td>-162.84548675458362</td>\n",
       "\t\t<td>-161.17333118163762</td>\n",
       "\t\t<td>-152.89821155893287</td>\n",
       "\t\t<td>-132.62842473641987</td>\n",
       "\t\t<td>-143.5396708195526</td>\n",
       "\t\t<td>-141.66368662731455</td>\n",
       "\t\t<td>-147.60558995312897</td>\n",
       "\t\t<td>-166.11121492001092</td>\n",
       "\t\t<td>-152.8444251072551</td>\n",
       "\t\t<td>-161.26984962649956</td>\n",
       "\t\t<td>-144.30242418016704</td>\n",
       "\t\t<td>-159.32238089171364</td>\n",
       "\t\t<td>-157.34190422869125</td>\n",
       "\t\t<td>-147.91807159738408</td>\n",
       "\t\t<td>-159.30478360649948</td>\n",
       "\t\t<td>-161.71672772250503</td>\n",
       "\t\t<td>6.459677862676843e-10</td>\n",
       "\t\t<td>7.260886865920808e-12</td>\n",
       "\t\t<td>0.0012171240908922932</td>\n",
       "\t\t<td>7.521495479559617e-14</td>\n",
       "\t\t<td>4.004166584487953e-13</td>\n",
       "\t\t<td>1.571632229338174e-09</td>\n",
       "\t\t<td>0.9986366316324038</td>\n",
       "\t\t<td>1.822693009938662e-05</td>\n",
       "\t\t<td>0.00011897154756960311</td>\n",
       "\t\t<td>3.125412066106037e-07</td>\n",
       "\t\t<td>2.8708895018751236e-15</td>\n",
       "\t\t<td>1.6584794150021784e-09</td>\n",
       "\t\t<td>3.6357558287204597e-13</td>\n",
       "\t\t<td>8.50068557067445e-06</td>\n",
       "\t\t<td>2.5489988188980892e-12</td>\n",
       "\t\t<td>1.8470545442782592e-11</td>\n",
       "\t\t<td>2.2866422870988356e-07</td>\n",
       "\t\t<td>2.594251270523462e-12</td>\n",
       "\t\t<td>2.3255089637862793e-13</td>\n",
       "\t\t<td>G</td>\n",
       "\t</tr>\n",
       "\t<tr>\n",
       "\t\t<td>19</td>\n",
       "\t\t<td>G</td>\n",
       "\t\t<td>-109.09662583206864</td>\n",
       "\t\t<td>-137.35758850245227</td>\n",
       "\t\t<td>-97.92279870573923</td>\n",
       "\t\t<td>-141.82254244791622</td>\n",
       "\t\t<td>-144.24684211996123</td>\n",
       "\t\t<td>-135.12323477715543</td>\n",
       "\t\t<td>-93.73423733952093</td>\n",
       "\t\t<td>-121.79945915095601</td>\n",
       "\t\t<td>-114.32875523966261</td>\n",
       "\t\t<td>-143.27708052297103</td>\n",
       "\t\t<td>-145.92988260662935</td>\n",
       "\t\t<td>-137.86940397559653</td>\n",
       "\t\t<td>-144.30164610659813</td>\n",
       "\t\t<td>-134.5190697772324</td>\n",
       "\t\t<td>-126.42082300322079</td>\n",
       "\t\t<td>-143.9883991584285</td>\n",
       "\t\t<td>-145.38140850702243</td>\n",
       "\t\t<td>-139.25103201630517</td>\n",
       "\t\t<td>-143.95861165109287</td>\n",
       "\t\t<td>2.097304066998735e-07</td>\n",
       "\t\t<td>1.1170722362896487e-19</td>\n",
       "\t\t<td>0.014941453986875</td>\n",
       "\t\t<td>1.2852168107454473e-21</td>\n",
       "\t\t<td>1.137932306575879e-22</td>\n",
       "\t\t<td>1.0433950006681967e-18</td>\n",
       "\t\t<td>0.9850583351616653</td>\n",
       "\t\t<td>6.381032904043108e-13</td>\n",
       "\t\t<td>1.120408690250038e-09</td>\n",
       "\t\t<td>3.0010866698655006e-22</td>\n",
       "\t\t<td>2.114371183878983e-23</td>\n",
       "\t\t<td>6.695802300631503e-20</td>\n",
       "\t\t<td>1.0772471616963431e-22</td>\n",
       "\t\t<td>1.9091246147836067e-18</td>\n",
       "\t\t<td>6.2785327532282675e-15</td>\n",
       "\t\t<td>1.4735225266224619e-22</td>\n",
       "\t\t<td>3.659152471054517e-23</td>\n",
       "\t\t<td>1.681780018031817e-20</td>\n",
       "\t\t<td>1.5180753542886703e-22</td>\n",
       "\t\t<td>I</td>\n",
       "\t</tr>\n",
       "\t<tr>\n",
       "\t\t<td>10</td>\n",
       "\t\t<td>I</td>\n",
       "\t\t<td>-96.02193601798028</td>\n",
       "\t\t<td>-98.69497724073595</td>\n",
       "\t\t<td>-97.15528079727841</td>\n",
       "\t\t<td>-99.02870870564524</td>\n",
       "\t\t<td>-98.51352149116751</td>\n",
       "\t\t<td>-97.75643223393048</td>\n",
       "\t\t<td>-89.44539547414762</td>\n",
       "\t\t<td>-102.71547484643328</td>\n",
       "\t\t<td>-82.74445163980101</td>\n",
       "\t\t<td>-97.72439389066847</td>\n",
       "\t\t<td>-100.28910332063568</td>\n",
       "\t\t<td>-98.34884795179222</td>\n",
       "\t\t<td>-98.57643339826558</td>\n",
       "\t\t<td>-97.71465571175588</td>\n",
       "\t\t<td>-97.75620971211883</td>\n",
       "\t\t<td>-98.19865052004033</td>\n",
       "\t\t<td>-98.36165700934032</td>\n",
       "\t\t<td>-97.84393233559665</td>\n",
       "\t\t<td>-98.15905239526326</td>\n",
       "\t\t<td>1.7105110500915575e-06</td>\n",
       "\t\t<td>1.1809699068390472e-07</td>\n",
       "\t\t<td>5.507068777259642e-07</td>\n",
       "\t\t<td>8.458650824498575e-08</td>\n",
       "\t\t<td>1.4159374284881707e-07</td>\n",
       "\t\t<td>3.0188653914869717e-07</td>\n",
       "\t\t<td>0.0012282341045230557</td>\n",
       "\t\t<td>2.1191363764698704e-09</td>\n",
       "\t\t<td>0.9987667668403464</td>\n",
       "\t\t<td>3.1171508823117145e-07</td>\n",
       "\t\t<td>2.3983837401840278e-08</td>\n",
       "\t\t<td>1.6694017767686947e-07</td>\n",
       "\t\t<td>1.3296023309999488e-07</td>\n",
       "\t\t<td>3.147654539275509e-07</td>\n",
       "\t\t<td>3.0195372296295626e-07</td>\n",
       "\t\t<td>1.9399511192628896e-07</td>\n",
       "\t\t<td>1.6481546814759148e-07</td>\n",
       "\t\t<td>2.7659411614514314e-07</td>\n",
       "\t\t<td>2.01831075424694e-07</td>\n",
       "\t\t<td>I</td>\n",
       "\t</tr>\n",
       "\t<tr>\n",
       "\t\t<td>7</td>\n",
       "\t\t<td>G</td>\n",
       "\t\t<td>-86.20437860899557</td>\n",
       "\t\t<td>-87.2670107149929</td>\n",
       "\t\t<td>-87.57999625026703</td>\n",
       "\t\t<td>-87.60765733060346</td>\n",
       "\t\t<td>-83.74798682379388</td>\n",
       "\t\t<td>-86.17298306978813</td>\n",
       "\t\t<td>-80.59917706187298</td>\n",
       "\t\t<td>-89.52948336219275</td>\n",
       "\t\t<td>-86.37002775330112</td>\n",
       "\t\t<td>-86.16293543745284</td>\n",
       "\t\t<td>-88.87890849913725</td>\n",
       "\t\t<td>-86.90912778958126</td>\n",
       "\t\t<td>-87.14513022118244</td>\n",
       "\t\t<td>-86.16605427033318</td>\n",
       "\t\t<td>-86.17288170305046</td>\n",
       "\t\t<td>-86.7512133604433</td>\n",
       "\t\t<td>-86.60671913491979</td>\n",
       "\t\t<td>-86.22336396161107</td>\n",
       "\t\t<td>-86.70916258130586</td>\n",
       "\t\t<td>0.0033995355012297434</td>\n",
       "\t\t<td>0.0011746928380623736</td>\n",
       "\t\t<td>0.000859006460331514</td>\n",
       "\t\t<td>0.0008355710325025513</td>\n",
       "\t\t<td>0.03964760688246232</td>\n",
       "\t\t<td>0.003507958850353355</td>\n",
       "\t\t<td>0.9241185387707693</td>\n",
       "\t\t<td>0.00012227704498862183</td>\n",
       "\t\t<td>0.0028805742329045315</td>\n",
       "\t\t<td>0.003543383198520733</td>\n",
       "\t\t<td>0.00023436135909686413</td>\n",
       "\t\t<td>0.0016801610037993158</td>\n",
       "\t\t<td>0.0013269554632658464</td>\n",
       "\t\t<td>0.0035323491940456356</td>\n",
       "\t\t<td>0.00350831445872101</td>\n",
       "\t\t<td>0.001967579394647052</td>\n",
       "\t\t<td>0.0022734494942960918</td>\n",
       "\t\t<td>0.003335602932519245</td>\n",
       "\t\t<td>0.0020520818874837604</td>\n",
       "\t\t<td>G</td>\n",
       "\t</tr>\n",
       "\t<tr>\n",
       "\t\t<td>2</td>\n",
       "\t\t<td>G</td>\n",
       "\t\t<td>-66.98777067346543</td>\n",
       "\t\t<td>-86.57386353443297</td>\n",
       "\t\t<td>-59.52641281693583</td>\n",
       "\t\t<td>-86.22136296948355</td>\n",
       "\t\t<td>-83.00265389006336</td>\n",
       "\t\t<td>-81.45448419849303</td>\n",
       "\t\t<td>-52.798007604378036</td>\n",
       "\t\t<td>-59.15735745321956</td>\n",
       "\t\t<td>-79.13153091240676</td>\n",
       "\t\t<td>-75.82209658794622</td>\n",
       "\t\t<td>-88.87890849913725</td>\n",
       "\t\t<td>-86.90912778958126</td>\n",
       "\t\t<td>-85.75883586006256</td>\n",
       "\t\t<td>-71.94543066622728</td>\n",
       "\t\t<td>-69.39740709539133</td>\n",
       "\t\t<td>-82.18686516897546</td>\n",
       "\t\t<td>-76.17386883761927</td>\n",
       "\t\t<td>-86.22336396161107</td>\n",
       "\t\t<td>-86.70916258130586</td>\n",
       "\t\t<td>6.85795418605941e-07</td>\n",
       "\t\t<td>2.1382699267864267e-15</td>\n",
       "\t\t<td>0.0011929469306844783</td>\n",
       "\t\t<td>3.0419465456880136e-15</td>\n",
       "\t\t<td>7.603598393088243e-14</td>\n",
       "\t\t<td>3.575861787693428e-13</td>\n",
       "\t\t<td>0.9970808607796513</td>\n",
       "\t\t<td>0.0017254398818105394</td>\n",
       "\t\t<td>3.649442439712017e-12</td>\n",
       "\t\t<td>9.988392123908923e-11</td>\n",
       "\t\t<td>2.1330165210857295e-16</td>\n",
       "\t\t<td>1.5291817699805603e-15</td>\n",
       "\t\t<td>4.8308610887021625e-15</td>\n",
       "\t\t<td>4.820701066080351e-09</td>\n",
       "\t\t<td>6.161731617146288e-08</td>\n",
       "\t\t<td>1.7191418400384068e-13</td>\n",
       "\t\t<td>7.026237676965986e-11</td>\n",
       "\t\t<td>3.035865720468404e-15</td>\n",
       "\t\t<td>1.8676818505795292e-15</td>\n",
       "\t\t<td>G</td>\n",
       "\t</tr>\n",
       "</table></html>"
      ],
      "text/plain": [
       "   doc_id prediction    loglik_A    loglik_B    loglik_C    loglik_D    loglik_E    loglik_F    loglik_G    loglik_H    loglik_I    loglik_J    loglik_K    loglik_L    loglik_M    loglik_N    loglik_O    loglik_P    loglik_Q    loglik_R    loglik_S        prob_A        prob_B        prob_C        prob_D        prob_E        prob_F    prob_G        prob_H        prob_I        prob_J        prob_K        prob_L        prob_M        prob_N        prob_O        prob_P        prob_Q        prob_R        prob_S target\n",
       "0       8          G  -86.204379  -87.267011  -87.579996  -87.607657  -83.747987  -86.172983  -80.599177  -89.529483  -86.370028  -86.162935  -88.878908  -86.909128  -87.145130  -86.166054  -86.172882  -86.751213  -86.606719  -86.223364  -86.709163  3.399536e-03  1.174693e-03  8.590065e-04  8.355710e-04  3.964761e-02  3.507959e-03  0.924119  1.222770e-04  2.880574e-03  3.543383e-03  2.343614e-04  1.680161e-03  1.326955e-03  3.532349e-03  3.508314e-03  1.967579e-03  2.273449e-03  3.335603e-03  2.052082e-03      G\n",
       "1      11          G -813.370916 -889.012071 -766.163779 -867.942285 -873.893334 -874.080886 -725.066719 -847.787690 -888.613551 -883.064894 -899.002741 -897.742965 -889.557315 -815.253935 -821.446304 -899.519252 -884.641983 -911.283719 -872.775287  4.466575e-39  6.301418e-72  1.418318e-18  8.911074e-63  2.319649e-65  1.922957e-65  1.000000  5.046143e-54  9.386708e-72  2.411374e-69  2.887656e-76  1.017792e-75  3.652932e-72  6.795006e-40  1.389562e-42  1.722771e-76  4.981308e-70  1.339629e-81  7.095517e-65      G\n",
       "2      14          C -231.995572 -292.970408 -196.217366 -292.493435 -269.905575 -284.406521 -200.551736 -254.115912 -280.812610 -289.704839 -294.262415 -292.824091 -292.215440 -266.764275 -271.573808 -270.153240 -274.346488 -289.848417 -283.645819  2.858025e-16  9.441286e-43  9.870595e-01  1.521171e-42  9.816593e-33  4.946297e-39  0.012940  7.068454e-26  1.799267e-37  2.473145e-41  2.593699e-43  1.092889e-42  2.008675e-42  2.270965e-31  1.851214e-33  7.663043e-33  1.156902e-34  2.142371e-41  1.058397e-38      G\n",
       "3      16          C -382.694780 -474.651407 -322.800389 -475.440488 -434.983083 -453.454623 -328.992970 -396.934378 -435.529290 -464.794686 -482.957613 -473.316237 -470.482122 -408.222245 -416.204055 -428.334842 -420.462892 -473.645550 -472.937872  9.712018e-27  1.124745e-66  9.979596e-01  5.109285e-67  1.900150e-49  1.805927e-57  0.002040  6.355222e-33  1.100457e-49  2.146711e-62  2.777887e-70  4.274751e-66  7.273629e-65  7.959252e-38  2.719045e-41  1.465825e-46  3.844383e-43  3.075331e-66  6.240688e-66      G\n",
       "4      21          H  -62.985745  -64.411078  -58.752294  -64.765555  -64.213531  -63.006085  -60.439186  -57.422542  -63.005502  -63.040019  -66.058519  -64.029687  -64.282524  -60.766266  -63.006226  -63.856339  -63.096843  -62.982227  -63.809383  2.773205e-03  6.667573e-04  1.912258e-01  4.677571e-04  8.123837e-04  2.717368e-03  0.035395  7.228533e-01  2.718953e-03  2.626704e-03  1.283788e-04  9.763453e-04  7.582248e-04  2.552051e-02  2.716985e-03  1.161148e-03  2.481604e-03  2.782977e-03  1.216972e-03      G\n",
       "5      23          G -153.787332 -158.275580 -139.338325 -162.845487 -161.173331 -152.898212 -132.628425 -143.539671 -141.663687 -147.605590 -166.111215 -152.844425 -161.269850 -144.302424 -159.322381 -157.341904 -147.918072 -159.304784 -161.716728  6.459678e-10  7.260887e-12  1.217124e-03  7.521495e-14  4.004167e-13  1.571632e-09  0.998637  1.822693e-05  1.189715e-04  3.125412e-07  2.870890e-15  1.658479e-09  3.635756e-13  8.500686e-06  2.548999e-12  1.847055e-11  2.286642e-07  2.594251e-12  2.325509e-13      G\n",
       "6      19          G -109.096626 -137.357589  -97.922799 -141.822542 -144.246842 -135.123235  -93.734237 -121.799459 -114.328755 -143.277081 -145.929883 -137.869404 -144.301646 -134.519070 -126.420823 -143.988399 -145.381409 -139.251032 -143.958612  2.097304e-07  1.117072e-19  1.494145e-02  1.285217e-21  1.137932e-22  1.043395e-18  0.985058  6.381033e-13  1.120409e-09  3.001087e-22  2.114371e-23  6.695802e-20  1.077247e-22  1.909125e-18  6.278533e-15  1.473523e-22  3.659152e-23  1.681780e-20  1.518075e-22      I\n",
       "7      10          I  -96.021936  -98.694977  -97.155281  -99.028709  -98.513521  -97.756432  -89.445395 -102.715475  -82.744452  -97.724394 -100.289103  -98.348848  -98.576433  -97.714656  -97.756210  -98.198651  -98.361657  -97.843932  -98.159052  1.710511e-06  1.180970e-07  5.507069e-07  8.458651e-08  1.415937e-07  3.018865e-07  0.001228  2.119136e-09  9.987668e-01  3.117151e-07  2.398384e-08  1.669402e-07  1.329602e-07  3.147655e-07  3.019537e-07  1.939951e-07  1.648155e-07  2.765941e-07  2.018311e-07      I\n",
       "8       7          G  -86.204379  -87.267011  -87.579996  -87.607657  -83.747987  -86.172983  -80.599177  -89.529483  -86.370028  -86.162935  -88.878908  -86.909128  -87.145130  -86.166054  -86.172882  -86.751213  -86.606719  -86.223364  -86.709163  3.399536e-03  1.174693e-03  8.590065e-04  8.355710e-04  3.964761e-02  3.507959e-03  0.924119  1.222770e-04  2.880574e-03  3.543383e-03  2.343614e-04  1.680161e-03  1.326955e-03  3.532349e-03  3.508314e-03  1.967579e-03  2.273449e-03  3.335603e-03  2.052082e-03      G\n",
       "9       2          G  -66.987771  -86.573864  -59.526413  -86.221363  -83.002654  -81.454484  -52.798008  -59.157357  -79.131531  -75.822097  -88.878908  -86.909128  -85.758836  -71.945431  -69.397407  -82.186865  -76.173869  -86.223364  -86.709163  6.857954e-07  2.138270e-15  1.192947e-03  3.041947e-15  7.603598e-14  3.575862e-13  0.997081  1.725440e-03  3.649442e-12  9.988392e-11  2.133017e-16  1.529182e-15  4.830861e-15  4.820701e-09  6.161732e-08  1.719142e-13  7.026238e-11  3.035866e-15  1.867682e-15      G"
      ]
     },
     "execution_count": 53,
     "metadata": {},
     "output_type": "execute_result"
    }
   ],
   "source": [
    "nbt_predict_out.result.head()"
   ]
  },
  {
   "cell_type": "markdown",
   "metadata": {},
   "source": [
    "### Evaluando las Clasificaciones"
   ]
  },
  {
   "cell_type": "code",
   "execution_count": 57,
   "metadata": {},
   "outputs": [],
   "source": [
    "predicted_data = ConvertTo(data = nbt_predict_out.result,\n",
    "                               target_columns = [\"target\", \"prediction\"],\n",
    "                               target_datatype = [\"VARCHAR(charlen=20,charset=UNICODE,casespecific=NO)\"])"
   ]
  },
  {
   "cell_type": "code",
   "execution_count": 59,
   "metadata": {},
   "outputs": [],
   "source": [
    "ClassificationEvaluator_obj = ClassificationEvaluator(data=predicted_data.result,\n",
    "                                                          observation_column='target',\n",
    "                                                          prediction_column='prediction',\n",
    "                                                          labels=['A','B','C','D','E','F','G','H','I','J','K','L','M','N','O','P','Q','R','S'])"
   ]
  },
  {
   "cell_type": "code",
   "execution_count": null,
   "metadata": {},
   "outputs": [],
   "source": [
    "ClassificationEvaluator_obj.result.head(22).sort('SeqNum')"
   ]
  },
  {
   "cell_type": "code",
   "execution_count": null,
   "metadata": {},
   "outputs": [],
   "source": [
    "ClassificationEvaluator_obj.output_data.sort('SeqNum')"
   ]
  },
  {
   "cell_type": "code",
   "execution_count": 62,
   "metadata": {},
   "outputs": [],
   "source": [
    "copy_to_sql(predicted_data.result, schema_name=\"pocuser\", table_name=\"matriz_clas\", if_exists=\"replace\")"
   ]
  },
  {
   "cell_type": "markdown",
   "metadata": {},
   "source": [
    "## **Finalizando la Demo**"
   ]
  },
  {
   "cell_type": "code",
   "execution_count": null,
   "metadata": {},
   "outputs": [],
   "source": [
    "con.execute(\"DROP VIEW pocuser.CASO3;\")"
   ]
  },
  {
   "cell_type": "code",
   "execution_count": null,
   "metadata": {},
   "outputs": [],
   "source": [
    "con.execute(\"DROP TABLE pocuser.TrainModel;\")"
   ]
  },
  {
   "cell_type": "code",
   "execution_count": null,
   "metadata": {},
   "outputs": [],
   "source": [
    "con.execute(\"DROP TABLE pocuser.TestModel;\")"
   ]
  },
  {
   "cell_type": "code",
   "execution_count": null,
   "metadata": {},
   "outputs": [],
   "source": [
    "con.execute(\"DROP TABLE pocuser.pmml_models;\")"
   ]
  },
  {
   "cell_type": "code",
   "execution_count": 44,
   "metadata": {},
   "outputs": [
    {
     "data": {
      "text/plain": [
       "<sqlalchemy.engine.cursor.LegacyCursorResult at 0x7f2d82474668>"
      ]
     },
     "execution_count": 44,
     "metadata": {},
     "output_type": "execute_result"
    }
   ],
   "source": [
    "con.execute(\"DROP TABLE pocuser.matriz_clas;\")"
   ]
  },
  {
   "cell_type": "code",
   "execution_count": null,
   "metadata": {
    "id": "mgDCnX0cN2TU"
   },
   "outputs": [],
   "source": [
    "## Finalizando el Notebook y Limpiando el ambiente \n",
    "remove_context()"
   ]
  },
  {
   "cell_type": "markdown",
   "metadata": {},
   "source": [
    "![Slide](images/Diapositiva13.PNG)\n",
    "\n",
    "![Slide](images/Diapositiva14.PNG)"
   ]
  },
  {
   "cell_type": "markdown",
   "metadata": {},
   "source": [
    "Copyright 2023. Elaborado por Luis Cajachahua bajo licencia MIT"
   ]
  }
 ],
 "metadata": {
  "colab": {
   "collapsed_sections": [],
   "name": "Copia de S03_Modelamiento_EntrenamientoyValidacion.ipynb",
   "provenance": []
  },
  "kernelspec": {
   "display_name": "Python 3",
   "language": "python",
   "name": "python3"
  },
  "language_info": {
   "codemirror_mode": {
    "name": "ipython",
    "version": 3
   },
   "file_extension": ".py",
   "mimetype": "text/x-python",
   "name": "python",
   "nbconvert_exporter": "python",
   "pygments_lexer": "ipython3",
   "version": "3.6.15"
  },
  "toc": {
   "base_numbering": 1,
   "nav_menu": {},
   "number_sections": true,
   "sideBar": true,
   "skip_h1_title": false,
   "title_cell": "Table of Contents",
   "title_sidebar": "Contents",
   "toc_cell": false,
   "toc_position": {
    "height": "calc(100% - 180px)",
    "left": "10px",
    "top": "150px",
    "width": "165px"
   },
   "toc_section_display": true,
   "toc_window_display": false
  },
  "varInspector": {
   "cols": {
    "lenName": 16,
    "lenType": 16,
    "lenVar": 40
   },
   "kernels_config": {
    "python": {
     "delete_cmd_postfix": "",
     "delete_cmd_prefix": "del ",
     "library": "var_list.py",
     "varRefreshCmd": "print(var_dic_list())"
    },
    "r": {
     "delete_cmd_postfix": ") ",
     "delete_cmd_prefix": "rm(",
     "library": "var_list.r",
     "varRefreshCmd": "cat(var_dic_list()) "
    }
   },
   "types_to_exclude": [
    "module",
    "function",
    "builtin_function_or_method",
    "instance",
    "_Feature"
   ],
   "window_display": false
  }
 },
 "nbformat": 4,
 "nbformat_minor": 4
}
