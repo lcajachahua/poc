{
 "cells": [
  {
   "cell_type": "markdown",
   "id": "2f0df8dc",
   "metadata": {},
   "source": [
    "# **Caso 3.1: Preparando los Datos**\n"
   ]
  },
  {
   "cell_type": "markdown",
   "id": "e8294e51",
   "metadata": {},
   "source": [
    "### Creamos la conexión con Vantage"
   ]
  },
  {
   "cell_type": "code",
   "execution_count": 1,
   "id": "9613a966",
   "metadata": {},
   "outputs": [
    {
     "name": "stdin",
     "output_type": "stream",
     "text": [
      "Password: ·······\n"
     ]
    },
    {
     "name": "stdout",
     "output_type": "stream",
     "text": [
      "Success: 'DataAnalyst' connection established and activated for user 'pocuser', with default database 'DW_LANDING'\n"
     ]
    }
   ],
   "source": [
    "%connect DataAnalyst"
   ]
  },
  {
   "cell_type": "markdown",
   "id": "8412eff5-4ab2-4d10-825a-83685d63fba3",
   "metadata": {},
   "source": [
    "### Explorando las Tablas Originales"
   ]
  },
  {
   "cell_type": "code",
   "execution_count": 2,
   "id": "b300c15e-3c0f-49cd-a67e-335f9ae30eaf",
   "metadata": {},
   "outputs": [
    {
     "data": {
      "application/vnd.teradata.resultset": "\"N\",\"NID\"\n\"118154\",\"117821\"",
      "text/html": [
       "<div class = \"td-resultset-table-div\" style = \"max-height: 100%; overflow-y: auto\">\n",
       "      <table class=\"tdhistory364015\"><style>\n",
       "      table.tdhistory364015 { display: block !important; min-height: 105px !important; overflow: auto !important; height: 105px !important; width: 100% !important; border: 1px solid rgb(207, 207, 207) !important; border-collapse: collapse !important; ; color: var(--jp-ui-font-color1) !important; }\n",
       "      th.tdhistory364015 { border: 1px solid rgb(198,198,198) !important; border-collapse: collapse !important; ; padding: 2px 5px !important; ; font-size: 13px !important; ; text-align: center !important; white-space: normal !important; color: var(--jp-ui-font-color1) !important; }\n",
       "      th.tdhistory364015:last-child { text-align: left !important; }\n",
       "      tbody.tdhistory364015 tr:nth-child(even) { background: rgba(243, 243, 243, 0.75) !important; }\n",
       "      tbody.tdhistory364015 tr:nth-child(odd) { background: var(--jp-ui-inverse-font-color1) !important; }\n",
       "      td.tdhistory364015 { border: 1px solid rgb(207, 207, 207) !important; border-collapse: collapse !important; ; padding: 2px 5px !important; ; font-size: 13px !important; ; text-align: left !important;          white-space: nowrap !important; overflow:hidden !important; text-overflow:ellipsis !important;; }\n",
       "    </style><thead><tr style= \"background: rgba(243, 243, 243, 0.75)\"><th class=\"tdhistory364015\"></th><th class=\"tdhistory364015\">N</th><th class=\"tdhistory364015\">NID</th></tr></thead><tbody class=\"tdhistory364015 resultset-body\"><tr><th class=\"tdhistory364015\" style= \"background: rgba(243, 243, 243, 0.75)\">1</th><td class=\"tdhistory364015\">118154</td><td class=\"tdhistory364015\">117821</td></tr></tbody></table></div>"
      ]
     },
     "execution_count": 2,
     "metadata": {
      "application/vnd.teradata.resultset": "{\"resultSetID\":\"/teradata/proyecto/Teradata/Resultsets/2023.11.03_01.17.21.091_UTC\",\"historyID\":2110,\"chunkID\":\"00001\",\"sessionid\":\"\",\"portnum\":\"\",\"dockermode\":\"standalone\",\"totalRowCount\":1,\"chunkCount\":0,\"rowLimit\":0,\"columnMetadata\":[{\"columnName\":\"N\",\"columnTypeName\":\"INTEGER\"},{\"columnNumber\":1,\"columnName\":\"NID\",\"columnTypeName\":\"INTEGER\"}]}"
     },
     "output_type": "execute_result"
    }
   ],
   "source": [
    "SELECT COUNT(1) N, COUNT(DISTINCT CAT_001) NID FROM DW_LANDING.caso3_df1;"
   ]
  },
  {
   "cell_type": "code",
   "execution_count": 3,
   "id": "16ae3aff-65c4-4d1e-94d8-19b0371fbca6",
   "metadata": {},
   "outputs": [
    {
     "data": {
      "application/vnd.teradata.resultset": "\"N\",\"NID\"\n\"322399\",\"319842\"",
      "text/html": [
       "<div class = \"td-resultset-table-div\" style = \"max-height: 100%; overflow-y: auto\">\n",
       "      <table class=\"tdhistory2294\"><style>\n",
       "      table.tdhistory2294 { display: block !important; min-height: 105px !important; overflow: auto !important; height: 105px !important; width: 100% !important; border: 1px solid rgb(207, 207, 207) !important; border-collapse: collapse !important; ; color: var(--jp-ui-font-color1) !important; }\n",
       "      th.tdhistory2294 { border: 1px solid rgb(198,198,198) !important; border-collapse: collapse !important; ; padding: 2px 5px !important; ; font-size: 13px !important; ; text-align: center !important; white-space: normal !important; color: var(--jp-ui-font-color1) !important; }\n",
       "      th.tdhistory2294:last-child { text-align: left !important; }\n",
       "      tbody.tdhistory2294 tr:nth-child(even) { background: rgba(243, 243, 243, 0.75) !important; }\n",
       "      tbody.tdhistory2294 tr:nth-child(odd) { background: var(--jp-ui-inverse-font-color1) !important; }\n",
       "      td.tdhistory2294 { border: 1px solid rgb(207, 207, 207) !important; border-collapse: collapse !important; ; padding: 2px 5px !important; ; font-size: 13px !important; ; text-align: left !important;          white-space: nowrap !important; overflow:hidden !important; text-overflow:ellipsis !important;; }\n",
       "    </style><thead><tr style= \"background: rgba(243, 243, 243, 0.75)\"><th class=\"tdhistory2294\"></th><th class=\"tdhistory2294\">N</th><th class=\"tdhistory2294\">NID</th></tr></thead><tbody class=\"tdhistory2294 resultset-body\"><tr><th class=\"tdhistory2294\" style= \"background: rgba(243, 243, 243, 0.75)\">1</th><td class=\"tdhistory2294\">322399</td><td class=\"tdhistory2294\">319842</td></tr></tbody></table></div>"
      ]
     },
     "execution_count": 3,
     "metadata": {
      "application/vnd.teradata.resultset": "{\"resultSetID\":\"/teradata/proyecto/Teradata/Resultsets/2023.11.03_01.17.22.278_UTC\",\"historyID\":2111,\"chunkID\":\"00001\",\"sessionid\":\"\",\"portnum\":\"\",\"dockermode\":\"standalone\",\"totalRowCount\":1,\"chunkCount\":0,\"rowLimit\":0,\"columnMetadata\":[{\"columnName\":\"N\",\"columnTypeName\":\"INTEGER\"},{\"columnNumber\":1,\"columnName\":\"NID\",\"columnTypeName\":\"INTEGER\"}]}"
     },
     "output_type": "execute_result"
    }
   ],
   "source": [
    "SELECT COUNT(1) N, COUNT(DISTINCT CAT_011) NID FROM DW_LANDING.caso3_df2;"
   ]
  },
  {
   "cell_type": "code",
   "execution_count": 4,
   "id": "b6d8ae60-8d33-4e3d-9ef6-01a71101733c",
   "metadata": {},
   "outputs": [
    {
     "data": {
      "application/vnd.teradata.resultset": "\"N\",\"NIDREC\",\"NID\"\n\"74000000\",\"996730\",\"319843\"",
      "text/html": [
       "<div class = \"td-resultset-table-div\" style = \"max-height: 100%; overflow-y: auto\">\n",
       "      <table class=\"tdhistory574005\"><style>\n",
       "      table.tdhistory574005 { display: block !important; min-height: 105px !important; overflow: auto !important; height: 105px !important; width: 100% !important; border: 1px solid rgb(207, 207, 207) !important; border-collapse: collapse !important; ; color: var(--jp-ui-font-color1) !important; }\n",
       "      th.tdhistory574005 { border: 1px solid rgb(198,198,198) !important; border-collapse: collapse !important; ; padding: 2px 5px !important; ; font-size: 13px !important; ; text-align: center !important; white-space: normal !important; color: var(--jp-ui-font-color1) !important; }\n",
       "      th.tdhistory574005:last-child { text-align: left !important; }\n",
       "      tbody.tdhistory574005 tr:nth-child(even) { background: rgba(243, 243, 243, 0.75) !important; }\n",
       "      tbody.tdhistory574005 tr:nth-child(odd) { background: var(--jp-ui-inverse-font-color1) !important; }\n",
       "      td.tdhistory574005 { border: 1px solid rgb(207, 207, 207) !important; border-collapse: collapse !important; ; padding: 2px 5px !important; ; font-size: 13px !important; ; text-align: left !important;          white-space: nowrap !important; overflow:hidden !important; text-overflow:ellipsis !important;; }\n",
       "    </style><thead><tr style= \"background: rgba(243, 243, 243, 0.75)\"><th class=\"tdhistory574005\"></th><th class=\"tdhistory574005\">N</th><th class=\"tdhistory574005\">NIDREC</th><th class=\"tdhistory574005\">NID</th></tr></thead><tbody class=\"tdhistory574005 resultset-body\"><tr><th class=\"tdhistory574005\" style= \"background: rgba(243, 243, 243, 0.75)\">1</th><td class=\"tdhistory574005\">74000000</td><td class=\"tdhistory574005\">996730</td><td class=\"tdhistory574005\">319843</td></tr></tbody></table></div>"
      ]
     },
     "execution_count": 4,
     "metadata": {
      "application/vnd.teradata.resultset": "{\"resultSetID\":\"/teradata/proyecto/Teradata/Resultsets/2023.11.03_01.17.53.594_UTC\",\"historyID\":2112,\"chunkID\":\"00001\",\"sessionid\":\"\",\"portnum\":\"\",\"dockermode\":\"standalone\",\"totalRowCount\":1,\"chunkCount\":0,\"rowLimit\":0,\"columnMetadata\":[{\"columnName\":\"N\",\"columnTypeName\":\"INTEGER\"},{\"columnNumber\":1,\"columnName\":\"NIDREC\",\"columnTypeName\":\"INTEGER\"},{\"columnNumber\":2,\"columnName\":\"NID\",\"columnTypeName\":\"INTEGER\"}]}"
     },
     "output_type": "execute_result"
    }
   ],
   "source": [
    "SELECT COUNT(1) N, COUNT(DISTINCT CAT_016) NIDREC, COUNT(DISTINCT CAT_011) NID FROM DW_LANDING.caso3_df3;"
   ]
  },
  {
   "cell_type": "code",
   "execution_count": 5,
   "id": "95ca72ec-6eeb-45ba-a5de-911e105d6ecf",
   "metadata": {},
   "outputs": [
    {
     "data": {
      "application/vnd.teradata.resultset": "\"N\",\"NIDREC\",\"NID\",\"NID3\"\n\"60000000\",\"996708\",\"319885\",\"19004400\"",
      "text/html": [
       "<div class = \"td-resultset-table-div\" style = \"max-height: 100%; overflow-y: auto\">\n",
       "      <table class=\"tdhistory796903\"><style>\n",
       "      table.tdhistory796903 { display: block !important; min-height: 105px !important; overflow: auto !important; height: 105px !important; width: 100% !important; border: 1px solid rgb(207, 207, 207) !important; border-collapse: collapse !important; ; color: var(--jp-ui-font-color1) !important; }\n",
       "      th.tdhistory796903 { border: 1px solid rgb(198,198,198) !important; border-collapse: collapse !important; ; padding: 2px 5px !important; ; font-size: 13px !important; ; text-align: center !important; white-space: normal !important; color: var(--jp-ui-font-color1) !important; }\n",
       "      th.tdhistory796903:last-child { text-align: left !important; }\n",
       "      tbody.tdhistory796903 tr:nth-child(even) { background: rgba(243, 243, 243, 0.75) !important; }\n",
       "      tbody.tdhistory796903 tr:nth-child(odd) { background: var(--jp-ui-inverse-font-color1) !important; }\n",
       "      td.tdhistory796903 { border: 1px solid rgb(207, 207, 207) !important; border-collapse: collapse !important; ; padding: 2px 5px !important; ; font-size: 13px !important; ; text-align: left !important;          white-space: nowrap !important; overflow:hidden !important; text-overflow:ellipsis !important;; }\n",
       "    </style><thead><tr style= \"background: rgba(243, 243, 243, 0.75)\"><th class=\"tdhistory796903\"></th><th class=\"tdhistory796903\">N</th><th class=\"tdhistory796903\">NIDREC</th><th class=\"tdhistory796903\">NID</th><th class=\"tdhistory796903\">NID3</th></tr></thead><tbody class=\"tdhistory796903 resultset-body\"><tr><th class=\"tdhistory796903\" style= \"background: rgba(243, 243, 243, 0.75)\">1</th><td class=\"tdhistory796903\">60000000</td><td class=\"tdhistory796903\">996708</td><td class=\"tdhistory796903\">319885</td><td class=\"tdhistory796903\">19004400</td></tr></tbody></table></div>"
      ]
     },
     "execution_count": 5,
     "metadata": {
      "application/vnd.teradata.resultset": "{\"resultSetID\":\"/teradata/proyecto/Teradata/Resultsets/2023.11.03_01.18.29.379_UTC\",\"historyID\":2113,\"chunkID\":\"00001\",\"sessionid\":\"\",\"portnum\":\"\",\"dockermode\":\"standalone\",\"totalRowCount\":1,\"chunkCount\":0,\"rowLimit\":0,\"columnMetadata\":[{\"columnName\":\"N\",\"columnTypeName\":\"INTEGER\"},{\"columnNumber\":1,\"columnName\":\"NIDREC\",\"columnTypeName\":\"INTEGER\"},{\"columnNumber\":2,\"columnName\":\"NID\",\"columnTypeName\":\"INTEGER\"},{\"columnNumber\":3,\"columnName\":\"NID3\",\"columnTypeName\":\"INTEGER\"}]}"
     },
     "output_type": "execute_result"
    }
   ],
   "source": [
    "SELECT COUNT(1) N, COUNT(DISTINCT CAT_016) NIDREC, COUNT(DISTINCT CAT_011) NID, COUNT(DISTINCT CAT_031) NID3 FROM DW_LANDING.caso3_df4;"
   ]
  },
  {
   "cell_type": "markdown",
   "id": "f3fe97ed-fa37-488a-aeeb-62a0adc92ade",
   "metadata": {},
   "source": [
    "### Creando DF5"
   ]
  },
  {
   "cell_type": "code",
   "execution_count": 6,
   "id": "60efc3c7-ae6a-416a-9b67-1b777f9db452",
   "metadata": {},
   "outputs": [
    {
     "data": {
      "text/plain": [
       "Success: 9 rows affected"
      ]
     },
     "execution_count": 6,
     "metadata": {
      "application/vnd.teradata.resultset": ""
     },
     "output_type": "execute_result"
    }
   ],
   "source": [
    "REPLACE VIEW DW_LANDING.caso3_df5 AS\n",
    "SELECT CAT_001 E_CAT016, CAT_002 E_CAT_002, CAT_003 E_CAT_003, CAT_004 E_CAT_004, CAT_006 E_CAT_006, CAST(CAT_007 AS VARCHAR(10)) E_CAT_007, \n",
    "CAST(CAT_008 AS VARCHAR(10)) E_CAT_008, substring(CAT_001,1,2) G_CAT001 FROM DW_LANDING.caso3_df1;"
   ]
  },
  {
   "cell_type": "markdown",
   "id": "583a8002-378f-4d6d-8edb-90cc28824233",
   "metadata": {},
   "source": [
    "### Creando DF6"
   ]
  },
  {
   "cell_type": "code",
   "execution_count": 7,
   "id": "687c256e-17c9-4d80-a5e0-448d226e2467",
   "metadata": {},
   "outputs": [
    {
     "data": {
      "text/plain": [
       "Success: 10 rows affected"
      ]
     },
     "execution_count": 7,
     "metadata": {
      "application/vnd.teradata.resultset": ""
     },
     "output_type": "execute_result"
    }
   ],
   "source": [
    "REPLACE VIEW DW_LANDING.caso3_df6 AS\n",
    "SELECT CAT_011, CAT_002 R_CAT_002, CAT_003 R_CAT_003, CAT_004 R_CAT_004, CAT_006 R_CAT_006, \n",
    "CAT_007 R_CAT_007, CAT_008 R_CAT_008, CAT_009 R_CAT_009, CAT_010 R_CAT_010\n",
    "FROM DW_LANDING.caso3_df2\n",
    "WHERE R_CAT_006 IN ('PPP MMM CCC','PPP MMM');"
   ]
  },
  {
   "cell_type": "markdown",
   "id": "ab33f541-851e-42f1-ac87-f306b91211b4",
   "metadata": {},
   "source": [
    "### Creando DF7"
   ]
  },
  {
   "cell_type": "code",
   "execution_count": 8,
   "id": "5330ca78-5550-46a4-b3e0-1755acec007f",
   "metadata": {},
   "outputs": [
    {
     "data": {
      "text/plain": [
       "Success: 0 rows affected"
      ]
     },
     "execution_count": 8,
     "metadata": {
      "application/vnd.teradata.resultset": ""
     },
     "output_type": "execute_result"
    }
   ],
   "source": [
    "CREATE MULTISET TABLE DW_LANDING.caso3_df7 AS (\n",
    "SELECT CAT_015, CAT_016, CAT_017, CAT_018, CAT_019, CAT_020, DF3.CAT_011, CAT_021, CAT_022, CAST(CAT_023 AS DATE) CAT_023, \n",
    "TO_CHAR(CAT_023, 'DAY') VATP003, E_CAT_003, G_CAT001, E_CAT_006, E_CAT_007, CAST(CAT_024 AS FLOAT) CAT_024, CAT_025, CAT_026, CAT_027, R_CAT_010, E_CAT016, \n",
    "CASE WHEN CAT_024>=3500 THEN 'TRUE' ELSE 'FALSE' END AS CAT_024_3500\n",
    "FROM DW_LANDING.caso3_df3 DF3\n",
    "LEFT JOIN DW_LANDING.caso3_df5 DF5 ON DF3.CAT_016=DF5.E_CAT016\n",
    "LEFT JOIN DW_LANDING.caso3_df6 DF6 ON DF3.CAT_011=DF6.CAT_011\n",
    "WHERE YEAR(CAT_023)=2021 AND LENGTH(DF3.CAT_011)=11) WITH DATA PRIMARY INDEX(CAT_016);"
   ]
  },
  {
   "cell_type": "markdown",
   "id": "16f66adc-6298-42fd-b5b8-216f52f5e6cb",
   "metadata": {},
   "source": [
    "### Creando DF8"
   ]
  },
  {
   "cell_type": "code",
   "execution_count": 9,
   "id": "b2f12bee-3cc0-478d-9bc0-742d340200c8",
   "metadata": {},
   "outputs": [
    {
     "data": {
      "text/plain": [
       "Success: 5 rows affected"
      ]
     },
     "execution_count": 9,
     "metadata": {
      "application/vnd.teradata.resultset": ""
     },
     "output_type": "execute_result"
    }
   ],
   "source": [
    "REPLACE VIEW DW_LANDING.caso3_df8 AS\n",
    "SELECT CAT_016, CAT_023, COUNT(CAT_016) CANT_001, SUM(CAT_024) SUM_001 FROM (\n",
    "SELECT CAT_016, CAT_024, CAST(DATE '1970-01-01' + (CAT_023 / 86400000) AS DATE) CAT_023, '0'||CAST(CAT_017 AS VARCHAR(2)) CAT_017 FROM DW_LANDING.caso3_df4) AS DT\n",
    "WHERE (CAT_023 BETWEEN DATE '2021-01-01' AND DATE '2023-03-31') AND (CAT_024 BETWEEN 0 AND 999999999) AND (CAT_017='03')\n",
    "GROUP BY 1,2;"
   ]
  },
  {
   "cell_type": "markdown",
   "id": "4242f5c0-a950-466f-a481-d72b44cb9dd8",
   "metadata": {},
   "source": [
    "### Creando df7_time"
   ]
  },
  {
   "cell_type": "code",
   "execution_count": 10,
   "id": "330916b9-8e61-4609-b1ed-dded2b866846",
   "metadata": {},
   "outputs": [
    {
     "data": {
      "text/plain": [
       "Success: 15 rows affected"
      ]
     },
     "execution_count": 10,
     "metadata": {
      "application/vnd.teradata.resultset": ""
     },
     "output_type": "execute_result"
    }
   ],
   "source": [
    "REPLACE VIEW DW_LANDING.caso3_df7_time AS\n",
    "SELECT CAT_016, CAT_023, VATP003, E_CAT_003, G_CAT001, E_CAT_006, E_CAT_007, sum(CAT_024) as VATP016_N, count(CAT_024) VATP012_N,\n",
    "max(CAT_024) VATP010_N, count(Distinct CAT_011) VATP014_N, count(Distinct CAT_015) VATA_01, count(Distinct R_CAT_010) VATA_02, count(Distinct CAT_018) VATA_03\n",
    "FROM DW_LANDING.caso3_df7\n",
    "GROUP BY 1,2,3,4,5,6,7;"
   ]
  },
  {
   "cell_type": "markdown",
   "id": "f4b76495-3eed-48fc-9ede-f457a7b0dcc7",
   "metadata": {},
   "source": [
    "### Creando df7_grouped_mode"
   ]
  },
  {
   "cell_type": "code",
   "execution_count": 11,
   "id": "3f860a6b-a3af-4d41-859d-a7435d18e0d3",
   "metadata": {},
   "outputs": [
    {
     "data": {
      "text/plain": [
       "Success: 5 rows affected"
      ]
     },
     "execution_count": 11,
     "metadata": {
      "application/vnd.teradata.resultset": ""
     },
     "output_type": "execute_result"
    }
   ],
   "source": [
    "REPLACE VIEW DW_LANDING.caso3_df7_grouped_mode AS\n",
    "SEL CAT_016, CAT_023, MAX(C_CAT_024) VATP008, MAX(S_CAT_024) VATP009_N FROM\n",
    "(SEL CAT_016, CAT_023, E_CAT016, count(CAT_024) C_CAT_024, sum(CAT_024) S_CAT_024 \n",
    "FROM DW_LANDING.caso3_df7 GROUP BY 1, 2, 3) AS DT\n",
    "GROUP BY 1, 2;"
   ]
  },
  {
   "cell_type": "markdown",
   "id": "a682a95c-f00c-49c2-b8cd-ab9115d6a632",
   "metadata": {},
   "source": [
    "### Creamos la Tabla Final, cruzando las anteriores"
   ]
  },
  {
   "cell_type": "code",
   "execution_count": 12,
   "id": "b542c2db-f29f-425c-a896-6b44cecbab2e",
   "metadata": {},
   "outputs": [
    {
     "ename": "ERROR",
     "evalue": "Unable to run SQL: Unable to run SQL query: Database reported error:3807:Object 'DW_LANDING.caso3_final' does not exist.",
     "output_type": "error",
     "traceback": [
      "Unable to run SQL: Unable to run SQL query: Database reported error:3807:Object 'DW_LANDING.caso3_final' does not exist."
     ]
    }
   ],
   "source": [
    "DROP TABLE DW_LANDING.caso3_final;"
   ]
  },
  {
   "cell_type": "code",
   "execution_count": 13,
   "id": "a069dba7-5e25-419f-8ad9-8b8bf874db20",
   "metadata": {},
   "outputs": [
    {
     "data": {
      "text/plain": [
       "Success: 0 rows affected"
      ]
     },
     "execution_count": 13,
     "metadata": {
      "application/vnd.teradata.resultset": ""
     },
     "output_type": "execute_result"
    }
   ],
   "source": [
    "CREATE MULTISET TABLE DW_LANDING.caso3_final AS (\n",
    "SELECT DF7.CAT_016 LF001, DF7.CAT_023 VATP001, TD_DAY_OF_MONTH(DF7.CAT_023) VATP002, \n",
    "VATP003, E_CAT_003 VATP004_Index, G_CAT001 VATP005_Index, E_CAT_006 VATP006_Index, E_CAT_007 VATP007_Index, VATP008, VATP009_N, VATP010_N, \n",
    "VATP016_N/(VATP016_N+SUM_001) VATP011_N, VATP012_N, VATP012_N/(VATP012_N+CANT_001) VATP013_N, VATP014_N, \n",
    "CASE WHEN YEAR(DF7.CAT_023)=2021 THEN (VATP016_N-2200)/4400 \n",
    "WHEN YEAR(DF7.CAT_023)=2022 THEN (VATP016_N-2300)/4600 \n",
    "WHEN YEAR(DF7.CAT_023)=2023 THEN (VATP016_N-2450)/4900 \n",
    "ELSE 0 END AS VATP015_N, VATP016_N, \n",
    "VATP016_N-prev_2 VATP017_N, VATP012_N-prev_3 VATP018_N, VATP014_N-prev_4 VATP019_N, VATA_03-prev_5 VATP020_N,\n",
    "LAG(VATP016_N) OVER (PARTITION BY DF7.CAT_016 ORDER BY DF7.CAT_023) prev_2, \n",
    "LAG(VATP012_N) OVER (PARTITION BY DF7.CAT_016 ORDER BY DF7.CAT_023) prev_3, \n",
    "LAG(VATP014_N) OVER (PARTITION BY DF7.CAT_016 ORDER BY DF7.CAT_023) prev_4, \n",
    "LAG(VATA_03) OVER (PARTITION BY DF7.CAT_016 ORDER BY DF7.CAT_023) prev_5\n",
    "FROM DW_LANDING.caso3_df7_time DF7\n",
    "LEFT JOIN DW_LANDING.caso3_df7_grouped_mode DF7g ON DF7.CAT_016=DF7g.CAT_016 AND DF7.CAT_023=DF7g.CAT_023\n",
    "LEFT JOIN DW_LANDING.caso3_df8 DF8 ON DF7.CAT_016=DF8.CAT_016 AND DF7.CAT_023=DF8.CAT_023\n",
    ") WITH DATA PRIMARY INDEX(LF001);"
   ]
  },
  {
   "cell_type": "markdown",
   "id": "aea3d4fb",
   "metadata": {},
   "source": [
    "### Exploramos los Datos"
   ]
  },
  {
   "cell_type": "code",
   "execution_count": 14,
   "id": "206ed697-3fe3-4aaf-acc1-eeff9946cec6",
   "metadata": {},
   "outputs": [
    {
     "data": {
      "application/vnd.teradata.resultset": "\"LF001\",\"VATP001\",\"VATP002\",\"VATP003\",\"VATP004_Index\",\"VATP005_Index\",\"VATP006_Index\",\"VATP007_Index\",\"VATP008\",\"VATP009_N\",\"VATP010_N\",\"VATP011_N\",\"VATP012_N\",\"VATP013_N\",\"VATP014_N\",\"VATP015_N\",\"VATP016_N\",\"VATP017_N\",\"VATP018_N\",\"VATP019_N\",\"VATP020_N\",\"prev_2\",\"prev_3\",\"prev_4\",\"prev_5\"\n\"ID_14861175\",\"2021-04-19\",\"19\",\"MONDAY   \",\"\",\"\",\"\",\"\",\"17\",\"860046\",\"95198\",\"\",\"17\",\"\",\"17\",\"195\",\"860046\",\"\",\"\",\"\",\"\",\"\",\"\",\"\",\"\"\n\"ID_12211593\",\"2021-04-19\",\"19\",\"MONDAY   \",\"\",\"\",\"\",\"\",\"25\",\"1239559\",\"96872\",\"\",\"25\",\"\",\"25\",\"281\",\"1239559\",\"\",\"\",\"\",\"\",\"\",\"\",\"\",\"\"\n\"ID_12211593\",\"2021-07-28\",\"28\",\"WEDNESDAY\",\"\",\"\",\"\",\"\",\"10\",\"508133\",\"94227\",\"\",\"10\",\"\",\"10\",\"115\",\"508133\",\"-731426\",\"-15\",\"-15\",\"0\",\"1239559\",\"25\",\"25\",\"5\"\n\"ID_29549150\",\"2021-04-19\",\"19\",\"MONDAY   \",\"\",\"\",\"\",\"\",\"12\",\"478761\",\"94962\",\"\",\"12\",\"\",\"12\",\"108\",\"478761\",\"\",\"\",\"\",\"\",\"\",\"\",\"\",\"\"\n\"ID_18500819\",\"2021-04-19\",\"19\",\"MONDAY   \",\"\",\"\",\"\",\"\",\"18\",\"818517\",\"92576\",\"\",\"18\",\"\",\"17\",\"186\",\"818517\",\"\",\"\",\"\",\"\",\"\",\"\",\"\",\"\"\n\"ID_18500819\",\"2021-07-28\",\"28\",\"WEDNESDAY\",\"\",\"\",\"\",\"\",\"11\",\"563868\",\"83461\",\"\",\"11\",\"\",\"11\",\"128\",\"563868\",\"-254649\",\"-7\",\"-6\",\"0\",\"818517\",\"18\",\"17\",\"5\"\n\"ID_29549150\",\"2021-07-28\",\"28\",\"WEDNESDAY\",\"\",\"\",\"\",\"\",\"11\",\"573131\",\"98390\",\"\",\"11\",\"\",\"11\",\"130\",\"573131\",\"94370\",\"-1\",\"-1\",\"0\",\"478761\",\"12\",\"12\",\"4\"\n\"ID_14861175\",\"2021-07-28\",\"28\",\"WEDNESDAY\",\"\",\"\",\"\",\"\",\"14\",\"666146\",\"87506\",\"\",\"14\",\"\",\"14\",\"151\",\"666146\",\"-193900\",\"-3\",\"-3\",\"-1\",\"860046\",\"17\",\"17\",\"5\"\n\"ID_24259826\",\"2021-04-19\",\"19\",\"MONDAY   \",\"\",\"\",\"\",\"\",\"11\",\"551263\",\"92643\",\"\",\"11\",\"\",\"11\",\"125\",\"551263\",\"\",\"\",\"\",\"\",\"\",\"\",\"\",\"\"\n\"ID_24259826\",\"2021-07-28\",\"28\",\"WEDNESDAY\",\"\",\"\",\"\",\"\",\"18\",\"737130\",\"84056\",\"\",\"18\",\"\",\"17\",\"167\",\"737130\",\"185867\",\"7\",\"6\",\"1\",\"551263\",\"11\",\"11\",\"4\"",
      "text/html": [
       "<div class = \"td-resultset-table-div\" style = \"max-height: 100%; overflow-y: auto\">\n",
       "      <table class=\"tdhistory436823\"><style>\n",
       "      table.tdhistory436823 { display: block !important; min-height: 294px !important; overflow: auto !important; height: 294px !important; width: 100% !important; border: 1px solid rgb(207, 207, 207) !important; border-collapse: collapse !important; ; color: var(--jp-ui-font-color1) !important; }\n",
       "      th.tdhistory436823 { border: 1px solid rgb(198,198,198) !important; border-collapse: collapse !important; ; padding: 2px 5px !important; ; font-size: 13px !important; ; text-align: center !important; white-space: normal !important; color: var(--jp-ui-font-color1) !important; }\n",
       "      th.tdhistory436823:last-child { text-align: left !important; }\n",
       "      tbody.tdhistory436823 tr:nth-child(even) { background: rgba(243, 243, 243, 0.75) !important; }\n",
       "      tbody.tdhistory436823 tr:nth-child(odd) { background: var(--jp-ui-inverse-font-color1) !important; }\n",
       "      td.tdhistory436823 { border: 1px solid rgb(207, 207, 207) !important; border-collapse: collapse !important; ; padding: 2px 5px !important; ; font-size: 13px !important; ; text-align: left !important;          white-space: nowrap !important; overflow:hidden !important; text-overflow:ellipsis !important;; }\n",
       "    </style><thead><tr style= \"background: rgba(243, 243, 243, 0.75)\"><th class=\"tdhistory436823\"></th><th class=\"tdhistory436823\">LF001</th><th class=\"tdhistory436823\">VATP001</th><th class=\"tdhistory436823\">VATP002</th><th class=\"tdhistory436823\">VATP003</th><th class=\"tdhistory436823\">VATP004_Index</th><th class=\"tdhistory436823\">VATP005_Index</th><th class=\"tdhistory436823\">VATP006_Index</th><th class=\"tdhistory436823\">VATP007_Index</th><th class=\"tdhistory436823\">VATP008</th><th class=\"tdhistory436823\">VATP009_N</th><th class=\"tdhistory436823\">VATP010_N</th><th class=\"tdhistory436823\">VATP011_N</th><th class=\"tdhistory436823\">VATP012_N</th><th class=\"tdhistory436823\">VATP013_N</th><th class=\"tdhistory436823\">VATP014_N</th><th class=\"tdhistory436823\">VATP015_N</th><th class=\"tdhistory436823\">VATP016_N</th><th class=\"tdhistory436823\">VATP017_N</th><th class=\"tdhistory436823\">VATP018_N</th><th class=\"tdhistory436823\">VATP019_N</th><th class=\"tdhistory436823\">VATP020_N</th><th class=\"tdhistory436823\">prev_2</th><th class=\"tdhistory436823\">prev_3</th><th class=\"tdhistory436823\">prev_4</th><th class=\"tdhistory436823\">prev_5</th></tr></thead><tbody class=\"tdhistory436823 resultset-body\"><tr><th class=\"tdhistory436823\" style= \"background: rgba(243, 243, 243, 0.75)\">1</th><td class=\"tdhistory436823\">ID_14861175</td><td class=\"tdhistory436823\">2021-04-19</td><td class=\"tdhistory436823\">19</td><td class=\"tdhistory436823\">MONDAY   </td><td class=\"tdhistory436823\"></td><td class=\"tdhistory436823\"></td><td class=\"tdhistory436823\"></td><td class=\"tdhistory436823\"></td><td class=\"tdhistory436823\">17</td><td class=\"tdhistory436823\">860046</td><td class=\"tdhistory436823\">95198</td><td class=\"tdhistory436823\"></td><td class=\"tdhistory436823\">17</td><td class=\"tdhistory436823\"></td><td class=\"tdhistory436823\">17</td><td class=\"tdhistory436823\">195</td><td class=\"tdhistory436823\">860046</td><td class=\"tdhistory436823\"></td><td class=\"tdhistory436823\"></td><td class=\"tdhistory436823\"></td><td class=\"tdhistory436823\"></td><td class=\"tdhistory436823\"></td><td class=\"tdhistory436823\"></td><td class=\"tdhistory436823\"></td><td class=\"tdhistory436823\"></td></tr><tr><th class=\"tdhistory436823\" style= \"background: rgba(243, 243, 243, 0.75)\">2</th><td class=\"tdhistory436823\">ID_12211593</td><td class=\"tdhistory436823\">2021-04-19</td><td class=\"tdhistory436823\">19</td><td class=\"tdhistory436823\">MONDAY   </td><td class=\"tdhistory436823\"></td><td class=\"tdhistory436823\"></td><td class=\"tdhistory436823\"></td><td class=\"tdhistory436823\"></td><td class=\"tdhistory436823\">25</td><td class=\"tdhistory436823\">1239559</td><td class=\"tdhistory436823\">96872</td><td class=\"tdhistory436823\"></td><td class=\"tdhistory436823\">25</td><td class=\"tdhistory436823\"></td><td class=\"tdhistory436823\">25</td><td class=\"tdhistory436823\">281</td><td class=\"tdhistory436823\">1239559</td><td class=\"tdhistory436823\"></td><td class=\"tdhistory436823\"></td><td class=\"tdhistory436823\"></td><td class=\"tdhistory436823\"></td><td class=\"tdhistory436823\"></td><td class=\"tdhistory436823\"></td><td class=\"tdhistory436823\"></td><td class=\"tdhistory436823\"></td></tr><tr><th class=\"tdhistory436823\" style= \"background: rgba(243, 243, 243, 0.75)\">3</th><td class=\"tdhistory436823\">ID_12211593</td><td class=\"tdhistory436823\">2021-07-28</td><td class=\"tdhistory436823\">28</td><td class=\"tdhistory436823\">WEDNESDAY</td><td class=\"tdhistory436823\"></td><td class=\"tdhistory436823\"></td><td class=\"tdhistory436823\"></td><td class=\"tdhistory436823\"></td><td class=\"tdhistory436823\">10</td><td class=\"tdhistory436823\">508133</td><td class=\"tdhistory436823\">94227</td><td class=\"tdhistory436823\"></td><td class=\"tdhistory436823\">10</td><td class=\"tdhistory436823\"></td><td class=\"tdhistory436823\">10</td><td class=\"tdhistory436823\">115</td><td class=\"tdhistory436823\">508133</td><td class=\"tdhistory436823\">-731426</td><td class=\"tdhistory436823\">-15</td><td class=\"tdhistory436823\">-15</td><td class=\"tdhistory436823\">0</td><td class=\"tdhistory436823\">1239559</td><td class=\"tdhistory436823\">25</td><td class=\"tdhistory436823\">25</td><td class=\"tdhistory436823\">5</td></tr><tr><th class=\"tdhistory436823\" style= \"background: rgba(243, 243, 243, 0.75)\">4</th><td class=\"tdhistory436823\">ID_29549150</td><td class=\"tdhistory436823\">2021-04-19</td><td class=\"tdhistory436823\">19</td><td class=\"tdhistory436823\">MONDAY   </td><td class=\"tdhistory436823\"></td><td class=\"tdhistory436823\"></td><td class=\"tdhistory436823\"></td><td class=\"tdhistory436823\"></td><td class=\"tdhistory436823\">12</td><td class=\"tdhistory436823\">478761</td><td class=\"tdhistory436823\">94962</td><td class=\"tdhistory436823\"></td><td class=\"tdhistory436823\">12</td><td class=\"tdhistory436823\"></td><td class=\"tdhistory436823\">12</td><td class=\"tdhistory436823\">108</td><td class=\"tdhistory436823\">478761</td><td class=\"tdhistory436823\"></td><td class=\"tdhistory436823\"></td><td class=\"tdhistory436823\"></td><td class=\"tdhistory436823\"></td><td class=\"tdhistory436823\"></td><td class=\"tdhistory436823\"></td><td class=\"tdhistory436823\"></td><td class=\"tdhistory436823\"></td></tr><tr><th class=\"tdhistory436823\" style= \"background: rgba(243, 243, 243, 0.75)\">5</th><td class=\"tdhistory436823\">ID_18500819</td><td class=\"tdhistory436823\">2021-04-19</td><td class=\"tdhistory436823\">19</td><td class=\"tdhistory436823\">MONDAY   </td><td class=\"tdhistory436823\"></td><td class=\"tdhistory436823\"></td><td class=\"tdhistory436823\"></td><td class=\"tdhistory436823\"></td><td class=\"tdhistory436823\">18</td><td class=\"tdhistory436823\">818517</td><td class=\"tdhistory436823\">92576</td><td class=\"tdhistory436823\"></td><td class=\"tdhistory436823\">18</td><td class=\"tdhistory436823\"></td><td class=\"tdhistory436823\">17</td><td class=\"tdhistory436823\">186</td><td class=\"tdhistory436823\">818517</td><td class=\"tdhistory436823\"></td><td class=\"tdhistory436823\"></td><td class=\"tdhistory436823\"></td><td class=\"tdhistory436823\"></td><td class=\"tdhistory436823\"></td><td class=\"tdhistory436823\"></td><td class=\"tdhistory436823\"></td><td class=\"tdhistory436823\"></td></tr><tr><th class=\"tdhistory436823\" style= \"background: rgba(243, 243, 243, 0.75)\">6</th><td class=\"tdhistory436823\">ID_18500819</td><td class=\"tdhistory436823\">2021-07-28</td><td class=\"tdhistory436823\">28</td><td class=\"tdhistory436823\">WEDNESDAY</td><td class=\"tdhistory436823\"></td><td class=\"tdhistory436823\"></td><td class=\"tdhistory436823\"></td><td class=\"tdhistory436823\"></td><td class=\"tdhistory436823\">11</td><td class=\"tdhistory436823\">563868</td><td class=\"tdhistory436823\">83461</td><td class=\"tdhistory436823\"></td><td class=\"tdhistory436823\">11</td><td class=\"tdhistory436823\"></td><td class=\"tdhistory436823\">11</td><td class=\"tdhistory436823\">128</td><td class=\"tdhistory436823\">563868</td><td class=\"tdhistory436823\">-254649</td><td class=\"tdhistory436823\">-7</td><td class=\"tdhistory436823\">-6</td><td class=\"tdhistory436823\">0</td><td class=\"tdhistory436823\">818517</td><td class=\"tdhistory436823\">18</td><td class=\"tdhistory436823\">17</td><td class=\"tdhistory436823\">5</td></tr><tr><th class=\"tdhistory436823\" style= \"background: rgba(243, 243, 243, 0.75)\">7</th><td class=\"tdhistory436823\">ID_29549150</td><td class=\"tdhistory436823\">2021-07-28</td><td class=\"tdhistory436823\">28</td><td class=\"tdhistory436823\">WEDNESDAY</td><td class=\"tdhistory436823\"></td><td class=\"tdhistory436823\"></td><td class=\"tdhistory436823\"></td><td class=\"tdhistory436823\"></td><td class=\"tdhistory436823\">11</td><td class=\"tdhistory436823\">573131</td><td class=\"tdhistory436823\">98390</td><td class=\"tdhistory436823\"></td><td class=\"tdhistory436823\">11</td><td class=\"tdhistory436823\"></td><td class=\"tdhistory436823\">11</td><td class=\"tdhistory436823\">130</td><td class=\"tdhistory436823\">573131</td><td class=\"tdhistory436823\">94370</td><td class=\"tdhistory436823\">-1</td><td class=\"tdhistory436823\">-1</td><td class=\"tdhistory436823\">0</td><td class=\"tdhistory436823\">478761</td><td class=\"tdhistory436823\">12</td><td class=\"tdhistory436823\">12</td><td class=\"tdhistory436823\">4</td></tr><tr><th class=\"tdhistory436823\" style= \"background: rgba(243, 243, 243, 0.75)\">8</th><td class=\"tdhistory436823\">ID_14861175</td><td class=\"tdhistory436823\">2021-07-28</td><td class=\"tdhistory436823\">28</td><td class=\"tdhistory436823\">WEDNESDAY</td><td class=\"tdhistory436823\"></td><td class=\"tdhistory436823\"></td><td class=\"tdhistory436823\"></td><td class=\"tdhistory436823\"></td><td class=\"tdhistory436823\">14</td><td class=\"tdhistory436823\">666146</td><td class=\"tdhistory436823\">87506</td><td class=\"tdhistory436823\"></td><td class=\"tdhistory436823\">14</td><td class=\"tdhistory436823\"></td><td class=\"tdhistory436823\">14</td><td class=\"tdhistory436823\">151</td><td class=\"tdhistory436823\">666146</td><td class=\"tdhistory436823\">-193900</td><td class=\"tdhistory436823\">-3</td><td class=\"tdhistory436823\">-3</td><td class=\"tdhistory436823\">-1</td><td class=\"tdhistory436823\">860046</td><td class=\"tdhistory436823\">17</td><td class=\"tdhistory436823\">17</td><td class=\"tdhistory436823\">5</td></tr><tr><th class=\"tdhistory436823\" style= \"background: rgba(243, 243, 243, 0.75)\">9</th><td class=\"tdhistory436823\">ID_24259826</td><td class=\"tdhistory436823\">2021-04-19</td><td class=\"tdhistory436823\">19</td><td class=\"tdhistory436823\">MONDAY   </td><td class=\"tdhistory436823\"></td><td class=\"tdhistory436823\"></td><td class=\"tdhistory436823\"></td><td class=\"tdhistory436823\"></td><td class=\"tdhistory436823\">11</td><td class=\"tdhistory436823\">551263</td><td class=\"tdhistory436823\">92643</td><td class=\"tdhistory436823\"></td><td class=\"tdhistory436823\">11</td><td class=\"tdhistory436823\"></td><td class=\"tdhistory436823\">11</td><td class=\"tdhistory436823\">125</td><td class=\"tdhistory436823\">551263</td><td class=\"tdhistory436823\"></td><td class=\"tdhistory436823\"></td><td class=\"tdhistory436823\"></td><td class=\"tdhistory436823\"></td><td class=\"tdhistory436823\"></td><td class=\"tdhistory436823\"></td><td class=\"tdhistory436823\"></td><td class=\"tdhistory436823\"></td></tr><tr><th class=\"tdhistory436823\" style= \"background: rgba(243, 243, 243, 0.75)\">10</th><td class=\"tdhistory436823\">ID_24259826</td><td class=\"tdhistory436823\">2021-07-28</td><td class=\"tdhistory436823\">28</td><td class=\"tdhistory436823\">WEDNESDAY</td><td class=\"tdhistory436823\"></td><td class=\"tdhistory436823\"></td><td class=\"tdhistory436823\"></td><td class=\"tdhistory436823\"></td><td class=\"tdhistory436823\">18</td><td class=\"tdhistory436823\">737130</td><td class=\"tdhistory436823\">84056</td><td class=\"tdhistory436823\"></td><td class=\"tdhistory436823\">18</td><td class=\"tdhistory436823\"></td><td class=\"tdhistory436823\">17</td><td class=\"tdhistory436823\">167</td><td class=\"tdhistory436823\">737130</td><td class=\"tdhistory436823\">185867</td><td class=\"tdhistory436823\">7</td><td class=\"tdhistory436823\">6</td><td class=\"tdhistory436823\">1</td><td class=\"tdhistory436823\">551263</td><td class=\"tdhistory436823\">11</td><td class=\"tdhistory436823\">11</td><td class=\"tdhistory436823\">4</td></tr></tbody></table></div>"
      ]
     },
     "execution_count": 14,
     "metadata": {
      "application/vnd.teradata.resultset": "{\"resultSetID\":\"/teradata/proyecto/Teradata/Resultsets/2023.11.03_01.20.28.579_UTC\",\"historyID\":2122,\"chunkID\":\"00001\",\"sessionid\":\"\",\"portnum\":\"\",\"dockermode\":\"standalone\",\"totalRowCount\":10,\"chunkCount\":0,\"rowLimit\":0,\"columnMetadata\":[{\"columnName\":\"LF001\",\"columnTypeName\":\"VARCHAR\",\"length\":11,\"scale\":11},{\"columnNumber\":1,\"columnName\":\"VATP001\",\"columnTypeName\":\"DATE\"},{\"columnNumber\":2,\"columnName\":\"VATP002\",\"columnTypeName\":\"INTEGER\"},{\"columnNumber\":3,\"columnName\":\"VATP003\",\"columnTypeName\":\"VARCHAR\",\"length\":9,\"scale\":9},{\"columnNumber\":4,\"columnName\":\"VATP004_Index\",\"columnTypeName\":\"VARCHAR\",\"length\":4,\"scale\":4},{\"columnNumber\":5,\"columnName\":\"VATP005_Index\",\"columnTypeName\":\"VARCHAR\",\"length\":2,\"scale\":2},{\"columnNumber\":6,\"columnName\":\"VATP006_Index\",\"columnTypeName\":\"VARCHAR\",\"length\":11,\"scale\":11},{\"columnNumber\":7,\"columnName\":\"VATP007_Index\",\"columnTypeName\":\"VARCHAR\",\"length\":10,\"scale\":10},{\"columnNumber\":8,\"columnName\":\"VATP008\",\"columnTypeName\":\"INTEGER\"},{\"columnNumber\":9,\"columnName\":\"VATP009_N\",\"columnTypeName\":\"DECIMAL\",\"precision\":15},{\"columnNumber\":10,\"columnName\":\"VATP010_N\",\"columnTypeName\":\"DECIMAL\",\"precision\":15},{\"columnNumber\":11,\"columnName\":\"VATP011_N\",\"columnTypeName\":\"FLOAT\"},{\"columnNumber\":12,\"columnName\":\"VATP012_N\",\"columnTypeName\":\"INTEGER\"},{\"columnNumber\":13,\"columnName\":\"VATP013_N\",\"columnTypeName\":\"INTEGER\"},{\"columnNumber\":14,\"columnName\":\"VATP014_N\",\"columnTypeName\":\"INTEGER\"},{\"columnNumber\":15,\"columnName\":\"VATP015_N\",\"columnTypeName\":\"DECIMAL\",\"precision\":15},{\"columnNumber\":16,\"columnName\":\"VATP016_N\",\"columnTypeName\":\"DECIMAL\",\"precision\":15},{\"columnNumber\":17,\"columnName\":\"VATP017_N\",\"columnTypeName\":\"DECIMAL\",\"precision\":15},{\"columnNumber\":18,\"columnName\":\"VATP018_N\",\"columnTypeName\":\"INTEGER\"},{\"columnNumber\":19,\"columnName\":\"VATP019_N\",\"columnTypeName\":\"INTEGER\"},{\"columnNumber\":20,\"columnName\":\"VATP020_N\",\"columnTypeName\":\"INTEGER\"},{\"columnNumber\":21,\"columnName\":\"prev_2\",\"columnTypeName\":\"DECIMAL\",\"precision\":15},{\"columnNumber\":22,\"columnName\":\"prev_3\",\"columnTypeName\":\"INTEGER\"},{\"columnNumber\":23,\"columnName\":\"prev_4\",\"columnTypeName\":\"INTEGER\"},{\"columnNumber\":24,\"columnName\":\"prev_5\",\"columnTypeName\":\"INTEGER\"}]}"
     },
     "output_type": "execute_result"
    }
   ],
   "source": [
    "-- Primeros registros\n",
    "SEL TOP 10 * FROM caso3_final;"
   ]
  },
  {
   "cell_type": "code",
   "execution_count": 15,
   "id": "dd2280d1-848e-448a-98df-2fe9e3ff0fa3",
   "metadata": {},
   "outputs": [
    {
     "data": {
      "application/vnd.teradata.resultset": "\"N\"\n\"1993493\"",
      "text/html": [
       "<div class = \"td-resultset-table-div\" style = \"max-height: 100%; overflow-y: auto\">\n",
       "      <table class=\"tdhistory889063\"><style>\n",
       "      table.tdhistory889063 { display: block !important; min-height: 105px !important; overflow: auto !important; height: 105px !important; width: 100% !important; border: 1px solid rgb(207, 207, 207) !important; border-collapse: collapse !important; ; color: var(--jp-ui-font-color1) !important; }\n",
       "      th.tdhistory889063 { border: 1px solid rgb(198,198,198) !important; border-collapse: collapse !important; ; padding: 2px 5px !important; ; font-size: 13px !important; ; text-align: center !important; white-space: normal !important; color: var(--jp-ui-font-color1) !important; }\n",
       "      th.tdhistory889063:last-child { text-align: left !important; }\n",
       "      tbody.tdhistory889063 tr:nth-child(even) { background: rgba(243, 243, 243, 0.75) !important; }\n",
       "      tbody.tdhistory889063 tr:nth-child(odd) { background: var(--jp-ui-inverse-font-color1) !important; }\n",
       "      td.tdhistory889063 { border: 1px solid rgb(207, 207, 207) !important; border-collapse: collapse !important; ; padding: 2px 5px !important; ; font-size: 13px !important; ; text-align: left !important;          white-space: nowrap !important; overflow:hidden !important; text-overflow:ellipsis !important;; }\n",
       "    </style><thead><tr style= \"background: rgba(243, 243, 243, 0.75)\"><th class=\"tdhistory889063\"></th><th class=\"tdhistory889063\">N</th></tr></thead><tbody class=\"tdhistory889063 resultset-body\"><tr><th class=\"tdhistory889063\" style= \"background: rgba(243, 243, 243, 0.75)\">1</th><td class=\"tdhistory889063\">1993493</td></tr></tbody></table></div>"
      ]
     },
     "execution_count": 15,
     "metadata": {
      "application/vnd.teradata.resultset": "{\"resultSetID\":\"/teradata/proyecto/Teradata/Resultsets/2023.11.03_01.20.29.719_UTC\",\"historyID\":2123,\"chunkID\":\"00001\",\"sessionid\":\"\",\"portnum\":\"\",\"dockermode\":\"standalone\",\"totalRowCount\":1,\"chunkCount\":0,\"rowLimit\":0,\"columnMetadata\":[{\"columnName\":\"N\",\"columnTypeName\":\"INTEGER\"}]}"
     },
     "output_type": "execute_result"
    }
   ],
   "source": [
    "-- Cantidad de Registros\n",
    "SEL COUNT(1) N FROM DW_LANDING.caso3_final;"
   ]
  },
  {
   "cell_type": "code",
   "execution_count": 16,
   "id": "855e21cf-c572-4651-bbe2-06a873c62301",
   "metadata": {},
   "outputs": [
    {
     "data": {
      "text/plain": [
       "Success: 1894287 rows affected"
      ]
     },
     "execution_count": 16,
     "metadata": {
      "application/vnd.teradata.resultset": ""
     },
     "output_type": "execute_result"
    }
   ],
   "source": [
    "UPDATE DW_LANDING.caso3_final SET VATP011_N=0 WHERE VATP011_N IS NULL;"
   ]
  },
  {
   "cell_type": "code",
   "execution_count": 17,
   "id": "380710c6-2924-4d4b-8555-ad25fa871a05",
   "metadata": {},
   "outputs": [
    {
     "data": {
      "text/plain": [
       "Success: 1894287 rows affected"
      ]
     },
     "execution_count": 17,
     "metadata": {
      "application/vnd.teradata.resultset": ""
     },
     "output_type": "execute_result"
    }
   ],
   "source": [
    "UPDATE DW_LANDING.caso3_final SET VATP013_N=0 WHERE VATP013_N IS NULL;"
   ]
  },
  {
   "cell_type": "code",
   "execution_count": 18,
   "id": "67320d54-77dc-493a-b50d-36dc98d8d7b1",
   "metadata": {},
   "outputs": [
    {
     "data": {
      "text/plain": [
       "Success: 996730 rows affected"
      ]
     },
     "execution_count": 18,
     "metadata": {
      "application/vnd.teradata.resultset": ""
     },
     "output_type": "execute_result"
    }
   ],
   "source": [
    "UPDATE DW_LANDING.caso3_final SET VATP017_N=0 WHERE VATP017_N IS NULL;"
   ]
  },
  {
   "cell_type": "code",
   "execution_count": 19,
   "id": "36dcd947-c1a3-483c-80b5-895830608b0b",
   "metadata": {},
   "outputs": [
    {
     "data": {
      "text/plain": [
       "Success: 996730 rows affected"
      ]
     },
     "execution_count": 19,
     "metadata": {
      "application/vnd.teradata.resultset": ""
     },
     "output_type": "execute_result"
    }
   ],
   "source": [
    "UPDATE DW_LANDING.caso3_final SET VATP018_N=0 WHERE VATP018_N IS NULL;"
   ]
  },
  {
   "cell_type": "code",
   "execution_count": 20,
   "id": "0766142b-61b2-4d63-9131-26fbcd2d8bda",
   "metadata": {},
   "outputs": [
    {
     "data": {
      "text/plain": [
       "Success: 996730 rows affected"
      ]
     },
     "execution_count": 20,
     "metadata": {
      "application/vnd.teradata.resultset": ""
     },
     "output_type": "execute_result"
    }
   ],
   "source": [
    "UPDATE DW_LANDING.caso3_final SET VATP019_N=0 WHERE VATP019_N IS NULL;"
   ]
  },
  {
   "cell_type": "code",
   "execution_count": 21,
   "id": "90df461e-ff94-432f-9e73-745475bc3930",
   "metadata": {},
   "outputs": [
    {
     "data": {
      "text/plain": [
       "Success: 996730 rows affected"
      ]
     },
     "execution_count": 21,
     "metadata": {
      "application/vnd.teradata.resultset": ""
     },
     "output_type": "execute_result"
    }
   ],
   "source": [
    "UPDATE DW_LANDING.caso3_final SET VATP020_N=0 WHERE VATP020_N IS NULL;"
   ]
  },
  {
   "cell_type": "code",
   "execution_count": 22,
   "id": "185e302b-5900-48ba-a1e8-5c49425b731b",
   "metadata": {},
   "outputs": [
    {
     "data": {
      "text/plain": [
       "Success: 498748 rows affected"
      ]
     },
     "execution_count": 22,
     "metadata": {
      "application/vnd.teradata.resultset": ""
     },
     "output_type": "execute_result"
    }
   ],
   "source": [
    "UPDATE DW_LANDING.caso3_final SET VATP017_N=VATP017_N*-1 WHERE VATP017_N<0;"
   ]
  },
  {
   "cell_type": "code",
   "execution_count": 23,
   "id": "80767a56-e9bb-4d4a-b8fa-c9f99394f219",
   "metadata": {},
   "outputs": [
    {
     "data": {
      "text/plain": [
       "Success: 462315 rows affected"
      ]
     },
     "execution_count": 23,
     "metadata": {
      "application/vnd.teradata.resultset": ""
     },
     "output_type": "execute_result"
    }
   ],
   "source": [
    "UPDATE DW_LANDING.caso3_final SET VATP018_N=VATP018_N*-1 WHERE VATP018_N<0;"
   ]
  },
  {
   "cell_type": "code",
   "execution_count": 24,
   "id": "baa8a0a9-6255-446e-86a3-bab1882d5699",
   "metadata": {},
   "outputs": [
    {
     "data": {
      "text/plain": [
       "Success: 461560 rows affected"
      ]
     },
     "execution_count": 24,
     "metadata": {
      "application/vnd.teradata.resultset": ""
     },
     "output_type": "execute_result"
    }
   ],
   "source": [
    "UPDATE DW_LANDING.caso3_final SET VATP019_N=VATP019_N*-1 WHERE VATP019_N<0;"
   ]
  },
  {
   "cell_type": "code",
   "execution_count": 25,
   "id": "5355b268-ae42-4c49-bd66-feee93a7ae3a",
   "metadata": {},
   "outputs": [
    {
     "data": {
      "text/plain": [
       "Success: 181732 rows affected"
      ]
     },
     "execution_count": 25,
     "metadata": {
      "application/vnd.teradata.resultset": ""
     },
     "output_type": "execute_result"
    }
   ],
   "source": [
    "UPDATE DW_LANDING.caso3_final SET VATP020_N=VATP020_N*-1 WHERE VATP020_N<0;"
   ]
  },
  {
   "cell_type": "markdown",
   "id": "23aff4e4-a9a6-4182-82b4-cd78254b455f",
   "metadata": {},
   "source": [
    "### Estadísticas de las variables numéricas"
   ]
  },
  {
   "cell_type": "code",
   "execution_count": 26,
   "id": "9c8c3715-1fce-4370-a335-cdb8fd44ac69",
   "metadata": {},
   "outputs": [
    {
     "data": {
      "text/plain": [
       "Success: 0 rows affected"
      ]
     },
     "execution_count": 26,
     "metadata": {
      "application/vnd.teradata.resultset": ""
     },
     "output_type": "execute_result"
    },
    {
     "ename": "WARNING",
     "evalue": "[Teradata Database] [Warning 3212] The stored procedure returned one or more result sets.",
     "output_type": "error",
     "traceback": [
      "[Teradata Database] [Warning 3212] The stored procedure returned one or more result sets."
     ]
    },
    {
     "data": {
      "application/vnd.teradata.resultset": "\"xdb\",\"xtbl\",\"xcol\",\"xcnt\",\"xmin\",\"xmax\",\"xmean\",\"xstd\",\"xskew\",\"xkurt\",\"xste\",\"xcv\",\"xvar\",\"xsum\",\"xuss\",\"xcss\",\"xtype\",\"xnull\",\"xnique\",\"xblank\",\"xzero\",\"xpos\",\"xneg\",\"xmode\",\"xmode_cnt\",\"xmode_pct\",\"xnbrmodes\",\"xpctile0\",\"xpctile1\",\"xpctile2\",\"xpctile3\",\"xpctile4\",\"xpctile5\",\"xpctile6\",\"xpctile7\",\"xpctile8\",\"xpctile9\",\"xpctile10\",\"xpctile20\",\"xpctile25\",\"xpctile30\",\"xpctile33\",\"xpctile40\",\"xpctile50\",\"xpctile60\",\"xpctile67\",\"xpctile70\",\"xpctile75\",\"xpctile80\",\"xpctile90\",\"xpctile91\",\"xpctile92\",\"xpctile93\",\"xpctile94\",\"xpctile95\",\"xpctile96\",\"xpctile97\",\"xpctile98\",\"xpctile99\",\"xpctile100\",\"xmin_1\",\"xmin_2\",\"xmin_3\",\"xmin_4\",\"xmin_5\",\"xmincnt_1\",\"xmincnt_2\",\"xmincnt_3\",\"xmincnt_4\",\"xmincnt_5\",\"xmax_5\",\"xmax_4\",\"xmax_3\",\"xmax_2\",\"xmax_1\",\"xmaxcnt_5\",\"xmaxcnt_4\",\"xmaxcnt_3\",\"xmaxcnt_2\",\"xmaxcnt_1\"\n\"DW_LANDING\",\"caso3_final\",\"prev_2\",\"996763\",\"820\",\"2.202341e+06\",\"754165.2996359215\",\"228041.9928381943\",\"0.3471382411650106\",\"0.14068546285379468\",\"228.41197727601224\",\"30.2376671199647\",\"5.200315049761506e+10\",\"7.51724066561e+11\",\"6.187590222009642e+17\",\"5.183481629945428e+16\",\"DECIMAL(15,0)\",\"996730\",\"588189\",\"\",\"0\",\"996763\",\"0\",\"\",\"996730\",\"49.999172307101155\",\"1\",\"820\",\"285175\",\"330808\",\"360777\",\"383655\",\"402628\",\"419116\",\"433751\",\"446869\",\"459261\",\"470793\",\"558267\",\"593110\",\"625010\",\"643152\",\"684216\",\"741103\",\"799691\",\"843730\",\"864052\",\"900575\",\"941730\",\"1.05434e+06\",\"1.06976e+06\",\"1.08654e+06\",\"1.105328e+06\",\"1.126401e+06\",\"1.150252e+06\",\"1.178935e+06\",\"1.214591e+06\",\"1.262474e+06\",\"1.340611e+06\",\"2.202341e+06\",\"820\",\"15597\",\"19206\",\"25098\",\"28200\",\"1\",\"1\",\"1\",\"1\",\"1\",\"2.112461e+06\",\"2.121428e+06\",\"2.13447e+06\",\"2.143599e+06\",\"2.202341e+06\",\"1\",\"1\",\"1\",\"1\",\"1\"\n\"DW_LANDING\",\"caso3_final\",\"prev_3\",\"996763\",\"1\",\"40\",\"15.079725070051758\",\"3.944802142903179\",\"0.2640317480654231\",\"0.07093860920011556\",\"0.003951202347466295\",\"26.1596423315272\",\"15.561463946653515\",\"1.5030912e+07\",\"2.42173112e+08\",\"1.5511091487858197e+07\",\"INTEGER\",\"996730\",\"39\",\"\",\"0\",\"996763\",\"0\",\"\",\"996730\",\"49.999172307101155\",\"1\",\"1\",\"7\",\"8\",\"8\",\"9\",\"9\",\"9\",\"9\",\"10\",\"10\",\"10\",\"12\",\"12\",\"13\",\"13\",\"14\",\"15\",\"16\",\"17\",\"17\",\"18\",\"18\",\"20\",\"20\",\"21\",\"21\",\"21\",\"22\",\"22\",\"23\",\"24\",\"25\",\"40\",\"1\",\"2\",\"3\",\"4\",\"5\",\"6\",\"45\",\"201\",\"652\",\"2052\",\"35\",\"36\",\"37\",\"38\",\"40\",\"8\",\"1\",\"3\",\"2\",\"1\"\n\"DW_LANDING\",\"caso3_final\",\"prev_4\",\"996763\",\"1\",\"37\",\"14.843217495031416\",\"3.8527945605700755\",\"0.2542265947277567\",\"0.05970195299293574\",\"0.0038590454883565732\",\"25.956599786129598\",\"14.844025925958363\",\"1.479517e+07\",\"2.34403902e+08\",\"1.4795975814036034e+07\",\"INTEGER\",\"996730\",\"37\",\"\",\"0\",\"996763\",\"0\",\"\",\"996730\",\"49.999172307101155\",\"1\",\"1\",\"7\",\"8\",\"8\",\"8\",\"9\",\"9\",\"9\",\"10\",\"10\",\"10\",\"12\",\"12\",\"13\",\"13\",\"14\",\"15\",\"16\",\"16\",\"17\",\"17\",\"18\",\"20\",\"20\",\"20\",\"21\",\"21\",\"21\",\"22\",\"22\",\"23\",\"24\",\"37\",\"1\",\"2\",\"3\",\"4\",\"5\",\"6\",\"45\",\"204\",\"694\",\"2172\",\"33\",\"34\",\"35\",\"36\",\"37\",\"12\",\"13\",\"4\",\"2\",\"1\"\n\"DW_LANDING\",\"caso3_final\",\"prev_5\",\"996763\",\"1\",\"5\",\"4.7420480094064485\",\"0.49441524160581113\",\"-1.8129413910483512\",\"2.8973614109866164\",\"0.0004952174006421249\",\"10.426196458261838\",\"0.24444643113213257\",\"4.726698e+06\",\"2.2657884e+07\",\"243655.15803455785\",\"INTEGER\",\"996730\",\"5\",\"\",\"0\",\"996763\",\"0\",\"\",\"996730\",\"49.999172307101155\",\"1\",\"1\",\"3\",\"3\",\"4\",\"4\",\"4\",\"4\",\"4\",\"4\",\"4\",\"4\",\"4\",\"5\",\"5\",\"5\",\"5\",\"5\",\"5\",\"5\",\"5\",\"5\",\"5\",\"5\",\"5\",\"5\",\"5\",\"5\",\"5\",\"5\",\"5\",\"5\",\"5\",\"5\",\"1\",\"2\",\"3\",\"4\",\"5\",\"41\",\"1229\",\"22498\",\"208270\",\"764725\",\"1\",\"2\",\"3\",\"4\",\"5\",\"41\",\"1229\",\"22498\",\"208270\",\"764725\"\n\"DW_LANDING\",\"caso3_final\",\"VATP002\",\"1.993493e+06\",\"19\",\"28\",\"23.49999774265573\",\"4.499999999999434\",\"1.0032656296243013e-06\",\"-2.0000010032628617\",\"0.003187169467272224\",\"19.148938009603782\",\"20.249999999994905\",\"4.6847081e+07\",\"1.141274531e+09\",\"4.0368233249989845e+07\",\"INTEGER\",\"0\",\"2\",\"\",\"0\",\"1.993493e+06\",\"0\",\"19\",\"996747\",\"50.00002508160299\",\"1\",\"19\",\"19\",\"19\",\"19\",\"19\",\"19\",\"19\",\"19\",\"19\",\"19\",\"19\",\"19\",\"19\",\"19\",\"19\",\"19\",\"19\",\"28\",\"28\",\"28\",\"28\",\"28\",\"28\",\"28\",\"28\",\"28\",\"28\",\"28\",\"28\",\"28\",\"28\",\"28\",\"28\",\"19\",\"28\",\"\",\"\",\"\",\"996747\",\"996746\",\"\",\"\",\"\",\"\",\"\",\"\",\"19\",\"28\",\"\",\"\",\"\",\"996747\",\"996746\"\n\"DW_LANDING\",\"caso3_final\",\"VATP008\",\"1.993493e+06\",\"1\",\"50\",\"15.084497913963078\",\"3.9460077936457476\",\"0.27152511743875724\",\"0.10166818257930779\",\"0.0027947990127838987\",\"26.15935787954265\",\"15.570977507512982\",\"3.0070841e+07\",\"4.84644173e+08\",\"3.1040634664384574e+07\",\"INTEGER\",\"0\",\"44\",\"\",\"0\",\"1.993493e+06\",\"0\",\"15\",\"201528\",\"10.109290576891917\",\"1\",\"1\",\"7\",\"8\",\"8\",\"9\",\"9\",\"9\",\"9\",\"10\",\"10\",\"10\",\"12\",\"12\",\"13\",\"13\",\"14\",\"15\",\"16\",\"17\",\"17\",\"18\",\"18\",\"20\",\"20\",\"21\",\"21\",\"21\",\"22\",\"22\",\"23\",\"24\",\"25\",\"50\",\"1\",\"2\",\"3\",\"4\",\"5\",\"9\",\"81\",\"408\",\"1357\",\"4109\",\"40\",\"42\",\"46\",\"48\",\"50\",\"9\",\"2\",\"2\",\"2\",\"2\"\n\"DW_LANDING\",\"caso3_final\",\"VATP009_N\",\"1.993493e+06\",\"820\",\"2.799044e+06\",\"754277.2909195066\",\"227966.39202672153\",\"0.35261004460777423\",\"0.16117289211160826\",\"161.4594498293041\",\"30.2231546370457\",\"5.196867589368089e+10\",\"1.503646499507e+12\",\"1.2377655997620608e+18\",\"1.035991916133216e+17\",\"DECIMAL(15,0)\",\"0\",\"806045\",\"\",\"0\",\"1.993493e+06\",\"0\",\"823583\",\"15\",\"0.0007524480898603607\",\"1\",\"820\",\"285881\",\"331249\",\"361163\",\"384278\",\"403180\",\"419778\",\"434367\",\"447562\",\"459914\",\"471323\",\"558695\",\"593339\",\"625153\",\"643252\",\"684018\",\"740862\",\"799621\",\"843772\",\"864055\",\"900613\",\"941772\",\"1.054259e+06\",\"1.069736e+06\",\"1.086542e+06\",\"1.105263e+06\",\"1.126446e+06\",\"1.150512e+06\",\"1.179237e+06\",\"1.214941e+06\",\"1.263086e+06\",\"1.340823e+06\",\"2.799044e+06\",\"820\",\"15597\",\"19206\",\"25098\",\"27320\",\"1\",\"1\",\"1\",\"1\",\"1\",\"2.264832e+06\",\"2.270238e+06\",\"2.272594e+06\",\"2.377022e+06\",\"2.799044e+06\",\"2\",\"2\",\"2\",\"2\",\"2\"\n\"DW_LANDING\",\"caso3_final\",\"VATP010_N\",\"1.993493e+06\",\"514\",\"99999\",\"93260.39097353238\",\"6737.492089978514\",\"-1.9922542966286558\",\"5.922883905393095\",\"4.7718953500378545\",\"7.224387566518606\",\"4.5393799662523046e+07\",\"1.85913936583e+11\",\"1.7428898635029728e+16\",\"9.049222187064205e+13\",\"DECIMAL(15,0)\",\"0\",\"42274\",\"\",\"0\",\"1.993493e+06\",\"0\",\"99827\",\"332\",\"0.016654184388909317\",\"2\",\"514\",\"69019\",\"73650\",\"76404\",\"78323\",\"79813\",\"81022\",\"82070\",\"82962\",\"83760\",\"84472\",\"89144\",\"90648\",\"91878\",\"92525\",\"93825\",\"95331\",\"96560\",\"97304\",\"97597\",\"98063\",\"98497\",\"99292\",\"99367\",\"99440\",\"99513\",\"99584\",\"99655\",\"99725\",\"99795\",\"99864\",\"99932\",\"99999\",\"514\",\"11631\",\"13457\",\"14371\",\"16385\",\"1\",\"1\",\"1\",\"1\",\"1\",\"99995\",\"99996\",\"99997\",\"99998\",\"99999\",\"258\",\"309\",\"306\",\"295\",\"288\"\n\"DW_LANDING\",\"caso3_final\",\"VATP011_N\",\"1.993493e+06\",\"0\",\"0.9999485961815447\",\"0.03391580857194887\",\"0.150738011292219\",\"4.359380006300658\",\"17.613971462579116\",\"0.00010676168603287924\",\"444.4476414956876\",\"0.022721948048333142\",\"67610.92697752007\",\"47589.123637457364\",\"45296.04438071578\",\"FLOAT\",\"0\",\"99205\",\"\",\"1.894287e+06\",\"99206\",\"0\",\"0\",\"1.894287e+06\",\"95.02350898648754\",\"1\",\"0\",\"0\",\"0\",\"0\",\"0\",\"0\",\"0\",\"0\",\"0\",\"0\",\"0\",\"0\",\"0\",\"0\",\"0\",\"0\",\"0\",\"0\",\"0\",\"0\",\"0\",\"0\",\"0\",\"0\",\"0\",\"0\",\"0\",\"0\",\"0.5763556949821191\",\"0.6530307421033756\",\"0.716662333030784\",\"0.7874176969757418\",\"0.9999485961815447\",\"0\",\"0.09630679354356579\",\"0.10074916206795209\",\"0.12140074897677222\",\"0.12341735795727368\",\"1.894287e+06\",\"1\",\"1\",\"1\",\"1\",\"0.9995296863218037\",\"0.9997994843450403\",\"0.9998474596842557\",\"0.9998952896575759\",\"0.9999485961815447\",\"1\",\"1\",\"1\",\"1\",\"1\"\n\"DW_LANDING\",\"caso3_final\",\"VATP012_N\",\"1.993493e+06\",\"1\",\"40\",\"15.0839571546025\",\"3.9445977114332593\",\"0.26772304700088123\",\"0.07625647594992871\",\"0.0027938003081230127\",\"26.15094746692291\",\"15.559851105044507\",\"3.0069763e+07\",\"4.84589471e+08\",\"3.101845425894849e+07\",\"INTEGER\",\"0\",\"40\",\"\",\"0\",\"1.993493e+06\",\"0\",\"15\",\"201534\",\"10.109591556127862\",\"1\",\"1\",\"7\",\"8\",\"8\",\"9\",\"9\",\"9\",\"9\",\"10\",\"10\",\"10\",\"12\",\"12\",\"13\",\"13\",\"14\",\"15\",\"16\",\"17\",\"17\",\"18\",\"18\",\"20\",\"20\",\"21\",\"21\",\"21\",\"22\",\"22\",\"23\",\"24\",\"25\",\"40\",\"1\",\"2\",\"3\",\"4\",\"5\",\"9\",\"81\",\"408\",\"1357\",\"4109\",\"36\",\"37\",\"38\",\"39\",\"40\",\"5\",\"4\",\"3\",\"1\",\"1\"\n\"DW_LANDING\",\"caso3_final\",\"VATP013_N\",\"1.993493e+06\",\"0\",\"0\",\"0\",\"0\",\"\",\"\",\"0\",\"\",\"0\",\"0\",\"0\",\"0\",\"INTEGER\",\"0\",\"1\",\"\",\"1.993493e+06\",\"0\",\"0\",\"0\",\"1.993493e+06\",\"100\",\"1\",\"0\",\"0\",\"0\",\"0\",\"0\",\"0\",\"0\",\"0\",\"0\",\"0\",\"0\",\"0\",\"0\",\"0\",\"0\",\"0\",\"0\",\"0\",\"0\",\"0\",\"0\",\"0\",\"0\",\"0\",\"0\",\"0\",\"0\",\"0\",\"0\",\"0\",\"0\",\"0\",\"0\",\"0\",\"\",\"\",\"\",\"\",\"1.993493e+06\",\"\",\"\",\"\",\"\",\"\",\"\",\"\",\"\",\"0\",\"\",\"\",\"\",\"\",\"1.993493e+06\"\n\"DW_LANDING\",\"caso3_final\",\"VATP014_N\",\"1.993493e+06\",\"1\",\"38\",\"14.847219428410334\",\"3.8531111475508486\",\"0.2579668432145623\",\"0.065900702114375\",\"0.002729004045218189\",\"25.951735718122908\",\"14.846465515380617\",\"2.9597828e+07\",\"4.69041772e+08\",\"2.959632507965265e+07\",\"INTEGER\",\"0\",\"38\",\"\",\"0\",\"1.993493e+06\",\"0\",\"14\",\"205355\",\"10.301265166218291\",\"1\",\"1\",\"7\",\"8\",\"8\",\"8\",\"9\",\"9\",\"9\",\"10\",\"10\",\"10\",\"12\",\"12\",\"13\",\"13\",\"14\",\"15\",\"16\",\"16\",\"17\",\"17\",\"18\",\"20\",\"20\",\"20\",\"21\",\"21\",\"21\",\"22\",\"22\",\"23\",\"24\",\"38\",\"1\",\"2\",\"3\",\"4\",\"5\",\"9\",\"84\",\"415\",\"1453\",\"4327\",\"34\",\"35\",\"36\",\"37\",\"38\",\"21\",\"9\",\"4\",\"1\",\"1\"\n\"DW_LANDING\",\"caso3_final\",\"VATP015_N\",\"1.993493e+06\",\"0\",\"500\",\"170.92038647740424\",\"51.795663191370764\",\"0.3495468958747529\",\"0.1414444302726\",\"0.03668479028014966\",\"30.303970321421065\",\"2682.79072543392\",\"3.40728594e+08\",\"6.3585587502e+10\",\"5.348124531617442e+09\",\"DECIMAL(15,0)\",\"0\",\"456\",\"\",\"1\",\"1.993492e+06\",\"0\",\"166\",\"15560\",\"0.7805394852151475\",\"1\",\"0\",\"64\",\"75\",\"82\",\"87\",\"91\",\"95\",\"98\",\"101\",\"104\",\"107\",\"126\",\"134\",\"142\",\"146\",\"155\",\"168\",\"181\",\"191\",\"196\",\"204\",\"214\",\"239\",\"243\",\"246\",\"251\",\"255\",\"261\",\"267\",\"276\",\"287\",\"304\",\"500\",\"0\",\"3\",\"4\",\"5\",\"6\",\"1\",\"1\",\"1\",\"1\",\"4\",\"482\",\"485\",\"486\",\"487\",\"500\",\"1\",\"1\",\"1\",\"1\",\"1\"\n\"DW_LANDING\",\"caso3_final\",\"VATP016_N\",\"1.993493e+06\",\"820\",\"2.202341e+06\",\"754249.9648381007\",\"227898.03229723964\",\"0.3495817044457622\",\"0.14142037914650893\",\"161.41103337539394\",\"30.215186333639114\",\"5.193751312495368e+10\",\"1.503592025155e+12\",\"1.2376213009560108e+18\",\"1.0353706885200328e+17\",\"DECIMAL(15,0)\",\"0\",\"806023\",\"\",\"0\",\"1.993493e+06\",\"0\",\"823583\",\"15\",\"0.0007524480898603607\",\"1\",\"820\",\"285881\",\"331249\",\"361160\",\"384276\",\"403176\",\"419775\",\"434363\",\"447555\",\"459909\",\"471320\",\"558691\",\"593333\",\"625147\",\"643248\",\"684014\",\"740856\",\"799613\",\"843760\",\"864042\",\"900601\",\"941754\",\"1.054225e+06\",\"1.069705e+06\",\"1.0865e+06\",\"1.10523e+06\",\"1.126393e+06\",\"1.150435e+06\",\"1.179128e+06\",\"1.214826e+06\",\"1.26293e+06\",\"1.340608e+06\",\"2.202341e+06\",\"820\",\"15597\",\"19206\",\"25098\",\"27320\",\"1\",\"1\",\"1\",\"1\",\"1\",\"2.121428e+06\",\"2.13447e+06\",\"2.140422e+06\",\"2.143599e+06\",\"2.202341e+06\",\"1\",\"1\",\"1\",\"1\",\"1\"\n\"DW_LANDING\",\"caso3_final\",\"VATP017_N\",\"1.993493e+06\",\"0\",\"1.730696e+06\",\"128067.81653208715\",\"188160.04275404057\",\"1.6699052924474815\",\"2.5892816917959007\",\"133.26620960586442\",\"146.9221915772238\",\"3.540420168920237e+10\",\"2.55302295782e+11\",\"1.0327403581444293e+17\",\"7.05780282380131e+16\",\"DECIMAL(15,0)\",\"0\",\"497197\",\"\",\"996765\",\"996728\",\"0\",\"0\",\"996765\",\"50.00092801931083\",\"1\",\"0\",\"0\",\"0\",\"0\",\"0\",\"0\",\"0\",\"0\",\"0\",\"0\",\"0\",\"0\",\"0\",\"0\",\"0\",\"0\",\"0\",\"80914\",\"140489\",\"167479\",\"215705\",\"269282\",\"410862\",\"430174\",\"451274\",\"474276\",\"499872\",\"529328\",\"563610\",\"606276\",\"662868\",\"752879\",\"1.730696e+06\",\"0\",\"1\",\"2\",\"3\",\"4\",\"996765\",\"3\",\"1\",\"1\",\"1\",\"1.566802e+06\",\"1.570906e+06\",\"1.585858e+06\",\"1.644203e+06\",\"1.730696e+06\",\"1\",\"1\",\"1\",\"1\",\"1\"\n\"DW_LANDING\",\"caso3_final\",\"VATP018_N\",\"1.993493e+06\",\"0\",\"28\",\"2.2134469496506886\",\"3.261290143092606\",\"1.655790118045776\",\"2.502479885203444\",\"0.0023098409706626497\",\"147.33988287396187\",\"10.63601339743299\",\"4.412491e+06\",\"3.0969633e+07\",\"2.1202818255688883e+07\",\"INTEGER\",\"0\",\"29\",\"\",\"1.068601e+06\",\"924892\",\"0\",\"0\",\"1.068601e+06\",\"53.60445208485809\",\"1\",\"0\",\"0\",\"0\",\"0\",\"0\",\"0\",\"0\",\"0\",\"0\",\"0\",\"0\",\"0\",\"0\",\"0\",\"0\",\"0\",\"0\",\"1\",\"2\",\"3\",\"4\",\"5\",\"7\",\"7\",\"8\",\"8\",\"9\",\"9\",\"10\",\"10\",\"11\",\"13\",\"28\",\"0\",\"1\",\"2\",\"3\",\"4\",\"1.068601e+06\",\"141290\",\"134415\",\"123480\",\"110423\",\"24\",\"25\",\"26\",\"27\",\"28\",\"19\",\"8\",\"6\",\"2\",\"1\"\n\"DW_LANDING\",\"caso3_final\",\"VATP019_N\",\"1.993493e+06\",\"0\",\"27\",\"2.161984516624839\",\"3.185136567139814\",\"1.6533907535819687\",\"2.4873334366535396\",\"0.00225590444797368\",\"147.32467058146463\",\"10.1450949513312\",\"4.309901e+06\",\"2.9542115e+07\",\"2.022417576981409e+07\",\"INTEGER\",\"0\",\"28\",\"\",\"1.070393e+06\",\"923100\",\"0\",\"0\",\"1.070393e+06\",\"53.6943445499934\",\"1\",\"0\",\"0\",\"0\",\"0\",\"0\",\"0\",\"0\",\"0\",\"0\",\"0\",\"0\",\"0\",\"0\",\"0\",\"0\",\"0\",\"0\",\"1\",\"2\",\"3\",\"4\",\"5\",\"7\",\"7\",\"8\",\"8\",\"8\",\"9\",\"10\",\"10\",\"11\",\"13\",\"27\",\"0\",\"1\",\"2\",\"3\",\"4\",\"1.070393e+06\",\"144197\",\"137045\",\"125994\",\"111488\",\"23\",\"24\",\"25\",\"26\",\"27\",\"23\",\"11\",\"7\",\"4\",\"1\"\n\"DW_LANDING\",\"caso3_final\",\"VATP020_N\",\"1.993493e+06\",\"0\",\"4\",\"0.20272456437017838\",\"0.4504983403674994\",\"2.202634801799077\",\"4.680802390691977\",\"0.0003190699012169522\",\"222.2218810863404\",\"0.20294875467387136\",\"404130\",\"486504\",\"404576.9218010798\",\"INTEGER\",\"0\",\"5\",\"\",\"1.628464e+06\",\"365029\",\"0\",\"0\",\"1.628464e+06\",\"81.68897508042416\",\"1\",\"0\",\"0\",\"0\",\"0\",\"0\",\"0\",\"0\",\"0\",\"0\",\"0\",\"0\",\"0\",\"0\",\"0\",\"0\",\"0\",\"0\",\"0\",\"0\",\"0\",\"0\",\"0\",\"1\",\"1\",\"1\",\"1\",\"1\",\"1\",\"1\",\"1\",\"1\",\"2\",\"4\",\"0\",\"1\",\"2\",\"3\",\"4\",\"1.628464e+06\",\"327956\",\"35103\",\"1912\",\"58\",\"0\",\"1\",\"2\",\"3\",\"4\",\"1.628464e+06\",\"327956\",\"35103\",\"1912\",\"58\"",
      "text/html": [
       "<div class = \"td-resultset-table-div\" style = \"max-height: 100%; overflow-y: auto\">\n",
       "      <table class=\"tdhistory791713\"><style>\n",
       "      table.tdhistory791713 { display: block !important; min-height: 462px !important; overflow: auto !important; height: 462px !important; width: 100% !important; border: 1px solid rgb(207, 207, 207) !important; border-collapse: collapse !important; ; color: var(--jp-ui-font-color1) !important; }\n",
       "      th.tdhistory791713 { border: 1px solid rgb(198,198,198) !important; border-collapse: collapse !important; ; padding: 2px 5px !important; ; font-size: 13px !important; ; text-align: center !important; white-space: normal !important; color: var(--jp-ui-font-color1) !important; }\n",
       "      th.tdhistory791713:last-child { text-align: left !important; }\n",
       "      tbody.tdhistory791713 tr:nth-child(even) { background: rgba(243, 243, 243, 0.75) !important; }\n",
       "      tbody.tdhistory791713 tr:nth-child(odd) { background: var(--jp-ui-inverse-font-color1) !important; }\n",
       "      td.tdhistory791713 { border: 1px solid rgb(207, 207, 207) !important; border-collapse: collapse !important; ; padding: 2px 5px !important; ; font-size: 13px !important; ; text-align: left !important;          white-space: nowrap !important; overflow:hidden !important; text-overflow:ellipsis !important;; }\n",
       "    </style><thead><tr style= \"background: rgba(243, 243, 243, 0.75)\"><th class=\"tdhistory791713\"></th><th class=\"tdhistory791713\">xdb</th><th class=\"tdhistory791713\">xtbl</th><th class=\"tdhistory791713\">xcol</th><th class=\"tdhistory791713\">xcnt</th><th class=\"tdhistory791713\">xmin</th><th class=\"tdhistory791713\">xmax</th><th class=\"tdhistory791713\">xmean</th><th class=\"tdhistory791713\">xstd</th><th class=\"tdhistory791713\">xskew</th><th class=\"tdhistory791713\">xkurt</th><th class=\"tdhistory791713\">xste</th><th class=\"tdhistory791713\">xcv</th><th class=\"tdhistory791713\">xvar</th><th class=\"tdhistory791713\">xsum</th><th class=\"tdhistory791713\">xuss</th><th class=\"tdhistory791713\">xcss</th><th class=\"tdhistory791713\">xtype</th><th class=\"tdhistory791713\">xnull</th><th class=\"tdhistory791713\">xnique</th><th class=\"tdhistory791713\">xblank</th><th class=\"tdhistory791713\">xzero</th><th class=\"tdhistory791713\">xpos</th><th class=\"tdhistory791713\">xneg</th><th class=\"tdhistory791713\">xmode</th><th class=\"tdhistory791713\">xmode_cnt</th><th class=\"tdhistory791713\">xmode_pct</th><th class=\"tdhistory791713\">xnbrmodes</th><th class=\"tdhistory791713\">xpctile0</th><th class=\"tdhistory791713\">xpctile1</th><th class=\"tdhistory791713\">xpctile2</th><th class=\"tdhistory791713\">xpctile3</th><th class=\"tdhistory791713\">xpctile4</th><th class=\"tdhistory791713\">xpctile5</th><th class=\"tdhistory791713\">xpctile6</th><th class=\"tdhistory791713\">xpctile7</th><th class=\"tdhistory791713\">xpctile8</th><th class=\"tdhistory791713\">xpctile9</th><th class=\"tdhistory791713\">xpctile10</th><th class=\"tdhistory791713\">xpctile20</th><th class=\"tdhistory791713\">xpctile25</th><th class=\"tdhistory791713\">xpctile30</th><th class=\"tdhistory791713\">xpctile33</th><th class=\"tdhistory791713\">xpctile40</th><th class=\"tdhistory791713\">xpctile50</th><th class=\"tdhistory791713\">xpctile60</th><th class=\"tdhistory791713\">xpctile67</th><th class=\"tdhistory791713\">xpctile70</th><th class=\"tdhistory791713\">xpctile75</th><th class=\"tdhistory791713\">xpctile80</th><th class=\"tdhistory791713\">xpctile90</th><th class=\"tdhistory791713\">xpctile91</th><th class=\"tdhistory791713\">xpctile92</th><th class=\"tdhistory791713\">xpctile93</th><th class=\"tdhistory791713\">xpctile94</th><th class=\"tdhistory791713\">xpctile95</th><th class=\"tdhistory791713\">xpctile96</th><th class=\"tdhistory791713\">xpctile97</th><th class=\"tdhistory791713\">xpctile98</th><th class=\"tdhistory791713\">xpctile99</th><th class=\"tdhistory791713\">xpctile100</th><th class=\"tdhistory791713\">xmin_1</th><th class=\"tdhistory791713\">xmin_2</th><th class=\"tdhistory791713\">xmin_3</th><th class=\"tdhistory791713\">xmin_4</th><th class=\"tdhistory791713\">xmin_5</th><th class=\"tdhistory791713\">xmincnt_1</th><th class=\"tdhistory791713\">xmincnt_2</th><th class=\"tdhistory791713\">xmincnt_3</th><th class=\"tdhistory791713\">xmincnt_4</th><th class=\"tdhistory791713\">xmincnt_5</th><th class=\"tdhistory791713\">xmax_5</th><th class=\"tdhistory791713\">xmax_4</th><th class=\"tdhistory791713\">xmax_3</th><th class=\"tdhistory791713\">xmax_2</th><th class=\"tdhistory791713\">xmax_1</th><th class=\"tdhistory791713\">xmaxcnt_5</th><th class=\"tdhistory791713\">xmaxcnt_4</th><th class=\"tdhistory791713\">xmaxcnt_3</th><th class=\"tdhistory791713\">xmaxcnt_2</th><th class=\"tdhistory791713\">xmaxcnt_1</th></tr></thead><tbody class=\"tdhistory791713 resultset-body\"><tr><th class=\"tdhistory791713\" style= \"background: rgba(243, 243, 243, 0.75)\">1</th><td class=\"tdhistory791713\">DW_LANDING</td><td class=\"tdhistory791713\">caso3_final</td><td class=\"tdhistory791713\">prev_2</td><td class=\"tdhistory791713\">996763</td><td class=\"tdhistory791713\">820</td><td class=\"tdhistory791713\">2.202341e+06</td><td class=\"tdhistory791713\">754165.2996359215</td><td class=\"tdhistory791713\">228041.9928381943</td><td class=\"tdhistory791713\">0.3471382411650106</td><td class=\"tdhistory791713\">0.14068546285379468</td><td class=\"tdhistory791713\">228.41197727601224</td><td class=\"tdhistory791713\">30.2376671199647</td><td class=\"tdhistory791713\">5.200315049761506e+10</td><td class=\"tdhistory791713\">7.51724066561e+11</td><td class=\"tdhistory791713\">6.187590222009642e+17</td><td class=\"tdhistory791713\">5.183481629945428e+16</td><td class=\"tdhistory791713\">DECIMAL(15,0)</td><td class=\"tdhistory791713\">996730</td><td class=\"tdhistory791713\">588189</td><td class=\"tdhistory791713\"></td><td class=\"tdhistory791713\">0</td><td class=\"tdhistory791713\">996763</td><td class=\"tdhistory791713\">0</td><td class=\"tdhistory791713\"></td><td class=\"tdhistory791713\">996730</td><td class=\"tdhistory791713\">49.999172307101155</td><td class=\"tdhistory791713\">1</td><td class=\"tdhistory791713\">820</td><td class=\"tdhistory791713\">285175</td><td class=\"tdhistory791713\">330808</td><td class=\"tdhistory791713\">360777</td><td class=\"tdhistory791713\">383655</td><td class=\"tdhistory791713\">402628</td><td class=\"tdhistory791713\">419116</td><td class=\"tdhistory791713\">433751</td><td class=\"tdhistory791713\">446869</td><td class=\"tdhistory791713\">459261</td><td class=\"tdhistory791713\">470793</td><td class=\"tdhistory791713\">558267</td><td class=\"tdhistory791713\">593110</td><td class=\"tdhistory791713\">625010</td><td class=\"tdhistory791713\">643152</td><td class=\"tdhistory791713\">684216</td><td class=\"tdhistory791713\">741103</td><td class=\"tdhistory791713\">799691</td><td class=\"tdhistory791713\">843730</td><td class=\"tdhistory791713\">864052</td><td class=\"tdhistory791713\">900575</td><td class=\"tdhistory791713\">941730</td><td class=\"tdhistory791713\">1.05434e+06</td><td class=\"tdhistory791713\">1.06976e+06</td><td class=\"tdhistory791713\">1.08654e+06</td><td class=\"tdhistory791713\">1.105328e+06</td><td class=\"tdhistory791713\">1.126401e+06</td><td class=\"tdhistory791713\">1.150252e+06</td><td class=\"tdhistory791713\">1.178935e+06</td><td class=\"tdhistory791713\">1.214591e+06</td><td class=\"tdhistory791713\">1.262474e+06</td><td class=\"tdhistory791713\">1.340611e+06</td><td class=\"tdhistory791713\">2.202341e+06</td><td class=\"tdhistory791713\">820</td><td class=\"tdhistory791713\">15597</td><td class=\"tdhistory791713\">19206</td><td class=\"tdhistory791713\">25098</td><td class=\"tdhistory791713\">28200</td><td class=\"tdhistory791713\">1</td><td class=\"tdhistory791713\">1</td><td class=\"tdhistory791713\">1</td><td class=\"tdhistory791713\">1</td><td class=\"tdhistory791713\">1</td><td class=\"tdhistory791713\">2.112461e+06</td><td class=\"tdhistory791713\">2.121428e+06</td><td class=\"tdhistory791713\">2.13447e+06</td><td class=\"tdhistory791713\">2.143599e+06</td><td class=\"tdhistory791713\">2.202341e+06</td><td class=\"tdhistory791713\">1</td><td class=\"tdhistory791713\">1</td><td class=\"tdhistory791713\">1</td><td class=\"tdhistory791713\">1</td><td class=\"tdhistory791713\">1</td></tr><tr><th class=\"tdhistory791713\" style= \"background: rgba(243, 243, 243, 0.75)\">2</th><td class=\"tdhistory791713\">DW_LANDING</td><td class=\"tdhistory791713\">caso3_final</td><td class=\"tdhistory791713\">prev_3</td><td class=\"tdhistory791713\">996763</td><td class=\"tdhistory791713\">1</td><td class=\"tdhistory791713\">40</td><td class=\"tdhistory791713\">15.079725070051758</td><td class=\"tdhistory791713\">3.944802142903179</td><td class=\"tdhistory791713\">0.2640317480654231</td><td class=\"tdhistory791713\">0.07093860920011556</td><td class=\"tdhistory791713\">0.003951202347466295</td><td class=\"tdhistory791713\">26.1596423315272</td><td class=\"tdhistory791713\">15.561463946653515</td><td class=\"tdhistory791713\">1.5030912e+07</td><td class=\"tdhistory791713\">2.42173112e+08</td><td class=\"tdhistory791713\">1.5511091487858197e+07</td><td class=\"tdhistory791713\">INTEGER</td><td class=\"tdhistory791713\">996730</td><td class=\"tdhistory791713\">39</td><td class=\"tdhistory791713\"></td><td class=\"tdhistory791713\">0</td><td class=\"tdhistory791713\">996763</td><td class=\"tdhistory791713\">0</td><td class=\"tdhistory791713\"></td><td class=\"tdhistory791713\">996730</td><td class=\"tdhistory791713\">49.999172307101155</td><td class=\"tdhistory791713\">1</td><td class=\"tdhistory791713\">1</td><td class=\"tdhistory791713\">7</td><td class=\"tdhistory791713\">8</td><td class=\"tdhistory791713\">8</td><td class=\"tdhistory791713\">9</td><td class=\"tdhistory791713\">9</td><td class=\"tdhistory791713\">9</td><td class=\"tdhistory791713\">9</td><td class=\"tdhistory791713\">10</td><td class=\"tdhistory791713\">10</td><td class=\"tdhistory791713\">10</td><td class=\"tdhistory791713\">12</td><td class=\"tdhistory791713\">12</td><td class=\"tdhistory791713\">13</td><td class=\"tdhistory791713\">13</td><td class=\"tdhistory791713\">14</td><td class=\"tdhistory791713\">15</td><td class=\"tdhistory791713\">16</td><td class=\"tdhistory791713\">17</td><td class=\"tdhistory791713\">17</td><td class=\"tdhistory791713\">18</td><td class=\"tdhistory791713\">18</td><td class=\"tdhistory791713\">20</td><td class=\"tdhistory791713\">20</td><td class=\"tdhistory791713\">21</td><td class=\"tdhistory791713\">21</td><td class=\"tdhistory791713\">21</td><td class=\"tdhistory791713\">22</td><td class=\"tdhistory791713\">22</td><td class=\"tdhistory791713\">23</td><td class=\"tdhistory791713\">24</td><td class=\"tdhistory791713\">25</td><td class=\"tdhistory791713\">40</td><td class=\"tdhistory791713\">1</td><td class=\"tdhistory791713\">2</td><td class=\"tdhistory791713\">3</td><td class=\"tdhistory791713\">4</td><td class=\"tdhistory791713\">5</td><td class=\"tdhistory791713\">6</td><td class=\"tdhistory791713\">45</td><td class=\"tdhistory791713\">201</td><td class=\"tdhistory791713\">652</td><td class=\"tdhistory791713\">2052</td><td class=\"tdhistory791713\">35</td><td class=\"tdhistory791713\">36</td><td class=\"tdhistory791713\">37</td><td class=\"tdhistory791713\">38</td><td class=\"tdhistory791713\">40</td><td class=\"tdhistory791713\">8</td><td class=\"tdhistory791713\">1</td><td class=\"tdhistory791713\">3</td><td class=\"tdhistory791713\">2</td><td class=\"tdhistory791713\">1</td></tr><tr><th class=\"tdhistory791713\" style= \"background: rgba(243, 243, 243, 0.75)\">3</th><td class=\"tdhistory791713\">DW_LANDING</td><td class=\"tdhistory791713\">caso3_final</td><td class=\"tdhistory791713\">prev_4</td><td class=\"tdhistory791713\">996763</td><td class=\"tdhistory791713\">1</td><td class=\"tdhistory791713\">37</td><td class=\"tdhistory791713\">14.843217495031416</td><td class=\"tdhistory791713\">3.8527945605700755</td><td class=\"tdhistory791713\">0.2542265947277567</td><td class=\"tdhistory791713\">0.05970195299293574</td><td class=\"tdhistory791713\">0.0038590454883565732</td><td class=\"tdhistory791713\">25.956599786129598</td><td class=\"tdhistory791713\">14.844025925958363</td><td class=\"tdhistory791713\">1.479517e+07</td><td class=\"tdhistory791713\">2.34403902e+08</td><td class=\"tdhistory791713\">1.4795975814036034e+07</td><td class=\"tdhistory791713\">INTEGER</td><td class=\"tdhistory791713\">996730</td><td class=\"tdhistory791713\">37</td><td class=\"tdhistory791713\"></td><td class=\"tdhistory791713\">0</td><td class=\"tdhistory791713\">996763</td><td class=\"tdhistory791713\">0</td><td class=\"tdhistory791713\"></td><td class=\"tdhistory791713\">996730</td><td class=\"tdhistory791713\">49.999172307101155</td><td class=\"tdhistory791713\">1</td><td class=\"tdhistory791713\">1</td><td class=\"tdhistory791713\">7</td><td class=\"tdhistory791713\">8</td><td class=\"tdhistory791713\">8</td><td class=\"tdhistory791713\">8</td><td class=\"tdhistory791713\">9</td><td class=\"tdhistory791713\">9</td><td class=\"tdhistory791713\">9</td><td class=\"tdhistory791713\">10</td><td class=\"tdhistory791713\">10</td><td class=\"tdhistory791713\">10</td><td class=\"tdhistory791713\">12</td><td class=\"tdhistory791713\">12</td><td class=\"tdhistory791713\">13</td><td class=\"tdhistory791713\">13</td><td class=\"tdhistory791713\">14</td><td class=\"tdhistory791713\">15</td><td class=\"tdhistory791713\">16</td><td class=\"tdhistory791713\">16</td><td class=\"tdhistory791713\">17</td><td class=\"tdhistory791713\">17</td><td class=\"tdhistory791713\">18</td><td class=\"tdhistory791713\">20</td><td class=\"tdhistory791713\">20</td><td class=\"tdhistory791713\">20</td><td class=\"tdhistory791713\">21</td><td class=\"tdhistory791713\">21</td><td class=\"tdhistory791713\">21</td><td class=\"tdhistory791713\">22</td><td class=\"tdhistory791713\">22</td><td class=\"tdhistory791713\">23</td><td class=\"tdhistory791713\">24</td><td class=\"tdhistory791713\">37</td><td class=\"tdhistory791713\">1</td><td class=\"tdhistory791713\">2</td><td class=\"tdhistory791713\">3</td><td class=\"tdhistory791713\">4</td><td class=\"tdhistory791713\">5</td><td class=\"tdhistory791713\">6</td><td class=\"tdhistory791713\">45</td><td class=\"tdhistory791713\">204</td><td class=\"tdhistory791713\">694</td><td class=\"tdhistory791713\">2172</td><td class=\"tdhistory791713\">33</td><td class=\"tdhistory791713\">34</td><td class=\"tdhistory791713\">35</td><td class=\"tdhistory791713\">36</td><td class=\"tdhistory791713\">37</td><td class=\"tdhistory791713\">12</td><td class=\"tdhistory791713\">13</td><td class=\"tdhistory791713\">4</td><td class=\"tdhistory791713\">2</td><td class=\"tdhistory791713\">1</td></tr><tr><th class=\"tdhistory791713\" style= \"background: rgba(243, 243, 243, 0.75)\">4</th><td class=\"tdhistory791713\">DW_LANDING</td><td class=\"tdhistory791713\">caso3_final</td><td class=\"tdhistory791713\">prev_5</td><td class=\"tdhistory791713\">996763</td><td class=\"tdhistory791713\">1</td><td class=\"tdhistory791713\">5</td><td class=\"tdhistory791713\">4.7420480094064485</td><td class=\"tdhistory791713\">0.49441524160581113</td><td class=\"tdhistory791713\">-1.8129413910483512</td><td class=\"tdhistory791713\">2.8973614109866164</td><td class=\"tdhistory791713\">0.0004952174006421249</td><td class=\"tdhistory791713\">10.426196458261838</td><td class=\"tdhistory791713\">0.24444643113213257</td><td class=\"tdhistory791713\">4.726698e+06</td><td class=\"tdhistory791713\">2.2657884e+07</td><td class=\"tdhistory791713\">243655.15803455785</td><td class=\"tdhistory791713\">INTEGER</td><td class=\"tdhistory791713\">996730</td><td class=\"tdhistory791713\">5</td><td class=\"tdhistory791713\"></td><td class=\"tdhistory791713\">0</td><td class=\"tdhistory791713\">996763</td><td class=\"tdhistory791713\">0</td><td class=\"tdhistory791713\"></td><td class=\"tdhistory791713\">996730</td><td class=\"tdhistory791713\">49.999172307101155</td><td class=\"tdhistory791713\">1</td><td class=\"tdhistory791713\">1</td><td class=\"tdhistory791713\">3</td><td class=\"tdhistory791713\">3</td><td class=\"tdhistory791713\">4</td><td class=\"tdhistory791713\">4</td><td class=\"tdhistory791713\">4</td><td class=\"tdhistory791713\">4</td><td class=\"tdhistory791713\">4</td><td class=\"tdhistory791713\">4</td><td class=\"tdhistory791713\">4</td><td class=\"tdhistory791713\">4</td><td class=\"tdhistory791713\">4</td><td class=\"tdhistory791713\">5</td><td class=\"tdhistory791713\">5</td><td class=\"tdhistory791713\">5</td><td class=\"tdhistory791713\">5</td><td class=\"tdhistory791713\">5</td><td class=\"tdhistory791713\">5</td><td class=\"tdhistory791713\">5</td><td class=\"tdhistory791713\">5</td><td class=\"tdhistory791713\">5</td><td class=\"tdhistory791713\">5</td><td class=\"tdhistory791713\">5</td><td class=\"tdhistory791713\">5</td><td class=\"tdhistory791713\">5</td><td class=\"tdhistory791713\">5</td><td class=\"tdhistory791713\">5</td><td class=\"tdhistory791713\">5</td><td class=\"tdhistory791713\">5</td><td class=\"tdhistory791713\">5</td><td class=\"tdhistory791713\">5</td><td class=\"tdhistory791713\">5</td><td class=\"tdhistory791713\">5</td><td class=\"tdhistory791713\">1</td><td class=\"tdhistory791713\">2</td><td class=\"tdhistory791713\">3</td><td class=\"tdhistory791713\">4</td><td class=\"tdhistory791713\">5</td><td class=\"tdhistory791713\">41</td><td class=\"tdhistory791713\">1229</td><td class=\"tdhistory791713\">22498</td><td class=\"tdhistory791713\">208270</td><td class=\"tdhistory791713\">764725</td><td class=\"tdhistory791713\">1</td><td class=\"tdhistory791713\">2</td><td class=\"tdhistory791713\">3</td><td class=\"tdhistory791713\">4</td><td class=\"tdhistory791713\">5</td><td class=\"tdhistory791713\">41</td><td class=\"tdhistory791713\">1229</td><td class=\"tdhistory791713\">22498</td><td class=\"tdhistory791713\">208270</td><td class=\"tdhistory791713\">764725</td></tr><tr><th class=\"tdhistory791713\" style= \"background: rgba(243, 243, 243, 0.75)\">5</th><td class=\"tdhistory791713\">DW_LANDING</td><td class=\"tdhistory791713\">caso3_final</td><td class=\"tdhistory791713\">VATP002</td><td class=\"tdhistory791713\">1.993493e+06</td><td class=\"tdhistory791713\">19</td><td class=\"tdhistory791713\">28</td><td class=\"tdhistory791713\">23.49999774265573</td><td class=\"tdhistory791713\">4.499999999999434</td><td class=\"tdhistory791713\">1.0032656296243013e-06</td><td class=\"tdhistory791713\">-2.0000010032628617</td><td class=\"tdhistory791713\">0.003187169467272224</td><td class=\"tdhistory791713\">19.148938009603782</td><td class=\"tdhistory791713\">20.249999999994905</td><td class=\"tdhistory791713\">4.6847081e+07</td><td class=\"tdhistory791713\">1.141274531e+09</td><td class=\"tdhistory791713\">4.0368233249989845e+07</td><td class=\"tdhistory791713\">INTEGER</td><td class=\"tdhistory791713\">0</td><td class=\"tdhistory791713\">2</td><td class=\"tdhistory791713\"></td><td class=\"tdhistory791713\">0</td><td class=\"tdhistory791713\">1.993493e+06</td><td class=\"tdhistory791713\">0</td><td class=\"tdhistory791713\">19</td><td class=\"tdhistory791713\">996747</td><td class=\"tdhistory791713\">50.00002508160299</td><td class=\"tdhistory791713\">1</td><td class=\"tdhistory791713\">19</td><td class=\"tdhistory791713\">19</td><td class=\"tdhistory791713\">19</td><td class=\"tdhistory791713\">19</td><td class=\"tdhistory791713\">19</td><td class=\"tdhistory791713\">19</td><td class=\"tdhistory791713\">19</td><td class=\"tdhistory791713\">19</td><td class=\"tdhistory791713\">19</td><td class=\"tdhistory791713\">19</td><td class=\"tdhistory791713\">19</td><td class=\"tdhistory791713\">19</td><td class=\"tdhistory791713\">19</td><td class=\"tdhistory791713\">19</td><td class=\"tdhistory791713\">19</td><td class=\"tdhistory791713\">19</td><td class=\"tdhistory791713\">19</td><td class=\"tdhistory791713\">28</td><td class=\"tdhistory791713\">28</td><td class=\"tdhistory791713\">28</td><td class=\"tdhistory791713\">28</td><td class=\"tdhistory791713\">28</td><td class=\"tdhistory791713\">28</td><td class=\"tdhistory791713\">28</td><td class=\"tdhistory791713\">28</td><td class=\"tdhistory791713\">28</td><td class=\"tdhistory791713\">28</td><td class=\"tdhistory791713\">28</td><td class=\"tdhistory791713\">28</td><td class=\"tdhistory791713\">28</td><td class=\"tdhistory791713\">28</td><td class=\"tdhistory791713\">28</td><td class=\"tdhistory791713\">28</td><td class=\"tdhistory791713\">19</td><td class=\"tdhistory791713\">28</td><td class=\"tdhistory791713\"></td><td class=\"tdhistory791713\"></td><td class=\"tdhistory791713\"></td><td class=\"tdhistory791713\">996747</td><td class=\"tdhistory791713\">996746</td><td class=\"tdhistory791713\"></td><td class=\"tdhistory791713\"></td><td class=\"tdhistory791713\"></td><td class=\"tdhistory791713\"></td><td class=\"tdhistory791713\"></td><td class=\"tdhistory791713\"></td><td class=\"tdhistory791713\">19</td><td class=\"tdhistory791713\">28</td><td class=\"tdhistory791713\"></td><td class=\"tdhistory791713\"></td><td class=\"tdhistory791713\"></td><td class=\"tdhistory791713\">996747</td><td class=\"tdhistory791713\">996746</td></tr><tr><th class=\"tdhistory791713\" style= \"background: rgba(243, 243, 243, 0.75)\">6</th><td class=\"tdhistory791713\">DW_LANDING</td><td class=\"tdhistory791713\">caso3_final</td><td class=\"tdhistory791713\">VATP008</td><td class=\"tdhistory791713\">1.993493e+06</td><td class=\"tdhistory791713\">1</td><td class=\"tdhistory791713\">50</td><td class=\"tdhistory791713\">15.084497913963078</td><td class=\"tdhistory791713\">3.9460077936457476</td><td class=\"tdhistory791713\">0.27152511743875724</td><td class=\"tdhistory791713\">0.10166818257930779</td><td class=\"tdhistory791713\">0.0027947990127838987</td><td class=\"tdhistory791713\">26.15935787954265</td><td class=\"tdhistory791713\">15.570977507512982</td><td class=\"tdhistory791713\">3.0070841e+07</td><td class=\"tdhistory791713\">4.84644173e+08</td><td class=\"tdhistory791713\">3.1040634664384574e+07</td><td class=\"tdhistory791713\">INTEGER</td><td class=\"tdhistory791713\">0</td><td class=\"tdhistory791713\">44</td><td class=\"tdhistory791713\"></td><td class=\"tdhistory791713\">0</td><td class=\"tdhistory791713\">1.993493e+06</td><td class=\"tdhistory791713\">0</td><td class=\"tdhistory791713\">15</td><td class=\"tdhistory791713\">201528</td><td class=\"tdhistory791713\">10.109290576891917</td><td class=\"tdhistory791713\">1</td><td class=\"tdhistory791713\">1</td><td class=\"tdhistory791713\">7</td><td class=\"tdhistory791713\">8</td><td class=\"tdhistory791713\">8</td><td class=\"tdhistory791713\">9</td><td class=\"tdhistory791713\">9</td><td class=\"tdhistory791713\">9</td><td class=\"tdhistory791713\">9</td><td class=\"tdhistory791713\">10</td><td class=\"tdhistory791713\">10</td><td class=\"tdhistory791713\">10</td><td class=\"tdhistory791713\">12</td><td class=\"tdhistory791713\">12</td><td class=\"tdhistory791713\">13</td><td class=\"tdhistory791713\">13</td><td class=\"tdhistory791713\">14</td><td class=\"tdhistory791713\">15</td><td class=\"tdhistory791713\">16</td><td class=\"tdhistory791713\">17</td><td class=\"tdhistory791713\">17</td><td class=\"tdhistory791713\">18</td><td class=\"tdhistory791713\">18</td><td class=\"tdhistory791713\">20</td><td class=\"tdhistory791713\">20</td><td class=\"tdhistory791713\">21</td><td class=\"tdhistory791713\">21</td><td class=\"tdhistory791713\">21</td><td class=\"tdhistory791713\">22</td><td class=\"tdhistory791713\">22</td><td class=\"tdhistory791713\">23</td><td class=\"tdhistory791713\">24</td><td class=\"tdhistory791713\">25</td><td class=\"tdhistory791713\">50</td><td class=\"tdhistory791713\">1</td><td class=\"tdhistory791713\">2</td><td class=\"tdhistory791713\">3</td><td class=\"tdhistory791713\">4</td><td class=\"tdhistory791713\">5</td><td class=\"tdhistory791713\">9</td><td class=\"tdhistory791713\">81</td><td class=\"tdhistory791713\">408</td><td class=\"tdhistory791713\">1357</td><td class=\"tdhistory791713\">4109</td><td class=\"tdhistory791713\">40</td><td class=\"tdhistory791713\">42</td><td class=\"tdhistory791713\">46</td><td class=\"tdhistory791713\">48</td><td class=\"tdhistory791713\">50</td><td class=\"tdhistory791713\">9</td><td class=\"tdhistory791713\">2</td><td class=\"tdhistory791713\">2</td><td class=\"tdhistory791713\">2</td><td class=\"tdhistory791713\">2</td></tr><tr><th class=\"tdhistory791713\" style= \"background: rgba(243, 243, 243, 0.75)\">7</th><td class=\"tdhistory791713\">DW_LANDING</td><td class=\"tdhistory791713\">caso3_final</td><td class=\"tdhistory791713\">VATP009_N</td><td class=\"tdhistory791713\">1.993493e+06</td><td class=\"tdhistory791713\">820</td><td class=\"tdhistory791713\">2.799044e+06</td><td class=\"tdhistory791713\">754277.2909195066</td><td class=\"tdhistory791713\">227966.39202672153</td><td class=\"tdhistory791713\">0.35261004460777423</td><td class=\"tdhistory791713\">0.16117289211160826</td><td class=\"tdhistory791713\">161.4594498293041</td><td class=\"tdhistory791713\">30.2231546370457</td><td class=\"tdhistory791713\">5.196867589368089e+10</td><td class=\"tdhistory791713\">1.503646499507e+12</td><td class=\"tdhistory791713\">1.2377655997620608e+18</td><td class=\"tdhistory791713\">1.035991916133216e+17</td><td class=\"tdhistory791713\">DECIMAL(15,0)</td><td class=\"tdhistory791713\">0</td><td class=\"tdhistory791713\">806045</td><td class=\"tdhistory791713\"></td><td class=\"tdhistory791713\">0</td><td class=\"tdhistory791713\">1.993493e+06</td><td class=\"tdhistory791713\">0</td><td class=\"tdhistory791713\">823583</td><td class=\"tdhistory791713\">15</td><td class=\"tdhistory791713\">0.0007524480898603607</td><td class=\"tdhistory791713\">1</td><td class=\"tdhistory791713\">820</td><td class=\"tdhistory791713\">285881</td><td class=\"tdhistory791713\">331249</td><td class=\"tdhistory791713\">361163</td><td class=\"tdhistory791713\">384278</td><td class=\"tdhistory791713\">403180</td><td class=\"tdhistory791713\">419778</td><td class=\"tdhistory791713\">434367</td><td class=\"tdhistory791713\">447562</td><td class=\"tdhistory791713\">459914</td><td class=\"tdhistory791713\">471323</td><td class=\"tdhistory791713\">558695</td><td class=\"tdhistory791713\">593339</td><td class=\"tdhistory791713\">625153</td><td class=\"tdhistory791713\">643252</td><td class=\"tdhistory791713\">684018</td><td class=\"tdhistory791713\">740862</td><td class=\"tdhistory791713\">799621</td><td class=\"tdhistory791713\">843772</td><td class=\"tdhistory791713\">864055</td><td class=\"tdhistory791713\">900613</td><td class=\"tdhistory791713\">941772</td><td class=\"tdhistory791713\">1.054259e+06</td><td class=\"tdhistory791713\">1.069736e+06</td><td class=\"tdhistory791713\">1.086542e+06</td><td class=\"tdhistory791713\">1.105263e+06</td><td class=\"tdhistory791713\">1.126446e+06</td><td class=\"tdhistory791713\">1.150512e+06</td><td class=\"tdhistory791713\">1.179237e+06</td><td class=\"tdhistory791713\">1.214941e+06</td><td class=\"tdhistory791713\">1.263086e+06</td><td class=\"tdhistory791713\">1.340823e+06</td><td class=\"tdhistory791713\">2.799044e+06</td><td class=\"tdhistory791713\">820</td><td class=\"tdhistory791713\">15597</td><td class=\"tdhistory791713\">19206</td><td class=\"tdhistory791713\">25098</td><td class=\"tdhistory791713\">27320</td><td class=\"tdhistory791713\">1</td><td class=\"tdhistory791713\">1</td><td class=\"tdhistory791713\">1</td><td class=\"tdhistory791713\">1</td><td class=\"tdhistory791713\">1</td><td class=\"tdhistory791713\">2.264832e+06</td><td class=\"tdhistory791713\">2.270238e+06</td><td class=\"tdhistory791713\">2.272594e+06</td><td class=\"tdhistory791713\">2.377022e+06</td><td class=\"tdhistory791713\">2.799044e+06</td><td class=\"tdhistory791713\">2</td><td class=\"tdhistory791713\">2</td><td class=\"tdhistory791713\">2</td><td class=\"tdhistory791713\">2</td><td class=\"tdhistory791713\">2</td></tr><tr><th class=\"tdhistory791713\" style= \"background: rgba(243, 243, 243, 0.75)\">8</th><td class=\"tdhistory791713\">DW_LANDING</td><td class=\"tdhistory791713\">caso3_final</td><td class=\"tdhistory791713\">VATP010_N</td><td class=\"tdhistory791713\">1.993493e+06</td><td class=\"tdhistory791713\">514</td><td class=\"tdhistory791713\">99999</td><td class=\"tdhistory791713\">93260.39097353238</td><td class=\"tdhistory791713\">6737.492089978514</td><td class=\"tdhistory791713\">-1.9922542966286558</td><td class=\"tdhistory791713\">5.922883905393095</td><td class=\"tdhistory791713\">4.7718953500378545</td><td class=\"tdhistory791713\">7.224387566518606</td><td class=\"tdhistory791713\">4.5393799662523046e+07</td><td class=\"tdhistory791713\">1.85913936583e+11</td><td class=\"tdhistory791713\">1.7428898635029728e+16</td><td class=\"tdhistory791713\">9.049222187064205e+13</td><td class=\"tdhistory791713\">DECIMAL(15,0)</td><td class=\"tdhistory791713\">0</td><td class=\"tdhistory791713\">42274</td><td class=\"tdhistory791713\"></td><td class=\"tdhistory791713\">0</td><td class=\"tdhistory791713\">1.993493e+06</td><td class=\"tdhistory791713\">0</td><td class=\"tdhistory791713\">99827</td><td class=\"tdhistory791713\">332</td><td class=\"tdhistory791713\">0.016654184388909317</td><td class=\"tdhistory791713\">2</td><td class=\"tdhistory791713\">514</td><td class=\"tdhistory791713\">69019</td><td class=\"tdhistory791713\">73650</td><td class=\"tdhistory791713\">76404</td><td class=\"tdhistory791713\">78323</td><td class=\"tdhistory791713\">79813</td><td class=\"tdhistory791713\">81022</td><td class=\"tdhistory791713\">82070</td><td class=\"tdhistory791713\">82962</td><td class=\"tdhistory791713\">83760</td><td class=\"tdhistory791713\">84472</td><td class=\"tdhistory791713\">89144</td><td class=\"tdhistory791713\">90648</td><td class=\"tdhistory791713\">91878</td><td class=\"tdhistory791713\">92525</td><td class=\"tdhistory791713\">93825</td><td class=\"tdhistory791713\">95331</td><td class=\"tdhistory791713\">96560</td><td class=\"tdhistory791713\">97304</td><td class=\"tdhistory791713\">97597</td><td class=\"tdhistory791713\">98063</td><td class=\"tdhistory791713\">98497</td><td class=\"tdhistory791713\">99292</td><td class=\"tdhistory791713\">99367</td><td class=\"tdhistory791713\">99440</td><td class=\"tdhistory791713\">99513</td><td class=\"tdhistory791713\">99584</td><td class=\"tdhistory791713\">99655</td><td class=\"tdhistory791713\">99725</td><td class=\"tdhistory791713\">99795</td><td class=\"tdhistory791713\">99864</td><td class=\"tdhistory791713\">99932</td><td class=\"tdhistory791713\">99999</td><td class=\"tdhistory791713\">514</td><td class=\"tdhistory791713\">11631</td><td class=\"tdhistory791713\">13457</td><td class=\"tdhistory791713\">14371</td><td class=\"tdhistory791713\">16385</td><td class=\"tdhistory791713\">1</td><td class=\"tdhistory791713\">1</td><td class=\"tdhistory791713\">1</td><td class=\"tdhistory791713\">1</td><td class=\"tdhistory791713\">1</td><td class=\"tdhistory791713\">99995</td><td class=\"tdhistory791713\">99996</td><td class=\"tdhistory791713\">99997</td><td class=\"tdhistory791713\">99998</td><td class=\"tdhistory791713\">99999</td><td class=\"tdhistory791713\">258</td><td class=\"tdhistory791713\">309</td><td class=\"tdhistory791713\">306</td><td class=\"tdhistory791713\">295</td><td class=\"tdhistory791713\">288</td></tr><tr><th class=\"tdhistory791713\" style= \"background: rgba(243, 243, 243, 0.75)\">9</th><td class=\"tdhistory791713\">DW_LANDING</td><td class=\"tdhistory791713\">caso3_final</td><td class=\"tdhistory791713\">VATP011_N</td><td class=\"tdhistory791713\">1.993493e+06</td><td class=\"tdhistory791713\">0</td><td class=\"tdhistory791713\">0.9999485961815447</td><td class=\"tdhistory791713\">0.03391580857194887</td><td class=\"tdhistory791713\">0.150738011292219</td><td class=\"tdhistory791713\">4.359380006300658</td><td class=\"tdhistory791713\">17.613971462579116</td><td class=\"tdhistory791713\">0.00010676168603287924</td><td class=\"tdhistory791713\">444.4476414956876</td><td class=\"tdhistory791713\">0.022721948048333142</td><td class=\"tdhistory791713\">67610.92697752007</td><td class=\"tdhistory791713\">47589.123637457364</td><td class=\"tdhistory791713\">45296.04438071578</td><td class=\"tdhistory791713\">FLOAT</td><td class=\"tdhistory791713\">0</td><td class=\"tdhistory791713\">99205</td><td class=\"tdhistory791713\"></td><td class=\"tdhistory791713\">1.894287e+06</td><td class=\"tdhistory791713\">99206</td><td class=\"tdhistory791713\">0</td><td class=\"tdhistory791713\">0</td><td class=\"tdhistory791713\">1.894287e+06</td><td class=\"tdhistory791713\">95.02350898648754</td><td class=\"tdhistory791713\">1</td><td class=\"tdhistory791713\">0</td><td class=\"tdhistory791713\">0</td><td class=\"tdhistory791713\">0</td><td class=\"tdhistory791713\">0</td><td class=\"tdhistory791713\">0</td><td class=\"tdhistory791713\">0</td><td class=\"tdhistory791713\">0</td><td class=\"tdhistory791713\">0</td><td class=\"tdhistory791713\">0</td><td class=\"tdhistory791713\">0</td><td class=\"tdhistory791713\">0</td><td class=\"tdhistory791713\">0</td><td class=\"tdhistory791713\">0</td><td class=\"tdhistory791713\">0</td><td class=\"tdhistory791713\">0</td><td class=\"tdhistory791713\">0</td><td class=\"tdhistory791713\">0</td><td class=\"tdhistory791713\">0</td><td class=\"tdhistory791713\">0</td><td class=\"tdhistory791713\">0</td><td class=\"tdhistory791713\">0</td><td class=\"tdhistory791713\">0</td><td class=\"tdhistory791713\">0</td><td class=\"tdhistory791713\">0</td><td class=\"tdhistory791713\">0</td><td class=\"tdhistory791713\">0</td><td class=\"tdhistory791713\">0</td><td class=\"tdhistory791713\">0</td><td class=\"tdhistory791713\">0.5763556949821191</td><td class=\"tdhistory791713\">0.6530307421033756</td><td class=\"tdhistory791713\">0.716662333030784</td><td class=\"tdhistory791713\">0.7874176969757418</td><td class=\"tdhistory791713\">0.9999485961815447</td><td class=\"tdhistory791713\">0</td><td class=\"tdhistory791713\">0.09630679354356579</td><td class=\"tdhistory791713\">0.10074916206795209</td><td class=\"tdhistory791713\">0.12140074897677222</td><td class=\"tdhistory791713\">0.12341735795727368</td><td class=\"tdhistory791713\">1.894287e+06</td><td class=\"tdhistory791713\">1</td><td class=\"tdhistory791713\">1</td><td class=\"tdhistory791713\">1</td><td class=\"tdhistory791713\">1</td><td class=\"tdhistory791713\">0.9995296863218037</td><td class=\"tdhistory791713\">0.9997994843450403</td><td class=\"tdhistory791713\">0.9998474596842557</td><td class=\"tdhistory791713\">0.9998952896575759</td><td class=\"tdhistory791713\">0.9999485961815447</td><td class=\"tdhistory791713\">1</td><td class=\"tdhistory791713\">1</td><td class=\"tdhistory791713\">1</td><td class=\"tdhistory791713\">1</td><td class=\"tdhistory791713\">1</td></tr><tr><th class=\"tdhistory791713\" style= \"background: rgba(243, 243, 243, 0.75)\">10</th><td class=\"tdhistory791713\">DW_LANDING</td><td class=\"tdhistory791713\">caso3_final</td><td class=\"tdhistory791713\">VATP012_N</td><td class=\"tdhistory791713\">1.993493e+06</td><td class=\"tdhistory791713\">1</td><td class=\"tdhistory791713\">40</td><td class=\"tdhistory791713\">15.0839571546025</td><td class=\"tdhistory791713\">3.9445977114332593</td><td class=\"tdhistory791713\">0.26772304700088123</td><td class=\"tdhistory791713\">0.07625647594992871</td><td class=\"tdhistory791713\">0.0027938003081230127</td><td class=\"tdhistory791713\">26.15094746692291</td><td class=\"tdhistory791713\">15.559851105044507</td><td class=\"tdhistory791713\">3.0069763e+07</td><td class=\"tdhistory791713\">4.84589471e+08</td><td class=\"tdhistory791713\">3.101845425894849e+07</td><td class=\"tdhistory791713\">INTEGER</td><td class=\"tdhistory791713\">0</td><td class=\"tdhistory791713\">40</td><td class=\"tdhistory791713\"></td><td class=\"tdhistory791713\">0</td><td class=\"tdhistory791713\">1.993493e+06</td><td class=\"tdhistory791713\">0</td><td class=\"tdhistory791713\">15</td><td class=\"tdhistory791713\">201534</td><td class=\"tdhistory791713\">10.109591556127862</td><td class=\"tdhistory791713\">1</td><td class=\"tdhistory791713\">1</td><td class=\"tdhistory791713\">7</td><td class=\"tdhistory791713\">8</td><td class=\"tdhistory791713\">8</td><td class=\"tdhistory791713\">9</td><td class=\"tdhistory791713\">9</td><td class=\"tdhistory791713\">9</td><td class=\"tdhistory791713\">9</td><td class=\"tdhistory791713\">10</td><td class=\"tdhistory791713\">10</td><td class=\"tdhistory791713\">10</td><td class=\"tdhistory791713\">12</td><td class=\"tdhistory791713\">12</td><td class=\"tdhistory791713\">13</td><td class=\"tdhistory791713\">13</td><td class=\"tdhistory791713\">14</td><td class=\"tdhistory791713\">15</td><td class=\"tdhistory791713\">16</td><td class=\"tdhistory791713\">17</td><td class=\"tdhistory791713\">17</td><td class=\"tdhistory791713\">18</td><td class=\"tdhistory791713\">18</td><td class=\"tdhistory791713\">20</td><td class=\"tdhistory791713\">20</td><td class=\"tdhistory791713\">21</td><td class=\"tdhistory791713\">21</td><td class=\"tdhistory791713\">21</td><td class=\"tdhistory791713\">22</td><td class=\"tdhistory791713\">22</td><td class=\"tdhistory791713\">23</td><td class=\"tdhistory791713\">24</td><td class=\"tdhistory791713\">25</td><td class=\"tdhistory791713\">40</td><td class=\"tdhistory791713\">1</td><td class=\"tdhistory791713\">2</td><td class=\"tdhistory791713\">3</td><td class=\"tdhistory791713\">4</td><td class=\"tdhistory791713\">5</td><td class=\"tdhistory791713\">9</td><td class=\"tdhistory791713\">81</td><td class=\"tdhistory791713\">408</td><td class=\"tdhistory791713\">1357</td><td class=\"tdhistory791713\">4109</td><td class=\"tdhistory791713\">36</td><td class=\"tdhistory791713\">37</td><td class=\"tdhistory791713\">38</td><td class=\"tdhistory791713\">39</td><td class=\"tdhistory791713\">40</td><td class=\"tdhistory791713\">5</td><td class=\"tdhistory791713\">4</td><td class=\"tdhistory791713\">3</td><td class=\"tdhistory791713\">1</td><td class=\"tdhistory791713\">1</td></tr><tr><th class=\"tdhistory791713\" style= \"background: rgba(243, 243, 243, 0.75)\">11</th><td class=\"tdhistory791713\">DW_LANDING</td><td class=\"tdhistory791713\">caso3_final</td><td class=\"tdhistory791713\">VATP013_N</td><td class=\"tdhistory791713\">1.993493e+06</td><td class=\"tdhistory791713\">0</td><td class=\"tdhistory791713\">0</td><td class=\"tdhistory791713\">0</td><td class=\"tdhistory791713\">0</td><td class=\"tdhistory791713\"></td><td class=\"tdhistory791713\"></td><td class=\"tdhistory791713\">0</td><td class=\"tdhistory791713\"></td><td class=\"tdhistory791713\">0</td><td class=\"tdhistory791713\">0</td><td class=\"tdhistory791713\">0</td><td class=\"tdhistory791713\">0</td><td class=\"tdhistory791713\">INTEGER</td><td class=\"tdhistory791713\">0</td><td class=\"tdhistory791713\">1</td><td class=\"tdhistory791713\"></td><td class=\"tdhistory791713\">1.993493e+06</td><td class=\"tdhistory791713\">0</td><td class=\"tdhistory791713\">0</td><td class=\"tdhistory791713\">0</td><td class=\"tdhistory791713\">1.993493e+06</td><td class=\"tdhistory791713\">100</td><td class=\"tdhistory791713\">1</td><td class=\"tdhistory791713\">0</td><td class=\"tdhistory791713\">0</td><td class=\"tdhistory791713\">0</td><td class=\"tdhistory791713\">0</td><td class=\"tdhistory791713\">0</td><td class=\"tdhistory791713\">0</td><td class=\"tdhistory791713\">0</td><td class=\"tdhistory791713\">0</td><td class=\"tdhistory791713\">0</td><td class=\"tdhistory791713\">0</td><td class=\"tdhistory791713\">0</td><td class=\"tdhistory791713\">0</td><td class=\"tdhistory791713\">0</td><td class=\"tdhistory791713\">0</td><td class=\"tdhistory791713\">0</td><td class=\"tdhistory791713\">0</td><td class=\"tdhistory791713\">0</td><td class=\"tdhistory791713\">0</td><td class=\"tdhistory791713\">0</td><td class=\"tdhistory791713\">0</td><td class=\"tdhistory791713\">0</td><td class=\"tdhistory791713\">0</td><td class=\"tdhistory791713\">0</td><td class=\"tdhistory791713\">0</td><td class=\"tdhistory791713\">0</td><td class=\"tdhistory791713\">0</td><td class=\"tdhistory791713\">0</td><td class=\"tdhistory791713\">0</td><td class=\"tdhistory791713\">0</td><td class=\"tdhistory791713\">0</td><td class=\"tdhistory791713\">0</td><td class=\"tdhistory791713\">0</td><td class=\"tdhistory791713\">0</td><td class=\"tdhistory791713\">0</td><td class=\"tdhistory791713\"></td><td class=\"tdhistory791713\"></td><td class=\"tdhistory791713\"></td><td class=\"tdhistory791713\"></td><td class=\"tdhistory791713\">1.993493e+06</td><td class=\"tdhistory791713\"></td><td class=\"tdhistory791713\"></td><td class=\"tdhistory791713\"></td><td class=\"tdhistory791713\"></td><td class=\"tdhistory791713\"></td><td class=\"tdhistory791713\"></td><td class=\"tdhistory791713\"></td><td class=\"tdhistory791713\"></td><td class=\"tdhistory791713\">0</td><td class=\"tdhistory791713\"></td><td class=\"tdhistory791713\"></td><td class=\"tdhistory791713\"></td><td class=\"tdhistory791713\"></td><td class=\"tdhistory791713\">1.993493e+06</td></tr><tr><th class=\"tdhistory791713\" style= \"background: rgba(243, 243, 243, 0.75)\">12</th><td class=\"tdhistory791713\">DW_LANDING</td><td class=\"tdhistory791713\">caso3_final</td><td class=\"tdhistory791713\">VATP014_N</td><td class=\"tdhistory791713\">1.993493e+06</td><td class=\"tdhistory791713\">1</td><td class=\"tdhistory791713\">38</td><td class=\"tdhistory791713\">14.847219428410334</td><td class=\"tdhistory791713\">3.8531111475508486</td><td class=\"tdhistory791713\">0.2579668432145623</td><td class=\"tdhistory791713\">0.065900702114375</td><td class=\"tdhistory791713\">0.002729004045218189</td><td class=\"tdhistory791713\">25.951735718122908</td><td class=\"tdhistory791713\">14.846465515380617</td><td class=\"tdhistory791713\">2.9597828e+07</td><td class=\"tdhistory791713\">4.69041772e+08</td><td class=\"tdhistory791713\">2.959632507965265e+07</td><td class=\"tdhistory791713\">INTEGER</td><td class=\"tdhistory791713\">0</td><td class=\"tdhistory791713\">38</td><td class=\"tdhistory791713\"></td><td class=\"tdhistory791713\">0</td><td class=\"tdhistory791713\">1.993493e+06</td><td class=\"tdhistory791713\">0</td><td class=\"tdhistory791713\">14</td><td class=\"tdhistory791713\">205355</td><td class=\"tdhistory791713\">10.301265166218291</td><td class=\"tdhistory791713\">1</td><td class=\"tdhistory791713\">1</td><td class=\"tdhistory791713\">7</td><td class=\"tdhistory791713\">8</td><td class=\"tdhistory791713\">8</td><td class=\"tdhistory791713\">8</td><td class=\"tdhistory791713\">9</td><td class=\"tdhistory791713\">9</td><td class=\"tdhistory791713\">9</td><td class=\"tdhistory791713\">10</td><td class=\"tdhistory791713\">10</td><td class=\"tdhistory791713\">10</td><td class=\"tdhistory791713\">12</td><td class=\"tdhistory791713\">12</td><td class=\"tdhistory791713\">13</td><td class=\"tdhistory791713\">13</td><td class=\"tdhistory791713\">14</td><td class=\"tdhistory791713\">15</td><td class=\"tdhistory791713\">16</td><td class=\"tdhistory791713\">16</td><td class=\"tdhistory791713\">17</td><td class=\"tdhistory791713\">17</td><td class=\"tdhistory791713\">18</td><td class=\"tdhistory791713\">20</td><td class=\"tdhistory791713\">20</td><td class=\"tdhistory791713\">20</td><td class=\"tdhistory791713\">21</td><td class=\"tdhistory791713\">21</td><td class=\"tdhistory791713\">21</td><td class=\"tdhistory791713\">22</td><td class=\"tdhistory791713\">22</td><td class=\"tdhistory791713\">23</td><td class=\"tdhistory791713\">24</td><td class=\"tdhistory791713\">38</td><td class=\"tdhistory791713\">1</td><td class=\"tdhistory791713\">2</td><td class=\"tdhistory791713\">3</td><td class=\"tdhistory791713\">4</td><td class=\"tdhistory791713\">5</td><td class=\"tdhistory791713\">9</td><td class=\"tdhistory791713\">84</td><td class=\"tdhistory791713\">415</td><td class=\"tdhistory791713\">1453</td><td class=\"tdhistory791713\">4327</td><td class=\"tdhistory791713\">34</td><td class=\"tdhistory791713\">35</td><td class=\"tdhistory791713\">36</td><td class=\"tdhistory791713\">37</td><td class=\"tdhistory791713\">38</td><td class=\"tdhistory791713\">21</td><td class=\"tdhistory791713\">9</td><td class=\"tdhistory791713\">4</td><td class=\"tdhistory791713\">1</td><td class=\"tdhistory791713\">1</td></tr><tr><th class=\"tdhistory791713\" style= \"background: rgba(243, 243, 243, 0.75)\">13</th><td class=\"tdhistory791713\">DW_LANDING</td><td class=\"tdhistory791713\">caso3_final</td><td class=\"tdhistory791713\">VATP015_N</td><td class=\"tdhistory791713\">1.993493e+06</td><td class=\"tdhistory791713\">0</td><td class=\"tdhistory791713\">500</td><td class=\"tdhistory791713\">170.92038647740424</td><td class=\"tdhistory791713\">51.795663191370764</td><td class=\"tdhistory791713\">0.3495468958747529</td><td class=\"tdhistory791713\">0.1414444302726</td><td class=\"tdhistory791713\">0.03668479028014966</td><td class=\"tdhistory791713\">30.303970321421065</td><td class=\"tdhistory791713\">2682.79072543392</td><td class=\"tdhistory791713\">3.40728594e+08</td><td class=\"tdhistory791713\">6.3585587502e+10</td><td class=\"tdhistory791713\">5.348124531617442e+09</td><td class=\"tdhistory791713\">DECIMAL(15,0)</td><td class=\"tdhistory791713\">0</td><td class=\"tdhistory791713\">456</td><td class=\"tdhistory791713\"></td><td class=\"tdhistory791713\">1</td><td class=\"tdhistory791713\">1.993492e+06</td><td class=\"tdhistory791713\">0</td><td class=\"tdhistory791713\">166</td><td class=\"tdhistory791713\">15560</td><td class=\"tdhistory791713\">0.7805394852151475</td><td class=\"tdhistory791713\">1</td><td class=\"tdhistory791713\">0</td><td class=\"tdhistory791713\">64</td><td class=\"tdhistory791713\">75</td><td class=\"tdhistory791713\">82</td><td class=\"tdhistory791713\">87</td><td class=\"tdhistory791713\">91</td><td class=\"tdhistory791713\">95</td><td class=\"tdhistory791713\">98</td><td class=\"tdhistory791713\">101</td><td class=\"tdhistory791713\">104</td><td class=\"tdhistory791713\">107</td><td class=\"tdhistory791713\">126</td><td class=\"tdhistory791713\">134</td><td class=\"tdhistory791713\">142</td><td class=\"tdhistory791713\">146</td><td class=\"tdhistory791713\">155</td><td class=\"tdhistory791713\">168</td><td class=\"tdhistory791713\">181</td><td class=\"tdhistory791713\">191</td><td class=\"tdhistory791713\">196</td><td class=\"tdhistory791713\">204</td><td class=\"tdhistory791713\">214</td><td class=\"tdhistory791713\">239</td><td class=\"tdhistory791713\">243</td><td class=\"tdhistory791713\">246</td><td class=\"tdhistory791713\">251</td><td class=\"tdhistory791713\">255</td><td class=\"tdhistory791713\">261</td><td class=\"tdhistory791713\">267</td><td class=\"tdhistory791713\">276</td><td class=\"tdhistory791713\">287</td><td class=\"tdhistory791713\">304</td><td class=\"tdhistory791713\">500</td><td class=\"tdhistory791713\">0</td><td class=\"tdhistory791713\">3</td><td class=\"tdhistory791713\">4</td><td class=\"tdhistory791713\">5</td><td class=\"tdhistory791713\">6</td><td class=\"tdhistory791713\">1</td><td class=\"tdhistory791713\">1</td><td class=\"tdhistory791713\">1</td><td class=\"tdhistory791713\">1</td><td class=\"tdhistory791713\">4</td><td class=\"tdhistory791713\">482</td><td class=\"tdhistory791713\">485</td><td class=\"tdhistory791713\">486</td><td class=\"tdhistory791713\">487</td><td class=\"tdhistory791713\">500</td><td class=\"tdhistory791713\">1</td><td class=\"tdhistory791713\">1</td><td class=\"tdhistory791713\">1</td><td class=\"tdhistory791713\">1</td><td class=\"tdhistory791713\">1</td></tr><tr><th class=\"tdhistory791713\" style= \"background: rgba(243, 243, 243, 0.75)\">14</th><td class=\"tdhistory791713\">DW_LANDING</td><td class=\"tdhistory791713\">caso3_final</td><td class=\"tdhistory791713\">VATP016_N</td><td class=\"tdhistory791713\">1.993493e+06</td><td class=\"tdhistory791713\">820</td><td class=\"tdhistory791713\">2.202341e+06</td><td class=\"tdhistory791713\">754249.9648381007</td><td class=\"tdhistory791713\">227898.03229723964</td><td class=\"tdhistory791713\">0.3495817044457622</td><td class=\"tdhistory791713\">0.14142037914650893</td><td class=\"tdhistory791713\">161.41103337539394</td><td class=\"tdhistory791713\">30.215186333639114</td><td class=\"tdhistory791713\">5.193751312495368e+10</td><td class=\"tdhistory791713\">1.503592025155e+12</td><td class=\"tdhistory791713\">1.2376213009560108e+18</td><td class=\"tdhistory791713\">1.0353706885200328e+17</td><td class=\"tdhistory791713\">DECIMAL(15,0)</td><td class=\"tdhistory791713\">0</td><td class=\"tdhistory791713\">806023</td><td class=\"tdhistory791713\"></td><td class=\"tdhistory791713\">0</td><td class=\"tdhistory791713\">1.993493e+06</td><td class=\"tdhistory791713\">0</td><td class=\"tdhistory791713\">823583</td><td class=\"tdhistory791713\">15</td><td class=\"tdhistory791713\">0.0007524480898603607</td><td class=\"tdhistory791713\">1</td><td class=\"tdhistory791713\">820</td><td class=\"tdhistory791713\">285881</td><td class=\"tdhistory791713\">331249</td><td class=\"tdhistory791713\">361160</td><td class=\"tdhistory791713\">384276</td><td class=\"tdhistory791713\">403176</td><td class=\"tdhistory791713\">419775</td><td class=\"tdhistory791713\">434363</td><td class=\"tdhistory791713\">447555</td><td class=\"tdhistory791713\">459909</td><td class=\"tdhistory791713\">471320</td><td class=\"tdhistory791713\">558691</td><td class=\"tdhistory791713\">593333</td><td class=\"tdhistory791713\">625147</td><td class=\"tdhistory791713\">643248</td><td class=\"tdhistory791713\">684014</td><td class=\"tdhistory791713\">740856</td><td class=\"tdhistory791713\">799613</td><td class=\"tdhistory791713\">843760</td><td class=\"tdhistory791713\">864042</td><td class=\"tdhistory791713\">900601</td><td class=\"tdhistory791713\">941754</td><td class=\"tdhistory791713\">1.054225e+06</td><td class=\"tdhistory791713\">1.069705e+06</td><td class=\"tdhistory791713\">1.0865e+06</td><td class=\"tdhistory791713\">1.10523e+06</td><td class=\"tdhistory791713\">1.126393e+06</td><td class=\"tdhistory791713\">1.150435e+06</td><td class=\"tdhistory791713\">1.179128e+06</td><td class=\"tdhistory791713\">1.214826e+06</td><td class=\"tdhistory791713\">1.26293e+06</td><td class=\"tdhistory791713\">1.340608e+06</td><td class=\"tdhistory791713\">2.202341e+06</td><td class=\"tdhistory791713\">820</td><td class=\"tdhistory791713\">15597</td><td class=\"tdhistory791713\">19206</td><td class=\"tdhistory791713\">25098</td><td class=\"tdhistory791713\">27320</td><td class=\"tdhistory791713\">1</td><td class=\"tdhistory791713\">1</td><td class=\"tdhistory791713\">1</td><td class=\"tdhistory791713\">1</td><td class=\"tdhistory791713\">1</td><td class=\"tdhistory791713\">2.121428e+06</td><td class=\"tdhistory791713\">2.13447e+06</td><td class=\"tdhistory791713\">2.140422e+06</td><td class=\"tdhistory791713\">2.143599e+06</td><td class=\"tdhistory791713\">2.202341e+06</td><td class=\"tdhistory791713\">1</td><td class=\"tdhistory791713\">1</td><td class=\"tdhistory791713\">1</td><td class=\"tdhistory791713\">1</td><td class=\"tdhistory791713\">1</td></tr><tr><th class=\"tdhistory791713\" style= \"background: rgba(243, 243, 243, 0.75)\">15</th><td class=\"tdhistory791713\">DW_LANDING</td><td class=\"tdhistory791713\">caso3_final</td><td class=\"tdhistory791713\">VATP017_N</td><td class=\"tdhistory791713\">1.993493e+06</td><td class=\"tdhistory791713\">0</td><td class=\"tdhistory791713\">1.730696e+06</td><td class=\"tdhistory791713\">128067.81653208715</td><td class=\"tdhistory791713\">188160.04275404057</td><td class=\"tdhistory791713\">1.6699052924474815</td><td class=\"tdhistory791713\">2.5892816917959007</td><td class=\"tdhistory791713\">133.26620960586442</td><td class=\"tdhistory791713\">146.9221915772238</td><td class=\"tdhistory791713\">3.540420168920237e+10</td><td class=\"tdhistory791713\">2.55302295782e+11</td><td class=\"tdhistory791713\">1.0327403581444293e+17</td><td class=\"tdhistory791713\">7.05780282380131e+16</td><td class=\"tdhistory791713\">DECIMAL(15,0)</td><td class=\"tdhistory791713\">0</td><td class=\"tdhistory791713\">497197</td><td class=\"tdhistory791713\"></td><td class=\"tdhistory791713\">996765</td><td class=\"tdhistory791713\">996728</td><td class=\"tdhistory791713\">0</td><td class=\"tdhistory791713\">0</td><td class=\"tdhistory791713\">996765</td><td class=\"tdhistory791713\">50.00092801931083</td><td class=\"tdhistory791713\">1</td><td class=\"tdhistory791713\">0</td><td class=\"tdhistory791713\">0</td><td class=\"tdhistory791713\">0</td><td class=\"tdhistory791713\">0</td><td class=\"tdhistory791713\">0</td><td class=\"tdhistory791713\">0</td><td class=\"tdhistory791713\">0</td><td class=\"tdhistory791713\">0</td><td class=\"tdhistory791713\">0</td><td class=\"tdhistory791713\">0</td><td class=\"tdhistory791713\">0</td><td class=\"tdhistory791713\">0</td><td class=\"tdhistory791713\">0</td><td class=\"tdhistory791713\">0</td><td class=\"tdhistory791713\">0</td><td class=\"tdhistory791713\">0</td><td class=\"tdhistory791713\">0</td><td class=\"tdhistory791713\">80914</td><td class=\"tdhistory791713\">140489</td><td class=\"tdhistory791713\">167479</td><td class=\"tdhistory791713\">215705</td><td class=\"tdhistory791713\">269282</td><td class=\"tdhistory791713\">410862</td><td class=\"tdhistory791713\">430174</td><td class=\"tdhistory791713\">451274</td><td class=\"tdhistory791713\">474276</td><td class=\"tdhistory791713\">499872</td><td class=\"tdhistory791713\">529328</td><td class=\"tdhistory791713\">563610</td><td class=\"tdhistory791713\">606276</td><td class=\"tdhistory791713\">662868</td><td class=\"tdhistory791713\">752879</td><td class=\"tdhistory791713\">1.730696e+06</td><td class=\"tdhistory791713\">0</td><td class=\"tdhistory791713\">1</td><td class=\"tdhistory791713\">2</td><td class=\"tdhistory791713\">3</td><td class=\"tdhistory791713\">4</td><td class=\"tdhistory791713\">996765</td><td class=\"tdhistory791713\">3</td><td class=\"tdhistory791713\">1</td><td class=\"tdhistory791713\">1</td><td class=\"tdhistory791713\">1</td><td class=\"tdhistory791713\">1.566802e+06</td><td class=\"tdhistory791713\">1.570906e+06</td><td class=\"tdhistory791713\">1.585858e+06</td><td class=\"tdhistory791713\">1.644203e+06</td><td class=\"tdhistory791713\">1.730696e+06</td><td class=\"tdhistory791713\">1</td><td class=\"tdhistory791713\">1</td><td class=\"tdhistory791713\">1</td><td class=\"tdhistory791713\">1</td><td class=\"tdhistory791713\">1</td></tr><tr><th class=\"tdhistory791713\" style= \"background: rgba(243, 243, 243, 0.75)\">16</th><td class=\"tdhistory791713\">DW_LANDING</td><td class=\"tdhistory791713\">caso3_final</td><td class=\"tdhistory791713\">VATP018_N</td><td class=\"tdhistory791713\">1.993493e+06</td><td class=\"tdhistory791713\">0</td><td class=\"tdhistory791713\">28</td><td class=\"tdhistory791713\">2.2134469496506886</td><td class=\"tdhistory791713\">3.261290143092606</td><td class=\"tdhistory791713\">1.655790118045776</td><td class=\"tdhistory791713\">2.502479885203444</td><td class=\"tdhistory791713\">0.0023098409706626497</td><td class=\"tdhistory791713\">147.33988287396187</td><td class=\"tdhistory791713\">10.63601339743299</td><td class=\"tdhistory791713\">4.412491e+06</td><td class=\"tdhistory791713\">3.0969633e+07</td><td class=\"tdhistory791713\">2.1202818255688883e+07</td><td class=\"tdhistory791713\">INTEGER</td><td class=\"tdhistory791713\">0</td><td class=\"tdhistory791713\">29</td><td class=\"tdhistory791713\"></td><td class=\"tdhistory791713\">1.068601e+06</td><td class=\"tdhistory791713\">924892</td><td class=\"tdhistory791713\">0</td><td class=\"tdhistory791713\">0</td><td class=\"tdhistory791713\">1.068601e+06</td><td class=\"tdhistory791713\">53.60445208485809</td><td class=\"tdhistory791713\">1</td><td class=\"tdhistory791713\">0</td><td class=\"tdhistory791713\">0</td><td class=\"tdhistory791713\">0</td><td class=\"tdhistory791713\">0</td><td class=\"tdhistory791713\">0</td><td class=\"tdhistory791713\">0</td><td class=\"tdhistory791713\">0</td><td class=\"tdhistory791713\">0</td><td class=\"tdhistory791713\">0</td><td class=\"tdhistory791713\">0</td><td class=\"tdhistory791713\">0</td><td class=\"tdhistory791713\">0</td><td class=\"tdhistory791713\">0</td><td class=\"tdhistory791713\">0</td><td class=\"tdhistory791713\">0</td><td class=\"tdhistory791713\">0</td><td class=\"tdhistory791713\">0</td><td class=\"tdhistory791713\">1</td><td class=\"tdhistory791713\">2</td><td class=\"tdhistory791713\">3</td><td class=\"tdhistory791713\">4</td><td class=\"tdhistory791713\">5</td><td class=\"tdhistory791713\">7</td><td class=\"tdhistory791713\">7</td><td class=\"tdhistory791713\">8</td><td class=\"tdhistory791713\">8</td><td class=\"tdhistory791713\">9</td><td class=\"tdhistory791713\">9</td><td class=\"tdhistory791713\">10</td><td class=\"tdhistory791713\">10</td><td class=\"tdhistory791713\">11</td><td class=\"tdhistory791713\">13</td><td class=\"tdhistory791713\">28</td><td class=\"tdhistory791713\">0</td><td class=\"tdhistory791713\">1</td><td class=\"tdhistory791713\">2</td><td class=\"tdhistory791713\">3</td><td class=\"tdhistory791713\">4</td><td class=\"tdhistory791713\">1.068601e+06</td><td class=\"tdhistory791713\">141290</td><td class=\"tdhistory791713\">134415</td><td class=\"tdhistory791713\">123480</td><td class=\"tdhistory791713\">110423</td><td class=\"tdhistory791713\">24</td><td class=\"tdhistory791713\">25</td><td class=\"tdhistory791713\">26</td><td class=\"tdhistory791713\">27</td><td class=\"tdhistory791713\">28</td><td class=\"tdhistory791713\">19</td><td class=\"tdhistory791713\">8</td><td class=\"tdhistory791713\">6</td><td class=\"tdhistory791713\">2</td><td class=\"tdhistory791713\">1</td></tr><tr><th class=\"tdhistory791713\" style= \"background: rgba(243, 243, 243, 0.75)\">17</th><td class=\"tdhistory791713\">DW_LANDING</td><td class=\"tdhistory791713\">caso3_final</td><td class=\"tdhistory791713\">VATP019_N</td><td class=\"tdhistory791713\">1.993493e+06</td><td class=\"tdhistory791713\">0</td><td class=\"tdhistory791713\">27</td><td class=\"tdhistory791713\">2.161984516624839</td><td class=\"tdhistory791713\">3.185136567139814</td><td class=\"tdhistory791713\">1.6533907535819687</td><td class=\"tdhistory791713\">2.4873334366535396</td><td class=\"tdhistory791713\">0.00225590444797368</td><td class=\"tdhistory791713\">147.32467058146463</td><td class=\"tdhistory791713\">10.1450949513312</td><td class=\"tdhistory791713\">4.309901e+06</td><td class=\"tdhistory791713\">2.9542115e+07</td><td class=\"tdhistory791713\">2.022417576981409e+07</td><td class=\"tdhistory791713\">INTEGER</td><td class=\"tdhistory791713\">0</td><td class=\"tdhistory791713\">28</td><td class=\"tdhistory791713\"></td><td class=\"tdhistory791713\">1.070393e+06</td><td class=\"tdhistory791713\">923100</td><td class=\"tdhistory791713\">0</td><td class=\"tdhistory791713\">0</td><td class=\"tdhistory791713\">1.070393e+06</td><td class=\"tdhistory791713\">53.6943445499934</td><td class=\"tdhistory791713\">1</td><td class=\"tdhistory791713\">0</td><td class=\"tdhistory791713\">0</td><td class=\"tdhistory791713\">0</td><td class=\"tdhistory791713\">0</td><td class=\"tdhistory791713\">0</td><td class=\"tdhistory791713\">0</td><td class=\"tdhistory791713\">0</td><td class=\"tdhistory791713\">0</td><td class=\"tdhistory791713\">0</td><td class=\"tdhistory791713\">0</td><td class=\"tdhistory791713\">0</td><td class=\"tdhistory791713\">0</td><td class=\"tdhistory791713\">0</td><td class=\"tdhistory791713\">0</td><td class=\"tdhistory791713\">0</td><td class=\"tdhistory791713\">0</td><td class=\"tdhistory791713\">0</td><td class=\"tdhistory791713\">1</td><td class=\"tdhistory791713\">2</td><td class=\"tdhistory791713\">3</td><td class=\"tdhistory791713\">4</td><td class=\"tdhistory791713\">5</td><td class=\"tdhistory791713\">7</td><td class=\"tdhistory791713\">7</td><td class=\"tdhistory791713\">8</td><td class=\"tdhistory791713\">8</td><td class=\"tdhistory791713\">8</td><td class=\"tdhistory791713\">9</td><td class=\"tdhistory791713\">10</td><td class=\"tdhistory791713\">10</td><td class=\"tdhistory791713\">11</td><td class=\"tdhistory791713\">13</td><td class=\"tdhistory791713\">27</td><td class=\"tdhistory791713\">0</td><td class=\"tdhistory791713\">1</td><td class=\"tdhistory791713\">2</td><td class=\"tdhistory791713\">3</td><td class=\"tdhistory791713\">4</td><td class=\"tdhistory791713\">1.070393e+06</td><td class=\"tdhistory791713\">144197</td><td class=\"tdhistory791713\">137045</td><td class=\"tdhistory791713\">125994</td><td class=\"tdhistory791713\">111488</td><td class=\"tdhistory791713\">23</td><td class=\"tdhistory791713\">24</td><td class=\"tdhistory791713\">25</td><td class=\"tdhistory791713\">26</td><td class=\"tdhistory791713\">27</td><td class=\"tdhistory791713\">23</td><td class=\"tdhistory791713\">11</td><td class=\"tdhistory791713\">7</td><td class=\"tdhistory791713\">4</td><td class=\"tdhistory791713\">1</td></tr><tr><th class=\"tdhistory791713\" style= \"background: rgba(243, 243, 243, 0.75)\">18</th><td class=\"tdhistory791713\">DW_LANDING</td><td class=\"tdhistory791713\">caso3_final</td><td class=\"tdhistory791713\">VATP020_N</td><td class=\"tdhistory791713\">1.993493e+06</td><td class=\"tdhistory791713\">0</td><td class=\"tdhistory791713\">4</td><td class=\"tdhistory791713\">0.20272456437017838</td><td class=\"tdhistory791713\">0.4504983403674994</td><td class=\"tdhistory791713\">2.202634801799077</td><td class=\"tdhistory791713\">4.680802390691977</td><td class=\"tdhistory791713\">0.0003190699012169522</td><td class=\"tdhistory791713\">222.2218810863404</td><td class=\"tdhistory791713\">0.20294875467387136</td><td class=\"tdhistory791713\">404130</td><td class=\"tdhistory791713\">486504</td><td class=\"tdhistory791713\">404576.9218010798</td><td class=\"tdhistory791713\">INTEGER</td><td class=\"tdhistory791713\">0</td><td class=\"tdhistory791713\">5</td><td class=\"tdhistory791713\"></td><td class=\"tdhistory791713\">1.628464e+06</td><td class=\"tdhistory791713\">365029</td><td class=\"tdhistory791713\">0</td><td class=\"tdhistory791713\">0</td><td class=\"tdhistory791713\">1.628464e+06</td><td class=\"tdhistory791713\">81.68897508042416</td><td class=\"tdhistory791713\">1</td><td class=\"tdhistory791713\">0</td><td class=\"tdhistory791713\">0</td><td class=\"tdhistory791713\">0</td><td class=\"tdhistory791713\">0</td><td class=\"tdhistory791713\">0</td><td class=\"tdhistory791713\">0</td><td class=\"tdhistory791713\">0</td><td class=\"tdhistory791713\">0</td><td class=\"tdhistory791713\">0</td><td class=\"tdhistory791713\">0</td><td class=\"tdhistory791713\">0</td><td class=\"tdhistory791713\">0</td><td class=\"tdhistory791713\">0</td><td class=\"tdhistory791713\">0</td><td class=\"tdhistory791713\">0</td><td class=\"tdhistory791713\">0</td><td class=\"tdhistory791713\">0</td><td class=\"tdhistory791713\">0</td><td class=\"tdhistory791713\">0</td><td class=\"tdhistory791713\">0</td><td class=\"tdhistory791713\">0</td><td class=\"tdhistory791713\">0</td><td class=\"tdhistory791713\">1</td><td class=\"tdhistory791713\">1</td><td class=\"tdhistory791713\">1</td><td class=\"tdhistory791713\">1</td><td class=\"tdhistory791713\">1</td><td class=\"tdhistory791713\">1</td><td class=\"tdhistory791713\">1</td><td class=\"tdhistory791713\">1</td><td class=\"tdhistory791713\">1</td><td class=\"tdhistory791713\">2</td><td class=\"tdhistory791713\">4</td><td class=\"tdhistory791713\">0</td><td class=\"tdhistory791713\">1</td><td class=\"tdhistory791713\">2</td><td class=\"tdhistory791713\">3</td><td class=\"tdhistory791713\">4</td><td class=\"tdhistory791713\">1.628464e+06</td><td class=\"tdhistory791713\">327956</td><td class=\"tdhistory791713\">35103</td><td class=\"tdhistory791713\">1912</td><td class=\"tdhistory791713\">58</td><td class=\"tdhistory791713\">0</td><td class=\"tdhistory791713\">1</td><td class=\"tdhistory791713\">2</td><td class=\"tdhistory791713\">3</td><td class=\"tdhistory791713\">4</td><td class=\"tdhistory791713\">1.628464e+06</td><td class=\"tdhistory791713\">327956</td><td class=\"tdhistory791713\">35103</td><td class=\"tdhistory791713\">1912</td><td class=\"tdhistory791713\">58</td></tr></tbody></table></div>"
      ]
     },
     "execution_count": 26,
     "metadata": {
      "application/vnd.teradata.resultset": "{\"resultSetID\":\"/teradata/proyecto/Teradata/Resultsets/2023.11.03_01.22.00.814_UTC\",\"historyID\":2134,\"chunkID\":\"00001\",\"sessionid\":\"\",\"portnum\":\"\",\"dockermode\":\"standalone\",\"totalRowCount\":18,\"chunkCount\":0,\"rowLimit\":0,\"columnMetadata\":[{\"columnName\":\"xdb\",\"columnTypeName\":\"VARCHAR\",\"length\":128,\"scale\":128},{\"columnNumber\":1,\"columnName\":\"xtbl\",\"columnTypeName\":\"VARCHAR\",\"length\":128,\"scale\":128},{\"columnNumber\":2,\"columnName\":\"xcol\",\"columnTypeName\":\"VARCHAR\",\"length\":128,\"scale\":128},{\"columnNumber\":3,\"columnName\":\"xcnt\",\"columnTypeName\":\"FLOAT\"},{\"columnNumber\":4,\"columnName\":\"xmin\",\"columnTypeName\":\"FLOAT\"},{\"columnNumber\":5,\"columnName\":\"xmax\",\"columnTypeName\":\"FLOAT\"},{\"columnNumber\":6,\"columnName\":\"xmean\",\"columnTypeName\":\"FLOAT\"},{\"columnNumber\":7,\"columnName\":\"xstd\",\"columnTypeName\":\"FLOAT\"},{\"columnNumber\":8,\"columnName\":\"xskew\",\"columnTypeName\":\"FLOAT\"},{\"columnNumber\":9,\"columnName\":\"xkurt\",\"columnTypeName\":\"FLOAT\"},{\"columnNumber\":10,\"columnName\":\"xste\",\"columnTypeName\":\"FLOAT\"},{\"columnNumber\":11,\"columnName\":\"xcv\",\"columnTypeName\":\"FLOAT\"},{\"columnNumber\":12,\"columnName\":\"xvar\",\"columnTypeName\":\"FLOAT\"},{\"columnNumber\":13,\"columnName\":\"xsum\",\"columnTypeName\":\"FLOAT\"},{\"columnNumber\":14,\"columnName\":\"xuss\",\"columnTypeName\":\"FLOAT\"},{\"columnNumber\":15,\"columnName\":\"xcss\",\"columnTypeName\":\"FLOAT\"},{\"columnNumber\":16,\"columnName\":\"xtype\",\"columnTypeName\":\"VARCHAR\",\"length\":50,\"scale\":50},{\"columnNumber\":17,\"columnName\":\"xnull\",\"columnTypeName\":\"FLOAT\"},{\"columnNumber\":18,\"columnName\":\"xnique\",\"columnTypeName\":\"FLOAT\"},{\"columnNumber\":19,\"columnName\":\"xblank\",\"columnTypeName\":\"FLOAT\"},{\"columnNumber\":20,\"columnName\":\"xzero\",\"columnTypeName\":\"FLOAT\"},{\"columnNumber\":21,\"columnName\":\"xpos\",\"columnTypeName\":\"FLOAT\"},{\"columnNumber\":22,\"columnName\":\"xneg\",\"columnTypeName\":\"FLOAT\"},{\"columnNumber\":23,\"columnName\":\"xmode\",\"columnTypeName\":\"FLOAT\"},{\"columnNumber\":24,\"columnName\":\"xmode_cnt\",\"columnTypeName\":\"FLOAT\"},{\"columnNumber\":25,\"columnName\":\"xmode_pct\",\"columnTypeName\":\"FLOAT\"},{\"columnNumber\":26,\"columnName\":\"xnbrmodes\",\"columnTypeName\":\"FLOAT\"},{\"columnNumber\":27,\"columnName\":\"xpctile0\",\"columnTypeName\":\"FLOAT\"},{\"columnNumber\":28,\"columnName\":\"xpctile1\",\"columnTypeName\":\"FLOAT\"},{\"columnNumber\":29,\"columnName\":\"xpctile2\",\"columnTypeName\":\"FLOAT\"},{\"columnNumber\":30,\"columnName\":\"xpctile3\",\"columnTypeName\":\"FLOAT\"},{\"columnNumber\":31,\"columnName\":\"xpctile4\",\"columnTypeName\":\"FLOAT\"},{\"columnNumber\":32,\"columnName\":\"xpctile5\",\"columnTypeName\":\"FLOAT\"},{\"columnNumber\":33,\"columnName\":\"xpctile6\",\"columnTypeName\":\"FLOAT\"},{\"columnNumber\":34,\"columnName\":\"xpctile7\",\"columnTypeName\":\"FLOAT\"},{\"columnNumber\":35,\"columnName\":\"xpctile8\",\"columnTypeName\":\"FLOAT\"},{\"columnNumber\":36,\"columnName\":\"xpctile9\",\"columnTypeName\":\"FLOAT\"},{\"columnNumber\":37,\"columnName\":\"xpctile10\",\"columnTypeName\":\"FLOAT\"},{\"columnNumber\":38,\"columnName\":\"xpctile20\",\"columnTypeName\":\"FLOAT\"},{\"columnNumber\":39,\"columnName\":\"xpctile25\",\"columnTypeName\":\"FLOAT\"},{\"columnNumber\":40,\"columnName\":\"xpctile30\",\"columnTypeName\":\"FLOAT\"},{\"columnNumber\":41,\"columnName\":\"xpctile33\",\"columnTypeName\":\"FLOAT\"},{\"columnNumber\":42,\"columnName\":\"xpctile40\",\"columnTypeName\":\"FLOAT\"},{\"columnNumber\":43,\"columnName\":\"xpctile50\",\"columnTypeName\":\"FLOAT\"},{\"columnNumber\":44,\"columnName\":\"xpctile60\",\"columnTypeName\":\"FLOAT\"},{\"columnNumber\":45,\"columnName\":\"xpctile67\",\"columnTypeName\":\"FLOAT\"},{\"columnNumber\":46,\"columnName\":\"xpctile70\",\"columnTypeName\":\"FLOAT\"},{\"columnNumber\":47,\"columnName\":\"xpctile75\",\"columnTypeName\":\"FLOAT\"},{\"columnNumber\":48,\"columnName\":\"xpctile80\",\"columnTypeName\":\"FLOAT\"},{\"columnNumber\":49,\"columnName\":\"xpctile90\",\"columnTypeName\":\"FLOAT\"},{\"columnNumber\":50,\"columnName\":\"xpctile91\",\"columnTypeName\":\"FLOAT\"},{\"columnNumber\":51,\"columnName\":\"xpctile92\",\"columnTypeName\":\"FLOAT\"},{\"columnNumber\":52,\"columnName\":\"xpctile93\",\"columnTypeName\":\"FLOAT\"},{\"columnNumber\":53,\"columnName\":\"xpctile94\",\"columnTypeName\":\"FLOAT\"},{\"columnNumber\":54,\"columnName\":\"xpctile95\",\"columnTypeName\":\"FLOAT\"},{\"columnNumber\":55,\"columnName\":\"xpctile96\",\"columnTypeName\":\"FLOAT\"},{\"columnNumber\":56,\"columnName\":\"xpctile97\",\"columnTypeName\":\"FLOAT\"},{\"columnNumber\":57,\"columnName\":\"xpctile98\",\"columnTypeName\":\"FLOAT\"},{\"columnNumber\":58,\"columnName\":\"xpctile99\",\"columnTypeName\":\"FLOAT\"},{\"columnNumber\":59,\"columnName\":\"xpctile100\",\"columnTypeName\":\"FLOAT\"},{\"columnNumber\":60,\"columnName\":\"xmin_1\",\"columnTypeName\":\"FLOAT\"},{\"columnNumber\":61,\"columnName\":\"xmin_2\",\"columnTypeName\":\"FLOAT\"},{\"columnNumber\":62,\"columnName\":\"xmin_3\",\"columnTypeName\":\"FLOAT\"},{\"columnNumber\":63,\"columnName\":\"xmin_4\",\"columnTypeName\":\"FLOAT\"},{\"columnNumber\":64,\"columnName\":\"xmin_5\",\"columnTypeName\":\"FLOAT\"},{\"columnNumber\":65,\"columnName\":\"xmincnt_1\",\"columnTypeName\":\"FLOAT\"},{\"columnNumber\":66,\"columnName\":\"xmincnt_2\",\"columnTypeName\":\"FLOAT\"},{\"columnNumber\":67,\"columnName\":\"xmincnt_3\",\"columnTypeName\":\"FLOAT\"},{\"columnNumber\":68,\"columnName\":\"xmincnt_4\",\"columnTypeName\":\"FLOAT\"},{\"columnNumber\":69,\"columnName\":\"xmincnt_5\",\"columnTypeName\":\"FLOAT\"},{\"columnNumber\":70,\"columnName\":\"xmax_5\",\"columnTypeName\":\"FLOAT\"},{\"columnNumber\":71,\"columnName\":\"xmax_4\",\"columnTypeName\":\"FLOAT\"},{\"columnNumber\":72,\"columnName\":\"xmax_3\",\"columnTypeName\":\"FLOAT\"},{\"columnNumber\":73,\"columnName\":\"xmax_2\",\"columnTypeName\":\"FLOAT\"},{\"columnNumber\":74,\"columnName\":\"xmax_1\",\"columnTypeName\":\"FLOAT\"},{\"columnNumber\":75,\"columnName\":\"xmaxcnt_5\",\"columnTypeName\":\"FLOAT\"},{\"columnNumber\":76,\"columnName\":\"xmaxcnt_4\",\"columnTypeName\":\"FLOAT\"},{\"columnNumber\":77,\"columnName\":\"xmaxcnt_3\",\"columnTypeName\":\"FLOAT\"},{\"columnNumber\":78,\"columnName\":\"xmaxcnt_2\",\"columnTypeName\":\"FLOAT\"},{\"columnNumber\":79,\"columnName\":\"xmaxcnt_1\",\"columnTypeName\":\"FLOAT\"}]}"
     },
     "output_type": "execute_result"
    }
   ],
   "source": [
    "call val.td_analyze ('statistics',\n",
    "'database = DW_LANDING;\n",
    "tablename = caso3_final;\n",
    "statsoptions = all;\n",
    "extendedoptions = all;\n",
    "columns = allnumeric;');"
   ]
  },
  {
   "cell_type": "markdown",
   "id": "55a3525f-a917-4929-a058-9b926c2ae6c3",
   "metadata": {},
   "source": [
    "### Anomaly Detection con OneClassSVM"
   ]
  },
  {
   "cell_type": "code",
   "execution_count": null,
   "id": "43ef032e-33bd-4bad-a69d-e1fdf046cfda",
   "metadata": {},
   "outputs": [],
   "source": [
    "CREATE VIEW caso3_train AS SEL * FROM caso3_final SAMPLE 90000;"
   ]
  },
  {
   "cell_type": "code",
   "execution_count": null,
   "id": "affc86fd-4821-429d-9c66-08f511bd7142",
   "metadata": {},
   "outputs": [],
   "source": [
    "CREATE MULTISET TABLE oneclasssvm_model AS(\n",
    "SELECT * FROM TD_OneClassSVM(\n",
    "  ON caso3_train AS InputTable\n",
    "  USING\n",
    "    InputColumns('VATP009_N','VATP010_N','VATP011_N','VATP015_N','VATP016_N','VATP017_N')\n",
    "    Tolerance(1e-7)\n",
    "    BatchSize(30)\n",
    "    LearningRate('constant')\n",
    "    InitialEta (0.01)\n",
    "    RegularizationLambda(0.1)\n",
    "    Alpha(0)\n",
    "    Momentum (0.0)\n",
    "    Nesterov ('false')\n",
    "    MaxIterNum (150)\n",
    ") AS dt\n",
    ") WITH DATA;"
   ]
  },
  {
   "cell_type": "code",
   "execution_count": null,
   "id": "1810fa58-0f66-44f6-8b0f-59cdc05f5e31",
   "metadata": {},
   "outputs": [],
   "source": [
    "CREATE MULTISET TABLE caso3_onesvm AS (\n",
    "    SELECT * from TD_OneClassSVMPredict(\n",
    "        ON caso3_final AS InputTable PARTITION BY ANY\n",
    "        ON oneclasssvm_model AS ModelTable DIMENSION\n",
    "        USING\n",
    "        IDColumn('index_label')\n",
    "        Accumulate('tar')\n",
    "        OutputProb('t') \n",
    "    ) AS dt\n",
    ") WITH DATA;"
   ]
  },
  {
   "cell_type": "code",
   "execution_count": null,
   "id": "3cc31576-7cde-4d72-8e66-d6897dbcbdf4",
   "metadata": {},
   "outputs": [],
   "source": [
    "SEL TOP 10 * FROM caso3_onesvm;"
   ]
  },
  {
   "cell_type": "code",
   "execution_count": null,
   "id": "2b8a32bb-bdad-4421-93ca-187ea71fee3b",
   "metadata": {},
   "outputs": [],
   "source": [
    "SEL prediction, COUNT(1) N FROM caso3_onesvm GROUP BY 1;"
   ]
  },
  {
   "cell_type": "markdown",
   "id": "a3751fa6-5208-4505-a62d-15692218fc2a",
   "metadata": {},
   "source": [
    "### Limpiando las tablas creadas"
   ]
  },
  {
   "cell_type": "code",
   "execution_count": 27,
   "id": "c762a949-fc17-4da0-b7ff-dac864531b39",
   "metadata": {},
   "outputs": [
    {
     "data": {
      "text/plain": [
       "Success: 37 rows affected"
      ]
     },
     "execution_count": 27,
     "metadata": {
      "application/vnd.teradata.resultset": ""
     },
     "output_type": "execute_result"
    }
   ],
   "source": [
    "DROP TABLE DW_LANDING.caso3_df7;"
   ]
  },
  {
   "cell_type": "code",
   "execution_count": null,
   "id": "fe5fd026-8595-4c5c-b60b-0e655240fed3",
   "metadata": {},
   "outputs": [],
   "source": [
    "DROP TABLE DW_LANDING.caso3_train;"
   ]
  },
  {
   "cell_type": "code",
   "execution_count": null,
   "id": "a13a2666-fb04-42fb-af0f-c765bada3263",
   "metadata": {},
   "outputs": [],
   "source": [
    "DROP TABLE DW_LANDING.caso3_onesvm;"
   ]
  },
  {
   "cell_type": "markdown",
   "id": "857be636",
   "metadata": {},
   "source": [
    "Copyright 2023. Elaborado por Luis Cajachahua bajo licencia MIT"
   ]
  }
 ],
 "metadata": {
  "kernelspec": {
   "display_name": "Teradata SQL",
   "language": "Teradata SQL",
   "name": "teradatasql"
  },
  "language_info": {
   "codemirror_mode": "Teradata SQL",
   "file_extension": ".tdrs",
   "mimetype": "application/vnd.teradata.resultset",
   "name": "Teradata SQL",
   "nbconvert_exporter": "",
   "pygments_lexer": "",
   "version": "16.20"
  }
 },
 "nbformat": 4,
 "nbformat_minor": 5
}
